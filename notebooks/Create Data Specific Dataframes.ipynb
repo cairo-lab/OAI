{
 "cells": [
  {
   "cell_type": "markdown",
   "id": "comprehensive-shoot",
   "metadata": {},
   "source": [
    "# Create Data Specific Dataframes\n",
    "Each data set is examined and concatenated in a way that makes the most sense for that set. Further, column types are set for more efficient storage."
   ]
  },
  {
   "cell_type": "markdown",
   "id": "pending-massage",
   "metadata": {},
   "source": [
    "## Imports / Definitions"
   ]
  },
  {
   "cell_type": "code",
   "execution_count": null,
   "id": "surprising-shuttle",
   "metadata": {},
   "outputs": [],
   "source": [
    "import os\n",
    "import pandas as pd\n",
    "import pickle\n",
    "import pyreadstat\n",
    "from tqdm import tqdm\n",
    "import datetime\n",
    "import re"
   ]
  },
  {
   "cell_type": "code",
   "execution_count": null,
   "id": "blank-testimony",
   "metadata": {},
   "outputs": [],
   "source": [
    "# Constants\n",
    "data_dir = '../data/structured_data/'\n",
    "visits = {'P02':'IEI', 'P01':'SV', 'V00':'EV', 'V01':'12m', 'V02':'18m', 'V03':'24m', 'V04':'30m', 'V05':'36m', 'V06':'48m', 'V07':'60m', 'V08':'72m', 'V09':'84m', 'V10':'96m', 'V11':'108m', 'V99':\"Outcomes\"}"
   ]
  },
  {
   "cell_type": "code",
   "execution_count": null,
   "id": "harmful-explanation",
   "metadata": {},
   "outputs": [],
   "source": [
    "def remove_prefix(text, prefix): # replaced by str.removeprefix in Python 3.9\n",
    "    if text.startswith(prefix):\n",
    "        return text[len(prefix):]\n",
    "    return text\n",
    "\n",
    "def remove_suffix(text, suffix): # replaced by str.removesuffix in Python 3.9\n",
    "    if text.endswith(suffix):\n",
    "        return text[:-len(suffix)]\n",
    "    return text\n",
    "\n",
    "# Clean visit prefixes\n",
    "def remove_visit_prefixes(str_list):\n",
    "    return [s[3:] if re.match(\"^[vVpP]\\d\\d\\D\\S*\", s) else s for s in str_list]\n",
    "\n",
    "# Return a list of all unique prefixes\n",
    "def collect_prefixes(str_list):\n",
    "    return list({s[:3] for s in str_list if re.match(\"^[vVpP]\\d\\d\\D\\S*\", s) })\n",
    "\n",
    "# Check that all the columns are the same between files\n",
    "def column_uniformity_check(prefix):\n",
    "    fileset = [x for x in all_files if x.startswith(prefix)]\n",
    "    fileset.sort()\n",
    "\n",
    "    tot_cnt = 0\n",
    "    col_set = {}\n",
    "    for filename in fileset:\n",
    "        tmp_df, _ = pyreadstat.read_file_multiprocessing(pyreadstat.read_sas7bdat, data_dir + filename, catalog_file=data_dir + 'formats.sas7bcat', num_processes=6, user_missing=True)\n",
    "        tot_cnt += tmp_df.shape[0]\n",
    "        print(filename + ': '+ str(tmp_df.shape))\n",
    "        \n",
    "        col_names = remove_visit_prefixes(list(tmp_df.columns))\n",
    "        if not col_set:\n",
    "            print(col_names)\n",
    "            col_set = set([c.upper() for c in col_names])\n",
    "        # display any new or missing elements \n",
    "        elif col_set ^ set(col_names):\n",
    "            # Weed out difference solely from SAS case insensitivity\n",
    "            upper_col_names = set([c.upper() for c in col_names])\n",
    "            if not col_set ^ upper_col_names:\n",
    "                print('Names only differ by case')\n",
    "            else:\n",
    "                print(list(col_set ^ set(upper_col_names)))\n",
    "                col_set = set(upper_col_names)\n",
    "\n",
    "    print('Total rows: ' + str(tot_cnt))"
   ]
  },
  {
   "cell_type": "code",
   "execution_count": null,
   "id": "interstate-element",
   "metadata": {},
   "outputs": [],
   "source": [
    "# Create a single dataframe for all variables across a given fileset\n",
    "def create_df(prefix, files):\n",
    "    fileset = [x for x in files if x.startswith(prefix)]\n",
    "    fileset.sort()              \n",
    "    \n",
    "    # Get column names from first file in set\n",
    "    filename = fileset[0]\n",
    "    tmp_df, _ = pyreadstat.read_file_multiprocessing(pyreadstat.read_sas7bdat, data_dir + filename, catalog_file=data_dir + 'formats.sas7bcat', num_processes=6, user_missing=True)\n",
    "\n",
    "    # remove visit prefix from all names\n",
    "    cols = [c.upper() for c in list(tmp_df.columns)]  # Keeping all OAI provided variables uppercase\n",
    "    cols = list(dict.fromkeys(remove_visit_prefixes(cols)))  # Also drops duplicate names\n",
    "    cols.insert(1,'Visit')  # Variables added by this code are camel case\n",
    "\n",
    "    # create empty master dataframe\n",
    "    master_df = pd.DataFrame(columns=cols)\n",
    "\n",
    "    # read in data and append data to master dataframe\n",
    "    for filename in fileset:\n",
    "        tmp_df, _ = pyreadstat.read_file_multiprocessing(pyreadstat.read_sas7bdat, data_dir + filename, catalog_file=data_dir + 'formats.sas7bcat', num_processes=6, user_missing=True)\n",
    "        # Move all column names to uppercase (SAS is case insensitive and the data is inconsistent)\n",
    "        upper_cols = {c: c.upper() for c in tmp_df.columns}\n",
    "        tmp_df = tmp_df.rename(columns=upper_cols)\n",
    "        \n",
    "        # For each visit \n",
    "        visits = collect_prefixes(tmp_df.columns)\n",
    "        print('Visits: ' + str(visits))\n",
    "        for visit in visits:\n",
    "            visit_vars = ['ID', 'VERSION']\n",
    "            visit_vars.extend([v for v in tmp_df.columns if v.startswith(visit)])\n",
    "            print(visit_vars)\n",
    "            tmp2_df = tmp_df[visit_vars]\n",
    "            tmp2_df.insert(1, 'Visit', visit)\n",
    "            master_df = master_df.append(tmp2_df)\n",
    "        \n",
    "        #visit = 'V' + remove_suffix(remove_prefix(filename, prefix), '.sas7bdat')\n",
    "        # make column name map\n",
    "        #new_cols = {c: remove_prefix(c.upper(), visit) for c in tmp_df.columns}\n",
    "        #tmp_df = tmp_df.rename(columns=new_cols)\n",
    "        #\n",
    "        #master_df = master_df.append(tmp_df)\n",
    "\n",
    "    return master_df"
   ]
  },
  {
   "cell_type": "code",
   "execution_count": null,
   "id": "simple-telescope",
   "metadata": {},
   "outputs": [],
   "source": [
    "# Inspect values and types\n",
    "def show_vals_types(df):\n",
    "    for col in df.columns:\n",
    "        vals = pd.unique(df[col])    \n",
    "        types = set([type(v) for v in vals])\n",
    "        \n",
    "        types_warning = ''\n",
    "        if len(types) > 1:\n",
    "            types_warning = '\\t' + str(len(types)) + ' types found.'\n",
    "        if len(vals) <= 20:\n",
    "            print(col + ':\\t' + str(list(vals)) + types_warning)\n",
    "        else:    \n",
    "            if datetime.date in types:\n",
    "                vals = [v for v in vals if isinstance(v, datetime.date)]\n",
    "            elif float in types:\n",
    "                vals = [v for v in vals if isinstance(v, float)]\n",
    "            print(col + ':\\tNot a limited set: ' + str(len(vals)) + '\\t(Max: ' + str(max(vals)) +')'  + types_warning)"
   ]
  },
  {
   "cell_type": "markdown",
   "id": "ordered-visibility",
   "metadata": {},
   "source": [
    "## Look at the filesets"
   ]
  },
  {
   "cell_type": "code",
   "execution_count": null,
   "id": "fossil-production",
   "metadata": {},
   "outputs": [],
   "source": [
    "# All SAS files\n",
    "all_files = os.listdir(data_dir)\n",
    "all_files = [x for x in all_files if '.sas7bdat' in x]"
   ]
  },
  {
   "cell_type": "code",
   "execution_count": null,
   "id": "serious-citizen",
   "metadata": {},
   "outputs": [],
   "source": [
    "# How many files are there?\n",
    "len(all_files)"
   ]
  },
  {
   "cell_type": "code",
   "execution_count": null,
   "id": "unknown-stationery",
   "metadata": {},
   "outputs": [],
   "source": [
    "# How many sets?\n",
    "from string import digits\n",
    "\n",
    "# Drop extensions\n",
    "tmp = [removesuffix(f, '.sas7bdat') for f in all_files]\n",
    "# Drop visit suffixes\n",
    "tmp = set([f.translate(f.maketrans('', '', digits)) for f in tmp])\n",
    "len(tmp)"
   ]
  },
  {
   "cell_type": "markdown",
   "id": "sporting-keeping",
   "metadata": {},
   "source": [
    "## acceldatabyday"
   ]
  },
  {
   "cell_type": "code",
   "execution_count": null,
   "id": "elder-thickness",
   "metadata": {},
   "outputs": [],
   "source": [
    "prefix = 'acceldatabyday'\n",
    "column_uniformity_check(prefix)"
   ]
  },
  {
   "cell_type": "code",
   "execution_count": null,
   "id": "municipal-vault",
   "metadata": {},
   "outputs": [],
   "source": [
    "tmp_df = create_df(prefix, all_files)\n",
    "print(tmp_df.shape)"
   ]
  },
  {
   "cell_type": "code",
   "execution_count": null,
   "id": "solid-friendly",
   "metadata": {},
   "outputs": [],
   "source": [
    "cat_cols = [\n",
    "    'Visit', 'VERSION', 'PAWEEKDAY'\n",
    "]\n",
    "int_cols = [\n",
    "    'ID', 'PASTUDYDAY', 'VDAYSEQUENCE', 'PAMONTH',\n",
    "    'DAYMODMINT', 'DAYMODMINF', 'DAYMODMINS',\n",
    "    'DAYVIGMINT', 'DAYVIGMINF', 'DAYVIGMINS',\n",
    "    'DAYMVMINT', 'DAYMVMINF', 'DAYMVMINS',\n",
    "    'DAYCNT', 'DAYLTMINT', 'DAYLTMINF', 'DAYLTMINS',\n",
    "    'DAYMVBOUTMINT', 'DAYMVBOUTMINF', 'DAYMVBOUTMINS',\n",
    "    'DAYVBOUTMINT', 'DAYVBOUTMINF', 'DAYVBOUTMINS'\n",
    "]\n",
    "\n",
    "tmp_df = tmp_df.astype({col: 'category' for col in cat_cols})\n",
    "# tmp_df = tmp_df.astype({'ID': int})\n",
    "# tmp_df = tmp_df.astype({'ID': 'UInt32'})\n",
    "for col in int_cols:\n",
    "    tmp_df[col] = pd.to_numeric(tmp_df[col], downcast='unsigned') # Somehow this is smaller than UInt32\n",
    "tmp_df['WEARHR'] = pd.to_numeric(tmp_df['WEARHR'], downcast='float')"
   ]
  },
  {
   "cell_type": "code",
   "execution_count": null,
   "id": "checked-biology",
   "metadata": {},
   "outputs": [],
   "source": [
    "print(tmp_df.dtypes)\n",
    "print()\n",
    "show_vals_types(tmp_df)"
   ]
  },
  {
   "cell_type": "code",
   "execution_count": null,
   "id": "controlling-edition",
   "metadata": {},
   "outputs": [],
   "source": [
    "pickle.dump(tmp_df, open(prefix + '_values.pkl', 'wb'))"
   ]
  },
  {
   "cell_type": "markdown",
   "id": "pharmaceutical-delhi",
   "metadata": {},
   "source": [
    "## acceldatabymin"
   ]
  },
  {
   "cell_type": "code",
   "execution_count": null,
   "id": "sharing-tourist",
   "metadata": {},
   "outputs": [],
   "source": [
    "prefix = 'acceldatabymin'\n",
    "column_uniformity_check(prefix)"
   ]
  },
  {
   "cell_type": "code",
   "execution_count": null,
   "id": "ideal-appearance",
   "metadata": {},
   "outputs": [],
   "source": [
    "tmp_df = create_df(prefix, all_files)\n",
    "print(tmp_df.shape)"
   ]
  },
  {
   "cell_type": "code",
   "execution_count": null,
   "id": "protective-tomorrow",
   "metadata": {},
   "outputs": [],
   "source": [
    "cat_cols = [\n",
    "    'Visit', 'VERSION', 'PAWEEKDAY'\n",
    "]\n",
    "int_cols = [\n",
    "    'ID', 'PASTUDYDAY', 'MINSEQUENCE',\n",
    "    'SUSPECTMINUTE', 'PAMONTH'\n",
    "]\n",
    "\n",
    "tmp_df = tmp_df.astype({col: 'category' for col in cat_cols})\n",
    "for col in int_cols:\n",
    "    tmp_df[col] = pd.to_numeric(tmp_df[col], downcast='unsigned')\n",
    "tmp_df['MINCNT'] = pd.to_numeric(tmp_df['MINCNT'], downcast='float')"
   ]
  },
  {
   "cell_type": "code",
   "execution_count": null,
   "id": "public-lecture",
   "metadata": {},
   "outputs": [],
   "source": [
    "tmp_df.memory_usage(deep=True)"
   ]
  },
  {
   "cell_type": "code",
   "execution_count": null,
   "id": "spare-stewart",
   "metadata": {},
   "outputs": [],
   "source": [
    "print(tmp_df.dtypes)\n",
    "print()\n",
    "show_vals_types(tmp_df)"
   ]
  },
  {
   "cell_type": "code",
   "execution_count": null,
   "id": "radical-tragedy",
   "metadata": {},
   "outputs": [],
   "source": [
    "pickle.dump(tmp_df, open(prefix + '_values.pkl', 'wb'))"
   ]
  },
  {
   "cell_type": "markdown",
   "id": "defined-extension",
   "metadata": {},
   "source": [
    "## accelerometry"
   ]
  },
  {
   "cell_type": "code",
   "execution_count": null,
   "id": "established-brand",
   "metadata": {},
   "outputs": [],
   "source": [
    "prefix = 'accelerometry'\n",
    "column_uniformity_check(prefix)"
   ]
  },
  {
   "cell_type": "code",
   "execution_count": null,
   "id": "solid-discussion",
   "metadata": {},
   "outputs": [],
   "source": [
    "tmp_df = create_df(prefix, all_files)\n",
    "print(tmp_df.shape)"
   ]
  },
  {
   "cell_type": "code",
   "execution_count": null,
   "id": "first-concert",
   "metadata": {},
   "outputs": [],
   "source": [
    "cat_cols = [\n",
    "    'Visit', 'VERSION', 'ADHHS8', 'ADHHSD8', 'APASTAT'\n",
    "]\n",
    "int_cols = [\n",
    "    'ID'\n",
    "]\n",
    "\n",
    "tmp_df = tmp_df.astype({col: 'category' for col in cat_cols})\n",
    "for col in int_cols:\n",
    "    tmp_df[col] = pd.to_numeric(tmp_df[col], downcast='unsigned')"
   ]
  },
  {
   "cell_type": "code",
   "execution_count": null,
   "id": "divine-atlantic",
   "metadata": {},
   "outputs": [],
   "source": [
    "print(tmp_df.dtypes)\n",
    "print()\n",
    "show_vals_types(tmp_df)"
   ]
  },
  {
   "cell_type": "markdown",
   "id": "plastic-comedy",
   "metadata": {},
   "source": [
    "Need to revisit an further clean up the data."
   ]
  },
  {
   "cell_type": "code",
   "execution_count": null,
   "id": "extreme-indian",
   "metadata": {},
   "outputs": [],
   "source": [
    "pickle.dump(tmp_df, open(prefix + '_values.pkl', 'wb'))"
   ]
  },
  {
   "cell_type": "markdown",
   "id": "annual-crest",
   "metadata": {},
   "source": [
    "## allclinical"
   ]
  },
  {
   "cell_type": "code",
   "execution_count": null,
   "id": "exclusive-tuesday",
   "metadata": {},
   "outputs": [],
   "source": [
    "prefix = 'allclinical'\n",
    "column_uniformity_check(prefix)"
   ]
  },
  {
   "cell_type": "code",
   "execution_count": null,
   "id": "major-thread",
   "metadata": {},
   "outputs": [],
   "source": [
    "tmp_df = create_df(prefix, all_files)\n",
    "print(tmp_df.shape)"
   ]
  },
  {
   "cell_type": "markdown",
   "id": "spectacular-hudson",
   "metadata": {},
   "source": [
    "## Load x-ray data and examine it"
   ]
  },
  {
   "cell_type": "code",
   "execution_count": null,
   "id": "duplicate-robinson",
   "metadata": {},
   "outputs": [],
   "source": [
    "xray_df = create_df('xray', all_files)\n",
    "\n",
    "cat_cols = [\n",
    "    'Visit', 'FileSet', 'VERSION', 'ACCEPT',\n",
    "    'ALIGN', 'CENTER', 'DEPICT', 'EXAMTP', \n",
    "    'EXPOSE', 'MOTION', 'POSITN', 'XNDREAS',\n",
    "    'XRCOMP', 'XRSIDE'\n",
    "]\n",
    "\n",
    "xray_df = xray_df.astype({col: 'category' for col in cat_cols})\n",
    "xray_df = xray_df.astype({'ID': int})\n",
    "xray_df = xray_df.astype({'ID': 'UInt32'})"
   ]
  },
  {
   "cell_type": "code",
   "execution_count": null,
   "id": "grateful-carroll",
   "metadata": {},
   "outputs": [],
   "source": [
    "pickle.dump(xray_df, open('xray_values.pkl', 'wb'))"
   ]
  },
  {
   "cell_type": "code",
   "execution_count": null,
   "id": "matched-afghanistan",
   "metadata": {},
   "outputs": [],
   "source": [
    "print('DF Size: ' + str(xray_df.shape))\n",
    "show_vals_types(xray_df)"
   ]
  },
  {
   "cell_type": "code",
   "execution_count": null,
   "id": "bulgarian-service",
   "metadata": {},
   "outputs": [],
   "source": [
    "xray_df.XRCOMP.value_counts()"
   ]
  },
  {
   "cell_type": "code",
   "execution_count": null,
   "id": "surprising-contact",
   "metadata": {},
   "outputs": [],
   "source": [
    "print(xray_df.EXAMTP.value_counts())\n",
    "print('Total: ' + str(xray_df.EXAMTP.value_counts().sum()))"
   ]
  },
  {
   "cell_type": "code",
   "execution_count": null,
   "id": "supreme-study",
   "metadata": {},
   "outputs": [],
   "source": [
    "xray_df.ACCEPT.value_counts()"
   ]
  },
  {
   "cell_type": "code",
   "execution_count": null,
   "id": "capital-seller",
   "metadata": {},
   "outputs": [],
   "source": [
    "xray_df[(xray_df.EXAMTP=='Bilateral PA Fixed Flexion Knee') & (xray_df.XRCOMP=='1: Yes')].ACCEPT.value_counts()"
   ]
  },
  {
   "cell_type": "markdown",
   "id": "bottom-notebook",
   "metadata": {},
   "source": [
    "## MRI"
   ]
  },
  {
   "cell_type": "code",
   "execution_count": null,
   "id": "blind-buyer",
   "metadata": {},
   "outputs": [],
   "source": [
    "mri_df = create_df('mri', all_files)\n",
    "print(mri_df.shape)"
   ]
  },
  {
   "cell_type": "code",
   "execution_count": null,
   "id": "increased-radius",
   "metadata": {},
   "outputs": [],
   "source": [
    "cat_cols = [\n",
    "    'Visit', 'FileSet', 'VERSION', 'MEXAMTP',\n",
    "    'MNDREAS', 'MRCOMP', 'MRSIDE', 'QCRESLT', 'SCNUPGR', \n",
    "    'MRMARK', 'CLUPGR', 'MQCCMNT', 'MQCFLAG'\n",
    "]\n",
    "\n",
    "mri_df = mri_df.astype({col: 'category' for col in cat_cols})\n",
    "mri_df = mri_df.astype({'ID': int})\n",
    "mri_df = mri_df.astype({'ID': 'UInt32'})"
   ]
  },
  {
   "cell_type": "code",
   "execution_count": null,
   "id": "metric-ballot",
   "metadata": {},
   "outputs": [],
   "source": [
    "mri_df.dtypes"
   ]
  },
  {
   "cell_type": "code",
   "execution_count": null,
   "id": "useful-timer",
   "metadata": {},
   "outputs": [],
   "source": [
    "pickle.dump(mri_df, open('mri_values.pkl', 'wb'))"
   ]
  },
  {
   "cell_type": "code",
   "execution_count": null,
   "id": "later-forty",
   "metadata": {},
   "outputs": [],
   "source": [
    "mri_df.columns"
   ]
  },
  {
   "cell_type": "code",
   "execution_count": null,
   "id": "posted-cursor",
   "metadata": {},
   "outputs": [],
   "source": [
    "mri_df.Visit.value_counts()"
   ]
  },
  {
   "cell_type": "code",
   "execution_count": null,
   "id": "terminal-oxide",
   "metadata": {},
   "outputs": [],
   "source": [
    "mri_df.MRCOMP.value_counts()"
   ]
  },
  {
   "cell_type": "code",
   "execution_count": null,
   "id": "chemical-denial",
   "metadata": {},
   "outputs": [],
   "source": [
    "print('DF Size: ' + str(mri_df.shape) + '\\n')\n",
    "show_vals_types(mri_df)"
   ]
  },
  {
   "cell_type": "markdown",
   "id": "unable-substitute",
   "metadata": {},
   "source": [
    "## MIF"
   ]
  },
  {
   "cell_type": "code",
   "execution_count": null,
   "id": "sapphire-integration",
   "metadata": {},
   "outputs": [],
   "source": [
    "column_uniformity_check('mif')"
   ]
  },
  {
   "cell_type": "code",
   "execution_count": null,
   "id": "opposed-motivation",
   "metadata": {},
   "outputs": [],
   "source": [
    "tmp_df = create_df('mif', all_files)\n",
    "print(tmp_df.shape)"
   ]
  },
  {
   "cell_type": "code",
   "execution_count": null,
   "id": "central-booking",
   "metadata": {},
   "outputs": [],
   "source": [
    "cat_cols = [\n",
    "    'Visit', 'VERSION', 'MIFNAME',\n",
    "    'FRMCODE', 'MIFFREQ', 'MIFDUR', 'MIFUSE',\n",
    "    'INGNAME'\n",
    "]\n",
    "\n",
    "tmp_df = tmp_df.astype({col: 'category' for col in cat_cols})\n",
    "tmp_df = tmp_df.astype({'ID': int})\n",
    "tmp_df = tmp_df.astype({'ID': 'UInt32'})"
   ]
  },
  {
   "cell_type": "markdown",
   "id": "adjacent-unknown",
   "metadata": {},
   "source": [
    "It isn't clear what to do with INGCODE, they seem to be 9 digits plus '.0' except for some values labelled 'M'"
   ]
  },
  {
   "cell_type": "code",
   "execution_count": null,
   "id": "powered-express",
   "metadata": {},
   "outputs": [],
   "source": [
    "print(tmp_df.dtypes)\n",
    "print()\n",
    "show_vals_types(tmp_df)"
   ]
  },
  {
   "cell_type": "markdown",
   "id": "subjective-fantasy",
   "metadata": {},
   "source": [
    "## kxr_sq_rel_bu"
   ]
  },
  {
   "cell_type": "code",
   "execution_count": null,
   "id": "quality-gothic",
   "metadata": {},
   "outputs": [],
   "source": [
    "prefix = 'kxr_sq_rel_bu'\n",
    "column_uniformity_check(prefix)"
   ]
  },
  {
   "cell_type": "code",
   "execution_count": null,
   "id": "phantom-statistics",
   "metadata": {},
   "outputs": [],
   "source": [
    "tmp_df = create_df(prefix, all_files)\n",
    "print(tmp_df.shape)"
   ]
  },
  {
   "cell_type": "code",
   "execution_count": null,
   "id": "local-natural",
   "metadata": {},
   "outputs": [],
   "source": [
    "cat_cols = [\n",
    "    'Visit', 'VERSION', 'SIDE', 'READPRJ', 'VERSION', # 'BARCDBU',\n",
    "    'XROSFM', 'XRSCFM', 'XRCYFM', 'XRJSM',\n",
    "    'XRCHM', 'XROSTM', 'XRSCTM', 'XRCYTM', 'XRATTM',\n",
    "    'XRKL', 'XROSFL', 'XRSCFL', 'XRCYFL', 'XRJSL',\n",
    "    'XRCHL', 'XROSTL', 'XRSCTL', 'XRCYTL', 'XRATTL',\n",
    "    'XRNWKL2', 'XRNW2N'\n",
    "]\n",
    "\n",
    "tmp_df = tmp_df.astype({col: 'category' for col in cat_cols})\n",
    "tmp_df = tmp_df.astype({'ID': int})\n",
    "tmp_df = tmp_df.astype({'ID': 'UInt32'})"
   ]
  },
  {
   "cell_type": "markdown",
   "id": "living-salmon",
   "metadata": {},
   "source": [
    "Note that XRJSM, XRJSL are floats being treated as categorical. Doing so for now to save memory, until I look into their meaning."
   ]
  },
  {
   "cell_type": "code",
   "execution_count": null,
   "id": "casual-application",
   "metadata": {},
   "outputs": [],
   "source": [
    "print(tmp_df.dtypes)\n",
    "print()\n",
    "show_vals_types(tmp_df)"
   ]
  },
  {
   "cell_type": "markdown",
   "id": "altered-assist",
   "metadata": {},
   "source": [
    "## kxr_sq_bu"
   ]
  },
  {
   "cell_type": "code",
   "execution_count": null,
   "id": "weird-worth",
   "metadata": {},
   "outputs": [],
   "source": [
    "prefix = 'kxr_sq_bu'\n",
    "column_uniformity_check(prefix)"
   ]
  },
  {
   "cell_type": "code",
   "execution_count": null,
   "id": "otherwise-metallic",
   "metadata": {},
   "outputs": [],
   "source": [
    "tmp_df = create_df(prefix, all_files)\n",
    "print(tmp_df.shape)"
   ]
  },
  {
   "cell_type": "code",
   "execution_count": null,
   "id": "declared-amount",
   "metadata": {},
   "outputs": [],
   "source": [
    "cat_cols = [\n",
    "    'Visit', 'VERSION', 'SIDE', 'READPRJ', 'VERSION', # 'BARCDBU',\n",
    "    'XROSFM', 'XRSCFM', 'XRCYFM', 'XRJSM',\n",
    "    'XRCHM', 'XROSTM', 'XRSCTM', 'XRCYTM', 'XRATTM',\n",
    "    'XRKL', 'XROSFL', 'XRSCFL', 'XRCYFL', 'XRJSL',\n",
    "    'XRCHL', 'XROSTL', 'XRSCTL', 'XRCYTL', 'XRATTL',\n",
    "    'XRNWKL2', 'XRNW2N'\n",
    "]\n",
    "\n",
    "tmp_df = tmp_df.astype({col: 'category' for col in cat_cols})\n",
    "tmp_df = tmp_df.astype({'ID': int})\n",
    "tmp_df = tmp_df.astype({'ID': 'UInt32'})"
   ]
  },
  {
   "cell_type": "code",
   "execution_count": null,
   "id": "minus-growing",
   "metadata": {},
   "outputs": [],
   "source": [
    "print(tmp_df.dtypes)\n",
    "print()\n",
    "show_vals_types(tmp_df)"
   ]
  },
  {
   "cell_type": "markdown",
   "id": "bacterial-cream",
   "metadata": {},
   "source": [
    "## kxr_qjsw_rel_duryea"
   ]
  },
  {
   "cell_type": "code",
   "execution_count": null,
   "id": "dependent-quest",
   "metadata": {},
   "outputs": [],
   "source": [
    "prefix = 'kxr_sq_bu'\n",
    "column_uniformity_check(prefix)"
   ]
  },
  {
   "cell_type": "code",
   "execution_count": null,
   "id": "sixth-flower",
   "metadata": {},
   "outputs": [],
   "source": [
    "tmp_df = create_df(prefix, all_files)\n",
    "print(tmp_df.shape)\n",
    "\n",
    "cat_cols = [\n",
    "    'Visit', 'VERSION', 'SIDE', 'READPRJ', 'VERSION', # 'BARCDBU',\n",
    "    'XROSFM', 'XRSCFM', 'XRCYFM', 'XRJSM',\n",
    "    'XRCHM', 'XROSTM', 'XRSCTM', 'XRCYTM', 'XRATTM',\n",
    "    'XRKL', 'XROSFL', 'XRSCFL', 'XRCYFL', 'XRJSL',\n",
    "    'XRCHL', 'XROSTL', 'XRSCTL', 'XRCYTL', 'XRATTL',\n",
    "    'XRNWKL2', 'XRNW2N'\n",
    "]\n",
    "\n",
    "tmp_df = tmp_df.astype({col: 'category' for col in cat_cols})\n",
    "tmp_df = tmp_df.astype({'ID': int})\n",
    "tmp_df = tmp_df.astype({'ID': 'UInt32'})\n",
    "\n",
    "print(tmp_df.dtypes)\n",
    "print()\n",
    "show_vals_types(tmp_df)\n",
    "\n",
    "pickle.dump(mri_df, open(prefix + '_values.pkl', 'wb'))"
   ]
  },
  {
   "cell_type": "markdown",
   "id": "collaborative-cheese",
   "metadata": {},
   "source": [
    "## kxr_qjsw_duryea"
   ]
  },
  {
   "cell_type": "code",
   "execution_count": null,
   "id": "collaborative-klein",
   "metadata": {},
   "outputs": [],
   "source": [
    "prefix = 'kxr_qjsw_duryea'\n",
    "column_uniformity_check(prefix)"
   ]
  },
  {
   "cell_type": "code",
   "execution_count": null,
   "id": "coupled-directive",
   "metadata": {},
   "outputs": [],
   "source": [
    "tmp_df = create_df(prefix, all_files)\n",
    "print(tmp_df.shape)\n",
    "\n",
    "cat_cols = [\n",
    "    'Visit', 'VERSION', 'SIDE', 'READPRJ', 'VERSION', # 'BARCDBU',\n",
    "    'XROSFM', 'XRSCFM', 'XRCYFM', 'XRJSM',\n",
    "    'XRCHM', 'XROSTM', 'XRSCTM', 'XRCYTM', 'XRATTM',\n",
    "    'XRKL', 'XROSFL', 'XRSCFL', 'XRCYFL', 'XRJSL',\n",
    "    'XRCHL', 'XROSTL', 'XRSCTL', 'XRCYTL', 'XRATTL',\n",
    "    'XRNWKL2', 'XRNW2N'\n",
    "]\n",
    "\n",
    "tmp_df = tmp_df.astype({col: 'category' for col in cat_cols})\n",
    "tmp_df = tmp_df.astype({'ID': int})\n",
    "tmp_df = tmp_df.astype({'ID': 'UInt32'})\n",
    "\n",
    "print(tmp_df.dtypes)\n",
    "print()\n",
    "show_vals_types(tmp_df)\n",
    "\n",
    "pickle.dump(mri_df, open(prefix + '_values.pkl', 'wb'))"
   ]
  },
  {
   "cell_type": "markdown",
   "id": "material-insider",
   "metadata": {},
   "source": [
    "## kxr_fta_duryea"
   ]
  },
  {
   "cell_type": "code",
   "execution_count": null,
   "id": "organizational-copper",
   "metadata": {},
   "outputs": [],
   "source": [
    "prefix = 'kxr_fta_duryea'\n",
    "column_uniformity_check(prefix)"
   ]
  },
  {
   "cell_type": "code",
   "execution_count": null,
   "id": "theoretical-guyana",
   "metadata": {},
   "outputs": [],
   "source": [
    "tmp_df = create_df(prefix, all_files)\n",
    "print(tmp_df.shape)\n",
    "\n",
    "cat_cols = [\n",
    "    'Visit', 'VERSION', 'SIDE', 'READPRJ', 'VERSION', # 'BARCDBU',\n",
    "    'XROSFM', 'XRSCFM', 'XRCYFM', 'XRJSM',\n",
    "    'XRCHM', 'XROSTM', 'XRSCTM', 'XRCYTM', 'XRATTM',\n",
    "    'XRKL', 'XROSFL', 'XRSCFL', 'XRCYFL', 'XRJSL',\n",
    "    'XRCHL', 'XROSTL', 'XRSCTL', 'XRCYTL', 'XRATTL',\n",
    "    'XRNWKL2', 'XRNW2N'\n",
    "]\n",
    "\n",
    "tmp_df = tmp_df.astype({col: 'category' for col in cat_cols})\n",
    "tmp_df = tmp_df.astype({'ID': int})\n",
    "tmp_df = tmp_df.astype({'ID': 'UInt32'})\n",
    "\n",
    "print(tmp_df.dtypes)\n",
    "print()\n",
    "show_vals_types(tmp_df)\n",
    "\n",
    "pickle.dump(mri_df, open(prefix + '_values.pkl', 'wb'))"
   ]
  },
  {
   "cell_type": "markdown",
   "id": "tribal-elephant",
   "metadata": {},
   "source": [
    "## kmri_sq_moaks_bicl"
   ]
  },
  {
   "cell_type": "code",
   "execution_count": null,
   "id": "robust-algorithm",
   "metadata": {},
   "outputs": [],
   "source": [
    "prefix = 'kmri_sq_moaks_bicl'\n",
    "column_uniformity_check(prefix)"
   ]
  },
  {
   "cell_type": "code",
   "execution_count": null,
   "id": "daily-concern",
   "metadata": {},
   "outputs": [],
   "source": [
    "tmp_df = create_df(prefix, all_files)\n",
    "print(tmp_df.shape)\n",
    "\n",
    "cat_cols = [\n",
    "    'Visit', 'VERSION', 'SIDE', 'READPRJ', 'VERSION', # 'BARCDBU',\n",
    "    'XROSFM', 'XRSCFM', 'XRCYFM', 'XRJSM',\n",
    "    'XRCHM', 'XROSTM', 'XRSCTM', 'XRCYTM', 'XRATTM',\n",
    "    'XRKL', 'XROSFL', 'XRSCFL', 'XRCYFL', 'XRJSL',\n",
    "    'XRCHL', 'XROSTL', 'XRSCTL', 'XRCYTL', 'XRATTL',\n",
    "    'XRNWKL2', 'XRNW2N'\n",
    "]\n",
    "\n",
    "tmp_df = tmp_df.astype({col: 'category' for col in cat_cols})\n",
    "tmp_df = tmp_df.astype({'ID': int})\n",
    "tmp_df = tmp_df.astype({'ID': 'UInt32'})\n",
    "\n",
    "print(tmp_df.dtypes)\n",
    "print()\n",
    "show_vals_types(tmp_df)\n",
    "\n",
    "pickle.dump(mri_df, open(prefix + '_values.pkl', 'wb'))"
   ]
  },
  {
   "cell_type": "markdown",
   "id": "laughing-hammer",
   "metadata": {},
   "source": [
    "## kmri_qcart_eckstein"
   ]
  },
  {
   "cell_type": "code",
   "execution_count": null,
   "id": "oriental-target",
   "metadata": {},
   "outputs": [],
   "source": [
    "prefix = 'kmri_qcart_eckstein'\n",
    "column_uniformity_check(prefix)"
   ]
  },
  {
   "cell_type": "code",
   "execution_count": null,
   "id": "constant-narrow",
   "metadata": {},
   "outputs": [],
   "source": [
    "tmp_df = create_df(prefix, all_files)\n",
    "print(tmp_df.shape)\n",
    "\n",
    "cat_cols = [\n",
    "    'Visit', 'VERSION', 'SIDE', 'READPRJ', 'VERSION', # 'BARCDBU',\n",
    "    'XROSFM', 'XRSCFM', 'XRCYFM', 'XRJSM',\n",
    "    'XRCHM', 'XROSTM', 'XRSCTM', 'XRCYTM', 'XRATTM',\n",
    "    'XRKL', 'XROSFL', 'XRSCFL', 'XRCYFL', 'XRJSL',\n",
    "    'XRCHL', 'XROSTL', 'XRSCTL', 'XRCYTL', 'XRATTL',\n",
    "    'XRNWKL2', 'XRNW2N'\n",
    "]\n",
    "\n",
    "tmp_df = tmp_df.astype({col: 'category' for col in cat_cols})\n",
    "tmp_df = tmp_df.astype({'ID': int})\n",
    "tmp_df = tmp_df.astype({'ID': 'UInt32'})\n",
    "\n",
    "print(tmp_df.dtypes)\n",
    "print()\n",
    "show_vals_types(tmp_df)\n",
    "\n",
    "pickle.dump(mri_df, open(prefix + '_values.pkl', 'wb'))"
   ]
  },
  {
   "cell_type": "markdown",
   "id": "apparent-wisdom",
   "metadata": {},
   "source": [
    "## flxr_kneealign_duryea"
   ]
  },
  {
   "cell_type": "code",
   "execution_count": null,
   "id": "original-charity",
   "metadata": {},
   "outputs": [],
   "source": [
    "prefix = 'flxr_kneealign_duryea'\n",
    "column_uniformity_check(prefix)"
   ]
  },
  {
   "cell_type": "code",
   "execution_count": null,
   "id": "reported-animal",
   "metadata": {},
   "outputs": [],
   "source": [
    "tmp_df = create_df(prefix, all_files)\n",
    "print(tmp_df.shape)\n",
    "\n",
    "cat_cols = [\n",
    "    'Visit', 'VERSION', 'SIDE', 'READPRJ', 'VERSION', # 'BARCDBU',\n",
    "    'XROSFM', 'XRSCFM', 'XRCYFM', 'XRJSM',\n",
    "    'XRCHM', 'XROSTM', 'XRSCTM', 'XRCYTM', 'XRATTM',\n",
    "    'XRKL', 'XROSFL', 'XRSCFL', 'XRCYFL', 'XRJSL',\n",
    "    'XRCHL', 'XROSTL', 'XRSCTL', 'XRCYTL', 'XRATTL',\n",
    "    'XRNWKL2', 'XRNW2N'\n",
    "]\n",
    "\n",
    "tmp_df = tmp_df.astype({col: 'category' for col in cat_cols})\n",
    "tmp_df = tmp_df.astype({'ID': int})\n",
    "tmp_df = tmp_df.astype({'ID': 'UInt32'})\n",
    "\n",
    "print(tmp_df.dtypes)\n",
    "print()\n",
    "show_vals_types(tmp_df)\n",
    "\n",
    "pickle.dump(mri_df, open(prefix + '_values.pkl', 'wb'))"
   ]
  },
  {
   "cell_type": "markdown",
   "id": "sticky-mambo",
   "metadata": {},
   "source": [
    "## flxr_kneealign_cooke"
   ]
  },
  {
   "cell_type": "code",
   "execution_count": null,
   "id": "configured-atmosphere",
   "metadata": {},
   "outputs": [],
   "source": [
    "prefix = 'flxr_kneealign_cooke'\n",
    "column_uniformity_check(prefix)"
   ]
  },
  {
   "cell_type": "code",
   "execution_count": null,
   "id": "italian-teens",
   "metadata": {},
   "outputs": [],
   "source": [
    "tmp_df = create_df(prefix, all_files)\n",
    "print(tmp_df.shape)\n",
    "\n",
    "cat_cols = [\n",
    "    'Visit', 'VERSION', 'SIDE', 'READPRJ', 'VERSION', # 'BARCDBU',\n",
    "    'XROSFM', 'XRSCFM', 'XRCYFM', 'XRJSM',\n",
    "    'XRCHM', 'XROSTM', 'XRSCTM', 'XRCYTM', 'XRATTM',\n",
    "    'XRKL', 'XROSFL', 'XRSCFL', 'XRCYFL', 'XRJSL',\n",
    "    'XRCHL', 'XROSTL', 'XRSCTL', 'XRCYTL', 'XRATTL',\n",
    "    'XRNWKL2', 'XRNW2N'\n",
    "]\n",
    "\n",
    "tmp_df = tmp_df.astype({col: 'category' for col in cat_cols})\n",
    "tmp_df = tmp_df.astype({'ID': int})\n",
    "tmp_df = tmp_df.astype({'ID': 'UInt32'})\n",
    "\n",
    "print(tmp_df.dtypes)\n",
    "print()\n",
    "show_vals_types(tmp_df)\n",
    "\n",
    "pickle.dump(mri_df, open(prefix + '_values.pkl', 'wb'))"
   ]
  }
 ],
 "metadata": {
  "kernelspec": {
   "display_name": "Python 3",
   "language": "python",
   "name": "python3"
  },
  "language_info": {
   "codemirror_mode": {
    "name": "ipython",
    "version": 3
   },
   "file_extension": ".py",
   "mimetype": "text/x-python",
   "name": "python",
   "nbconvert_exporter": "python",
   "pygments_lexer": "ipython3",
   "version": "3.7.8"
  }
 },
 "nbformat": 4,
 "nbformat_minor": 5
}
