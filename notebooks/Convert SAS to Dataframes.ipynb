{
 "cells": [
  {
   "cell_type": "markdown",
   "id": "9609cf0b",
   "metadata": {},
   "source": [
    "# About Converting from SAS to Dataframes\n",
    "Each dataset is examined and concatenated in a way that makes the most sense for that set. Further, column types\n",
    "are set for more efficient storage.\n",
    "\n",
    "Currently, this does not convert all dataset, but does provide tools and a template to convert any datasets not yet converted by this notebook."
   ]
  },
  {
   "cell_type": "markdown",
   "id": "795f7063",
   "metadata": {},
   "source": [
    "## Merging visit datafiles\n",
    "\n",
    "145 different data files is crazy to manage for folks who are looking for correlations across datasets collected from the OAI. It has also led to a massive number of variables being defined: 11,000+. This is over 3x the actually number of unique variables measured across all visits. \n",
    "\n",
    "Given that several files are same/similar data collected across visits, this notebook defines tools to collect all that data into single files with columns to mark which visit a variable corresponds to. This greatly reduces the variable namespace. Whereas you may originally have:\n",
    "\n",
    "file 1:\n",
    "```\n",
    "ID V00FOO\n",
    "1   30.5\n",
    "2   24.7\n",
    "```\n",
    "\n",
    "file 2:\n",
    "```\n",
    "ID V01FOO\n",
    "1   31.9\n",
    "2   27.3\n",
    "```\n",
    "This merges it into a single dataframe:\n",
    "```\n",
    "ID Visit FOO\n",
    "1   V00  30.5\n",
    "2   V00  24.7\n",
    "1   V01  31.9\n",
    "2   V01  27.3\n",
    "```\n",
    "## Port data types / Set efficient storage\n",
    "\n",
    "In storage, SAS only stores values as floats or strings. This is extremely inefficient. When the pyreadstat library reads the data it has some rudimentary detection of column types. Still, most OAI columns endup as dtype object. Thus column types still need to be examined and cast to the most efficient data type.\n",
    "\n",
    "Also, SAS allows for multiple user defined data markers for any column of data. This takes two forms. The first is similar to Panda's categorical types. This can be stored efficiently in Pandas. The second allows for multiple types of missing data (where Pandas only has NA or NaN). This causes most columns to be of mixed types in Pandas (float and str).\n",
    "\n",
    "## Preserving SAS missing values in Pandas\n",
    "By allowing for user defined missing values, SAS allows you to either treat all missing values the same or leverage the fact that not all values are missing for the same reason. Neither Python Pandas (or even R's dataframes) allow this as directly. Rather than throw this information away, for any dataset that includes missing values, two dataframes will be created. The first contains all the data with NaN or NA in place of all missing values. The second will be a dataframe with only columns that had missing values. These columns will have NaN in place of all values, but contain the full missing value labels at the same indices they existed in the original data. This allows ignoring missing values as the default case, but when needed, an NA in the data dataframe can trigger a check for a missing value in the missing value dataframe.\n",
    "\n",
    "e.g. data\n",
    "```\n",
    "ID Visit FOO   BAR  BAZ\n",
    "1   V00  30.5   5   0.1\n",
    "2   V00  NaN    7   0.5 \n",
    "1   V01  31.9   1   0.6\n",
    "2   V01  27.3   NA  1.2\n",
    "```\n",
    "e.g. missing values/\"shadow\" dataframe\n",
    "```\n",
    "ID Visit FOO      BAR\n",
    "1   V00  NaN       NA\n",
    "2   V00  .Refused  NA\n",
    "1   V01  NaN       NA\n",
    "2   V01  Nan      .Unknown\n",
    "```\n",
    "\n",
    "Note that columns with no missing values do not get copied to the shadow dataframe (with the exception of ID and Visit for indexing purposes)."
   ]
  },
  {
   "cell_type": "markdown",
   "id": "278e0a32",
   "metadata": {},
   "source": [
    "## TODO\n",
    "\n",
    "### Files with a different format\n",
    "Currently 5 files aren't handled yet. In each, the column naming format doesn't use visit prefixes:\n",
    "* Biospec_fnih_joco_demographics\n",
    "* biospec_fnih_joco_assays\n",
    "* kmri_poma_incoa_moaks_bicl\n",
    "* kmri_poma_tkr_chondrometrics\n",
    "* kmri_poma_tkr_moaks_bicl\n",
    "    \n",
    "A separate create_df() function needs to be made to handle these cases.\n",
    "\n",
    "\n",
    "### Other tasks\n",
    "For example:\n",
    "\n",
    "* Improve suggest_conversion():\n",
    "    * add the ability to detect boolean columns (e.g. SUSPECTMINUTE in acceldatabymin)\n",
    "    * check for possible categoricals in numeric columns with few unique values\n",
    "    * handle columns of numeric strings (double check they have a leading 0 or other reason to be a string)\n",
    "\n",
    "* Sanity checks:\n",
    "    * in SAS string missing values are a blank, did pyreadstat capture this? string cols seem to have empty strings\n",
    "    \n",
    "* Other improvements:\n",
    "    * Add method to summarize and sanity check the missing_df shadow dataframes\n",
    "    * Cleanup labels so they drop SV and IEI as prefixes, column collapsing\n",
    "    * In data like the accelerometry data, there isn't a single line per patient, fix so ID isn't used as an index\n",
    "        * acceldatabyday, acceldatabymin, accelerometry\n",
    "        * flxr_kneealign_cooke, flxr_kneealign_duryea\n",
    "        * kmri_qcart_eckstein, kmri_sq_moaks_bicl\n",
    "        * kxr_fta_duryea, kxr_qjsw_duryea, kxr_qjsw_rel_duryea, kxr_sq_bu, kxr_sq_rel_bu\n",
    "        * mif, mri, xray"
   ]
  },
  {
   "cell_type": "markdown",
   "id": "3f6027f5",
   "metadata": {},
   "source": [
    "# Conversion Tools\n",
    "Script to create a global dictionary of metadata needed to convert to efficient datatypes, along with functions to examine and convert the SAS data into Pandas dataframss."
   ]
  },
  {
   "cell_type": "markdown",
   "id": "93a91087",
   "metadata": {},
   "source": [
    "## Imports / Definitions"
   ]
  },
  {
   "cell_type": "code",
   "execution_count": 1,
   "id": "e2fa0384",
   "metadata": {
    "pycharm": {
     "name": "#%%\n"
    },
    "tags": []
   },
   "outputs": [
    {
     "data": {
      "text/html": [
       "<style>.container { width:95% !important; }</style>"
      ],
      "text/plain": [
       "<IPython.core.display.HTML object>"
      ]
     },
     "metadata": {},
     "output_type": "display_data"
    },
    {
     "data": {
      "text/html": [
       "<style>.output_result { max-width:95% !important; }</style>"
      ],
      "text/plain": [
       "<IPython.core.display.HTML object>"
      ]
     },
     "metadata": {},
     "output_type": "display_data"
    }
   ],
   "source": [
    "from copy import deepcopy\n",
    "import datetime\n",
    "import math\n",
    "import os\n",
    "import numpy as np\n",
    "import pandas as pd\n",
    "import pandas.api.types as pdtypes\n",
    "import pickle\n",
    "import pyreadstat\n",
    "import re\n",
    "from string import digits\n",
    "from tqdm import tqdm\n",
    "\n",
    "import OAI_Utilities as utils\n",
    "\n",
    "# Setup \n",
    "from IPython.core.display import display, HTML\n",
    "display(HTML(\"<style>.container { width:95% !important; }</style>\"))\n",
    "display(HTML(\"<style>.output_result { max-width:95% !important; }</style>\"))"
   ]
  },
  {
   "cell_type": "code",
   "execution_count": 2,
   "id": "bafcc3b1",
   "metadata": {
    "pycharm": {
     "name": "#%%\n"
    },
    "tags": []
   },
   "outputs": [],
   "source": [
    "# Constants\n",
    "data_dir = '../data/structured_data/'\n",
    "visits = {'P02':'IEI', 'P01':'SV', 'V00':'EV', 'V01':'12m', 'V02':'18m', 'V03':'24m', 'V04':'30m', 'V05':'36m',\n",
    "          'V06':'48m', 'V07':'60m', 'V08':'72m', 'V09':'84m', 'V10':'96m', 'V11':'108m', 'V99':\"Outcomes\"}\n",
    "visit_prefixes = set(visits.keys())\n",
    "\n",
    "meta_vars = [ 'column_labels',\n",
    " 'column_names',\n",
    " 'column_names_to_labels',\n",
    " 'file_encoding',\n",
    " 'file_format',\n",
    " 'file_label',\n",
    " 'missing_ranges',\n",
    " 'missing_user_values',\n",
    " 'notes',\n",
    " 'number_columns',\n",
    " 'number_rows',\n",
    " 'original_variable_types',\n",
    " 'readstat_variable_types',\n",
    " 'table_name',\n",
    " 'value_labels',\n",
    " 'variable_alignment',\n",
    " 'variable_display_width',\n",
    " 'variable_measure',\n",
    " 'variable_storage_width',\n",
    " 'variable_to_label',\n",
    " 'variable_value_labels']\n",
    "\n",
    "metadata_dict_names = ['column_names_to_labels', 'original_variable_types', 'readstat_variable_types',\n",
    "                       'value_labels', 'variable_alignment', 'variable_display_width',\n",
    "                       'variable_measure', 'variable_storage_width', 'variable_to_label', 'variable_value_labels']\n",
    "\n",
    "default_missing_value_codes = {\n",
    "    ' ': '.: Missing Form/Incomplete Workbook',\n",
    "    'A': '.A: Not Expected',\n",
    "    'B': '.B: Low/Below Range',\n",
    "    'C': '.C: Cannot Do/Attempted: unable to complete',\n",
    "    'D': '.D: Don’t Know/Unknown/Uncertain',\n",
    "    'E': '.E: Non-Exposed Control',\n",
    "    'F': '.F: Not done, phone contact',\n",
    "    'G': '.G: Unreleased high value',\n",
    "    'H': '.H: High/Above range',\n",
    "    'I': '.I: Inadequate data',\n",
    "    'K': '.K: Cannot do/not attempted, unable',\n",
    "    'L': '.L: Permanently Lost',\n",
    "    'M': '.M: Missing',\n",
    "    'N': '.N: Not Required/Not edited',\n",
    "    'O': '.O: Not done, other reason',\n",
    "    'P': '.P: Prosthetic',\n",
    "    'R': '.R: Refused',\n",
    "    'S': '.S: Unreleased low value',\n",
    "    'T': '.T: Technical problems',\n",
    "    'U': '.U: Unable to examine',\n",
    "    'V': '.V: Missed visit',\n",
    "    'W': '.W: Impossible value'\n",
    "}\n",
    "default_missing_val_tokens = set(default_missing_value_codes.keys())"
   ]
  },
  {
   "cell_type": "markdown",
   "id": "e9dcda5b",
   "metadata": {},
   "source": [
    "## Look at the filesets"
   ]
  },
  {
   "cell_type": "code",
   "execution_count": 3,
   "id": "b7437ba3",
   "metadata": {
    "pycharm": {
     "name": "#%%\n"
    },
    "tags": []
   },
   "outputs": [
    {
     "name": "stdout",
     "output_type": "stream",
     "text": [
      "File cnt: 145\n",
      "File set cnt: 41\n"
     ]
    }
   ],
   "source": [
    "# All SAS files\n",
    "all_files = os.listdir(data_dir)\n",
    "all_files = [x for x in all_files if '.sas7bdat' in x]\n",
    "all_files.remove('sageancillarystudy_formats.sas7bdat') ## At a binary level this seems like another CPORT file. WTF?\n",
    "all_files.sort()\n",
    "\n",
    "# How many files are there?\n",
    "print('File cnt: ' + str(len(all_files)))\n",
    "\n",
    "# How many sets?\n",
    "# Drop extensions and then drop visit suffixes\n",
    "tmp = set([f.translate(f.maketrans('', '', digits)) for f in [f.removesuffix('.sas7bdat') for f in all_files]])\n",
    "print('File set cnt: ' + str(len(tmp)))"
   ]
  },
  {
   "cell_type": "markdown",
   "id": "332e6cdb",
   "metadata": {},
   "source": [
    "## Utility Functions"
   ]
  },
  {
   "cell_type": "code",
   "execution_count": 4,
   "id": "3c06d60b",
   "metadata": {
    "pycharm": {
     "name": "#%%\n"
    },
    "tags": []
   },
   "outputs": [],
   "source": [
    "#   Given a common filename prefix, return the sorted list of sas7bdat files starting with that prefix\n",
    "# e.g. 'foo' -> ['foo01.sas7bdat', 'foo02.sas7bdat']\n",
    "def get_data_file_names(all_files, prefix):\n",
    "    file_list = [x for x in all_files if x.startswith(prefix)]\n",
    "    file_list.sort()\n",
    "    return file_list\n",
    "\n",
    "\n",
    "#   Clean visit prefixes\n",
    "# e.g. ['V01FOO', 'v02BAR'] -> ['FOO', 'BAR']\n",
    "def remove_visit_prefixes(str_list):\n",
    "    return [s[3:] if re.match(\"^[vVpP]\\d\\d\\D\\S*\", s) else s for s in str_list]\n",
    "\n",
    "\n",
    "#   Return a list of all unique prefixes\n",
    "# e.g. ['V01FOO', 'V02BAR'] -> ['V01', 'V02']\n",
    "def collect_prefixes(str_list):\n",
    "    return list({s[:3] for s in str_list if re.match(\"^[vVpP]\\d\\d\\D\\S*\", s) })\n",
    "\n",
    "#   Get value_labels from catalog file\n",
    "# The dictionaries that define user-defined types are stored in '.sas7bcat' files\n",
    "def get_value_labels(filepath):\n",
    "    _, data_catalog = pyreadstat.read_sas7bcat(filepath)\n",
    "    return data_catalog.value_labels\n",
    "\n",
    "#    Debug funct to see which files a given var name exists in and the datatype in each file\n",
    "# e.g. FOO -> bar01.sas7bcat V01FOO string 3 $\n",
    "def show_sources_types(files_meta, var):\n",
    "    for file, meta in files_meta.items():\n",
    "        for v in meta.column_names:\n",
    "            if v.endswith(var):\n",
    "                print(file + ' ' + v + ' ' + meta.readstat_variable_types[v] + ' ' + str(meta.variable_storage_width[v]) + ' ' + meta.variable_to_label.get(v, ''))\n",
    "                \n",
    "idx = pd.IndexSlice # strange bit of syntactic sugar, more of a function than a variable"
   ]
  },
  {
   "cell_type": "markdown",
   "id": "e285ee5a",
   "metadata": {},
   "source": [
    "## Creating a Global Metadata Dictionary\n",
    "The `.sas7bdat` files contain the raw data, and most metadata.  `.sas7bcat` includes definitions for the user defined types.\n",
    "\n",
    "This section defines functions for handling this metadata. This primarily reads in all metadata across datasets and creates a single global dictionary of metadata. This dictionary\n",
    "can then be used to correctly set the data types for any data read in from subsequent `.sas7bdat` files.\n",
    "\n",
    "We don't care about the entire metadata set returned by pyreadstat, only `['column_names', 'readstat_variable_types', 'variable_storage_width', 'variable_to_label']`\n",
    "- See the `Exploring Available SAS Metadata` notebook for details on user-defined types and the meanings of various metadata items"
   ]
  },
  {
   "cell_type": "code",
   "execution_count": 5,
   "id": "b30ffd84",
   "metadata": {
    "pycharm": {
     "name": "#%%\n"
    },
    "tags": []
   },
   "outputs": [],
   "source": [
    "# Grab the metadata across all files\n",
    "# - Roughly ~4.5 min runtime\n",
    "files_meta = {}\n",
    "for filename in all_files:\n",
    "    _, meta = pyreadstat.read_file_multiprocessing(pyreadstat.read_sas7bdat, data_dir + filename,\n",
    "                                                         num_processes=6, metadataonly=True)\n",
    "    files_meta[filename] = meta"
   ]
  },
  {
   "cell_type": "code",
   "execution_count": 6,
   "id": "ef2b98bb",
   "metadata": {
    "pycharm": {
     "name": "#%%\n"
    },
    "tags": []
   },
   "outputs": [],
   "source": [
    "# Normalize names\n",
    "#  - SAS is case insensitive, to normalize names for Python, all variables from SAS are migrated to uppercase\n",
    "for file, meta in files_meta.items():\n",
    "    meta.column_names = [n.upper() for n in meta.column_names]\n",
    "    for v_name in ['readstat_variable_types', 'variable_storage_width', 'variable_to_label']:\n",
    "        var = getattr(meta, v_name)\n",
    "        setattr(meta, v_name, {k.upper(): v for k,v in var.items()})"
   ]
  },
  {
   "cell_type": "code",
   "execution_count": 7,
   "id": "41f9d3a8",
   "metadata": {
    "pycharm": {
     "name": "#%%\n"
    },
    "tags": []
   },
   "outputs": [],
   "source": [
    "# Make master map of original variable names to collapsed names\n",
    "# - This dict maps names like V01FOO -> FOO\n",
    "var_name_map = {}\n",
    "for meta in files_meta.values():\n",
    "    new = {n: (n[3:] if n[:3] in visit_prefixes else n) for n in meta.column_names}\n",
    "    var_name_map = {**var_name_map, **new}"
   ]
  },
  {
   "cell_type": "code",
   "execution_count": 8,
   "id": "6695cc61",
   "metadata": {
    "pycharm": {
     "name": "#%%\n"
    },
    "tags": []
   },
   "outputs": [],
   "source": [
    "# Building the global metadata dictionary\n",
    "# global_var_name - {storage_type, storage_width, user_defined_type}\n",
    "#\n",
    "# - The collapse of names causes 4 conflicts:\n",
    "#      name   type  width - [files]\n",
    "# COHORT\n",
    "#   V00COHORT double 8 - [Clinical_fnih.sas7bdat, enrollees.sas7bdat]\n",
    "#   COHORT string 11 - [measinventory.sas7bdat]\n",
    "# RACE\n",
    "#   RACE string 1 - [Biospec_fnih_joco_demographics.sas7bdat ]\n",
    "#   P02RACE double 8 - [Clinical_fnih.sas7bdat, enrollees.sas7bdat, measinventory.sas7bdat]\n",
    "# PTH\n",
    "#   Has value_label YNDK for allclinicalXX.sas7bdat, but no type in boneancillarystudy.sas7bdat\n",
    "# READER\n",
    "#   Has value_label '$' in most files, but no type in kmri_sq_biclXX.sas7bdat\n",
    "#\n",
    "# This code captures the common setting and leaves the outliers for custom treatment later\n",
    "\n",
    "global_meta = {}\n",
    "for meta in files_meta.values():\n",
    "    for col in meta.column_names:\n",
    "        if col not in ['RACE', 'COHORT']: # Exceptions, see above\n",
    "            descript = meta.column_names_to_labels.get(col, None)\n",
    "            storage_type = meta.readstat_variable_types[col]\n",
    "            storage_width = meta.variable_storage_width[col]\n",
    "            data_type = meta.variable_to_label.get(col, None)\n",
    "            if data_type in ['$', 'BEST', 'MMDDYY']: \n",
    "                data_type = None\n",
    "            if global_meta.get(var_name_map[col]) and col not in ['ID', 'VERSION']:\n",
    "                # storage_type\n",
    "                assert global_meta[var_name_map[col]]['storage_type'] == storage_type\n",
    "                # Set to largest storage width seen so far\n",
    "                # width\n",
    "                if global_meta[var_name_map[col]]['storage_width'] != storage_width:\n",
    "                    global_meta[var_name_map[col]]['storage_width'] = max(global_meta[var_name_map[col]]['storage_width'], storage_width)\n",
    "                # data_type\n",
    "                assert global_meta[var_name_map[col]]['data_type'] == data_type or not data_type\n",
    "            else:       \n",
    "                global_meta[var_name_map[col]] = {'storage_type': storage_type, 'storage_width': storage_width, 'data_type': data_type, 'descript': descript}\n",
    "global_meta['Visit'] = {'storage_type': None, 'storage_width': None, 'data_type': None, 'descript': 'Which visit this data was collected during'}"
   ]
  },
  {
   "cell_type": "markdown",
   "id": "92aafacc",
   "metadata": {},
   "source": [
    "### Clean up user defined types (SAS value labels) and add to global metadata\n",
    "\n",
    "Finish the construction of the global metadata map by adding in value-labels (SAS mechanism for defining categoricals and missing value flags)\n",
    "\n",
    "The following sanity checks are applied:\n",
    "* Get rid of all NaNs and double NaNs in dictionaries\n",
    "* Confirm that if V01FOO & V02FOO collapse into FOO, then the datatypes are truly the same"
   ]
  },
  {
   "cell_type": "code",
   "execution_count": 9,
   "id": "86f97114",
   "metadata": {
    "pycharm": {
     "name": "#%%\n"
    },
    "tags": []
   },
   "outputs": [],
   "source": [
    "# Grab the system-wide map of all value_labels to their user-defined type dict\n",
    "value_labels = get_value_labels(data_dir + 'formats.sas7bcat')\n",
    "\n",
    "# Create a list of value_labels associated with a double (those for data stored as strings seem fine)\n",
    "vl_doubles = []\n",
    "for name in value_labels.keys():\n",
    "    for var, meta in global_meta.items():\n",
    "        if meta['data_type'] == name and meta['storage_type'] == 'double':\n",
    "            vl_doubles.append(name)\n",
    "            break\n",
    "\n",
    "# Clean out NaNs and double NaNs            \n",
    "for name in vl_doubles:\n",
    "    value_labels[name] = {('.' if isinstance(k, float) and math.isnan(k) else k):v for k,v in value_labels[name].items()}\n",
    "    \n",
    "# Swap out data_type name for actual dictionary from value_labels\n",
    "# add in CategoricalDtype objects to be reused\n",
    "for meta in global_meta.values():\n",
    "    if meta['data_type'] and value_labels.get(meta['data_type']):\n",
    "        meta['data_type'] = value_labels[meta['data_type']]\n",
    "        meta['CategoricalDtype'] = pd.CategoricalDtype(meta['data_type'].values())"
   ]
  },
  {
   "cell_type": "markdown",
   "id": "46c13ca4",
   "metadata": {},
   "source": [
    "### Look at the scope of the name collapse"
   ]
  },
  {
   "cell_type": "code",
   "execution_count": 10,
   "id": "899d6874",
   "metadata": {
    "pycharm": {
     "name": "#%%\n"
    },
    "tags": []
   },
   "outputs": [
    {
     "name": "stdout",
     "output_type": "stream",
     "text": [
      "Original number of unique variables: 11006\n",
      "Collapsed numer of variables: 3368\n"
     ]
    }
   ],
   "source": [
    "# How large is the name collapse?\n",
    "tot_col_set = set()\n",
    "for meta in files_meta.values():\n",
    "    tot_col_set.update([n.upper() for n in meta.column_names])\n",
    "print('Original number of unique variables: ' + str(len(tot_col_set)))\n",
    "print('Collapsed numer of variables: ' + str(len(set(var_name_map.values()))))"
   ]
  },
  {
   "cell_type": "markdown",
   "id": "2c36a0b8",
   "metadata": {},
   "source": [
    "## Create a single dataframe out of multiple datasets\n",
    "Create a single dataframe for all variables across a given fileset.\n",
    "\n",
    "This only sets the datatype for some columns.\n",
    "* ID - set to unsigned int\n",
    "* Visit, Version - set to Categorical\n",
    "* columns where all values are SAS user-defined - set Categorical\n",
    "\n",
    "This means that numeric columns with a mix of missing values and numbers are not automatically converted. Later functions allow you to investigate the data more closely, suggest conversions, and convert the columns as you best see fit."
   ]
  },
  {
   "cell_type": "code",
   "execution_count": 11,
   "id": "b270e83a",
   "metadata": {
    "pycharm": {
     "name": "#%%\n"
    },
    "tags": []
   },
   "outputs": [],
   "source": [
    "def create_df(prefix):\n",
    "    # read in data from each file and append data to master dataframe\n",
    "    df_list = []\n",
    "    for filename in get_data_file_names(all_files, prefix):\n",
    "        tmp_df, _ = pyreadstat.read_file_multiprocessing(pyreadstat.read_sas7bdat, data_dir + filename,\n",
    "                                                            num_processes=6, user_missing=True)\n",
    "       \n",
    "        # Normalize column names to uppercase (SAS is case insensitive and variable names are inconsistent across data files)\n",
    "        # DON'T drop prefixes here because a some files have data for more than one visit and common \n",
    "        # variables would collapse (and Pandas will complain about dup column names with an obscure msg)\n",
    "        tmp_df = tmp_df.rename(columns={c: c.upper() for c in tmp_df.columns})\n",
    "        print(filename + '\\tVar Cnt: ' + str(len(tmp_df.columns)))\n",
    "            \n",
    "        # What visits does this dataframe cover?\n",
    "        inc_visits = collect_prefixes(tmp_df.columns)\n",
    "        inc_visits.sort()\n",
    "        print('Visits: ' + str(inc_visits))\n",
    "        \n",
    "        # Process all variables collected in the same visit at the same time\n",
    "        for visit in inc_visits:\n",
    "            visit_vars = ['ID', 'VERSION']  # variables that don't change between visits\n",
    "            if 'SIDE' in tmp_df:\n",
    "                visit_vars.append('SIDE')\n",
    "            if 'KNEESIDE' in tmp_df:  # part of bone ancillary \n",
    "                visit_vars.append('KNEESIDE')            \n",
    "            if 'HIPSIDE' in tmp_df:  # part of bone ancillary \n",
    "                visit_vars.append('HIPSIDE')                            \n",
    "            if 'READPRJ' in tmp_df:\n",
    "                visit_vars.append('READPRJ')\n",
    "            visit_vars.extend([v for v in tmp_df.columns if v.startswith(visit)])\n",
    "            tmp2_df = tmp_df[visit_vars]\n",
    "            new_cols = {c: c.removeprefix(visit) for c in visit_vars}  # drop visit prefixes from variable names\n",
    "            tmp2_df = tmp2_df.rename(columns=new_cols)\n",
    "            # Categorical values must be set to the master set of all values for each column,\n",
    "            # otherwise categorical lists don't match when concatenating and revert to strings\n",
    "            for col in tmp2_df.columns:\n",
    "                dt = global_meta[col]['data_type']\n",
    "                if dt:\n",
    "                    if isinstance(dt, dict):\n",
    "                        # Need to swap out . for NaN\n",
    "                        if global_meta[col]['storage_type'] == 'double':\n",
    "                            tmp2_df[col].fillna('.', inplace=True)\n",
    "                        tmp2_df[col] = tmp2_df[col].apply(lambda x: dt.get(x, x))\n",
    "                        tmp2_df[col] = tmp2_df[col].astype(global_meta[col]['CategoricalDtype'])\n",
    "                    else:\n",
    "                        print('Unhandled data type: ', col, dt)\n",
    "            tmp2_df.insert(1, 'Visit', visit)  # Mark which visit these variables are associated with\n",
    "            tmp2_df = tmp2_df.copy(deep=True)\n",
    "            # print(visit, tmp2_df.columns)\n",
    "            df_list.append(tmp2_df)\n",
    "\n",
    "    master_df = pd.concat(df_list, axis=0)\n",
    "    master_df['ID'] = pd.to_numeric(master_df['ID'], downcast='unsigned')\n",
    "    master_df = master_df.astype({col: 'category' for col in ['Visit', 'VERSION']})\n",
    "\n",
    "    return master_df"
   ]
  },
  {
   "cell_type": "markdown",
   "id": "03718fe5",
   "metadata": {
    "tags": []
   },
   "source": [
    "## Dataset Inspection and Type Optimization Functions\n",
    "A set of functions to examine the data being converted and help detect the columns that may need manual inspection before conversion.\n",
    "\n",
    "create_df() only sets a few column types. These function looks for columns that likely need manual conversion."
   ]
  },
  {
   "cell_type": "code",
   "execution_count": 12,
   "id": "5c325f73",
   "metadata": {
    "pycharm": {
     "name": "#%%\n"
    },
    "tags": []
   },
   "outputs": [],
   "source": [
    "#     Highlights which columns change between files\n",
    "#\n",
    "# Across a series of files data00.sas7bdat-data11.sas7bdat columns may be added or\n",
    "# dropped based on the evolution of questions asked in OAI. Further, capitalization\n",
    "# may change for the column names. This function highlights those changes.\n",
    "# \n",
    "# Run before create_df() to see what is in the 'sas7bdat' files\n",
    "def column_uniformity_check(prefix):\n",
    "    tot_cnt = 0\n",
    "    col_set = {}\n",
    "    for filename in get_data_file_names(all_files, prefix):\n",
    "        tmp_df, _ = pyreadstat.read_file_multiprocessing(pyreadstat.read_sas7bdat, data_dir + filename,\n",
    "                                                         catalog_file=data_dir + 'formats.sas7bcat',\n",
    "                                                         num_processes=6, user_missing=True)\n",
    "        tot_cnt += tmp_df.shape[0]\n",
    "        print('\\n' + filename + ': '+ str(tmp_df.shape))\n",
    "        \n",
    "        col_names = remove_visit_prefixes(list(tmp_df.columns))\n",
    "        if not col_set:\n",
    "            print(col_names)\n",
    "            col_set = set([c.upper() for c in col_names])\n",
    "        # display any new or missing elements \n",
    "        elif col_set ^ set(col_names):\n",
    "            # Weed out difference solely from SAS case insensitivity\n",
    "            upper_col_names = set([c.upper() for c in col_names])\n",
    "            if not col_set ^ upper_col_names:\n",
    "                print('Names only differ by case')\n",
    "            else:\n",
    "                print(list(col_set ^ set(upper_col_names)))\n",
    "                col_set = set(upper_col_names)\n",
    "\n",
    "    print('\\nTotal rows: ' + str(tot_cnt))"
   ]
  },
  {
   "cell_type": "code",
   "execution_count": 13,
   "id": "6db6aff3",
   "metadata": {
    "pycharm": {
     "name": "#%%\n"
    },
    "tags": []
   },
   "outputs": [],
   "source": [
    "#   After create_df() has been called, gather_column_data_stats() looks at the contents of each column and outputs\n",
    "# its findings in a dataframe. Indexed by the column names in the original dataset, this dataframe allows for\n",
    "# easy lookup of the column label, numeric/string/na/date value counts, min and max numeric values, the presence\n",
    "# of decimal places, and lists of unique missing values and strings present.\n",
    "#\n",
    "# Using the type data from gather_column_data_stats(), suggest_conversions() can suggest likely column types for each\n",
    "# column. It outputs a dictionary that can be pasted into a cell (modified as desired) and then serve as input to \n",
    "# convert_columns().\n",
    "\n",
    "\n",
    "\n",
    "#   Examine dataframe and return information about the data present in each column in a column indexed dataframe\n",
    "# Two dataframes are returned. The first contains data summaries for all colummns that likely still need\n",
    "# conversion. The second one containing data summaries for all columns already in categorical or uint format\n",
    "# (presumably from create_df).\n",
    "def gather_column_data_stats(df):\n",
    "    conv_list, done_list = [], []\n",
    "\n",
    "    for col in df.columns:\n",
    "        label = global_meta[col]['descript']\n",
    "        col_dtype = df[col].dtype\n",
    "        na_cnt = df[col].isna().sum()\n",
    "\n",
    "        # Type matches already converted column types\n",
    "        if col_dtype in ['category', np.uint32, np.uint8]:\n",
    "            done_list.append({'col': col, 'label': label, 'type': col_dtype, 'na_cnt': na_cnt})\n",
    "\n",
    "        # 100% numeric, check for type ((un)signed int, float)\n",
    "        elif col_dtype == float:\n",
    "            num_type, num_cnt, uniq_num, max_num, min_num = examine_numeric_vals(df[col])\n",
    "            add_entry(conv_list, col, label, num_type=num_type,\n",
    "                      uniq_num=uniq_num, max_num=max_num, min_num=min_num, num_cnt=num_cnt, na_cnt=na_cnt)\n",
    "\n",
    "        # object columns can be mixed types, gather stats on all type present\n",
    "        elif col_dtype == object:\n",
    "            uniq_strs, str_list, mv_list, numeric_str = None, None, None, None\n",
    "            num_type, uniq_num, max_num, min_num = None, None, None, None\n",
    "            mv_cnt, str_cnt, num_cnt, date_cnt, na_cnt = 0, 0, 0, 0, 0\n",
    "\n",
    "            \n",
    "            # look at data of each type in column\n",
    "            col_types = list(df[col].apply(type).unique())   \n",
    "            for data_type in col_types:\n",
    "                col_subset = df[col][df[col].apply(lambda x: isinstance(x, data_type))] \n",
    "                if data_type == float or data_type == int:\n",
    "                    num_type, num_cnt, uniq_num, max_num, min_num = examine_numeric_vals(col_subset)\n",
    "                elif data_type == str:\n",
    "                    str_cnt, uniq_strs, str_list, mv_cnt, mv_list, numeric_str = examine_str_vals(col_subset)\n",
    "                elif data_type == datetime.date:\n",
    "                    date_cnt = col_subset.shape[0]\n",
    "                else:  # Unexpected datatype\n",
    "                    print('{} contained unexpected data type: {}'.format(col, data_type))\n",
    "                    \n",
    "            # Add stats to entry for this data column\n",
    "            add_entry(conv_list, col, label, uniq_strs=uniq_strs, str_list=str_list, mv_cnt=mv_cnt, mv_list=mv_list,\n",
    "                      numeric_str=numeric_str, num_type=num_type, uniq_num=uniq_num, max_num=max_num, min_num=min_num, \n",
    "                      str_cnt=str_cnt, num_cnt=num_cnt, date_cnt=date_cnt, na_cnt=na_cnt)\n",
    "        else:\n",
    "            print('{} contained unexpected data types: {}'.format(col, list(df[col].apply(type).unique())))\n",
    "        \n",
    "    return pd.DataFrame(conv_list).set_index('col'), pd.DataFrame(done_list).set_index('col')\n",
    "\n",
    "\n",
    "#   Using the output of gather_column_data_stats() display a dictionary suggesting what Pandas types each\n",
    "# column should be converted to.\n",
    "def suggest_conversions(df):\n",
    "    print('targets = {')\n",
    "    # Dates\n",
    "    count_cols = ['str_cnt', 'num_cnt', 'date_cnt', 'na_cnt']\n",
    "    subset = df[count_cols].apply(lambda x: x > 0)\n",
    "    dates = df[~subset.str_cnt & ~subset.num_cnt & subset.date_cnt].index.to_list()\n",
    "    dates.extend(df[subset.str_cnt & ~subset.num_cnt & subset.date_cnt & (df.uniq_strs == 0)].index.to_list())\n",
    "    if dates:\n",
    "        print('# Columns with only dates, missing, and NA values')\n",
    "        print(\"'date': {},\\n\".format(dates))\n",
    "    \n",
    "    # Numeric\n",
    "    numeric = df[subset.num_cnt & ~subset.date_cnt & (df.uniq_strs == 0)]\n",
    "    unsigned = numeric[numeric.num_type == 'unsigned'].index.to_list()\n",
    "    if unsigned:\n",
    "        print('# Columns with only unsigned ints, missing, and NA values')\n",
    "        print(\"'unsigned': {},\\n\".format(unsigned))\n",
    "\n",
    "    signed = numeric[numeric.num_type == 'signed'].index.to_list()\n",
    "    if signed:\n",
    "        print('# Columns with only signed ints, missing, and NA values')\n",
    "        print(\"'signed': {},\\n\".format(signed))\n",
    "\n",
    "    floats = numeric[numeric.num_type == 'float'].index.to_list()\n",
    "    if floats:\n",
    "        print('# Columns with only floats, missing, and NA values')\n",
    "        print(\"'float': {},\\n\".format(floats))\n",
    "\n",
    "    # Strings\n",
    "    strings = df[subset.str_cnt & ~subset.num_cnt & ~subset.date_cnt].index.to_list()\n",
    "    if strings:\n",
    "        print('# Columns with only strings, missing, and NA values')\n",
    "        print(\"'cat': {},\\n\".format(strings))\n",
    "    print('}\\n')\n",
    "    \n",
    "    print('\\nHandled columns: {}'.format(len(dates) + len(unsigned) + len(signed) + len(floats) + len(strings)))\n",
    "    \n",
    "    missing_cols = set(df.index.to_list()) - set(dates+unsigned+signed+floats+strings)\n",
    "    if missing_cols:\n",
    "        print('Unhandled columns: {}'.format(missing_cols))\n",
    "        \n",
    "\n",
    "#   Given a dictionary mapping types to lists of columns to convert to that type, along with the type information\n",
    "# information dataframe, and the data itself, return a dataframe with the corresponding columns converted as well\n",
    "# as a matching \"shadow\" dataframe of missing values.\n",
    "#\n",
    "# If no missing values are present anywhere in the dataset, an empty dataframe is returned\n",
    "def convert_columns(targets, data_stats_df, df):\n",
    "    df = df.copy(deep=True)\n",
    "    \n",
    "    # create the shadow datframe for missing values\n",
    "    all_cols = [col for col_list in targets.values() for col in col_list]\n",
    "    cols_w_missing = [col for col in all_cols if data_stats_df.loc[col, 'missing_val_cnt'] > 0]\n",
    "    missing_df = df[cols_w_missing].applymap(lambda x: x if isinstance(x, str) else np.NaN)\n",
    "    missing_df = missing_df.applymap(lambda x: default_missing_value_codes.get(x, x))\n",
    "    missing_df = missing_df.astype('category')\n",
    "    if not missing_df.empty:\n",
    "        missing_df = pd.concat([df['ID'], df['Visit'], missing_df], axis=1)\n",
    "#        missing_df['ID'] = df['ID']\n",
    "#        missing_df['Visit'] = df['Visit']\n",
    "        missing_df = missing_df.set_index(['ID', 'Visit'])\n",
    "        \n",
    "    for col_type, cols_to_conv in targets.items():\n",
    "        na = np.NaN\n",
    "        if col_type in ['unsigned', 'signed']:\n",
    "            na = pd.NA\n",
    "        \n",
    "        # Now that missing values are copied to a shadow dataframe, remove them from the dataframe\n",
    "        cols_w_missing = [col for col in cols_to_conv if data_stats_df.loc[col, 'missing_val_cnt'] > 0]\n",
    "        replace_dict = {col: {val: na for val in data_stats_df.loc[col, 'missing_val_list']} for col in cols_w_missing}\n",
    "        df[cols_w_missing] = df[cols_w_missing].replace(replace_dict)   \n",
    "        \n",
    "        if col_type in ['signed', 'unsigned']:\n",
    "            cols_w_nas = [col for col in cols_to_conv if data_stats_df.loc[col, 'na_cnt'] > 0]\n",
    "            df[cols_w_nas] = df[cols_w_nas].fillna(pd.NA) # Manual conversions needed due to presence of NaNs\n",
    "            cols_w_nas = list(set(cols_w_nas + cols_w_missing))\n",
    "            df[cols_w_nas] = df[cols_w_nas].astype('Int32')  # Int32 allows for pd.NA values\n",
    "            \n",
    "            df[cols_to_conv] = df[cols_to_conv].apply(pd.to_numeric, downcast=col_type)\n",
    "\n",
    "        elif col_type == 'float':\n",
    "            df[cols_to_conv] = df[cols_to_conv].apply(pd.to_numeric, downcast='float')\n",
    "        elif col_type == 'cat':\n",
    "            df[cols_to_conv] = df[cols_to_conv].astype('category')\n",
    "        elif col_type == 'date':\n",
    "            df[cols_to_conv] = df[cols_to_conv].astype('datetime64[ns]')\n",
    "   \n",
    "    return df.set_index(['ID', 'Visit']), missing_df\n",
    "\n",
    "\n",
    "# Helper functions\n",
    "\n",
    "#   Check for numeric type ((un)signed int, float. NaN), min, max, unique cnt \n",
    "def examine_numeric_vals(col):\n",
    "    num_type = 'float'\n",
    "    min_val, max_val = col.min(), col.max()\n",
    "    unique_cnt = len(col.unique())\n",
    "\n",
    "    # Does it really need to be a float?\n",
    "    if all(col.apply(type) == int) or col[~col.isna()].apply(float.is_integer).all():  # ignoring NaNs, are the rest integers?\n",
    "        num_type = 'unsigned'\n",
    "        if min_val < 0:\n",
    "            num_type = 'signed'\n",
    "\n",
    "    num_cnt = col.shape[0] - col.isna().sum()\n",
    "    # Are they all NA?\n",
    "    if num_cnt == 0:\n",
    "        num_type = 'na'\n",
    "            \n",
    "    return num_type, num_cnt, unique_cnt, max_val, min_val\n",
    "\n",
    "\n",
    "#   Get a list of unique strs, and whether strings are numbers\n",
    "def examine_str_vals(col):\n",
    "    missing_vals = set([k for k in default_missing_value_codes.keys()])\n",
    "    uniques = set(col.unique()) - missing_vals\n",
    "    missing_vals = missing_vals & set(col.unique())\n",
    "    unique_cnt = len(uniques)\n",
    "    \n",
    "    # Are they all strings written as strings?\n",
    "    numeric_str = False\n",
    "    if not pd.to_numeric(col, errors='coerce').isna().any():\n",
    "        numeric_str = True\n",
    "    return col.shape[0], len(uniques), uniques, len(missing_vals), missing_vals, numeric_str\n",
    "\n",
    "\n",
    "#    Add column data to list\n",
    "# - convenience function to reduce argument count\n",
    "def add_entry(conv_list, col_name, label, uniq_strs=0, str_list=None, mv_cnt=0, mv_list=None, numeric_str=None,\n",
    "              num_type=None, uniq_num=None, max_num=None, min_num=None, str_cnt=0, num_cnt=0, date_cnt=0, na_cnt=0):\n",
    "    conv_list.append({'col': col_name, 'label': label, 'uniq_strs': uniq_strs, 'str_list': str_list, \n",
    "                      'missing_val_cnt': mv_cnt, 'missing_val_list': mv_list, 'numeric_str': numeric_str,\n",
    "                      'num_type': num_type, 'uniq_num': uniq_num, 'max_num': max_num, 'min_num': min_num, \n",
    "                      'str_cnt': str_cnt, 'num_cnt': num_cnt, 'date_cnt': date_cnt, 'na_cnt': na_cnt})"
   ]
  },
  {
   "cell_type": "code",
   "execution_count": 14,
   "id": "af4cddf1",
   "metadata": {
    "pycharm": {
     "name": "#%%\n"
    },
    "tags": []
   },
   "outputs": [],
   "source": [
    "#         Column data stats summary functions - called after gather_column_data_stats()\n",
    "\n",
    "#   Print a dataframe wide summary of the datatypes found in the analysis\n",
    "# arguments - data dataframe, data summary dataframe\n",
    "def data_stats_summary(df, data_stats_df):\n",
    "    print('Already defined cols: {} \\tCols to convert: {}\\t Total col cnt: {}'.format(df.shape[1] - data_stats_df.shape[0], data_stats_df.shape[0], df.shape[1]))\n",
    "    print('\\nColumn types to convert:\\n{}'.format(column_types_present(data_stats_df)))\n",
    "    print('\\nNumeric types of columns:\\n{}'.format(data_stats_df['num_type'].value_counts()))\n",
    "    print('\\nLargest number of unique strings: {}'.format(data_stats_df['uniq_strs'].max()))\n",
    "    #print('\\nHistogram of different NA count sizes:\\n{}'.format(data_stats_df['na_cnt'].value_counts()))\n",
    "\n",
    "    \n",
    "#    Print a table of the combinations of data types found across columns in the analysis\n",
    "# arguments - data summary dataframe\n",
    "def column_types_present(df):\n",
    "    count_cols = ['str_cnt', 'num_cnt', 'date_cnt', 'na_cnt']\n",
    "    subset = df[count_cols]\n",
    "    subset = subset.apply(lambda x: x > 0)\n",
    "    return subset.groupby(count_cols).size().reset_index().rename(columns={0:'count'})"
   ]
  },
  {
   "cell_type": "code",
   "execution_count": 15,
   "id": "496200f9",
   "metadata": {
    "pycharm": {
     "name": "#%%\n"
    },
    "tags": []
   },
   "outputs": [],
   "source": [
    "# Inspect values and types\n",
    "                \n",
    "#   Show string columns data to look for patterns\n",
    "def show_string_col_stats(stats_df):\n",
    "    count_cols = ['str_cnt', 'num_cnt', 'date_cnt', 'na_cnt']\n",
    "    subset = stats_df[count_cols].apply(lambda x: x > 0)\n",
    "    return stats_df[subset.str_cnt & ~subset.num_cnt & ~subset.date_cnt & subset.na_cnt]                \n",
    "\n",
    "\n",
    "#    Check the converted dataframe for wrong and suspcious things\n",
    "#  List which columns aren't categoricals though create_df should have made them so\n",
    "#  List which columns have NA/NaN values though they weren't expected to\n",
    "def sanity_check(df):\n",
    "    # Confirm all categorical columns expected to be categorical are\n",
    "    for col in df:\n",
    "        if col not in ['Visit', 'VERSION'] and  global_meta[col]['data_type']:\n",
    "            if not pdtypes.is_categorical_dtype(df[col]):\n",
    "                print('Failure to make column categorical: ' + col)\n",
    "            if df[col].isna().all():\n",
    "                print('All NaN in categorical col: ' + col)\n",
    "    if df.select_dtypes(include='object').columns.to_list():\n",
    "        print('Columns still object type: ', df.select_dtypes(include='object').columns.to_list())         "
   ]
  },
  {
   "cell_type": "markdown",
   "id": "0a0236aa",
   "metadata": {},
   "source": [
    "# Dataset Conversions\n",
    "Processed in alphabetical order"
   ]
  },
  {
   "cell_type": "markdown",
   "id": "59b07048",
   "metadata": {
    "tags": []
   },
   "source": [
    "## Biospec_fnih_joco_demographics\n",
    "TODO: Not handled yet as column naming format doesn't use visit prefixes"
   ]
  },
  {
   "cell_type": "code",
   "execution_count": 16,
   "id": "d901bce3",
   "metadata": {
    "execution": {
     "iopub.execute_input": "2023-12-21T20:54:10.031356Z",
     "iopub.status.busy": "2023-12-21T20:54:10.031006Z",
     "iopub.status.idle": "2023-12-21T20:54:11.003155Z",
     "shell.execute_reply": "2023-12-21T20:54:11.002373Z",
     "shell.execute_reply.started": "2023-12-21T20:54:10.031331Z"
    },
    "pycharm": {
     "name": "#%%\n"
    }
   },
   "outputs": [
    {
     "name": "stdout",
     "output_type": "stream",
     "text": [
      "\n",
      "Biospec_fnih_joco_demographics.sas7bdat: (129, 8)\n",
      "['LabCorp_Accession_ID', 'SpecID', 'Timepoint', 'Age', 'BMI', 'Race', 'Gender', 'VERSION']\n",
      "\n",
      "Total rows: 129\n"
     ]
    }
   ],
   "source": [
    "prefix = 'Biospec_fnih_joco_demographics'\n",
    "column_uniformity_check(prefix)"
   ]
  },
  {
   "cell_type": "markdown",
   "id": "0064eadc",
   "metadata": {
    "tags": []
   },
   "source": [
    "## Clinical_fnih"
   ]
  },
  {
   "cell_type": "code",
   "execution_count": 17,
   "id": "dce9520e",
   "metadata": {
    "execution": {
     "iopub.execute_input": "2023-12-21T20:54:11.005189Z",
     "iopub.status.busy": "2023-12-21T20:54:11.004789Z",
     "iopub.status.idle": "2023-12-21T20:54:12.035611Z",
     "shell.execute_reply": "2023-12-21T20:54:12.034744Z",
     "shell.execute_reply.started": "2023-12-21T20:54:11.005157Z"
    },
    "pycharm": {
     "name": "#%%\n"
    },
    "tags": []
   },
   "outputs": [
    {
     "name": "stdout",
     "output_type": "stream",
     "text": [
      "\n",
      "Clinical_fnih.sas7bdat: (600, 48)\n",
      "['ID', 'SIDE', 'VERSION', 'CASE', 'GROUPTYPE', 'JSPAINPRG', 'JSONLYPRG', 'PAINONLYPRG', 'NONPRG', 'XRJSM', 'XRKL', 'XRJSL', 'XRJSM', 'XRKL', 'XRJSL', 'XRJSM', 'XRKL', 'XRJSL', 'XRJSM', 'XRKL', 'XRJSL', 'XRJSM', 'XRKL', 'XRJSL', 'MCMJSW', 'MCMJSW', 'MCMJSW', 'MCMJSW', 'MCMJSW', 'KPMEDCV', 'BMI', 'AGE', 'SEX', 'HISP', 'COHORT', 'RACE', 'WOMKP', 'WOMKP', 'WOMKP', 'WOMKP', 'WOMKP', 'WOMADL', 'WOMADL', 'WOMADL', 'WOMADL', 'WOMADL', 'JSPRG', 'PAINPRG']\n",
      "\n",
      "Total rows: 600\n"
     ]
    }
   ],
   "source": [
    "prefix = 'Clinical_fnih'\n",
    "column_uniformity_check(prefix)"
   ]
  },
  {
   "cell_type": "code",
   "execution_count": 18,
   "id": "93faba09",
   "metadata": {
    "execution": {
     "iopub.execute_input": "2023-12-21T20:54:12.037394Z",
     "iopub.status.busy": "2023-12-21T20:54:12.037044Z",
     "iopub.status.idle": "2023-12-21T20:54:13.058927Z",
     "shell.execute_reply": "2023-12-21T20:54:13.058131Z",
     "shell.execute_reply.started": "2023-12-21T20:54:12.037365Z"
    },
    "pycharm": {
     "name": "#%%\n"
    },
    "tags": []
   },
   "outputs": [
    {
     "name": "stdout",
     "output_type": "stream",
     "text": [
      "Clinical_fnih.sas7bdat\tVar Cnt: 48\n",
      "Visits: ['P01', 'P02', 'V00', 'V01', 'V03', 'V05', 'V06']\n",
      "(4200, 17)\n",
      "\n",
      "Starting dataframe size: 0.92MB\n"
     ]
    }
   ],
   "source": [
    "tmp_df = create_df(prefix)\n",
    "print(tmp_df.shape)\n",
    "print('\\nStarting dataframe size: {:.2f}MB'.format(tmp_df.memory_usage(deep=True).sum() / (1024**2)))"
   ]
  },
  {
   "cell_type": "code",
   "execution_count": 19,
   "id": "67316bad-aa87-4e36-a08d-f6b7d6a502f9",
   "metadata": {
    "execution": {
     "iopub.execute_input": "2023-12-21T20:54:13.060541Z",
     "iopub.status.busy": "2023-12-21T20:54:13.060189Z",
     "iopub.status.idle": "2023-12-21T20:54:13.069313Z",
     "shell.execute_reply": "2023-12-21T20:54:13.068535Z",
     "shell.execute_reply.started": "2023-12-21T20:54:13.060512Z"
    },
    "tags": []
   },
   "outputs": [
    {
     "name": "stdout",
     "output_type": "stream",
     "text": [
      "KPMEDCV\n",
      "SEX\n",
      "HISP\n",
      "RACE\n",
      "XRKL\n",
      "COHORT\n"
     ]
    }
   ],
   "source": [
    "for col in tmp_df.select_dtypes(include='category'):\n",
    "    if not all(isinstance(cat, str) for cat in tmp_df[col].cat.categories):\n",
    "        print(col, tmp_df[col].cat.categories)\n",
    "    if tmp_df[col].isna().sum():\n",
    "        print(col)"
   ]
  },
  {
   "cell_type": "code",
   "execution_count": 20,
   "id": "71356c12",
   "metadata": {
    "execution": {
     "iopub.execute_input": "2023-12-21T20:54:13.071035Z",
     "iopub.status.busy": "2023-12-21T20:54:13.070628Z",
     "iopub.status.idle": "2023-12-21T20:54:13.132880Z",
     "shell.execute_reply": "2023-12-21T20:54:13.132114Z",
     "shell.execute_reply.started": "2023-12-21T20:54:13.071005Z"
    },
    "pycharm": {
     "name": "#%%\n"
    },
    "tags": []
   },
   "outputs": [],
   "source": [
    "data_stats_df, done_df = gather_column_data_stats(tmp_df)"
   ]
  },
  {
   "cell_type": "code",
   "execution_count": 21,
   "id": "ad27e822",
   "metadata": {
    "execution": {
     "iopub.execute_input": "2023-12-21T20:54:13.141088Z",
     "iopub.status.busy": "2023-12-21T20:54:13.140837Z",
     "iopub.status.idle": "2023-12-21T20:54:13.173868Z",
     "shell.execute_reply": "2023-12-21T20:54:13.172951Z",
     "shell.execute_reply.started": "2023-12-21T20:54:13.141059Z"
    },
    "pycharm": {
     "name": "#%%\n"
    },
    "tags": []
   },
   "outputs": [
    {
     "name": "stdout",
     "output_type": "stream",
     "text": [
      "Already defined cols: 10 \tCols to convert: 7\t Total col cnt: 17\n",
      "\n",
      "Column types to convert:\n",
      "   str_cnt  num_cnt  date_cnt  na_cnt  count\n",
      "0    False     True     False    True      1\n",
      "1     True     True     False   False      6\n",
      "\n",
      "Numeric types of columns:\n",
      "num_type\n",
      "float       6\n",
      "unsigned    1\n",
      "Name: count, dtype: int64\n",
      "\n",
      "Largest number of unique strings: 0\n"
     ]
    },
    {
     "data": {
      "text/html": [
       "<div>\n",
       "<style scoped>\n",
       "    .dataframe tbody tr th:only-of-type {\n",
       "        vertical-align: middle;\n",
       "    }\n",
       "\n",
       "    .dataframe tbody tr th {\n",
       "        vertical-align: top;\n",
       "    }\n",
       "\n",
       "    .dataframe thead th {\n",
       "        text-align: right;\n",
       "    }\n",
       "</style>\n",
       "<table border=\"1\" class=\"dataframe\">\n",
       "  <thead>\n",
       "    <tr style=\"text-align: right;\">\n",
       "      <th></th>\n",
       "      <th>label</th>\n",
       "      <th>uniq_strs</th>\n",
       "      <th>str_list</th>\n",
       "      <th>missing_val_cnt</th>\n",
       "      <th>missing_val_list</th>\n",
       "      <th>numeric_str</th>\n",
       "      <th>num_type</th>\n",
       "      <th>uniq_num</th>\n",
       "      <th>max_num</th>\n",
       "      <th>min_num</th>\n",
       "      <th>str_cnt</th>\n",
       "      <th>num_cnt</th>\n",
       "      <th>date_cnt</th>\n",
       "      <th>na_cnt</th>\n",
       "    </tr>\n",
       "    <tr>\n",
       "      <th>col</th>\n",
       "      <th></th>\n",
       "      <th></th>\n",
       "      <th></th>\n",
       "      <th></th>\n",
       "      <th></th>\n",
       "      <th></th>\n",
       "      <th></th>\n",
       "      <th></th>\n",
       "      <th></th>\n",
       "      <th></th>\n",
       "      <th></th>\n",
       "      <th></th>\n",
       "      <th></th>\n",
       "      <th></th>\n",
       "    </tr>\n",
       "  </thead>\n",
       "  <tbody>\n",
       "    <tr>\n",
       "      <th>BMI</th>\n",
       "      <td>BMI</td>\n",
       "      <td>0</td>\n",
       "      <td>{}</td>\n",
       "      <td>1</td>\n",
       "      <td>{O}</td>\n",
       "      <td>False</td>\n",
       "      <td>float</td>\n",
       "      <td>192</td>\n",
       "      <td>46.700</td>\n",
       "      <td>18.6</td>\n",
       "      <td>1</td>\n",
       "      <td>599</td>\n",
       "      <td>0</td>\n",
       "      <td>0</td>\n",
       "    </tr>\n",
       "    <tr>\n",
       "      <th>XRJSM</th>\n",
       "      <td>BL(BU): joint space narrowing (OARSI grades 0-...</td>\n",
       "      <td>0</td>\n",
       "      <td>{}</td>\n",
       "      <td>2</td>\n",
       "      <td>{A, P}</td>\n",
       "      <td>False</td>\n",
       "      <td>float</td>\n",
       "      <td>14</td>\n",
       "      <td>3.000</td>\n",
       "      <td>0.0</td>\n",
       "      <td>90</td>\n",
       "      <td>2894</td>\n",
       "      <td>0</td>\n",
       "      <td>0</td>\n",
       "    </tr>\n",
       "    <tr>\n",
       "      <th>XRJSL</th>\n",
       "      <td>BL (BU): joint space narrowing (OARSI grades 0...</td>\n",
       "      <td>0</td>\n",
       "      <td>{}</td>\n",
       "      <td>2</td>\n",
       "      <td>{A, P}</td>\n",
       "      <td>False</td>\n",
       "      <td>float</td>\n",
       "      <td>5</td>\n",
       "      <td>2.000</td>\n",
       "      <td>0.0</td>\n",
       "      <td>90</td>\n",
       "      <td>2894</td>\n",
       "      <td>0</td>\n",
       "      <td>0</td>\n",
       "    </tr>\n",
       "    <tr>\n",
       "      <th>MCMJSW</th>\n",
       "      <td>BL: reading (JD): medial minimum JSW [mm]</td>\n",
       "      <td>0</td>\n",
       "      <td>{}</td>\n",
       "      <td>3</td>\n",
       "      <td>{A, P, T}</td>\n",
       "      <td>False</td>\n",
       "      <td>float</td>\n",
       "      <td>1375</td>\n",
       "      <td>8.255</td>\n",
       "      <td>0.0</td>\n",
       "      <td>87</td>\n",
       "      <td>2897</td>\n",
       "      <td>0</td>\n",
       "      <td>0</td>\n",
       "    </tr>\n",
       "    <tr>\n",
       "      <th>AGE</th>\n",
       "      <td>None</td>\n",
       "      <td>0</td>\n",
       "      <td>None</td>\n",
       "      <td>0</td>\n",
       "      <td>None</td>\n",
       "      <td>None</td>\n",
       "      <td>unsigned</td>\n",
       "      <td>36</td>\n",
       "      <td>79.000</td>\n",
       "      <td>45.0</td>\n",
       "      <td>0</td>\n",
       "      <td>600</td>\n",
       "      <td>0</td>\n",
       "      <td>3600</td>\n",
       "    </tr>\n",
       "    <tr>\n",
       "      <th>WOMKP</th>\n",
       "      <td>BL: WOMAC Pain Score</td>\n",
       "      <td>0</td>\n",
       "      <td>{}</td>\n",
       "      <td>2</td>\n",
       "      <td>{M, I}</td>\n",
       "      <td>False</td>\n",
       "      <td>float</td>\n",
       "      <td>27</td>\n",
       "      <td>20.000</td>\n",
       "      <td>0.0</td>\n",
       "      <td>2</td>\n",
       "      <td>2985</td>\n",
       "      <td>0</td>\n",
       "      <td>0</td>\n",
       "    </tr>\n",
       "    <tr>\n",
       "      <th>WOMADL</th>\n",
       "      <td>BL: WOMAC Disability Score</td>\n",
       "      <td>0</td>\n",
       "      <td>{}</td>\n",
       "      <td>2</td>\n",
       "      <td>{M, I}</td>\n",
       "      <td>False</td>\n",
       "      <td>float</td>\n",
       "      <td>158</td>\n",
       "      <td>68.000</td>\n",
       "      <td>0.0</td>\n",
       "      <td>9</td>\n",
       "      <td>2978</td>\n",
       "      <td>0</td>\n",
       "      <td>0</td>\n",
       "    </tr>\n",
       "  </tbody>\n",
       "</table>\n",
       "</div>"
      ],
      "text/plain": [
       "                                                    label  uniq_strs str_list  \\\n",
       "col                                                                             \n",
       "BMI                                                   BMI          0       {}   \n",
       "XRJSM   BL(BU): joint space narrowing (OARSI grades 0-...          0       {}   \n",
       "XRJSL   BL (BU): joint space narrowing (OARSI grades 0...          0       {}   \n",
       "MCMJSW          BL: reading (JD): medial minimum JSW [mm]          0       {}   \n",
       "AGE                                                  None          0     None   \n",
       "WOMKP                                BL: WOMAC Pain Score          0       {}   \n",
       "WOMADL                         BL: WOMAC Disability Score          0       {}   \n",
       "\n",
       "        missing_val_cnt missing_val_list numeric_str  num_type  uniq_num  \\\n",
       "col                                                                        \n",
       "BMI                   1              {O}       False     float       192   \n",
       "XRJSM                 2           {A, P}       False     float        14   \n",
       "XRJSL                 2           {A, P}       False     float         5   \n",
       "MCMJSW                3        {A, P, T}       False     float      1375   \n",
       "AGE                   0             None        None  unsigned        36   \n",
       "WOMKP                 2           {M, I}       False     float        27   \n",
       "WOMADL                2           {M, I}       False     float       158   \n",
       "\n",
       "        max_num  min_num  str_cnt  num_cnt  date_cnt  na_cnt  \n",
       "col                                                           \n",
       "BMI      46.700     18.6        1      599         0       0  \n",
       "XRJSM     3.000      0.0       90     2894         0       0  \n",
       "XRJSL     2.000      0.0       90     2894         0       0  \n",
       "MCMJSW    8.255      0.0       87     2897         0       0  \n",
       "AGE      79.000     45.0        0      600         0    3600  \n",
       "WOMKP    20.000      0.0        2     2985         0       0  \n",
       "WOMADL   68.000      0.0        9     2978         0       0  "
      ]
     },
     "execution_count": 21,
     "metadata": {},
     "output_type": "execute_result"
    }
   ],
   "source": [
    "data_stats_summary(tmp_df, data_stats_df)\n",
    "data_stats_df"
   ]
  },
  {
   "cell_type": "code",
   "execution_count": 22,
   "id": "73e5cab8",
   "metadata": {
    "execution": {
     "iopub.execute_input": "2023-12-21T20:54:13.175391Z",
     "iopub.status.busy": "2023-12-21T20:54:13.174946Z",
     "iopub.status.idle": "2023-12-21T20:54:13.187406Z",
     "shell.execute_reply": "2023-12-21T20:54:13.186595Z",
     "shell.execute_reply.started": "2023-12-21T20:54:13.175365Z"
    },
    "pycharm": {
     "name": "#%%\n"
    },
    "tags": []
   },
   "outputs": [
    {
     "name": "stdout",
     "output_type": "stream",
     "text": [
      "targets = {\n",
      "# Columns with only unsigned ints, missing, and NA values\n",
      "'unsigned': ['AGE'],\n",
      "\n",
      "# Columns with only floats, missing, and NA values\n",
      "'float': ['BMI', 'XRJSM', 'XRJSL', 'MCMJSW', 'WOMKP', 'WOMADL'],\n",
      "\n",
      "}\n",
      "\n",
      "\n",
      "Handled columns: 7\n"
     ]
    }
   ],
   "source": [
    "suggest_conversions(data_stats_df)"
   ]
  },
  {
   "cell_type": "code",
   "execution_count": 23,
   "id": "443355cb",
   "metadata": {
    "execution": {
     "iopub.execute_input": "2023-12-21T20:54:13.188829Z",
     "iopub.status.busy": "2023-12-21T20:54:13.188549Z",
     "iopub.status.idle": "2023-12-21T20:54:13.262094Z",
     "shell.execute_reply": "2023-12-21T20:54:13.261366Z",
     "shell.execute_reply.started": "2023-12-21T20:54:13.188804Z"
    },
    "pycharm": {
     "name": "#%%\n"
    },
    "tags": []
   },
   "outputs": [],
   "source": [
    "targets = {\n",
    "# Columns with only unsigned ints, missing, and NA values\n",
    "'unsigned': ['AGE'],\n",
    "\n",
    "# Columns with only floats, missing, and NA values\n",
    "'float': ['BMI', 'XRJSM', 'XRJSL', 'MCMJSW', 'WOMKP', 'WOMADL'],\n",
    "\n",
    "}\n",
    "\n",
    "new_df, missing_df = convert_columns(targets, data_stats_df, tmp_df)"
   ]
  },
  {
   "cell_type": "code",
   "execution_count": 24,
   "id": "c93f9136-b5c1-4a30-b663-e114c6f97162",
   "metadata": {
    "execution": {
     "iopub.execute_input": "2023-12-21T20:54:13.263735Z",
     "iopub.status.busy": "2023-12-21T20:54:13.263328Z",
     "iopub.status.idle": "2023-12-21T20:54:13.270979Z",
     "shell.execute_reply": "2023-12-21T20:54:13.270225Z",
     "shell.execute_reply.started": "2023-12-21T20:54:13.263708Z"
    },
    "tags": []
   },
   "outputs": [],
   "source": [
    "# Clean up the side var and make an index\n",
    "new_df['SIDE'] = new_df['SIDE'].cat.rename_categories({'1: Right': 'RIGHT', '2: Left': 'LEFT'})\n",
    "new_df.set_index('SIDE', append=True, inplace=True)"
   ]
  },
  {
   "cell_type": "code",
   "execution_count": 25,
   "id": "83f53cbe",
   "metadata": {
    "execution": {
     "iopub.execute_input": "2023-12-21T20:54:13.272404Z",
     "iopub.status.busy": "2023-12-21T20:54:13.272167Z",
     "iopub.status.idle": "2023-12-21T20:54:13.288735Z",
     "shell.execute_reply": "2023-12-21T20:54:13.288066Z",
     "shell.execute_reply.started": "2023-12-21T20:54:13.272379Z"
    },
    "pycharm": {
     "name": "#%%\n"
    },
    "tags": []
   },
   "outputs": [
    {
     "name": "stdout",
     "output_type": "stream",
     "text": [
      "\n",
      "VERSION    category\n",
      "KPMEDCV    category\n",
      "BMI         float32\n",
      "SEX        category\n",
      "HISP       category\n",
      "RACE       category\n",
      "XRJSM       float32\n",
      "XRKL       category\n",
      "XRJSL       float32\n",
      "MCMJSW      float32\n",
      "AGE           UInt8\n",
      "COHORT     category\n",
      "WOMKP       float32\n",
      "WOMADL      float32\n",
      "dtype: object\n",
      "\n",
      "Missing values present, shadow dataframe created.\n",
      "               BMI XRJSM XRJSL MCMJSW WOMKP WOMADL\n",
      "ID      Visit                                     \n",
      "9001695 P01    NaN   NaN   NaN    NaN   NaN    NaN\n",
      "9002116 P01    NaN   NaN   NaN    NaN   NaN    NaN\n",
      "9002430 P01    NaN   NaN   NaN    NaN   NaN    NaN\n",
      "9002817 P01    NaN   NaN   NaN    NaN   NaN    NaN\n",
      "9003316 P01    NaN   NaN   NaN    NaN   NaN    NaN\n",
      "...            ...   ...   ...    ...   ...    ...\n",
      "9993833 V06    NaN   NaN   NaN    NaN   NaN    NaN\n",
      "9994408 V06    NaN   NaN   NaN    NaN   NaN    NaN\n",
      "9995338 V06    NaN   NaN   NaN    NaN   NaN    NaN\n",
      "9996098 V06    NaN   NaN   NaN    NaN   NaN    NaN\n",
      "9997381 V06    NaN   NaN   NaN    NaN   NaN    NaN\n",
      "\n",
      "[4200 rows x 6 columns]\n"
     ]
    }
   ],
   "source": [
    "sanity_check(new_df)\n",
    "print()\n",
    "print(new_df.dtypes)\n",
    "if not missing_df.empty:\n",
    "    print('\\nMissing values present, shadow dataframe created.')\n",
    "    print(missing_df)"
   ]
  },
  {
   "cell_type": "code",
   "execution_count": 26,
   "id": "ef53b3e5",
   "metadata": {
    "execution": {
     "iopub.execute_input": "2023-12-21T20:54:13.290141Z",
     "iopub.status.busy": "2023-12-21T20:54:13.289765Z",
     "iopub.status.idle": "2023-12-21T20:54:13.297840Z",
     "shell.execute_reply": "2023-12-21T20:54:13.296715Z",
     "shell.execute_reply.started": "2023-12-21T20:54:13.290117Z"
    },
    "pycharm": {
     "name": "#%%\n"
    },
    "tags": []
   },
   "outputs": [
    {
     "name": "stdout",
     "output_type": "stream",
     "text": [
      "\n",
      "Final dataframe size: 0.19MB\n",
      "Shadow dataframe size: 0.05MB\n"
     ]
    }
   ],
   "source": [
    "print('\\nFinal dataframe size: {:.2f}MB'.format(new_df.memory_usage(deep=True).sum() / (1024**2)))\n",
    "print('Shadow dataframe size: {:.2f}MB'.format(missing_df.memory_usage(deep=True).sum() / (1024**2)))"
   ]
  },
  {
   "cell_type": "code",
   "execution_count": 27,
   "id": "743ca45f-ebab-47d5-a416-7f3d46559e15",
   "metadata": {
    "execution": {
     "iopub.execute_input": "2023-12-21T20:54:13.299576Z",
     "iopub.status.busy": "2023-12-21T20:54:13.299123Z",
     "iopub.status.idle": "2023-12-21T20:54:13.358989Z",
     "shell.execute_reply": "2023-12-21T20:54:13.358257Z",
     "shell.execute_reply.started": "2023-12-21T20:54:13.299545Z"
    }
   },
   "outputs": [],
   "source": [
    "utils.write_parquet(new_df, 'data/' + prefix + '_values.parquet')\n",
    "if not missing_df.empty:\n",
    "    utils.write_parquet(new_df, 'data/' + prefix + '_missing_values.parquet', verbose=False)"
   ]
  },
  {
   "cell_type": "markdown",
   "id": "a341567b",
   "metadata": {
    "tags": []
   },
   "source": [
    "## acceldatabyday"
   ]
  },
  {
   "cell_type": "code",
   "execution_count": 28,
   "id": "9d27f4ae",
   "metadata": {
    "execution": {
     "iopub.execute_input": "2023-12-21T20:54:13.360640Z",
     "iopub.status.busy": "2023-12-21T20:54:13.360137Z",
     "iopub.status.idle": "2023-12-21T20:54:15.459827Z",
     "shell.execute_reply": "2023-12-21T20:54:15.458892Z",
     "shell.execute_reply.started": "2023-12-21T20:54:13.360610Z"
    },
    "pycharm": {
     "name": "#%%\n"
    }
   },
   "outputs": [
    {
     "name": "stdout",
     "output_type": "stream",
     "text": [
      "\n",
      "acceldatabyday06.sas7bdat: (13040, 26)\n",
      "['ID', 'VERSION', 'PAStudyDay', 'VDaySequence', 'PAMonth', 'PAWeekDay', 'DAYModMinT', 'DAYModMinF', 'DAYModMinS', 'DAYVigMinT', 'DAYVigMinF', 'DAYVigMinS', 'DAYMVMinT', 'DAYMVMinF', 'DAYMVMinS', 'DAYCnt', 'DAYLtMinT', 'DAYLtMinF', 'DAYLtMinS', 'DAYMVBoutMinT', 'DAYMVBoutMinF', 'DAYMVBoutMinS', 'DAYVBoutMinT', 'DAYVBoutMinF', 'DAYVBoutMinS', 'WearHr']\n",
      "\n",
      "acceldatabyday08.sas7bdat: (9399, 26)\n",
      "Names only differ by case\n",
      "\n",
      "Total rows: 22439\n"
     ]
    }
   ],
   "source": [
    "prefix = 'acceldatabyday'\n",
    "column_uniformity_check(prefix)  # Becasue there is more than one dataset file"
   ]
  },
  {
   "cell_type": "code",
   "execution_count": 29,
   "id": "f12bf95a",
   "metadata": {
    "execution": {
     "iopub.execute_input": "2023-12-21T20:54:15.461948Z",
     "iopub.status.busy": "2023-12-21T20:54:15.461638Z",
     "iopub.status.idle": "2023-12-21T20:54:17.444892Z",
     "shell.execute_reply": "2023-12-21T20:54:17.444087Z",
     "shell.execute_reply.started": "2023-12-21T20:54:15.461920Z"
    },
    "pycharm": {
     "name": "#%%\n"
    }
   },
   "outputs": [
    {
     "name": "stdout",
     "output_type": "stream",
     "text": [
      "acceldatabyday06.sas7bdat\tVar Cnt: 26\n",
      "Visits: ['V06']\n",
      "acceldatabyday08.sas7bdat\tVar Cnt: 26\n",
      "Visits: ['V08']\n",
      "(22439, 27)\n",
      "\n",
      "Starting dataframe size: 5.61MB\n"
     ]
    }
   ],
   "source": [
    "tmp_df = create_df(prefix)\n",
    "print(tmp_df.shape)\n",
    "print('\\nStarting dataframe size: {:.2f}MB'.format(tmp_df.memory_usage(deep=True).sum() / (1024**2)))"
   ]
  },
  {
   "cell_type": "code",
   "execution_count": 30,
   "id": "520faa2a",
   "metadata": {
    "execution": {
     "iopub.execute_input": "2023-12-21T20:54:17.446743Z",
     "iopub.status.busy": "2023-12-21T20:54:17.446441Z",
     "iopub.status.idle": "2023-12-21T20:54:17.624331Z",
     "shell.execute_reply": "2023-12-21T20:54:17.623604Z",
     "shell.execute_reply.started": "2023-12-21T20:54:17.446709Z"
    },
    "pycharm": {
     "name": "#%%\n"
    }
   },
   "outputs": [],
   "source": [
    "data_stats_df, done_df = gather_column_data_stats(tmp_df)"
   ]
  },
  {
   "cell_type": "code",
   "execution_count": 31,
   "id": "ef9934aa",
   "metadata": {
    "execution": {
     "iopub.execute_input": "2023-12-21T20:54:17.625916Z",
     "iopub.status.busy": "2023-12-21T20:54:17.625363Z",
     "iopub.status.idle": "2023-12-21T20:54:17.661287Z",
     "shell.execute_reply": "2023-12-21T20:54:17.660468Z",
     "shell.execute_reply.started": "2023-12-21T20:54:17.625886Z"
    },
    "pycharm": {
     "name": "#%%\n"
    }
   },
   "outputs": [
    {
     "name": "stdout",
     "output_type": "stream",
     "text": [
      "Already defined cols: 3 \tCols to convert: 24\t Total col cnt: 27\n",
      "\n",
      "Column types to convert:\n",
      "   str_cnt  num_cnt  date_cnt  na_cnt  count\n",
      "0    False     True     False   False     23\n",
      "1     True    False     False   False      1\n",
      "\n",
      "Numeric types of columns:\n",
      "num_type\n",
      "unsigned    22\n",
      "float        1\n",
      "Name: count, dtype: int64\n",
      "\n",
      "Largest number of unique strings: 7\n"
     ]
    },
    {
     "data": {
      "text/html": [
       "<div>\n",
       "<style scoped>\n",
       "    .dataframe tbody tr th:only-of-type {\n",
       "        vertical-align: middle;\n",
       "    }\n",
       "\n",
       "    .dataframe tbody tr th {\n",
       "        vertical-align: top;\n",
       "    }\n",
       "\n",
       "    .dataframe thead th {\n",
       "        text-align: right;\n",
       "    }\n",
       "</style>\n",
       "<table border=\"1\" class=\"dataframe\">\n",
       "  <thead>\n",
       "    <tr style=\"text-align: right;\">\n",
       "      <th></th>\n",
       "      <th>label</th>\n",
       "      <th>uniq_strs</th>\n",
       "      <th>str_list</th>\n",
       "      <th>missing_val_cnt</th>\n",
       "      <th>missing_val_list</th>\n",
       "      <th>numeric_str</th>\n",
       "      <th>num_type</th>\n",
       "      <th>uniq_num</th>\n",
       "      <th>max_num</th>\n",
       "      <th>min_num</th>\n",
       "      <th>str_cnt</th>\n",
       "      <th>num_cnt</th>\n",
       "      <th>date_cnt</th>\n",
       "      <th>na_cnt</th>\n",
       "    </tr>\n",
       "    <tr>\n",
       "      <th>col</th>\n",
       "      <th></th>\n",
       "      <th></th>\n",
       "      <th></th>\n",
       "      <th></th>\n",
       "      <th></th>\n",
       "      <th></th>\n",
       "      <th></th>\n",
       "      <th></th>\n",
       "      <th></th>\n",
       "      <th></th>\n",
       "      <th></th>\n",
       "      <th></th>\n",
       "      <th></th>\n",
       "      <th></th>\n",
       "    </tr>\n",
       "  </thead>\n",
       "  <tbody>\n",
       "    <tr>\n",
       "      <th>PASTUDYDAY</th>\n",
       "      <td>None</td>\n",
       "      <td>0</td>\n",
       "      <td>None</td>\n",
       "      <td>0</td>\n",
       "      <td>None</td>\n",
       "      <td>None</td>\n",
       "      <td>unsigned</td>\n",
       "      <td>1278.0</td>\n",
       "      <td>1427.0</td>\n",
       "      <td>28.0</td>\n",
       "      <td>0</td>\n",
       "      <td>22439</td>\n",
       "      <td>0</td>\n",
       "      <td>0</td>\n",
       "    </tr>\n",
       "    <tr>\n",
       "      <th>VDAYSEQUENCE</th>\n",
       "      <td>None</td>\n",
       "      <td>0</td>\n",
       "      <td>None</td>\n",
       "      <td>0</td>\n",
       "      <td>None</td>\n",
       "      <td>None</td>\n",
       "      <td>unsigned</td>\n",
       "      <td>7.0</td>\n",
       "      <td>7.0</td>\n",
       "      <td>1.0</td>\n",
       "      <td>0</td>\n",
       "      <td>22439</td>\n",
       "      <td>0</td>\n",
       "      <td>0</td>\n",
       "    </tr>\n",
       "    <tr>\n",
       "      <th>PAMONTH</th>\n",
       "      <td>None</td>\n",
       "      <td>0</td>\n",
       "      <td>None</td>\n",
       "      <td>0</td>\n",
       "      <td>None</td>\n",
       "      <td>None</td>\n",
       "      <td>unsigned</td>\n",
       "      <td>12.0</td>\n",
       "      <td>12.0</td>\n",
       "      <td>1.0</td>\n",
       "      <td>0</td>\n",
       "      <td>22439</td>\n",
       "      <td>0</td>\n",
       "      <td>0</td>\n",
       "    </tr>\n",
       "    <tr>\n",
       "      <th>PAWEEKDAY</th>\n",
       "      <td>None</td>\n",
       "      <td>7</td>\n",
       "      <td>{Saturday, Friday, Wednesday, Thursday, Sunday...</td>\n",
       "      <td>0</td>\n",
       "      <td>{}</td>\n",
       "      <td>False</td>\n",
       "      <td>None</td>\n",
       "      <td>NaN</td>\n",
       "      <td>NaN</td>\n",
       "      <td>NaN</td>\n",
       "      <td>22439</td>\n",
       "      <td>0</td>\n",
       "      <td>0</td>\n",
       "      <td>0</td>\n",
       "    </tr>\n",
       "    <tr>\n",
       "      <th>DAYMODMINT</th>\n",
       "      <td>None</td>\n",
       "      <td>0</td>\n",
       "      <td>None</td>\n",
       "      <td>0</td>\n",
       "      <td>None</td>\n",
       "      <td>None</td>\n",
       "      <td>unsigned</td>\n",
       "      <td>189.0</td>\n",
       "      <td>253.0</td>\n",
       "      <td>0.0</td>\n",
       "      <td>0</td>\n",
       "      <td>22439</td>\n",
       "      <td>0</td>\n",
       "      <td>0</td>\n",
       "    </tr>\n",
       "    <tr>\n",
       "      <th>DAYMODMINF</th>\n",
       "      <td>None</td>\n",
       "      <td>0</td>\n",
       "      <td>None</td>\n",
       "      <td>0</td>\n",
       "      <td>None</td>\n",
       "      <td>None</td>\n",
       "      <td>unsigned</td>\n",
       "      <td>194.0</td>\n",
       "      <td>269.0</td>\n",
       "      <td>0.0</td>\n",
       "      <td>0</td>\n",
       "      <td>22439</td>\n",
       "      <td>0</td>\n",
       "      <td>0</td>\n",
       "    </tr>\n",
       "    <tr>\n",
       "      <th>DAYMODMINS</th>\n",
       "      <td>None</td>\n",
       "      <td>0</td>\n",
       "      <td>None</td>\n",
       "      <td>0</td>\n",
       "      <td>None</td>\n",
       "      <td>None</td>\n",
       "      <td>unsigned</td>\n",
       "      <td>446.0</td>\n",
       "      <td>570.0</td>\n",
       "      <td>0.0</td>\n",
       "      <td>0</td>\n",
       "      <td>22439</td>\n",
       "      <td>0</td>\n",
       "      <td>0</td>\n",
       "    </tr>\n",
       "    <tr>\n",
       "      <th>DAYVIGMINT</th>\n",
       "      <td>None</td>\n",
       "      <td>0</td>\n",
       "      <td>None</td>\n",
       "      <td>0</td>\n",
       "      <td>None</td>\n",
       "      <td>None</td>\n",
       "      <td>unsigned</td>\n",
       "      <td>83.0</td>\n",
       "      <td>122.0</td>\n",
       "      <td>0.0</td>\n",
       "      <td>0</td>\n",
       "      <td>22439</td>\n",
       "      <td>0</td>\n",
       "      <td>0</td>\n",
       "    </tr>\n",
       "    <tr>\n",
       "      <th>DAYVIGMINF</th>\n",
       "      <td>None</td>\n",
       "      <td>0</td>\n",
       "      <td>None</td>\n",
       "      <td>0</td>\n",
       "      <td>None</td>\n",
       "      <td>None</td>\n",
       "      <td>unsigned</td>\n",
       "      <td>82.0</td>\n",
       "      <td>124.0</td>\n",
       "      <td>0.0</td>\n",
       "      <td>0</td>\n",
       "      <td>22439</td>\n",
       "      <td>0</td>\n",
       "      <td>0</td>\n",
       "    </tr>\n",
       "    <tr>\n",
       "      <th>DAYVIGMINS</th>\n",
       "      <td>None</td>\n",
       "      <td>0</td>\n",
       "      <td>None</td>\n",
       "      <td>0</td>\n",
       "      <td>None</td>\n",
       "      <td>None</td>\n",
       "      <td>unsigned</td>\n",
       "      <td>97.0</td>\n",
       "      <td>129.0</td>\n",
       "      <td>0.0</td>\n",
       "      <td>0</td>\n",
       "      <td>22439</td>\n",
       "      <td>0</td>\n",
       "      <td>0</td>\n",
       "    </tr>\n",
       "    <tr>\n",
       "      <th>DAYMVMINT</th>\n",
       "      <td>None</td>\n",
       "      <td>0</td>\n",
       "      <td>None</td>\n",
       "      <td>0</td>\n",
       "      <td>None</td>\n",
       "      <td>None</td>\n",
       "      <td>unsigned</td>\n",
       "      <td>192.0</td>\n",
       "      <td>253.0</td>\n",
       "      <td>0.0</td>\n",
       "      <td>0</td>\n",
       "      <td>22439</td>\n",
       "      <td>0</td>\n",
       "      <td>0</td>\n",
       "    </tr>\n",
       "    <tr>\n",
       "      <th>DAYMVMINF</th>\n",
       "      <td>None</td>\n",
       "      <td>0</td>\n",
       "      <td>None</td>\n",
       "      <td>0</td>\n",
       "      <td>None</td>\n",
       "      <td>None</td>\n",
       "      <td>unsigned</td>\n",
       "      <td>203.0</td>\n",
       "      <td>269.0</td>\n",
       "      <td>0.0</td>\n",
       "      <td>0</td>\n",
       "      <td>22439</td>\n",
       "      <td>0</td>\n",
       "      <td>0</td>\n",
       "    </tr>\n",
       "    <tr>\n",
       "      <th>DAYMVMINS</th>\n",
       "      <td>None</td>\n",
       "      <td>0</td>\n",
       "      <td>None</td>\n",
       "      <td>0</td>\n",
       "      <td>None</td>\n",
       "      <td>None</td>\n",
       "      <td>unsigned</td>\n",
       "      <td>444.0</td>\n",
       "      <td>570.0</td>\n",
       "      <td>0.0</td>\n",
       "      <td>0</td>\n",
       "      <td>22439</td>\n",
       "      <td>0</td>\n",
       "      <td>0</td>\n",
       "    </tr>\n",
       "    <tr>\n",
       "      <th>DAYCNT</th>\n",
       "      <td>None</td>\n",
       "      <td>0</td>\n",
       "      <td>None</td>\n",
       "      <td>0</td>\n",
       "      <td>None</td>\n",
       "      <td>None</td>\n",
       "      <td>unsigned</td>\n",
       "      <td>21807.0</td>\n",
       "      <td>1347068.0</td>\n",
       "      <td>3027.0</td>\n",
       "      <td>0</td>\n",
       "      <td>22439</td>\n",
       "      <td>0</td>\n",
       "      <td>0</td>\n",
       "    </tr>\n",
       "    <tr>\n",
       "      <th>DAYLTMINT</th>\n",
       "      <td>None</td>\n",
       "      <td>0</td>\n",
       "      <td>None</td>\n",
       "      <td>0</td>\n",
       "      <td>None</td>\n",
       "      <td>None</td>\n",
       "      <td>unsigned</td>\n",
       "      <td>629.0</td>\n",
       "      <td>833.0</td>\n",
       "      <td>0.0</td>\n",
       "      <td>0</td>\n",
       "      <td>22439</td>\n",
       "      <td>0</td>\n",
       "      <td>0</td>\n",
       "    </tr>\n",
       "    <tr>\n",
       "      <th>DAYLTMINF</th>\n",
       "      <td>None</td>\n",
       "      <td>0</td>\n",
       "      <td>None</td>\n",
       "      <td>0</td>\n",
       "      <td>None</td>\n",
       "      <td>None</td>\n",
       "      <td>unsigned</td>\n",
       "      <td>626.0</td>\n",
       "      <td>831.0</td>\n",
       "      <td>0.0</td>\n",
       "      <td>0</td>\n",
       "      <td>22439</td>\n",
       "      <td>0</td>\n",
       "      <td>0</td>\n",
       "    </tr>\n",
       "    <tr>\n",
       "      <th>DAYLTMINS</th>\n",
       "      <td>None</td>\n",
       "      <td>0</td>\n",
       "      <td>None</td>\n",
       "      <td>0</td>\n",
       "      <td>None</td>\n",
       "      <td>None</td>\n",
       "      <td>unsigned</td>\n",
       "      <td>401.0</td>\n",
       "      <td>564.0</td>\n",
       "      <td>0.0</td>\n",
       "      <td>0</td>\n",
       "      <td>22439</td>\n",
       "      <td>0</td>\n",
       "      <td>0</td>\n",
       "    </tr>\n",
       "    <tr>\n",
       "      <th>DAYMVBOUTMINT</th>\n",
       "      <td>None</td>\n",
       "      <td>0</td>\n",
       "      <td>None</td>\n",
       "      <td>0</td>\n",
       "      <td>None</td>\n",
       "      <td>None</td>\n",
       "      <td>unsigned</td>\n",
       "      <td>157.0</td>\n",
       "      <td>236.0</td>\n",
       "      <td>0.0</td>\n",
       "      <td>0</td>\n",
       "      <td>22439</td>\n",
       "      <td>0</td>\n",
       "      <td>0</td>\n",
       "    </tr>\n",
       "    <tr>\n",
       "      <th>DAYMVBOUTMINF</th>\n",
       "      <td>None</td>\n",
       "      <td>0</td>\n",
       "      <td>None</td>\n",
       "      <td>0</td>\n",
       "      <td>None</td>\n",
       "      <td>None</td>\n",
       "      <td>unsigned</td>\n",
       "      <td>154.0</td>\n",
       "      <td>236.0</td>\n",
       "      <td>0.0</td>\n",
       "      <td>0</td>\n",
       "      <td>22439</td>\n",
       "      <td>0</td>\n",
       "      <td>0</td>\n",
       "    </tr>\n",
       "    <tr>\n",
       "      <th>DAYMVBOUTMINS</th>\n",
       "      <td>None</td>\n",
       "      <td>0</td>\n",
       "      <td>None</td>\n",
       "      <td>0</td>\n",
       "      <td>None</td>\n",
       "      <td>None</td>\n",
       "      <td>unsigned</td>\n",
       "      <td>371.0</td>\n",
       "      <td>560.0</td>\n",
       "      <td>0.0</td>\n",
       "      <td>0</td>\n",
       "      <td>22439</td>\n",
       "      <td>0</td>\n",
       "      <td>0</td>\n",
       "    </tr>\n",
       "    <tr>\n",
       "      <th>DAYVBOUTMINT</th>\n",
       "      <td>None</td>\n",
       "      <td>0</td>\n",
       "      <td>None</td>\n",
       "      <td>0</td>\n",
       "      <td>None</td>\n",
       "      <td>None</td>\n",
       "      <td>unsigned</td>\n",
       "      <td>75.0</td>\n",
       "      <td>126.0</td>\n",
       "      <td>0.0</td>\n",
       "      <td>0</td>\n",
       "      <td>22439</td>\n",
       "      <td>0</td>\n",
       "      <td>0</td>\n",
       "    </tr>\n",
       "    <tr>\n",
       "      <th>DAYVBOUTMINF</th>\n",
       "      <td>None</td>\n",
       "      <td>0</td>\n",
       "      <td>None</td>\n",
       "      <td>0</td>\n",
       "      <td>None</td>\n",
       "      <td>None</td>\n",
       "      <td>unsigned</td>\n",
       "      <td>80.0</td>\n",
       "      <td>126.0</td>\n",
       "      <td>0.0</td>\n",
       "      <td>0</td>\n",
       "      <td>22439</td>\n",
       "      <td>0</td>\n",
       "      <td>0</td>\n",
       "    </tr>\n",
       "    <tr>\n",
       "      <th>DAYVBOUTMINS</th>\n",
       "      <td>None</td>\n",
       "      <td>0</td>\n",
       "      <td>None</td>\n",
       "      <td>0</td>\n",
       "      <td>None</td>\n",
       "      <td>None</td>\n",
       "      <td>unsigned</td>\n",
       "      <td>89.0</td>\n",
       "      <td>130.0</td>\n",
       "      <td>0.0</td>\n",
       "      <td>0</td>\n",
       "      <td>22439</td>\n",
       "      <td>0</td>\n",
       "      <td>0</td>\n",
       "    </tr>\n",
       "    <tr>\n",
       "      <th>WEARHR</th>\n",
       "      <td>None</td>\n",
       "      <td>0</td>\n",
       "      <td>None</td>\n",
       "      <td>0</td>\n",
       "      <td>None</td>\n",
       "      <td>None</td>\n",
       "      <td>float</td>\n",
       "      <td>681.0</td>\n",
       "      <td>24.0</td>\n",
       "      <td>10.0</td>\n",
       "      <td>0</td>\n",
       "      <td>22439</td>\n",
       "      <td>0</td>\n",
       "      <td>0</td>\n",
       "    </tr>\n",
       "  </tbody>\n",
       "</table>\n",
       "</div>"
      ],
      "text/plain": [
       "              label  uniq_strs  \\\n",
       "col                              \n",
       "PASTUDYDAY     None          0   \n",
       "VDAYSEQUENCE   None          0   \n",
       "PAMONTH        None          0   \n",
       "PAWEEKDAY      None          7   \n",
       "DAYMODMINT     None          0   \n",
       "DAYMODMINF     None          0   \n",
       "DAYMODMINS     None          0   \n",
       "DAYVIGMINT     None          0   \n",
       "DAYVIGMINF     None          0   \n",
       "DAYVIGMINS     None          0   \n",
       "DAYMVMINT      None          0   \n",
       "DAYMVMINF      None          0   \n",
       "DAYMVMINS      None          0   \n",
       "DAYCNT         None          0   \n",
       "DAYLTMINT      None          0   \n",
       "DAYLTMINF      None          0   \n",
       "DAYLTMINS      None          0   \n",
       "DAYMVBOUTMINT  None          0   \n",
       "DAYMVBOUTMINF  None          0   \n",
       "DAYMVBOUTMINS  None          0   \n",
       "DAYVBOUTMINT   None          0   \n",
       "DAYVBOUTMINF   None          0   \n",
       "DAYVBOUTMINS   None          0   \n",
       "WEARHR         None          0   \n",
       "\n",
       "                                                        str_list  \\\n",
       "col                                                                \n",
       "PASTUDYDAY                                                  None   \n",
       "VDAYSEQUENCE                                                None   \n",
       "PAMONTH                                                     None   \n",
       "PAWEEKDAY      {Saturday, Friday, Wednesday, Thursday, Sunday...   \n",
       "DAYMODMINT                                                  None   \n",
       "DAYMODMINF                                                  None   \n",
       "DAYMODMINS                                                  None   \n",
       "DAYVIGMINT                                                  None   \n",
       "DAYVIGMINF                                                  None   \n",
       "DAYVIGMINS                                                  None   \n",
       "DAYMVMINT                                                   None   \n",
       "DAYMVMINF                                                   None   \n",
       "DAYMVMINS                                                   None   \n",
       "DAYCNT                                                      None   \n",
       "DAYLTMINT                                                   None   \n",
       "DAYLTMINF                                                   None   \n",
       "DAYLTMINS                                                   None   \n",
       "DAYMVBOUTMINT                                               None   \n",
       "DAYMVBOUTMINF                                               None   \n",
       "DAYMVBOUTMINS                                               None   \n",
       "DAYVBOUTMINT                                                None   \n",
       "DAYVBOUTMINF                                                None   \n",
       "DAYVBOUTMINS                                                None   \n",
       "WEARHR                                                      None   \n",
       "\n",
       "               missing_val_cnt missing_val_list numeric_str  num_type  \\\n",
       "col                                                                     \n",
       "PASTUDYDAY                   0             None        None  unsigned   \n",
       "VDAYSEQUENCE                 0             None        None  unsigned   \n",
       "PAMONTH                      0             None        None  unsigned   \n",
       "PAWEEKDAY                    0               {}       False      None   \n",
       "DAYMODMINT                   0             None        None  unsigned   \n",
       "DAYMODMINF                   0             None        None  unsigned   \n",
       "DAYMODMINS                   0             None        None  unsigned   \n",
       "DAYVIGMINT                   0             None        None  unsigned   \n",
       "DAYVIGMINF                   0             None        None  unsigned   \n",
       "DAYVIGMINS                   0             None        None  unsigned   \n",
       "DAYMVMINT                    0             None        None  unsigned   \n",
       "DAYMVMINF                    0             None        None  unsigned   \n",
       "DAYMVMINS                    0             None        None  unsigned   \n",
       "DAYCNT                       0             None        None  unsigned   \n",
       "DAYLTMINT                    0             None        None  unsigned   \n",
       "DAYLTMINF                    0             None        None  unsigned   \n",
       "DAYLTMINS                    0             None        None  unsigned   \n",
       "DAYMVBOUTMINT                0             None        None  unsigned   \n",
       "DAYMVBOUTMINF                0             None        None  unsigned   \n",
       "DAYMVBOUTMINS                0             None        None  unsigned   \n",
       "DAYVBOUTMINT                 0             None        None  unsigned   \n",
       "DAYVBOUTMINF                 0             None        None  unsigned   \n",
       "DAYVBOUTMINS                 0             None        None  unsigned   \n",
       "WEARHR                       0             None        None     float   \n",
       "\n",
       "               uniq_num    max_num  min_num  str_cnt  num_cnt  date_cnt  \\\n",
       "col                                                                       \n",
       "PASTUDYDAY       1278.0     1427.0     28.0        0    22439         0   \n",
       "VDAYSEQUENCE        7.0        7.0      1.0        0    22439         0   \n",
       "PAMONTH            12.0       12.0      1.0        0    22439         0   \n",
       "PAWEEKDAY           NaN        NaN      NaN    22439        0         0   \n",
       "DAYMODMINT        189.0      253.0      0.0        0    22439         0   \n",
       "DAYMODMINF        194.0      269.0      0.0        0    22439         0   \n",
       "DAYMODMINS        446.0      570.0      0.0        0    22439         0   \n",
       "DAYVIGMINT         83.0      122.0      0.0        0    22439         0   \n",
       "DAYVIGMINF         82.0      124.0      0.0        0    22439         0   \n",
       "DAYVIGMINS         97.0      129.0      0.0        0    22439         0   \n",
       "DAYMVMINT         192.0      253.0      0.0        0    22439         0   \n",
       "DAYMVMINF         203.0      269.0      0.0        0    22439         0   \n",
       "DAYMVMINS         444.0      570.0      0.0        0    22439         0   \n",
       "DAYCNT          21807.0  1347068.0   3027.0        0    22439         0   \n",
       "DAYLTMINT         629.0      833.0      0.0        0    22439         0   \n",
       "DAYLTMINF         626.0      831.0      0.0        0    22439         0   \n",
       "DAYLTMINS         401.0      564.0      0.0        0    22439         0   \n",
       "DAYMVBOUTMINT     157.0      236.0      0.0        0    22439         0   \n",
       "DAYMVBOUTMINF     154.0      236.0      0.0        0    22439         0   \n",
       "DAYMVBOUTMINS     371.0      560.0      0.0        0    22439         0   \n",
       "DAYVBOUTMINT       75.0      126.0      0.0        0    22439         0   \n",
       "DAYVBOUTMINF       80.0      126.0      0.0        0    22439         0   \n",
       "DAYVBOUTMINS       89.0      130.0      0.0        0    22439         0   \n",
       "WEARHR            681.0       24.0     10.0        0    22439         0   \n",
       "\n",
       "               na_cnt  \n",
       "col                    \n",
       "PASTUDYDAY          0  \n",
       "VDAYSEQUENCE        0  \n",
       "PAMONTH             0  \n",
       "PAWEEKDAY           0  \n",
       "DAYMODMINT          0  \n",
       "DAYMODMINF          0  \n",
       "DAYMODMINS          0  \n",
       "DAYVIGMINT          0  \n",
       "DAYVIGMINF          0  \n",
       "DAYVIGMINS          0  \n",
       "DAYMVMINT           0  \n",
       "DAYMVMINF           0  \n",
       "DAYMVMINS           0  \n",
       "DAYCNT              0  \n",
       "DAYLTMINT           0  \n",
       "DAYLTMINF           0  \n",
       "DAYLTMINS           0  \n",
       "DAYMVBOUTMINT       0  \n",
       "DAYMVBOUTMINF       0  \n",
       "DAYMVBOUTMINS       0  \n",
       "DAYVBOUTMINT        0  \n",
       "DAYVBOUTMINF        0  \n",
       "DAYVBOUTMINS        0  \n",
       "WEARHR              0  "
      ]
     },
     "execution_count": 31,
     "metadata": {},
     "output_type": "execute_result"
    }
   ],
   "source": [
    "data_stats_summary(tmp_df, data_stats_df)\n",
    "\n",
    "data_stats_df"
   ]
  },
  {
   "cell_type": "code",
   "execution_count": 32,
   "id": "7107f957",
   "metadata": {
    "execution": {
     "iopub.execute_input": "2023-12-21T20:54:17.663269Z",
     "iopub.status.busy": "2023-12-21T20:54:17.662940Z",
     "iopub.status.idle": "2023-12-21T20:54:17.675317Z",
     "shell.execute_reply": "2023-12-21T20:54:17.674576Z",
     "shell.execute_reply.started": "2023-12-21T20:54:17.663238Z"
    },
    "pycharm": {
     "name": "#%%\n"
    }
   },
   "outputs": [
    {
     "name": "stdout",
     "output_type": "stream",
     "text": [
      "targets = {\n",
      "# Columns with only unsigned ints, missing, and NA values\n",
      "'unsigned': ['PASTUDYDAY', 'VDAYSEQUENCE', 'PAMONTH', 'DAYMODMINT', 'DAYMODMINF', 'DAYMODMINS', 'DAYVIGMINT', 'DAYVIGMINF', 'DAYVIGMINS', 'DAYMVMINT', 'DAYMVMINF', 'DAYMVMINS', 'DAYCNT', 'DAYLTMINT', 'DAYLTMINF', 'DAYLTMINS', 'DAYMVBOUTMINT', 'DAYMVBOUTMINF', 'DAYMVBOUTMINS', 'DAYVBOUTMINT', 'DAYVBOUTMINF', 'DAYVBOUTMINS'],\n",
      "\n",
      "# Columns with only floats, missing, and NA values\n",
      "'float': ['WEARHR'],\n",
      "\n",
      "# Columns with only strings, missing, and NA values\n",
      "'cat': ['PAWEEKDAY'],\n",
      "\n",
      "}\n",
      "\n",
      "\n",
      "Handled columns: 24\n"
     ]
    }
   ],
   "source": [
    "suggest_conversions(data_stats_df)"
   ]
  },
  {
   "cell_type": "code",
   "execution_count": 33,
   "id": "b0137b19",
   "metadata": {
    "execution": {
     "iopub.execute_input": "2023-12-21T20:54:17.676945Z",
     "iopub.status.busy": "2023-12-21T20:54:17.676663Z",
     "iopub.status.idle": "2023-12-21T20:54:17.725774Z",
     "shell.execute_reply": "2023-12-21T20:54:17.725021Z",
     "shell.execute_reply.started": "2023-12-21T20:54:17.676919Z"
    },
    "pycharm": {
     "name": "#%%\n"
    }
   },
   "outputs": [],
   "source": [
    "targets = {\n",
    "# Columns with only unsigned ints, missing, and NA values\n",
    "'unsigned': ['PASTUDYDAY', 'VDAYSEQUENCE', 'PAMONTH', 'DAYMODMINT', 'DAYMODMINF', 'DAYMODMINS', 'DAYVIGMINT', 'DAYVIGMINF', 'DAYVIGMINS', 'DAYMVMINT', 'DAYMVMINF', 'DAYMVMINS', 'DAYCNT', 'DAYLTMINT', 'DAYLTMINF', 'DAYLTMINS', 'DAYMVBOUTMINT', 'DAYMVBOUTMINF', 'DAYMVBOUTMINS', 'DAYVBOUTMINT', 'DAYVBOUTMINF', 'DAYVBOUTMINS'],\n",
    "\n",
    "# Columns with only floats, missing, and NA values\n",
    "'float': ['WEARHR'],\n",
    "\n",
    "# Columns with only strings, missing, and NA values\n",
    "'cat': ['PAWEEKDAY'],\n",
    "\n",
    "}\n",
    "\n",
    "new_df, missing_df = convert_columns(targets, data_stats_df, tmp_df)"
   ]
  },
  {
   "cell_type": "code",
   "execution_count": 34,
   "id": "535805cb",
   "metadata": {
    "execution": {
     "iopub.execute_input": "2023-12-21T20:54:17.727435Z",
     "iopub.status.busy": "2023-12-21T20:54:17.727021Z",
     "iopub.status.idle": "2023-12-21T20:54:17.732983Z",
     "shell.execute_reply": "2023-12-21T20:54:17.732256Z",
     "shell.execute_reply.started": "2023-12-21T20:54:17.727402Z"
    },
    "pycharm": {
     "name": "#%%\n"
    }
   },
   "outputs": [
    {
     "name": "stdout",
     "output_type": "stream",
     "text": [
      "\n",
      "VERSION          category\n",
      "PASTUDYDAY         uint16\n",
      "VDAYSEQUENCE        uint8\n",
      "PAMONTH             uint8\n",
      "PAWEEKDAY        category\n",
      "DAYMODMINT          uint8\n",
      "DAYMODMINF         uint16\n",
      "DAYMODMINS         uint16\n",
      "DAYVIGMINT          uint8\n",
      "DAYVIGMINF          uint8\n",
      "DAYVIGMINS          uint8\n",
      "DAYMVMINT           uint8\n",
      "DAYMVMINF          uint16\n",
      "DAYMVMINS          uint16\n",
      "DAYCNT             uint32\n",
      "DAYLTMINT          uint16\n",
      "DAYLTMINF          uint16\n",
      "DAYLTMINS          uint16\n",
      "DAYMVBOUTMINT       uint8\n",
      "DAYMVBOUTMINF       uint8\n",
      "DAYMVBOUTMINS      uint16\n",
      "DAYVBOUTMINT        uint8\n",
      "DAYVBOUTMINF        uint8\n",
      "DAYVBOUTMINS        uint8\n",
      "WEARHR            float32\n",
      "dtype: object\n"
     ]
    }
   ],
   "source": [
    "sanity_check(new_df)\n",
    "print()\n",
    "print(new_df.dtypes)"
   ]
  },
  {
   "cell_type": "code",
   "execution_count": 35,
   "id": "6f626d81",
   "metadata": {
    "execution": {
     "iopub.execute_input": "2023-12-21T20:54:17.734212Z",
     "iopub.status.busy": "2023-12-21T20:54:17.733879Z",
     "iopub.status.idle": "2023-12-21T20:54:17.742052Z",
     "shell.execute_reply": "2023-12-21T20:54:17.741304Z",
     "shell.execute_reply.started": "2023-12-21T20:54:17.734181Z"
    }
   },
   "outputs": [
    {
     "name": "stdout",
     "output_type": "stream",
     "text": [
      "\n",
      "Final dataframe size: 0.98MB\n",
      "Shadow dataframe size: 0.17MB\n"
     ]
    }
   ],
   "source": [
    "print('\\nFinal dataframe size: {:.2f}MB'.format(new_df.memory_usage(deep=True).sum() / (1024**2)))\n",
    "print('Shadow dataframe size: {:.2f}MB'.format(missing_df.memory_usage(deep=True).sum() / (1024**2)))"
   ]
  },
  {
   "cell_type": "code",
   "execution_count": 36,
   "id": "6a595893-b8f7-41e8-9781-6b62181098c4",
   "metadata": {
    "execution": {
     "iopub.execute_input": "2023-12-21T20:54:17.743377Z",
     "iopub.status.busy": "2023-12-21T20:54:17.742968Z",
     "iopub.status.idle": "2023-12-21T20:54:17.775963Z",
     "shell.execute_reply": "2023-12-21T20:54:17.775156Z",
     "shell.execute_reply.started": "2023-12-21T20:54:17.743353Z"
    }
   },
   "outputs": [],
   "source": [
    "utils.write_parquet(new_df, 'data/' + prefix + '_values.parquet')\n",
    "if not missing_df.empty:\n",
    "    utils.write_parquet(new_df, 'data/' + prefix + '_missing_values.parquet', verbose=False)"
   ]
  },
  {
   "cell_type": "markdown",
   "id": "6ea2075c",
   "metadata": {
    "tags": []
   },
   "source": [
    "## acceldatabymin"
   ]
  },
  {
   "cell_type": "code",
   "execution_count": 37,
   "id": "d5e96a83",
   "metadata": {
    "execution": {
     "iopub.execute_input": "2023-12-21T20:54:17.777615Z",
     "iopub.status.busy": "2023-12-21T20:54:17.777130Z",
     "iopub.status.idle": "2023-12-21T20:56:14.844135Z",
     "shell.execute_reply": "2023-12-21T20:56:14.843435Z",
     "shell.execute_reply.started": "2023-12-21T20:54:17.777584Z"
    },
    "pycharm": {
     "name": "#%%\n"
    }
   },
   "outputs": [
    {
     "name": "stdout",
     "output_type": "stream",
     "text": [
      "\n",
      "acceldatabymin06.sas7bdat: (20629910, 8)\n",
      "['ID', 'VERSION', 'PAStudyDay', 'MinSequence', 'SuspectMinute', 'MINCnt', 'PAWeekDay', 'PAMonth']\n",
      "\n",
      "acceldatabymin08.sas7bdat: (14878346, 8)\n",
      "Names only differ by case\n",
      "\n",
      "Total rows: 35508256\n"
     ]
    }
   ],
   "source": [
    "prefix = 'acceldatabymin'\n",
    "column_uniformity_check(prefix)"
   ]
  },
  {
   "cell_type": "code",
   "execution_count": 38,
   "id": "6573f955",
   "metadata": {
    "execution": {
     "iopub.execute_input": "2023-12-21T20:56:14.845740Z",
     "iopub.status.busy": "2023-12-21T20:56:14.845486Z",
     "iopub.status.idle": "2023-12-21T20:58:29.490189Z",
     "shell.execute_reply": "2023-12-21T20:58:29.489360Z",
     "shell.execute_reply.started": "2023-12-21T20:56:14.845714Z"
    },
    "pycharm": {
     "name": "#%%\n"
    }
   },
   "outputs": [
    {
     "name": "stdout",
     "output_type": "stream",
     "text": [
      "acceldatabymin06.sas7bdat\tVar Cnt: 8\n",
      "Visits: ['V06']\n",
      "acceldatabymin08.sas7bdat\tVar Cnt: 8\n",
      "Visits: ['V08']\n",
      "(35508256, 9)\n",
      "\n",
      "Starting dataframe size: 4000.94MB\n"
     ]
    }
   ],
   "source": [
    "tmp_df = create_df(prefix)\n",
    "print(tmp_df.shape)\n",
    "print('\\nStarting dataframe size: {:.2f}MB'.format(tmp_df.memory_usage(deep=True).sum() / (1024**2)))"
   ]
  },
  {
   "cell_type": "code",
   "execution_count": 39,
   "id": "1c2f60ca",
   "metadata": {
    "execution": {
     "iopub.execute_input": "2023-12-21T20:58:29.492063Z",
     "iopub.status.busy": "2023-12-21T20:58:29.491760Z",
     "iopub.status.idle": "2023-12-21T20:59:27.830639Z",
     "shell.execute_reply": "2023-12-21T20:59:27.829896Z",
     "shell.execute_reply.started": "2023-12-21T20:58:29.492040Z"
    },
    "pycharm": {
     "name": "#%%\n"
    }
   },
   "outputs": [],
   "source": [
    "data_stats_df, done_df = gather_column_data_stats(tmp_df)"
   ]
  },
  {
   "cell_type": "code",
   "execution_count": 40,
   "id": "1da548db",
   "metadata": {
    "execution": {
     "iopub.execute_input": "2023-12-21T20:59:27.832129Z",
     "iopub.status.busy": "2023-12-21T20:59:27.831649Z",
     "iopub.status.idle": "2023-12-21T20:59:27.859465Z",
     "shell.execute_reply": "2023-12-21T20:59:27.858758Z",
     "shell.execute_reply.started": "2023-12-21T20:59:27.832101Z"
    },
    "pycharm": {
     "name": "#%%\n"
    }
   },
   "outputs": [
    {
     "name": "stdout",
     "output_type": "stream",
     "text": [
      "Already defined cols: 3 \tCols to convert: 6\t Total col cnt: 9\n",
      "\n",
      "Column types to convert:\n",
      "   str_cnt  num_cnt  date_cnt  na_cnt  count\n",
      "0    False     True     False   False      4\n",
      "1    False     True     False    True      1\n",
      "2     True    False     False   False      1\n",
      "\n",
      "Numeric types of columns:\n",
      "num_type\n",
      "unsigned    5\n",
      "Name: count, dtype: int64\n",
      "\n",
      "Largest number of unique strings: 7\n"
     ]
    },
    {
     "data": {
      "text/html": [
       "<div>\n",
       "<style scoped>\n",
       "    .dataframe tbody tr th:only-of-type {\n",
       "        vertical-align: middle;\n",
       "    }\n",
       "\n",
       "    .dataframe tbody tr th {\n",
       "        vertical-align: top;\n",
       "    }\n",
       "\n",
       "    .dataframe thead th {\n",
       "        text-align: right;\n",
       "    }\n",
       "</style>\n",
       "<table border=\"1\" class=\"dataframe\">\n",
       "  <thead>\n",
       "    <tr style=\"text-align: right;\">\n",
       "      <th></th>\n",
       "      <th>label</th>\n",
       "      <th>uniq_strs</th>\n",
       "      <th>str_list</th>\n",
       "      <th>missing_val_cnt</th>\n",
       "      <th>missing_val_list</th>\n",
       "      <th>numeric_str</th>\n",
       "      <th>num_type</th>\n",
       "      <th>uniq_num</th>\n",
       "      <th>max_num</th>\n",
       "      <th>min_num</th>\n",
       "      <th>str_cnt</th>\n",
       "      <th>num_cnt</th>\n",
       "      <th>date_cnt</th>\n",
       "      <th>na_cnt</th>\n",
       "    </tr>\n",
       "    <tr>\n",
       "      <th>col</th>\n",
       "      <th></th>\n",
       "      <th></th>\n",
       "      <th></th>\n",
       "      <th></th>\n",
       "      <th></th>\n",
       "      <th></th>\n",
       "      <th></th>\n",
       "      <th></th>\n",
       "      <th></th>\n",
       "      <th></th>\n",
       "      <th></th>\n",
       "      <th></th>\n",
       "      <th></th>\n",
       "      <th></th>\n",
       "    </tr>\n",
       "  </thead>\n",
       "  <tbody>\n",
       "    <tr>\n",
       "      <th>PASTUDYDAY</th>\n",
       "      <td>None</td>\n",
       "      <td>0</td>\n",
       "      <td>None</td>\n",
       "      <td>0</td>\n",
       "      <td>None</td>\n",
       "      <td>None</td>\n",
       "      <td>unsigned</td>\n",
       "      <td>1290.0</td>\n",
       "      <td>1427.0</td>\n",
       "      <td>28.0</td>\n",
       "      <td>0</td>\n",
       "      <td>35508256</td>\n",
       "      <td>0</td>\n",
       "      <td>0</td>\n",
       "    </tr>\n",
       "    <tr>\n",
       "      <th>MINSEQUENCE</th>\n",
       "      <td>None</td>\n",
       "      <td>0</td>\n",
       "      <td>None</td>\n",
       "      <td>0</td>\n",
       "      <td>None</td>\n",
       "      <td>None</td>\n",
       "      <td>unsigned</td>\n",
       "      <td>1440.0</td>\n",
       "      <td>1440.0</td>\n",
       "      <td>1.0</td>\n",
       "      <td>0</td>\n",
       "      <td>35508256</td>\n",
       "      <td>0</td>\n",
       "      <td>0</td>\n",
       "    </tr>\n",
       "    <tr>\n",
       "      <th>SUSPECTMINUTE</th>\n",
       "      <td>None</td>\n",
       "      <td>0</td>\n",
       "      <td>None</td>\n",
       "      <td>0</td>\n",
       "      <td>None</td>\n",
       "      <td>None</td>\n",
       "      <td>unsigned</td>\n",
       "      <td>2.0</td>\n",
       "      <td>1.0</td>\n",
       "      <td>0.0</td>\n",
       "      <td>0</td>\n",
       "      <td>35508256</td>\n",
       "      <td>0</td>\n",
       "      <td>0</td>\n",
       "    </tr>\n",
       "    <tr>\n",
       "      <th>MINCNT</th>\n",
       "      <td>None</td>\n",
       "      <td>0</td>\n",
       "      <td>None</td>\n",
       "      <td>0</td>\n",
       "      <td>None</td>\n",
       "      <td>None</td>\n",
       "      <td>unsigned</td>\n",
       "      <td>10328.0</td>\n",
       "      <td>20758.0</td>\n",
       "      <td>0.0</td>\n",
       "      <td>0</td>\n",
       "      <td>35508165</td>\n",
       "      <td>0</td>\n",
       "      <td>91</td>\n",
       "    </tr>\n",
       "    <tr>\n",
       "      <th>PAWEEKDAY</th>\n",
       "      <td>None</td>\n",
       "      <td>7</td>\n",
       "      <td>{Saturday, Friday, Wednesday, Thursday, Sunday...</td>\n",
       "      <td>0</td>\n",
       "      <td>{}</td>\n",
       "      <td>False</td>\n",
       "      <td>None</td>\n",
       "      <td>NaN</td>\n",
       "      <td>NaN</td>\n",
       "      <td>NaN</td>\n",
       "      <td>35508256</td>\n",
       "      <td>0</td>\n",
       "      <td>0</td>\n",
       "      <td>0</td>\n",
       "    </tr>\n",
       "    <tr>\n",
       "      <th>PAMONTH</th>\n",
       "      <td>None</td>\n",
       "      <td>0</td>\n",
       "      <td>None</td>\n",
       "      <td>0</td>\n",
       "      <td>None</td>\n",
       "      <td>None</td>\n",
       "      <td>unsigned</td>\n",
       "      <td>12.0</td>\n",
       "      <td>12.0</td>\n",
       "      <td>1.0</td>\n",
       "      <td>0</td>\n",
       "      <td>35508256</td>\n",
       "      <td>0</td>\n",
       "      <td>0</td>\n",
       "    </tr>\n",
       "  </tbody>\n",
       "</table>\n",
       "</div>"
      ],
      "text/plain": [
       "              label  uniq_strs  \\\n",
       "col                              \n",
       "PASTUDYDAY     None          0   \n",
       "MINSEQUENCE    None          0   \n",
       "SUSPECTMINUTE  None          0   \n",
       "MINCNT         None          0   \n",
       "PAWEEKDAY      None          7   \n",
       "PAMONTH        None          0   \n",
       "\n",
       "                                                        str_list  \\\n",
       "col                                                                \n",
       "PASTUDYDAY                                                  None   \n",
       "MINSEQUENCE                                                 None   \n",
       "SUSPECTMINUTE                                               None   \n",
       "MINCNT                                                      None   \n",
       "PAWEEKDAY      {Saturday, Friday, Wednesday, Thursday, Sunday...   \n",
       "PAMONTH                                                     None   \n",
       "\n",
       "               missing_val_cnt missing_val_list numeric_str  num_type  \\\n",
       "col                                                                     \n",
       "PASTUDYDAY                   0             None        None  unsigned   \n",
       "MINSEQUENCE                  0             None        None  unsigned   \n",
       "SUSPECTMINUTE                0             None        None  unsigned   \n",
       "MINCNT                       0             None        None  unsigned   \n",
       "PAWEEKDAY                    0               {}       False      None   \n",
       "PAMONTH                      0             None        None  unsigned   \n",
       "\n",
       "               uniq_num  max_num  min_num   str_cnt   num_cnt  date_cnt  \\\n",
       "col                                                                       \n",
       "PASTUDYDAY       1290.0   1427.0     28.0         0  35508256         0   \n",
       "MINSEQUENCE      1440.0   1440.0      1.0         0  35508256         0   \n",
       "SUSPECTMINUTE       2.0      1.0      0.0         0  35508256         0   \n",
       "MINCNT          10328.0  20758.0      0.0         0  35508165         0   \n",
       "PAWEEKDAY           NaN      NaN      NaN  35508256         0         0   \n",
       "PAMONTH            12.0     12.0      1.0         0  35508256         0   \n",
       "\n",
       "               na_cnt  \n",
       "col                    \n",
       "PASTUDYDAY          0  \n",
       "MINSEQUENCE         0  \n",
       "SUSPECTMINUTE       0  \n",
       "MINCNT             91  \n",
       "PAWEEKDAY           0  \n",
       "PAMONTH             0  "
      ]
     },
     "execution_count": 40,
     "metadata": {},
     "output_type": "execute_result"
    }
   ],
   "source": [
    "data_stats_summary(tmp_df, data_stats_df)\n",
    "\n",
    "data_stats_df"
   ]
  },
  {
   "cell_type": "code",
   "execution_count": 41,
   "id": "a24daa37",
   "metadata": {
    "execution": {
     "iopub.execute_input": "2023-12-21T20:59:27.860703Z",
     "iopub.status.busy": "2023-12-21T20:59:27.860371Z",
     "iopub.status.idle": "2023-12-21T20:59:27.871984Z",
     "shell.execute_reply": "2023-12-21T20:59:27.871199Z",
     "shell.execute_reply.started": "2023-12-21T20:59:27.860675Z"
    },
    "pycharm": {
     "name": "#%%\n"
    }
   },
   "outputs": [
    {
     "name": "stdout",
     "output_type": "stream",
     "text": [
      "targets = {\n",
      "# Columns with only unsigned ints, missing, and NA values\n",
      "'unsigned': ['PASTUDYDAY', 'MINSEQUENCE', 'SUSPECTMINUTE', 'MINCNT', 'PAMONTH'],\n",
      "\n",
      "# Columns with only strings, missing, and NA values\n",
      "'cat': ['PAWEEKDAY'],\n",
      "\n",
      "}\n",
      "\n",
      "\n",
      "Handled columns: 6\n"
     ]
    }
   ],
   "source": [
    "suggest_conversions(data_stats_df)"
   ]
  },
  {
   "cell_type": "code",
   "execution_count": 42,
   "id": "2056d26a",
   "metadata": {
    "execution": {
     "iopub.execute_input": "2023-12-21T20:59:27.873598Z",
     "iopub.status.busy": "2023-12-21T20:59:27.873235Z",
     "iopub.status.idle": "2023-12-21T20:59:40.793762Z",
     "shell.execute_reply": "2023-12-21T20:59:40.793103Z",
     "shell.execute_reply.started": "2023-12-21T20:59:27.873571Z"
    },
    "pycharm": {
     "name": "#%%\n"
    }
   },
   "outputs": [],
   "source": [
    "targets = {\n",
    "# Columns with only unsigned ints, missing, and NA values\n",
    "'unsigned': ['PASTUDYDAY', 'MINSEQUENCE', 'SUSPECTMINUTE', 'MINCNT', 'PAMONTH'],\n",
    "\n",
    "# Columns with only strings, missing, and NA values\n",
    "'cat': ['PAWEEKDAY'],\n",
    "\n",
    "}\n",
    "\n",
    "new_df, missing_df = convert_columns(targets, data_stats_df, tmp_df)"
   ]
  },
  {
   "cell_type": "code",
   "execution_count": 43,
   "id": "7ea778c6",
   "metadata": {
    "execution": {
     "iopub.execute_input": "2023-12-21T20:59:40.795073Z",
     "iopub.status.busy": "2023-12-21T20:59:40.794565Z",
     "iopub.status.idle": "2023-12-21T20:59:40.813743Z",
     "shell.execute_reply": "2023-12-21T20:59:40.813084Z",
     "shell.execute_reply.started": "2023-12-21T20:59:40.795045Z"
    },
    "pycharm": {
     "name": "#%%\n"
    }
   },
   "outputs": [],
   "source": [
    "new_df['SUSPECTMINUTE'] = new_df['SUSPECTMINUTE'].astype('bool')"
   ]
  },
  {
   "cell_type": "markdown",
   "id": "a3ccdb73",
   "metadata": {},
   "source": [
    "TODO: SUSPECTMINUTE should be a bool"
   ]
  },
  {
   "cell_type": "code",
   "execution_count": 44,
   "id": "4d19d637",
   "metadata": {
    "execution": {
     "iopub.execute_input": "2023-12-21T20:59:40.815443Z",
     "iopub.status.busy": "2023-12-21T20:59:40.814847Z",
     "iopub.status.idle": "2023-12-21T20:59:40.821377Z",
     "shell.execute_reply": "2023-12-21T20:59:40.820578Z",
     "shell.execute_reply.started": "2023-12-21T20:59:40.815416Z"
    },
    "pycharm": {
     "name": "#%%\n"
    }
   },
   "outputs": [
    {
     "name": "stdout",
     "output_type": "stream",
     "text": [
      "\n",
      "VERSION          category\n",
      "PASTUDYDAY         uint16\n",
      "MINSEQUENCE        uint16\n",
      "SUSPECTMINUTE        bool\n",
      "MINCNT             UInt16\n",
      "PAWEEKDAY        category\n",
      "PAMONTH             uint8\n",
      "dtype: object\n"
     ]
    }
   ],
   "source": [
    "sanity_check(new_df)\n",
    "print()\n",
    "print(new_df.dtypes)\n",
    "\n",
    "if not missing_df.empty:\n",
    "    print('Missing values present, shadow dataframe created.')\n",
    "    print(missing_df)"
   ]
  },
  {
   "cell_type": "code",
   "execution_count": 45,
   "id": "8fb109bf",
   "metadata": {
    "execution": {
     "iopub.execute_input": "2023-12-21T20:59:40.823325Z",
     "iopub.status.busy": "2023-12-21T20:59:40.823013Z",
     "iopub.status.idle": "2023-12-21T20:59:40.830305Z",
     "shell.execute_reply": "2023-12-21T20:59:40.829605Z",
     "shell.execute_reply.started": "2023-12-21T20:59:40.823296Z"
    },
    "pycharm": {
     "name": "#%%\n"
    }
   },
   "outputs": [
    {
     "name": "stdout",
     "output_type": "stream",
     "text": [
      "\n",
      "Final dataframe size: 474.14MB\n",
      "\n",
      "Shadow dataframe size: 270.91MB\n"
     ]
    }
   ],
   "source": [
    "print('\\nFinal dataframe size: {:.2f}MB'.format(new_df.memory_usage(deep=True).sum() / (1024**2)))\n",
    "print('\\nShadow dataframe size: {:.2f}MB'.format(missing_df.memory_usage(deep=True).sum() / (1024**2)))"
   ]
  },
  {
   "cell_type": "code",
   "execution_count": 46,
   "id": "56ec549c-7676-40be-9743-38d83e501455",
   "metadata": {
    "execution": {
     "iopub.execute_input": "2023-12-21T20:59:40.831993Z",
     "iopub.status.busy": "2023-12-21T20:59:40.831568Z",
     "iopub.status.idle": "2023-12-21T20:59:44.918919Z",
     "shell.execute_reply": "2023-12-21T20:59:44.918222Z",
     "shell.execute_reply.started": "2023-12-21T20:59:40.831965Z"
    }
   },
   "outputs": [],
   "source": [
    "utils.write_parquet(new_df, 'data/' + prefix + '_values.parquet')\n",
    "if not missing_df.empty:\n",
    "    utils.write_parquet(new_df, 'data/' + prefix + '_missing_values.parquet', verbose=False)"
   ]
  },
  {
   "cell_type": "markdown",
   "id": "f2024661",
   "metadata": {
    "tags": []
   },
   "source": [
    "## accelerometry"
   ]
  },
  {
   "cell_type": "code",
   "execution_count": 47,
   "id": "3bca2b05",
   "metadata": {
    "execution": {
     "iopub.execute_input": "2023-12-21T20:59:44.920271Z",
     "iopub.status.busy": "2023-12-21T20:59:44.919870Z",
     "iopub.status.idle": "2023-12-21T20:59:46.542371Z",
     "shell.execute_reply": "2023-12-21T20:59:46.541695Z",
     "shell.execute_reply.started": "2023-12-21T20:59:44.920244Z"
    },
    "pycharm": {
     "name": "#%%\n"
    },
    "tags": []
   },
   "outputs": [
    {
     "name": "stdout",
     "output_type": "stream",
     "text": [
      "\n",
      "accelerometry06.sas7bdat: (2712, 27)\n",
      "['ID', 'VERSION', 'AAVMNT', 'AAMVBMF', 'ADHHS8', 'ADHHSD8', 'AAMVBMT', 'AAMVMNS', 'AAVBMS', 'AAMVBMS', 'AAMVMNT', 'AACSM03', 'AAMVMNF', 'AMPA1', 'AAVMNF', 'AACNT', 'AALTMNF', 'AAMDMNF', 'AAVBMT', 'APASTAT', 'AALTMNT', 'AAMDMNT', 'AAVBMF', 'ANVDAYS', 'AALTMNS', 'AAMDMNS', 'AAVMNS']\n",
      "\n",
      "accelerometry08.sas7bdat: (1797, 27)\n",
      "\n",
      "Total rows: 4509\n"
     ]
    }
   ],
   "source": [
    "prefix = 'accelerometry'\n",
    "column_uniformity_check(prefix)"
   ]
  },
  {
   "cell_type": "code",
   "execution_count": 48,
   "id": "afd17b61",
   "metadata": {
    "execution": {
     "iopub.execute_input": "2023-12-21T20:59:46.543977Z",
     "iopub.status.busy": "2023-12-21T20:59:46.543565Z",
     "iopub.status.idle": "2023-12-21T20:59:49.344950Z",
     "shell.execute_reply": "2023-12-21T20:59:49.344325Z",
     "shell.execute_reply.started": "2023-12-21T20:59:46.543952Z"
    },
    "pycharm": {
     "name": "#%%\n"
    },
    "tags": []
   },
   "outputs": [
    {
     "name": "stdout",
     "output_type": "stream",
     "text": [
      "accelerometry06.sas7bdat\tVar Cnt: 27\n",
      "Visits: ['V06']\n",
      "accelerometry08.sas7bdat\tVar Cnt: 27\n",
      "Visits: ['V08']\n",
      "(4509, 28)\n",
      "\n",
      "Starting dataframe size: 4.06MB\n"
     ]
    }
   ],
   "source": [
    "tmp_df = create_df(prefix)\n",
    "print(tmp_df.shape)\n",
    "print('\\nStarting dataframe size: {:.2f}MB'.format(tmp_df.memory_usage(deep=True).sum() / (1024**2)))"
   ]
  },
  {
   "cell_type": "code",
   "execution_count": 49,
   "id": "b25c86cf",
   "metadata": {
    "execution": {
     "iopub.execute_input": "2023-12-21T20:59:49.346469Z",
     "iopub.status.busy": "2023-12-21T20:59:49.346157Z",
     "iopub.status.idle": "2023-12-21T20:59:49.508780Z",
     "shell.execute_reply": "2023-12-21T20:59:49.508245Z",
     "shell.execute_reply.started": "2023-12-21T20:59:49.346446Z"
    },
    "pycharm": {
     "name": "#%%\n"
    },
    "tags": []
   },
   "outputs": [],
   "source": [
    "data_stats_df, done_df = gather_column_data_stats(tmp_df)"
   ]
  },
  {
   "cell_type": "code",
   "execution_count": 50,
   "id": "1a0fcc1b",
   "metadata": {
    "execution": {
     "iopub.execute_input": "2023-12-21T20:59:49.509666Z",
     "iopub.status.busy": "2023-12-21T20:59:49.509525Z",
     "iopub.status.idle": "2023-12-21T20:59:49.544994Z",
     "shell.execute_reply": "2023-12-21T20:59:49.544298Z",
     "shell.execute_reply.started": "2023-12-21T20:59:49.509647Z"
    },
    "pycharm": {
     "name": "#%%\n"
    },
    "tags": []
   },
   "outputs": [
    {
     "name": "stdout",
     "output_type": "stream",
     "text": [
      "Already defined cols: 5 \tCols to convert: 23\t Total col cnt: 28\n",
      "\n",
      "Column types to convert:\n",
      "   str_cnt  num_cnt  date_cnt  na_cnt  count\n",
      "0     True    False     False   False      1\n",
      "1     True     True     False   False     22\n",
      "\n",
      "Numeric types of columns:\n",
      "num_type\n",
      "float       20\n",
      "unsigned     2\n",
      "Name: count, dtype: int64\n",
      "\n",
      "Largest number of unique strings: 5\n"
     ]
    },
    {
     "data": {
      "text/html": [
       "<div>\n",
       "<style scoped>\n",
       "    .dataframe tbody tr th:only-of-type {\n",
       "        vertical-align: middle;\n",
       "    }\n",
       "\n",
       "    .dataframe tbody tr th {\n",
       "        vertical-align: top;\n",
       "    }\n",
       "\n",
       "    .dataframe thead th {\n",
       "        text-align: right;\n",
       "    }\n",
       "</style>\n",
       "<table border=\"1\" class=\"dataframe\">\n",
       "  <thead>\n",
       "    <tr style=\"text-align: right;\">\n",
       "      <th></th>\n",
       "      <th>label</th>\n",
       "      <th>uniq_strs</th>\n",
       "      <th>str_list</th>\n",
       "      <th>missing_val_cnt</th>\n",
       "      <th>missing_val_list</th>\n",
       "      <th>numeric_str</th>\n",
       "      <th>num_type</th>\n",
       "      <th>uniq_num</th>\n",
       "      <th>max_num</th>\n",
       "      <th>min_num</th>\n",
       "      <th>str_cnt</th>\n",
       "      <th>num_cnt</th>\n",
       "      <th>date_cnt</th>\n",
       "      <th>na_cnt</th>\n",
       "    </tr>\n",
       "    <tr>\n",
       "      <th>col</th>\n",
       "      <th></th>\n",
       "      <th></th>\n",
       "      <th></th>\n",
       "      <th></th>\n",
       "      <th></th>\n",
       "      <th></th>\n",
       "      <th></th>\n",
       "      <th></th>\n",
       "      <th></th>\n",
       "      <th></th>\n",
       "      <th></th>\n",
       "      <th></th>\n",
       "      <th></th>\n",
       "      <th></th>\n",
       "    </tr>\n",
       "  </thead>\n",
       "  <tbody>\n",
       "    <tr>\n",
       "      <th>AAVMNT</th>\n",
       "      <td>Accelerometry: average daily minutes of vigoro...</td>\n",
       "      <td>0</td>\n",
       "      <td>{}</td>\n",
       "      <td>1</td>\n",
       "      <td>{A}</td>\n",
       "      <td>False</td>\n",
       "      <td>float</td>\n",
       "      <td>159.0</td>\n",
       "      <td>9.542857e+01</td>\n",
       "      <td>0.000000</td>\n",
       "      <td>1188</td>\n",
       "      <td>3321</td>\n",
       "      <td>0</td>\n",
       "      <td>0</td>\n",
       "    </tr>\n",
       "    <tr>\n",
       "      <th>AAMVBMF</th>\n",
       "      <td>Accelerometry: average daily bout minutes of m...</td>\n",
       "      <td>0</td>\n",
       "      <td>{}</td>\n",
       "      <td>1</td>\n",
       "      <td>{A}</td>\n",
       "      <td>False</td>\n",
       "      <td>float</td>\n",
       "      <td>524.0</td>\n",
       "      <td>1.344286e+02</td>\n",
       "      <td>0.000000</td>\n",
       "      <td>1188</td>\n",
       "      <td>3321</td>\n",
       "      <td>0</td>\n",
       "      <td>0</td>\n",
       "    </tr>\n",
       "    <tr>\n",
       "      <th>AAMVBMT</th>\n",
       "      <td>Accelerometry: average daily bout minutes of m...</td>\n",
       "      <td>0</td>\n",
       "      <td>{}</td>\n",
       "      <td>1</td>\n",
       "      <td>{A}</td>\n",
       "      <td>False</td>\n",
       "      <td>float</td>\n",
       "      <td>503.0</td>\n",
       "      <td>1.330000e+02</td>\n",
       "      <td>0.000000</td>\n",
       "      <td>1188</td>\n",
       "      <td>3321</td>\n",
       "      <td>0</td>\n",
       "      <td>0</td>\n",
       "    </tr>\n",
       "    <tr>\n",
       "      <th>AAMVMNS</th>\n",
       "      <td>Accelerometry: average daily minutes of modera...</td>\n",
       "      <td>0</td>\n",
       "      <td>{}</td>\n",
       "      <td>1</td>\n",
       "      <td>{A}</td>\n",
       "      <td>False</td>\n",
       "      <td>float</td>\n",
       "      <td>1761.0</td>\n",
       "      <td>4.168333e+02</td>\n",
       "      <td>0.000000</td>\n",
       "      <td>1188</td>\n",
       "      <td>3321</td>\n",
       "      <td>0</td>\n",
       "      <td>0</td>\n",
       "    </tr>\n",
       "    <tr>\n",
       "      <th>AAVBMS</th>\n",
       "      <td>Accelerometry: average daily bout minutes of v...</td>\n",
       "      <td>0</td>\n",
       "      <td>{}</td>\n",
       "      <td>1</td>\n",
       "      <td>{A}</td>\n",
       "      <td>False</td>\n",
       "      <td>float</td>\n",
       "      <td>178.0</td>\n",
       "      <td>1.120000e+02</td>\n",
       "      <td>0.000000</td>\n",
       "      <td>1188</td>\n",
       "      <td>3321</td>\n",
       "      <td>0</td>\n",
       "      <td>0</td>\n",
       "    </tr>\n",
       "    <tr>\n",
       "      <th>AAMVBMS</th>\n",
       "      <td>Accelerometry: average daily bout minutes of m...</td>\n",
       "      <td>0</td>\n",
       "      <td>{}</td>\n",
       "      <td>1</td>\n",
       "      <td>{A}</td>\n",
       "      <td>False</td>\n",
       "      <td>float</td>\n",
       "      <td>1213.0</td>\n",
       "      <td>3.990000e+02</td>\n",
       "      <td>0.000000</td>\n",
       "      <td>1188</td>\n",
       "      <td>3321</td>\n",
       "      <td>0</td>\n",
       "      <td>0</td>\n",
       "    </tr>\n",
       "    <tr>\n",
       "      <th>AAMVMNT</th>\n",
       "      <td>Accelerometry: average daily minutes of modera...</td>\n",
       "      <td>0</td>\n",
       "      <td>{}</td>\n",
       "      <td>1</td>\n",
       "      <td>{A}</td>\n",
       "      <td>False</td>\n",
       "      <td>float</td>\n",
       "      <td>755.0</td>\n",
       "      <td>1.628333e+02</td>\n",
       "      <td>0.000000</td>\n",
       "      <td>1188</td>\n",
       "      <td>3321</td>\n",
       "      <td>0</td>\n",
       "      <td>0</td>\n",
       "    </tr>\n",
       "    <tr>\n",
       "      <th>AACSM03</th>\n",
       "      <td>Accelerometry: ACSM 2003 physical activity gui...</td>\n",
       "      <td>0</td>\n",
       "      <td>{}</td>\n",
       "      <td>1</td>\n",
       "      <td>{A}</td>\n",
       "      <td>False</td>\n",
       "      <td>float</td>\n",
       "      <td>44.0</td>\n",
       "      <td>1.000000e+00</td>\n",
       "      <td>0.000000</td>\n",
       "      <td>1188</td>\n",
       "      <td>3321</td>\n",
       "      <td>0</td>\n",
       "      <td>0</td>\n",
       "    </tr>\n",
       "    <tr>\n",
       "      <th>AAMVMNF</th>\n",
       "      <td>Accelerometry: average daily minutes of modera...</td>\n",
       "      <td>0</td>\n",
       "      <td>{}</td>\n",
       "      <td>1</td>\n",
       "      <td>{A}</td>\n",
       "      <td>False</td>\n",
       "      <td>float</td>\n",
       "      <td>776.0</td>\n",
       "      <td>1.753333e+02</td>\n",
       "      <td>0.000000</td>\n",
       "      <td>1188</td>\n",
       "      <td>3321</td>\n",
       "      <td>0</td>\n",
       "      <td>0</td>\n",
       "    </tr>\n",
       "    <tr>\n",
       "      <th>AMPA1</th>\n",
       "      <td>Accelerometry: month of the 1st valid day of p...</td>\n",
       "      <td>0</td>\n",
       "      <td>{}</td>\n",
       "      <td>1</td>\n",
       "      <td>{A}</td>\n",
       "      <td>False</td>\n",
       "      <td>unsigned</td>\n",
       "      <td>12.0</td>\n",
       "      <td>1.200000e+01</td>\n",
       "      <td>1.000000</td>\n",
       "      <td>1188</td>\n",
       "      <td>3321</td>\n",
       "      <td>0</td>\n",
       "      <td>0</td>\n",
       "    </tr>\n",
       "    <tr>\n",
       "      <th>AAVMNF</th>\n",
       "      <td>Accelerometry: average daily minutes of vigoro...</td>\n",
       "      <td>0</td>\n",
       "      <td>{}</td>\n",
       "      <td>1</td>\n",
       "      <td>{A}</td>\n",
       "      <td>False</td>\n",
       "      <td>float</td>\n",
       "      <td>167.0</td>\n",
       "      <td>1.062857e+02</td>\n",
       "      <td>0.000000</td>\n",
       "      <td>1188</td>\n",
       "      <td>3321</td>\n",
       "      <td>0</td>\n",
       "      <td>0</td>\n",
       "    </tr>\n",
       "    <tr>\n",
       "      <th>AACNT</th>\n",
       "      <td>Accelerometry: average daily counts of physica...</td>\n",
       "      <td>0</td>\n",
       "      <td>{}</td>\n",
       "      <td>1</td>\n",
       "      <td>{A}</td>\n",
       "      <td>False</td>\n",
       "      <td>float</td>\n",
       "      <td>3319.0</td>\n",
       "      <td>1.081502e+06</td>\n",
       "      <td>5885.333333</td>\n",
       "      <td>1188</td>\n",
       "      <td>3321</td>\n",
       "      <td>0</td>\n",
       "      <td>0</td>\n",
       "    </tr>\n",
       "    <tr>\n",
       "      <th>AALTMNF</th>\n",
       "      <td>Accelerometry: average daily minutes of light ...</td>\n",
       "      <td>0</td>\n",
       "      <td>{}</td>\n",
       "      <td>1</td>\n",
       "      <td>{A}</td>\n",
       "      <td>False</td>\n",
       "      <td>float</td>\n",
       "      <td>2020.0</td>\n",
       "      <td>6.452000e+02</td>\n",
       "      <td>12.333333</td>\n",
       "      <td>1188</td>\n",
       "      <td>3321</td>\n",
       "      <td>0</td>\n",
       "      <td>0</td>\n",
       "    </tr>\n",
       "    <tr>\n",
       "      <th>AAMDMNF</th>\n",
       "      <td>Accelerometry: average daily minutes of modera...</td>\n",
       "      <td>0</td>\n",
       "      <td>{}</td>\n",
       "      <td>1</td>\n",
       "      <td>{A}</td>\n",
       "      <td>False</td>\n",
       "      <td>float</td>\n",
       "      <td>748.0</td>\n",
       "      <td>1.753333e+02</td>\n",
       "      <td>0.000000</td>\n",
       "      <td>1188</td>\n",
       "      <td>3321</td>\n",
       "      <td>0</td>\n",
       "      <td>0</td>\n",
       "    </tr>\n",
       "    <tr>\n",
       "      <th>AAVBMT</th>\n",
       "      <td>Accelerometry: average daily bout minutes of v...</td>\n",
       "      <td>0</td>\n",
       "      <td>{}</td>\n",
       "      <td>1</td>\n",
       "      <td>{A}</td>\n",
       "      <td>False</td>\n",
       "      <td>float</td>\n",
       "      <td>125.0</td>\n",
       "      <td>9.300000e+01</td>\n",
       "      <td>0.000000</td>\n",
       "      <td>1188</td>\n",
       "      <td>3321</td>\n",
       "      <td>0</td>\n",
       "      <td>0</td>\n",
       "    </tr>\n",
       "    <tr>\n",
       "      <th>APASTAT</th>\n",
       "      <td>Accelerometry: study status</td>\n",
       "      <td>5</td>\n",
       "      <td>{Not worn, Not participating, Worn no data (ma...</td>\n",
       "      <td>0</td>\n",
       "      <td>{}</td>\n",
       "      <td>False</td>\n",
       "      <td>None</td>\n",
       "      <td>NaN</td>\n",
       "      <td>NaN</td>\n",
       "      <td>NaN</td>\n",
       "      <td>4509</td>\n",
       "      <td>0</td>\n",
       "      <td>0</td>\n",
       "      <td>0</td>\n",
       "    </tr>\n",
       "    <tr>\n",
       "      <th>AALTMNT</th>\n",
       "      <td>Accelerometry: average daily minutes of light ...</td>\n",
       "      <td>0</td>\n",
       "      <td>{}</td>\n",
       "      <td>1</td>\n",
       "      <td>{A}</td>\n",
       "      <td>False</td>\n",
       "      <td>float</td>\n",
       "      <td>1995.0</td>\n",
       "      <td>6.470000e+02</td>\n",
       "      <td>12.333333</td>\n",
       "      <td>1188</td>\n",
       "      <td>3321</td>\n",
       "      <td>0</td>\n",
       "      <td>0</td>\n",
       "    </tr>\n",
       "    <tr>\n",
       "      <th>AAMDMNT</th>\n",
       "      <td>Accelerometry: average daily minutes of modera...</td>\n",
       "      <td>0</td>\n",
       "      <td>{}</td>\n",
       "      <td>1</td>\n",
       "      <td>{A}</td>\n",
       "      <td>False</td>\n",
       "      <td>float</td>\n",
       "      <td>737.0</td>\n",
       "      <td>1.628333e+02</td>\n",
       "      <td>0.000000</td>\n",
       "      <td>1188</td>\n",
       "      <td>3321</td>\n",
       "      <td>0</td>\n",
       "      <td>0</td>\n",
       "    </tr>\n",
       "    <tr>\n",
       "      <th>AAVBMF</th>\n",
       "      <td>Accelerometry: average daily bout minutes of v...</td>\n",
       "      <td>0</td>\n",
       "      <td>{}</td>\n",
       "      <td>1</td>\n",
       "      <td>{A}</td>\n",
       "      <td>False</td>\n",
       "      <td>float</td>\n",
       "      <td>141.0</td>\n",
       "      <td>1.100000e+02</td>\n",
       "      <td>0.000000</td>\n",
       "      <td>1188</td>\n",
       "      <td>3321</td>\n",
       "      <td>0</td>\n",
       "      <td>0</td>\n",
       "    </tr>\n",
       "    <tr>\n",
       "      <th>ANVDAYS</th>\n",
       "      <td>Accelerometry: number of valid days</td>\n",
       "      <td>0</td>\n",
       "      <td>{}</td>\n",
       "      <td>1</td>\n",
       "      <td>{A}</td>\n",
       "      <td>False</td>\n",
       "      <td>unsigned</td>\n",
       "      <td>8.0</td>\n",
       "      <td>7.000000e+00</td>\n",
       "      <td>0.000000</td>\n",
       "      <td>1065</td>\n",
       "      <td>3444</td>\n",
       "      <td>0</td>\n",
       "      <td>0</td>\n",
       "    </tr>\n",
       "    <tr>\n",
       "      <th>AALTMNS</th>\n",
       "      <td>Accelerometry: average daily minutes of light ...</td>\n",
       "      <td>0</td>\n",
       "      <td>{}</td>\n",
       "      <td>1</td>\n",
       "      <td>{A}</td>\n",
       "      <td>False</td>\n",
       "      <td>float</td>\n",
       "      <td>1565.0</td>\n",
       "      <td>4.307143e+02</td>\n",
       "      <td>12.333333</td>\n",
       "      <td>1188</td>\n",
       "      <td>3321</td>\n",
       "      <td>0</td>\n",
       "      <td>0</td>\n",
       "    </tr>\n",
       "    <tr>\n",
       "      <th>AAMDMNS</th>\n",
       "      <td>Accelerometry: average daily minutes of modera...</td>\n",
       "      <td>0</td>\n",
       "      <td>{}</td>\n",
       "      <td>1</td>\n",
       "      <td>{A}</td>\n",
       "      <td>False</td>\n",
       "      <td>float</td>\n",
       "      <td>1734.0</td>\n",
       "      <td>4.168333e+02</td>\n",
       "      <td>0.000000</td>\n",
       "      <td>1188</td>\n",
       "      <td>3321</td>\n",
       "      <td>0</td>\n",
       "      <td>0</td>\n",
       "    </tr>\n",
       "    <tr>\n",
       "      <th>AAVMNS</th>\n",
       "      <td>Accelerometry: average daily minutes of vigoro...</td>\n",
       "      <td>0</td>\n",
       "      <td>{}</td>\n",
       "      <td>1</td>\n",
       "      <td>{A}</td>\n",
       "      <td>False</td>\n",
       "      <td>float</td>\n",
       "      <td>231.0</td>\n",
       "      <td>1.111429e+02</td>\n",
       "      <td>0.000000</td>\n",
       "      <td>1188</td>\n",
       "      <td>3321</td>\n",
       "      <td>0</td>\n",
       "      <td>0</td>\n",
       "    </tr>\n",
       "  </tbody>\n",
       "</table>\n",
       "</div>"
      ],
      "text/plain": [
       "                                                     label  uniq_strs  \\\n",
       "col                                                                     \n",
       "AAVMNT   Accelerometry: average daily minutes of vigoro...          0   \n",
       "AAMVBMF  Accelerometry: average daily bout minutes of m...          0   \n",
       "AAMVBMT  Accelerometry: average daily bout minutes of m...          0   \n",
       "AAMVMNS  Accelerometry: average daily minutes of modera...          0   \n",
       "AAVBMS   Accelerometry: average daily bout minutes of v...          0   \n",
       "AAMVBMS  Accelerometry: average daily bout minutes of m...          0   \n",
       "AAMVMNT  Accelerometry: average daily minutes of modera...          0   \n",
       "AACSM03  Accelerometry: ACSM 2003 physical activity gui...          0   \n",
       "AAMVMNF  Accelerometry: average daily minutes of modera...          0   \n",
       "AMPA1    Accelerometry: month of the 1st valid day of p...          0   \n",
       "AAVMNF   Accelerometry: average daily minutes of vigoro...          0   \n",
       "AACNT    Accelerometry: average daily counts of physica...          0   \n",
       "AALTMNF  Accelerometry: average daily minutes of light ...          0   \n",
       "AAMDMNF  Accelerometry: average daily minutes of modera...          0   \n",
       "AAVBMT   Accelerometry: average daily bout minutes of v...          0   \n",
       "APASTAT                        Accelerometry: study status          5   \n",
       "AALTMNT  Accelerometry: average daily minutes of light ...          0   \n",
       "AAMDMNT  Accelerometry: average daily minutes of modera...          0   \n",
       "AAVBMF   Accelerometry: average daily bout minutes of v...          0   \n",
       "ANVDAYS                Accelerometry: number of valid days          0   \n",
       "AALTMNS  Accelerometry: average daily minutes of light ...          0   \n",
       "AAMDMNS  Accelerometry: average daily minutes of modera...          0   \n",
       "AAVMNS   Accelerometry: average daily minutes of vigoro...          0   \n",
       "\n",
       "                                                  str_list  missing_val_cnt  \\\n",
       "col                                                                           \n",
       "AAVMNT                                                  {}                1   \n",
       "AAMVBMF                                                 {}                1   \n",
       "AAMVBMT                                                 {}                1   \n",
       "AAMVMNS                                                 {}                1   \n",
       "AAVBMS                                                  {}                1   \n",
       "AAMVBMS                                                 {}                1   \n",
       "AAMVMNT                                                 {}                1   \n",
       "AACSM03                                                 {}                1   \n",
       "AAMVMNF                                                 {}                1   \n",
       "AMPA1                                                   {}                1   \n",
       "AAVMNF                                                  {}                1   \n",
       "AACNT                                                   {}                1   \n",
       "AALTMNF                                                 {}                1   \n",
       "AAMDMNF                                                 {}                1   \n",
       "AAVBMT                                                  {}                1   \n",
       "APASTAT  {Not worn, Not participating, Worn no data (ma...                0   \n",
       "AALTMNT                                                 {}                1   \n",
       "AAMDMNT                                                 {}                1   \n",
       "AAVBMF                                                  {}                1   \n",
       "ANVDAYS                                                 {}                1   \n",
       "AALTMNS                                                 {}                1   \n",
       "AAMDMNS                                                 {}                1   \n",
       "AAVMNS                                                  {}                1   \n",
       "\n",
       "        missing_val_list  numeric_str  num_type  uniq_num       max_num  \\\n",
       "col                                                                       \n",
       "AAVMNT               {A}        False     float     159.0  9.542857e+01   \n",
       "AAMVBMF              {A}        False     float     524.0  1.344286e+02   \n",
       "AAMVBMT              {A}        False     float     503.0  1.330000e+02   \n",
       "AAMVMNS              {A}        False     float    1761.0  4.168333e+02   \n",
       "AAVBMS               {A}        False     float     178.0  1.120000e+02   \n",
       "AAMVBMS              {A}        False     float    1213.0  3.990000e+02   \n",
       "AAMVMNT              {A}        False     float     755.0  1.628333e+02   \n",
       "AACSM03              {A}        False     float      44.0  1.000000e+00   \n",
       "AAMVMNF              {A}        False     float     776.0  1.753333e+02   \n",
       "AMPA1                {A}        False  unsigned      12.0  1.200000e+01   \n",
       "AAVMNF               {A}        False     float     167.0  1.062857e+02   \n",
       "AACNT                {A}        False     float    3319.0  1.081502e+06   \n",
       "AALTMNF              {A}        False     float    2020.0  6.452000e+02   \n",
       "AAMDMNF              {A}        False     float     748.0  1.753333e+02   \n",
       "AAVBMT               {A}        False     float     125.0  9.300000e+01   \n",
       "APASTAT               {}        False      None       NaN           NaN   \n",
       "AALTMNT              {A}        False     float    1995.0  6.470000e+02   \n",
       "AAMDMNT              {A}        False     float     737.0  1.628333e+02   \n",
       "AAVBMF               {A}        False     float     141.0  1.100000e+02   \n",
       "ANVDAYS              {A}        False  unsigned       8.0  7.000000e+00   \n",
       "AALTMNS              {A}        False     float    1565.0  4.307143e+02   \n",
       "AAMDMNS              {A}        False     float    1734.0  4.168333e+02   \n",
       "AAVMNS               {A}        False     float     231.0  1.111429e+02   \n",
       "\n",
       "             min_num  str_cnt  num_cnt  date_cnt  na_cnt  \n",
       "col                                                       \n",
       "AAVMNT      0.000000     1188     3321         0       0  \n",
       "AAMVBMF     0.000000     1188     3321         0       0  \n",
       "AAMVBMT     0.000000     1188     3321         0       0  \n",
       "AAMVMNS     0.000000     1188     3321         0       0  \n",
       "AAVBMS      0.000000     1188     3321         0       0  \n",
       "AAMVBMS     0.000000     1188     3321         0       0  \n",
       "AAMVMNT     0.000000     1188     3321         0       0  \n",
       "AACSM03     0.000000     1188     3321         0       0  \n",
       "AAMVMNF     0.000000     1188     3321         0       0  \n",
       "AMPA1       1.000000     1188     3321         0       0  \n",
       "AAVMNF      0.000000     1188     3321         0       0  \n",
       "AACNT    5885.333333     1188     3321         0       0  \n",
       "AALTMNF    12.333333     1188     3321         0       0  \n",
       "AAMDMNF     0.000000     1188     3321         0       0  \n",
       "AAVBMT      0.000000     1188     3321         0       0  \n",
       "APASTAT          NaN     4509        0         0       0  \n",
       "AALTMNT    12.333333     1188     3321         0       0  \n",
       "AAMDMNT     0.000000     1188     3321         0       0  \n",
       "AAVBMF      0.000000     1188     3321         0       0  \n",
       "ANVDAYS     0.000000     1065     3444         0       0  \n",
       "AALTMNS    12.333333     1188     3321         0       0  \n",
       "AAMDMNS     0.000000     1188     3321         0       0  \n",
       "AAVMNS      0.000000     1188     3321         0       0  "
      ]
     },
     "execution_count": 50,
     "metadata": {},
     "output_type": "execute_result"
    }
   ],
   "source": [
    "data_stats_summary(tmp_df, data_stats_df)\n",
    "\n",
    "data_stats_df"
   ]
  },
  {
   "cell_type": "code",
   "execution_count": 51,
   "id": "6d5fe451",
   "metadata": {
    "execution": {
     "iopub.execute_input": "2023-12-21T20:59:49.546353Z",
     "iopub.status.busy": "2023-12-21T20:59:49.546125Z",
     "iopub.status.idle": "2023-12-21T20:59:49.556181Z",
     "shell.execute_reply": "2023-12-21T20:59:49.555402Z",
     "shell.execute_reply.started": "2023-12-21T20:59:49.546333Z"
    },
    "pycharm": {
     "name": "#%%\n"
    },
    "tags": []
   },
   "outputs": [
    {
     "name": "stdout",
     "output_type": "stream",
     "text": [
      "targets = {\n",
      "# Columns with only unsigned ints, missing, and NA values\n",
      "'unsigned': ['AMPA1', 'ANVDAYS'],\n",
      "\n",
      "# Columns with only floats, missing, and NA values\n",
      "'float': ['AAVMNT', 'AAMVBMF', 'AAMVBMT', 'AAMVMNS', 'AAVBMS', 'AAMVBMS', 'AAMVMNT', 'AACSM03', 'AAMVMNF', 'AAVMNF', 'AACNT', 'AALTMNF', 'AAMDMNF', 'AAVBMT', 'AALTMNT', 'AAMDMNT', 'AAVBMF', 'AALTMNS', 'AAMDMNS', 'AAVMNS'],\n",
      "\n",
      "# Columns with only strings, missing, and NA values\n",
      "'cat': ['APASTAT'],\n",
      "\n",
      "}\n",
      "\n",
      "\n",
      "Handled columns: 23\n"
     ]
    }
   ],
   "source": [
    "suggest_conversions(data_stats_df)"
   ]
  },
  {
   "cell_type": "code",
   "execution_count": 52,
   "id": "f6e2f2a4",
   "metadata": {
    "execution": {
     "iopub.execute_input": "2023-12-21T20:59:49.557325Z",
     "iopub.status.busy": "2023-12-21T20:59:49.556971Z",
     "iopub.status.idle": "2023-12-21T20:59:49.773071Z",
     "shell.execute_reply": "2023-12-21T20:59:49.772380Z",
     "shell.execute_reply.started": "2023-12-21T20:59:49.557301Z"
    },
    "pycharm": {
     "name": "#%%\n"
    },
    "tags": []
   },
   "outputs": [],
   "source": [
    "targets = {\n",
    "# Columns with only unsigned ints, missing, and NA values\n",
    "'unsigned': ['AMPA1', 'ANVDAYS'],\n",
    "\n",
    "# Columns with only floats, missing, and NA values\n",
    "'float': ['AAVMNT', 'AAMVBMF', 'AAMVBMT', 'AAMVMNS', 'AAVBMS', 'AAMVBMS', 'AAMVMNT', 'AACSM03', 'AAMVMNF', 'AAVMNF', 'AACNT', 'AALTMNF', 'AAMDMNF', 'AAVBMT', 'AALTMNT', 'AAMDMNT', 'AAVBMF', 'AALTMNS', 'AAMDMNS', 'AAVMNS'],\n",
    "\n",
    "# Columns with only strings, missing, and NA values\n",
    "'cat': ['APASTAT'],\n",
    "\n",
    "}\n",
    "new_df, missing_df = convert_columns(targets, data_stats_df, tmp_df)"
   ]
  },
  {
   "cell_type": "code",
   "execution_count": 53,
   "id": "6e863aec",
   "metadata": {
    "execution": {
     "iopub.execute_input": "2023-12-21T20:59:49.774753Z",
     "iopub.status.busy": "2023-12-21T20:59:49.774196Z",
     "iopub.status.idle": "2023-12-21T20:59:49.800862Z",
     "shell.execute_reply": "2023-12-21T20:59:49.800165Z",
     "shell.execute_reply.started": "2023-12-21T20:59:49.774725Z"
    },
    "pycharm": {
     "name": "#%%\n"
    },
    "tags": []
   },
   "outputs": [
    {
     "name": "stdout",
     "output_type": "stream",
     "text": [
      "\n",
      "VERSION    category\n",
      "AAVMNT      float32\n",
      "AAMVBMF     float32\n",
      "ADHHS8     category\n",
      "ADHHSD8    category\n",
      "AAMVBMT     float32\n",
      "AAMVMNS     float32\n",
      "AAVBMS      float32\n",
      "AAMVBMS     float32\n",
      "AAMVMNT     float32\n",
      "AACSM03     float32\n",
      "AAMVMNF     float32\n",
      "AMPA1         UInt8\n",
      "AAVMNF      float32\n",
      "AACNT       float64\n",
      "AALTMNF     float32\n",
      "AAMDMNF     float32\n",
      "AAVBMT      float32\n",
      "APASTAT    category\n",
      "AALTMNT     float32\n",
      "AAMDMNT     float32\n",
      "AAVBMF      float32\n",
      "ANVDAYS       UInt8\n",
      "AALTMNS     float32\n",
      "AAMDMNS     float32\n",
      "AAVMNS      float32\n",
      "dtype: object\n",
      "\n",
      "Missing values present, shadow dataframe created.\n",
      "              AMPA1 ANVDAYS AAVMNT AAMVBMF AAMVBMT AAMVMNS AAVBMS AAMVBMS  \\\n",
      "ID      Visit                                                               \n",
      "9000099 V06     NaN     NaN    NaN     NaN     NaN     NaN    NaN     NaN   \n",
      "9001695 V06     NaN     NaN    NaN     NaN     NaN     NaN    NaN     NaN   \n",
      "9001897 V06     NaN     NaN    NaN     NaN     NaN     NaN    NaN     NaN   \n",
      "9002116 V06     NaN     NaN    NaN     NaN     NaN     NaN    NaN     NaN   \n",
      "9002430 V06     NaN     NaN    NaN     NaN     NaN     NaN    NaN     NaN   \n",
      "...             ...     ...    ...     ...     ...     ...    ...     ...   \n",
      "9998089 V08     NaN     NaN    NaN     NaN     NaN     NaN    NaN     NaN   \n",
      "9998384 V08     NaN     NaN    NaN     NaN     NaN     NaN    NaN     NaN   \n",
      "9999510 V08     NaN     NaN    NaN     NaN     NaN     NaN    NaN     NaN   \n",
      "9999862 V08     NaN     NaN    NaN     NaN     NaN     NaN    NaN     NaN   \n",
      "9999878 V08     NaN     NaN    NaN     NaN     NaN     NaN    NaN     NaN   \n",
      "\n",
      "              AAMVMNT AACSM03  ... AACNT AALTMNF AAMDMNF AAVBMT AALTMNT  \\\n",
      "ID      Visit                  ...                                        \n",
      "9000099 V06       NaN     NaN  ...   NaN     NaN     NaN    NaN     NaN   \n",
      "9001695 V06       NaN     NaN  ...   NaN     NaN     NaN    NaN     NaN   \n",
      "9001897 V06       NaN     NaN  ...   NaN     NaN     NaN    NaN     NaN   \n",
      "9002116 V06       NaN     NaN  ...   NaN     NaN     NaN    NaN     NaN   \n",
      "9002430 V06       NaN     NaN  ...   NaN     NaN     NaN    NaN     NaN   \n",
      "...               ...     ...  ...   ...     ...     ...    ...     ...   \n",
      "9998089 V08       NaN     NaN  ...   NaN     NaN     NaN    NaN     NaN   \n",
      "9998384 V08       NaN     NaN  ...   NaN     NaN     NaN    NaN     NaN   \n",
      "9999510 V08       NaN     NaN  ...   NaN     NaN     NaN    NaN     NaN   \n",
      "9999862 V08       NaN     NaN  ...   NaN     NaN     NaN    NaN     NaN   \n",
      "9999878 V08       NaN     NaN  ...   NaN     NaN     NaN    NaN     NaN   \n",
      "\n",
      "              AAMDMNT AAVBMF AALTMNS AAMDMNS AAVMNS  \n",
      "ID      Visit                                        \n",
      "9000099 V06       NaN    NaN     NaN     NaN    NaN  \n",
      "9001695 V06       NaN    NaN     NaN     NaN    NaN  \n",
      "9001897 V06       NaN    NaN     NaN     NaN    NaN  \n",
      "9002116 V06       NaN    NaN     NaN     NaN    NaN  \n",
      "9002430 V06       NaN    NaN     NaN     NaN    NaN  \n",
      "...               ...    ...     ...     ...    ...  \n",
      "9998089 V08       NaN    NaN     NaN     NaN    NaN  \n",
      "9998384 V08       NaN    NaN     NaN     NaN    NaN  \n",
      "9999510 V08       NaN    NaN     NaN     NaN    NaN  \n",
      "9999862 V08       NaN    NaN     NaN     NaN    NaN  \n",
      "9999878 V08       NaN    NaN     NaN     NaN    NaN  \n",
      "\n",
      "[4509 rows x 22 columns]\n"
     ]
    }
   ],
   "source": [
    "sanity_check(new_df)\n",
    "print()\n",
    "print(new_df.dtypes)\n",
    "\n",
    "if not missing_df.empty:\n",
    "    print('\\nMissing values present, shadow dataframe created.')\n",
    "    print(missing_df)"
   ]
  },
  {
   "cell_type": "code",
   "execution_count": 54,
   "id": "84ef8029",
   "metadata": {
    "execution": {
     "iopub.execute_input": "2023-12-21T20:59:49.802053Z",
     "iopub.status.busy": "2023-12-21T20:59:49.801786Z",
     "iopub.status.idle": "2023-12-21T20:59:49.810943Z",
     "shell.execute_reply": "2023-12-21T20:59:49.810220Z",
     "shell.execute_reply.started": "2023-12-21T20:59:49.802031Z"
    },
    "pycharm": {
     "name": "#%%\n"
    },
    "tags": []
   },
   "outputs": [
    {
     "name": "stdout",
     "output_type": "stream",
     "text": [
      "\n",
      "Final dataframe size: 0.47MB\n",
      "Shadow dataframe size: 0.17MB\n"
     ]
    }
   ],
   "source": [
    "print('\\nFinal dataframe size: {:.2f}MB'.format(new_df.memory_usage(deep=True).sum() / (1024**2)))\n",
    "print('Shadow dataframe size: {:.2f}MB'.format(missing_df.memory_usage(deep=True).sum() / (1024**2)))"
   ]
  },
  {
   "cell_type": "code",
   "execution_count": 55,
   "id": "0fc5e9c6-07cc-440e-afec-676e414b7680",
   "metadata": {
    "execution": {
     "iopub.execute_input": "2023-12-21T20:59:49.812493Z",
     "iopub.status.busy": "2023-12-21T20:59:49.812128Z",
     "iopub.status.idle": "2023-12-21T20:59:49.849485Z",
     "shell.execute_reply": "2023-12-21T20:59:49.848870Z",
     "shell.execute_reply.started": "2023-12-21T20:59:49.812471Z"
    }
   },
   "outputs": [],
   "source": [
    "utils.write_parquet(new_df, 'data/' + prefix + '_values.parquet')\n",
    "if not missing_df.empty:\n",
    "    utils.write_parquet(new_df, 'data/' + prefix + '_missing_values.parquet', verbose=False)"
   ]
  },
  {
   "cell_type": "markdown",
   "id": "9dca2953",
   "metadata": {
    "tags": []
   },
   "source": [
    "## allclinical"
   ]
  },
  {
   "cell_type": "code",
   "execution_count": 56,
   "id": "d79902f6",
   "metadata": {
    "execution": {
     "iopub.execute_input": "2023-12-21T20:59:49.850369Z",
     "iopub.status.busy": "2023-12-21T20:59:49.850229Z",
     "iopub.status.idle": "2023-12-21T21:00:21.954974Z",
     "shell.execute_reply": "2023-12-21T21:00:21.954081Z",
     "shell.execute_reply.started": "2023-12-21T20:59:49.850351Z"
    },
    "pycharm": {
     "name": "#%%\n"
    },
    "tags": []
   },
   "outputs": [
    {
     "name": "stdout",
     "output_type": "stream",
     "text": [
      "\n",
      "allclinical00.sas7bdat: (4796, 1187)\n",
      "['ID', 'VERSION', 'BLDCOLL', 'BLDHRS1', 'BLDHRS2', 'BLDRAW1', 'BLDRAW2', 'BLSURD1', 'BLSURD2', 'CITRATE', 'EDTA', 'excess1', 'excess2', 'hemat1', 'hemat2', 'hoursp1', 'hoursp2', 'hrsuc1', 'hrsuc2', 'illpwk1', 'illpwk2', 'LEAKAG1', 'LEAKAG2', 'MRSEQNL', 'MRSEQNR', 'MULTST1', 'MULTST2', 'othvp1', 'othvp2', 'pdate1', 'pdate2', 'PLAQHR1', 'PLAQHR2', 'qovp1', 'qovp2', 'SEAQHR1', 'SEAQHR2', 'SERUM', 'ucdate1', 'ucdate2', 'URINHR1', 'URINHR2', 'URINOB1', 'URINOB2', 'URNCOLL', 'URSURD1', 'URSURD2', 'vcoll1', 'vcoll2', 'vein1', 'vein2', 'void1', 'void2', 'KPN', 'KPNREV', 'KPNREVY', 'KPNR12', 'KPNR12M', 'KPNLEV', 'KPNLEVY', 'KPNL12', 'KPNL12M', 'KPACT30', 'HPNR12', 'HPNRIL', 'HPNROL', 'HPNRFL', 'HPNRB', 'HPNRLB', 'HPNRDK', 'HPNL12', 'HPNLIL', 'HPNLOL', 'HPNLFL', 'HPNLB', 'HPNLLB', 'HPNLDK', 'BP30', 'BP30OFT', 'BPBAD', 'BPUB', 'BPMB', 'BPLB', 'BPB', 'BPDK', 'OJPNRS', 'OJPNLS', 'OJPNRE', 'OJPNLE', 'OJPNRW', 'OJPNLW', 'OJPNRH', 'OJPNLH', 'OJPNRA', 'OJPNLA', 'OJPNRF', 'OJPNLF', 'OJPNNK', 'OJPNNO', 'TMJE6M', 'TMJEPN1', 'TMJE30D', 'TMJE30A', 'TMJF6M', 'TMJFPN1', 'TMJF30D', 'TMJF30A', 'SF1', 'SF2', 'SF3', 'SF4', 'SF5', 'SF6', 'SF7', 'SF8', 'SF9', 'SF10', 'SF11', 'SF12', 'WPRKN1', 'WPRKN2', 'WPRKN3', 'WPRKN4', 'WPRKN5', 'KPRKN1', 'KPRKN2', 'KPRKN3', 'P7RKFR', 'WSRKN1', 'WSRKN2', 'KSXRKN1', 'KSXRKN2', 'KSXRKN3', 'KSXRKN4', 'KSXRKN5', 'DIRKN1', 'DIRKN2', 'DIRKN3', 'DIRKN4', 'DIRKN5', 'DIRKN6', 'DIRKN7', 'DIRKN8', 'DIRKN9', 'DIRKN10', 'DIRKN11', 'DIRKN12', 'DIRKN13', 'DIRKN14', 'DIRKN15', 'DIRKN16', 'DIRKN17', 'WPLKN1', 'WPLKN2', 'WPLKN3', 'WPLKN4', 'WPLKN5', 'KPLKN1', 'KPLKN2', 'KPLKN3', 'P7LKFR', 'WSLKN1', 'WSLKN2', 'KSXLKN1', 'KSXLKN2', 'KSXLKN3', 'KSXLKN4', 'KSXLKN5', 'DILKN1', 'DILKN2', 'DILKN3', 'DILKN4', 'DILKN5', 'DILKN6', 'DILKN7', 'DILKN8', 'DILKN9', 'DILKN10', 'DILKN11', 'DILKN12', 'DILKN13', 'DILKN14', 'DILKN15', 'DILKN16', 'DILKN17', 'KOOSFX1', 'KOOSFX2', 'KOOSFX3', 'KOOSFX4', 'KOOSFX5', 'KQOL1', 'KQOL2', 'KQOL3', 'KQOL4', 'KGLRS', 'KPNRCV', 'KPNLCV', 'KPR30CV', 'KPL30CV', 'KPACTCV', 'HPR12CV', 'HPL12CV', 'BPTOT', 'HSPSS', 'HSMSS', 'WOMKPR', 'KOOSKPR', 'WOMSTFR', 'KOOSYMR', 'WOMADLR', 'WOMKPL', 'KOOSKPL', 'WOMSTFL', 'KOOSYML', 'WOMADLL', 'KOOSFSR', 'KOOSQOL', 'SXKOA', 'KPR12CV', 'KPL12CV', 'KPA30CV', 'P7RKRCV', 'P7LKRCV', 'PMRKRCV', 'PMLKRCV', 'TJE30CV', 'TJF30CV', 'TJE30WC', 'TJF30WC', 'WOMTSL', 'WOMTSR', 'RKSX', 'LKSX', 'LSXKOA', 'RSXKOA', 'BPDAYCV', 'BPBEDCV', 'BPACTCV', 'KSX', 'BL12SXL', 'BL12SXR', 'KPACDCV', 'LKP30CV', 'RKP30CV', 'KPMED', 'KINJ', 'KSURG', 'CNCR3', 'CNC3', 'CNC4', 'CNC13', 'CNC14', 'CNC15', 'CNMEL', 'CSY', 'CMN', 'CMDK', 'RAIA', 'RAJS1HR', 'RAFT6R', 'RAFT6L', 'RAKN6R', 'RAKN6L', 'RA3YES', 'RA1YES', 'RARLYES', 'RATEST', 'RATOT3', 'ARTHOTH', 'ARTDOC', 'KPMED', 'INJR', 'INJR1', 'INJR2', 'INJR3', 'KSURGR', 'KRSR', 'KRSRA', 'ARTR', 'ARTR1', 'ARTR2', 'ARTR3', 'ARTRINJ', 'MENR', 'MENR1', 'MENR2', 'MENR3', 'MENRINJ', 'LRR', 'LRR1', 'LRR2', 'LRR3', 'OTSURGR', 'OTSR1', 'OTSR2', 'OTSR3', 'OTSRINJ', 'INJL', 'INJL1', 'INJL2', 'INJL3', 'KSURGL', 'KRSL', 'KRSLA', 'ARTL', 'ARTL1', 'ARTL2', 'ARTL3', 'ARTLINJ', 'MENL', 'MENL1', 'MENL2', 'MENL3', 'MENLINJ', 'LRL', 'LRL1', 'LRL2', 'LRL3', 'OTSURGL', 'OTSL1', 'OTSL2', 'OTSL3', 'OTSLINJ', 'HRS', 'HRSR', 'HRSROA', 'HRSRDK', 'HRSL', 'HRSLOA', 'HRSLDK', 'PREGEV', 'OVREM', 'OV1AGE', 'OV2AGE', 'HYS', 'HYSAGE', 'MENSTR', 'HRTAT', 'HRTFAIL', 'BYPLEG', 'STROKE', 'ASTHMA', 'ASTMEDS', 'AMWHEN', 'LUNG', 'LGMEDS', 'LMWHEN', 'ULCER', 'ULCERDX', 'DIAB', 'DIABTX1', 'DIABTX2', 'DIABTX3', 'DIABTX4', 'DIABPR1', 'DIABPR2', 'DIABPR3', 'KIDFXN', 'KIDTRAN', 'RA', 'RAMEDS', 'POLYRH', 'LIVDAM', 'CANCER', 'BONEFX', 'HIPFX', 'HIPFXAG', 'SPNFX', 'SPNFXAG', 'FALL', 'WMXAGE1', 'WMXAGE2', 'WMXAGE3', 'WMXAGE4', 'WMXAGE5', 'WMXAGE6', 'WMXAGE7', 'WMNAGE1', 'WMNAGE2', 'WMNAGE3', 'WMNAGE4', 'WMNAGE5', 'WMNAGE6', 'WMNAGE7', 'SMOKE', 'SMKAGE', 'SMKNEV', 'SMKAVE', 'SMKNOW', 'SMKAMT', 'SMKSTOP', 'PIPE', 'PIPEAGE', 'PIPENEV', 'PIPENOW', 'PIPEAMT', 'PIPSTOP', 'DRNKAMT', 'DRKMORE', 'CESD1', 'CESD2', 'CESD3', 'CESD4', 'CESD5', 'CESD6', 'CESD7', 'CESD8', 'CESD9', 'CESD10', 'CESD11', 'CESD12', 'CESD13', 'CESD14', 'CESD15', 'CESD16', 'CESD17', 'CESD18', 'CESD19', 'CESD20', 'TYLEN', 'NSAIDS', 'NSAIDRX', 'COXIBS', 'NARCOT', 'SAME', 'MSM', 'DOXYCYC', 'PNMEDT', 'CHON', 'GLUC', 'KNINJ', 'HYALKN', 'STERKN', 'TEST', 'TESTUSE', 'ESTR', 'ESTRUSE', 'GNRH', 'GNRHUSE', 'PTH', 'PTHUSE', 'BISPHOS', 'BISPYRS', 'BISPUSE', 'CAM12', 'ACUTNUM', 'ACUTCUR', 'ACUSNUM', 'ACUSCUR', 'CHELCUR', 'CHELNUM', 'CHIRNUM', 'CHIRCUR', 'FOLKNUM', 'FOLKCUR', 'HOMENUM', 'HOMECUR', 'MASSNUM', 'MASSCUR', 'DIET12', 'VITM12', 'HERB12', 'RUBS12', 'BRAC12', 'YOGA12', 'RELA12', 'SPIR12', 'RX30', 'RX30NUM', 'KPMEDCV', 'KRSCV', 'RAJSCV', 'RATSTCV', 'OADEGCV', 'OAHIPCV', 'OAHNDCV', 'OABCKCV', 'OAOTHCV', 'GOUTCV', 'OTARTCV', 'ARTDRCV', 'KPMEDCV', 'OVNUMCV', 'COMORB', 'FALLCV', 'HT25MM', 'WT25KG', 'WTMAXKG', 'WTMINKG', 'SMOKER', 'SMKPKYR', 'PSMOKER', 'PSMKYR', 'CESD', 'HYAINJR', 'HYAINJL', 'STRINJR', 'STRINJL', 'BISPTYP', 'CHNFQCV', 'GLCFQCV', 'HYINJCV', 'STINJCV', 'ACUTCV', 'ACUSCV', 'CHELCV', 'CHIRCV', 'FOLKCV', 'HOMECV', 'MASSCV', 'DIETCV', 'VITMCV', 'RUBCV', 'CAPSNCV', 'BRACCV', 'YOGACV', 'HERBCV', 'RELACV', 'SPIRCV', 'RXANALG', 'RXVLCXB', 'RXFLUOR', 'RXCLCTN', 'RXBISPH', 'RASTASV', 'RXIHYAL', 'RXRFCXB', 'RXNARC', 'RXISTRD', 'RXCOX2', 'RXCHOND', 'RXOTHAN', 'RXGLCSM', 'RXACTM', 'RXMSM', 'KSURGCV', 'RXNSAID', 'RXASPRN', 'RXNTRAT', 'RXRALOX', 'RXVIT_D', 'RXOSTRD', 'RXCLCXB', 'RXTPRTD', 'RXSALIC', 'RXSAME', 'RATOTCV', 'CNCOTH', 'RAWE6L', 'HRSRFXO', 'HRSLFXO', 'RAWE6R', 'OTHCAMC', 'OTHCAM', 'FFQ1', 'FFQSZ1', 'FFQ2', 'FFQSZ2', 'FFQ3', 'FFQSZ3', 'FFQ4', 'FFQSZ4', 'FFQ5', 'FFQ6', 'FFQSZ6', 'FFQ7', 'FFQSZ7', 'FFQ8', 'FFQSZ8', 'FFQ9', 'FFQSZ9', 'FFQ10', 'FFQSZ10', 'FFQ11', 'FFQSZ11', 'FFQ12', 'FFQSZ12', 'FFQ13', 'FFQSZ13', 'FFQ14', 'FFQSZ14', 'FFQ15', 'FFQSZ15', 'FFQ16', 'FFQSZ16', 'FFQ17', 'FFQSZ17', 'FFQ18', 'FFQSZ18', 'FFQ19', 'FFQSZ19', 'FFQ20', 'FFQSZ20', 'FFQ21', 'FFQSZ21', 'FFQ22', 'FFQSZ22', 'FFQ23', 'FFQSZ23', 'FFQ24', 'FFQSZ24', 'FFQ25', 'FFQSZ25', 'FFQ26', 'FFQSZ26', 'FFQ27', 'FFQSZ27', 'FFQ28', 'FFQSZ28', 'FFQ29', 'FFQSZ29', 'FFQ30', 'FFQ31', 'FFQSZ31', 'FFQ32', 'FFQSZ32', 'FFQ33', 'FFQSZ33', 'FFQ34', 'FFQSZ34', 'FFQ35', 'FFQ36', 'FFQSZ36', 'FFQ37', 'FFQSZ37', 'FFQ38', 'FFQSZ38', 'FFQ39', 'FFQ40', 'FFQSZ40', 'FFQ41', 'FFQSZ41', 'FFQ42', 'FFQSZ42', 'FFQ43', 'FFQSZ43', 'FFQ44', 'FFQ45', 'FFQSZ45', 'FFQ46', 'FFQSZ46', 'FFQ47', 'FFQSZ47', 'FFQ48', 'FFQSZ48', 'FFQ49', 'FFQSZ49', 'FFQ50', 'FFQSZ50', 'FFQ51', 'FFQSZ51', 'FFQ52', 'FFQSZ52', 'FFQ53', 'FFQSZ53', 'FFQ54', 'FFQSZ54', 'FFQ55', 'FFQSZ55', 'FFQ56', 'FFQSZ56', 'FFQ57', 'FFQSZ57', 'FFQ58', 'FFQSZ58', 'FFQ59', 'FFQSZ59', 'FFQ60', 'FFQ61', 'FFQSZ61', 'FFQ62', 'FFQSZ62', 'FFQ63', 'FFQSZ63', 'FFQ64', 'FFQSZ64', 'FFQ65', 'FFQSZ65', 'FFQ66', 'FFQSZ66', 'FFQ67', 'FFQ68', 'FFQSZ68', 'FFQ69', 'FFQSZ69', 'FFQ70', 'FFQSZ70', 'FFQ71', 'FFQ72', 'FFQ73', 'FFQYR74', 'FFQYR75', 'FFQYR76', 'FFQYR77', 'FFQYR78', 'FFQYR79', 'FFQYR80', 'FFQYR81', 'FFQYR82', 'FFQYR83', 'FFQYR84', 'FFQYR85', 'FFQYR86', 'FFQ87', 'FFQ88', 'FFQ89', 'VIT1', 'VIT2', 'VIT3', 'VIT4', 'VIT5', 'VIT6', 'VIT7', 'VIT8', 'VIT9', 'VIT10', 'VIT11', 'VIT12', 'VIT13', 'FFQ90', 'FFQ91', 'FFQ92', 'FFQ93', 'FFQ94', 'FFQ95', 'FFQ96', 'FFQ97', 'FFQ98', 'FFQ99', 'FFQ100', 'FFQ101', 'FFQ102', 'MVIT1CV', 'STRTBCV', 'ANTOXCV', 'VITACV', 'BCARCV', 'VITECV', 'FOLATCV', 'CALCMCV', 'ZINCCV', 'IRONCV', 'SLNMCV', 'VITDCV', 'VITCCV', 'DTDFIB', 'SUPVITD', 'FIBVGFR', 'SUPB12', 'DTCAFFN', 'SRVFAT', 'DTAIU', 'DTCHOL', 'PCTCOL1', 'DTPHOS', 'DTVITC', 'DTB1', 'PCTXLS', 'SUPB2', 'PCTCOL9', 'DTVITK', 'DTRET', 'SUPVITE', 'SUPNIAC', 'DTANZN', 'DTLUT', 'BAPFAT', 'PCTCARB', 'PCTSWT', 'DTACAR', 'SUPCA', 'SRVGRN', 'SRVFRT', 'SUPFOL', 'DTBCAR', 'DTPROT', 'NWARNS', 'DTPOTA', 'DTSFAT', 'SUPVITC', 'DTOLEC', 'SUPBCAR', 'DTKCAL', 'BAPPROT', 'BAPCARB', 'SUPVITA', 'SUPB6', 'NFDSDAY', 'DTNIAC', 'FIBBEAN', 'DTNA', 'DTARE', 'DTLYC', 'DTFAT', 'PCTSMAL', 'SUPFE', 'SUPCU', 'DTB12', 'DTGEN', 'DTMETH', 'SUPZINC', 'SRVVEG', 'DTCALC', 'SUPMG', 'DTDAID', 'SRVMEAT', 'DTFE', 'FIBGRN', 'DTCYST', 'DTSF', 'PCTPROT', 'SRVDRY', 'DTB6', 'SUPB1', 'SUPSE', 'DTMG', 'PCTFAT', 'DTVITD', 'DTPROA', 'DTCARB', 'PCTALCH', 'DTFOL', 'DTLIN', 'PCTLARG', 'DTVITE', 'NNOSERV', 'NSKIP', 'DTCRYP', 'PCTMEDS', 'DTRIBO', 'NERRORS', 'DTZINC', 'FFQFLG5', 'FFQFLG2', 'FFQFLG1', 'FFQFLG4', 'FFQFLG3', 'FFQSZW', 'FFQSZL', 'STFID2', 'STFID1', 'HESTFID', 'BPSTFID', 'BPCFSZ', 'BPARM', 'BPTERM', 'BPSYS', 'BPDIAS', 'RPSTFID', 'RPAVG', 'ACSTFID', 'MAXCIRC', 'SCSTFID', 'CSTSGL', 'RCSTFID', 'CSTREP1', 'CSTIME1', 'CSTNUM1', 'CSTREP2', 'CSTIME2', 'CSTNUM2', 'KIKBALL', 'EKRSR', 'RLLGTH', 'RLBACK', 'RLARM', 'RLHORIZ', 'RLVERT', 'REXPN', 'REXCOMP', 'REXWHY1', 'REXWHY2', 'REXWHY3', 'REXWHY4', 'REXWHY5', 'RFXPN', 'RFXCOMP', 'RFXWHY1', 'RFXWHY2', 'RFXWHY3', 'RFXWHY4', 'RFXWHY5', 'EKRSL', 'LLLGTH', 'TRANSET', 'LLBACK', 'LLARM', 'LLHORIZ', 'LLVERT', 'LEXPN', 'LEXCOMP', 'LEXWHY1', 'LEXWHY2', 'LEXWHY3', 'LEXWHY4', 'LEXWHY5', 'LFXPN', 'LFXCOMP', 'LFXWHY1', 'LFXWHY2', 'LFXWHY3', 'LFXWHY4', 'LFXWHY5', 'W2STFID', 'STEPST1', 'TIMET1', 'WLK20T1', 'STEPST2', 'TIMET2', 'WLK20T2', 'WLKAID', 'W4STFID', 'W20COMP', 'WALKER', 'SAFEWLK', 'HRB4WLK', 'RESTT1', 'RESTT2', 'RESTT3', 'RESTT4', 'RESTT5', 'RESTT6', 'RESTT7', 'RESTT8', 'RESTT9', 'RESTT10', 'NUMSTOP', 'HR400WK', 'HR135', 'CANEUSE', 'COMP10', 'REASW1', 'REASW2', 'REASW3', 'REASW4', 'REASW5', 'REASW6', 'REASW7', 'REASW8', 'REASW9', 'REASW10', 'REASW11', 'REASW12', 'REASW13', 'REASW14', 'REASW15', 'REASW16', 'DISCOMF', 'SOB400W', 'WHE400W', 'PN400W', 'OTH400W', 'RPN400W', 'RPWKTYP', 'RPWKPRV', 'LPN400W', 'LPWKTYP', 'LPWKPRV', 'NPN400W', 'DKP400W', 'RFP400W', 'K1STFID', 'RKPATPN', 'LKPATPN', 'RKEFFB', 'RKEFFPT', 'LKEFFB', 'LKEFFPT', 'RKRFXPN', 'LKRFXPN', 'RKLTTPN', 'RKMTTPN', 'RKABPN', 'LKLTTPN', 'LKMTTPN', 'LKABPN', 'RKPFCRE', 'LKPFCRE', 'RKPGDPN', 'LKPGDPN', 'LLWGT', 'RLWGT', 'HEIGHT', 'WEIGHT', 'BMI', 'RH1CV', 'RH2CV', 'RH3CV', 'RH4CV', 'RH5CV', 'LH1CV', 'LH2CV', 'LH3CV', 'LH4CV', 'LH5CV', 'RHBE', 'LHBE', 'ABCIRC', 'CS5', 'CSPACE', 'REXP1CV', 'REXP2CV', 'RFXP1CV', 'RFXP2CV', 'LEXP1CV', 'LEXP2CV', 'LFXP1CV', 'LFXP2CV', 'V0020MPACE', 'V00400MTR', 'KEXAMK', 'RKFHDEG', 'LKFHDEG', 'RKALNMT', 'LKALNMT', 'isstfid', 'isexmdt', 'rftrial', 'rfmaxf', 'rfTLPL', 'rfTHPL', 'rfTLRL', 'rfTHRL', 'retrial', 'remaxf', 'reTLPL', 'reTHPL', 'reTLRL', 'reTHRL', 'lftrial', 'lfmaxf', 'lfTLPL', 'lfTHPL', 'lfTLRL', 'lfTHRL', 'letrial', 'lemaxf', 'leTLPL', 'leTHPL', 'leTLRL', 'leTHRL', 'CALLDOC', 'HRELG', 'SYSELG', 'DIASELG', 'V00400MCMP', 'V00400MTIM', 'rexcmp2', 'lexcmp2', 'rfxcmp2', 'lfxcmp2', 'V00400PAIN', 'lkdefcv', 'rkdefcv', 'V00400EXCL', 'HOSPSUR', 'rfSFR', 'leSFR', 'lfSFP', 'reSFP', 'reSFR', 'lfSFR', 'rfSFP', 'leSFP', 'BROHRCV', 'BROKRCV', 'CLAU', 'DADHRCV', 'DADKRCV', 'FAMHR', 'FAMKR', 'LXRKOA', 'LXRKOA2', 'MOMHRCV', 'MOMKRCV', 'MRCMP', 'MRIB4', 'MRKCBCV', 'MRPRBCV', 'OAGRDL', 'OAGRDR', 'RXRKOA', 'RXRKOA2', 'SISHRCV', 'SISKRCV', 'SVDATE', 'SVLKJSL', 'SVLKJSM', 'SVLKMI', 'SVLKOST', 'SVRKJSL', 'SVRKJSM', 'SVRKMI', 'SVRKOST', 'SVXRELK', 'SVXRLKR', 'SVXRRID', 'SVXRRKR', 'XRKOA', 'ACTRISK', 'DATE', 'ELGRISK', 'FAMHXKR', 'HR1', 'HR10', 'HR11', 'HR2', 'HR3', 'HR4', 'HR5', 'HR6', 'HR7', 'HR8', 'HR9', 'IKPRISK', 'JBMP', 'JBMPCV', 'KRS3', 'KRS3CV', 'PA1', 'PA2', 'PA3', 'PA4', 'STMED', 'STMEDCV', 'WTGA', 'AGE', 'CEMPLOY', 'CUREMP', 'EDCV', 'ENRCR1', 'ENRCR2', 'ENRCR3', 'ENRCR4', 'ENRCR5', 'ENRCR6', 'ENREXCP', 'EVDATE', 'HANDED', 'HLTHCAR', 'HLTHCOV', 'HOUACT1', 'HOUACT2', 'HOUACT3', 'HOUACT4', 'HOUACT5', 'HOUACT6', 'HOURWK', 'INCOME', 'INCOME2', 'LIVE1', 'LIVE2', 'LIVE3', 'LIVE4', 'LIVE5', 'LIVENO', 'MARITST', 'MEDINS', 'MISSWK', 'PA130', 'PA130CV', 'PA130NM', 'PA230', 'PA230CV', 'PA330', 'PA330CV', 'PA430', 'PA430CV', 'PA530', 'PA530CV', 'PASE', 'PASE1', 'PASE1HR', 'PASE2', 'PASE2HR', 'PASE3', 'PASE3HR', 'PASE4', 'PASE4HR', 'PASE5', 'PASE5HR', 'PASE6', 'PASE6HR', 'WEEKWK', 'WKHR7CV', 'WORK7', 'WORKAMT']\n",
      "\n",
      "allclinical01.sas7bdat: (4796, 575)\n",
      "['P30VITD', 'RATOTCV', 'FFQFLG3', 'SISKRCV', 'BYPLEG', 'HIPFX', 'KINJ', 'WMXAGE2', 'FFQ102', 'OV1AGE', 'LRR1', 'OTSR3', 'FFQ67', 'OTSL1', 'WMXAGE3', 'VIT4', 'FFQ92', 'HOMECV', 'FFQ13', 'FFQYR86', 'FVDATE', 'AMWHEN', 'ACUSCV', 'FFQ12', 'FFQ14', 'SVLKJSM', 'DFUCOLL', 'FFQSZ15', 'INCOME2', 'FFQ28', 'DTLYC', 'DTPOTA', 'INJR12', 'OAO12CV', 'ASTMEDS', 'INCOME', 'FFQ91', 'AMD112', 'CANEUSE', 'FFQ29', 'DTVITD', 'K1STFID', 'FFQSZ9', 'DTARE', 'K5STFID', 'HR1', 'FFQ95', 'LRR3', 'SPNFX', 'SUPVITC', 'RASTAFU', 'FFQ35', 'FFQ41', 'PCTALCH', 'LSXKOA', 'AINJR12', 'MRITEM3', 'FFQ38', 'OAB12CV', 'VIT13', 'FFQYR82', 'HERB12', 'HYSAGE', 'ABCIRC', 'KRSR', 'FFQ26', 'RKEFFB', 'PA2', 'CHIRCUR', 'VIT5', 'FFQSZ11', 'IKPRISK', 'ARTL12', 'SMOKER', 'ACUTCUR', 'MENL12', 'P30VT8', 'FFQSZ13', 'CLAU', 'BAPPROT', 'NNOSERV', 'CNC13', 'HRSLDK', 'FFQ11', 'VIT11', 'XRKOA', 'INJL3', 'YOGACV', 'REASW2', 'PIPSTOP', 'LKEFFB', 'KPNLEVY', 'PIPENEV', 'FFQ32', 'WHE400W', 'DIABPR1', 'VIT10', 'DADHRCV', 'ULCER', 'AMD412', 'SVLKMI', 'CMDK', 'KPNREV', 'VISITYP', 'MENR3', 'FFQ5', 'VIT8', 'REASW3', 'SRQWT', 'FFQSZ50', 'FFQ7', 'DIABPR2', 'P30VT6', 'FFQYR74', 'PIPEAMT', 'REASW9', 'SVLKJSL', 'HRSL', 'FFQ39', 'RPSTFID', 'ACUTNUM', 'OTSURGL', 'CAM12', 'FFQFLG2', 'OVNUMCV', 'V0120MPACE', 'AMD1012', 'DTB6', 'WMXAGE7', 'REASW11', 'LH4CV', 'BL12SXL', 'OAHIPCV', 'AMD812', 'P30VITC', 'ACUSCUR', 'FFQ20', 'FAMHXKR', 'INJL1', 'PCTPROT', 'ENRCR5', 'VITMCV', 'PA4', 'FFQSZ47', 'KPNLCV', 'RPAVG', 'RAKN6L', 'MOMKRCV', 'TMJEPN1', 'RAMEDS', 'PA1', 'FFQSZ46', 'BL12SXR', 'DTCYST', 'FFQSZ3', 'SRVVEG', 'ARTHOTH', 'MASSCUR', 'SMKAGE', 'INJL12', 'FFQ73', 'FFQSZ34', 'REASW13', 'SMKPKYR', 'W4STFID', 'SMRIELG', 'VITCAMT', 'FFQYR80', 'FFQ97', 'HANDED', 'BROHRCV', 'SPIR12', 'KPLK20B', 'RESTT9', 'FFQSZ7', 'MASSCV', 'AINJL12', 'SVDATE', 'V0020MPACE', 'OTHCAMC', 'FFQ58', 'DIABTX1', 'LRL', 'FFQSZ37', 'PSMOKER', 'RATEST', 'VITDAMT', 'PA3', 'HR2', 'FFQSZ52', 'TMJF30D', 'FFQSZ28', 'FFQYR76', 'WMXAGE4', 'DTMG', 'RA3YES', 'LIVE3', 'DKP400W', 'WALKER', 'DTSFAT', 'LIVDAM', 'REASW14', 'SRVFRT', 'SUPNIAC', 'TJE30WC', 'WMNAGE7', 'FFQ88', 'RESTT1', 'ARTL1', 'WT25KG', 'DTLUT', 'LXRKOA2', 'FFQ23', 'KIDTRAN', 'VITM12', 'FFQYR81', 'LUNG', 'MINJL12', 'FFQSZ8', 'DTCARB', 'VIT6', 'AMD312', 'INJL', 'BONFXOT', 'OTSL3', 'FFQ60', 'FFQSZ70', 'FFQSZ21', 'FFQSZ55', 'DISCOMF', 'HR6', 'FFQ69', 'TMJE30A', 'CMN', 'FFQSZ38', 'BONFX', 'KRSCV', 'RELACV', 'ENRCR2', 'FFQ56', 'SUPBCAR', 'FFQ30', 'FFQSZ48', 'MENRINJ', 'BLUPMN2', 'SVLKOST', 'RESTT5', 'KRSL12', 'FIBVGFR', 'MENR1', 'RH2CV', 'DTDAID', 'FOLKCUR', 'FFQ87', 'SVXRRKR', 'HRB4WLK', 'VITEAMT', 'HR7', 'SMKNOW', 'RATOT3', 'ANTOXCV', 'LRR2', 'MENL2', 'FFQ48', 'FFQ40', 'FFQ98', 'INJR3', 'CNMEL', 'HOMENUM', 'HOMECUR', 'RKPATPN', 'FFQ15', 'TMJF6M', 'FFQ8', 'FFQSZ4', 'MENL1', 'FAMKR', 'DTVITE', 'SVXRLKR', 'SUPVITA', 'WMXAGE1', 'RESTT4', 'PCTMEDS', 'FFQSZ14', 'CNC4', 'OTH400W', 'LPWKTYP', 'SRGSTAT', 'DTNA', 'FFQSZ66', 'FFQYR77', 'ULCERDX', 'DIETCV', 'MOMHRCV', 'RESTT3', 'FFQSZ41', 'CONFREC', 'FFQSZ61', 'ENREXCP', 'FFQSZ42', 'RUBCV', 'HIPFXAG', 'OAHNDCV', 'VIT7', 'FFQYR84', 'VISDYS', 'WTMINKG', 'WPSTFID', 'REASW12', 'BONFX13', 'RAJS1HR', 'DIASELG', 'P30VT5', 'KPNREVY', 'ARTR3', 'MENLINJ', 'HR10', 'SUPVITE', 'FFQ55', 'STROKE', 'DTCAFFN', 'ENRCR4', 'NWARNS', 'DTPROT', 'DTBCAR', 'V00400MTR', 'LRL2', 'LHBE', 'ARTRINJ', 'FFQSZ19', 'CNCOTH', 'SMOKE', 'VIT3', 'STMED', 'PCTCARB', 'DTZINC', 'WMNAGE5', 'FFQ65', 'DTPROA', 'DTSF', 'DIET12', 'REASW6', 'FFQ17', 'OTSL2', 'DRNKAMT', 'RKFHDEG', 'HERBCV', 'FFQ10', 'SMKAMT', 'HRS12', 'FFQ61', 'V00400MTIM', 'FFQ66', 'HR400WK', 'SLNMCV', 'TMJE30D', 'RUBS12', 'SVRKOST', 'KPRK20D', 'KPNLEV', 'MRKCBCV', 'FFQ18', 'PCTSWT', 'LH1CV', 'DFBCOLL', 'FFQFLG4', 'JBMPCV', 'FFQ63', 'PCTCOL1', 'SREPRKR', 'FFQ71', 'FFQSZ29', 'SVRKMI', 'KRSRA', 'FFQ31', 'MASSNUM', 'VITACV', 'FOLATCV', 'LRL1', 'LH3CV', 'P30VT1', 'SUPB2', 'LIVENO', 'OAGRDR', 'FFQSZ1', 'KRSR12', 'HRSR', 'OV2AGE', 'SVRKJSL', 'BROKRCV', 'RARLYES', 'RPN400W', 'FOLKCV', 'FFQ101', 'RAIA12', 'DTVITC', 'BONFX1', 'KRSLA', 'BRACCV', 'DTMETH', 'RAFT6L', 'V00400PAIN', 'SUPMG', 'FFQSZ65', 'REASW5', 'FFQSZ23', 'FFQSZ24', 'SMKSTOP', 'FFQ50', 'HR4', 'ARTR', 'ACUTCV', 'REASW1', 'FFQ54', 'FFQ4', 'FFQSZ69', 'HR5', 'VITECV', 'RA', 'WMNAGE2', 'RHBE', 'V00400EXCL', 'HOSPSUR', 'RA1YES', 'FFQSZ10', 'OTSURGR', 'FFQSZ43', 'CNCR3', 'DTRET', 'FFQSZW', 'FFQ42', 'SSDATE', 'PIPENOW', 'GOUTCV', 'FFQSZ58', 'DTFE', 'RESTT6', 'FFQSZ49', 'AMD612', 'INJL2', 'PN400W', 'FFQ2', 'RXRKOA', 'FFQYR79', 'KSURGR', 'KRS3', 'FFQSZ63', 'REASW16', 'NERRORS', 'FFQ16', 'FFQ46', 'NFDSDAY', 'CHIRCV', 'OTREASM', 'HRELG', 'ISOREQ', 'FFQ59', 'FFQFLG5', 'HR11', 'CHELCUR', 'PRRDDYS', 'FFQSZ53', 'DTAIU', 'BONFX6', 'FIBGRN', 'RH3CV', 'SPIRCV', 'RAKN6R', 'FFQ19', 'MARITST', 'BRAC12', 'OTSLINJ', 'PIPEAGE', 'REASON', 'DTNIAC', 'FFQSZ64', 'AMD712', 'RATSTCV', 'OAGRDL', 'CAPSNCV', 'KSRGR12', 'FOLKNUM', 'HRSLFXO', 'RELA12', 'SUPFE', 'REMITM', 'FFQSZ54', 'OAF12CV', 'SAFEWLK', 'FFQSZ62', 'FFQSZ57', 'SISHRCV', 'HR3', 'LIVE4', 'MRASTK3', 'DTCRYP', 'SRVFAT', 'PSDATE', 'STFID2', 'STMEDCV', 'SUPB1', 'DTLIN', 'LKRFXPN', 'VITDCV', 'SMKAVE', 'RESTT8', 'MRPRBCV', 'ASTHMA', 'CALCMCV', 'LMWHEN', 'P30VITE', 'LGMEDS', 'FFQSZ51', 'FFQ96', 'P30VT3', 'FFQ89', 'RKRFXPN', 'RFP400W', 'EDCV', 'FFQSZ2', 'OAOTHCV', 'REMOUT', 'EVDATE', 'DADKRCV', 'FFQSZ27', 'HRSLOA', 'STRTBCV', 'ACTRISK', 'SUPVITD', 'RESTT10', 'FFQSZL', 'SUPCA', 'CHELNUM', 'P30VT7', 'FFQYR83', 'DTDFIB', 'MVIT1CV', 'OVREM', 'ARTL3', 'OTSRINJ', 'FFQ33', 'VIT9', 'CHIRNUM', 'P30VT9', 'RAFT6R', 'FFQSZ56', 'HRSRFXO', 'TMJE6M', 'ARTR12', 'BONFX2', 'COMP10', 'SPNFXAG', 'DTKCAL', 'RESTT7', 'NPN400W', 'POLYRH', 'FFQ3', 'HEIGHT', 'HRTAT', 'PCTLARG', 'FFQ93', 'LPN400W', 'CANCER', 'FFQ68', 'DTOLEC', 'DATE', 'DIABPR3', 'P30VT4', 'LKEFFPT', 'SVRKJSM', 'MENR2', 'PCTFAT', 'FFQ49', 'DTACAR', 'FIBBEAN', 'SMKNEV', 'ZINCCV', 'MENR12', 'RESTT2', 'PCTXLS', 'FFQ52', 'ARTH12', 'HRSRDK', 'ACUSNUM', 'RKEFFPT', 'FFQ62', 'KPLK20D', 'FFQ70', 'FFQ6', 'KPNRCV', 'FFQYR75', 'SYSELG', 'ARTL2', 'MRIB4', 'BONFX14', 'TJF30WC', 'FFQSZ31', 'RH5CV', 'WTMAXKG', 'SVXRELK', 'AMD212', 'DIABTX4', 'WMXAGE5', 'VIT2', 'BONEFX', 'RXRKOA2', 'FFQSZ16', 'PAXRNA', 'FFQ53', 'BLUPMN1', 'P30VT10', 'FFQ9', 'OTARTCV', 'LXRKOA', 'TJE30CV', 'MENR', 'FAMHR', 'DTB12', 'LH5CV', 'ELGRISK', 'SREPLKR', 'REASW4', 'MENL', 'OAD12CV', 'RPWKPRV', 'TJF30CV', 'WMNAGE6', 'PIPE', 'SUPFOL', 'OTHCAM', 'FFQ64', 'FFQ36', 'ARTR1', 'LKFHDEG', 'CHELCV', 'FFQ99', 'DTANZN', 'DTCHOL', 'INJR1', 'LRR', 'P30VT2', 'KPRK20B', 'FFQSZ26', 'KSURGCV', 'FFQ90', 'RAIA', 'DRKMORE', 'WMNAGE4', 'ENRCR1', 'SRVDRY', 'AMD512', 'HRS', 'OTA12CV', 'BCARCV', 'MENL3', 'OADEGCV', 'RH4CV', 'FFQYR85', 'KSURG', 'VIT12', 'LKPATPN', 'ACSTFID', 'RAWE6R', 'VIT1', 'WTGA', 'W20COMP', 'CNC15', 'DTVITK', 'REASW8', 'FFQ94', 'RAJSCV', 'REASW7', 'FFQSZ25', 'FFQ27', 'HR135', 'ARTL', 'RPWKTYP', 'DTPHOS', 'DTB1', 'SVXRRID', 'FFQ24', 'FFQSZ45', 'DTFOL', 'FFQ45', 'FFQSZ68', 'SUPCU', 'FFQFLG1', 'JBMP', 'KSRGL12', 'FFQ47', 'REASW10', 'FFQ25', 'HT25MM', 'NUMSTOP', 'KRS3CV', 'HYS', 'HR8', 'HR9', 'FFQ72', 'ARTR2', 'RSXKOA', 'FFQSZ22', 'SOB400W', 'LIVE1', 'FFQ34', 'INJR2', 'FFQ57', 'LRL3', 'NSKIP', 'MENSTR', 'COMORB', 'RASTASV', 'RAWE6L', 'WMNAGE1', 'BAPCARB', 'DTCALC', 'DTGEN', 'BONFX12', 'KIDFXN', 'SXKOA', 'CSY', 'FFQSZ20', 'KRSL', 'PREGEV', 'FFQSZ6', 'LH2CV', 'FFQSZ36', 'SUPB6', 'WMNAGE3', 'FFQ1', 'OAH12CV', 'MINJR12', 'LPWKPRV', 'FFQSZ18', 'MRCMP', 'FFQSZ33', 'FFQSZ59', 'PCTSMAL', 'FFQYR78', 'BAPFAT', 'ENRCR6', 'ENRCR3', 'SUPB12', 'FFQ100', 'VITCCV', 'DIAB', 'TMJF30A', 'CNC3', 'FFQ51', 'PCTCOL9', 'SRVGRN', 'INJR', 'SUPSE', 'REASW15', 'CNC14', 'FFQSZ12', 'SUPZINC', 'FFQ37', 'OTSR2', 'KSURGL', 'OTSR1', 'RH1CV', 'ARTLINJ', 'CALLDOC', 'IRONCV', 'FFQ22', 'URUPMN1', 'TMJFPN1', 'OABCKCV', 'URUPMN2', 'LIVE2', 'SRVMEAT', 'FFQSZ17', 'FFQSZ32', 'V00400MCMP', 'DTFAT', 'HRSROA', 'FFQ43', 'DIABTX3', 'DIABTX2', 'GT12CV', 'YOGA12', 'LIVE5', 'PSMKYR', 'FFQ44', 'MAXCIRC', 'WMXAGE6', 'HRTFAIL', 'FFQ21', 'KPN', 'FFQSZ40', 'DTRIBO', 'AMD912', 'HESTFID']\n",
      "\n",
      "allclinical02.sas7bdat: (288, 229)\n",
      "['PASE4HR', 'P30VITD', 'CESD9', 'PASE5', 'PASE5HR', 'LLARM', 'KPNL12M', 'BPLB', 'BONFX14', 'BPDIAS', 'KPR30CV', 'REXPN', 'RAIA12', 'LEXWHY5', 'PASE3', 'PMLKRCV', 'LFXCOMP', 'FALL', 'BONFX1', 'RFXWHY2', 'LEXWHY3', 'ISSTFID', 'HLTHCOV', 'AMD212', 'REXP1CV', 'BPTERM', 'TIMET1', 'LFXWHY3', 'CESD12', 'TIMET2', 'WKHR7CV', 'REXWHY3', 'LLBACK', 'OJPNRA', 'OJPNNO', 'RKPFCRE', 'CESD16', 'LFXWHY4', 'PA230', 'PAXRNA', 'LKMTTPN', 'P30VT10', 'HPNRIL', 'KPMEDCV', 'LLHORIZ', 'EKRSL', 'LEXCMP2', 'REXWHY4', 'MINJL12', 'LKPFCRE', 'PASE2', 'RFTLRL', 'REXCMP2', 'OJPNLH', 'STFID1', 'PASE6', 'LFXPN', 'AMD312', 'BMI', 'BONFXOT', 'BPSYS', 'EKRSR', 'KPNR12', 'RLBACK', 'KPMED', 'LKSX', 'OAD12CV', 'REXWHY1', 'CSTNUM2', 'KPL30CV', 'BONFX', 'RFMAXF', 'INJR12', 'OAO12CV', 'LFTLPL', 'HLTHCAR', 'OJPNNK', 'KPACT30', 'HOUACT1', 'AMD112', 'CESD1', 'SF10', 'ISEXMDT', 'OJPNRS', 'HPNLIL', 'K5STFID', 'CESD7', 'SF5', 'OJPNLF', 'HPNRB', 'PASE4', 'LESFR', 'HPNLFL', 'P30VT2', 'KPRK20B', 'RASTAFU', 'CSTIME2', 'KRSL12', 'RFXP1CV', 'OJPNRE', 'CSTSGL', 'LEXP2CV', 'AMD612', 'OJPNLS', 'HPNLOL', 'KPL12CV', 'AINJR12', 'REXP2CV', 'RLHORIZ', 'PASE', 'OAB12CV', 'LLWGT', 'BPMB', 'VITEAMT', 'PA230CV', 'CESD3', 'BPTOT', 'OJPNRH', 'RLLGTH', 'AMD512', 'OTA12CV', 'HPNLLB', 'HPNRLB', 'KPA30CV', 'LFXWHY1', 'CESD10', 'PA330', 'ARTL12', 'OJPNRF', 'RFXWHY1', 'LFSFR', 'MENL12', 'P30VT8', 'BPUB', 'ISOREQ', 'RLWGT', 'CSTREP2', 'SF9', 'PRRDDYS', 'HPNRDK', 'LFXWHY5', 'OJPNLE', 'BONFX6', 'REXWHY5', 'CESD13', 'CESD5', 'OJPNLW', 'PASE1HR', 'MISSWK', 'W2STFID', 'FALLCV', 'REASON', 'LFTRIAL', 'LESFP', 'AMD712', 'BPCFSZ', 'BPSTFID', 'PA530', 'PASE3HR', 'KSRGR12', 'LKDEFCV', 'PA130', 'HOUACT5', 'RFXP2CV', 'KSRGL12', 'RESFR', 'SF7', 'OAF12CV', 'RFTHRL', 'LKLTTPN', 'RFTRIAL', 'HPNR12', 'AMD412', 'LFTLRL', 'LFTHPL', 'BPACTCV', 'CESD6', 'RETLRL', 'RKSX', 'SF11', 'HPNL12', 'WPSTFID', 'BPARM', 'CSPACE', 'RKDEFCV', 'WEEKWK', 'BONFX13', 'WLKAID', 'RFSFR', 'P30VT5', 'RLARM', 'RKMTTPN', 'LETLRL', 'RETHRL', 'PMRKRCV', 'LFSFP', 'KPNR12M', 'STEPST2', 'P30VT6', 'WLK20T2', 'SF12', 'LLVERT', 'BPDAYCV', 'KPNL12', 'WLK20T1', 'RFXWHY5', 'P30VITE', 'RFXCMP2', 'BONFX12', 'SF4', 'HPNROL', 'RKLTTPN', 'RFXWHY3', 'WORKAMT', 'P30VT3', 'RFXCOMP', 'HOUACT2', 'V0120MPACE', 'LETHRL', 'LETLPL', 'AMD1012', 'KPACTCV', 'ARTDRCV', 'KPR12CV', 'PA430', 'HPNLB', 'PASE2HR', 'KSX', 'LEXWHY4', 'RKABPN', 'LEMAXF', 'SF2', 'HSPSS', 'CS5', 'SF6', 'SF1', 'HPR12CV', 'OAH12CV', 'HPNRFL', 'AMD812', 'CUREMP', 'OJPNRW', 'MINJR12', 'P30VITC', 'RETRIAL', 'HOUACT4', 'PA130NM', 'P30VT7', 'HOUACT3', 'RLVERT', 'LEXPN', 'HPNLDK', 'SF3', 'CESD19', 'LETRIAL', 'MEDINS', 'RFTHPL', 'CESD4', 'HSMSS', 'RETHPL', 'PA530CV', 'PA130CV', 'BPBEDCV', 'P30VT9', 'BPDK', 'OJPNLA', 'CSTNUM1', 'HRS12', 'LEXP1CV', 'WEIGHT', 'ARTR12', 'BONFX2', 'RFXWHY4', 'REMAXF', 'STEPST1', 'LFXP1CV', 'LFXP2CV', 'CESD15', 'CESD20', 'LKP30CV', 'RFSFP', 'CESD8', 'LFXCMP2', 'LLLGTH', 'WORK7', 'HOUACT6', 'LEXWHY1', 'KPRK20D', 'RKPGDPN', 'RFXPN', 'LKALNMT', 'TRANSET', 'PASE1', 'CESD11', 'RESFP', 'INJL12', 'REXWHY2', 'CESD', 'CSTIME1', 'PASE6HR', 'PA430CV', 'P30VT4', 'SCSTFID', 'LEXCOMP', 'REXCOMP', 'VITCAMT', 'KIKBALL', 'BPB', 'ARTDOC', 'MENR12', 'BP30OFT', 'GT12CV', 'RCSTFID', 'LEXWHY2', 'HPL12CV', 'KPLK20B', 'LKABPN', 'CESD18', 'AINJL12', 'RFTLPL', 'KPACDCV', 'RETLPL', 'SF8', 'ARTH12', 'LFMAXF', 'CESD14', 'CEMPLOY', 'CESD2', 'BP30', 'LKPGDPN', 'P30VT1', 'LFXWHY2', 'KPLK20D', 'CESD17', 'HOURWK', 'RKP30CV', 'LETHPL', 'VITDAMT', 'AMD912', 'KEXAMK', 'KRSR12', 'CSTREP1', 'BPBAD', 'RKALNMT', 'LFTHRL', 'PA330CV']\n",
      "\n",
      "allclinical03.sas7bdat: (4796, 779)\n",
      "['RPN400W', 'PASE4HR', 'P30VITD', 'KYPH', 'PASE5HR', 'LOCLCV', 'LLARM', 'SISKRCV', 'BPLB', 'BYPLEG', 'SMLCRCV', 'REXPN', 'RAIA12', 'LEXWHY5', 'PASE3', 'BONFX1', 'LEXWHY3', 'ISSTFID', 'BRACCV', 'REXP1CV', 'TIMET1', 'LFXWHY3', 'ENERNUM', 'HRRDK12', 'WKHR7CV', 'REXWHY3', 'OJPNRA', 'RKPFCRE', 'CESD16', 'REASW5', 'LFXWHY4', 'HPNRIL', 'LLHORIZ', 'EKRSL', 'REXWHY4', 'RFTLRL', 'AMWHEN', 'REXCMP2', 'STFID1', 'ILLCRCV', 'LFXPN', 'ACUTCV', 'ACUSCV', 'REASW1', 'KPLLELG', 'KPMED', 'KYPHB', 'RA', 'HOSPSUR', 'KPL30CV', 'RFMAXF', 'INJR12', 'OAO12CV', 'SLLCLCV', 'ASTMEDS', 'OJPNNK', 'KPACT30', 'AMD112', 'CANEUSE', 'K1STFID', 'HPNLIL', 'FONESPR', 'OJPNLF', 'HPNLFL', 'RASTAFU', 'CSTIME2', 'RESTT6', 'OJPNRE', 'CSTSGL', 'LEXP2CV', 'OJPNLS', 'HPNLOL', 'AMD612', 'KPL12CV', 'AINJR12', 'PN400W', 'OAB12CV', 'PA230CV', 'CESD3', 'BPTOT', 'OJPNRH', 'OCCAM24', 'RLLGTH', 'HERB12', 'ABCIRC', 'RKEFFB', 'HPNRLB', 'REASW16', 'CHIRCUR', 'KPSTFID', 'OJPNRF', 'ARTL12', 'CHIRCV', 'ACUTCUR', 'MENL12', 'P30VT8', 'HRELG', 'ISOREQ', 'RLWGT', 'CSTREP2', 'OJPNLE', 'BONFX6', 'SPIRCV', 'LJLCRCV', 'CESD13', 'OJPNLW', 'PASE1HR', 'MISSWK', 'BRAC12', 'YOGACV', 'FALLCV', 'REASW2', 'REASON', 'LKEFFB', 'LFTRIAL', 'AMD712', 'BPCFSZ', 'CAPSNCV', 'PASE3HR', 'WHE400W', 'P7RKACV', 'KSRGR12', 'RELA12', 'LAXTL', 'DIABPR1', 'RFXP2CV', 'RESFR', 'OAF12CV', 'SAFEWLK', 'HRFXO12', 'LKLTTPN', 'RFTRIAL', 'DADHRCV', 'HPNR12', 'SLLCRCV', 'ULCER', 'AMD412', 'SISHRCV', 'BPARM', 'CSPACE', 'RKDEFCV', 'WEEKWK', 'STFID2', 'RFSFR', 'RKMTTPN', 'LETLRL', 'REASW3', 'RETHRL', 'RESTT8', 'DIABPR2', 'P30VT6', 'SF12', 'ASTHMA', 'BPDAYCV', 'MJLCRCV', 'LMWHEN', 'KPNL12', 'REASW9', 'WLK20T1', 'P30VITE', 'RPSTFID', 'ACUTNUM', 'SF4', 'LGMEDS', 'HPNROL', 'CAM12', 'V0320MPACE', 'P30VT3', 'AMD1012', 'RFP400W', 'KPR12CV', 'PA430', 'HPNLB', 'PASE2HR', 'LEXWHY4', 'REASW11', 'DADKRCV', 'SF2', 'CS5', 'SF6', 'HPR12CV', 'HPNRFL', 'AMD812', 'HLFXO12', 'CUREMP', 'RESTT10', 'ACUSCUR', 'P30VITC', 'RETRIAL', 'HOUACT4', 'P30VT7', 'HOUACT3', 'MJLCLCV', 'RLVERT', 'LEXPN', 'VITMCV', 'BKRGLCV', 'CESD19', 'LETRIAL', 'MEDINS', 'RFTHPL', 'HSMSS', 'RETHPL', 'CHIRNUM', 'P30VT9', 'BPDK', 'RPAVG', 'MOMKRCV', 'TMJEPN1', 'CSTNUM1', 'RAMEDS', 'LEXP1CV', 'TMJE6M', 'WEIGHT', 'ARTR12', 'BONFX2', 'COMP10', 'REMAXF', 'LFXP2CV', 'CESD20', 'LKP30CV', 'RESTT7', 'RFSFP', 'NPN400W', 'BIOFCV', 'LFXCMP2', 'WORK7', 'HOUACT6', 'POLYRH', 'MASSCUR', 'RFXPN', 'LKALNMT', 'TRANSET', 'HEIGHT', 'CESD11', 'PASE1', 'HRTAT', 'LPN400W', 'INJL12', 'CANCER', 'ENERCUR', 'CESD', 'CSTIME1', 'DIABPR3', 'PA430CV', 'P30VT4', 'SCSTFID', 'LKEFFPT', 'REASW13', 'BKRGRCV', 'W4STFID', 'REXCOMP', 'VITCAMT', 'MENR12', 'BP30OFT', 'RESTT2', 'RCSTFID', 'LEXWHY2', 'BROHRCV', 'BROKRCV', 'SPIR12', 'KPLK20B', 'RESTT9', 'MASSCV', 'AINJL12', 'RFTLPL', 'ARTH12', 'CESD14', 'CEMPLOY', 'CESD2', 'BP30', 'ACUSNUM', 'DIABTX1', 'RKEFFPT', 'LFXWHY2', 'LAXTR', 'KPLK20D', 'RKP30CV', 'VITDAMT', 'HRSR12', 'TMJF30D', 'BPBAD', 'SYSELG', 'PA330CV', 'CESD9', 'DKP400W', 'WALKER', 'PASE5', 'LIVDAM', 'MREGLCV', 'KPNL12M', 'OHCAM24', 'REASW14', 'BONFX14', 'TJE30WC', 'BPDIAS', 'KPR30CV', 'TJF30WC', 'V03400MTR', 'RESTT1', 'PMLKRCV', 'LFXCOMP', 'FALL', 'RFXWHY2', 'HLTHCOV', 'AMD212', 'DIABTX4', 'BPTERM', 'CESD12', 'ILLCLCV', 'HRROA12', 'TIMET2', 'SREPRHR', 'VITM12', 'LLBACK', 'OJPNNO', 'LUNG', 'LKMTTPN', 'PA230', 'P30VT10', 'KPMEDCV', 'LEXCMP2', 'MINJL12', 'LKPFCRE', 'PASE2', 'MREGRCV', 'OJPNLH', 'BMICAT', 'TJE30CV', 'PASE6', 'AMD312', 'BMI', 'BONFXOT', 'BPSYS', 'FAMHR', 'EKRSR', 'KPNR12', 'DISCOMF', 'PREGRCV', 'RLBACK', 'LKSX', 'REASW4', 'OAD12CV', 'REXWHY1', 'TMJE30A', 'RPWKPRV', 'CSTNUM2', 'BONFX', 'RELACV', 'TJF30CV', 'LREGRCV', 'LFTLPL', 'HLTHCAR', 'HOUACT1', 'CESD1', 'SF10', 'ISEXMDT', 'OJPNRS', 'CESD7', 'SF5', 'HPNRB', 'V03400PAIN', 'PASE4', 'LESFR', 'P30VT2', 'RESTT5', 'KPRK20B', 'P7LKACV', 'KRSL12', 'RFXP1CV', 'REXP2CV', 'SREPLHR', 'RLHORIZ', 'PASE', 'HRB4WLK', 'LLWGT', 'BPMB', 'VITEAMT', 'V03400MCMP', 'AMD512', 'IMLCLCV', 'OTA12CV', 'HPNLLB', 'KPA30CV', 'LFXWHY1', 'HRSL12', 'CESD10', 'PA330', 'RFXWHY1', 'LFSFR', 'ACSTFID', 'BPUB', 'SF9', 'TMJF6M', 'HPNRDK', 'LFXWHY5', 'W20COMP', 'REASW8', 'FAMKR', 'LOCRCV', 'REASW7', 'REXWHY5', 'RESTT4', 'CESD5', 'HR135', 'RPWKTYP', 'W2STFID', 'OTH400W', 'LPWKTYP', 'HRLDK12', 'ULCERDX', 'LESFP', 'DIETCV', 'BPSTFID', 'PA530', 'MOMHRCV', 'RESTT3', 'LKDEFCV', 'HRLOA12', 'PA130', 'HOUACT5', 'RUBCV', 'SMLCLCV', 'KSRGL12', 'SF7', 'REASW10', 'RFTHRL', 'NUMSTOP', 'LFTLRL', 'LFTHPL', 'BPACTCV', 'CESD6', 'RETLRL', 'RKSX', 'SF11', 'HPNL12', 'WPSTFID', 'REASW12', 'SREPHR', 'BONFX13', 'BIOFCUR', 'SOB400W', 'WLKAID', 'DIASELG', 'P30VT5', 'RLARM', 'PMRKRCV', 'LFSFP', 'STROKE', 'COMORB', 'KPNR12M', 'STEPST2', 'WLK20T2', 'LLVERT', 'RFXWHY5', 'RFXCMP2', 'BONFX12', 'KIDFXN', 'RKLTTPN', 'RFXWHY3', 'WORKAMT', 'RFXCOMP', 'V03400EXCL', 'HOUACT2', 'LETHRL', 'LETLPL', 'KPACTCV', 'ENERCV', 'ARTDRCV', 'KSX', 'LEMAXF', 'HSPSS', 'SF1', 'FONESPL', 'OAH12CV', 'DIET12', 'OJPNRW', 'REASW6', 'MINJR12', 'LPWKPRV', 'HPNLDK', 'HERBCV', 'SF3', 'CESD4', 'PA530CV', 'PA130CV', 'BPBEDCV', 'OJPNLA', 'IMLCRCV', 'DIAB', 'PLOCRCV', 'TMJF30A', 'HRS12', 'REASW15', 'RFXWHY4', 'STEPST1', 'HR400WK', 'LFXP1CV', 'CESD15', 'TMJE30D', 'RUBS12', 'CESD8', 'LLLGTH', 'LEXWHY1', 'KPRK20D', 'RKPGDPN', 'CALLDOC', 'PGLBRCV', 'RESFP', 'TMJFPN1', 'REXWHY2', 'PASE6HR', 'LREGLCV', 'PGLBLCV', 'BIOFNUM', 'LEXCOMP', 'MRKSIDE', 'KIKBALL', 'BPB', 'ARTDOC', 'DIABTX3', 'DIABTX2', 'GT12CV', 'PLOCLCV', 'MASSNUM', 'YOGA12', 'HPL12CV', 'PA130NF', 'CESD18', 'KPACDCV', 'RETLPL', 'MAXCIRC', 'SF8', 'LFMAXF', 'LJLCLCV', 'LKPGDPN', 'HRTFAIL', 'P30VT1', 'CESD17', 'HOURWK', 'V03400MTIM', 'AMD912', 'KEXAMK', 'KRSR12', 'KPLRELG', 'PREGLCV', 'CSTREP1', 'RKALNMT', 'LFTHRL', 'LETHPL']\n",
      "\n",
      "allclinical04.sas7bdat: (494, 229)\n",
      "['RPN400W', 'PASE4HR', 'P30VITD', 'KYPH', 'PASE5HR', 'LOCLCV', 'LLARM', 'SISKRCV', 'BPLB', 'BYPLEG', 'SMLCRCV', 'REXPN', 'RAIA12', 'LEXWHY5', 'PASE3', 'BONFX1', 'LEXWHY3', 'ISSTFID', 'BRACCV', 'REXP1CV', 'TIMET1', 'LFXWHY3', 'ENERNUM', 'HRRDK12', 'WKHR7CV', 'REXWHY3', 'OJPNRA', 'RKPFCRE', 'CESD16', 'REASW5', 'LFXWHY4', 'HPNRIL', 'LLHORIZ', 'EKRSL', 'REXWHY4', 'RFTLRL', 'AMWHEN', 'REXCMP2', 'STFID1', 'ILLCRCV', 'LFXPN', 'ACUTCV', 'ACUSCV', 'REASW1', 'KPLLELG', 'KPMED', 'KYPHB', 'HOSPSUR', 'RA', 'KPL30CV', 'RFMAXF', 'INJR12', 'OAO12CV', 'SLLCLCV', 'ASTMEDS', 'OJPNNK', 'KPACT30', 'AMD112', 'CANEUSE', 'K1STFID', 'HPNLIL', 'FONESPR', 'OJPNLF', 'HPNLFL', 'RASTAFU', 'CSTIME2', 'RESTT6', 'OJPNRE', 'CSTSGL', 'LEXP2CV', 'AMD612', 'OJPNLS', 'HPNLOL', 'AINJR12', 'KPL12CV', 'PN400W', 'OAB12CV', 'PA230CV', 'CESD3', 'BPTOT', 'OJPNRH', 'OCCAM24', 'RLLGTH', 'HERB12', 'ABCIRC', 'RKEFFB', 'HPNRLB', 'REASW16', 'CHIRCUR', 'KPSTFID', 'OJPNRF', 'ARTL12', 'CHIRCV', 'ACUTCUR', 'MENL12', 'P30VT8', 'HRELG', 'ISOREQ', 'RLWGT', 'CSTREP2', 'OJPNLE', 'BONFX6', 'SPIRCV', 'LJLCRCV', 'CESD13', 'OJPNLW', 'PASE1HR', 'MISSWK', 'BRAC12', 'YOGACV', 'FALLCV', 'REASW2', 'REASON', 'LKEFFB', 'LFTRIAL', 'AMD712', 'BPCFSZ', 'CAPSNCV', 'PASE3HR', 'WHE400W', 'P7RKACV', 'KSRGR12', 'RELA12', 'LAXTL', 'DIABPR1', 'RFXP2CV', 'RESFR', 'OAF12CV', 'SAFEWLK', 'HRFXO12', 'LKLTTPN', 'RFTRIAL', 'DADHRCV', 'HPNR12', 'SLLCRCV', 'ULCER', 'AMD412', 'SISHRCV', 'BPARM', 'CSPACE', 'RKDEFCV', 'WEEKWK', 'STFID2', 'RFSFR', 'RKMTTPN', 'LETLRL', 'REASW3', 'RETHRL', 'RESTT8', 'DIABPR2', 'P30VT6', 'SF12', 'ASTHMA', 'BPDAYCV', 'MJLCRCV', 'LMWHEN', 'KPNL12', 'REASW9', 'WLK20T1', 'P30VITE', 'RPSTFID', 'ACUTNUM', 'SF4', 'LGMEDS', 'HPNROL', 'CAM12', 'V0320MPACE', 'P30VT3', 'AMD1012', 'RFP400W', 'KPR12CV', 'PA430', 'HPNLB', 'PASE2HR', 'LEXWHY4', 'REASW11', 'DADKRCV', 'SF2', 'CS5', 'SF6', 'HPR12CV', 'HPNRFL', 'AMD812', 'HLFXO12', 'CUREMP', 'RESTT10', 'ACUSCUR', 'P30VITC', 'RETRIAL', 'HOUACT4', 'P30VT7', 'HOUACT3', 'MJLCLCV', 'RLVERT', 'LEXPN', 'VITMCV', 'BKRGLCV', 'CESD19', 'LETRIAL', 'MEDINS', 'RFTHPL', 'HSMSS', 'RETHPL', 'CHIRNUM', 'P30VT9', 'BPDK', 'RPAVG', 'MOMKRCV', 'TMJEPN1', 'CSTNUM1', 'RAMEDS', 'LEXP1CV', 'TMJE6M', 'WEIGHT', 'ARTR12', 'BONFX2', 'COMP10', 'REMAXF', 'LFXP2CV', 'CESD20', 'LKP30CV', 'RESTT7', 'RFSFP', 'NPN400W', 'BIOFCV', 'LFXCMP2', 'WORK7', 'HOUACT6', 'POLYRH', 'MASSCUR', 'RFXPN', 'LKALNMT', 'TRANSET', 'HEIGHT', 'CESD11', 'PASE1', 'HRTAT', 'LPN400W', 'INJL12', 'CANCER', 'ENERCUR', 'CESD', 'CSTIME1', 'DIABPR3', 'PA430CV', 'P30VT4', 'SCSTFID', 'LKEFFPT', 'REASW13', 'BKRGRCV', 'W4STFID', 'REXCOMP', 'VITCAMT', 'MENR12', 'BP30OFT', 'RESTT2', 'RCSTFID', 'LEXWHY2', 'BROHRCV', 'BROKRCV', 'SPIR12', 'KPLK20B', 'RESTT9', 'MASSCV', 'AINJL12', 'RFTLPL', 'ARTH12', 'CESD14', 'CEMPLOY', 'CESD2', 'BP30', 'ACUSNUM', 'DIABTX1', 'RKEFFPT', 'LFXWHY2', 'LAXTR', 'KPLK20D', 'RKP30CV', 'VITDAMT', 'HRSR12', 'TMJF30D', 'BPBAD', 'SYSELG', 'PA330CV', 'CESD9', 'DKP400W', 'WALKER', 'PASE5', 'LIVDAM', 'MREGLCV', 'KPNL12M', 'OHCAM24', 'REASW14', 'BONFX14', 'TJE30WC', 'BPDIAS', 'KPR30CV', 'TJF30WC', 'V03400MTR', 'RESTT1', 'PMLKRCV', 'LFXCOMP', 'FALL', 'RFXWHY2', 'HLTHCOV', 'AMD212', 'DIABTX4', 'BPTERM', 'CESD12', 'ILLCLCV', 'HRROA12', 'TIMET2', 'SREPRHR', 'VITM12', 'LLBACK', 'OJPNNO', 'LUNG', 'LKMTTPN', 'PA230', 'P30VT10', 'KPMEDCV', 'LEXCMP2', 'MINJL12', 'LKPFCRE', 'PASE2', 'MREGRCV', 'OJPNLH', 'BMICAT', 'TJE30CV', 'PASE6', 'AMD312', 'BMI', 'BONFXOT', 'BPSYS', 'FAMHR', 'EKRSR', 'KPNR12', 'DISCOMF', 'PREGRCV', 'RLBACK', 'LKSX', 'REASW4', 'OAD12CV', 'REXWHY1', 'TMJE30A', 'RPWKPRV', 'CSTNUM2', 'BONFX', 'RELACV', 'TJF30CV', 'LREGRCV', 'LFTLPL', 'HLTHCAR', 'HOUACT1', 'CESD1', 'SF10', 'ISEXMDT', 'OJPNRS', 'CESD7', 'SF5', 'HPNRB', 'V03400PAIN', 'PASE4', 'LESFR', 'P30VT2', 'RESTT5', 'KPRK20B', 'P7LKACV', 'KRSL12', 'RFXP1CV', 'REXP2CV', 'SREPLHR', 'RLHORIZ', 'PASE', 'HRB4WLK', 'LLWGT', 'BPMB', 'VITEAMT', 'V03400MCMP', 'AMD512', 'IMLCLCV', 'OTA12CV', 'HPNLLB', 'KPA30CV', 'LFXWHY1', 'HRSL12', 'CESD10', 'PA330', 'RFXWHY1', 'LFSFR', 'ACSTFID', 'BPUB', 'SF9', 'TMJF6M', 'HPNRDK', 'LFXWHY5', 'W20COMP', 'REASW8', 'FAMKR', 'LOCRCV', 'REASW7', 'REXWHY5', 'RESTT4', 'CESD5', 'HR135', 'RPWKTYP', 'W2STFID', 'OTH400W', 'LPWKTYP', 'HRLDK12', 'ULCERDX', 'LESFP', 'DIETCV', 'BPSTFID', 'PA530', 'MOMHRCV', 'RESTT3', 'LKDEFCV', 'HRLOA12', 'PA130', 'HOUACT5', 'RUBCV', 'SMLCLCV', 'KSRGL12', 'SF7', 'REASW10', 'RFTHRL', 'NUMSTOP', 'LFTLRL', 'LFTHPL', 'BPACTCV', 'CESD6', 'RETLRL', 'RKSX', 'SF11', 'HPNL12', 'WPSTFID', 'REASW12', 'SREPHR', 'BONFX13', 'BIOFCUR', 'SOB400W', 'WLKAID', 'DIASELG', 'P30VT5', 'RLARM', 'PMRKRCV', 'LFSFP', 'STROKE', 'COMORB', 'KPNR12M', 'STEPST2', 'WLK20T2', 'LLVERT', 'RFXWHY5', 'RFXCMP2', 'BONFX12', 'KIDFXN', 'RKLTTPN', 'RFXWHY3', 'WORKAMT', 'RFXCOMP', 'V03400EXCL', 'HOUACT2', 'LETHRL', 'LETLPL', 'KPACTCV', 'ENERCV', 'ARTDRCV', 'KSX', 'LEMAXF', 'HSPSS', 'SF1', 'FONESPL', 'OAH12CV', 'DIET12', 'OJPNRW', 'REASW6', 'MINJR12', 'LPWKPRV', 'HPNLDK', 'HERBCV', 'SF3', 'CESD4', 'PA530CV', 'PA130CV', 'BPBEDCV', 'OJPNLA', 'IMLCRCV', 'DIAB', 'PLOCRCV', 'TMJF30A', 'HRS12', 'REASW15', 'RFXWHY4', 'STEPST1', 'HR400WK', 'LFXP1CV', 'CESD15', 'TMJE30D', 'RUBS12', 'CESD8', 'LLLGTH', 'LEXWHY1', 'KPRK20D', 'RKPGDPN', 'CALLDOC', 'PGLBRCV', 'RESFP', 'TMJFPN1', 'REXWHY2', 'PASE6HR', 'LREGLCV', 'PGLBLCV', 'BIOFNUM', 'LEXCOMP', 'MRKSIDE', 'KIKBALL', 'BPB', 'ARTDOC', 'DIABTX3', 'DIABTX2', 'GT12CV', 'PLOCLCV', 'MASSNUM', 'YOGA12', 'HPL12CV', 'PA130NF', 'CESD18', 'KPACDCV', 'RETLPL', 'MAXCIRC', 'SF8', 'LFMAXF', 'LJLCLCV', 'LKPGDPN', 'HRTFAIL', 'P30VT1', 'CESD17', 'HOURWK', 'V03400MTIM', 'AMD912', 'KEXAMK', 'KRSR12', 'KPLRELG', 'PREGLCV', 'CSTREP1', 'RKALNMT', 'LFTHRL', 'LETHPL']\n",
      "\n",
      "allclinical05.sas7bdat: (4796, 605)\n",
      "['PASE4HR', 'P30VITD', 'BONFXHP', 'PASE5HR', 'LLARM', 'BPLB', 'REXPN', 'RAIA12', 'LEXWHY5', 'PASE3', 'BONFX1', 'LEXWHY3', 'ISSTFID', 'REXP1CV', 'TIMET1', 'LFXWHY3', 'HRRDK12', 'WKHR7CV', 'REXWHY3', 'OJPNRA', 'RKPFCRE', 'CESD16', 'LFXWHY4', 'HPNRIL', 'LLHORIZ', 'EKRSL', 'REXWHY4', 'RFTLRL', 'REXCMP2', 'STFID1', 'LFXPN', 'KPMED', 'KPL30CV', 'RFMAXF', 'INJR12', 'OAO12CV', 'OJPNNK', 'KPACT30', 'ANKSPON', 'AMD112', 'HPNLIL', 'K5STFID', 'OJPNLF', 'HPNLFL', 'RASTAFU', 'CSTIME2', 'OJPNRE', 'CSTSGL', 'LEXP2CV', 'OJPNLS', 'HPNLOL', 'AMD612', 'KPL12CV', 'AINJR12', 'OAB12CV', 'PSGOUT', 'PA230CV', 'CESD3', 'BPTOT', 'OJPNRH', 'BONFX5', 'RLLGTH', 'HPNRLB', 'OJPNRF', 'ARTL12', 'MENL12', 'P30VT8', 'ISOREQ', 'RLWGT', 'CSTREP2', 'OJPNLE', 'BONFX6', 'CESD13', 'MARITST', 'OJPNLW', 'PASE1HR', 'MISSWK', 'FALLCV', 'REASON', 'LFTRIAL', 'AMD712', 'BPCFSZ', 'PASE3HR', 'P7RKACV', 'KSRGR12', 'V0520MPACE', 'LAXTL', 'RFXP2CV', 'RESFR', 'OAF12CV', 'HRFXO12', 'LKLTTPN', 'RFTRIAL', 'HPNR12', 'AMD412', 'BPARM', 'CSPACE', 'RKDEFCV', 'WEEKWK', 'LIVE4', 'RFSFR', 'RKMTTPN', 'LETLRL', 'RETHRL', 'P30VT6', 'SF12', 'BPDAYCV', 'KPNL12', 'WLK20T1', 'P30VITE', 'SF4', 'HPNROL', 'P30VT3', 'AMD1012', 'KPR12CV', 'PA430', 'HPNLB', 'PASE2HR', 'LEXWHY4', 'RKABPN', 'SF2', 'CS5', 'SF6', 'HPR12CV', 'HPNRFL', 'AMD812', 'HLFXO12', 'CUREMP', 'P30VITC', 'RETRIAL', 'HOUACT4', 'P30VT7', 'HOUACT3', 'RLVERT', 'LEXPN', 'CESD19', 'LETRIAL', 'MEDINS', 'RFTHPL', 'HSMSS', 'RETHPL', 'P30VT9', 'BPDK', 'CSTNUM1', 'LEXP1CV', 'WEIGHT', 'ARTR12', 'BONFX2', 'REMAXF', 'LFXP2CV', 'CESD20', 'LKP30CV', 'RFSFP', 'LFXCMP2', 'WORK7', 'HOUACT6', 'RFXPN', 'LKALNMT', 'TRANSET', 'PASE1', 'CESD11', 'INJL12', 'CESD', 'CSTIME1', 'PA430CV', 'P30VT4', 'SCSTFID', 'REXCOMP', 'BONFXO', 'VITCAMT', 'MENR12', 'BP30OFT', 'PSORIAS', 'RCSTFID', 'LEXWHY2', 'KPLK20B', 'LKABPN', 'AINJL12', 'RFTLPL', 'ARTH12', 'CESD14', 'CEMPLOY', 'CESD2', 'BP30', 'LFXWHY2', 'LAXTR', 'KPLK20D', 'RKP30CV', 'VITDAMT', 'HRSR12', 'BPBAD', 'PA330CV', 'LIVE3', 'CESD9', 'PASE5', 'KPNL12M', 'BONFX14', 'BPDIAS', 'KPR30CV', 'PMLKRCV', 'LFXCOMP', 'FALL', 'RFXWHY2', 'HLTHCOV', 'AMD212', 'BPTERM', 'CESD12', 'HRROA12', 'TIMET2', 'SREPRHR', 'LLBACK', 'OJPNNO', 'PA230', 'LKMTTPN', 'P30VT10', 'KPMEDCV', 'LEXCMP2', 'MINJL12', 'LKPFCRE', 'PASE2', 'OJPNLH', 'BMICAT', 'PASE6', 'AMD312', 'BMI', 'BPSYS', 'EKRSR', 'KPNR12', 'RLBACK', 'LKSX', 'OAD12CV', 'REXWHY1', 'CSTNUM2', 'BONFX', 'LFTLPL', 'HLTHCAR', 'HOUACT1', 'CESD1', 'SF10', 'ISEXMDT', 'OJPNRS', 'CESD7', 'SF5', 'HPNRB', 'PASE4', 'LESFR', 'P30VT2', 'KPRK20B', 'P7LKACV', 'KRSL12', 'RFXP1CV', 'REXP2CV', 'SREPLHR', 'RLHORIZ', 'PASE', 'LLWGT', 'BPMB', 'VITEAMT', 'AMD512', 'OTA12CV', 'HPNLLB', 'KPA30CV', 'LFXWHY1', 'HRSL12', 'CESD10', 'PA330', 'RFXWHY1', 'LFSFR', 'BPUB', 'SF9', 'HPNRDK', 'LFXWHY5', 'REXWHY5', 'CESD5', 'CROHNCO', 'W2STFID', 'HRLDK12', 'LESFP', 'BPSTFID', 'PA530', 'LKDEFCV', 'HRLOA12', 'PA130', 'HOUACT5', 'KSRGL12', 'SF7', 'RFTHRL', 'LFTLRL', 'LFTHPL', 'BPACTCV', 'CESD6', 'RETLRL', 'RKSX', 'SF11', 'HPNL12', 'WPSTFID', 'SREPHR', 'BONFX13', 'LIVE1', 'WLKAID', 'P30VT5', 'RLARM', 'PMRKRCV', 'LFSFP', 'KPNR12M', 'STEPST2', 'WLK20T2', 'LLVERT', 'RFXWHY5', 'RFXCMP2', 'BONFX12', 'RKLTTPN', 'RFXWHY3', 'WORKAMT', 'RFXCOMP', 'HOUACT2', 'LETHRL', 'LETLPL', 'KPACTCV', 'ARTDRCV', 'KSX', 'LEMAXF', 'HSPSS', 'SF1', 'OAH12CV', 'OJPNRW', 'MINJR12', 'HPNLDK', 'SF3', 'CESD4', 'PA530CV', 'PA130CV', 'BPBEDCV', 'OJPNLA', 'HRS12', 'PSOARTH', 'RFXWHY4', 'STEPST1', 'LFXP1CV', 'CESD15', 'CESD8', 'LLLGTH', 'LEXWHY1', 'KPRK20D', 'RKPGDPN', 'BONFX7', 'RESFP', 'REXWHY2', 'LIVE2', 'PASE6HR', 'LEXCOMP', 'KIKBALL', 'BPB', 'ARTDOC', 'GT12CV', 'LIVE5', 'HPL12CV', 'PA130NF', 'CESD18', 'KPACDCV', 'RETLPL', 'SF8', 'LFMAXF', 'LKPGDPN', 'P30VT1', 'CESD17', 'HOURWK', 'LIVENO', 'AMD912', 'KEXAMK', 'KRSR12', 'CSTREP1', 'RKALNMT', 'LFTHRL', 'LETHPL', 'BONFX11']\n",
      "\n",
      "allclinical06.sas7bdat: (4796, 903)\n",
      "['RPN400W', 'AAVMNS', 'KYPH', 'AAMVBMS', 'AAMDMNT', 'SISKRCV', 'BYPLEG', 'CSQPRHP', 'LLD12B', 'BRACCV', 'COPE12', 'LLD9B', 'HRRDK12', 'CPLKN2', 'IADL4', 'IPLKN3', 'ADL6A', 'IPLKN6', 'REASW5', 'COPE4', 'ADL5A', 'EKRSL', 'LLD14B', 'AAMVBMF', 'AMWHEN', 'SMKSTOP', 'ACUTCV', 'ACUSCV', 'REASW1', 'ADL3', 'AAMVBMT', 'CPLKN5', 'KYPHB', 'RA', 'HOSPSUR', 'ADL7', 'ASTMEDS', 'COPE8', 'IPRKN5', 'CANEUSE', 'IADL3I', 'K1STFID', 'K5STFID', 'IKPNL7', 'PIPENOW', 'AAMVMNF', 'V06400MTR', 'RASTAFU', 'RESTT6', 'LLD1B', 'KGWAY', 'PN400W', 'IADL2', 'IPRKN2', 'HERB12', 'ABCIRC', 'AAMDMNS', 'COPE13', 'RKEFFB', 'LLD6A', 'REASW16', 'CHIRCUR', 'V0620MPACE', 'CHIRCV', 'SMOKER', 'ACUTCUR', 'IPLKN5', 'AAMVMNT', 'LLDILSM', 'HRELG', 'IKPNR7', 'ADL5', 'IADL5II', 'SPIRCV', 'LLDIFST', 'MARITST', 'BRAC12', 'YOGACV', 'REASW2', 'IADL2I', 'PIPEAGE', 'PIPSTOP', 'LKEFFB', 'IPSKL', 'PIPENEV', 'CAPSNCV', 'WHE400W', 'ICPTSKR', 'V0520MPACE', 'IADL2II', 'RELA12', 'LAXTL', 'DIABPR1', 'SAFEWLK', 'HRFXO12', 'DADHRCV', 'ULCER', 'IADL1II', 'SISHRCV', 'IADL3', 'AALTMNT', 'IADL4II', 'LLD3A', 'RKDEFCV', 'LIVE4', 'STFID2', 'LLD6B', 'AAVBMS', 'LLD10A', 'REASW3', 'SMKAVE', 'RESTT8', 'DIABPR2', 'IADL1I', 'COPE9', 'ASTHMA', 'PIPEAMT', 'V06400PAIN', 'LMWHEN', 'ADL2A', 'REASW9', 'RPSTFID', 'ACUTNUM', 'LGMEDS', 'CAM12', 'COPE1', 'COPE3', 'RFP400W', 'LLD15B', 'CSQCAT', 'BONFX11', 'REASW11', 'DADKRCV', 'ADHHS8', 'HLFXO12', 'OCCAM48', 'RESTT10', 'ACUSCUR', 'VITMCV', 'IPRKN6', 'CHIRNUM', 'LLD1A', 'RPAVG', 'MOMKRCV', 'TMJEPN1', 'RAMEDS', 'TMJE6M', 'IADL5I', 'COMP10', 'RESTT7', 'NPN400W', 'AAVMNT', 'POLYRH', 'MASSCUR', 'LKALNMT', 'HPFXFU', 'HEIGHT', 'HRTAT', 'SMKAGE', 'CPLKN1', 'LPN400W', 'CANCER', 'CSQIGSN', 'ADL6', 'LLD7A', 'DIABPR3', 'LLDIFSP', 'LKEFFPT', 'REASW13', 'SMKPKYR', 'COPE14', 'W4STFID', 'BONFXO', 'AAVMNF', 'SMKNEV', 'RESTT2', 'BROHRCV', 'BROKRCV', 'SPIR12', 'MASSCV', 'RESTT9', 'LLD16B', 'COPE11', 'LLD15A', 'CKPNL7', 'ACUSNUM', 'DIABTX1', 'RKEFFPT', 'LLD5B', 'PSMOKER', 'LAXTR', 'HRSR12', 'TMJF30D', 'SYSELG', 'ICPTSKL', 'LIVE3', 'DKP400W', 'WALKER', 'LIVDAM', 'LLD2A', 'REASW14', 'TJE30WC', 'TJF30WC', 'RESTT1', 'LLD11A', 'AALTMNF', 'DIABTX4', 'HRROA12', 'AAMVMNS', 'KIDTRAN', 'SREPRHR', 'VITM12', 'IPLKN4', 'OHCAM48', 'LLD4A', 'LUNG', 'PAXRNA', 'CSQDVAT', 'CSQRPS', 'TJE30CV', 'LLD4B', 'COPE5', 'IPRKN1', 'KPNR7', 'FAMHR', 'EKRSR', 'DISCOMF', 'AALTMNS', 'SREPLKR', 'IADL4I', 'REASW4', 'TMJE30A', 'RPWKPRV', 'RELACV', 'TJF30CV', 'IPSKR', 'IADL1', 'PIPE', 'LLDIFSS', 'LLD14A', 'ALZDZ', 'COPE7', 'RESTT5', 'KRSL12', 'DRKMORE', 'LLD12A', 'SREPLHR', 'HRB4WLK', 'CPLKN4', 'CSQIBA', 'LLDILSI', 'AAVBMF', 'SMKNOW', 'ADL2', 'LLD7B', 'V06400EXCL', 'HRSL12', 'CPRKN4', 'ACSTFID', 'TMJF6M', 'CPLKN3', 'W20COMP', 'LLD2B', 'REASW8', 'FAMKR', 'IPLKN1', 'IPRKN3', 'CPSKL', 'V06400MTIM', 'ANVDAYS', 'REASW7', 'RESTT4', 'REITERS', 'CKPNR7', 'HR135', 'RPWKTYP', 'IADL3II', 'OTH400W', 'LPWKTYP', 'HRLDK12', 'ULCERDX', 'DIETCV', 'CPRKN2', 'MOMHRCV', 'RESTT3', 'LKDEFCV', 'HRLOA12', 'LLD13B', 'RUBCV', 'COPE2', 'REASW10', 'NUMSTOP', 'RADX', 'REASW12', 'LLD8A', 'LLD11B', 'SOB400W', 'LIVE1', 'DIASELG', 'V06400MCMP', 'LLD13A', 'COPE10', 'STROKE', 'COMORB', 'COPE6', 'LLD8B', 'LLD9A', 'KIDFXN', 'BONFXOH', 'SMOKE', 'ADL1A', 'IADL5', 'ADL10', 'CPRKN5', 'CPRKN1', 'DIET12', 'REASW6', 'LPWKPRV', 'DRNKAMT', 'APASTAT', 'HERBCV', 'ADL10A', 'CPRKN3', 'AACSM03', 'ADL7A', 'LLD16A', 'SMKAMT', 'DIAB', 'TMJF30A', 'LLDILST', 'AAMDMNF', 'REASW15', 'CPSKR', 'KPNL7', 'HR400WK', 'IPLKN2', 'TMJE30D', 'RUBS12', 'LLD5A', 'IPRKN4', 'LMPHCT', 'BONFX7', 'ADL4', 'CALLDOC', 'TMJFPN1', 'LIVE2', 'AMPA1', 'ADL9', 'ADL1', 'LLD3B', 'ADL8', 'SREPRKR', 'DIABTX3', 'DIABTX2', 'MASSNUM', 'YOGA12', 'LIVE5', 'PSMKYR', 'MAXCIRC', 'AACNT', 'AAVBMT', 'ADHHSD8', 'HRTFAIL', 'CSQCSS', 'LLD10B', 'LIVENO', 'KRSR12', 'RKALNMT']\n",
      "\n",
      "allclinical07.sas7bdat: (4796, 257)\n",
      "['RPN400W', 'PASE4HR', 'AAVMNS', 'P30VITD', 'KYPH', 'BONFXHP', 'RXTPRTD', 'AAMVBMS', 'PASE5HR', 'LLARM', 'AAMDMNT', 'SISKRCV', 'VOID2', 'BPLB', 'BYPLEG', 'LLD12B', 'REXPN', 'RAIA12', 'LEXWHY5', 'PASE3', 'SERUM', 'BONFX1', 'LEXWHY3', 'ISSTFID', 'BRACCV', 'REXP1CV', 'TIMET1', 'LFXWHY3', 'LLD9B', 'IADL4', 'WKHR7CV', 'ADL6A', 'REXWHY3', 'OJPNRA', 'RKPFCRE', 'REASW5', 'LFXWHY4', 'HRSUC1', 'HPNRIL', 'ADL5A', 'LLHORIZ', 'REXWHY4', 'LLD14B', 'AAMVBMF', 'RFTLRL', 'AMWHEN', 'REXCMP2', 'PLAQHR1', 'STFID1', 'SMKSTOP', 'LFXPN', 'ACUTCV', 'ACUSCV', 'REASW1', 'MRSEQNL', 'RXNSAID', 'ADL3', 'DFUCOLL', 'AAMVBMT', 'KYPHB', 'RXOTHAN', 'RA', 'HOSPSUR', 'RFMAXF', 'ADL7', 'ASTMEDS', 'QOVP1', 'OJPNNK', 'ANKSPON', 'AMD112', 'CANEUSE', 'IADL3I', 'K1STFID', 'HPNLIL', 'SSDATE', 'PIPENOW', 'OJPNLF', 'AAMVMNF', 'V06400MTR', 'HPNLFL', 'EXCESS2', 'CSTIME2', 'RESTT6', 'OJPNRE', 'LLD1B', 'CSTSGL', 'LEXP2CV', 'ILLPWK2', 'OJPNLS', 'HPNLOL', 'AMD612', 'MRITEM3', 'PN400W', 'PSGOUT', 'IADL2', 'PA230CV', 'BPTOT', 'OJPNRH', 'URSURD1', 'HRSUC2', 'BONFX5', 'RLLGTH', 'HOURSP2', 'AAMDMNS', 'HERB12', 'ABCIRC', 'RXCLCXB', 'LLD6A', 'RKEFFB', 'HPNRLB', 'REASW16', 'RXBISPH', 'CHIRCUR', 'VCOLL2', 'V0620MPACE', 'OJPNRF', 'CHIRCV', 'SMOKER', 'ACUTCUR', 'OTREASM', 'P30VT8', 'AAMVMNT', 'LLDILSM', 'HRELG', 'ISOREQ', 'VEIN1', 'RLWGT', 'CSTREP2', 'OJPNLE', 'ADL5', 'IADL5II', 'UCDATE2', 'BONFX6', 'SPIRCV', 'LLDIFST', 'OJPNLW', 'PASE1HR', 'MISSWK', 'BRAC12', 'YOGACV', 'FALLCV', 'REASW2', 'IADL2I', 'PIPEAGE', 'PIPSTOP', 'LKEFFB', 'LFTRIAL', 'RXFLUOR', 'PIPENEV', 'AMD712', 'BPCFSZ', 'CAPSNCV', 'PASE3HR', 'WHE400W', 'RXRFCXB', 'IADL2II', 'RELA12', 'OTHVP2', 'DIABPR1', 'REMITM', 'QOVP2', 'RFXP2CV', 'RESFR', 'SAFEWLK', 'LKLTTPN', 'RFTRIAL', 'DADHRCV', 'HPNR12', 'ULCER', 'RXVIT_D', 'IADL1II', 'AMD412', 'SISHRCV', 'IADL3', 'AALTMNT', 'IADL4II', 'BLSURD1', 'RXVLCXB', 'BPARM', 'WEEKWK', 'MRASTK3', 'CSPACE', 'LLD3A', 'PSDATE', 'STFID2', 'RFSFR', 'LLD6B', 'AAVBMS', 'LLD10A', 'RKMTTPN', 'LETLRL', 'URINOB1', 'REASW3', 'RETHRL', 'SMKAVE', 'SRQWT', 'RESTT8', 'UCDATE1', 'DIABPR2', 'URINHR2', 'IADL1I', 'P30VT6', 'SF12', 'ASTHMA', 'PIPEAMT', 'BPDAYCV', 'V06400PAIN', 'LMWHEN', 'ADL2A', 'REASW9', 'WLK20T1', 'P30VITE', 'RPSTFID', 'ACUTNUM', 'SF4', 'LGMEDS', 'HPNROL', 'CAM12', 'P30VT3', 'AMD1012', 'RFP400W', 'LLD15B', 'PA430', 'PASE2HR', 'HPNLB', 'REMOUT', 'LEXWHY4', 'RKABPN', 'REASW11', 'DADKRCV', 'SF2', 'CS5', 'SF6', 'HPR12CV', 'VEIN2', 'HPNRFL', 'RXNTRAT', 'HEMAT2', 'AMD812', 'CUREMP', 'ADHHS8', 'OCCAM48', 'RESTT10', 'P30VITC', 'ACUSCUR', 'RETRIAL', 'HOUACT4', 'P30VT7', 'HOUACT3', 'RLVERT', 'LEXPN', 'VITMCV', 'MEDINS', 'LETRIAL', 'RFTHPL', 'LEAKAG1', 'HSMSS', 'RETHPL', 'CHIRNUM', 'LLD1A', 'P30VT9', 'BPDK', 'RPAVG', 'MOMKRCV', 'TMJEPN1', 'CSTNUM1', 'RAMEDS', 'RXOSTRD', 'LEXP1CV', 'TMJE6M', 'IADL5I', 'WEIGHT', 'BONFX2', 'COMP10', 'REMAXF', 'LFXP2CV', 'RESTT7', 'RFSFP', 'NPN400W', 'AAVMNT', 'LFXCMP2', 'WORK7', 'HOUACT6', 'POLYRH', 'MASSCUR', 'RFXPN', 'HPFXFU', 'TRANSET', 'HEIGHT', 'PASE1', 'HRTAT', 'SMKAGE', 'LPN400W', 'CANCER', 'ADL6', 'LLD7A', 'CSTIME1', 'DIABPR3', 'PA430CV', 'P30VT4', 'LLDIFSP', 'SCSTFID', 'LKEFFPT', 'REASW13', 'PLAQHR2', 'SMKPKYR', 'W4STFID', 'REXCOMP', 'SMRIELG', 'VITCAMT', 'AAVMNF', 'SMKNEV', 'BP30OFT', 'RESTT2', 'PSORIAS', 'RCSTFID', 'LEXWHY2', 'BROHRCV', 'SPIR12', 'KPLK20B', 'LKABPN', 'RESTT9', 'MASSCV', 'RFTLPL', 'LLD16B', 'LLD15A', 'URNCOLL', 'CEMPLOY', 'BP30', 'ACUSNUM', 'LLD5B', 'DIABTX1', 'RKEFFPT', 'LFXWHY2', 'PSMOKER', 'KPLK20D', 'VITDAMT', 'RXGLCSM', 'TMJF30D', 'BPBAD', 'SYSELG', 'PA330CV', 'BLDHRS2', 'DKP400W', 'WALKER', 'PASE5', 'LIVDAM', 'RXSAME', 'LLD2A', 'REASW14', 'RX30', 'BONFX14', 'RXCHOND', 'TJE30WC', 'BPDIAS', 'TJF30WC', 'URINOB2', 'RESTT1', 'LLD11A', 'LFXCOMP', 'FALL', 'RFXWHY2', 'HLTHCOV', 'AALTMNF', 'AMD212', 'DIABTX4', 'BPTERM', 'RXIHYAL', 'AAMVMNS', 'EXCESS1', 'TIMET2', 'KIDTRAN', 'VITM12', 'LLBACK', 'OJPNNO', 'OHCAM48', 'LLD4A', 'LUNG', 'PAXRNA', 'LKMTTPN', 'BLUPMN1', 'P30VT10', 'PA230', 'LEXCMP2', 'LKPFCRE', 'PASE2', 'RXANALG', 'OJPNLH', 'BMICAT', 'TJE30CV', 'LLD4B', 'PASE6', 'AMD312', 'BMI', 'BPSYS', 'FAMHR', 'DISCOMF', 'RLBACK', 'AALTMNS', 'IADL4I', 'MRSEQNR', 'REASW4', 'REXWHY1', 'TMJE30A', 'RPWKPRV', 'CSTNUM2', 'BONFX', 'RELACV', 'TJF30CV', 'IADL1', 'PIPE', 'LLDIFSS', 'LFTLPL', 'HLTHCAR', 'HOUACT1', 'LLD14A', 'SEAQHR1', 'SF10', 'ISEXMDT', 'OJPNRS', 'ALZDZ', 'SF5', 'HPNRB', 'BLUPMN2', 'PASE4', 'LESFR', 'P30VT2', 'RESTT5', 'KPRK20B', 'RFXP1CV', 'REXP2CV', 'DRKMORE', 'RXCOX2', 'RLHORIZ', 'LLD12A', 'PASE', 'HRB4WLK', 'LLWGT', 'BPMB', 'VITEAMT', 'LLDILSI', 'AAVBMF', 'SMKNOW', 'AMD512', 'EDTA', 'ADL2', 'HPNLLB', 'LLD7B', 'LFXWHY1', 'V06400EXCL', 'PA330', 'LEAKAG2', 'VOID1', 'URSURD2', 'RFXWHY1', 'RXACTM', 'LFSFR', 'MULTST2', 'ACSTFID', 'BPUB', 'SF9', 'TMJF6M', 'VCOLL1', 'HPNRDK', 'LFXWHY5', 'W20COMP', 'LLD2B', 'REASW8', 'FAMKR', 'V06400MTIM', 'ANVDAYS', 'REASW7', 'REXWHY5', 'RESTT4', 'REITERS', 'HR135', 'RPWKTYP', 'IADL3II', 'CROHNCO', 'W2STFID', 'OTH400W', 'LPWKTYP', 'SRGSTAT', 'ULCERDX', 'LESFP', 'DIETCV', 'BPSTFID', 'PA530', 'MOMHRCV', 'RESTT3', 'CONFREC', 'PDATE1', 'PA130', 'LLD13B', 'HOUACT5', 'RUBCV', 'SF7', 'REASW10', 'RFTHRL', 'RXCLCTN', 'NUMSTOP', 'CITRATE', 'LFTLRL', 'RADX', 'URINHR1', 'LFTHPL', 'BPACTCV', 'RETLRL', 'SF11', 'HPNL12', 'WPSTFID', 'REASW12', 'LLD8A', 'BLSURD2', 'BONFX13', 'LLD11B', 'SOB400W', 'WLKAID', 'DIASELG', 'RX30NUM', 'P30VT5', 'V06400MCMP', 'RLARM', 'LLD13A', 'LFSFP', 'STROKE', 'COMORB', 'SEAQHR2', 'STEPST2', 'WLK20T2', 'RXRALOX', 'LLVERT', 'BLDRAW2', 'LLD8B', 'RFXWHY5', 'RFXCMP2', 'BONFX12', 'LLD9A', 'KIDFXN', 'RXNARC', 'BONFXOH', 'SMOKE', 'RKLTTPN', 'RFXWHY3', 'ADL1A', 'WORKAMT', 'IADL5', 'RFXCOMP', 'HOUACT2', 'ADL10', 'LETHRL', 'LETLPL', 'RXMSM', 'LEMAXF', 'HSPSS', 'SF1', 'DIET12', 'OJPNRW', 'REASW6', 'LPWKPRV', 'DRNKAMT', 'APASTAT', 'HPNLDK', 'HERBCV', 'SF3', 'ADL10A', 'PA530CV', 'PA130CV', 'AACSM03', 'ADL7A', 'BPBEDCV', 'OJPNLA', 'RXISTRD', 'LLD16A', 'SMKAMT', 'DIAB', 'TMJF30A', 'LLDILST', 'MULTST1', 'PSOARTH', 'OTHVP1', 'AAMDMNF', 'REASW15', 'BLDCOLL', 'RFXWHY4', 'STEPST1', 'HR400WK', 'LFXP1CV', 'TMJE30D', 'RUBS12', 'LLD5A', 'RXSALIC', 'LLLGTH', 'LEXWHY1', 'KPRK20D', 'RXASPRN', 'RKPGDPN', 'LMPHCT', 'ADL4', 'CALLDOC', 'ILLPWK1', 'RESFP', 'URUPMN1', 'PDATE2', 'TMJFPN1', 'REXWHY2', 'URUPMN2', 'PASE6HR', 'DFBCOLL', 'AMPA1', 'ADL9', 'ADL1', 'LEXCOMP', 'LLD3B', 'ADL8', 'KIKBALL', 'BPB', 'BLDHRS1', 'DIABTX3', 'DIABTX2', 'MASSNUM', 'YOGA12', 'HOURSP1', 'HPL12CV', 'PSMKYR', 'PA130NF', 'RETLPL', 'MAXCIRC', 'SF8', 'LFMAXF', 'AACNT', 'AAVBMT', 'ADHHSD8', 'LKPGDPN', 'HRTFAIL', 'P30VT1', 'HOURWK', 'LLD10B', 'HEMAT1', 'AMD912', 'KEXAMK', 'CSTREP1', 'LFTHRL', 'LETHPL', 'BROKRCV', 'BLDRAW1']\n",
      "\n",
      "allclinical08.sas7bdat: (4796, 703)\n",
      "['PASE4HR', 'AAVMNS', 'P30VITD', 'BONFXHP', 'RXTPRTD', 'AAMVBMS', 'PASE5HR', 'AAMDMNT', 'VOID2', 'BPLB', 'BYPLEG', 'LLD12B', 'RAIA12', 'PASE3', 'SERUM', 'BONFX1', 'TIMET1', 'LLD9B', 'IADL4', 'WKHR7CV', 'ADL6A', 'OJPNRA', 'HRSUC1', 'HPNRIL', 'ADL5A', 'LLD14B', 'AAMVBMF', 'AMWHEN', 'PLAQHR1', 'STFID1', 'MRSEQNL', 'RXNSAID', 'ADL3', 'DFUCOLL', 'AAMVBMT', 'RXOTHAN', 'RA', 'ICPTSHL', 'ADL7', 'ASTMEDS', 'QOVP1', 'IPLHP1', 'OJPNNK', 'ANKSPON', 'AMD112', 'IADL3I', 'CPRHP3', 'HPNLIL', 'CHPNR7', 'SSDATE', 'OJPNLF', 'AAMVMNF', 'HPNLFL', 'EXCESS2', 'CSTIME2', 'OJPNRE', 'LLD1B', 'CSTSGL', 'ILLPWK2', 'OJPNLS', 'HPNLOL', 'AMD612', 'IPLHP3', 'MRITEM3', 'PSGOUT', 'IADL2', 'PA230CV', 'RELY1', 'BPTOT', 'OJPNRH', 'URSURD1', 'HRSUC2', 'BONFX5', 'AAMDMNS', 'HOURSP2', 'RXCLCXB', 'IPRHP1', 'LLD6A', 'HPNRLB', 'RXBISPH', 'VCOLL2', 'OJPNRF', 'OTREASM', 'P30VT8', 'AAMVMNT', 'LLDILSM', 'VEIN1', 'CSTREP2', 'OJPNLE', 'ADL5', 'IADL5II', 'UCDATE2', 'BONFX6', 'LLDIFST', 'MARITST', 'OJPNLW', 'PASE1HR', 'MISSWK', 'IPLHP4', 'FALLCV', 'IADL2I', 'RXFLUOR', 'AMD712', 'BPCFSZ', 'CPSHR', 'PASE3HR', 'RXRFCXB', 'IADL2II', 'OTHVP2', 'DIABPR1', 'REMITM', 'QOVP2', 'HPNL7', 'HPNR12', 'ULCER', 'RXVIT_D', 'AMD412', 'IADL1II', 'IADL3', 'AALTMNT', 'IADL4II', 'BLSURD1', 'RXVLCXB', 'IPRHP5', 'MRASTK3', 'BPARM', 'CSPACE', 'WEEKWK', 'LIVE4', 'LLD3A', 'PSDATE', 'AAVBMS', 'LLD6B', 'LLD10A', 'URINOB1', 'SRQWT', 'UCDATE1', 'DIABPR2', 'URINHR2', 'IADL1I', 'P30VT6', 'SF12', 'ASTHMA', 'BPDAYCV', 'LMWHEN', 'ADL2A', 'IPRHP3', 'WLK20T1', 'P30VITE', 'RPSTFID', 'SF4', 'LGMEDS', 'HPNROL', 'P30VT3', 'IPRHP2', 'CPRHP5', 'AMD1012', 'CPRHP2', 'LLD15B', 'PA430', 'HPNLB', 'PASE2HR', 'BONFX11', 'REMOUT', 'SF2', 'CS5', 'SF6', 'HPR12CV', 'VEIN2', 'HPNRFL', 'RXNTRAT', 'HEMAT2', 'AMD812', 'CUREMP', 'ADHHS8', 'P30VITC', 'HOUACT4', 'P30VT7', 'HOUACT3', 'MEDINS', 'CPLHP4', 'LEAKAG1', 'HSMSS', 'HPNR7', 'LLD1A', 'P30VT9', 'BPDK', 'RPAVG', 'IPLHP2', 'CSTNUM1', 'RAMEDS', 'RXOSTRD', 'IPSHL', 'CHPNL7', 'IADL5I', 'WEIGHT', 'BONFX2', 'AAVMNT', 'WORK7', 'HOUACT6', 'POLYRH', 'HPFXFU', 'PASE1', 'HRTAT', 'CANCER', 'ADL6', 'LLD7A', 'CSTIME1', 'DIABPR3', 'PA430CV', 'P30VT4', 'LLDIFSP', 'SCSTFID', 'PLAQHR2', 'CPSHL', 'SMRIELG', 'VITCAMT', 'AAVMNF', 'BP30OFT', 'PSORIAS', 'RCSTFID', 'KPLK20B', 'LLD16B', 'LLD15A', 'URNCOLL', 'CEMPLOY', 'BP30', 'LLD5B', 'DIABTX1', 'KPLK20D', 'VITDAMT', 'RXGLCSM', 'BPBAD', 'PA330CV', 'BLDHRS2', 'LIVE3', 'PASE5', 'IHPNL7', 'LIVDAM', 'RXSAME', 'LLD2A', 'CPLHP5', 'RX30', 'BONFX14', 'RXCHOND', 'BPDIAS', 'URINOB2', 'LLD11A', 'FALL', 'HLTHCOV', 'AALTMNF', 'AMD212', 'DIABTX4', 'BPTERM', 'RXIHYAL', 'AAMVMNS', 'EXCESS1', 'TIMET2', 'KIDTRAN', 'OJPNNO', 'LLD4A', 'LUNG', 'PA230', 'BLUPMN1', 'P30VT10', 'ICPTSHR', 'PASE2', 'RXANALG', 'OJPNLH', 'BMICAT', 'LLD4B', 'PASE6', 'AMD312', 'BMI', 'BPSYS', 'IPSHR', 'AALTMNS', 'IADL4I', 'MRSEQNR', 'CPLHP3', 'V0820MPACE', 'CSTNUM2', 'BONFX', 'IADL1', 'WILLNGS', 'LLDIFSS', 'HLTHCAR', 'HOUACT1', 'LLD14A', 'SEAQHR1', 'SF10', 'OJPNRS', 'ALZDZ', 'SF5', 'HPNRB', 'BLUPMN2', 'PASE4', 'P30VT2', 'KPRK20B', 'RXCOX2', 'LLD12A', 'PASE', 'BPMB', 'VITEAMT', 'LLDILSI', 'AAVBMF', 'AMD512', 'EDTA', 'ADL2', 'HPNLLB', 'LLD7B', 'CPRHP1', 'PA330', 'LEAKAG2', 'VOID1', 'URSURD2', 'CPRHP4', 'IPLHP6', 'RXACTM', 'MULTST2', 'BPUB', 'SF9', 'VCOLL1', 'HPNRDK', 'LLD2B', 'IPRHP4', 'ANVDAYS', 'IADL3II', 'CROHNCO', 'W2STFID', 'SRGSTAT', 'ULCERDX', 'BPSTFID', 'PA530', 'CONFREC', 'PDATE1', 'PA130', 'LLD13B', 'HOUACT5', 'SF7', 'RXCLCTN', 'CITRATE', 'RADX', 'URINHR1', 'IPLHP5', 'ASSIST', 'BPACTCV', 'SF11', 'HPNL12', 'WPSTFID', 'LLD8A', 'BLSURD2', 'BONFX13', 'LIVE1', 'LLD11B', 'WLKAID', 'RX30NUM', 'P30VT5', 'LLD13A', 'STROKE', 'COMORB', 'SEAQHR2', 'STEPST2', 'WLK20T2', 'RXRALOX', 'BLDRAW2', 'LLD8B', 'BONFXOR', 'BONFX12', 'LLD9A', 'KIDFXN', 'RXNARC', 'IADL5', 'ADL1A', 'WORKAMT', 'HOUACT2', 'ADL10', 'RXMSM', 'HSPSS', 'SF1', 'OJPNRW', 'CPLHP1', 'APASTAT', 'HPNLDK', 'SF3', 'ADL10A', 'PNAFTS', 'PA530CV', 'PA130CV', 'AACSM03', 'ADL7A', 'BPBEDCV', 'OJPNLA', 'RXISTRD', 'LLD16A', 'DIAB', 'LLDILST', 'MULTST1', 'PSOARTH', 'OTHVP1', 'AAMDMNF', 'BLDCOLL', 'STEPST1', 'LLD5A', 'RXSALIC', 'KPRK20D', 'RXASPRN', 'LMPHCT', 'ADL4', 'ILLPWK1', 'URUPMN1', 'PDATE2', 'URUPMN2', 'LIVE2', 'PASE6HR', 'DFBCOLL', 'AMPA1', 'ADL9', 'IHPNR7', 'ADL1', 'WLKAFTS', 'LLD3B', 'ADL8', 'BPB', 'BLDHRS1', 'DIABTX3', 'DIABTX2', 'IPRHP6', 'LIVE5', 'HPL12CV', 'PA130NF', 'SF8', 'CPLHP2', 'AACNT', 'AAVBMT', 'ADHHSD8', 'HRTFAIL', 'P30VT1', 'HOURWK', 'LIVENO', 'LLD10B', 'HEMAT1', 'AMD912', 'CSTREP1', 'HOURSP1', 'BLDRAW1']\n",
      "\n",
      "allclinical09.sas7bdat: (4796, 259)\n",
      "['PASE4HR', 'AAVMNS', 'P30VITD', 'BONFXHP', 'RXTPRTD', 'AAMVBMS', 'PASE5HR', 'AAMDMNT', 'VOID2', 'BPLB', 'BYPLEG', 'LLD12B', 'RAIA12', 'PASE3', 'SERUM', 'BONFX1', 'TIMET1', 'LLD9B', 'IADL4', 'WKHR7CV', 'ADL6A', 'OJPNRA', 'HRSUC1', 'HPNRIL', 'ADL5A', 'LLD14B', 'AAMVBMF', 'AMWHEN', 'PLAQHR1', 'STFID1', 'MRSEQNL', 'RXNSAID', 'ADL3', 'DFUCOLL', 'AAMVBMT', 'RXOTHAN', 'RA', 'ICPTSHL', 'ADL7', 'ASTMEDS', 'QOVP1', 'IPLHP1', 'OJPNNK', 'ANKSPON', 'AMD112', 'IADL3I', 'CPRHP3', 'HPNLIL', 'CHPNR7', 'SSDATE', 'OJPNLF', 'AAMVMNF', 'HPNLFL', 'EXCESS2', 'CSTIME2', 'OJPNRE', 'LLD1B', 'CSTSGL', 'ILLPWK2', 'OJPNLS', 'HPNLOL', 'AMD612', 'IPLHP3', 'MRITEM3', 'PSGOUT', 'IADL2', 'PA230CV', 'BPTOT', 'OJPNRH', 'URSURD1', 'HRSUC2', 'BONFX5', 'AAMDMNS', 'HOURSP2', 'RXCLCXB', 'IPRHP1', 'LLD6A', 'HPNRLB', 'RXBISPH', 'VCOLL2', 'OJPNRF', 'OTREASM', 'P30VT8', 'AAMVMNT', 'LLDILSM', 'VEIN1', 'CSTREP2', 'OJPNLE', 'ADL5', 'IADL5II', 'UCDATE2', 'BONFX6', 'LLDIFST', 'MARITST', 'OJPNLW', 'PASE1HR', 'MISSWK', 'IPLHP4', 'FALLCV', 'IADL2I', 'RXFLUOR', 'AMD712', 'BPCFSZ', 'CPSHR', 'PASE3HR', 'RXRFCXB', 'IADL2II', 'OTHVP2', 'DIABPR1', 'REMITM', 'QOVP2', 'HPNL7', 'HPNR12', 'ULCER', 'RXVIT_D', 'IADL1II', 'AMD412', 'IADL3', 'AALTMNT', 'IADL4II', 'BLSURD1', 'RXVLCXB', 'BPARM', 'IPRHP5', 'MRASTK3', 'CSPACE', 'WEEKWK', 'LIVE4', 'LLD3A', 'PSDATE', 'AAVBMS', 'LLD6B', 'LLD10A', 'URINOB1', 'SRQWT', 'UCDATE1', 'DIABPR2', 'URINHR2', 'IADL1I', 'P30VT6', 'SF12', 'ASTHMA', 'BPDAYCV', 'LMWHEN', 'ADL2A', 'IPRHP3', 'WLK20T1', 'P30VITE', 'RPSTFID', 'SF4', 'LGMEDS', 'HPNROL', 'P30VT3', 'IPRHP2', 'CPRHP5', 'AMD1012', 'CPRHP2', 'LLD15B', 'PA430', 'PASE2HR', 'HPNLB', 'REMOUT', 'SF2', 'CS5', 'SF6', 'HPR12CV', 'VEIN2', 'HPNRFL', 'RXNTRAT', 'HEMAT2', 'AMD812', 'CUREMP', 'ADHHS8', 'P30VITC', 'HOUACT4', 'P30VT7', 'HOUACT3', 'MEDINS', 'CPLHP4', 'LEAKAG1', 'HSMSS', 'HPNR7', 'LLD1A', 'P30VT9', 'BPDK', 'RPAVG', 'IPLHP2', 'CSTNUM1', 'RAMEDS', 'RXOSTRD', 'IPSHL', 'CHPNL7', 'IADL5I', 'WEIGHT', 'BONFX2', 'AAVMNT', 'WORK7', 'HOUACT6', 'POLYRH', 'HPFXFU', 'PASE1', 'HRTAT', 'CANCER', 'ADL6', 'LLD7A', 'CSTIME1', 'DIABPR3', 'PA430CV', 'P30VT4', 'LLDIFSP', 'SCSTFID', 'PLAQHR2', 'CPSHL', 'SMRIELG', 'VITCAMT', 'AAVMNF', 'BP30OFT', 'PSORIAS', 'RCSTFID', 'KPLK20B', 'LLD16B', 'LLD15A', 'URNCOLL', 'CEMPLOY', 'BP30', 'LLD5B', 'DIABTX1', 'KPLK20D', 'VITDAMT', 'RXGLCSM', 'BPBAD', 'PA330CV', 'BLDHRS2', 'LIVE3', 'PASE5', 'IHPNL7', 'LIVDAM', 'RXSAME', 'LLD2A', 'CPLHP5', 'RX30', 'BONFX14', 'RXCHOND', 'BPDIAS', 'URINOB2', 'LLD11A', 'FALL', 'HLTHCOV', 'AALTMNF', 'AMD212', 'DIABTX4', 'BPTERM', 'RXIHYAL', 'AAMVMNS', 'EXCESS1', 'TIMET2', 'KIDTRAN', 'LLD4A', 'OJPNNO', 'LUNG', 'PA230', 'BLUPMN1', 'P30VT10', 'ICPTSHR', 'PASE2', 'RXANALG', 'OJPNLH', 'BMICAT', 'LLD4B', 'PASE6', 'AMD312', 'BMI', 'BPSYS', 'IPSHR', 'AALTMNS', 'IADL4I', 'MRSEQNR', 'CPLHP3', 'V0820MPACE', 'CSTNUM2', 'BONFX', 'IADL1', 'WILLNGS', 'LLDIFSS', 'HLTHCAR', 'HOUACT1', 'LLD14A', 'SEAQHR1', 'SF10', 'OJPNRS', 'ALZDZ', 'SF5', 'HPNRB', 'BLUPMN2', 'PASE4', 'P30VT2', 'KPRK20B', 'RXCOX2', 'LLD12A', 'PASE', 'BPMB', 'VITEAMT', 'LLDILSI', 'AAVBMF', 'AMD512', 'EDTA', 'ADL2', 'HPNLLB', 'LLD7B', 'CPRHP1', 'PA330', 'LEAKAG2', 'VOID1', 'URSURD2', 'CPRHP4', 'IPLHP6', 'RXACTM', 'MULTST2', 'BPUB', 'SF9', 'VCOLL1', 'HPNRDK', 'LLD2B', 'IPRHP4', 'ANVDAYS', 'IADL3II', 'CROHNCO', 'W2STFID', 'SRGSTAT', 'ULCERDX', 'BPSTFID', 'PA530', 'CONFREC', 'PDATE1', 'PA130', 'LLD13B', 'HOUACT5', 'SF7', 'RXCLCTN', 'CITRATE', 'RADX', 'URINHR1', 'IPLHP5', 'BPACTCV', 'SF11', 'WPSTFID', 'HPNL12', 'LLD8A', 'BLSURD2', 'BONFX13', 'LIVE1', 'LLD11B', 'WLKAID', 'RX30NUM', 'P30VT5', 'LLD13A', 'STROKE', 'COMORB', 'SEAQHR2', 'STEPST2', 'WLK20T2', 'RXRALOX', 'BLDRAW2', 'LLD8B', 'BONFXOR', 'BONFX12', 'LLD9A', 'KIDFXN', 'RXNARC', 'IADL5', 'ADL1A', 'WORKAMT', 'HOUACT2', 'ADL10', 'RXMSM', 'HSPSS', 'SF1', 'OJPNRW', 'CPLHP1', 'APASTAT', 'HPNLDK', 'SF3', 'ADL10A', 'PNAFTS', 'PA530CV', 'PA130CV', 'AACSM03', 'ADL7A', 'BPBEDCV', 'OJPNLA', 'RXISTRD', 'LLD16A', 'DIAB', 'LLDILST', 'MULTST1', 'PSOARTH', 'OTHVP1', 'AAMDMNF', 'BLDCOLL', 'STEPST1', 'LLD5A', 'RXSALIC', 'KPRK20D', 'RXASPRN', 'LMPHCT', 'ADL4', 'ILLPWK1', 'URUPMN1', 'PDATE2', 'URUPMN2', 'BLDRAW1', 'LIVE2', 'PASE6HR', 'DFBCOLL', 'AMPA1', 'ADL9', 'IHPNR7', 'ADL1', 'WLKAFTS', 'LLD3B', 'ADL8', 'BPB', 'BLDHRS1', 'DIABTX3', 'DIABTX2', 'IPRHP6', 'LIVE5', 'HPL12CV', 'PA130NF', 'SF8', 'CPLHP2', 'AACNT', 'AAVBMT', 'ADHHSD8', 'HRTFAIL', 'P30VT1', 'HOURWK', 'LIVENO', 'LLD10B', 'HEMAT1', 'AMD912', 'CSTREP1', 'HOURSP1', 'BONFX11']\n",
      "\n",
      "allclinical10.sas7bdat: (4796, 1095)\n",
      "['PASE4HR', 'P30VITD', 'BONFXHP', 'NOA1AR2', 'SISKRCV', 'BPLB', 'BYPLEG', 'SMLCRCV', 'PASE3', 'WLC4', 'ACT9B', 'A1PCAR4', 'WTLS5', 'WKHR7CV', 'ACT17A', 'OJPNRA', 'HPNRIL', 'HOMECV', 'LLD14B', 'AMWHEN', 'STFID1', 'ACT3B', 'ILLCRCV', 'ACUSCV', 'MRSEQNL', 'RXNSAID', 'ADL3', 'ACT36C', 'ACT12A', 'IPLKN8', 'INCOME2', 'A2TMAR2', 'RXOTHAN', 'ACT28D', 'ICPTSHL', 'SLLCLCV', 'ASTMEDS', 'INCOME', 'WKYRAR4', 'AMD112', 'CANEUSE', 'CPRHP3', 'FONESPR', 'HPNLFL', 'CSTIME2', 'A3MOAR4', 'OJPNRE', 'LLD1B', 'CSTSGL', 'ACT35B', 'OJPNLS', 'HPNLOL', 'MRITEM3', 'HERB12', 'ABCIRC', 'IPRHP1', 'HPNRLB', 'RXBISPH', 'CHIRCUR', 'KPSTFID', 'ACT18D', 'OJPNRF', 'NOA2AR3', 'SMOKER', 'ACUTCUR', 'ACT12B', 'A1TMAR1', 'P30VT8', 'ACT18C', 'CSTREP2', 'ACT17B', 'AMD1312', 'OJPNLE', 'ACT2A', 'ACT25A', 'ACT36B', 'SF12GH', 'OCCAM96', 'WLC8', 'ACT15B', 'PASE1HR', 'MISSWK', 'IPLHP4', 'YOGACV', 'FALLCV', 'REASW2', 'PIPSTOP', 'A2MOAR2', 'PIPENEV', 'CPSHR', 'PASE3HR', 'WHE400W', 'ACT11A', 'RXRFCXB', 'IADL2II', 'ACT16D', 'NOA1AR1', 'DIABPR1', 'ACT19D', 'HVSTFID', 'DADHRCV', 'ULCER', 'IADL1II', 'WLR5', 'AMD412', 'NOA2AR2', 'RXVLCXB', 'BPARM', 'IPRHP5', 'WEEKWK', 'ACT26B', 'ACT25D', 'REASW3', 'ACT6D', 'IPRKN7', 'ACT11C', 'SRQWT', 'DIABPR2', 'IADL1I', 'P30VT6', 'PIPEAMT', 'MJLCRCV', 'ACT1B', 'ADL2A', 'REASW9', 'WLK20T1', 'RPSTFID', 'BUNSURG', 'ACUTNUM', 'CAM12', 'IPRHP2', 'CPRHP5', 'AMD1012', 'NOAYAR2', 'LLD15B', 'HPNLB', 'IPLHP8', 'NOAYAR4', 'ACT8B', 'ACT29D', 'REASW11', 'SF2', 'ACT23B', 'CS5', 'ACT5D', 'HPR12CV', 'HPNRFL', 'RXNTRAT', 'AMD812', 'CUREMP', 'ACT10C', 'P30VITC', 'ACUSCUR', 'HOUACT4', 'MJLCLCV', 'A1YRAR2', 'ACT24C', 'VITMCV', 'CPLHP4', 'LLD1A', 'ACT7D', 'BPDK', 'RPAVG', 'MOMKRCV', 'ACT25C', 'TMJEPN1', 'ACT32B', 'RAMEDS', 'IPSHL', 'CHPNL7', 'WLC6', 'ACT7A', 'ACT3A', 'WLM3', 'V10400PAIN', 'WORK7', 'HOUACT6', 'A3TMAR1', 'A2MOAR3', 'MASSCUR', 'ACT2B', 'HPFXFU', 'PASE1', 'ACT24A', 'SMKAGE', 'ACT1C', 'LLD7A', 'CSTIME1', 'LLDIFSP', 'ACT24D', 'SCSTFID', 'REASW13', 'SMKPKYR', 'W4STFID', 'ACT32A', 'SMRIELG', 'VITCAMT', 'WKTMAR1', 'PSORIAS', 'BROHRCV', 'ACT34C', 'SPIR12', 'KPLK20B', 'RESTT9', 'MASSCV', 'LLD16B', 'AC2AR4', 'CEMPLOY', 'ACT23A', 'ACT23D', 'DIABTX1', 'PSMOKER', 'WLC3', 'VITDAMT', 'RXGLCSM', 'TMJF30D', 'A2TMAR3', 'LIVE3', 'ACT34A', 'DKP400W', 'WALKER', 'ACT6B', 'IHPNL7', 'MREGLCV', 'LIVDAM', 'AC1AR3', 'REASW14', 'CPLHP5', 'TJE30WC', 'BPDIAS', 'RESTT1', 'LLD11A', 'FALL', 'BPTERM', 'RXIHYAL', 'AC2AR1', 'ACT34B', 'WLS3', 'VITM12', 'OJPNNO', 'LUNG', 'WKTMAR3', 'ICPTSHR', 'PASE2', 'RXANALG', 'SF12SF', 'OJPNLH', 'BMICAT', 'LLD4B', 'WLC7', 'WKTMAR2', 'AMD312', 'BMI', 'KPNR7', 'IPSHR', 'DISCOMF', 'ACT9D', 'PREGRCV', 'ACT8A', 'ACT37B', 'WLKAR3', 'IADL4I', 'WLM2', 'TMJE30A', 'BONFX', 'RELACV', 'WLS2', 'IADL1', 'WILLNGS', 'LREGRCV', 'LLDIFSS', 'BONFX4', 'LLD14A', 'OJPNRS', 'ALZDZ', 'WLM5', 'ACT8C', 'SF5', 'ACT1D', 'ACT22C', 'ACT5C', 'RESTT5', 'KRSL12', 'RXCOX2', 'A2YRAR2', 'PASE', 'HRB4WLK', 'VITEAMT', 'ACT15A', 'ACT28B', 'SMKNOW', 'BUNSGFT', 'ADL2', 'A2YRAR3', 'ACT17D', 'WLC1', 'CPRHP4', 'IPLHP6', 'HOMENUM', 'ACT33A', 'HOMECUR', 'WLC9', 'A3MOAR1', 'SF9', 'TMJF6M', 'HPNRDK', 'LLD2B', 'FAMKR', 'ACT21C', 'IPRHP4', 'LOCRCV', 'RESTT4', 'A3PCAR4', 'ACTNAB', 'V10400MTIM', 'ACT4C', 'A3YRAR3', 'CROHNCO', 'A3YRAR1', 'OTH400W', 'A1PCAR1', 'LPWKTYP', 'ULCERDX', 'ACT25B', 'DIETCV', 'A1YRAR3', 'MOMHRCV', 'RESTT3', 'CONFREC', 'ACT23C', 'RUBCV', 'SMLCLCV', 'SF7', 'RADX', 'A1MOAR1', 'IPLHP5', 'BNFXOT', 'ACT22D', 'SF11', 'HPNL12', 'WPSTFID', 'REASW12', 'ACT16B', 'AC3AR3', 'BONFX13', 'NOA3AR1', 'DIASELG', 'P30VT5', 'ACT30B', 'STROKE', 'WKMOAR1', 'STEPST2', 'ACT29C', 'ACT10D', 'RXRALOX', 'A3TMAR2', 'ACT8D', 'NOA2AR4', 'WLKAR4', 'SMOKE', 'IADL5', 'ADL1A', 'WLS4', 'ACT30D', 'ACT37A', 'HOUACT2', 'WKMOAR4', 'LWMDR', 'RXMSM', 'A1TMAR2', 'SF1', 'WTLSRG', 'ACT1A', 'DIET12', 'OJPNRW', 'REASW6', 'ACT15D', 'DRNKAMT', 'HPNLDK', 'HERBCV', 'SF3', 'ADL10A', 'ADL7A', 'ACT22A', 'BPBEDCV', 'ACT31A', 'OJPNLA', 'LLD16A', 'SMKAMT', 'A3MOAR2', 'LLDILST', 'PSOARTH', 'KPNL7', 'STEPST1', 'HR400WK', 'ACT32C', 'TMJE30D', 'RUBS12', 'LLD5A', 'RXSALIC', 'A3YRAR2', 'KPRK20D', 'RXASPRN', 'ADL4', 'AC1AR1', 'PASE6HR', 'ACT27C', 'PGLBLCV', 'IHPNR7', 'ADL1', 'A1YRAR4', 'LLD3B', 'SREPRKR', 'MRKSIDE', 'A2YRAR1', 'IPRHP6', 'ACT19C', 'MASSNUM', 'HPL12CV', 'SF12BP', 'LJLCLCV', 'ACT10B', 'P30VT1', 'HOURWK', 'LIVENO', 'A2MOAR1', 'LLD10B', 'KEXAMK', 'ACT35A', 'KRSR12', 'A1YRAR1', 'BROKRCV', 'RPN400W', 'ACT5B', 'KYPH', 'RXTPRTD', 'PASE5HR', 'LOCLCV', 'ACT20C', 'IPRKN8', 'LLD12B', 'ACT20A', 'RAIA12', 'BONFX1', 'BRACCV', 'TIMET1', 'ENERNUM', 'LLD9B', 'ACT37C', 'IADL4', 'ADL6A', 'IPLHP7', 'ACT31B', 'REASW5', 'SF12RE', 'ADL5A', 'WLS6', 'WKYRAR2', 'SMKSTOP', 'ACUTCV', 'REASW1', 'ACT10A', 'ACT33C', 'AMD1512', 'KPLLELG', 'ACT34D', 'ACT36A', 'KYPHB', 'HOSPSUR', 'RA', 'ACT27A', 'ACT36D', 'ACT13A', 'A2PCAR4', 'ACT2C', 'ADL7', 'IPLHP1', 'OJPNNK', 'ANKSPON', 'IADL3I', 'HPNLIL', 'CHPNR7', 'SSDATE', 'PIPENOW', 'OJPNLF', 'ACT14C', 'A3PCAR1', 'RESTT6', 'ACTNAC', 'AMD612', 'IPLHP3', 'SF12RP', 'PN400W', 'PSGOUT', 'IADL2', 'AC3AR4', 'ACT14B', 'BPTOT', 'OJPNRH', 'BONFX5', 'RXCLCXB', 'ACT33D', 'WKYRAR3', 'WKMOAR3', 'LLD6A', 'REASW16', 'IPRHP8', 'ACT29A', 'CHIRCV', 'AC1AR4', 'AC3AR2', 'OTREASM', 'NOA1AR4', 'LLDILSM', 'HRELG', 'ACT7C', 'CHELCUR', 'ADL5', 'IADL5II', 'BONFX6', 'A2MOAR4', 'SPIRCV', 'LLDIFST', 'LJLCRCV', 'MARITST', 'OJPNLW', 'BRAC12', 'OHCAM96', 'ACT3D', 'IADL2I', 'PIPEAGE', 'RXFLUOR', 'AMD712', 'ACT18A', 'BPCFSZ', 'CAPSNCV', 'IPRHP7', 'RELA12', 'V10400MCMP', 'REMITM', 'ACT37D', 'A3PCAR3', 'WKYRAR1', 'SAFEWLK', 'A2PCAR1', 'HPNR12', 'SLLCRCV', 'RXVIT_D', 'TLSWT', 'ACT33B', 'SISHRCV', 'IADL3', 'WLC1IL', 'IADL4II', 'ACT26D', 'V10400MTR', 'AC1AR2', 'LIVE4', 'MRASTK3', 'CSPACE', 'LLD3A', 'NOA3AR4', 'STFID2', 'LLD6B', 'ACTNAD', 'WKMOAR2', 'LLD10A', 'ACT12C', 'SMKAVE', 'RESTT8', 'SF12', 'ASTHMA', 'BPDAYCV', 'LMWHEN', 'A1PCAR3', 'IPRHP3', 'P30VITE', 'SF4', 'LGMEDS', 'HPNROL', 'P30VT3', 'ACT13B', 'ACT30A', 'ACT7B', 'CPRHP2', 'RFP400W', 'SF12VT', 'PASE2HR', 'AMD1112', 'REMOUT', 'A3PCAR2', 'DADKRCV', 'SF6', 'ACT3C', 'RESTT10', 'A1MOAR2', 'CHELNUM', 'A1PCAR2', 'P30VT7', 'HOUACT3', 'BKRGLCV', 'MEDINS', 'ACT16A', 'HSMSS', 'CHIRNUM', 'P30VT9', 'IPLHP2', 'CSTNUM1', 'RXOSTRD', 'WLS1', 'TMJE6M', 'IADL5I', 'NOA1AR3', 'WEIGHT', 'ACT29B', 'BONFX2', 'ACT16C', 'COMP10', 'NOA3AR3', 'RESTT7', 'ACT4B', 'ACT19B', 'NPN400W', 'POLYRH', 'SF12MH', 'HEIGHT', 'ACT31C', 'HRTAT', 'LPN400W', 'A2YRAR4', 'CANCER', 'ADL6', 'ENERCUR', 'A3YRAR4', 'DIABPR3', 'P30VT4', 'WLC2', 'BKRGRCV', 'CPSHL', 'A2TMAR4', 'SMKNEV', 'BP30OFT', 'RESTT2', 'ACT19A', 'RCSTFID', 'WLR4', 'LLD15A', 'BP30', 'ACUSNUM', 'LLD5B', 'AC2AR3', 'KPLK20D', 'NOA3AR2', 'WLC5', 'NOAYAR1', 'ACT27B', 'A2TMAR1', 'ACT28A', 'ACT21B', 'BPBAD', 'SYSELG', 'ACT14A', 'PASE5', 'RXSAME', 'LLD2A', 'WLKAR2', 'RX30', 'BONFX14', 'RXCHOND', 'TJF30WC', 'HLTHCOV', 'AMD212', 'DIABTX4', 'ACT6A', 'ILLCLCV', 'ACT24B', 'TIMET2', 'WLS5', 'LLD4A', 'P30VT10', 'WLM4', 'A2PCAR2', 'MREGRCV', 'TJE30CV', 'AMD1412', 'PASE6', 'BPSYS', 'FAMHR', 'AC2AR2', 'SREPLKR', 'MRSEQNR', 'REASW4', 'CPLHP3', 'RPWKPRV', 'CSTNUM2', 'ACT15C', 'TJF30CV', 'WLKAR1', 'PIPE', 'ACT2D', 'HLTHCAR', 'A1TMAR4', 'HOUACT1', 'CHELCV', 'ACT31D', 'SF10', 'V1020MPACE', 'WLR1', 'ACT32D', 'HPNRB', 'PASE4', 'WLR3', 'P30VT2', 'KPRK20B', 'WTPTN', 'ACT20B', 'DRKMORE', 'LLD12A', 'ACT26A', 'ACT28C', 'BPMB', 'LLDILSI', 'AMD512', 'IMLCLCV', 'HPNLLB', 'LLD7B', 'CPRHP1', 'ACT27D', 'RXACTM', 'ACT22B', 'ACSTFID', 'BPUB', 'WLR2', 'W20COMP', 'REASW8', 'NOA2AR1', 'REASW7', 'HR135', 'RPWKTYP', 'ACT21D', 'ACTNAA', 'IADL3II', 'W2STFID', 'ACT21A', 'HXVGRF', 'ACT35D', 'ACT9C', 'BPSTFID', 'NOAYAR3', 'LLD13B', 'SF12PF', 'HOUACT5', 'REASW10', 'RXCLCTN', 'NUMSTOP', 'BPACTCV', 'HXVGLF', 'LLD8A', 'LIVE1', 'SOB400W', 'WLKAID', 'LLD11B', 'RX30NUM', 'ACT13C', 'LLD13A', 'ACT13D', 'COMORB', 'WLK20T2', 'ACT5A', 'LLD8B', 'BONFX12', 'LLD9A', 'KIDFXN', 'WLM1', 'WLR6', 'ACT11B', 'RXNARC', 'WORKAMT', 'ADL10', 'ACT26C', 'A3TMAR4', 'IPLKN7', 'ENERCV', 'ACT30C', 'ACT6C', 'WTLSYR', 'HSPSS', 'FONESPL', 'ACT17C', 'LPWKPRV', 'ACT4A', 'CPLHP1', 'PNAFTS', 'A1MOAR3', 'ACT14D', 'RXISTRD', 'IMLCRCV', 'DIAB', 'ACT12D', 'PLOCRCV', 'TMJF30A', 'ACT4D', 'REASW15', 'A1TMAR3', 'A3TMAR3', 'CALLDOC', 'PGLBRCV', 'TMJFPN1', 'AMD1212', 'ACT20D', 'LIVE2', 'WKTMAR4', 'LREGLCV', 'A2PCAR3', 'A3MOAR3', 'ADL9', 'WLKAFTS', 'ADL8', 'BPB', 'ACT11D', 'DIABTX3', 'DIABTX2', 'PLOCLCV', 'YOGA12', 'AC3AR1', 'LIVE5', 'PSMKYR', 'MAXCIRC', 'SF8', 'CPLHP2', 'V10400EXCL', 'ACT18B', 'HRTFAIL', 'ACT9A', 'ACT35C', 'A1MOAR4', 'AMD912', 'KPLRELG', 'PREGLCV', 'CSTREP1']\n",
      "\n",
      "allclinical11.sas7bdat: (4796, 195)\n",
      "['RPN400W', 'PASE4HR', 'ACT5B', 'P30VITD', 'KYPH', 'BONFXHP', 'RXTPRTD', 'NOA1AR2', 'PASE5HR', 'LOCLCV', 'SISKRCV', 'ACT20C', 'BPLB', 'BYPLEG', 'CSQPRHP', 'IPRKN8', 'LLD12B', 'SMLCRCV', 'ACT20A', 'RAIA12', 'PASE3', 'WLC4', 'ACT9B', 'BONFX1', 'A1PCAR4', 'BRACCV', 'TIMET1', 'COPE12', 'ENERNUM', 'LLD9B', 'ACT37C', 'WTLS5', 'CPLKN2', 'IADL4', 'WKHR7CV', 'IPLKN3', 'ADL6A', 'IPLHP7', 'ACT31B', 'ACT17A', 'OJPNRA', 'IPLKN6', 'CESD16', 'REASW5', 'SF12RE', 'COPE4', 'ADL5A', 'WLS6', 'HOMECV', 'LLD14B', 'AMWHEN', 'STFID1', 'WKYRAR2', 'ACT3B', 'SMKSTOP', 'ILLCRCV', 'ACUTCV', 'ACUSCV', 'REASW1', 'MRSEQNL', 'RXNSAID', 'ACT10A', 'ACT33C', 'ADL3', 'AMD1512', 'KPLLELG', 'ACT36C', 'ACT12A', 'ACT34D', 'IPLKN8', 'INCOME2', 'A2TMAR2', 'ACT36A', 'CPLKN5', 'KYPHB', 'RXOTHAN', 'HOSPSUR', 'RA', 'ACT27A', 'ACT28D', 'ACT36D', 'ICPTSHL', 'ACT13A', 'A2PCAR4', 'ACT2C', 'ADL7', 'SLLCLCV', 'ASTMEDS', 'IPLHP1', 'INCOME', 'COPE8', 'WKYRAR4', 'OJPNNK', 'ANKSPON', 'IPRKN5', 'AMD112', 'CANEUSE', 'IADL3I', 'CPRHP3', 'CHPNR7', 'IKPNL7', 'SSDATE', 'PIPENOW', 'FONESPR', 'OJPNLF', 'ACT14C', 'CSTIME2', 'A3PCAR1', 'A3MOAR4', 'ESTR', 'RESTT6', 'ACTNAC', 'OJPNRE', 'LLD1B', 'CSTSGL', 'ACT35B', 'AMD612', 'OJPNLS', 'IPLHP3', 'MRITEM3', 'SF12RP', 'PN400W', 'PSGOUT', 'IADL2', 'AC3AR4', 'CESD3', 'ACT14B', 'BPTOT', 'OJPNRH', 'BONFX5', 'IPRKN2', 'HERB12', 'ABCIRC', 'RXCLCXB', 'IPRHP1', 'ACT33D', 'WKYRAR3', 'WKMOAR3', 'COPE13', 'LLD6A', 'REASW16', 'IPRHP8', 'RXBISPH', 'ACT29A', 'CHIRCUR', 'KPSTFID', 'ACT18D', 'PTH', 'OJPNRF', 'TESTUSE', 'CHIRCV', 'NOA2AR3', 'SMOKER', 'ACUTCUR', 'ACT12B', 'AC1AR4', 'AC3AR2', 'IPLKN5', 'OTREASM', 'A1TMAR1', 'NOA1AR4', 'P30VT8', 'LLDILSM', 'HRELG', 'ACT18C', 'IKPNR7', 'ACT7C', 'CSTREP2', 'ACT17B', 'CHELCUR', 'AMD1312', 'OJPNLE', 'ADL5', 'IADL5II', 'BONFX6', 'ACT2A', 'ACT25A', 'ACT36B', 'OCCAM96', 'A2MOAR4', 'SPIRCV', 'LLDIFST', 'LJLCRCV', 'WLC8', 'ACT15B', 'CESD13', 'MARITST', 'PASE1HR', 'OJPNLW', 'MISSWK', 'IPLHP4', 'BRAC12', 'YOGACV', 'OHCAM96', 'ACT3D', 'FALLCV', 'REASW2', 'IADL2I', 'PIPEAGE', 'PIPSTOP', 'IPSKL', 'A2MOAR2', 'RXFLUOR', 'PIPENEV', 'AMD712', 'ACT18A', 'BPCFSZ', 'CPSHR', 'CAPSNCV', 'PASE3HR', 'WHE400W', 'ICPTSKR', 'ACT11A', 'RXRFCXB', 'IADL2II', 'IPRHP7', 'RELA12', 'ACT16D', 'V10400MCMP', 'NOA1AR1', 'DIABPR1', 'ACT19D', 'REMITM', 'ACT37D', 'A3PCAR3', 'WKYRAR1', 'SAFEWLK', 'A2PCAR1', 'HVSTFID', 'DADHRCV', 'ULCER', 'IADL1II', 'WLR5', 'AMD412', 'NOA2AR2', 'SLLCRCV', 'RXVIT_D', 'TLSWT', 'ACT33B', 'SISHRCV', 'IADL3', 'WLC1IL', 'IADL4II', 'ACT26D', 'V10400MTR', 'RXVLCXB', 'BPARM', 'IPRHP5', 'WEEKWK', 'ACT26B', 'AC1AR2', 'LIVE4', 'MRASTK3', 'CSPACE', 'LLD3A', 'NOA3AR4', 'STFID2', 'LLD6B', 'ACTNAD', 'WKMOAR2', 'LLD10A', 'ACT25D', 'ACT12C', 'REASW3', 'ACT6D', 'IPRKN7', 'SMKAVE', 'ACT11C', 'SRQWT', 'RESTT8', 'DIABPR2', 'IADL1I', 'P30VT6', 'COPE9', 'SF12', 'PIPEAMT', 'ASTHMA', 'BPDAYCV', 'MJLCRCV', 'ACT1B', 'LMWHEN', 'A1PCAR3', 'ADL2A', 'REASW9', 'IPRHP3', 'WLK20T1', 'RPSTFID', 'BUNSURG', 'P30VITE', 'ACUTNUM', 'SF4', 'LGMEDS', 'CAM12', 'P30VT3', 'IPRHP2', 'ACT13B', 'COPE1', 'ACT30A', 'CPRHP5', 'COPE3', 'ACT7B', 'AMD1012', 'CPRHP2', 'RFP400W', 'NOAYAR2', 'SF12VT', 'LLD15B', 'CSQCAT', 'IPLHP8', 'NOAYAR4', 'ACT8B', 'ACT29D', 'PASE2HR', 'AMD1112', 'REMOUT', 'A3PCAR2', 'REASW11', 'DADKRCV', 'SF2', 'ACT23B', 'CS5', 'SF6', 'ACT5D', 'RXNTRAT', 'ACT3C', 'AMD812', 'CUREMP', 'ACT10C', 'RESTT10', 'P30VITC', 'ACUSCUR', 'A1MOAR2', 'HOUACT4', 'CHELNUM', 'A1PCAR2', 'P30VT7', 'HOUACT3', 'MJLCLCV', 'ESTRUSE', 'A1YRAR2', 'ACT24C', 'VITMCV', 'BKRGLCV', 'CESD19', 'MEDINS', 'CPLHP4', 'IPRKN6', 'ACT16A', 'HSMSS', 'LLD1A', 'ACT7D', 'CHIRNUM', 'BPDK', 'P30VT9', 'RPAVG', 'MOMKRCV', 'ACT25C', 'IPLHP2', 'TMJEPN1', 'ACT32B', 'CSTNUM1', 'RAMEDS', 'RXOSTRD', 'IPSHL', 'WLS1', 'CHPNL7', 'TMJE6M', 'IADL5I', 'NOA1AR3', 'WEIGHT', 'ACT29B', 'BONFX2', 'WLC6', 'ACT16C', 'COMP10', 'ACT7A', 'NOA3AR3', 'CESD20', 'ACT3A', 'RESTT7', 'ACT4B', 'ACT19B', 'NPN400W', 'WLM3', 'V10400PAIN', 'WORK7', 'HOUACT6', 'POLYRH', 'A3TMAR1', 'A2MOAR3', 'MASSCUR', 'ACT2B', 'SF12MH', 'HPFXFU', 'PASE1', 'CESD11', 'HEIGHT', 'ACT24A', 'ACT31C', 'SMKAGE', 'CPLKN1', 'HRTAT', 'LPN400W', 'A2YRAR4', 'CANCER', 'CSQIGSN', 'ADL6', 'ACT1C', 'ENERCUR', 'LLD7A', 'A3YRAR4', 'CESD', 'CSTIME1', 'LLDIFSP', 'DIABPR3', 'P30VT4', 'ACT24D', 'SCSTFID', 'REASW13', 'WLC2', 'SMKPKYR', 'BKRGRCV', 'W4STFID', 'COPE14', 'CPSHL', 'ACT32A', 'SMRIELG', 'VITCAMT', 'A2TMAR4', 'WKTMAR1', 'SMKNEV', 'BP30OFT', 'RESTT2', 'PSORIAS', 'ACT19A', 'BROHRCV', 'ACT34C', 'RCSTFID', 'SPIR12', 'KPLK20B', 'RESTT9', 'MASSCV', 'LLD16B', 'AC2AR4', 'WLR4', 'COPE11', 'LLD15A', 'CESD14', 'CEMPLOY', 'ACT23A', 'ACT23D', 'CESD2', 'CKPNL7', 'BP30', 'ACUSNUM', 'DIABTX1', 'LLD5B', 'PSMOKER', 'AC2AR3', 'KPLK20D', 'NOA3AR2', 'WLC5', 'WLC3', 'NOAYAR1', 'ACT27B', 'VITDAMT', 'RXGLCSM', 'A2TMAR1', 'ACT28A', 'TMJF30D', 'ACT21B', 'BPBAD', 'SYSELG', 'ICPTSKL', 'A2TMAR3', 'ACT14A', 'LIVE3', 'ACT34A', 'CESD9', 'DKP400W', 'WALKER', 'ACT6B', 'PASE5', 'IHPNL7', 'MREGLCV', 'LIVDAM', 'AC1AR3', 'REASW14', 'RXSAME', 'LLD2A', 'CPLHP5', 'WLKAR2', 'RX30', 'BONFX14', 'RXCHOND', 'TJE30WC', 'BPDIAS', 'TJF30WC', 'RESTT1', 'LLD11A', 'FALL', 'HLTHCOV', 'AMD212', 'DIABTX4', 'ACT6A', 'BPTERM', 'CESD12', 'ILLCLCV', 'RXIHYAL', 'AC2AR1', 'ACT24B', 'TIMET2', 'WLS5', 'ACT34B', 'WLS3', 'VITM12', 'IPLKN4', 'OJPNNO', 'LLD4A', 'LUNG', 'CSQDVAT', 'WKTMAR3', 'P30VT10', 'WLM4', 'ICPTSHR', 'A2PCAR2', 'PASE2', 'RXANALG', 'CSQRPS', 'SF12SF', 'OJPNLH', 'MREGRCV', 'BMICAT', 'TJE30CV', 'LLD4B', 'WLC7', 'WKTMAR2', 'AMD1412', 'AMD312', 'COPE5', 'BMI', 'PASE6', 'BPSYS', 'IPRKN1', 'FAMHR', 'IPSHR', 'DISCOMF', 'ACT9D', 'PREGRCV', 'ACT8A', 'ACT37B', 'AC2AR2', 'SREPLKR', 'WLKAR3', 'IADL4I', 'MRSEQNR', 'REASW4', 'WLM2', 'TMJE30A', 'CPLHP3', 'RPWKPRV', 'CSTNUM2', 'BONFX', 'RELACV', 'IPSKR', 'ACT15C', 'TJF30CV', 'PTHUSE', 'WLKAR1', 'WLS2', 'IADL1', 'WILLNGS', 'LREGRCV', 'LLDIFSS', 'PIPE', 'ACT2D', 'HLTHCAR', 'A1TMAR4', 'HOUACT1', 'BONFX4', 'CHELCV', 'LLD14A', 'CESD1', 'ACT31D', 'SF10', 'V1020MPACE', 'OJPNRS', 'ALZDZ', 'WLM5', 'ACT8C', 'CESD7', 'WLR1', 'SF5', 'ACT32D', 'ACT1D', 'PASE4', 'WLR3', 'ACT22C', 'COPE7', 'ACT5C', 'RESTT5', 'P30VT2', 'KPRK20B', 'WTPTN', 'ACT20B', 'DRKMORE', 'RXCOX2', 'A2YRAR2', 'LLD12A', 'ACT26A', 'PASE', 'HRB4WLK', 'ACT28C', 'BPMB', 'VITEAMT', 'ACT15A', 'CPLKN4', 'CSQIBA', 'ACT28B', 'LLDILSI', 'SMKNOW', 'AMD512', 'IMLCLCV', 'BUNSGFT', 'ADL2', 'LLD7B', 'A2YRAR3', 'CPRHP1', 'CESD10', 'ACT17D', 'WLC1', 'ACT27D', 'CPRHP4', 'IPLHP6', 'RXACTM', 'CPRKN4', 'ACT22B', 'HOMENUM', 'ACT33A', 'ACSTFID', 'BPUB', 'WLR2', 'HOMECUR', 'WLC9', 'A3MOAR1', 'SF9', 'TMJF6M', 'CPLKN3', 'LLD2B', 'W20COMP', 'FAMKR', 'REASW8', 'IPLKN1', 'ACT21C', 'IPRKN3', 'IPRHP4', 'LOCRCV', 'CPSKL', 'NOA2AR1', 'REASW7', 'RESTT4', 'A3PCAR4', 'ACTNAB', 'V10400MTIM', 'CKPNR7', 'CESD5', 'ACT4C', 'HR135', 'RPWKTYP', 'ACT21D', 'ACTNAA', 'IADL3II', 'A3YRAR3', 'CROHNCO', 'A3YRAR1', 'OTH400W', 'A1PCAR1', 'W2STFID', 'ACT21A', 'LPWKTYP', 'ULCERDX', 'HXVGRF', 'ACT35D', 'ACT9C', 'ACT25B', 'DIETCV', 'BPSTFID', 'NOAYAR3', 'CPRKN2', 'A1YRAR3', 'MOMHRCV', 'RESTT3', 'CONFREC', 'ACT23C', 'LLD13B', 'SF12PF', 'HOUACT5', 'RUBCV', 'SMLCLCV', 'COPE2', 'SF7', 'REASW10', 'GNRH', 'RXCLCTN', 'NUMSTOP', 'RADX', 'A1MOAR1', 'IPLHP5', 'BNFXOT', 'ACT22D', 'BPACTCV', 'CESD6', 'SF11', 'WPSTFID', 'REASW12', 'HXVGLF', 'ACT16B', 'AC3AR3', 'LLD8A', 'BONFX13', 'NOA3AR1', 'LIVE1', 'SOB400W', 'WLKAID', 'LLD11B', 'DIASELG', 'RX30NUM', 'P30VT5', 'ACT13C', 'ACT30B', 'LLD13A', 'COPE10', 'ACT13D', 'STROKE', 'WKMOAR1', 'COMORB', 'STEPST2', 'ACT29C', 'COPE6', 'ACT10D', 'WLK20T2', 'RXRALOX', 'ACT5A', 'LLD8B', 'A3TMAR2', 'BONFX12', 'LLD9A', 'ACT8D', 'KIDFXN', 'WLM1', 'NOA2AR4', 'WLKAR4', 'WLR6', 'ACT11B', 'RXNARC', 'SMOKE', 'IADL5', 'ADL1A', 'WLS4', 'ACT30D', 'ACT37A', 'WORKAMT', 'HOUACT2', 'ADL10', 'CPRKN5', 'ACT26C', 'A3TMAR4', 'IPLKN7', 'ENERCV', 'WKMOAR4', 'ACT30C', 'LWMDR', 'ACT6C', 'CPRKN1', 'RXMSM', 'WTLSYR', 'A1TMAR2', 'HSPSS', 'WTLSRG', 'ACT1A', 'DIET12', 'OJPNRW', 'FONESPL', 'ACT17C', 'REASW6', 'ACT15D', 'LPWKPRV', 'ACT4A', 'CPLHP1', 'DRNKAMT', 'HERBCV', 'SF3', 'GNRHUSE', 'CESD4', 'ADL10A', 'PNAFTS', 'CPRKN3', 'A1MOAR3', 'ACT14D', 'ADL7A', 'ACT22A', 'BPBEDCV', 'ACT31A', 'OJPNLA', 'LLD16A', 'RXISTRD', 'SMKAMT', 'IMLCRCV', 'DIAB', 'ACT12D', 'PLOCRCV', 'A3MOAR2', 'TMJF30A', 'LLDILST', 'PSOARTH', 'ACT4D', 'REASW15', 'CPSKR', 'STEPST1', 'HR400WK', 'IPLKN2', 'ACT32C', 'TMJE30D', 'RUBS12', 'LLD5A', 'CESD15', 'A1TMAR3', 'IPRKN4', 'A3TMAR3', 'RXSALIC', 'CESD8', 'A3YRAR2', 'KPRK20D', 'RXASPRN', 'ADL4', 'CALLDOC', 'PGLBRCV', 'TMJFPN1', 'AMD1212', 'ACT20D', 'AC1AR1', 'LIVE2', 'PASE6HR', 'WKTMAR4', 'LREGLCV', 'ACT27C', 'PGLBLCV', 'A2PCAR3', 'A3MOAR3', 'ADL9', 'IHPNR7', 'ADL1', 'WLKAFTS', 'A1YRAR4', 'LLD3B', 'ADL8', 'SREPRKR', 'MRKSIDE', 'BPB', 'ACT11D', 'A2YRAR1', 'DIABTX3', 'DIABTX2', 'IPRHP6', 'ACT19C', 'MASSNUM', 'PLOCLCV', 'YOGA12', 'SF12BP', 'AC3AR1', 'LIVE5', 'PSMKYR', 'CESD18', 'MAXCIRC', 'SF8', 'CPLHP2', 'LJLCLCV', 'ACT10B', 'V10400EXCL', 'ACT18B', 'P30VT1', 'HRTFAIL', 'TEST', 'ACT9A', 'ACT35C', 'CESD17', 'HOURWK', 'LIVENO', 'A2MOAR1', 'LLD10B', 'CSQCSS', 'A1MOAR4', 'AMD912', 'KEXAMK', 'ACT35A', 'A1YRAR1', 'KPLRELG', 'PREGLCV', 'CSTREP1', 'BROKRCV']\n",
      "\n",
      "Total rows: 48742\n"
     ]
    }
   ],
   "source": [
    "prefix = 'allclinical'\n",
    "column_uniformity_check(prefix)"
   ]
  },
  {
   "cell_type": "code",
   "execution_count": 57,
   "id": "b47b4ed0",
   "metadata": {
    "execution": {
     "iopub.execute_input": "2023-12-21T21:00:21.956555Z",
     "iopub.status.busy": "2023-12-21T21:00:21.956272Z",
     "iopub.status.idle": "2023-12-21T21:01:06.732398Z",
     "shell.execute_reply": "2023-12-21T21:01:06.731779Z",
     "shell.execute_reply.started": "2023-12-21T21:00:21.956531Z"
    },
    "pycharm": {
     "name": "#%%\n"
    },
    "tags": []
   },
   "outputs": [
    {
     "name": "stdout",
     "output_type": "stream",
     "text": [
      "allclinical00.sas7bdat\tVar Cnt: 1187\n",
      "Visits: ['P01', 'P02', 'V00']\n",
      "allclinical01.sas7bdat\tVar Cnt: 575\n",
      "Visits: ['V01']\n",
      "allclinical02.sas7bdat\tVar Cnt: 229\n",
      "Visits: ['V02']\n",
      "allclinical03.sas7bdat\tVar Cnt: 779\n",
      "Visits: ['V03']\n",
      "allclinical04.sas7bdat\tVar Cnt: 229\n",
      "Visits: ['V04']\n",
      "allclinical05.sas7bdat\tVar Cnt: 605\n",
      "Visits: ['V05']\n",
      "allclinical06.sas7bdat\tVar Cnt: 903\n",
      "Visits: ['V06']\n",
      "allclinical07.sas7bdat\tVar Cnt: 257\n",
      "Visits: ['V07']\n",
      "allclinical08.sas7bdat\tVar Cnt: 703\n",
      "Visits: ['V08']\n",
      "allclinical09.sas7bdat\tVar Cnt: 259\n",
      "Visits: ['V09']\n",
      "allclinical10.sas7bdat\tVar Cnt: 1095\n",
      "Visits: ['V10']\n",
      "allclinical11.sas7bdat\tVar Cnt: 195\n",
      "Visits: ['V11']\n",
      "(58334, 1851)\n",
      "\n",
      "Starting dataframe size: 753.43MB\n"
     ]
    }
   ],
   "source": [
    "tmp_df = create_df(prefix)\n",
    "print(tmp_df.shape)\n",
    "print('\\nStarting dataframe size: {:.2f}MB'.format(tmp_df.memory_usage(deep=True).sum() / (1024**2)))"
   ]
  },
  {
   "cell_type": "markdown",
   "id": "d4b8f860",
   "metadata": {},
   "source": [
    "Note the compression from 7016 variables to 1851."
   ]
  },
  {
   "cell_type": "code",
   "execution_count": 58,
   "id": "77f20c31",
   "metadata": {
    "execution": {
     "iopub.execute_input": "2023-12-21T21:01:06.733757Z",
     "iopub.status.busy": "2023-12-21T21:01:06.733398Z",
     "iopub.status.idle": "2023-12-21T21:01:21.255577Z",
     "shell.execute_reply": "2023-12-21T21:01:21.255023Z",
     "shell.execute_reply.started": "2023-12-21T21:01:06.733737Z"
    },
    "pycharm": {
     "name": "#%%\n"
    },
    "tags": []
   },
   "outputs": [],
   "source": [
    "data_stats_df, done_df = gather_column_data_stats(tmp_df)"
   ]
  },
  {
   "cell_type": "code",
   "execution_count": 59,
   "id": "84d486ab",
   "metadata": {
    "execution": {
     "iopub.execute_input": "2023-12-21T21:01:21.256493Z",
     "iopub.status.busy": "2023-12-21T21:01:21.256367Z",
     "iopub.status.idle": "2023-12-21T21:01:21.282698Z",
     "shell.execute_reply": "2023-12-21T21:01:21.281962Z",
     "shell.execute_reply.started": "2023-12-21T21:01:21.256476Z"
    },
    "pycharm": {
     "name": "#%%\n"
    },
    "tags": []
   },
   "outputs": [
    {
     "name": "stdout",
     "output_type": "stream",
     "text": [
      "Already defined cols: 1503 \tCols to convert: 348\t Total col cnt: 1851\n",
      "\n",
      "Column types to convert:\n",
      "   str_cnt  num_cnt  date_cnt  na_cnt  count\n",
      "0    False    False      True   False      6\n",
      "1    False     True     False    True      2\n",
      "2     True    False     False   False     22\n",
      "3     True    False      True   False      1\n",
      "4     True     True     False   False    317\n",
      "\n",
      "Numeric types of columns:\n",
      "num_type\n",
      "float       190\n",
      "unsigned    122\n",
      "na           29\n",
      "signed        7\n",
      "Name: count, dtype: int64\n",
      "\n",
      "Largest number of unique strings: 187.0\n"
     ]
    },
    {
     "data": {
      "text/html": [
       "<div>\n",
       "<style scoped>\n",
       "    .dataframe tbody tr th:only-of-type {\n",
       "        vertical-align: middle;\n",
       "    }\n",
       "\n",
       "    .dataframe tbody tr th {\n",
       "        vertical-align: top;\n",
       "    }\n",
       "\n",
       "    .dataframe thead th {\n",
       "        text-align: right;\n",
       "    }\n",
       "</style>\n",
       "<table border=\"1\" class=\"dataframe\">\n",
       "  <thead>\n",
       "    <tr style=\"text-align: right;\">\n",
       "      <th></th>\n",
       "      <th>label</th>\n",
       "      <th>uniq_strs</th>\n",
       "      <th>str_list</th>\n",
       "      <th>missing_val_cnt</th>\n",
       "      <th>missing_val_list</th>\n",
       "      <th>numeric_str</th>\n",
       "      <th>num_type</th>\n",
       "      <th>uniq_num</th>\n",
       "      <th>max_num</th>\n",
       "      <th>min_num</th>\n",
       "      <th>str_cnt</th>\n",
       "      <th>num_cnt</th>\n",
       "      <th>date_cnt</th>\n",
       "      <th>na_cnt</th>\n",
       "    </tr>\n",
       "    <tr>\n",
       "      <th>col</th>\n",
       "      <th></th>\n",
       "      <th></th>\n",
       "      <th></th>\n",
       "      <th></th>\n",
       "      <th></th>\n",
       "      <th></th>\n",
       "      <th></th>\n",
       "      <th></th>\n",
       "      <th></th>\n",
       "      <th></th>\n",
       "      <th></th>\n",
       "      <th></th>\n",
       "      <th></th>\n",
       "      <th></th>\n",
       "    </tr>\n",
       "  </thead>\n",
       "  <tbody>\n",
       "    <tr>\n",
       "      <th>KPNR12M</th>\n",
       "      <td>SV:Q15ai.Right knee pain, aching or stiffness:...</td>\n",
       "      <td>0.0</td>\n",
       "      <td>{}</td>\n",
       "      <td>3</td>\n",
       "      <td>{A, M, D}</td>\n",
       "      <td>False</td>\n",
       "      <td>unsigned</td>\n",
       "      <td>13</td>\n",
       "      <td>12.0</td>\n",
       "      <td>1.0</td>\n",
       "      <td>28211</td>\n",
       "      <td>12873</td>\n",
       "      <td>0</td>\n",
       "      <td>0</td>\n",
       "    </tr>\n",
       "    <tr>\n",
       "      <th>KPNL12M</th>\n",
       "      <td>SV:Q18ai.Left knee pain, aching or stiffness: ...</td>\n",
       "      <td>0.0</td>\n",
       "      <td>{}</td>\n",
       "      <td>3</td>\n",
       "      <td>{A, M, D}</td>\n",
       "      <td>False</td>\n",
       "      <td>unsigned</td>\n",
       "      <td>14</td>\n",
       "      <td>12.0</td>\n",
       "      <td>0.0</td>\n",
       "      <td>28711</td>\n",
       "      <td>12373</td>\n",
       "      <td>0</td>\n",
       "      <td>0</td>\n",
       "    </tr>\n",
       "    <tr>\n",
       "      <th>TMJE30D</th>\n",
       "      <td>SV:Q45bi.TMJ: jaw joint or in front of ear, ho...</td>\n",
       "      <td>0.0</td>\n",
       "      <td>{}</td>\n",
       "      <td>2</td>\n",
       "      <td>{A, D}</td>\n",
       "      <td>False</td>\n",
       "      <td>unsigned</td>\n",
       "      <td>25</td>\n",
       "      <td>30.0</td>\n",
       "      <td>1.0</td>\n",
       "      <td>15880</td>\n",
       "      <td>1163</td>\n",
       "      <td>0</td>\n",
       "      <td>0</td>\n",
       "    </tr>\n",
       "    <tr>\n",
       "      <th>TMJE30A</th>\n",
       "      <td>SV:Q45biii.TMJ: jaw joint or in front of ear, ...</td>\n",
       "      <td>0.0</td>\n",
       "      <td>{}</td>\n",
       "      <td>2</td>\n",
       "      <td>{A, D}</td>\n",
       "      <td>False</td>\n",
       "      <td>unsigned</td>\n",
       "      <td>16</td>\n",
       "      <td>30.0</td>\n",
       "      <td>0.0</td>\n",
       "      <td>15876</td>\n",
       "      <td>1167</td>\n",
       "      <td>0</td>\n",
       "      <td>0</td>\n",
       "    </tr>\n",
       "    <tr>\n",
       "      <th>TMJF30D</th>\n",
       "      <td>SV:Q46bi.TMJ: across face or cheek, how many d...</td>\n",
       "      <td>0.0</td>\n",
       "      <td>{}</td>\n",
       "      <td>1</td>\n",
       "      <td>{A}</td>\n",
       "      <td>False</td>\n",
       "      <td>unsigned</td>\n",
       "      <td>24</td>\n",
       "      <td>30.0</td>\n",
       "      <td>1.0</td>\n",
       "      <td>16544</td>\n",
       "      <td>499</td>\n",
       "      <td>0</td>\n",
       "      <td>0</td>\n",
       "    </tr>\n",
       "    <tr>\n",
       "      <th>...</th>\n",
       "      <td>...</td>\n",
       "      <td>...</td>\n",
       "      <td>...</td>\n",
       "      <td>...</td>\n",
       "      <td>...</td>\n",
       "      <td>...</td>\n",
       "      <td>...</td>\n",
       "      <td>...</td>\n",
       "      <td>...</td>\n",
       "      <td>...</td>\n",
       "      <td>...</td>\n",
       "      <td>...</td>\n",
       "      <td>...</td>\n",
       "      <td>...</td>\n",
       "    </tr>\n",
       "    <tr>\n",
       "      <th>AC2AR3</th>\n",
       "      <td>FU SAQ:Q44.Exercise: (2) Activity code, top 3 ...</td>\n",
       "      <td>0.0</td>\n",
       "      <td>{}</td>\n",
       "      <td>1</td>\n",
       "      <td>{N}</td>\n",
       "      <td>False</td>\n",
       "      <td>unsigned</td>\n",
       "      <td>38</td>\n",
       "      <td>37.0</td>\n",
       "      <td>1.0</td>\n",
       "      <td>1468</td>\n",
       "      <td>2145</td>\n",
       "      <td>0</td>\n",
       "      <td>0</td>\n",
       "    </tr>\n",
       "    <tr>\n",
       "      <th>AC3AR3</th>\n",
       "      <td>FU SAQ:Q44.Exercise: (3) Activity code, top 3 ...</td>\n",
       "      <td>0.0</td>\n",
       "      <td>{}</td>\n",
       "      <td>1</td>\n",
       "      <td>{N}</td>\n",
       "      <td>False</td>\n",
       "      <td>unsigned</td>\n",
       "      <td>39</td>\n",
       "      <td>38.0</td>\n",
       "      <td>1.0</td>\n",
       "      <td>1714</td>\n",
       "      <td>1899</td>\n",
       "      <td>0</td>\n",
       "      <td>0</td>\n",
       "    </tr>\n",
       "    <tr>\n",
       "      <th>AC1AR4</th>\n",
       "      <td>FU SAQ:Q47.Exercise: (1) Activity code, top 3 ...</td>\n",
       "      <td>0.0</td>\n",
       "      <td>{}</td>\n",
       "      <td>1</td>\n",
       "      <td>{N}</td>\n",
       "      <td>False</td>\n",
       "      <td>unsigned</td>\n",
       "      <td>38</td>\n",
       "      <td>37.0</td>\n",
       "      <td>1.0</td>\n",
       "      <td>1239</td>\n",
       "      <td>2374</td>\n",
       "      <td>0</td>\n",
       "      <td>0</td>\n",
       "    </tr>\n",
       "    <tr>\n",
       "      <th>AC2AR4</th>\n",
       "      <td>FU SAQ:Q47.Exercise: (2) Activity code, top 3 ...</td>\n",
       "      <td>0.0</td>\n",
       "      <td>{}</td>\n",
       "      <td>1</td>\n",
       "      <td>{A}</td>\n",
       "      <td>False</td>\n",
       "      <td>unsigned</td>\n",
       "      <td>36</td>\n",
       "      <td>37.0</td>\n",
       "      <td>1.0</td>\n",
       "      <td>1460</td>\n",
       "      <td>2153</td>\n",
       "      <td>0</td>\n",
       "      <td>0</td>\n",
       "    </tr>\n",
       "    <tr>\n",
       "      <th>AC3AR4</th>\n",
       "      <td>FU SAQ:Q47.Exercise: (3) Activity code, top 3 ...</td>\n",
       "      <td>0.0</td>\n",
       "      <td>{}</td>\n",
       "      <td>1</td>\n",
       "      <td>{N}</td>\n",
       "      <td>False</td>\n",
       "      <td>unsigned</td>\n",
       "      <td>38</td>\n",
       "      <td>38.0</td>\n",
       "      <td>1.0</td>\n",
       "      <td>1777</td>\n",
       "      <td>1836</td>\n",
       "      <td>0</td>\n",
       "      <td>0</td>\n",
       "    </tr>\n",
       "  </tbody>\n",
       "</table>\n",
       "<p>348 rows × 14 columns</p>\n",
       "</div>"
      ],
      "text/plain": [
       "                                                     label  uniq_strs  \\\n",
       "col                                                                     \n",
       "KPNR12M  SV:Q15ai.Right knee pain, aching or stiffness:...        0.0   \n",
       "KPNL12M  SV:Q18ai.Left knee pain, aching or stiffness: ...        0.0   \n",
       "TMJE30D  SV:Q45bi.TMJ: jaw joint or in front of ear, ho...        0.0   \n",
       "TMJE30A  SV:Q45biii.TMJ: jaw joint or in front of ear, ...        0.0   \n",
       "TMJF30D  SV:Q46bi.TMJ: across face or cheek, how many d...        0.0   \n",
       "...                                                    ...        ...   \n",
       "AC2AR3   FU SAQ:Q44.Exercise: (2) Activity code, top 3 ...        0.0   \n",
       "AC3AR3   FU SAQ:Q44.Exercise: (3) Activity code, top 3 ...        0.0   \n",
       "AC1AR4   FU SAQ:Q47.Exercise: (1) Activity code, top 3 ...        0.0   \n",
       "AC2AR4   FU SAQ:Q47.Exercise: (2) Activity code, top 3 ...        0.0   \n",
       "AC3AR4   FU SAQ:Q47.Exercise: (3) Activity code, top 3 ...        0.0   \n",
       "\n",
       "        str_list  missing_val_cnt missing_val_list numeric_str  num_type  \\\n",
       "col                                                                        \n",
       "KPNR12M       {}                3        {A, M, D}       False  unsigned   \n",
       "KPNL12M       {}                3        {A, M, D}       False  unsigned   \n",
       "TMJE30D       {}                2           {A, D}       False  unsigned   \n",
       "TMJE30A       {}                2           {A, D}       False  unsigned   \n",
       "TMJF30D       {}                1              {A}       False  unsigned   \n",
       "...          ...              ...              ...         ...       ...   \n",
       "AC2AR3        {}                1              {N}       False  unsigned   \n",
       "AC3AR3        {}                1              {N}       False  unsigned   \n",
       "AC1AR4        {}                1              {N}       False  unsigned   \n",
       "AC2AR4        {}                1              {A}       False  unsigned   \n",
       "AC3AR4        {}                1              {N}       False  unsigned   \n",
       "\n",
       "         uniq_num  max_num  min_num  str_cnt  num_cnt  date_cnt  na_cnt  \n",
       "col                                                                      \n",
       "KPNR12M        13     12.0      1.0    28211    12873         0       0  \n",
       "KPNL12M        14     12.0      0.0    28711    12373         0       0  \n",
       "TMJE30D        25     30.0      1.0    15880     1163         0       0  \n",
       "TMJE30A        16     30.0      0.0    15876     1167         0       0  \n",
       "TMJF30D        24     30.0      1.0    16544      499         0       0  \n",
       "...           ...      ...      ...      ...      ...       ...     ...  \n",
       "AC2AR3         38     37.0      1.0     1468     2145         0       0  \n",
       "AC3AR3         39     38.0      1.0     1714     1899         0       0  \n",
       "AC1AR4         38     37.0      1.0     1239     2374         0       0  \n",
       "AC2AR4         36     37.0      1.0     1460     2153         0       0  \n",
       "AC3AR4         38     38.0      1.0     1777     1836         0       0  \n",
       "\n",
       "[348 rows x 14 columns]"
      ]
     },
     "execution_count": 59,
     "metadata": {},
     "output_type": "execute_result"
    }
   ],
   "source": [
    "data_stats_summary(tmp_df, data_stats_df)\n",
    "\n",
    "data_stats_df"
   ]
  },
  {
   "cell_type": "code",
   "execution_count": 60,
   "id": "507766f3",
   "metadata": {
    "execution": {
     "iopub.execute_input": "2023-12-21T21:01:21.283966Z",
     "iopub.status.busy": "2023-12-21T21:01:21.283508Z",
     "iopub.status.idle": "2023-12-21T21:01:21.293331Z",
     "shell.execute_reply": "2023-12-21T21:01:21.292772Z",
     "shell.execute_reply.started": "2023-12-21T21:01:21.283945Z"
    },
    "pycharm": {
     "name": "#%%\n"
    },
    "tags": []
   },
   "outputs": [
    {
     "name": "stdout",
     "output_type": "stream",
     "text": [
      "targets = {\n",
      "# Columns with only dates, missing, and NA values\n",
      "'date': ['SVDATE', 'DATE', 'EVDATE', 'PSDATE', 'SSDATE', 'FVDATE', 'ISEXMDT'],\n",
      "\n",
      "# Columns with only unsigned ints, missing, and NA values\n",
      "'unsigned': ['KPNR12M', 'KPNL12M', 'TMJE30D', 'TMJE30A', 'TMJF30D', 'TMJF30A', 'BPTOT', 'BPDAYCV', 'BPBEDCV', 'KPACDCV', 'INJR1', 'INJR2', 'INJR3', 'KRSRA', 'ARTR1', 'ARTR2', 'ARTR3', 'MENR1', 'MENR2', 'MENR3', 'LRR1', 'LRR2', 'OTSR1', 'OTSR2', 'OTSR3', 'INJL1', 'INJL2', 'INJL3', 'KRSLA', 'ARTL1', 'ARTL2', 'ARTL3', 'MENL1', 'MENL2', 'MENL3', 'LRL1', 'OTSL1', 'OTSL2', 'OTSL3', 'OV1AGE', 'OV2AGE', 'HYSAGE', 'BLDHRS1', 'BLDHRS2', 'BLSURD1', 'BLSURD2', 'HOURSP1', 'HOURSP2', 'PDATE1', 'PDATE2', 'PLAQHR1', 'PLAQHR2', 'SEAQHR1', 'SEAQHR2', 'UCDATE1', 'UCDATE2', 'URINHR1', 'URINHR2', 'URSURD1', 'URSURD2', 'WOMSTFR', 'WOMSTFL', 'HIPFXAG', 'SPNFXAG', 'SMKAGE', 'SMKAVE', 'SMKAMT', 'SMKSTOP', 'PIPEAGE', 'PIPEAMT', 'PIPSTOP', 'BISPYRS', 'RX30NUM', 'COMORB', 'SMKPKYR', 'PSMKYR', 'CESD', 'NWARNS', 'NNOSERV', 'NSKIP', 'NERRORS', 'BPSYS', 'BPDIAS', 'RPAVG', 'STEPST1', 'STEPST2', 'HRB4WLK', 'NUMSTOP', 'HR400WK', 'LLWGT', 'RLWGT', '400MTR', 'AGE', 'HOURWK', 'MISSWK', 'PASE', 'WEEKWK', 'WKHR7CV', 'BLUPMN1', 'BLUPMN2', 'PRRDDYS', 'URUPMN2', 'VISDYS', 'AMPA1', 'ANVDAYS', 'SF12BP', 'SF12PF', 'SF12VT', 'SF12SF', 'WTLSYR', 'AC1AR1', 'AC2AR1', 'AC3AR1', 'AC1AR2', 'AC2AR2', 'AC3AR2', 'AC1AR3', 'AC2AR3', 'AC3AR3', 'AC1AR4', 'AC2AR4', 'AC3AR4'],\n",
      "\n",
      "# Columns with only signed ints, missing, and NA values\n",
      "'signed': ['RKFHDEG', 'LKFHDEG', 'RKALNMT', 'LKALNMT', 'DFBCOLL', 'DFUCOLL', 'URUPMN1'],\n",
      "\n",
      "# Columns with only floats, missing, and NA values\n",
      "'float': ['HEIGHT', 'WEIGHT', 'BMI', 'HRSUC1', 'HRSUC2', 'HSPSS', 'HSMSS', 'WOMKPR', 'KOOSKPR', 'KOOSYMR', 'WOMADLR', 'WOMKPL', 'KOOSKPL', 'KOOSYML', 'WOMADLL', 'KOOSFSR', 'KOOSQOL', 'WOMTSL', 'WOMTSR', 'HT25MM', 'WT25KG', 'WTMAXKG', 'WTMINKG', 'DTDFIB', 'SUPVITD', 'FIBVGFR', 'SUPB12', 'DTCAFFN', 'SRVFAT', 'DTAIU', 'DTCHOL', 'PCTCOL1', 'DTPHOS', 'DTVITC', 'DTB1', 'PCTXLS', 'SUPB2', 'PCTCOL9', 'DTVITK', 'DTRET', 'SUPVITE', 'SUPNIAC', 'DTANZN', 'DTLUT', 'BAPFAT', 'PCTCARB', 'PCTSWT', 'DTACAR', 'SUPCA', 'SRVGRN', 'SRVFRT', 'SUPFOL', 'DTBCAR', 'DTPROT', 'DTPOTA', 'DTSFAT', 'SUPVITC', 'DTOLEC', 'SUPBCAR', 'DTKCAL', 'BAPPROT', 'BAPCARB', 'SUPVITA', 'SUPB6', 'NFDSDAY', 'DTNIAC', 'FIBBEAN', 'DTNA', 'DTARE', 'DTLYC', 'DTFAT', 'PCTSMAL', 'SUPFE', 'SUPCU', 'DTB12', 'DTGEN', 'DTMETH', 'SUPZINC', 'SRVVEG', 'DTCALC', 'SUPMG', 'DTDAID', 'SRVMEAT', 'DTFE', 'FIBGRN', 'DTCYST', 'DTSF', 'PCTPROT', 'SRVDRY', 'DTB6', 'SUPB1', 'SUPSE', 'DTMG', 'PCTFAT', 'DTVITD', 'DTPROA', 'DTCARB', 'PCTALCH', 'DTFOL', 'DTLIN', 'PCTLARG', 'DTVITE', 'DTCRYP', 'PCTMEDS', 'DTRIBO', 'DTZINC', 'CSTIME1', 'CSTIME2', 'RLLGTH', 'RLBACK', 'RLARM', 'RLHORIZ', 'RLVERT', 'LLLGTH', 'LLBACK', 'LLARM', 'LLHORIZ', 'LLVERT', 'TIMET1', 'TIMET2', 'ABCIRC', 'CSPACE', '20MPACE', 'RFTLPL', 'RFTHPL', 'RFTLRL', 'RFTHRL', 'RETLPL', 'RETHPL', 'RETLRL', 'RETHRL', 'LFTLPL', 'LFTHPL', 'LFTLRL', 'LFTHRL', 'LETLPL', 'LETHPL', 'LETLRL', 'LETHRL', '400MTIM', 'RFSFR', 'LESFR', 'LFSFP', 'RESFP', 'RESFR', 'LFSFR', 'RFSFP', 'LESFP', 'ICPTSKL', 'ICPTSKR', 'IPSKL', 'CPSKR', 'IPSKR', 'CPSKL', 'LLDILSM', 'LLDIFST', 'LLDILST', 'LLDIFSS', 'LLDILSI', 'LLDIFSP', 'AAVMNT', 'AAMVBMF', 'AAMVBMT', 'AAMVMNS', 'AAVBMS', 'AAMVBMS', 'AAMVMNT', 'AACSM03', 'AAMVMNF', 'AAVMNF', 'AACNT', 'AALTMNF', 'AAMDMNF', 'AAVBMT', 'AALTMNT', 'AAMDMNT', 'AAVBMF', 'AALTMNS', 'AAMDMNS', 'AAVMNS', 'IPSHL', 'IPSHR', 'ICPTSHR', 'CPSHL', 'ICPTSHL', 'CPSHR', 'SF12RP', 'SF12RE', 'SF12GH', 'SF12MH'],\n",
      "\n",
      "# Columns with only strings, missing, and NA values\n",
      "'cat': ['LRR3', 'LRL2', 'LRL3', 'STFID2', 'STFID1', 'HESTFID', 'SVXRRID', 'BPSTFID', 'RPSTFID', 'ACSTFID', 'SCSTFID', 'RCSTFID', 'W2STFID', 'W4STFID', 'K1STFID', 'ISSTFID', 'WPSTFID', 'K5STFID', 'KPSTFID', 'APASTAT', 'HVSTFID', 'WLC1IL'],\n",
      "\n",
      "}\n",
      "\n",
      "\n",
      "Handled columns: 348\n"
     ]
    }
   ],
   "source": [
    "suggest_conversions(data_stats_df)"
   ]
  },
  {
   "cell_type": "code",
   "execution_count": 61,
   "id": "1535fa9a",
   "metadata": {
    "execution": {
     "iopub.execute_input": "2023-12-21T21:01:21.294694Z",
     "iopub.status.busy": "2023-12-21T21:01:21.294455Z",
     "iopub.status.idle": "2023-12-21T21:01:36.609529Z",
     "shell.execute_reply": "2023-12-21T21:01:36.608976Z",
     "shell.execute_reply.started": "2023-12-21T21:01:21.294674Z"
    },
    "pycharm": {
     "name": "#%%\n"
    },
    "tags": []
   },
   "outputs": [],
   "source": [
    "targets = {\n",
    "# Columns with only dates, missing, and NA values\n",
    "'date': ['SVDATE', 'DATE', 'EVDATE', 'PSDATE', 'SSDATE', 'FVDATE', 'ISEXMDT'],\n",
    "\n",
    "# Columns with only unsigned ints, missing, and NA values\n",
    "'unsigned': ['KPNR12M', 'KPNL12M', 'TMJE30D', 'TMJE30A', 'TMJF30D', 'TMJF30A', 'BPTOT', 'BPDAYCV', 'BPBEDCV', 'KPACDCV', 'INJR1', 'INJR2', 'INJR3', 'KRSRA', 'ARTR1', 'ARTR2', 'ARTR3', 'MENR1', 'MENR2', 'MENR3', 'LRR1', 'LRR2', 'OTSR1', 'OTSR2', 'OTSR3', 'INJL1', 'INJL2', 'INJL3', 'KRSLA', 'ARTL1', 'ARTL2', 'ARTL3', 'MENL1', 'MENL2', 'MENL3', 'LRL1', 'OTSL1', 'OTSL2', 'OTSL3', 'OV1AGE', 'OV2AGE', 'HYSAGE', 'BLDHRS1', 'BLDHRS2', 'BLSURD1', 'BLSURD2', 'HOURSP1', 'HOURSP2', 'PDATE1', 'PDATE2', 'PLAQHR1', 'PLAQHR2', 'SEAQHR1', 'SEAQHR2', 'UCDATE1', 'UCDATE2', 'URINHR1', 'URINHR2', 'URSURD1', 'URSURD2', 'WOMSTFR', 'WOMSTFL', 'HIPFXAG', 'SPNFXAG', 'SMKAGE', 'SMKAVE', 'SMKAMT', 'SMKSTOP', 'PIPEAGE', 'PIPEAMT', 'PIPSTOP', 'BISPYRS', 'RX30NUM', 'COMORB', 'SMKPKYR', 'PSMKYR', 'CESD', 'NWARNS', 'NNOSERV', 'NSKIP', 'NERRORS', 'BPSYS', 'BPDIAS', 'RPAVG', 'STEPST1', 'STEPST2', 'HRB4WLK', 'NUMSTOP', 'HR400WK', 'LLWGT', 'RLWGT', '400MTR', 'AGE', 'HOURWK', 'MISSWK', 'PASE', 'WEEKWK', 'WKHR7CV', 'BLUPMN1', 'BLUPMN2', 'PRRDDYS', 'URUPMN2', 'VISDYS', 'AMPA1', 'ANVDAYS', 'SF12BP', 'SF12PF', 'SF12VT', 'SF12SF', 'WTLSYR', 'AC1AR1', 'AC2AR1', 'AC3AR1', 'AC1AR2', 'AC2AR2', 'AC3AR2', 'AC1AR3', 'AC2AR3', 'AC3AR3', 'AC1AR4', 'AC2AR4', 'AC3AR4'],\n",
    "\n",
    "# Columns with only signed ints, missing, and NA values\n",
    "'signed': ['RKFHDEG', 'LKFHDEG', 'RKALNMT', 'LKALNMT', 'DFBCOLL', 'DFUCOLL', 'URUPMN1'],\n",
    "\n",
    "# Columns with only floats, missing, and NA values\n",
    "'float': ['HEIGHT', 'WEIGHT', 'BMI', 'HRSUC1', 'HRSUC2', 'HSPSS', 'HSMSS', 'WOMKPR', 'KOOSKPR', 'KOOSYMR', 'WOMADLR', 'WOMKPL', 'KOOSKPL', 'KOOSYML', 'WOMADLL', 'KOOSFSR', 'KOOSQOL', 'WOMTSL', 'WOMTSR', 'HT25MM', 'WT25KG', 'WTMAXKG', 'WTMINKG', 'DTDFIB', 'SUPVITD', 'FIBVGFR', 'SUPB12', 'DTCAFFN', 'SRVFAT', 'DTAIU', 'DTCHOL', 'PCTCOL1', 'DTPHOS', 'DTVITC', 'DTB1', 'PCTXLS', 'SUPB2', 'PCTCOL9', 'DTVITK', 'DTRET', 'SUPVITE', 'SUPNIAC', 'DTANZN', 'DTLUT', 'BAPFAT', 'PCTCARB', 'PCTSWT', 'DTACAR', 'SUPCA', 'SRVGRN', 'SRVFRT', 'SUPFOL', 'DTBCAR', 'DTPROT', 'DTPOTA', 'DTSFAT', 'SUPVITC', 'DTOLEC', 'SUPBCAR', 'DTKCAL', 'BAPPROT', 'BAPCARB', 'SUPVITA', 'SUPB6', 'NFDSDAY', 'DTNIAC', 'FIBBEAN', 'DTNA', 'DTARE', 'DTLYC', 'DTFAT', 'PCTSMAL', 'SUPFE', 'SUPCU', 'DTB12', 'DTGEN', 'DTMETH', 'SUPZINC', 'SRVVEG', 'DTCALC', 'SUPMG', 'DTDAID', 'SRVMEAT', 'DTFE', 'FIBGRN', 'DTCYST', 'DTSF', 'PCTPROT', 'SRVDRY', 'DTB6', 'SUPB1', 'SUPSE', 'DTMG', 'PCTFAT', 'DTVITD', 'DTPROA', 'DTCARB', 'PCTALCH', 'DTFOL', 'DTLIN', 'PCTLARG', 'DTVITE', 'DTCRYP', 'PCTMEDS', 'DTRIBO', 'DTZINC', 'CSTIME1', 'CSTIME2', 'RLLGTH', 'RLBACK', 'RLARM', 'RLHORIZ', 'RLVERT', 'LLLGTH', 'LLBACK', 'LLARM', 'LLHORIZ', 'LLVERT', 'TIMET1', 'TIMET2', 'ABCIRC', 'CSPACE', '20MPACE', 'RFTLPL', 'RFTHPL', 'RFTLRL', 'RFTHRL', 'RETLPL', 'RETHPL', 'RETLRL', 'RETHRL', 'LFTLPL', 'LFTHPL', 'LFTLRL', 'LFTHRL', 'LETLPL', 'LETHPL', 'LETLRL', 'LETHRL', '400MTIM', 'RFSFR', 'LESFR', 'LFSFP', 'RESFP', 'RESFR', 'LFSFR', 'RFSFP', 'LESFP', 'ICPTSKL', 'ICPTSKR', 'IPSKL', 'CPSKR', 'IPSKR', 'CPSKL', 'LLDILSM', 'LLDIFST', 'LLDILST', 'LLDIFSS', 'LLDILSI', 'LLDIFSP', 'AAVMNT', 'AAMVBMF', 'AAMVBMT', 'AAMVMNS', 'AAVBMS', 'AAMVBMS', 'AAMVMNT', 'AACSM03', 'AAMVMNF', 'AAVMNF', 'AACNT', 'AALTMNF', 'AAMDMNF', 'AAVBMT', 'AALTMNT', 'AAMDMNT', 'AAVBMF', 'AALTMNS', 'AAMDMNS', 'AAVMNS', 'IPSHL', 'IPSHR', 'ICPTSHR', 'CPSHL', 'ICPTSHL', 'CPSHR', 'SF12RP', 'SF12RE', 'SF12GH', 'SF12MH'],\n",
    "\n",
    "# Columns with only strings, missing, and NA values\n",
    "'cat': ['LRR3', 'LRL2', 'LRL3', 'STFID2', 'STFID1', 'HESTFID', 'SVXRRID', 'BPSTFID', 'RPSTFID', 'ACSTFID', 'SCSTFID', 'RCSTFID', 'W2STFID', 'W4STFID', 'K1STFID', 'ISSTFID', 'WPSTFID', 'K5STFID', 'KPSTFID', 'APASTAT', 'HVSTFID', 'WLC1IL'],\n",
    "\n",
    "}\n",
    "\n",
    "new_df, missing_df = convert_columns(targets, data_stats_df, tmp_df)"
   ]
  },
  {
   "cell_type": "code",
   "execution_count": 62,
   "id": "b037fb85",
   "metadata": {
    "execution": {
     "iopub.execute_input": "2023-12-21T21:01:36.610804Z",
     "iopub.status.busy": "2023-12-21T21:01:36.610596Z",
     "iopub.status.idle": "2023-12-21T21:01:36.889726Z",
     "shell.execute_reply": "2023-12-21T21:01:36.889166Z",
     "shell.execute_reply.started": "2023-12-21T21:01:36.610780Z"
    },
    "pycharm": {
     "name": "#%%\n"
    },
    "tags": []
   },
   "outputs": [
    {
     "name": "stdout",
     "output_type": "stream",
     "text": [
      "\n",
      "VERSION    category\n",
      "KPNREV     category\n",
      "KPNREVY    category\n",
      "KPNR12     category\n",
      "KPNR12M       UInt8\n",
      "             ...   \n",
      "ACT37D     category\n",
      "ACTNAA     category\n",
      "ACTNAB     category\n",
      "ACTNAC     category\n",
      "ACTNAD     category\n",
      "Length: 1849, dtype: object\n",
      "\n",
      "Missing values present, shadow dataframe created.\n",
      "              ISEXMDT           KPNR12M           KPNL12M           TMJE30D  \\\n",
      "ID      Visit                                                                 \n",
      "9000099 P01       NaN               NaN               NaN  .A: Not Expected   \n",
      "9000296 P01       NaN  .A: Not Expected  .A: Not Expected  .A: Not Expected   \n",
      "9000622 P01       NaN               NaN  .A: Not Expected  .A: Not Expected   \n",
      "9000798 P01       NaN  .A: Not Expected               NaN  .A: Not Expected   \n",
      "9001104 P01       NaN  .A: Not Expected  .A: Not Expected  .A: Not Expected   \n",
      "...               ...               ...               ...               ...   \n",
      "9999365 V11       NaN               NaN               NaN               NaN   \n",
      "9999510 V11       NaN  .A: Not Expected  .A: Not Expected               NaN   \n",
      "9999862 V11       NaN  .A: Not Expected  .A: Not Expected               NaN   \n",
      "9999865 V11       NaN  .A: Not Expected  .A: Not Expected               NaN   \n",
      "9999878 V11       NaN               NaN               NaN               NaN   \n",
      "\n",
      "                        TMJE30A           TMJF30D           TMJF30A BPTOT  \\\n",
      "ID      Visit                                                               \n",
      "9000099 P01    .A: Not Expected  .A: Not Expected  .A: Not Expected   NaN   \n",
      "9000296 P01    .A: Not Expected  .A: Not Expected  .A: Not Expected   NaN   \n",
      "9000622 P01    .A: Not Expected  .A: Not Expected  .A: Not Expected   NaN   \n",
      "9000798 P01    .A: Not Expected  .A: Not Expected  .A: Not Expected   NaN   \n",
      "9001104 P01    .A: Not Expected  .A: Not Expected  .A: Not Expected   NaN   \n",
      "...                         ...               ...               ...   ...   \n",
      "9999365 V11                 NaN               NaN               NaN   NaN   \n",
      "9999510 V11                 NaN               NaN               NaN   NaN   \n",
      "9999862 V11                 NaN               NaN               NaN   NaN   \n",
      "9999865 V11                 NaN               NaN               NaN   NaN   \n",
      "9999878 V11                 NaN               NaN               NaN   NaN   \n",
      "\n",
      "              BPDAYCV BPBEDCV  ... SF12GH SF12MH                         LRR3  \\\n",
      "ID      Visit                  ...                                              \n",
      "9000099 P01       NaN     NaN  ...    NaN    NaN  .N: Not Required/Not edited   \n",
      "9000296 P01       NaN     NaN  ...    NaN    NaN  .N: Not Required/Not edited   \n",
      "9000622 P01       NaN     NaN  ...    NaN    NaN  .N: Not Required/Not edited   \n",
      "9000798 P01       NaN     NaN  ...    NaN    NaN  .N: Not Required/Not edited   \n",
      "9001104 P01       NaN     NaN  ...    NaN    NaN  .N: Not Required/Not edited   \n",
      "...               ...     ...  ...    ...    ...                          ...   \n",
      "9999365 V11       NaN     NaN  ...    NaN    NaN                          NaN   \n",
      "9999510 V11       NaN     NaN  ...    NaN    NaN                          NaN   \n",
      "9999862 V11       NaN     NaN  ...    NaN    NaN                          NaN   \n",
      "9999865 V11       NaN     NaN  ...    NaN    NaN                          NaN   \n",
      "9999878 V11       NaN     NaN  ...    NaN    NaN                          NaN   \n",
      "\n",
      "                                      LRL2                         LRL3  \\\n",
      "ID      Visit                                                             \n",
      "9000099 P01    .N: Not Required/Not edited  .N: Not Required/Not edited   \n",
      "9000296 P01    .N: Not Required/Not edited  .N: Not Required/Not edited   \n",
      "9000622 P01    .N: Not Required/Not edited  .N: Not Required/Not edited   \n",
      "9000798 P01    .N: Not Required/Not edited  .N: Not Required/Not edited   \n",
      "9001104 P01    .N: Not Required/Not edited  .N: Not Required/Not edited   \n",
      "...                                    ...                          ...   \n",
      "9999365 V11                            NaN                          NaN   \n",
      "9999510 V11                            NaN                          NaN   \n",
      "9999862 V11                            NaN                          NaN   \n",
      "9999865 V11                            NaN                          NaN   \n",
      "9999878 V11                            NaN                          NaN   \n",
      "\n",
      "              RPSTFID W2STFID W4STFID KPSTFID HVSTFID  \n",
      "ID      Visit                                          \n",
      "9000099 P01       NaN     NaN     NaN     NaN     NaN  \n",
      "9000296 P01       NaN     NaN     NaN     NaN     NaN  \n",
      "9000622 P01       NaN     NaN     NaN     NaN     NaN  \n",
      "9000798 P01       NaN     NaN     NaN     NaN     NaN  \n",
      "9001104 P01       NaN     NaN     NaN     NaN     NaN  \n",
      "...               ...     ...     ...     ...     ...  \n",
      "9999365 V11       NaN     NaN     NaN     NaN     NaN  \n",
      "9999510 V11       NaN     NaN     NaN     NaN     NaN  \n",
      "9999862 V11       NaN     NaN     NaN     NaN     NaN  \n",
      "9999865 V11       NaN     NaN     NaN     NaN     NaN  \n",
      "9999878 V11       NaN     NaN     NaN     NaN     NaN  \n",
      "\n",
      "[58334 rows x 326 columns]\n"
     ]
    }
   ],
   "source": [
    "sanity_check(new_df)\n",
    "print()\n",
    "print(new_df.dtypes)\n",
    "\n",
    "if not missing_df.empty:\n",
    "    print('\\nMissing values present, shadow dataframe created.')\n",
    "    print(missing_df)"
   ]
  },
  {
   "cell_type": "code",
   "execution_count": 63,
   "id": "45ba425f",
   "metadata": {
    "execution": {
     "iopub.execute_input": "2023-12-21T21:01:36.890548Z",
     "iopub.status.busy": "2023-12-21T21:01:36.890416Z",
     "iopub.status.idle": "2023-12-21T21:01:36.940759Z",
     "shell.execute_reply": "2023-12-21T21:01:36.940129Z",
     "shell.execute_reply.started": "2023-12-21T21:01:36.890530Z"
    },
    "pycharm": {
     "name": "#%%\n"
    },
    "tags": []
   },
   "outputs": [
    {
     "name": "stdout",
     "output_type": "stream",
     "text": [
      "\n",
      "Final dataframe size: 154.42MB\n",
      "Shadow dataframe size: 18.72MB\n"
     ]
    }
   ],
   "source": [
    "print('\\nFinal dataframe size: {:.2f}MB'.format(new_df.memory_usage(deep=True).sum() / (1024**2)))\n",
    "print('Shadow dataframe size: {:.2f}MB'.format(missing_df.memory_usage(deep=True).sum() / (1024**2)))"
   ]
  },
  {
   "cell_type": "code",
   "execution_count": 64,
   "id": "5a424b7b-cb07-432f-a3e2-d3874b336f05",
   "metadata": {
    "execution": {
     "iopub.execute_input": "2023-12-21T21:01:36.942060Z",
     "iopub.status.busy": "2023-12-21T21:01:36.941857Z",
     "iopub.status.idle": "2023-12-21T21:01:42.535747Z",
     "shell.execute_reply": "2023-12-21T21:01:42.535186Z",
     "shell.execute_reply.started": "2023-12-21T21:01:36.942037Z"
    },
    "tags": []
   },
   "outputs": [
    {
     "name": "stdout",
     "output_type": "stream",
     "text": [
      "Column LRR3 is marked as categorical but is all NaN. Will be stored as float.\n",
      "Column LRL2 is marked as categorical but is all NaN. Will be stored as float.\n",
      "Column LRL3 is marked as categorical but is all NaN. Will be stored as float.\n"
     ]
    }
   ],
   "source": [
    "utils.write_parquet(new_df, 'data/' + prefix + '_values.parquet')\n",
    "if not missing_df.empty:\n",
    "    utils.write_parquet(new_df, 'data/' + prefix + '_missing_values.parquet', verbose=False)"
   ]
  },
  {
   "cell_type": "markdown",
   "id": "82929a10",
   "metadata": {
    "tags": []
   },
   "source": [
    "## biomarkers"
   ]
  },
  {
   "cell_type": "code",
   "execution_count": 65,
   "id": "febcba4b",
   "metadata": {
    "execution": {
     "iopub.execute_input": "2023-12-21T21:01:42.537077Z",
     "iopub.status.busy": "2023-12-21T21:01:42.536681Z",
     "iopub.status.idle": "2023-12-21T21:01:53.479191Z",
     "shell.execute_reply": "2023-12-21T21:01:53.478335Z",
     "shell.execute_reply.started": "2023-12-21T21:01:42.537055Z"
    },
    "pycharm": {
     "name": "#%%\n"
    }
   },
   "outputs": [
    {
     "name": "stdout",
     "output_type": "stream",
     "text": [
      "\n",
      "biomarkers00.sas7bdat: (4796, 53)\n",
      "['ID', 'VERSION', 'BLDCOLL', 'BLDHRS1', 'BLDHRS2', 'BLDRAW1', 'BLDRAW2', 'BLSURD1', 'BLSURD2', 'CITRATE', 'EDTA', 'excess1', 'excess2', 'hemat1', 'hemat2', 'hoursp1', 'hoursp2', 'hrsuc1', 'hrsuc2', 'illpwk1', 'illpwk2', 'LEAKAG1', 'LEAKAG2', 'MRSEQNL', 'MRSEQNR', 'MULTST1', 'MULTST2', 'othvp1', 'othvp2', 'pdate1', 'pdate2', 'PLAQHR1', 'PLAQHR2', 'qovp1', 'qovp2', 'SEAQHR1', 'SEAQHR2', 'SERUM', 'ucdate1', 'ucdate2', 'URINHR1', 'URINHR2', 'URINOB1', 'URINOB2', 'URNCOLL', 'URSURD1', 'URSURD2', 'vcoll1', 'vcoll2', 'vein1', 'vein2', 'void1', 'void2']\n",
      "\n",
      "biomarkers01.sas7bdat: (4796, 62)\n",
      "['PRRDDYS', 'DFUCOLL', 'SRGSTAT', 'BLUPMN1', 'PAXRNA', 'URUPMN1', 'URUPMN2', 'BLUPMN2', 'DFBCOLL']\n",
      "\n",
      "biomarkers02.sas7bdat: (288, 60)\n",
      "['PRRDDYS', 'PAXRNA']\n",
      "\n",
      "biomarkers03.sas7bdat: (4796, 61)\n",
      "['MRKSIDE']\n",
      "\n",
      "biomarkers04.sas7bdat: (494, 60)\n",
      "['MRKSIDE']\n",
      "\n",
      "biomarkers05.sas7bdat: (4796, 60)\n",
      "\n",
      "biomarkers06.sas7bdat: (4796, 62)\n",
      "['LMPHCT', 'PAXRNA']\n",
      "\n",
      "biomarkers08.sas7bdat: (4796, 61)\n",
      "['PAXRNA']\n",
      "\n",
      "biomarkers10.sas7bdat: (4796, 5)\n",
      "['CITRATE', 'EXCESS2', 'URINHR1', 'VOID2', 'MULTST1', 'ILLPWK2', 'OTHVP1', 'URINOB2', 'BLSURD1', 'BLDCOLL', 'SERUM', 'BLSURD2', 'URSURD1', 'HRSUC2', 'HOURSP2', 'EXCESS1', 'URINOB1', 'EDTA', 'LMPHCT', 'UCDATE1', 'VCOLL2', 'URINHR2', 'SEAQHR2', 'LEAKAG2', 'ILLPWK1', 'VOID1', 'URSURD2', 'BLUPMN1', 'HRSUC1', 'URUPMN1', 'PDATE2', 'MULTST2', 'BLDRAW2', 'URUPMN2', 'PLAQHR1', 'DFBCOLL', 'VEIN1', 'VCOLL1', 'PLAQHR2', 'MRKSIDE', 'UCDATE2', 'DFUCOLL', 'BLDHRS1', 'URNCOLL', 'SRGSTAT', 'VEIN2', 'HEMAT2', 'QOVP1', 'SEAQHR1', 'HEMAT1', 'OTHVP2', 'PDATE1', 'BLUPMN2', 'QOVP2', 'LEAKAG1', 'BLDHRS2', 'HOURSP1', 'BLDRAW1']\n",
      "\n",
      "Total rows: 34354\n"
     ]
    }
   ],
   "source": [
    "prefix = 'biomarkers'\n",
    "column_uniformity_check(prefix)"
   ]
  },
  {
   "cell_type": "code",
   "execution_count": 66,
   "id": "cead9d8e",
   "metadata": {
    "execution": {
     "iopub.execute_input": "2023-12-21T21:01:53.499274Z",
     "iopub.status.busy": "2023-12-21T21:01:53.498987Z",
     "iopub.status.idle": "2023-12-21T21:02:05.808134Z",
     "shell.execute_reply": "2023-12-21T21:02:05.807105Z",
     "shell.execute_reply.started": "2023-12-21T21:01:53.499246Z"
    },
    "pycharm": {
     "name": "#%%\n"
    }
   },
   "outputs": [
    {
     "name": "stdout",
     "output_type": "stream",
     "text": [
      "biomarkers00.sas7bdat\tVar Cnt: 53\n",
      "Visits: ['V00']\n",
      "biomarkers01.sas7bdat\tVar Cnt: 62\n",
      "Visits: ['V01']\n",
      "biomarkers02.sas7bdat\tVar Cnt: 60\n",
      "Visits: ['V02']\n",
      "biomarkers03.sas7bdat\tVar Cnt: 61\n",
      "Visits: ['V03']\n",
      "biomarkers04.sas7bdat\tVar Cnt: 60\n",
      "Visits: ['V04']\n",
      "biomarkers05.sas7bdat\tVar Cnt: 60\n",
      "Visits: ['V05']\n",
      "biomarkers06.sas7bdat\tVar Cnt: 62\n",
      "Visits: ['V06']\n",
      "biomarkers08.sas7bdat\tVar Cnt: 61\n",
      "Visits: ['V08']\n",
      "biomarkers10.sas7bdat\tVar Cnt: 5\n",
      "Visits: ['V10']\n",
      "(34354, 65)\n",
      "\n",
      "Starting dataframe size: 39.68MB\n"
     ]
    }
   ],
   "source": [
    "tmp_df = create_df(prefix)\n",
    "print(tmp_df.shape)\n",
    "print('\\nStarting dataframe size: {:.2f}MB'.format(tmp_df.memory_usage(deep=True).sum() / (1024**2)))"
   ]
  },
  {
   "cell_type": "code",
   "execution_count": 67,
   "id": "66da41d6",
   "metadata": {
    "execution": {
     "iopub.execute_input": "2023-12-21T21:02:05.809846Z",
     "iopub.status.busy": "2023-12-21T21:02:05.809564Z",
     "iopub.status.idle": "2023-12-21T21:02:07.214374Z",
     "shell.execute_reply": "2023-12-21T21:02:07.213644Z",
     "shell.execute_reply.started": "2023-12-21T21:02:05.809812Z"
    },
    "pycharm": {
     "name": "#%%\n"
    }
   },
   "outputs": [],
   "source": [
    "data_stats_df, done_df = gather_column_data_stats(tmp_df)"
   ]
  },
  {
   "cell_type": "code",
   "execution_count": 68,
   "id": "deb35d40",
   "metadata": {
    "execution": {
     "iopub.execute_input": "2023-12-21T21:02:07.215998Z",
     "iopub.status.busy": "2023-12-21T21:02:07.215625Z",
     "iopub.status.idle": "2023-12-21T21:02:07.263568Z",
     "shell.execute_reply": "2023-12-21T21:02:07.262789Z",
     "shell.execute_reply.started": "2023-12-21T21:02:07.215970Z"
    },
    "pycharm": {
     "name": "#%%\n"
    }
   },
   "outputs": [
    {
     "name": "stdout",
     "output_type": "stream",
     "text": [
      "Already defined cols: 38 \tCols to convert: 27\t Total col cnt: 65\n",
      "\n",
      "Column types to convert:\n",
      "   str_cnt  num_cnt  date_cnt  na_cnt  count\n",
      "0     True     True     False   False     27\n",
      "\n",
      "Numeric types of columns:\n",
      "num_type\n",
      "unsigned    22\n",
      "signed       3\n",
      "float        2\n",
      "Name: count, dtype: int64\n",
      "\n",
      "Largest number of unique strings: 0\n"
     ]
    },
    {
     "data": {
      "text/html": [
       "<div>\n",
       "<style scoped>\n",
       "    .dataframe tbody tr th:only-of-type {\n",
       "        vertical-align: middle;\n",
       "    }\n",
       "\n",
       "    .dataframe tbody tr th {\n",
       "        vertical-align: top;\n",
       "    }\n",
       "\n",
       "    .dataframe thead th {\n",
       "        text-align: right;\n",
       "    }\n",
       "</style>\n",
       "<table border=\"1\" class=\"dataframe\">\n",
       "  <thead>\n",
       "    <tr style=\"text-align: right;\">\n",
       "      <th></th>\n",
       "      <th>label</th>\n",
       "      <th>uniq_strs</th>\n",
       "      <th>str_list</th>\n",
       "      <th>missing_val_cnt</th>\n",
       "      <th>missing_val_list</th>\n",
       "      <th>numeric_str</th>\n",
       "      <th>num_type</th>\n",
       "      <th>uniq_num</th>\n",
       "      <th>max_num</th>\n",
       "      <th>min_num</th>\n",
       "      <th>str_cnt</th>\n",
       "      <th>num_cnt</th>\n",
       "      <th>date_cnt</th>\n",
       "      <th>na_cnt</th>\n",
       "    </tr>\n",
       "    <tr>\n",
       "      <th>col</th>\n",
       "      <th></th>\n",
       "      <th></th>\n",
       "      <th></th>\n",
       "      <th></th>\n",
       "      <th></th>\n",
       "      <th></th>\n",
       "      <th></th>\n",
       "      <th></th>\n",
       "      <th></th>\n",
       "      <th></th>\n",
       "      <th></th>\n",
       "      <th></th>\n",
       "      <th></th>\n",
       "      <th></th>\n",
       "    </tr>\n",
       "  </thead>\n",
       "  <tbody>\n",
       "    <tr>\n",
       "      <th>BLDHRS1</th>\n",
       "      <td>EV:Phlebotomy: time venipuncture completed (fi...</td>\n",
       "      <td>0</td>\n",
       "      <td>{}</td>\n",
       "      <td>2</td>\n",
       "      <td>{A, M}</td>\n",
       "      <td>False</td>\n",
       "      <td>unsigned</td>\n",
       "      <td>427</td>\n",
       "      <td>63300.0</td>\n",
       "      <td>24000.0</td>\n",
       "      <td>2118</td>\n",
       "      <td>24629</td>\n",
       "      <td>0</td>\n",
       "      <td>0</td>\n",
       "    </tr>\n",
       "    <tr>\n",
       "      <th>BLDHRS2</th>\n",
       "      <td>EV:Phlebotomy: time venipuncture completed (re...</td>\n",
       "      <td>0</td>\n",
       "      <td>{}</td>\n",
       "      <td>1</td>\n",
       "      <td>{A}</td>\n",
       "      <td>False</td>\n",
       "      <td>unsigned</td>\n",
       "      <td>80</td>\n",
       "      <td>48000.0</td>\n",
       "      <td>24600.0</td>\n",
       "      <td>26634</td>\n",
       "      <td>113</td>\n",
       "      <td>0</td>\n",
       "      <td>0</td>\n",
       "    </tr>\n",
       "    <tr>\n",
       "      <th>BLSURD1</th>\n",
       "      <td>EV:Phlebotomy: days between most recent surger...</td>\n",
       "      <td>0</td>\n",
       "      <td>{}</td>\n",
       "      <td>3</td>\n",
       "      <td>{A, M, D}</td>\n",
       "      <td>False</td>\n",
       "      <td>unsigned</td>\n",
       "      <td>537</td>\n",
       "      <td>984.0</td>\n",
       "      <td>0.0</td>\n",
       "      <td>23341</td>\n",
       "      <td>3406</td>\n",
       "      <td>0</td>\n",
       "      <td>0</td>\n",
       "    </tr>\n",
       "    <tr>\n",
       "      <th>BLSURD2</th>\n",
       "      <td>EV:Phlebotomy: days between most recent surger...</td>\n",
       "      <td>0</td>\n",
       "      <td>{}</td>\n",
       "      <td>1</td>\n",
       "      <td>{A}</td>\n",
       "      <td>False</td>\n",
       "      <td>unsigned</td>\n",
       "      <td>15</td>\n",
       "      <td>264.0</td>\n",
       "      <td>36.0</td>\n",
       "      <td>26732</td>\n",
       "      <td>15</td>\n",
       "      <td>0</td>\n",
       "      <td>0</td>\n",
       "    </tr>\n",
       "    <tr>\n",
       "      <th>HOURSP1</th>\n",
       "      <td>None</td>\n",
       "      <td>0</td>\n",
       "      <td>{}</td>\n",
       "      <td>3</td>\n",
       "      <td>{A, M, W}</td>\n",
       "      <td>False</td>\n",
       "      <td>unsigned</td>\n",
       "      <td>26</td>\n",
       "      <td>24.0</td>\n",
       "      <td>0.0</td>\n",
       "      <td>2146</td>\n",
       "      <td>24601</td>\n",
       "      <td>0</td>\n",
       "      <td>0</td>\n",
       "    </tr>\n",
       "    <tr>\n",
       "      <th>HOURSP2</th>\n",
       "      <td>None</td>\n",
       "      <td>0</td>\n",
       "      <td>{}</td>\n",
       "      <td>2</td>\n",
       "      <td>{A, M}</td>\n",
       "      <td>False</td>\n",
       "      <td>unsigned</td>\n",
       "      <td>13</td>\n",
       "      <td>16.0</td>\n",
       "      <td>2.0</td>\n",
       "      <td>26637</td>\n",
       "      <td>110</td>\n",
       "      <td>0</td>\n",
       "      <td>0</td>\n",
       "    </tr>\n",
       "    <tr>\n",
       "      <th>HRSUC1</th>\n",
       "      <td>None</td>\n",
       "      <td>0</td>\n",
       "      <td>{}</td>\n",
       "      <td>3</td>\n",
       "      <td>{A, M, W}</td>\n",
       "      <td>False</td>\n",
       "      <td>float</td>\n",
       "      <td>240</td>\n",
       "      <td>24.0</td>\n",
       "      <td>0.1</td>\n",
       "      <td>2224</td>\n",
       "      <td>24492</td>\n",
       "      <td>0</td>\n",
       "      <td>0</td>\n",
       "    </tr>\n",
       "    <tr>\n",
       "      <th>HRSUC2</th>\n",
       "      <td>None</td>\n",
       "      <td>0</td>\n",
       "      <td>{}</td>\n",
       "      <td>2</td>\n",
       "      <td>{A, M}</td>\n",
       "      <td>False</td>\n",
       "      <td>float</td>\n",
       "      <td>45</td>\n",
       "      <td>16.5</td>\n",
       "      <td>2.4</td>\n",
       "      <td>26676</td>\n",
       "      <td>71</td>\n",
       "      <td>0</td>\n",
       "      <td>0</td>\n",
       "    </tr>\n",
       "    <tr>\n",
       "      <th>PDATE1</th>\n",
       "      <td>None</td>\n",
       "      <td>0</td>\n",
       "      <td>{}</td>\n",
       "      <td>1</td>\n",
       "      <td>{A}</td>\n",
       "      <td>False</td>\n",
       "      <td>unsigned</td>\n",
       "      <td>2218</td>\n",
       "      <td>19313.0</td>\n",
       "      <td>16124.0</td>\n",
       "      <td>2113</td>\n",
       "      <td>24634</td>\n",
       "      <td>0</td>\n",
       "      <td>0</td>\n",
       "    </tr>\n",
       "    <tr>\n",
       "      <th>PDATE2</th>\n",
       "      <td>None</td>\n",
       "      <td>0</td>\n",
       "      <td>{}</td>\n",
       "      <td>1</td>\n",
       "      <td>{A}</td>\n",
       "      <td>False</td>\n",
       "      <td>unsigned</td>\n",
       "      <td>109</td>\n",
       "      <td>19046.0</td>\n",
       "      <td>16154.0</td>\n",
       "      <td>26634</td>\n",
       "      <td>113</td>\n",
       "      <td>0</td>\n",
       "      <td>0</td>\n",
       "    </tr>\n",
       "    <tr>\n",
       "      <th>PLAQHR1</th>\n",
       "      <td>EV:Laboratory processing: time at start of pla...</td>\n",
       "      <td>0</td>\n",
       "      <td>{}</td>\n",
       "      <td>2</td>\n",
       "      <td>{A, M}</td>\n",
       "      <td>False</td>\n",
       "      <td>unsigned</td>\n",
       "      <td>443</td>\n",
       "      <td>64500.0</td>\n",
       "      <td>26400.0</td>\n",
       "      <td>2194</td>\n",
       "      <td>24553</td>\n",
       "      <td>0</td>\n",
       "      <td>0</td>\n",
       "    </tr>\n",
       "    <tr>\n",
       "      <th>PLAQHR2</th>\n",
       "      <td>EV:Laboratory processing: time at start of pla...</td>\n",
       "      <td>0</td>\n",
       "      <td>{}</td>\n",
       "      <td>1</td>\n",
       "      <td>{A}</td>\n",
       "      <td>False</td>\n",
       "      <td>unsigned</td>\n",
       "      <td>72</td>\n",
       "      <td>49500.0</td>\n",
       "      <td>27000.0</td>\n",
       "      <td>26643</td>\n",
       "      <td>104</td>\n",
       "      <td>0</td>\n",
       "      <td>0</td>\n",
       "    </tr>\n",
       "    <tr>\n",
       "      <th>SEAQHR1</th>\n",
       "      <td>EV:Laboratory processing: time at start of ser...</td>\n",
       "      <td>0</td>\n",
       "      <td>{}</td>\n",
       "      <td>2</td>\n",
       "      <td>{A, M}</td>\n",
       "      <td>False</td>\n",
       "      <td>unsigned</td>\n",
       "      <td>441</td>\n",
       "      <td>66300.0</td>\n",
       "      <td>27780.0</td>\n",
       "      <td>2129</td>\n",
       "      <td>24618</td>\n",
       "      <td>0</td>\n",
       "      <td>0</td>\n",
       "    </tr>\n",
       "    <tr>\n",
       "      <th>SEAQHR2</th>\n",
       "      <td>EV:Laboratory processing: time at start of ser...</td>\n",
       "      <td>0</td>\n",
       "      <td>{}</td>\n",
       "      <td>2</td>\n",
       "      <td>{A, M}</td>\n",
       "      <td>False</td>\n",
       "      <td>unsigned</td>\n",
       "      <td>71</td>\n",
       "      <td>51300.0</td>\n",
       "      <td>28200.0</td>\n",
       "      <td>26652</td>\n",
       "      <td>95</td>\n",
       "      <td>0</td>\n",
       "      <td>0</td>\n",
       "    </tr>\n",
       "    <tr>\n",
       "      <th>UCDATE1</th>\n",
       "      <td>None</td>\n",
       "      <td>0</td>\n",
       "      <td>{}</td>\n",
       "      <td>2</td>\n",
       "      <td>{A, M}</td>\n",
       "      <td>False</td>\n",
       "      <td>unsigned</td>\n",
       "      <td>2220</td>\n",
       "      <td>19313.0</td>\n",
       "      <td>16124.0</td>\n",
       "      <td>1959</td>\n",
       "      <td>24788</td>\n",
       "      <td>0</td>\n",
       "      <td>0</td>\n",
       "    </tr>\n",
       "    <tr>\n",
       "      <th>UCDATE2</th>\n",
       "      <td>None</td>\n",
       "      <td>0</td>\n",
       "      <td>{}</td>\n",
       "      <td>1</td>\n",
       "      <td>{A}</td>\n",
       "      <td>False</td>\n",
       "      <td>unsigned</td>\n",
       "      <td>71</td>\n",
       "      <td>19046.0</td>\n",
       "      <td>16163.0</td>\n",
       "      <td>26673</td>\n",
       "      <td>74</td>\n",
       "      <td>0</td>\n",
       "      <td>0</td>\n",
       "    </tr>\n",
       "    <tr>\n",
       "      <th>URINHR1</th>\n",
       "      <td>EV:Urine collection: time collected (first col...</td>\n",
       "      <td>0</td>\n",
       "      <td>{}</td>\n",
       "      <td>2</td>\n",
       "      <td>{A, M}</td>\n",
       "      <td>False</td>\n",
       "      <td>unsigned</td>\n",
       "      <td>538</td>\n",
       "      <td>68400.0</td>\n",
       "      <td>0.0</td>\n",
       "      <td>2043</td>\n",
       "      <td>24703</td>\n",
       "      <td>0</td>\n",
       "      <td>0</td>\n",
       "    </tr>\n",
       "    <tr>\n",
       "      <th>URINHR2</th>\n",
       "      <td>EV:Urine collection: time collected (repeat co...</td>\n",
       "      <td>0</td>\n",
       "      <td>{}</td>\n",
       "      <td>2</td>\n",
       "      <td>{A, M}</td>\n",
       "      <td>False</td>\n",
       "      <td>unsigned</td>\n",
       "      <td>48</td>\n",
       "      <td>48900.0</td>\n",
       "      <td>16800.0</td>\n",
       "      <td>26674</td>\n",
       "      <td>73</td>\n",
       "      <td>0</td>\n",
       "      <td>0</td>\n",
       "    </tr>\n",
       "    <tr>\n",
       "      <th>URSURD1</th>\n",
       "      <td>EV:Urine collection: days between most recent ...</td>\n",
       "      <td>0</td>\n",
       "      <td>{}</td>\n",
       "      <td>3</td>\n",
       "      <td>{A, M, D}</td>\n",
       "      <td>False</td>\n",
       "      <td>unsigned</td>\n",
       "      <td>538</td>\n",
       "      <td>984.0</td>\n",
       "      <td>0.0</td>\n",
       "      <td>23310</td>\n",
       "      <td>3437</td>\n",
       "      <td>0</td>\n",
       "      <td>0</td>\n",
       "    </tr>\n",
       "    <tr>\n",
       "      <th>URSURD2</th>\n",
       "      <td>EV:Urine collection: days between most recent ...</td>\n",
       "      <td>0</td>\n",
       "      <td>{}</td>\n",
       "      <td>1</td>\n",
       "      <td>{A}</td>\n",
       "      <td>False</td>\n",
       "      <td>unsigned</td>\n",
       "      <td>12</td>\n",
       "      <td>260.0</td>\n",
       "      <td>36.0</td>\n",
       "      <td>26735</td>\n",
       "      <td>12</td>\n",
       "      <td>0</td>\n",
       "      <td>0</td>\n",
       "    </tr>\n",
       "    <tr>\n",
       "      <th>BLUPMN1</th>\n",
       "      <td>None</td>\n",
       "      <td>0</td>\n",
       "      <td>{}</td>\n",
       "      <td>2</td>\n",
       "      <td>{A, M}</td>\n",
       "      <td>False</td>\n",
       "      <td>unsigned</td>\n",
       "      <td>512</td>\n",
       "      <td>1210.0</td>\n",
       "      <td>5.0</td>\n",
       "      <td>2124</td>\n",
       "      <td>19827</td>\n",
       "      <td>0</td>\n",
       "      <td>0</td>\n",
       "    </tr>\n",
       "    <tr>\n",
       "      <th>BLUPMN2</th>\n",
       "      <td>None</td>\n",
       "      <td>0</td>\n",
       "      <td>{}</td>\n",
       "      <td>2</td>\n",
       "      <td>{A, M}</td>\n",
       "      <td>False</td>\n",
       "      <td>unsigned</td>\n",
       "      <td>63</td>\n",
       "      <td>347.0</td>\n",
       "      <td>15.0</td>\n",
       "      <td>21868</td>\n",
       "      <td>83</td>\n",
       "      <td>0</td>\n",
       "      <td>0</td>\n",
       "    </tr>\n",
       "    <tr>\n",
       "      <th>DFBCOLL</th>\n",
       "      <td>FU WKB:Phlebotomy: difference in minutes betwe...</td>\n",
       "      <td>0</td>\n",
       "      <td>{}</td>\n",
       "      <td>3</td>\n",
       "      <td>{A, M, K}</td>\n",
       "      <td>False</td>\n",
       "      <td>signed</td>\n",
       "      <td>503</td>\n",
       "      <td>595.0</td>\n",
       "      <td>-405.0</td>\n",
       "      <td>5005</td>\n",
       "      <td>19757</td>\n",
       "      <td>0</td>\n",
       "      <td>0</td>\n",
       "    </tr>\n",
       "    <tr>\n",
       "      <th>DFUCOLL</th>\n",
       "      <td>FU WBK:Urine collection: difference in minutes...</td>\n",
       "      <td>0</td>\n",
       "      <td>{}</td>\n",
       "      <td>3</td>\n",
       "      <td>{A, M, K}</td>\n",
       "      <td>False</td>\n",
       "      <td>signed</td>\n",
       "      <td>628</td>\n",
       "      <td>809.0</td>\n",
       "      <td>-776.0</td>\n",
       "      <td>4933</td>\n",
       "      <td>19829</td>\n",
       "      <td>0</td>\n",
       "      <td>0</td>\n",
       "    </tr>\n",
       "    <tr>\n",
       "      <th>PRRDDYS</th>\n",
       "      <td>BL/FU kXR reading: days elapsed between baseli...</td>\n",
       "      <td>0</td>\n",
       "      <td>{}</td>\n",
       "      <td>1</td>\n",
       "      <td>{A}</td>\n",
       "      <td>False</td>\n",
       "      <td>unsigned</td>\n",
       "      <td>259</td>\n",
       "      <td>668.0</td>\n",
       "      <td>266.0</td>\n",
       "      <td>576</td>\n",
       "      <td>4220</td>\n",
       "      <td>0</td>\n",
       "      <td>0</td>\n",
       "    </tr>\n",
       "    <tr>\n",
       "      <th>URUPMN1</th>\n",
       "      <td>None</td>\n",
       "      <td>0</td>\n",
       "      <td>{}</td>\n",
       "      <td>2</td>\n",
       "      <td>{A, M}</td>\n",
       "      <td>False</td>\n",
       "      <td>signed</td>\n",
       "      <td>471</td>\n",
       "      <td>1204.0</td>\n",
       "      <td>-550.0</td>\n",
       "      <td>2041</td>\n",
       "      <td>19909</td>\n",
       "      <td>0</td>\n",
       "      <td>0</td>\n",
       "    </tr>\n",
       "    <tr>\n",
       "      <th>URUPMN2</th>\n",
       "      <td>None</td>\n",
       "      <td>0</td>\n",
       "      <td>{}</td>\n",
       "      <td>2</td>\n",
       "      <td>{A, M}</td>\n",
       "      <td>False</td>\n",
       "      <td>unsigned</td>\n",
       "      <td>43</td>\n",
       "      <td>340.0</td>\n",
       "      <td>6.0</td>\n",
       "      <td>21891</td>\n",
       "      <td>59</td>\n",
       "      <td>0</td>\n",
       "      <td>0</td>\n",
       "    </tr>\n",
       "  </tbody>\n",
       "</table>\n",
       "</div>"
      ],
      "text/plain": [
       "                                                     label  uniq_strs  \\\n",
       "col                                                                     \n",
       "BLDHRS1  EV:Phlebotomy: time venipuncture completed (fi...          0   \n",
       "BLDHRS2  EV:Phlebotomy: time venipuncture completed (re...          0   \n",
       "BLSURD1  EV:Phlebotomy: days between most recent surger...          0   \n",
       "BLSURD2  EV:Phlebotomy: days between most recent surger...          0   \n",
       "HOURSP1                                               None          0   \n",
       "HOURSP2                                               None          0   \n",
       "HRSUC1                                                None          0   \n",
       "HRSUC2                                                None          0   \n",
       "PDATE1                                                None          0   \n",
       "PDATE2                                                None          0   \n",
       "PLAQHR1  EV:Laboratory processing: time at start of pla...          0   \n",
       "PLAQHR2  EV:Laboratory processing: time at start of pla...          0   \n",
       "SEAQHR1  EV:Laboratory processing: time at start of ser...          0   \n",
       "SEAQHR2  EV:Laboratory processing: time at start of ser...          0   \n",
       "UCDATE1                                               None          0   \n",
       "UCDATE2                                               None          0   \n",
       "URINHR1  EV:Urine collection: time collected (first col...          0   \n",
       "URINHR2  EV:Urine collection: time collected (repeat co...          0   \n",
       "URSURD1  EV:Urine collection: days between most recent ...          0   \n",
       "URSURD2  EV:Urine collection: days between most recent ...          0   \n",
       "BLUPMN1                                               None          0   \n",
       "BLUPMN2                                               None          0   \n",
       "DFBCOLL  FU WKB:Phlebotomy: difference in minutes betwe...          0   \n",
       "DFUCOLL  FU WBK:Urine collection: difference in minutes...          0   \n",
       "PRRDDYS  BL/FU kXR reading: days elapsed between baseli...          0   \n",
       "URUPMN1                                               None          0   \n",
       "URUPMN2                                               None          0   \n",
       "\n",
       "        str_list  missing_val_cnt missing_val_list  numeric_str  num_type  \\\n",
       "col                                                                         \n",
       "BLDHRS1       {}                2           {A, M}        False  unsigned   \n",
       "BLDHRS2       {}                1              {A}        False  unsigned   \n",
       "BLSURD1       {}                3        {A, M, D}        False  unsigned   \n",
       "BLSURD2       {}                1              {A}        False  unsigned   \n",
       "HOURSP1       {}                3        {A, M, W}        False  unsigned   \n",
       "HOURSP2       {}                2           {A, M}        False  unsigned   \n",
       "HRSUC1        {}                3        {A, M, W}        False     float   \n",
       "HRSUC2        {}                2           {A, M}        False     float   \n",
       "PDATE1        {}                1              {A}        False  unsigned   \n",
       "PDATE2        {}                1              {A}        False  unsigned   \n",
       "PLAQHR1       {}                2           {A, M}        False  unsigned   \n",
       "PLAQHR2       {}                1              {A}        False  unsigned   \n",
       "SEAQHR1       {}                2           {A, M}        False  unsigned   \n",
       "SEAQHR2       {}                2           {A, M}        False  unsigned   \n",
       "UCDATE1       {}                2           {A, M}        False  unsigned   \n",
       "UCDATE2       {}                1              {A}        False  unsigned   \n",
       "URINHR1       {}                2           {A, M}        False  unsigned   \n",
       "URINHR2       {}                2           {A, M}        False  unsigned   \n",
       "URSURD1       {}                3        {A, M, D}        False  unsigned   \n",
       "URSURD2       {}                1              {A}        False  unsigned   \n",
       "BLUPMN1       {}                2           {A, M}        False  unsigned   \n",
       "BLUPMN2       {}                2           {A, M}        False  unsigned   \n",
       "DFBCOLL       {}                3        {A, M, K}        False    signed   \n",
       "DFUCOLL       {}                3        {A, M, K}        False    signed   \n",
       "PRRDDYS       {}                1              {A}        False  unsigned   \n",
       "URUPMN1       {}                2           {A, M}        False    signed   \n",
       "URUPMN2       {}                2           {A, M}        False  unsigned   \n",
       "\n",
       "         uniq_num  max_num  min_num  str_cnt  num_cnt  date_cnt  na_cnt  \n",
       "col                                                                      \n",
       "BLDHRS1       427  63300.0  24000.0     2118    24629         0       0  \n",
       "BLDHRS2        80  48000.0  24600.0    26634      113         0       0  \n",
       "BLSURD1       537    984.0      0.0    23341     3406         0       0  \n",
       "BLSURD2        15    264.0     36.0    26732       15         0       0  \n",
       "HOURSP1        26     24.0      0.0     2146    24601         0       0  \n",
       "HOURSP2        13     16.0      2.0    26637      110         0       0  \n",
       "HRSUC1        240     24.0      0.1     2224    24492         0       0  \n",
       "HRSUC2         45     16.5      2.4    26676       71         0       0  \n",
       "PDATE1       2218  19313.0  16124.0     2113    24634         0       0  \n",
       "PDATE2        109  19046.0  16154.0    26634      113         0       0  \n",
       "PLAQHR1       443  64500.0  26400.0     2194    24553         0       0  \n",
       "PLAQHR2        72  49500.0  27000.0    26643      104         0       0  \n",
       "SEAQHR1       441  66300.0  27780.0     2129    24618         0       0  \n",
       "SEAQHR2        71  51300.0  28200.0    26652       95         0       0  \n",
       "UCDATE1      2220  19313.0  16124.0     1959    24788         0       0  \n",
       "UCDATE2        71  19046.0  16163.0    26673       74         0       0  \n",
       "URINHR1       538  68400.0      0.0     2043    24703         0       0  \n",
       "URINHR2        48  48900.0  16800.0    26674       73         0       0  \n",
       "URSURD1       538    984.0      0.0    23310     3437         0       0  \n",
       "URSURD2        12    260.0     36.0    26735       12         0       0  \n",
       "BLUPMN1       512   1210.0      5.0     2124    19827         0       0  \n",
       "BLUPMN2        63    347.0     15.0    21868       83         0       0  \n",
       "DFBCOLL       503    595.0   -405.0     5005    19757         0       0  \n",
       "DFUCOLL       628    809.0   -776.0     4933    19829         0       0  \n",
       "PRRDDYS       259    668.0    266.0      576     4220         0       0  \n",
       "URUPMN1       471   1204.0   -550.0     2041    19909         0       0  \n",
       "URUPMN2        43    340.0      6.0    21891       59         0       0  "
      ]
     },
     "execution_count": 68,
     "metadata": {},
     "output_type": "execute_result"
    }
   ],
   "source": [
    "data_stats_summary(tmp_df, data_stats_df)\n",
    "data_stats_df"
   ]
  },
  {
   "cell_type": "code",
   "execution_count": 69,
   "id": "35e22876",
   "metadata": {
    "execution": {
     "iopub.execute_input": "2023-12-21T21:02:07.264960Z",
     "iopub.status.busy": "2023-12-21T21:02:07.264583Z",
     "iopub.status.idle": "2023-12-21T21:02:07.276375Z",
     "shell.execute_reply": "2023-12-21T21:02:07.275661Z",
     "shell.execute_reply.started": "2023-12-21T21:02:07.264932Z"
    },
    "pycharm": {
     "name": "#%%\n"
    }
   },
   "outputs": [
    {
     "name": "stdout",
     "output_type": "stream",
     "text": [
      "targets = {\n",
      "# Columns with only unsigned ints, missing, and NA values\n",
      "'unsigned': ['BLDHRS1', 'BLDHRS2', 'BLSURD1', 'BLSURD2', 'HOURSP1', 'HOURSP2', 'PDATE1', 'PDATE2', 'PLAQHR1', 'PLAQHR2', 'SEAQHR1', 'SEAQHR2', 'UCDATE1', 'UCDATE2', 'URINHR1', 'URINHR2', 'URSURD1', 'URSURD2', 'BLUPMN1', 'BLUPMN2', 'PRRDDYS', 'URUPMN2'],\n",
      "\n",
      "# Columns with only signed ints, missing, and NA values\n",
      "'signed': ['DFBCOLL', 'DFUCOLL', 'URUPMN1'],\n",
      "\n",
      "# Columns with only floats, missing, and NA values\n",
      "'float': ['HRSUC1', 'HRSUC2'],\n",
      "\n",
      "}\n",
      "\n",
      "\n",
      "Handled columns: 27\n"
     ]
    }
   ],
   "source": [
    "suggest_conversions(data_stats_df)"
   ]
  },
  {
   "cell_type": "code",
   "execution_count": 70,
   "id": "a70ba942",
   "metadata": {
    "execution": {
     "iopub.execute_input": "2023-12-21T21:02:07.278089Z",
     "iopub.status.busy": "2023-12-21T21:02:07.277425Z",
     "iopub.status.idle": "2023-12-21T21:02:08.494200Z",
     "shell.execute_reply": "2023-12-21T21:02:08.493456Z",
     "shell.execute_reply.started": "2023-12-21T21:02:07.278060Z"
    },
    "pycharm": {
     "name": "#%%\n"
    }
   },
   "outputs": [],
   "source": [
    "targets = {\n",
    "# Columns with only unsigned ints, missing, and NA values\n",
    "'unsigned': ['BLDHRS1', 'BLDHRS2', 'BLSURD1', 'BLSURD2', 'HOURSP1', 'HOURSP2', 'PDATE1', 'PDATE2', 'PLAQHR1', 'PLAQHR2', 'SEAQHR1', 'SEAQHR2', 'UCDATE1', 'UCDATE2', 'URINHR1', 'URINHR2', 'URSURD1', 'URSURD2', 'BLUPMN1', 'BLUPMN2', 'PRRDDYS', 'URUPMN2'],\n",
    "\n",
    "# Columns with only signed ints, missing, and NA values\n",
    "'signed': ['DFBCOLL', 'DFUCOLL', 'URUPMN1'],\n",
    "\n",
    "# Columns with only floats, missing, and NA values\n",
    "'float': ['HRSUC1', 'HRSUC2'],\n",
    "\n",
    "}\n",
    "\n",
    "new_df, missing_df = convert_columns(targets, data_stats_df, tmp_df)"
   ]
  },
  {
   "cell_type": "code",
   "execution_count": 71,
   "id": "3cfecc6e",
   "metadata": {
    "execution": {
     "iopub.execute_input": "2023-12-21T21:02:08.495531Z",
     "iopub.status.busy": "2023-12-21T21:02:08.495198Z",
     "iopub.status.idle": "2023-12-21T21:02:08.535165Z",
     "shell.execute_reply": "2023-12-21T21:02:08.534375Z",
     "shell.execute_reply.started": "2023-12-21T21:02:08.495503Z"
    },
    "pycharm": {
     "name": "#%%\n"
    }
   },
   "outputs": [
    {
     "name": "stdout",
     "output_type": "stream",
     "text": [
      "\n",
      "VERSION    category\n",
      "BLDCOLL    category\n",
      "BLDHRS1      UInt16\n",
      "BLDHRS2      UInt16\n",
      "BLDRAW1    category\n",
      "             ...   \n",
      "SRGSTAT    category\n",
      "URUPMN1       Int16\n",
      "URUPMN2      UInt16\n",
      "MRKSIDE    category\n",
      "LMPHCT     category\n",
      "Length: 63, dtype: object\n",
      "\n",
      "Missing values present, shadow dataframe created.\n",
      "              BLDHRS1           BLDHRS2           BLSURD1           BLSURD2  \\\n",
      "ID      Visit                                                                 \n",
      "9000099 V00       NaN  .A: Not Expected  .A: Not Expected  .A: Not Expected   \n",
      "9000296 V00       NaN  .A: Not Expected  .A: Not Expected  .A: Not Expected   \n",
      "9000622 V00       NaN  .A: Not Expected  .A: Not Expected  .A: Not Expected   \n",
      "9000798 V00       NaN  .A: Not Expected  .A: Not Expected  .A: Not Expected   \n",
      "9001104 V00       NaN  .A: Not Expected  .A: Not Expected  .A: Not Expected   \n",
      "...               ...               ...               ...               ...   \n",
      "9999365 V10       NaN               NaN               NaN               NaN   \n",
      "9999510 V10       NaN               NaN               NaN               NaN   \n",
      "9999862 V10       NaN               NaN               NaN               NaN   \n",
      "9999865 V10       NaN               NaN               NaN               NaN   \n",
      "9999878 V10       NaN               NaN               NaN               NaN   \n",
      "\n",
      "              HOURSP1           HOURSP2 PDATE1            PDATE2 PLAQHR1  \\\n",
      "ID      Visit                                                              \n",
      "9000099 V00       NaN  .A: Not Expected    NaN  .A: Not Expected     NaN   \n",
      "9000296 V00       NaN  .A: Not Expected    NaN  .A: Not Expected     NaN   \n",
      "9000622 V00       NaN  .A: Not Expected    NaN  .A: Not Expected     NaN   \n",
      "9000798 V00       NaN  .A: Not Expected    NaN  .A: Not Expected     NaN   \n",
      "9001104 V00       NaN  .A: Not Expected    NaN  .A: Not Expected     NaN   \n",
      "...               ...               ...    ...               ...     ...   \n",
      "9999365 V10       NaN               NaN    NaN               NaN     NaN   \n",
      "9999510 V10       NaN               NaN    NaN               NaN     NaN   \n",
      "9999862 V10       NaN               NaN    NaN               NaN     NaN   \n",
      "9999865 V10       NaN               NaN    NaN               NaN     NaN   \n",
      "9999878 V10       NaN               NaN    NaN               NaN     NaN   \n",
      "\n",
      "                        PLAQHR2  ...           URSURD2 BLUPMN1 BLUPMN2  \\\n",
      "ID      Visit                    ...                                     \n",
      "9000099 V00    .A: Not Expected  ...  .A: Not Expected     NaN     NaN   \n",
      "9000296 V00    .A: Not Expected  ...  .A: Not Expected     NaN     NaN   \n",
      "9000622 V00    .A: Not Expected  ...  .A: Not Expected     NaN     NaN   \n",
      "9000798 V00    .A: Not Expected  ...  .A: Not Expected     NaN     NaN   \n",
      "9001104 V00    .A: Not Expected  ...  .A: Not Expected     NaN     NaN   \n",
      "...                         ...  ...               ...     ...     ...   \n",
      "9999365 V10                 NaN  ...               NaN     NaN     NaN   \n",
      "9999510 V10                 NaN  ...               NaN     NaN     NaN   \n",
      "9999862 V10                 NaN  ...               NaN     NaN     NaN   \n",
      "9999865 V10                 NaN  ...               NaN     NaN     NaN   \n",
      "9999878 V10                 NaN  ...               NaN     NaN     NaN   \n",
      "\n",
      "              PRRDDYS URUPMN2 DFBCOLL DFUCOLL URUPMN1 HRSUC1            HRSUC2  \n",
      "ID      Visit                                                                   \n",
      "9000099 V00       NaN     NaN     NaN     NaN     NaN    NaN  .A: Not Expected  \n",
      "9000296 V00       NaN     NaN     NaN     NaN     NaN    NaN  .A: Not Expected  \n",
      "9000622 V00       NaN     NaN     NaN     NaN     NaN    NaN  .A: Not Expected  \n",
      "9000798 V00       NaN     NaN     NaN     NaN     NaN    NaN  .A: Not Expected  \n",
      "9001104 V00       NaN     NaN     NaN     NaN     NaN    NaN  .A: Not Expected  \n",
      "...               ...     ...     ...     ...     ...    ...               ...  \n",
      "9999365 V10       NaN     NaN     NaN     NaN     NaN    NaN               NaN  \n",
      "9999510 V10       NaN     NaN     NaN     NaN     NaN    NaN               NaN  \n",
      "9999862 V10       NaN     NaN     NaN     NaN     NaN    NaN               NaN  \n",
      "9999865 V10       NaN     NaN     NaN     NaN     NaN    NaN               NaN  \n",
      "9999878 V10       NaN     NaN     NaN     NaN     NaN    NaN               NaN  \n",
      "\n",
      "[34354 rows x 27 columns]\n"
     ]
    }
   ],
   "source": [
    "sanity_check(new_df)\n",
    "print()\n",
    "print(new_df.dtypes)\n",
    "if not missing_df.empty:\n",
    "    print('\\nMissing values present, shadow dataframe created.')\n",
    "    print(missing_df)"
   ]
  },
  {
   "cell_type": "code",
   "execution_count": 72,
   "id": "e7c3dd40",
   "metadata": {
    "execution": {
     "iopub.execute_input": "2023-12-21T21:02:08.536683Z",
     "iopub.status.busy": "2023-12-21T21:02:08.536105Z",
     "iopub.status.idle": "2023-12-21T21:02:08.546468Z",
     "shell.execute_reply": "2023-12-21T21:02:08.545677Z",
     "shell.execute_reply.started": "2023-12-21T21:02:08.536654Z"
    },
    "pycharm": {
     "name": "#%%\n"
    }
   },
   "outputs": [
    {
     "name": "stdout",
     "output_type": "stream",
     "text": [
      "\n",
      "Final dataframe size: 4.30MB\n",
      "Shadow dataframe size: 1.10MB\n"
     ]
    }
   ],
   "source": [
    "print('\\nFinal dataframe size: {:.2f}MB'.format(new_df.memory_usage(deep=True).sum() / (1024**2)))\n",
    "print('Shadow dataframe size: {:.2f}MB'.format(missing_df.memory_usage(deep=True).sum() / (1024**2)))"
   ]
  },
  {
   "cell_type": "code",
   "execution_count": 73,
   "id": "21bae93b-f7c7-40b8-b96c-29a91d61b9dc",
   "metadata": {
    "execution": {
     "iopub.execute_input": "2023-12-21T21:02:08.547768Z",
     "iopub.status.busy": "2023-12-21T21:02:08.547413Z",
     "iopub.status.idle": "2023-12-21T21:02:08.819132Z",
     "shell.execute_reply": "2023-12-21T21:02:08.818396Z",
     "shell.execute_reply.started": "2023-12-21T21:02:08.547740Z"
    }
   },
   "outputs": [],
   "source": [
    "utils.write_parquet(new_df, 'data/' + prefix + '_values.parquet')\n",
    "if not missing_df.empty:\n",
    "    utils.write_parquet(new_df, 'data/' + prefix + '_missing_values.parquet', verbose=False)"
   ]
  },
  {
   "cell_type": "markdown",
   "id": "f14d0235",
   "metadata": {
    "tags": []
   },
   "source": [
    "## biospec_fnih_joco_assays\n",
    "TODO: Not handled yet as column naming format doesn't use visit prefixes"
   ]
  },
  {
   "cell_type": "code",
   "execution_count": 74,
   "id": "7c0427f1",
   "metadata": {
    "execution": {
     "iopub.execute_input": "2023-12-21T21:02:08.820770Z",
     "iopub.status.busy": "2023-12-21T21:02:08.820357Z",
     "iopub.status.idle": "2023-12-21T21:02:10.091176Z",
     "shell.execute_reply": "2023-12-21T21:02:10.090223Z",
     "shell.execute_reply.started": "2023-12-21T21:02:08.820741Z"
    }
   },
   "outputs": [
    {
     "name": "stdout",
     "output_type": "stream",
     "text": [
      "\n",
      "biospec_fnih_joco_assays.sas7bdat: (129, 181)\n",
      "['SpecID', 'VERSION', 'Serum_C1_2C_lc', 'Serum_C2C_lc', 'Serum_COLL2_1_NO2_lc', 'Serum_CPII_lc', 'Serum_CS846_lc', 'Serum_CTXI_lc', 'Serum_Comp_lc', 'Serum_HA_lc', 'Serum_MMP_3_lc', 'Serum_NTXI_lc', 'Serum_PIIANP_lc', 'Urine_CTXII_lc', 'Urine_C1_2C_lc', 'Urine_C2C_lc', 'Urine_Creatinine_lc', 'Urine_NTXI_lc', 'Urine_alpha_lc', 'Urine_beta_lc', 'Serum_C1_2C_NUM', 'Serum_C2C_NUM', 'Serum_CPII_NUM', 'Serum_PIIANP_NUM', 'Serum_COLL2_1_NO2_NUM', 'Serum_CS846_NUM', 'Serum_CTXI_NUM', 'Serum_Comp_NUM', 'Serum_HA_NUM', 'Serum_MMP_3_NUM', 'Serum_NTXI_NUM', 'Urine_CTXII_NUM', 'Urine_C1_2C_NUM', 'Urine_C2C_NUM', 'Urine_Creatinine_NUM', 'Urine_NTXI_NUM', 'Urine_alpha_NUM', 'Urine_beta_NUM', 'Urine_Col21N2_NUM', 'Urine_CTXII_NUMCA', 'Urine_C1_2C_NUMCA', 'Urine_C2C_NUMCA', 'Urine_NTXI_NUMCA', 'Urine_alpha_NUMCA', 'Urine_beta_NUMCA', 'Urine_Col21N2_NUMCA', 'Serum_C1_2C_ALTNUM', 'Serum_C2C_ALTNUM', 'Serum_COLL2_1_NO2_ALTNUM', 'Serum_CPII_ALTNUM', 'Serum_CS846_ALTNUM', 'Serum_CTXI_ALTNUM', 'Serum_Comp_ALTNUM', 'Serum_HA_ALTNUM', 'Serum_MMP_3_ALTNUM', 'Serum_NTXI_ALTNUM', 'Serum_PIIANP_ALTNUM', 'Urine_CTXII_ALTNUM', 'Urine_C1_2C_ALTNUM', 'Urine_C2C_ALTNUM', 'Urine_NTXI_ALTNUM', 'Urine_alpha_ALTNUM', 'Urine_beta_ALTNUM', 'Urine_Col21N2_ALTNUM', 'Urine_CTXII_ALTNUMCA', 'Urine_C1_2C_ALTNUMCA', 'Urine_C2C_ALTNUMCA', 'Urine_NTXI_ALTNUMCA', 'Urine_alpha_ALTNUMCA', 'Urine_beta_ALTNUMCA', 'Urine_Col21N2_ALTNUMCA', 'Serum_C1_2C_lowlim', 'Serum_C2C_lowlim', 'Serum_COLL2_1_NO2_lowlim', 'Serum_CPII_lowlim', 'Serum_CS846_lowlim', 'Serum_CTXI_lowlim', 'Serum_Comp_lowlim', 'Serum_HA_lowlim', 'Serum_MMP_3_lowlim', 'Serum_NTXI_lowlim', 'Serum_PIIANP_lowlim', 'Urine_CTXII_lowlim', 'Urine_C1_2C_lowlim', 'Urine_C2C_lowlim', 'Urine_NTXI_lowlim', 'Urine_alpha_lowlim', 'Urine_beta_lowlim', 'Urine_Col21N2_lowlim', 'Serum_C1_2C_Comment', 'Serum_C2C_Comment', 'Serum_COLL2_1_NO2_Comment', 'Serum_CPII_Comment', 'Serum_CS846_Comment', 'Serum_CTXI_Comment', 'Serum_Comp_Comment', 'Serum_HA_Comment', 'Serum_MMP_3_Comment', 'Serum_NTXI_Comment', 'Serum_PIIANP_Comment', 'Urine_CTXII_Comment', 'Urine_C1__2C_Comment', 'Urine_C2C_Comment', 'Urine_Creatinine_Comment', 'Urine_NTXI_Comment', 'Urine_alpha_Comment', 'Urine_beta_Comment', 'Serum_C1_2C_HQC', 'Serum_C2C_HQC', 'Serum_COLL2_1_NO2_HQC', 'Serum_CPII_HQC', 'Serum_CS846_HQC', 'Serum_CTXI_HQC', 'Serum_Comp_HQC', 'Serum_HA_HQC', 'Serum_MMP_3_HQC', 'Serum_NTXI_HQC', 'Serum_PIIANP_HQC', 'Urine_CTXII_HQC', 'Urine_Creatinine_HQC', 'Urine_NTXI_HQC', 'Urine_alpha_HQC', 'Urine_beta_HQC', 'Serum_C1_2C_LQC', 'Serum_C2C_LQC', 'Serum_COLL2_1_NO2_LQC', 'Serum_CPII_LQC', 'Serum_CS846_LQC', 'Serum_CTXI_LQC', 'Serum_Comp_LQC', 'Serum_HA_LQC', 'Serum_MMP_3_LQC', 'Serum_NTXI_LQC', 'Serum_PIIANP_LQC', 'Urine_CTXII_LQC', 'Urine_C1__2C_LQC', 'Urine_C2C_LQC', 'Urine_Creatinine_LQC', 'Urine_NTXI_LQC', 'Urine_alpha_LQC', 'Urine_beta_LQC', 'Serum_MMP_3_MQC', 'Urine_C1__2C_MQC', 'Urine_C2C_MQC', 'Serum_C1_2C_Kit_Lot_Num', 'Serum_C2C_Kit_Lot_Num', 'Serum_COLL2_1_NO2_Kit_Lot_Num', 'Serum_CPII_Kit_Lot_Num', 'Serum_CS846_Kit_Lot_Num', 'Serum_CTXI_Kit_Lot_Num', 'Serum_Comp_Kit_Lot_Num', 'Serum_HA_Kit_Lot_Num', 'Serum_MMP_3_Kit_Lot_Num', 'Serum_NTXI_Kit_Lot_Num', 'Serum_PIIANP_Kit_Lot_Num', 'Urine_CTXII_Kit_Lot_Num', 'Urine_C1__2C_Kit_Lot_Num', 'Urine_C2C_Kit_Lot_Num', 'Urine_Creatinine_Kit_Lot_Num', 'Urine_NTXI_Kit_Lot_Num', 'Urine_alpha_Kit_Lot_Num', 'Urine_beta_Kit_Lot_Num', 'Serum_C1_2C_Plate_ID', 'Serum_C2C_Plate_ID', 'Serum_COLL2_1_NO2_Plate_ID', 'Serum_CPII_Plate_ID', 'Serum_CS846_Plate_ID', 'Serum_CTXI_Plate_ID', 'Serum_Comp_Plate_ID', 'Serum_HA_Plate_ID', 'Serum_MMP_3_Plate_ID', 'Serum_NTXI_Plate_ID', 'Serum_PIIANP_Plate_ID', 'Urine_CTXII_Plate_ID', 'Urine_C1__2C_Plate_ID', 'Urine_C2C_Plate_ID', 'Urine_Creatinine_Plate_ID', 'Urine_NTXI_Plate_ID', 'Urine_alpha_Plate_ID', 'Urine_beta_Plate_ID', 'Urine_CoL21N2_lc']\n",
      "\n",
      "Total rows: 129\n"
     ]
    }
   ],
   "source": [
    "prefix = 'biospec_fnih_joco_assays'\n",
    "column_uniformity_check(prefix)"
   ]
  },
  {
   "cell_type": "markdown",
   "id": "9ae1a943",
   "metadata": {
    "tags": []
   },
   "source": [
    "## biospec_fnih_labcorp"
   ]
  },
  {
   "cell_type": "code",
   "execution_count": 75,
   "id": "e30fc5ae",
   "metadata": {
    "execution": {
     "iopub.execute_input": "2023-12-21T21:02:10.092930Z",
     "iopub.status.busy": "2023-12-21T21:02:10.092572Z",
     "iopub.status.idle": "2023-12-21T21:02:13.929840Z",
     "shell.execute_reply": "2023-12-21T21:02:13.929066Z",
     "shell.execute_reply.started": "2023-12-21T21:02:10.092897Z"
    },
    "pycharm": {
     "name": "#%%\n"
    }
   },
   "outputs": [
    {
     "name": "stdout",
     "output_type": "stream",
     "text": [
      "\n",
      "biospec_fnih_labcorp00.sas7bdat: (600, 187)\n",
      "['ID', 'READPRJ', 'VERSION', 'Serum_C1_2C_lc', 'Serum_C2C_lc', 'Serum_COLL2_1_NO2_lc', 'Serum_CPII_lc', 'Serum_CS846_lc', 'Serum_CTXI_lc', 'Serum_Comp_lc', 'Serum_HA_lc', 'Serum_MMP_3_lc', 'Serum_NTXI_lc', 'Serum_PIIANP_lc', 'Urine_CTXII_lc', 'Urine_C1_2C_lc', 'Urine_C2C_lc', 'Urine_Creatinine_lc', 'Urine_NTXI_lc', 'Urine_alpha_lc', 'Urine_beta_lc', 'Serum_C1_2C_NUM', 'Serum_C2C_NUM', 'Serum_CPII_NUM', 'Serum_PIIANP_NUM', 'Serum_COLL2_1_NO2_NUM', 'Serum_CS846_NUM', 'Serum_CTXI_NUM', 'Serum_Comp_NUM', 'Serum_HA_NUM', 'Serum_MMP_3_NUM', 'Serum_NTXI_NUM', 'Urine_CTXII_NUM', 'Urine_C1_2C_NUM', 'Urine_C2C_NUM', 'Urine_Creatinine_NUM', 'Urine_NTXI_NUM', 'Urine_alpha_NUM', 'Urine_beta_NUM', 'Urine_Col21N2_NUM', 'Urine_CTXII_NUMCA', 'Urine_C1_2C_NUMCA', 'Urine_C2C_NUMCA', 'Urine_NTXI_NUMCA', 'Urine_alpha_NUMCA', 'Urine_beta_NUMCA', 'Urine_Col21N2_NUMCA', 'Serum_C1_2C_ALTNUM', 'Serum_C2C_ALTNUM', 'Serum_COLL2_1_NO2_ALTNUM', 'Serum_CPII_ALTNUM', 'Serum_CS846_ALTNUM', 'Serum_CTXI_ALTNUM', 'Serum_Comp_ALTNUM', 'Serum_HA_ALTNUM', 'Serum_MMP_3_ALTNUM', 'Serum_NTXI_ALTNUM', 'Serum_PIIANP_ALTNUM', 'Urine_CTXII_ALTNUM', 'Urine_C1_2C_ALTNUM', 'Urine_C2C_ALTNUM', 'Urine_NTXI_ALTNUM', 'Urine_alpha_ALTNUM', 'Urine_beta_ALTNUM', 'Urine_Col21N2_ALTNUM', 'Urine_CTXII_ALTNUMCA', 'Urine_C1_2C_ALTNUMCA', 'Urine_C2C_ALTNUMCA', 'Urine_NTXI_ALTNUMCA', 'Urine_alpha_ALTNUMCA', 'Urine_beta_ALTNUMCA', 'Urine_Col21N2_ALTNUMCA', 'Urine_Col21N2SD', 'Urine_Col21N2CV', 'Serum_C1_2C_lowlim', 'Serum_C2C_lowlim', 'Serum_COLL2_1_NO2_lowlim', 'Serum_CPII_lowlim', 'Serum_CS846_lowlim', 'Serum_CTXI_lowlim', 'Serum_Comp_lowlim', 'Serum_HA_lowlim', 'Serum_MMP_3_lowlim', 'Serum_NTXI_lowlim', 'Serum_PIIANP_lowlim', 'Urine_CTXII_lowlim', 'Urine_C1_2C_lowlim', 'Urine_C2C_lowlim', 'Urine_NTXI_lowlim', 'Urine_alpha_lowlim', 'Urine_beta_lowlim', 'Urine_Col21N2_lowlim', 'Serum_C1_2C_Comment', 'Serum_C2C_Comment', 'Serum_COLL2_1_NO2_Comment', 'Serum_CPII_Comment', 'Serum_CS846_Comment', 'Serum_CTXI_Comment', 'Serum_Comp_Comment', 'Serum_HA_Comment', 'Serum_MMP_3_Comment', 'Serum_NTXI_Comment', 'Serum_PIIANP_Comment', 'Urine_CTXII_Comment', 'Urine_C1_2C_Comment', 'Urine_C2C_Comment', 'Urine_Creatinine_Comment', 'Urine_NTXI_Comment', 'Urine_alpha_Comment', 'Urine_beta_Comment', 'Serum_C1_2C_HQC', 'Serum_C2C_HQC', 'Serum_COLL2_1_NO2_HQC', 'Serum_CPII_HQC', 'Serum_CS846_HQC', 'Serum_CTXI_HQC', 'Serum_Comp_HQC', 'Serum_HA_HQC', 'Serum_MMP_3_HQC', 'Serum_NTXI_HQC', 'Serum_PIIANP_HQC', 'Urine_CTXII_HQC', 'Urine_Creatinine_HQC', 'Urine_NTXI_HQC', 'Urine_alpha_HQC', 'Urine_beta_HQC', 'Serum_C1_2C_LQC', 'Serum_C2C_LQC', 'Serum_COLL2_1_NO2_LQC', 'Serum_CPII_LQC', 'Serum_CS846_LQC', 'Serum_CTXI_LQC', 'Serum_Comp_LQC', 'Serum_HA_LQC', 'Serum_MMP_3_LQC', 'Serum_NTXI_LQC', 'Serum_PIIANP_LQC', 'Urine_CTXII_LQC', 'Urine_C1__2C_LQC', 'Urine_C2C_LQC', 'Urine_Creatinine_LQC', 'Urine_NTXI_LQC', 'Urine_alpha_LQC', 'Urine_beta_LQC', 'Serum_C1_2C_MQC', 'Serum_C2C_MQC', 'Serum_CPII_MQC', 'Serum_CS846_MQC', 'Serum_MMP_3_MQC', 'Urine_C1__2C_MQC', 'Urine_C2C_MQC', 'Serum_C1_2C_Kit_Lot_Num', 'Serum_C2C_Kit_Lot_Num', 'Serum_COLL2_1_NO2_Kit_Lot_Num', 'Serum_CPII_Kit_Lot_Num', 'Serum_CS846_Kit_Lot_Num', 'Serum_CTXI_Kit_Lot_Num', 'Serum_Comp_Kit_Lot_Num', 'Serum_HA_Kit_Lot_Num', 'Serum_MMP_3_Kit_Lot_Num', 'Serum_NTXI_Kit_Lot_Num', 'Serum_PIIANP_Kit_Lot_Num', 'Urine_CTXII_Kit_Lot_Num', 'Urine_C1__2C_Kit_Lot_Num', 'Urine_C2C_Kit_Lot_Num', 'Urine_Creatinine_Kit_Lot_Num', 'Urine_NTXI_Kit_Lot_Num', 'Urine_alpha_Kit_Lot_Num', 'Urine_beta_Kit_Lot_Num', 'Serum_C1_2C_Plate_ID', 'Serum_C2C_Plate_ID', 'Serum_COLL2_1_NO2_Plate_ID', 'Serum_CPII_Plate_ID', 'Serum_CS846_Plate_ID', 'Serum_CTXI_Plate_ID', 'Serum_Comp_Plate_ID', 'Serum_HA_Plate_ID', 'Serum_MMP_3_Plate_ID', 'Serum_NTXI_Plate_ID', 'Serum_PIIANP_Plate_ID', 'Urine_CTXII_Plate_ID', 'Urine_C1__2C_Plate_ID', 'Urine_C2C_Plate_ID', 'Urine_Creatinine_Plate_ID', 'Urine_NTXI_Plate_ID', 'Urine_alpha_Plate_ID', 'Urine_beta_Plate_ID']\n",
      "\n",
      "biospec_fnih_labcorp01.sas7bdat: (587, 187)\n",
      "Names only differ by case\n",
      "\n",
      "biospec_fnih_labcorp03.sas7bdat: (599, 187)\n",
      "Names only differ by case\n",
      "\n",
      "Total rows: 1786\n"
     ]
    }
   ],
   "source": [
    "prefix = 'biospec_fnih_labcorp'\n",
    "column_uniformity_check(prefix)"
   ]
  },
  {
   "cell_type": "code",
   "execution_count": 76,
   "id": "a751f8d6",
   "metadata": {
    "execution": {
     "iopub.execute_input": "2023-12-21T21:02:13.931766Z",
     "iopub.status.busy": "2023-12-21T21:02:13.931369Z",
     "iopub.status.idle": "2023-12-21T21:02:17.644683Z",
     "shell.execute_reply": "2023-12-21T21:02:17.643794Z",
     "shell.execute_reply.started": "2023-12-21T21:02:13.931736Z"
    },
    "pycharm": {
     "name": "#%%\n"
    }
   },
   "outputs": [
    {
     "name": "stdout",
     "output_type": "stream",
     "text": [
      "biospec_fnih_labcorp00.sas7bdat\tVar Cnt: 187\n",
      "Visits: ['V00']\n",
      "biospec_fnih_labcorp01.sas7bdat\tVar Cnt: 187\n",
      "Visits: ['V01']\n",
      "biospec_fnih_labcorp03.sas7bdat\tVar Cnt: 187\n",
      "Visits: ['V03']\n",
      "(1786, 188)\n",
      "\n",
      "Starting dataframe size: 13.47MB\n"
     ]
    }
   ],
   "source": [
    "tmp_df = create_df(prefix)\n",
    "print(tmp_df.shape)\n",
    "print('\\nStarting dataframe size: {:.2f}MB'.format(tmp_df.memory_usage(deep=True).sum() / (1024**2)))"
   ]
  },
  {
   "cell_type": "code",
   "execution_count": 77,
   "id": "f0e7e263",
   "metadata": {
    "execution": {
     "iopub.execute_input": "2023-12-21T21:02:17.646410Z",
     "iopub.status.busy": "2023-12-21T21:02:17.646069Z",
     "iopub.status.idle": "2023-12-21T21:02:18.118542Z",
     "shell.execute_reply": "2023-12-21T21:02:18.117841Z",
     "shell.execute_reply.started": "2023-12-21T21:02:17.646379Z"
    },
    "pycharm": {
     "name": "#%%\n"
    }
   },
   "outputs": [],
   "source": [
    "data_stats_df, done_df = gather_column_data_stats(tmp_df)"
   ]
  },
  {
   "cell_type": "code",
   "execution_count": 78,
   "id": "2ff9876c",
   "metadata": {
    "execution": {
     "iopub.execute_input": "2023-12-21T21:02:18.120027Z",
     "iopub.status.busy": "2023-12-21T21:02:18.119571Z",
     "iopub.status.idle": "2023-12-21T21:02:18.159084Z",
     "shell.execute_reply": "2023-12-21T21:02:18.158227Z",
     "shell.execute_reply.started": "2023-12-21T21:02:18.119997Z"
    },
    "pycharm": {
     "name": "#%%\n"
    }
   },
   "outputs": [
    {
     "name": "stdout",
     "output_type": "stream",
     "text": [
      "Already defined cols: 3 \tCols to convert: 185\t Total col cnt: 188\n",
      "\n",
      "Column types to convert:\n",
      "   str_cnt  num_cnt  date_cnt  na_cnt  count\n",
      "0    False     True     False   False      1\n",
      "1    False     True     False    True     70\n",
      "2     True    False     False   False    114\n",
      "\n",
      "Numeric types of columns:\n",
      "num_type\n",
      "unsigned    36\n",
      "float       35\n",
      "Name: count, dtype: int64\n",
      "\n",
      "Largest number of unique strings: 1758\n"
     ]
    },
    {
     "data": {
      "text/html": [
       "<div>\n",
       "<style scoped>\n",
       "    .dataframe tbody tr th:only-of-type {\n",
       "        vertical-align: middle;\n",
       "    }\n",
       "\n",
       "    .dataframe tbody tr th {\n",
       "        vertical-align: top;\n",
       "    }\n",
       "\n",
       "    .dataframe thead th {\n",
       "        text-align: right;\n",
       "    }\n",
       "</style>\n",
       "<table border=\"1\" class=\"dataframe\">\n",
       "  <thead>\n",
       "    <tr style=\"text-align: right;\">\n",
       "      <th></th>\n",
       "      <th>label</th>\n",
       "      <th>uniq_strs</th>\n",
       "      <th>str_list</th>\n",
       "      <th>missing_val_cnt</th>\n",
       "      <th>missing_val_list</th>\n",
       "      <th>numeric_str</th>\n",
       "      <th>num_type</th>\n",
       "      <th>uniq_num</th>\n",
       "      <th>max_num</th>\n",
       "      <th>min_num</th>\n",
       "      <th>str_cnt</th>\n",
       "      <th>num_cnt</th>\n",
       "      <th>date_cnt</th>\n",
       "      <th>na_cnt</th>\n",
       "    </tr>\n",
       "    <tr>\n",
       "      <th>col</th>\n",
       "      <th></th>\n",
       "      <th></th>\n",
       "      <th></th>\n",
       "      <th></th>\n",
       "      <th></th>\n",
       "      <th></th>\n",
       "      <th></th>\n",
       "      <th></th>\n",
       "      <th></th>\n",
       "      <th></th>\n",
       "      <th></th>\n",
       "      <th></th>\n",
       "      <th></th>\n",
       "      <th></th>\n",
       "    </tr>\n",
       "  </thead>\n",
       "  <tbody>\n",
       "    <tr>\n",
       "      <th>READPRJ</th>\n",
       "      <td>Project</td>\n",
       "      <td>1</td>\n",
       "      <td>{22}</td>\n",
       "      <td>0</td>\n",
       "      <td>{}</td>\n",
       "      <td>True</td>\n",
       "      <td>None</td>\n",
       "      <td>NaN</td>\n",
       "      <td>NaN</td>\n",
       "      <td>NaN</td>\n",
       "      <td>1786</td>\n",
       "      <td>0</td>\n",
       "      <td>0</td>\n",
       "      <td>0</td>\n",
       "    </tr>\n",
       "    <tr>\n",
       "      <th>SERUM_C1_2C_LC</th>\n",
       "      <td>None</td>\n",
       "      <td>93</td>\n",
       "      <td>{, 0.59, 1.39, 1.34, 0.07, 0.28, 0.45, 0.21, 0...</td>\n",
       "      <td>0</td>\n",
       "      <td>{}</td>\n",
       "      <td>False</td>\n",
       "      <td>None</td>\n",
       "      <td>NaN</td>\n",
       "      <td>NaN</td>\n",
       "      <td>NaN</td>\n",
       "      <td>1786</td>\n",
       "      <td>0</td>\n",
       "      <td>0</td>\n",
       "      <td>0</td>\n",
       "    </tr>\n",
       "    <tr>\n",
       "      <th>SERUM_C2C_LC</th>\n",
       "      <td>None</td>\n",
       "      <td>256</td>\n",
       "      <td>{, 257, 246, 122, 262, 198, 296, 205, 344, 174...</td>\n",
       "      <td>0</td>\n",
       "      <td>{}</td>\n",
       "      <td>False</td>\n",
       "      <td>None</td>\n",
       "      <td>NaN</td>\n",
       "      <td>NaN</td>\n",
       "      <td>NaN</td>\n",
       "      <td>1786</td>\n",
       "      <td>0</td>\n",
       "      <td>0</td>\n",
       "      <td>0</td>\n",
       "    </tr>\n",
       "    <tr>\n",
       "      <th>SERUM_COLL2_1_NO2_LC</th>\n",
       "      <td>None</td>\n",
       "      <td>1758</td>\n",
       "      <td>{, 5.7743, 11.4612, 13.6369, 10.0114, 7.6235, ...</td>\n",
       "      <td>0</td>\n",
       "      <td>{}</td>\n",
       "      <td>False</td>\n",
       "      <td>None</td>\n",
       "      <td>NaN</td>\n",
       "      <td>NaN</td>\n",
       "      <td>NaN</td>\n",
       "      <td>1786</td>\n",
       "      <td>0</td>\n",
       "      <td>0</td>\n",
       "      <td>0</td>\n",
       "    </tr>\n",
       "    <tr>\n",
       "      <th>SERUM_CPII_LC</th>\n",
       "      <td>None</td>\n",
       "      <td>967</td>\n",
       "      <td>{, 663, 623, 737, 813, 869, 1308, 3051, 565, 1...</td>\n",
       "      <td>0</td>\n",
       "      <td>{}</td>\n",
       "      <td>False</td>\n",
       "      <td>None</td>\n",
       "      <td>NaN</td>\n",
       "      <td>NaN</td>\n",
       "      <td>NaN</td>\n",
       "      <td>1786</td>\n",
       "      <td>0</td>\n",
       "      <td>0</td>\n",
       "      <td>0</td>\n",
       "    </tr>\n",
       "    <tr>\n",
       "      <th>...</th>\n",
       "      <td>...</td>\n",
       "      <td>...</td>\n",
       "      <td>...</td>\n",
       "      <td>...</td>\n",
       "      <td>...</td>\n",
       "      <td>...</td>\n",
       "      <td>...</td>\n",
       "      <td>...</td>\n",
       "      <td>...</td>\n",
       "      <td>...</td>\n",
       "      <td>...</td>\n",
       "      <td>...</td>\n",
       "      <td>...</td>\n",
       "      <td>...</td>\n",
       "    </tr>\n",
       "    <tr>\n",
       "      <th>URINE_C2C_PLATE_ID</th>\n",
       "      <td>None</td>\n",
       "      <td>48</td>\n",
       "      <td>{, uC2C-HUSA 19Aug2013-2, uC2C-HUSA 29Aug2013-...</td>\n",
       "      <td>0</td>\n",
       "      <td>{}</td>\n",
       "      <td>False</td>\n",
       "      <td>None</td>\n",
       "      <td>NaN</td>\n",
       "      <td>NaN</td>\n",
       "      <td>NaN</td>\n",
       "      <td>1786</td>\n",
       "      <td>0</td>\n",
       "      <td>0</td>\n",
       "      <td>0</td>\n",
       "    </tr>\n",
       "    <tr>\n",
       "      <th>URINE_CREATININE_PLATE_ID</th>\n",
       "      <td>None</td>\n",
       "      <td>49</td>\n",
       "      <td>{uCreatinine 25Oct2013-2, , uCreatinine 24Oct2...</td>\n",
       "      <td>0</td>\n",
       "      <td>{}</td>\n",
       "      <td>False</td>\n",
       "      <td>None</td>\n",
       "      <td>NaN</td>\n",
       "      <td>NaN</td>\n",
       "      <td>NaN</td>\n",
       "      <td>1786</td>\n",
       "      <td>0</td>\n",
       "      <td>0</td>\n",
       "      <td>0</td>\n",
       "    </tr>\n",
       "    <tr>\n",
       "      <th>URINE_NTXI_PLATE_ID</th>\n",
       "      <td>None</td>\n",
       "      <td>47</td>\n",
       "      <td>{, uNTX-I 26Aug2013-3, uNTX-I 22Aug2013-3, uNT...</td>\n",
       "      <td>0</td>\n",
       "      <td>{}</td>\n",
       "      <td>False</td>\n",
       "      <td>None</td>\n",
       "      <td>NaN</td>\n",
       "      <td>NaN</td>\n",
       "      <td>NaN</td>\n",
       "      <td>1786</td>\n",
       "      <td>0</td>\n",
       "      <td>0</td>\n",
       "      <td>0</td>\n",
       "    </tr>\n",
       "    <tr>\n",
       "      <th>URINE_ALPHA_PLATE_ID</th>\n",
       "      <td>None</td>\n",
       "      <td>48</td>\n",
       "      <td>{, uCTX-Ia 14Aug2013-4, uCTX-Ia 15Aug2013-2, u...</td>\n",
       "      <td>0</td>\n",
       "      <td>{}</td>\n",
       "      <td>False</td>\n",
       "      <td>None</td>\n",
       "      <td>NaN</td>\n",
       "      <td>NaN</td>\n",
       "      <td>NaN</td>\n",
       "      <td>1786</td>\n",
       "      <td>0</td>\n",
       "      <td>0</td>\n",
       "      <td>0</td>\n",
       "    </tr>\n",
       "    <tr>\n",
       "      <th>URINE_BETA_PLATE_ID</th>\n",
       "      <td>None</td>\n",
       "      <td>49</td>\n",
       "      <td>{, uCTXI beta 17Oct2013-4, uCTXI beta 23Oct201...</td>\n",
       "      <td>0</td>\n",
       "      <td>{}</td>\n",
       "      <td>False</td>\n",
       "      <td>None</td>\n",
       "      <td>NaN</td>\n",
       "      <td>NaN</td>\n",
       "      <td>NaN</td>\n",
       "      <td>1786</td>\n",
       "      <td>0</td>\n",
       "      <td>0</td>\n",
       "      <td>0</td>\n",
       "    </tr>\n",
       "  </tbody>\n",
       "</table>\n",
       "<p>185 rows × 14 columns</p>\n",
       "</div>"
      ],
      "text/plain": [
       "                             label  uniq_strs  \\\n",
       "col                                             \n",
       "READPRJ                    Project          1   \n",
       "SERUM_C1_2C_LC                None         93   \n",
       "SERUM_C2C_LC                  None        256   \n",
       "SERUM_COLL2_1_NO2_LC          None       1758   \n",
       "SERUM_CPII_LC                 None        967   \n",
       "...                            ...        ...   \n",
       "URINE_C2C_PLATE_ID            None         48   \n",
       "URINE_CREATININE_PLATE_ID     None         49   \n",
       "URINE_NTXI_PLATE_ID           None         47   \n",
       "URINE_ALPHA_PLATE_ID          None         48   \n",
       "URINE_BETA_PLATE_ID           None         49   \n",
       "\n",
       "                                                                    str_list  \\\n",
       "col                                                                            \n",
       "READPRJ                                                                 {22}   \n",
       "SERUM_C1_2C_LC             {, 0.59, 1.39, 1.34, 0.07, 0.28, 0.45, 0.21, 0...   \n",
       "SERUM_C2C_LC               {, 257, 246, 122, 262, 198, 296, 205, 344, 174...   \n",
       "SERUM_COLL2_1_NO2_LC       {, 5.7743, 11.4612, 13.6369, 10.0114, 7.6235, ...   \n",
       "SERUM_CPII_LC              {, 663, 623, 737, 813, 869, 1308, 3051, 565, 1...   \n",
       "...                                                                      ...   \n",
       "URINE_C2C_PLATE_ID         {, uC2C-HUSA 19Aug2013-2, uC2C-HUSA 29Aug2013-...   \n",
       "URINE_CREATININE_PLATE_ID  {uCreatinine 25Oct2013-2, , uCreatinine 24Oct2...   \n",
       "URINE_NTXI_PLATE_ID        {, uNTX-I 26Aug2013-3, uNTX-I 22Aug2013-3, uNT...   \n",
       "URINE_ALPHA_PLATE_ID       {, uCTX-Ia 14Aug2013-4, uCTX-Ia 15Aug2013-2, u...   \n",
       "URINE_BETA_PLATE_ID        {, uCTXI beta 17Oct2013-4, uCTXI beta 23Oct201...   \n",
       "\n",
       "                           missing_val_cnt missing_val_list numeric_str  \\\n",
       "col                                                                       \n",
       "READPRJ                                  0               {}        True   \n",
       "SERUM_C1_2C_LC                           0               {}       False   \n",
       "SERUM_C2C_LC                             0               {}       False   \n",
       "SERUM_COLL2_1_NO2_LC                     0               {}       False   \n",
       "SERUM_CPII_LC                            0               {}       False   \n",
       "...                                    ...              ...         ...   \n",
       "URINE_C2C_PLATE_ID                       0               {}       False   \n",
       "URINE_CREATININE_PLATE_ID                0               {}       False   \n",
       "URINE_NTXI_PLATE_ID                      0               {}       False   \n",
       "URINE_ALPHA_PLATE_ID                     0               {}       False   \n",
       "URINE_BETA_PLATE_ID                      0               {}       False   \n",
       "\n",
       "                          num_type  uniq_num  max_num  min_num  str_cnt  \\\n",
       "col                                                                       \n",
       "READPRJ                       None       NaN      NaN      NaN     1786   \n",
       "SERUM_C1_2C_LC                None       NaN      NaN      NaN     1786   \n",
       "SERUM_C2C_LC                  None       NaN      NaN      NaN     1786   \n",
       "SERUM_COLL2_1_NO2_LC          None       NaN      NaN      NaN     1786   \n",
       "SERUM_CPII_LC                 None       NaN      NaN      NaN     1786   \n",
       "...                            ...       ...      ...      ...      ...   \n",
       "URINE_C2C_PLATE_ID            None       NaN      NaN      NaN     1786   \n",
       "URINE_CREATININE_PLATE_ID     None       NaN      NaN      NaN     1786   \n",
       "URINE_NTXI_PLATE_ID           None       NaN      NaN      NaN     1786   \n",
       "URINE_ALPHA_PLATE_ID          None       NaN      NaN      NaN     1786   \n",
       "URINE_BETA_PLATE_ID           None       NaN      NaN      NaN     1786   \n",
       "\n",
       "                           num_cnt  date_cnt  na_cnt  \n",
       "col                                                   \n",
       "READPRJ                          0         0       0  \n",
       "SERUM_C1_2C_LC                   0         0       0  \n",
       "SERUM_C2C_LC                     0         0       0  \n",
       "SERUM_COLL2_1_NO2_LC             0         0       0  \n",
       "SERUM_CPII_LC                    0         0       0  \n",
       "...                            ...       ...     ...  \n",
       "URINE_C2C_PLATE_ID               0         0       0  \n",
       "URINE_CREATININE_PLATE_ID        0         0       0  \n",
       "URINE_NTXI_PLATE_ID              0         0       0  \n",
       "URINE_ALPHA_PLATE_ID             0         0       0  \n",
       "URINE_BETA_PLATE_ID              0         0       0  \n",
       "\n",
       "[185 rows x 14 columns]"
      ]
     },
     "execution_count": 78,
     "metadata": {},
     "output_type": "execute_result"
    }
   ],
   "source": [
    "data_stats_summary(tmp_df, data_stats_df)\n",
    "data_stats_df"
   ]
  },
  {
   "cell_type": "code",
   "execution_count": 79,
   "id": "e3b9e9cb",
   "metadata": {
    "execution": {
     "iopub.execute_input": "2023-12-21T21:02:18.160794Z",
     "iopub.status.busy": "2023-12-21T21:02:18.160515Z",
     "iopub.status.idle": "2023-12-21T21:02:18.172180Z",
     "shell.execute_reply": "2023-12-21T21:02:18.171450Z",
     "shell.execute_reply.started": "2023-12-21T21:02:18.160769Z"
    },
    "pycharm": {
     "name": "#%%\n"
    }
   },
   "outputs": [
    {
     "name": "stdout",
     "output_type": "stream",
     "text": [
      "targets = {\n",
      "# Columns with only unsigned ints, missing, and NA values\n",
      "'unsigned': ['SERUM_C2C_NUM', 'SERUM_CPII_NUM', 'SERUM_PIIANP_NUM', 'SERUM_CS846_NUM', 'SERUM_COMP_NUM', 'SERUM_HA_NUM', 'SERUM_NTXI_NUM', 'URINE_C2C_NUM', 'URINE_NTXI_NUM', 'SERUM_C2C_ALTNUM', 'SERUM_CPII_ALTNUM', 'SERUM_CS846_ALTNUM', 'SERUM_COMP_ALTNUM', 'SERUM_HA_ALTNUM', 'SERUM_NTXI_ALTNUM', 'SERUM_PIIANP_ALTNUM', 'URINE_C2C_ALTNUM', 'URINE_NTXI_ALTNUM', 'SERUM_C1_2C_LOWLIM', 'SERUM_C2C_LOWLIM', 'SERUM_COLL2_1_NO2_LOWLIM', 'SERUM_CPII_LOWLIM', 'SERUM_CS846_LOWLIM', 'SERUM_CTXI_LOWLIM', 'SERUM_COMP_LOWLIM', 'SERUM_HA_LOWLIM', 'SERUM_MMP_3_LOWLIM', 'SERUM_NTXI_LOWLIM', 'SERUM_PIIANP_LOWLIM', 'URINE_CTXII_LOWLIM', 'URINE_C1_2C_LOWLIM', 'URINE_C2C_LOWLIM', 'URINE_NTXI_LOWLIM', 'URINE_ALPHA_LOWLIM', 'URINE_BETA_LOWLIM', 'URINE_COL21N2_LOWLIM'],\n",
      "\n",
      "# Columns with only floats, missing, and NA values\n",
      "'float': ['SERUM_C1_2C_NUM', 'SERUM_COLL2_1_NO2_NUM', 'SERUM_CTXI_NUM', 'SERUM_MMP_3_NUM', 'URINE_CTXII_NUM', 'URINE_C1_2C_NUM', 'URINE_CREATININE_NUM', 'URINE_ALPHA_NUM', 'URINE_BETA_NUM', 'URINE_COL21N2_NUM', 'URINE_CTXII_NUMCA', 'URINE_C1_2C_NUMCA', 'URINE_C2C_NUMCA', 'URINE_NTXI_NUMCA', 'URINE_ALPHA_NUMCA', 'URINE_BETA_NUMCA', 'URINE_COL21N2_NUMCA', 'SERUM_C1_2C_ALTNUM', 'SERUM_COLL2_1_NO2_ALTNUM', 'SERUM_CTXI_ALTNUM', 'SERUM_MMP_3_ALTNUM', 'URINE_CTXII_ALTNUM', 'URINE_C1_2C_ALTNUM', 'URINE_ALPHA_ALTNUM', 'URINE_BETA_ALTNUM', 'URINE_COL21N2_ALTNUM', 'URINE_CTXII_ALTNUMCA', 'URINE_C1_2C_ALTNUMCA', 'URINE_C2C_ALTNUMCA', 'URINE_NTXI_ALTNUMCA', 'URINE_ALPHA_ALTNUMCA', 'URINE_BETA_ALTNUMCA', 'URINE_COL21N2_ALTNUMCA', 'URINE_COL21N2SD', 'URINE_COL21N2CV'],\n",
      "\n",
      "# Columns with only strings, missing, and NA values\n",
      "'cat': ['READPRJ', 'SERUM_C1_2C_LC', 'SERUM_C2C_LC', 'SERUM_COLL2_1_NO2_LC', 'SERUM_CPII_LC', 'SERUM_CS846_LC', 'SERUM_CTXI_LC', 'SERUM_COMP_LC', 'SERUM_HA_LC', 'SERUM_MMP_3_LC', 'SERUM_NTXI_LC', 'SERUM_PIIANP_LC', 'URINE_CTXII_LC', 'URINE_C1_2C_LC', 'URINE_C2C_LC', 'URINE_CREATININE_LC', 'URINE_NTXI_LC', 'URINE_ALPHA_LC', 'URINE_BETA_LC', 'SERUM_C1_2C_COMMENT', 'SERUM_C2C_COMMENT', 'SERUM_COLL2_1_NO2_COMMENT', 'SERUM_CPII_COMMENT', 'SERUM_CS846_COMMENT', 'SERUM_CTXI_COMMENT', 'SERUM_COMP_COMMENT', 'SERUM_HA_COMMENT', 'SERUM_MMP_3_COMMENT', 'SERUM_NTXI_COMMENT', 'SERUM_PIIANP_COMMENT', 'URINE_CTXII_COMMENT', 'URINE_C1_2C_COMMENT', 'URINE_C2C_COMMENT', 'URINE_CREATININE_COMMENT', 'URINE_NTXI_COMMENT', 'URINE_ALPHA_COMMENT', 'URINE_BETA_COMMENT', 'SERUM_C1_2C_HQC', 'SERUM_C2C_HQC', 'SERUM_COLL2_1_NO2_HQC', 'SERUM_CPII_HQC', 'SERUM_CS846_HQC', 'SERUM_CTXI_HQC', 'SERUM_COMP_HQC', 'SERUM_HA_HQC', 'SERUM_MMP_3_HQC', 'SERUM_NTXI_HQC', 'SERUM_PIIANP_HQC', 'URINE_CTXII_HQC', 'URINE_CREATININE_HQC', 'URINE_NTXI_HQC', 'URINE_ALPHA_HQC', 'URINE_BETA_HQC', 'SERUM_C1_2C_LQC', 'SERUM_C2C_LQC', 'SERUM_COLL2_1_NO2_LQC', 'SERUM_CPII_LQC', 'SERUM_CS846_LQC', 'SERUM_CTXI_LQC', 'SERUM_COMP_LQC', 'SERUM_HA_LQC', 'SERUM_MMP_3_LQC', 'SERUM_NTXI_LQC', 'SERUM_PIIANP_LQC', 'URINE_CTXII_LQC', 'URINE_C1__2C_LQC', 'URINE_C2C_LQC', 'URINE_CREATININE_LQC', 'URINE_NTXI_LQC', 'URINE_ALPHA_LQC', 'URINE_BETA_LQC', 'SERUM_C1_2C_MQC', 'SERUM_C2C_MQC', 'SERUM_CPII_MQC', 'SERUM_CS846_MQC', 'SERUM_MMP_3_MQC', 'URINE_C1__2C_MQC', 'URINE_C2C_MQC', 'SERUM_C1_2C_KIT_LOT_NUM', 'SERUM_C2C_KIT_LOT_NUM', 'SERUM_COLL2_1_NO2_KIT_LOT_NUM', 'SERUM_CPII_KIT_LOT_NUM', 'SERUM_CS846_KIT_LOT_NUM', 'SERUM_CTXI_KIT_LOT_NUM', 'SERUM_COMP_KIT_LOT_NUM', 'SERUM_HA_KIT_LOT_NUM', 'SERUM_MMP_3_KIT_LOT_NUM', 'SERUM_NTXI_KIT_LOT_NUM', 'SERUM_PIIANP_KIT_LOT_NUM', 'URINE_CTXII_KIT_LOT_NUM', 'URINE_C1__2C_KIT_LOT_NUM', 'URINE_C2C_KIT_LOT_NUM', 'URINE_CREATININE_KIT_LOT_NUM', 'URINE_NTXI_KIT_LOT_NUM', 'URINE_ALPHA_KIT_LOT_NUM', 'URINE_BETA_KIT_LOT_NUM', 'SERUM_C1_2C_PLATE_ID', 'SERUM_C2C_PLATE_ID', 'SERUM_COLL2_1_NO2_PLATE_ID', 'SERUM_CPII_PLATE_ID', 'SERUM_CS846_PLATE_ID', 'SERUM_CTXI_PLATE_ID', 'SERUM_COMP_PLATE_ID', 'SERUM_HA_PLATE_ID', 'SERUM_MMP_3_PLATE_ID', 'SERUM_NTXI_PLATE_ID', 'SERUM_PIIANP_PLATE_ID', 'URINE_CTXII_PLATE_ID', 'URINE_C1__2C_PLATE_ID', 'URINE_C2C_PLATE_ID', 'URINE_CREATININE_PLATE_ID', 'URINE_NTXI_PLATE_ID', 'URINE_ALPHA_PLATE_ID', 'URINE_BETA_PLATE_ID'],\n",
      "\n",
      "}\n",
      "\n",
      "\n",
      "Handled columns: 185\n"
     ]
    }
   ],
   "source": [
    "suggest_conversions(data_stats_df)"
   ]
  },
  {
   "cell_type": "code",
   "execution_count": 80,
   "id": "195f95dc",
   "metadata": {
    "execution": {
     "iopub.execute_input": "2023-12-21T21:02:18.173899Z",
     "iopub.status.busy": "2023-12-21T21:02:18.173516Z",
     "iopub.status.idle": "2023-12-21T21:02:18.400630Z",
     "shell.execute_reply": "2023-12-21T21:02:18.399910Z",
     "shell.execute_reply.started": "2023-12-21T21:02:18.173873Z"
    },
    "pycharm": {
     "name": "#%%\n"
    }
   },
   "outputs": [],
   "source": [
    "targets = {\n",
    "# Columns with only unsigned ints, missing, and NA values\n",
    "'unsigned': ['SERUM_C2C_NUM', 'SERUM_CPII_NUM', 'SERUM_PIIANP_NUM', 'SERUM_CS846_NUM', 'SERUM_COMP_NUM', 'SERUM_HA_NUM', 'SERUM_NTXI_NUM', 'URINE_C2C_NUM', 'URINE_NTXI_NUM', 'SERUM_C2C_ALTNUM', 'SERUM_CPII_ALTNUM', 'SERUM_CS846_ALTNUM', 'SERUM_COMP_ALTNUM', 'SERUM_HA_ALTNUM', 'SERUM_NTXI_ALTNUM', 'SERUM_PIIANP_ALTNUM', 'URINE_C2C_ALTNUM', 'URINE_NTXI_ALTNUM', 'SERUM_C1_2C_LOWLIM', 'SERUM_C2C_LOWLIM', 'SERUM_COLL2_1_NO2_LOWLIM', 'SERUM_CPII_LOWLIM', 'SERUM_CS846_LOWLIM', 'SERUM_CTXI_LOWLIM', 'SERUM_COMP_LOWLIM', 'SERUM_HA_LOWLIM', 'SERUM_MMP_3_LOWLIM', 'SERUM_NTXI_LOWLIM', 'SERUM_PIIANP_LOWLIM', 'URINE_CTXII_LOWLIM', 'URINE_C1_2C_LOWLIM', 'URINE_C2C_LOWLIM', 'URINE_NTXI_LOWLIM', 'URINE_ALPHA_LOWLIM', 'URINE_BETA_LOWLIM', 'URINE_COL21N2_LOWLIM'],\n",
    "\n",
    "# Columns with only floats, missing, and NA values\n",
    "'float': ['SERUM_C1_2C_NUM', 'SERUM_COLL2_1_NO2_NUM', 'SERUM_CTXI_NUM', 'SERUM_MMP_3_NUM', 'URINE_CTXII_NUM', 'URINE_C1_2C_NUM', 'URINE_CREATININE_NUM', 'URINE_ALPHA_NUM', 'URINE_BETA_NUM', 'URINE_COL21N2_NUM', 'URINE_CTXII_NUMCA', 'URINE_C1_2C_NUMCA', 'URINE_C2C_NUMCA', 'URINE_NTXI_NUMCA', 'URINE_ALPHA_NUMCA', 'URINE_BETA_NUMCA', 'URINE_COL21N2_NUMCA', 'SERUM_C1_2C_ALTNUM', 'SERUM_COLL2_1_NO2_ALTNUM', 'SERUM_CTXI_ALTNUM', 'SERUM_MMP_3_ALTNUM', 'URINE_CTXII_ALTNUM', 'URINE_C1_2C_ALTNUM', 'URINE_ALPHA_ALTNUM', 'URINE_BETA_ALTNUM', 'URINE_COL21N2_ALTNUM', 'URINE_CTXII_ALTNUMCA', 'URINE_C1_2C_ALTNUMCA', 'URINE_C2C_ALTNUMCA', 'URINE_NTXI_ALTNUMCA', 'URINE_ALPHA_ALTNUMCA', 'URINE_BETA_ALTNUMCA', 'URINE_COL21N2_ALTNUMCA', 'URINE_COL21N2SD', 'URINE_COL21N2CV'],\n",
    "\n",
    "# Columns with only strings, missing, and NA values\n",
    "'cat': ['SERUM_C1_2C_LC', 'SERUM_C2C_LC', 'SERUM_COLL2_1_NO2_LC', 'SERUM_CPII_LC', 'SERUM_CS846_LC', 'SERUM_CTXI_LC', 'SERUM_COMP_LC', 'SERUM_HA_LC', 'SERUM_MMP_3_LC', 'SERUM_NTXI_LC', 'SERUM_PIIANP_LC', 'URINE_CTXII_LC', 'URINE_C1_2C_LC', 'URINE_C2C_LC', 'URINE_CREATININE_LC', 'URINE_NTXI_LC', 'URINE_ALPHA_LC', 'URINE_BETA_LC', 'SERUM_C1_2C_COMMENT', 'SERUM_C2C_COMMENT', 'SERUM_COLL2_1_NO2_COMMENT', 'SERUM_CPII_COMMENT', 'SERUM_CS846_COMMENT', 'SERUM_CTXI_COMMENT', 'SERUM_COMP_COMMENT', 'SERUM_HA_COMMENT', 'SERUM_MMP_3_COMMENT', 'SERUM_NTXI_COMMENT', 'SERUM_PIIANP_COMMENT', 'URINE_CTXII_COMMENT', 'URINE_C1_2C_COMMENT', 'URINE_C2C_COMMENT', 'URINE_CREATININE_COMMENT', 'URINE_NTXI_COMMENT', 'URINE_ALPHA_COMMENT', 'URINE_BETA_COMMENT', 'SERUM_C1_2C_HQC', 'SERUM_C2C_HQC', 'SERUM_COLL2_1_NO2_HQC', 'SERUM_CPII_HQC', 'SERUM_CS846_HQC', 'SERUM_CTXI_HQC', 'SERUM_COMP_HQC', 'SERUM_HA_HQC', 'SERUM_MMP_3_HQC', 'SERUM_NTXI_HQC', 'SERUM_PIIANP_HQC', 'URINE_CTXII_HQC', 'URINE_CREATININE_HQC', 'URINE_NTXI_HQC', 'URINE_ALPHA_HQC', 'URINE_BETA_HQC', 'SERUM_C1_2C_LQC', 'SERUM_C2C_LQC', 'SERUM_COLL2_1_NO2_LQC', 'SERUM_CPII_LQC', 'SERUM_CS846_LQC', 'SERUM_CTXI_LQC', 'SERUM_COMP_LQC', 'SERUM_HA_LQC', 'SERUM_MMP_3_LQC', 'SERUM_NTXI_LQC', 'SERUM_PIIANP_LQC', 'URINE_CTXII_LQC', 'URINE_C1__2C_LQC', 'URINE_C2C_LQC', 'URINE_CREATININE_LQC', 'URINE_NTXI_LQC', 'URINE_ALPHA_LQC', 'URINE_BETA_LQC', 'SERUM_C1_2C_MQC', 'SERUM_C2C_MQC', 'SERUM_CPII_MQC', 'SERUM_CS846_MQC', 'SERUM_MMP_3_MQC', 'URINE_C1__2C_MQC', 'URINE_C2C_MQC', 'SERUM_C1_2C_KIT_LOT_NUM', 'SERUM_C2C_KIT_LOT_NUM', 'SERUM_COLL2_1_NO2_KIT_LOT_NUM', 'SERUM_CPII_KIT_LOT_NUM', 'SERUM_CS846_KIT_LOT_NUM', 'SERUM_CTXI_KIT_LOT_NUM', 'SERUM_COMP_KIT_LOT_NUM', 'SERUM_HA_KIT_LOT_NUM', 'SERUM_MMP_3_KIT_LOT_NUM', 'SERUM_NTXI_KIT_LOT_NUM', 'SERUM_PIIANP_KIT_LOT_NUM', 'URINE_CTXII_KIT_LOT_NUM', 'URINE_C1__2C_KIT_LOT_NUM', 'URINE_C2C_KIT_LOT_NUM', 'URINE_CREATININE_KIT_LOT_NUM', 'URINE_NTXI_KIT_LOT_NUM', 'URINE_ALPHA_KIT_LOT_NUM', 'URINE_BETA_KIT_LOT_NUM', 'SERUM_C1_2C_PLATE_ID', 'SERUM_C2C_PLATE_ID', 'SERUM_COLL2_1_NO2_PLATE_ID', 'SERUM_CPII_PLATE_ID', 'SERUM_CS846_PLATE_ID', 'SERUM_CTXI_PLATE_ID', 'SERUM_COMP_PLATE_ID', 'SERUM_HA_PLATE_ID', 'SERUM_MMP_3_PLATE_ID', 'SERUM_NTXI_PLATE_ID', 'SERUM_PIIANP_PLATE_ID', 'URINE_CTXII_PLATE_ID', 'URINE_C1__2C_PLATE_ID', 'URINE_C2C_PLATE_ID', 'URINE_CREATININE_PLATE_ID', 'URINE_NTXI_PLATE_ID', 'URINE_ALPHA_PLATE_ID', 'URINE_BETA_PLATE_ID'],\n",
    "\n",
    "}\n",
    "\n",
    "\n",
    "new_df, missing_df = convert_columns(targets, data_stats_df, tmp_df)"
   ]
  },
  {
   "cell_type": "code",
   "execution_count": 81,
   "id": "d78a8d55",
   "metadata": {
    "execution": {
     "iopub.execute_input": "2023-12-21T21:02:18.402269Z",
     "iopub.status.busy": "2023-12-21T21:02:18.401816Z",
     "iopub.status.idle": "2023-12-21T21:02:18.409687Z",
     "shell.execute_reply": "2023-12-21T21:02:18.409063Z",
     "shell.execute_reply.started": "2023-12-21T21:02:18.402240Z"
    },
    "pycharm": {
     "name": "#%%\n"
    }
   },
   "outputs": [
    {
     "name": "stdout",
     "output_type": "stream",
     "text": [
      "Columns still object type:  ['READPRJ']\n",
      "\n",
      "VERSION                      category\n",
      "READPRJ                        object\n",
      "SERUM_C1_2C_LC               category\n",
      "SERUM_C2C_LC                 category\n",
      "SERUM_COLL2_1_NO2_LC         category\n",
      "                               ...   \n",
      "URINE_C2C_PLATE_ID           category\n",
      "URINE_CREATININE_PLATE_ID    category\n",
      "URINE_NTXI_PLATE_ID          category\n",
      "URINE_ALPHA_PLATE_ID         category\n",
      "URINE_BETA_PLATE_ID          category\n",
      "Length: 186, dtype: object\n"
     ]
    }
   ],
   "source": [
    "sanity_check(new_df)\n",
    "print()\n",
    "print(new_df.dtypes)\n",
    "if not missing_df.empty:\n",
    "    print('\\nMissing values present, shadow dataframe created.')\n",
    "    print(missing_df)"
   ]
  },
  {
   "cell_type": "code",
   "execution_count": 82,
   "id": "b28b4c62",
   "metadata": {
    "execution": {
     "iopub.execute_input": "2023-12-21T21:02:18.411544Z",
     "iopub.status.busy": "2023-12-21T21:02:18.411187Z",
     "iopub.status.idle": "2023-12-21T21:02:18.471219Z",
     "shell.execute_reply": "2023-12-21T21:02:18.470414Z",
     "shell.execute_reply.started": "2023-12-21T21:02:18.411517Z"
    },
    "pycharm": {
     "name": "#%%\n"
    }
   },
   "outputs": [
    {
     "name": "stdout",
     "output_type": "stream",
     "text": [
      "\n",
      "Final dataframe size: 1.98MB\n",
      "Shadow dataframe size: 0.01MB\n"
     ]
    }
   ],
   "source": [
    "print('\\nFinal dataframe size: {:.2f}MB'.format(new_df.memory_usage(deep=True).sum() / (1024**2)))\n",
    "print('Shadow dataframe size: {:.2f}MB'.format(missing_df.memory_usage(deep=True).sum() / (1024**2)))"
   ]
  },
  {
   "cell_type": "code",
   "execution_count": 83,
   "id": "980b0a95-449d-4027-b130-a0d6b196f56c",
   "metadata": {
    "execution": {
     "iopub.execute_input": "2023-12-21T21:02:18.472867Z",
     "iopub.status.busy": "2023-12-21T21:02:18.472435Z",
     "iopub.status.idle": "2023-12-21T21:02:18.591497Z",
     "shell.execute_reply": "2023-12-21T21:02:18.590762Z",
     "shell.execute_reply.started": "2023-12-21T21:02:18.472841Z"
    }
   },
   "outputs": [],
   "source": [
    "utils.write_parquet(new_df, 'data/' + prefix + '_values.parquet')\n",
    "if not missing_df.empty:\n",
    "    utils.write_parquet(new_df, 'data/' + prefix + '_missing_values.parquet', verbose=False)"
   ]
  },
  {
   "cell_type": "markdown",
   "id": "64f54243",
   "metadata": {
    "tags": []
   },
   "source": [
    "## boneancillarystudy"
   ]
  },
  {
   "cell_type": "code",
   "execution_count": 16,
   "id": "807afdfc",
   "metadata": {
    "pycharm": {
     "name": "#%%\n"
    },
    "tags": []
   },
   "outputs": [
    {
     "name": "stdout",
     "output_type": "stream",
     "text": [
      "\n",
      "boneancillarystudy.sas7bdat: (1212, 50)\n",
      "['ID', 'VERSION', 'READPRJ', 'KNEESIDE', 'KneeDXADt', 'MedialBMD', 'LateralBMD', 'BMDRatio', 'KneeDXASfware', 'TrabMRSeqDt', 'BVF', 'TrN', 'TrSp', 'TrTh', 'HIPSIDE', 'HipDXADt', 'NeckBMD', 'PDATE', 'PTH', 'VitD', 'KneeDXADt', 'MedialBMD', 'LateralBMD', 'BMDRatio', 'KneeDXASfware', 'TrabMRSeqDt', 'BVF', 'TrN', 'TrSp', 'TrTh', 'HipDXADt', 'NeckBMD', 'PDATE', 'PTH', 'VitD', 'KneeDXADt', 'MedialBMD', 'LateralBMD', 'BMDRatio', 'KneeDXASfware', 'TrabMRSeqDt', 'BVF', 'TrN', 'TrSp', 'TrTh', 'HipDXADt', 'NeckBMD', 'PDATE', 'PTH', 'VitD']\n",
      "\n",
      "Total rows: 1212\n"
     ]
    }
   ],
   "source": [
    "prefix = 'boneancillarystudy'\n",
    "column_uniformity_check(prefix)"
   ]
  },
  {
   "cell_type": "code",
   "execution_count": 18,
   "id": "ddbb6c76",
   "metadata": {
    "pycharm": {
     "name": "#%%\n"
    },
    "tags": []
   },
   "outputs": [
    {
     "name": "stdout",
     "output_type": "stream",
     "text": [
      "boneancillarystudy.sas7bdat\tVar Cnt: 50\n",
      "Visits: ['V04', 'V05', 'V06']\n",
      "(3636, 21)\n",
      "\n",
      "Starting dataframe size: 1.06MB\n"
     ]
    }
   ],
   "source": [
    "tmp_df = create_df(prefix)\n",
    "print(tmp_df.shape)\n",
    "print('\\nStarting dataframe size: {:.2f}MB'.format(tmp_df.memory_usage(deep=True).sum() / (1024**2)))"
   ]
  },
  {
   "cell_type": "code",
   "execution_count": 19,
   "id": "04dbd202",
   "metadata": {
    "pycharm": {
     "name": "#%%\n"
    },
    "tags": []
   },
   "outputs": [],
   "source": [
    "data_stats_df, done_df = gather_column_data_stats(tmp_df)"
   ]
  },
  {
   "cell_type": "code",
   "execution_count": 20,
   "id": "18a86c49",
   "metadata": {
    "pycharm": {
     "name": "#%%\n"
    },
    "tags": []
   },
   "outputs": [
    {
     "name": "stdout",
     "output_type": "stream",
     "text": [
      "Already defined cols: 6 \tCols to convert: 15\t Total col cnt: 21\n",
      "\n",
      "Column types to convert:\n",
      "   str_cnt  num_cnt  date_cnt  na_cnt  count\n",
      "0    False    False      True   False      4\n",
      "1    False     True     False    True     10\n",
      "2     True    False     False   False      1\n",
      "\n",
      "Numeric types of columns:\n",
      "num_type\n",
      "float       8\n",
      "na          4\n",
      "unsigned    2\n",
      "Name: count, dtype: int64\n",
      "\n",
      "Largest number of unique strings: 1.0\n"
     ]
    },
    {
     "data": {
      "text/html": [
       "<div>\n",
       "<style scoped>\n",
       "    .dataframe tbody tr th:only-of-type {\n",
       "        vertical-align: middle;\n",
       "    }\n",
       "\n",
       "    .dataframe tbody tr th {\n",
       "        vertical-align: top;\n",
       "    }\n",
       "\n",
       "    .dataframe thead th {\n",
       "        text-align: right;\n",
       "    }\n",
       "</style>\n",
       "<table border=\"1\" class=\"dataframe\">\n",
       "  <thead>\n",
       "    <tr style=\"text-align: right;\">\n",
       "      <th></th>\n",
       "      <th>label</th>\n",
       "      <th>uniq_strs</th>\n",
       "      <th>str_list</th>\n",
       "      <th>missing_val_cnt</th>\n",
       "      <th>missing_val_list</th>\n",
       "      <th>numeric_str</th>\n",
       "      <th>num_type</th>\n",
       "      <th>uniq_num</th>\n",
       "      <th>max_num</th>\n",
       "      <th>min_num</th>\n",
       "      <th>str_cnt</th>\n",
       "      <th>num_cnt</th>\n",
       "      <th>date_cnt</th>\n",
       "      <th>na_cnt</th>\n",
       "    </tr>\n",
       "    <tr>\n",
       "      <th>col</th>\n",
       "      <th></th>\n",
       "      <th></th>\n",
       "      <th></th>\n",
       "      <th></th>\n",
       "      <th></th>\n",
       "      <th></th>\n",
       "      <th></th>\n",
       "      <th></th>\n",
       "      <th></th>\n",
       "      <th></th>\n",
       "      <th></th>\n",
       "      <th></th>\n",
       "      <th></th>\n",
       "      <th></th>\n",
       "    </tr>\n",
       "  </thead>\n",
       "  <tbody>\n",
       "    <tr>\n",
       "      <th>READPRJ</th>\n",
       "      <td>Project</td>\n",
       "      <td>1.0</td>\n",
       "      <td>{62}</td>\n",
       "      <td>0</td>\n",
       "      <td>{}</td>\n",
       "      <td>True</td>\n",
       "      <td>None</td>\n",
       "      <td>NaN</td>\n",
       "      <td>NaN</td>\n",
       "      <td>NaN</td>\n",
       "      <td>3,636</td>\n",
       "      <td>0</td>\n",
       "      <td>0</td>\n",
       "      <td>0</td>\n",
       "    </tr>\n",
       "    <tr>\n",
       "      <th>KNEEDXADT</th>\n",
       "      <td>None</td>\n",
       "      <td>NaN</td>\n",
       "      <td>None</td>\n",
       "      <td>0</td>\n",
       "      <td>None</td>\n",
       "      <td>None</td>\n",
       "      <td>na</td>\n",
       "      <td>1.0</td>\n",
       "      <td>NaN</td>\n",
       "      <td>NaN</td>\n",
       "      <td>0</td>\n",
       "      <td>0</td>\n",
       "      <td>2,276</td>\n",
       "      <td>0</td>\n",
       "    </tr>\n",
       "    <tr>\n",
       "      <th>MEDIALBMD</th>\n",
       "      <td>None</td>\n",
       "      <td>0.0</td>\n",
       "      <td>None</td>\n",
       "      <td>0</td>\n",
       "      <td>None</td>\n",
       "      <td>None</td>\n",
       "      <td>float</td>\n",
       "      <td>2277.0</td>\n",
       "      <td>2.052863</td>\n",
       "      <td>0.506177</td>\n",
       "      <td>0</td>\n",
       "      <td>2,276</td>\n",
       "      <td>0</td>\n",
       "      <td>1,360</td>\n",
       "    </tr>\n",
       "    <tr>\n",
       "      <th>LATERALBMD</th>\n",
       "      <td>None</td>\n",
       "      <td>0.0</td>\n",
       "      <td>None</td>\n",
       "      <td>0</td>\n",
       "      <td>None</td>\n",
       "      <td>None</td>\n",
       "      <td>float</td>\n",
       "      <td>2277.0</td>\n",
       "      <td>1.596222</td>\n",
       "      <td>0.458337</td>\n",
       "      <td>0</td>\n",
       "      <td>2,276</td>\n",
       "      <td>0</td>\n",
       "      <td>1,360</td>\n",
       "    </tr>\n",
       "    <tr>\n",
       "      <th>BMDRATIO</th>\n",
       "      <td>None</td>\n",
       "      <td>0.0</td>\n",
       "      <td>None</td>\n",
       "      <td>0</td>\n",
       "      <td>None</td>\n",
       "      <td>None</td>\n",
       "      <td>float</td>\n",
       "      <td>2277.0</td>\n",
       "      <td>2.093117</td>\n",
       "      <td>0.541803</td>\n",
       "      <td>0</td>\n",
       "      <td>2,276</td>\n",
       "      <td>0</td>\n",
       "      <td>1,360</td>\n",
       "    </tr>\n",
       "    <tr>\n",
       "      <th>KNEEDXASFWARE</th>\n",
       "      <td>None</td>\n",
       "      <td>0.0</td>\n",
       "      <td>None</td>\n",
       "      <td>0</td>\n",
       "      <td>None</td>\n",
       "      <td>None</td>\n",
       "      <td>unsigned</td>\n",
       "      <td>3.0</td>\n",
       "      <td>1.000000</td>\n",
       "      <td>0.000000</td>\n",
       "      <td>0</td>\n",
       "      <td>2,276</td>\n",
       "      <td>0</td>\n",
       "      <td>1,360</td>\n",
       "    </tr>\n",
       "    <tr>\n",
       "      <th>TRABMRSEQDT</th>\n",
       "      <td>None</td>\n",
       "      <td>NaN</td>\n",
       "      <td>None</td>\n",
       "      <td>0</td>\n",
       "      <td>None</td>\n",
       "      <td>None</td>\n",
       "      <td>na</td>\n",
       "      <td>1.0</td>\n",
       "      <td>NaN</td>\n",
       "      <td>NaN</td>\n",
       "      <td>0</td>\n",
       "      <td>0</td>\n",
       "      <td>1,148</td>\n",
       "      <td>0</td>\n",
       "    </tr>\n",
       "    <tr>\n",
       "      <th>BVF</th>\n",
       "      <td>Bone Volume Fraction - avg of the 20 central s...</td>\n",
       "      <td>0.0</td>\n",
       "      <td>None</td>\n",
       "      <td>0</td>\n",
       "      <td>None</td>\n",
       "      <td>None</td>\n",
       "      <td>float</td>\n",
       "      <td>256.0</td>\n",
       "      <td>0.537000</td>\n",
       "      <td>0.005000</td>\n",
       "      <td>0</td>\n",
       "      <td>1,013</td>\n",
       "      <td>0</td>\n",
       "      <td>2,623</td>\n",
       "    </tr>\n",
       "    <tr>\n",
       "      <th>TRN</th>\n",
       "      <td>None</td>\n",
       "      <td>0.0</td>\n",
       "      <td>None</td>\n",
       "      <td>0</td>\n",
       "      <td>None</td>\n",
       "      <td>None</td>\n",
       "      <td>float</td>\n",
       "      <td>720.0</td>\n",
       "      <td>1.908000</td>\n",
       "      <td>0.048000</td>\n",
       "      <td>0</td>\n",
       "      <td>1,013</td>\n",
       "      <td>0</td>\n",
       "      <td>2,623</td>\n",
       "    </tr>\n",
       "    <tr>\n",
       "      <th>TRSP</th>\n",
       "      <td>None</td>\n",
       "      <td>0.0</td>\n",
       "      <td>None</td>\n",
       "      <td>0</td>\n",
       "      <td>None</td>\n",
       "      <td>None</td>\n",
       "      <td>float</td>\n",
       "      <td>843.0</td>\n",
       "      <td>22.329000</td>\n",
       "      <td>0.247000</td>\n",
       "      <td>0</td>\n",
       "      <td>1,013</td>\n",
       "      <td>0</td>\n",
       "      <td>2,623</td>\n",
       "    </tr>\n",
       "    <tr>\n",
       "      <th>TRTH</th>\n",
       "      <td>None</td>\n",
       "      <td>0.0</td>\n",
       "      <td>None</td>\n",
       "      <td>0</td>\n",
       "      <td>None</td>\n",
       "      <td>None</td>\n",
       "      <td>float</td>\n",
       "      <td>113.0</td>\n",
       "      <td>0.285000</td>\n",
       "      <td>0.095000</td>\n",
       "      <td>0</td>\n",
       "      <td>1,013</td>\n",
       "      <td>0</td>\n",
       "      <td>2,623</td>\n",
       "    </tr>\n",
       "    <tr>\n",
       "      <th>HIPDXADT</th>\n",
       "      <td>None</td>\n",
       "      <td>NaN</td>\n",
       "      <td>None</td>\n",
       "      <td>0</td>\n",
       "      <td>None</td>\n",
       "      <td>None</td>\n",
       "      <td>na</td>\n",
       "      <td>1.0</td>\n",
       "      <td>NaN</td>\n",
       "      <td>NaN</td>\n",
       "      <td>0</td>\n",
       "      <td>0</td>\n",
       "      <td>2,283</td>\n",
       "      <td>0</td>\n",
       "    </tr>\n",
       "    <tr>\n",
       "      <th>NECKBMD</th>\n",
       "      <td>None</td>\n",
       "      <td>0.0</td>\n",
       "      <td>None</td>\n",
       "      <td>0</td>\n",
       "      <td>None</td>\n",
       "      <td>None</td>\n",
       "      <td>float</td>\n",
       "      <td>1185.0</td>\n",
       "      <td>1.624088</td>\n",
       "      <td>0.608449</td>\n",
       "      <td>0</td>\n",
       "      <td>2,283</td>\n",
       "      <td>0</td>\n",
       "      <td>1,353</td>\n",
       "    </tr>\n",
       "    <tr>\n",
       "      <th>PDATE</th>\n",
       "      <td>Blood sample draw date</td>\n",
       "      <td>NaN</td>\n",
       "      <td>None</td>\n",
       "      <td>0</td>\n",
       "      <td>None</td>\n",
       "      <td>None</td>\n",
       "      <td>na</td>\n",
       "      <td>1.0</td>\n",
       "      <td>NaN</td>\n",
       "      <td>NaN</td>\n",
       "      <td>0</td>\n",
       "      <td>0</td>\n",
       "      <td>2,253</td>\n",
       "      <td>0</td>\n",
       "    </tr>\n",
       "    <tr>\n",
       "      <th>VITD</th>\n",
       "      <td>None</td>\n",
       "      <td>0.0</td>\n",
       "      <td>None</td>\n",
       "      <td>0</td>\n",
       "      <td>None</td>\n",
       "      <td>None</td>\n",
       "      <td>unsigned</td>\n",
       "      <td>57.0</td>\n",
       "      <td>69.000000</td>\n",
       "      <td>4.000000</td>\n",
       "      <td>0</td>\n",
       "      <td>2,251</td>\n",
       "      <td>0</td>\n",
       "      <td>1,385</td>\n",
       "    </tr>\n",
       "  </tbody>\n",
       "</table>\n",
       "</div>"
      ],
      "text/plain": [
       "                                                           label  uniq_strs  \\\n",
       "col                                                                           \n",
       "READPRJ                                                  Project        1.0   \n",
       "KNEEDXADT                                                   None        NaN   \n",
       "MEDIALBMD                                                   None        0.0   \n",
       "LATERALBMD                                                  None        0.0   \n",
       "BMDRATIO                                                    None        0.0   \n",
       "KNEEDXASFWARE                                               None        0.0   \n",
       "TRABMRSEQDT                                                 None        NaN   \n",
       "BVF            Bone Volume Fraction - avg of the 20 central s...        0.0   \n",
       "TRN                                                         None        0.0   \n",
       "TRSP                                                        None        0.0   \n",
       "TRTH                                                        None        0.0   \n",
       "HIPDXADT                                                    None        NaN   \n",
       "NECKBMD                                                     None        0.0   \n",
       "PDATE                                     Blood sample draw date        NaN   \n",
       "VITD                                                        None        0.0   \n",
       "\n",
       "              str_list  missing_val_cnt missing_val_list numeric_str  \\\n",
       "col                                                                    \n",
       "READPRJ           {62}                0               {}        True   \n",
       "KNEEDXADT         None                0             None        None   \n",
       "MEDIALBMD         None                0             None        None   \n",
       "LATERALBMD        None                0             None        None   \n",
       "BMDRATIO          None                0             None        None   \n",
       "KNEEDXASFWARE     None                0             None        None   \n",
       "TRABMRSEQDT       None                0             None        None   \n",
       "BVF               None                0             None        None   \n",
       "TRN               None                0             None        None   \n",
       "TRSP              None                0             None        None   \n",
       "TRTH              None                0             None        None   \n",
       "HIPDXADT          None                0             None        None   \n",
       "NECKBMD           None                0             None        None   \n",
       "PDATE             None                0             None        None   \n",
       "VITD              None                0             None        None   \n",
       "\n",
       "               num_type  uniq_num    max_num   min_num  str_cnt  num_cnt  \\\n",
       "col                                                                        \n",
       "READPRJ            None       NaN        NaN       NaN    3,636        0   \n",
       "KNEEDXADT            na       1.0        NaN       NaN        0        0   \n",
       "MEDIALBMD         float    2277.0   2.052863  0.506177        0    2,276   \n",
       "LATERALBMD        float    2277.0   1.596222  0.458337        0    2,276   \n",
       "BMDRATIO          float    2277.0   2.093117  0.541803        0    2,276   \n",
       "KNEEDXASFWARE  unsigned       3.0   1.000000  0.000000        0    2,276   \n",
       "TRABMRSEQDT          na       1.0        NaN       NaN        0        0   \n",
       "BVF               float     256.0   0.537000  0.005000        0    1,013   \n",
       "TRN               float     720.0   1.908000  0.048000        0    1,013   \n",
       "TRSP              float     843.0  22.329000  0.247000        0    1,013   \n",
       "TRTH              float     113.0   0.285000  0.095000        0    1,013   \n",
       "HIPDXADT             na       1.0        NaN       NaN        0        0   \n",
       "NECKBMD           float    1185.0   1.624088  0.608449        0    2,283   \n",
       "PDATE                na       1.0        NaN       NaN        0        0   \n",
       "VITD           unsigned      57.0  69.000000  4.000000        0    2,251   \n",
       "\n",
       "               date_cnt  na_cnt  \n",
       "col                              \n",
       "READPRJ               0       0  \n",
       "KNEEDXADT         2,276       0  \n",
       "MEDIALBMD             0   1,360  \n",
       "LATERALBMD            0   1,360  \n",
       "BMDRATIO              0   1,360  \n",
       "KNEEDXASFWARE         0   1,360  \n",
       "TRABMRSEQDT       1,148       0  \n",
       "BVF                   0   2,623  \n",
       "TRN                   0   2,623  \n",
       "TRSP                  0   2,623  \n",
       "TRTH                  0   2,623  \n",
       "HIPDXADT          2,283       0  \n",
       "NECKBMD               0   1,353  \n",
       "PDATE             2,253       0  \n",
       "VITD                  0   1,385  "
      ]
     },
     "execution_count": 20,
     "metadata": {},
     "output_type": "execute_result"
    }
   ],
   "source": [
    "data_stats_summary(tmp_df, data_stats_df)\n",
    "data_stats_df"
   ]
  },
  {
   "cell_type": "code",
   "execution_count": 21,
   "id": "9fdcfafb",
   "metadata": {
    "pycharm": {
     "name": "#%%\n"
    },
    "tags": []
   },
   "outputs": [
    {
     "name": "stdout",
     "output_type": "stream",
     "text": [
      "targets = {\n",
      "# Columns with only dates, missing, and NA values\n",
      "'date': ['KNEEDXADT', 'TRABMRSEQDT', 'HIPDXADT', 'PDATE'],\n",
      "\n",
      "# Columns with only unsigned ints, missing, and NA values\n",
      "'unsigned': ['KNEEDXASFWARE', 'VITD'],\n",
      "\n",
      "# Columns with only floats, missing, and NA values\n",
      "'float': ['MEDIALBMD', 'LATERALBMD', 'BMDRATIO', 'BVF', 'TRN', 'TRSP', 'TRTH', 'NECKBMD'],\n",
      "\n",
      "# Columns with only strings, missing, and NA values\n",
      "'cat': ['READPRJ'],\n",
      "\n",
      "}\n",
      "\n",
      "\n",
      "Handled columns: 15\n"
     ]
    }
   ],
   "source": [
    "suggest_conversions(data_stats_df)"
   ]
  },
  {
   "cell_type": "code",
   "execution_count": 22,
   "id": "1151155c",
   "metadata": {
    "pycharm": {
     "name": "#%%\n"
    },
    "tags": []
   },
   "outputs": [],
   "source": [
    "targets = {\n",
    "# Columns with only dates, missing, and NA values\n",
    "'date': ['KNEEDXADT', 'TRABMRSEQDT', 'HIPDXADT', 'PDATE'],\n",
    "\n",
    "# Columns with only unsigned ints, missing, and NA values\n",
    "'unsigned': ['KNEEDXASFWARE', 'VITD'],\n",
    "\n",
    "# Columns with only floats, missing, and NA values\n",
    "'float': ['MEDIALBMD', 'LATERALBMD', 'BMDRATIO', 'BVF', 'TRN', 'TRSP', 'TRTH', 'NECKBMD'],\n",
    "\n",
    "}\n",
    "\n",
    "new_df, missing_df = convert_columns(targets, data_stats_df, tmp_df)"
   ]
  },
  {
   "cell_type": "code",
   "execution_count": 23,
   "id": "aa4ef1a9-c56d-49b3-b380-26aa72837931",
   "metadata": {},
   "outputs": [],
   "source": [
    "# Clean up the side var and make an index\n",
    "new_df['KNEESIDE'] = new_df['KNEESIDE'].cat.rename_categories({'1: Right': 'RIGHT', '2: Left': 'LEFT'})\n",
    "new_df['HIPSIDE'] = new_df['HIPSIDE'].cat.rename_categories({'1: Right': 'RIGHT', '2: Left': 'LEFT'})\n",
    "#new_df.set_index('SIDE', append=True, inplace=True)"
   ]
  },
  {
   "cell_type": "code",
   "execution_count": 24,
   "id": "8bb8a09a",
   "metadata": {
    "pycharm": {
     "name": "#%%\n"
    },
    "tags": []
   },
   "outputs": [
    {
     "name": "stdout",
     "output_type": "stream",
     "text": [
      "Columns still object type:  ['READPRJ']\n",
      "\n",
      "VERSION                category\n",
      "KNEESIDE               category\n",
      "HIPSIDE                category\n",
      "READPRJ                  object\n",
      "KNEEDXADT        datetime64[ns]\n",
      "MEDIALBMD               float32\n",
      "LATERALBMD              float32\n",
      "BMDRATIO                float32\n",
      "KNEEDXASFWARE             UInt8\n",
      "TRABMRSEQDT      datetime64[ns]\n",
      "BVF                     float32\n",
      "TRN                     float32\n",
      "TRSP                    float32\n",
      "TRTH                    float32\n",
      "HIPDXADT         datetime64[ns]\n",
      "NECKBMD                 float32\n",
      "PDATE            datetime64[ns]\n",
      "PTH                    category\n",
      "VITD                      UInt8\n",
      "dtype: object\n"
     ]
    }
   ],
   "source": [
    "sanity_check(new_df)\n",
    "print()\n",
    "print(new_df.dtypes)\n",
    "if not missing_df.empty:\n",
    "    print('\\nMissing values present, shadow dataframe created.')\n",
    "    print(missing_df)"
   ]
  },
  {
   "cell_type": "code",
   "execution_count": 25,
   "id": "d9c0e13e",
   "metadata": {
    "pycharm": {
     "name": "#%%\n"
    },
    "tags": []
   },
   "outputs": [
    {
     "name": "stdout",
     "output_type": "stream",
     "text": [
      "\n",
      "Final dataframe size: 0.49MB\n",
      "Shadow dataframe size: 0.03MB\n"
     ]
    }
   ],
   "source": [
    "print('\\nFinal dataframe size: {:.2f}MB'.format(new_df.memory_usage(deep=True).sum() / (1024**2)))\n",
    "print('Shadow dataframe size: {:.2f}MB'.format(missing_df.memory_usage(deep=True).sum() / (1024**2)))"
   ]
  },
  {
   "cell_type": "code",
   "execution_count": 26,
   "id": "53c9e3b6-eef1-43d8-9f64-f887672fe62a",
   "metadata": {
    "tags": []
   },
   "outputs": [],
   "source": [
    "utils.write_parquet(new_df, 'data/' + prefix + '_values.parquet')\n",
    "if not missing_df.empty:\n",
    "    utils.write_parquet(new_df, 'data/' + prefix + '_missing_values.parquet', verbose=False)"
   ]
  },
  {
   "cell_type": "markdown",
   "id": "7d15d5c9",
   "metadata": {
    "tags": []
   },
   "source": [
    "## enrollees"
   ]
  },
  {
   "cell_type": "code",
   "execution_count": 93,
   "id": "2cf02833",
   "metadata": {
    "execution": {
     "iopub.execute_input": "2023-12-21T21:02:21.344339Z",
     "iopub.status.busy": "2023-12-21T21:02:21.343953Z",
     "iopub.status.idle": "2023-12-21T21:02:23.059635Z",
     "shell.execute_reply": "2023-12-21T21:02:23.058721Z",
     "shell.execute_reply.started": "2023-12-21T21:02:21.344308Z"
    },
    "pycharm": {
     "name": "#%%\n"
    }
   },
   "outputs": [
    {
     "name": "stdout",
     "output_type": "stream",
     "text": [
      "enrollees.sas7bdat\tVar Cnt: 60\n",
      "Visits: ['P02', 'V00', 'V01', 'V02', 'V03', 'V04', 'V05', 'V06', 'V08', 'V10']\n",
      "(47960, 17)\n",
      "Index(['ID', 'Visit', 'VERSION', 'HISP', 'RACE', 'SEX', 'CHRTHLF', 'COHORT',\n",
      "       'IMAGESA', 'IMAGESB', 'IMAGESC', 'IMAGESD', 'IMAGESE', 'IMAGESF',\n",
      "       'IMAGESG', 'SITE', 'HADINTV'],\n",
      "      dtype='object')\n"
     ]
    }
   ],
   "source": [
    "prefix = 'enrollees'\n",
    "tmp_df = create_df(prefix)\n",
    "print(tmp_df.shape)\n",
    "print(tmp_df.columns)"
   ]
  },
  {
   "cell_type": "code",
   "execution_count": 94,
   "id": "5f7334c5",
   "metadata": {
    "execution": {
     "iopub.execute_input": "2023-12-21T21:02:23.061466Z",
     "iopub.status.busy": "2023-12-21T21:02:23.061104Z",
     "iopub.status.idle": "2023-12-21T21:02:23.070084Z",
     "shell.execute_reply": "2023-12-21T21:02:23.069323Z",
     "shell.execute_reply.started": "2023-12-21T21:02:23.061431Z"
    },
    "pycharm": {
     "name": "#%%\n"
    }
   },
   "outputs": [
    {
     "data": {
      "text/plain": [
       "VERSION\n",
       "25    47960\n",
       "Name: count, dtype: int64"
      ]
     },
     "execution_count": 94,
     "metadata": {},
     "output_type": "execute_result"
    }
   ],
   "source": [
    "# Are all variables associated with the same release VERSION?\n",
    "tmp_df['VERSION'].value_counts()"
   ]
  },
  {
   "cell_type": "markdown",
   "id": "c0ef7600",
   "metadata": {},
   "source": [
    "From reading about the data, the enrollees data is best stored as two separate dataframes:\n",
    "* One has basic data about the enrollees collected at either the IEI or EV. \n",
    "* The second tracks participation in different image groups by visit."
   ]
  },
  {
   "cell_type": "markdown",
   "id": "c72a0ecf",
   "metadata": {},
   "source": [
    "### Enrollee Data"
   ]
  },
  {
   "cell_type": "code",
   "execution_count": 95,
   "id": "ff7b56f3",
   "metadata": {
    "execution": {
     "iopub.execute_input": "2023-12-21T21:02:23.071843Z",
     "iopub.status.busy": "2023-12-21T21:02:23.071572Z",
     "iopub.status.idle": "2023-12-21T21:02:23.102953Z",
     "shell.execute_reply": "2023-12-21T21:02:23.102196Z",
     "shell.execute_reply.started": "2023-12-21T21:02:23.071817Z"
    },
    "pycharm": {
     "name": "#%%\n"
    },
    "tags": []
   },
   "outputs": [],
   "source": [
    "enrollee_df = tmp_df[tmp_df['Visit'] == 'P02'].copy()\n",
    "enrollee_df.dropna(how='all', axis='columns', inplace=True)  # Drop all columns for data that wasn't collected during visit P02\n",
    "enrollee_df.drop('Visit', axis='columns', inplace=True)  # this information is independent of the visit\n",
    "\n",
    "enrollee_df = enrollee_df.join(tmp_df[tmp_df['Visit'] == 'V00'][['ID', 'CHRTHLF', 'COHORT', 'SITE']].set_index('ID'), on='ID')\n",
    "enrollee_df = enrollee_df.join(tmp_df[tmp_df['Visit'] == 'V01'][['ID', 'HADINTV']].set_index('ID'), on='ID')\n",
    "enrollee_df = enrollee_df.astype({'SITE': 'category'})\n",
    "enrollee_df.set_index('ID', inplace=True)"
   ]
  },
  {
   "cell_type": "code",
   "execution_count": 96,
   "id": "677c160f",
   "metadata": {
    "execution": {
     "iopub.execute_input": "2023-12-21T21:02:23.104520Z",
     "iopub.status.busy": "2023-12-21T21:02:23.104102Z",
     "iopub.status.idle": "2023-12-21T21:02:23.111395Z",
     "shell.execute_reply": "2023-12-21T21:02:23.110446Z",
     "shell.execute_reply.started": "2023-12-21T21:02:23.104490Z"
    },
    "pycharm": {
     "name": "#%%\n"
    },
    "tags": []
   },
   "outputs": [
    {
     "name": "stdout",
     "output_type": "stream",
     "text": [
      "\n",
      "VERSION    category\n",
      "HISP       category\n",
      "RACE       category\n",
      "SEX        category\n",
      "CHRTHLF    category\n",
      "COHORT     category\n",
      "SITE       category\n",
      "HADINTV    category\n",
      "dtype: object\n"
     ]
    }
   ],
   "source": [
    "sanity_check(enrollee_df)\n",
    "print()\n",
    "print(enrollee_df.dtypes)"
   ]
  },
  {
   "cell_type": "code",
   "execution_count": 97,
   "id": "60c555b7-15cf-4a2a-8f1c-18a47c2fbd4c",
   "metadata": {
    "execution": {
     "iopub.execute_input": "2023-12-21T21:02:23.112977Z",
     "iopub.status.busy": "2023-12-21T21:02:23.112649Z",
     "iopub.status.idle": "2023-12-21T21:02:23.129973Z",
     "shell.execute_reply": "2023-12-21T21:02:23.129256Z",
     "shell.execute_reply.started": "2023-12-21T21:02:23.112946Z"
    },
    "tags": []
   },
   "outputs": [],
   "source": [
    "utils.write_parquet(enrollee_df, 'data/enrollees_values.parquet')\n",
    "enrollees_df = None"
   ]
  },
  {
   "cell_type": "markdown",
   "id": "21bd85e8",
   "metadata": {},
   "source": [
    "### Image Group Participation"
   ]
  },
  {
   "cell_type": "code",
   "execution_count": 98,
   "id": "f4448c58",
   "metadata": {
    "execution": {
     "iopub.execute_input": "2023-12-21T21:02:23.131725Z",
     "iopub.status.busy": "2023-12-21T21:02:23.131252Z",
     "iopub.status.idle": "2023-12-21T21:02:23.204307Z",
     "shell.execute_reply": "2023-12-21T21:02:23.203499Z",
     "shell.execute_reply.started": "2023-12-21T21:02:23.131695Z"
    },
    "pycharm": {
     "name": "#%%\n"
    }
   },
   "outputs": [],
   "source": [
    "df_list = []\n",
    "for v in ['V00', 'V01', 'V02', 'V03', 'V04', 'V05', 'V06', 'V08', 'V10']:\n",
    "    image_groups_df = tmp_df[tmp_df['Visit'] == v].copy()\n",
    "    image_groups_df.dropna(how='all', axis='columns', inplace=True)\n",
    "    if v == 'V00':\n",
    "        image_groups_df.drop(['CHRTHLF', 'COHORT', 'SITE'], axis='columns', inplace=True)\n",
    "    if v == 'V01':\n",
    "        image_groups_df.drop(['HADINTV'], axis='columns', inplace=True)\n",
    "    df_list.append(image_groups_df)\n",
    "image_groups_df = pd.concat(df_list, axis=0)\n",
    "image_groups_df = image_groups_df.set_index(['ID', 'Visit'])"
   ]
  },
  {
   "cell_type": "code",
   "execution_count": 99,
   "id": "8caefae1",
   "metadata": {
    "execution": {
     "iopub.execute_input": "2023-12-21T21:02:23.206221Z",
     "iopub.status.busy": "2023-12-21T21:02:23.205564Z",
     "iopub.status.idle": "2023-12-21T21:02:23.213390Z",
     "shell.execute_reply": "2023-12-21T21:02:23.212632Z",
     "shell.execute_reply.started": "2023-12-21T21:02:23.206190Z"
    },
    "pycharm": {
     "name": "#%%\n"
    }
   },
   "outputs": [
    {
     "name": "stdout",
     "output_type": "stream",
     "text": [
      "\n",
      "VERSION    category\n",
      "IMAGESA    category\n",
      "IMAGESB    category\n",
      "IMAGESC    category\n",
      "IMAGESD    category\n",
      "IMAGESE    category\n",
      "IMAGESF    category\n",
      "IMAGESG    category\n",
      "dtype: object\n"
     ]
    }
   ],
   "source": [
    "sanity_check(image_groups_df)\n",
    "print()\n",
    "print(image_groups_df.dtypes)"
   ]
  },
  {
   "cell_type": "code",
   "execution_count": 100,
   "id": "9d07172f",
   "metadata": {
    "execution": {
     "iopub.execute_input": "2023-12-21T21:02:23.215113Z",
     "iopub.status.busy": "2023-12-21T21:02:23.214797Z",
     "iopub.status.idle": "2023-12-21T21:02:23.242461Z",
     "shell.execute_reply": "2023-12-21T21:02:23.241701Z",
     "shell.execute_reply.started": "2023-12-21T21:02:23.215086Z"
    },
    "pycharm": {
     "name": "#%%\n"
    }
   },
   "outputs": [],
   "source": [
    "utils.write_parquet(image_groups_df, 'data/image_groups_values.parquet')\n",
    "df_list = None\n",
    "image_groups_df = None"
   ]
  },
  {
   "cell_type": "markdown",
   "id": "c05696d0",
   "metadata": {
    "tags": []
   },
   "source": [
    "## flxr_kneealign_cooke"
   ]
  },
  {
   "cell_type": "code",
   "execution_count": 101,
   "id": "f3fc89a7",
   "metadata": {
    "execution": {
     "iopub.execute_input": "2023-12-21T21:02:23.244031Z",
     "iopub.status.busy": "2023-12-21T21:02:23.243678Z",
     "iopub.status.idle": "2023-12-21T21:02:28.916466Z",
     "shell.execute_reply": "2023-12-21T21:02:28.915308Z",
     "shell.execute_reply.started": "2023-12-21T21:02:23.244000Z"
    },
    "pycharm": {
     "name": "#%%\n"
    },
    "tags": []
   },
   "outputs": [
    {
     "name": "stdout",
     "output_type": "stream",
     "text": [
      "\n",
      "flxr_kneealign_cooke01.sas7bdat: (2474, 6)\n",
      "['ID', 'SIDE', 'READPRJ', 'VERSION', 'BARCDDC', 'HKANGLE']\n",
      "\n",
      "flxr_kneealign_cooke03.sas7bdat: (2550, 6)\n",
      "\n",
      "flxr_kneealign_cooke05.sas7bdat: (1822, 6)\n",
      "\n",
      "flxr_kneealign_cooke06.sas7bdat: (264, 6)\n",
      "\n",
      "Total rows: 7110\n"
     ]
    }
   ],
   "source": [
    "prefix = 'flxr_kneealign_cooke'\n",
    "column_uniformity_check(prefix)"
   ]
  },
  {
   "cell_type": "code",
   "execution_count": 102,
   "id": "ef3c38f5",
   "metadata": {
    "execution": {
     "iopub.execute_input": "2023-12-21T21:02:28.918659Z",
     "iopub.status.busy": "2023-12-21T21:02:28.918313Z",
     "iopub.status.idle": "2023-12-21T21:02:35.130915Z",
     "shell.execute_reply": "2023-12-21T21:02:35.129966Z",
     "shell.execute_reply.started": "2023-12-21T21:02:28.918627Z"
    },
    "pycharm": {
     "name": "#%%\n"
    },
    "tags": []
   },
   "outputs": [
    {
     "name": "stdout",
     "output_type": "stream",
     "text": [
      "flxr_kneealign_cooke01.sas7bdat\tVar Cnt: 6\n",
      "Visits: ['V01']\n",
      "flxr_kneealign_cooke03.sas7bdat\tVar Cnt: 6\n",
      "Visits: ['V03']\n",
      "flxr_kneealign_cooke05.sas7bdat\tVar Cnt: 6\n",
      "Visits: ['V05']\n",
      "flxr_kneealign_cooke06.sas7bdat\tVar Cnt: 6\n",
      "Visits: ['V06']\n",
      "(7110, 7)\n",
      "\n",
      "Starting dataframe size: 1.19MB\n"
     ]
    }
   ],
   "source": [
    "tmp_df = create_df(prefix)\n",
    "print(tmp_df.shape)\n",
    "print('\\nStarting dataframe size: {:.2f}MB'.format(tmp_df.memory_usage(deep=True).sum() / (1024**2)))"
   ]
  },
  {
   "cell_type": "code",
   "execution_count": 103,
   "id": "b293f9bd",
   "metadata": {
    "execution": {
     "iopub.execute_input": "2023-12-21T21:02:35.132899Z",
     "iopub.status.busy": "2023-12-21T21:02:35.132567Z",
     "iopub.status.idle": "2023-12-21T21:02:35.193077Z",
     "shell.execute_reply": "2023-12-21T21:02:35.192301Z",
     "shell.execute_reply.started": "2023-12-21T21:02:35.132868Z"
    },
    "pycharm": {
     "name": "#%%\n"
    },
    "tags": []
   },
   "outputs": [],
   "source": [
    "data_stats_df, done_df = gather_column_data_stats(tmp_df)"
   ]
  },
  {
   "cell_type": "code",
   "execution_count": 104,
   "id": "9819a43c",
   "metadata": {
    "execution": {
     "iopub.execute_input": "2023-12-21T21:02:35.194956Z",
     "iopub.status.busy": "2023-12-21T21:02:35.194259Z",
     "iopub.status.idle": "2023-12-21T21:02:35.225841Z",
     "shell.execute_reply": "2023-12-21T21:02:35.224923Z",
     "shell.execute_reply.started": "2023-12-21T21:02:35.194923Z"
    },
    "pycharm": {
     "name": "#%%\n"
    },
    "tags": []
   },
   "outputs": [
    {
     "name": "stdout",
     "output_type": "stream",
     "text": [
      "Already defined cols: 4 \tCols to convert: 3\t Total col cnt: 7\n",
      "\n",
      "Column types to convert:\n",
      "   str_cnt  num_cnt  date_cnt  na_cnt  count\n",
      "0     True    False     False   False      2\n",
      "1     True     True     False   False      1\n",
      "\n",
      "Numeric types of columns:\n",
      "num_type\n",
      "float    1\n",
      "Name: count, dtype: int64\n",
      "\n",
      "Largest number of unique strings: 3556\n"
     ]
    },
    {
     "data": {
      "text/html": [
       "<div>\n",
       "<style scoped>\n",
       "    .dataframe tbody tr th:only-of-type {\n",
       "        vertical-align: middle;\n",
       "    }\n",
       "\n",
       "    .dataframe tbody tr th {\n",
       "        vertical-align: top;\n",
       "    }\n",
       "\n",
       "    .dataframe thead th {\n",
       "        text-align: right;\n",
       "    }\n",
       "</style>\n",
       "<table border=\"1\" class=\"dataframe\">\n",
       "  <thead>\n",
       "    <tr style=\"text-align: right;\">\n",
       "      <th></th>\n",
       "      <th>label</th>\n",
       "      <th>uniq_strs</th>\n",
       "      <th>str_list</th>\n",
       "      <th>missing_val_cnt</th>\n",
       "      <th>missing_val_list</th>\n",
       "      <th>numeric_str</th>\n",
       "      <th>num_type</th>\n",
       "      <th>uniq_num</th>\n",
       "      <th>max_num</th>\n",
       "      <th>min_num</th>\n",
       "      <th>str_cnt</th>\n",
       "      <th>num_cnt</th>\n",
       "      <th>date_cnt</th>\n",
       "      <th>na_cnt</th>\n",
       "    </tr>\n",
       "    <tr>\n",
       "      <th>col</th>\n",
       "      <th></th>\n",
       "      <th></th>\n",
       "      <th></th>\n",
       "      <th></th>\n",
       "      <th></th>\n",
       "      <th></th>\n",
       "      <th></th>\n",
       "      <th></th>\n",
       "      <th></th>\n",
       "      <th></th>\n",
       "      <th></th>\n",
       "      <th></th>\n",
       "      <th></th>\n",
       "      <th></th>\n",
       "    </tr>\n",
       "  </thead>\n",
       "  <tbody>\n",
       "    <tr>\n",
       "      <th>READPRJ</th>\n",
       "      <td>Project</td>\n",
       "      <td>1</td>\n",
       "      <td>{60}</td>\n",
       "      <td>0</td>\n",
       "      <td>{}</td>\n",
       "      <td>True</td>\n",
       "      <td>None</td>\n",
       "      <td>NaN</td>\n",
       "      <td>NaN</td>\n",
       "      <td>NaN</td>\n",
       "      <td>7110</td>\n",
       "      <td>0</td>\n",
       "      <td>0</td>\n",
       "      <td>0</td>\n",
       "    </tr>\n",
       "    <tr>\n",
       "      <th>BARCDDC</th>\n",
       "      <td>FU kXR reading (DC): barcode of image analyzed</td>\n",
       "      <td>3556</td>\n",
       "      <td>{016602059004, 016601803507, 016601981204, 016...</td>\n",
       "      <td>0</td>\n",
       "      <td>{}</td>\n",
       "      <td>False</td>\n",
       "      <td>None</td>\n",
       "      <td>NaN</td>\n",
       "      <td>NaN</td>\n",
       "      <td>NaN</td>\n",
       "      <td>7110</td>\n",
       "      <td>0</td>\n",
       "      <td>0</td>\n",
       "      <td>0</td>\n",
       "    </tr>\n",
       "    <tr>\n",
       "      <th>HKANGLE</th>\n",
       "      <td>FU kXR reading (DC): limb alignment (mechanica...</td>\n",
       "      <td>0</td>\n",
       "      <td>{}</td>\n",
       "      <td>3</td>\n",
       "      <td>{I, P, T}</td>\n",
       "      <td>False</td>\n",
       "      <td>float</td>\n",
       "      <td>243.0</td>\n",
       "      <td>19.9</td>\n",
       "      <td>-16.1</td>\n",
       "      <td>138</td>\n",
       "      <td>6972</td>\n",
       "      <td>0</td>\n",
       "      <td>0</td>\n",
       "    </tr>\n",
       "  </tbody>\n",
       "</table>\n",
       "</div>"
      ],
      "text/plain": [
       "                                                     label  uniq_strs  \\\n",
       "col                                                                     \n",
       "READPRJ                                            Project          1   \n",
       "BARCDDC     FU kXR reading (DC): barcode of image analyzed       3556   \n",
       "HKANGLE  FU kXR reading (DC): limb alignment (mechanica...          0   \n",
       "\n",
       "                                                  str_list  missing_val_cnt  \\\n",
       "col                                                                           \n",
       "READPRJ                                               {60}                0   \n",
       "BARCDDC  {016602059004, 016601803507, 016601981204, 016...                0   \n",
       "HKANGLE                                                 {}                3   \n",
       "\n",
       "        missing_val_list  numeric_str num_type  uniq_num  max_num  min_num  \\\n",
       "col                                                                          \n",
       "READPRJ               {}         True     None       NaN      NaN      NaN   \n",
       "BARCDDC               {}        False     None       NaN      NaN      NaN   \n",
       "HKANGLE        {I, P, T}        False    float     243.0     19.9    -16.1   \n",
       "\n",
       "         str_cnt  num_cnt  date_cnt  na_cnt  \n",
       "col                                          \n",
       "READPRJ     7110        0         0       0  \n",
       "BARCDDC     7110        0         0       0  \n",
       "HKANGLE      138     6972         0       0  "
      ]
     },
     "execution_count": 104,
     "metadata": {},
     "output_type": "execute_result"
    }
   ],
   "source": [
    "data_stats_summary(tmp_df, data_stats_df)\n",
    "data_stats_df"
   ]
  },
  {
   "cell_type": "code",
   "execution_count": 105,
   "id": "084c3b84",
   "metadata": {
    "execution": {
     "iopub.execute_input": "2023-12-21T21:02:35.227590Z",
     "iopub.status.busy": "2023-12-21T21:02:35.227197Z",
     "iopub.status.idle": "2023-12-21T21:02:35.240785Z",
     "shell.execute_reply": "2023-12-21T21:02:35.239979Z",
     "shell.execute_reply.started": "2023-12-21T21:02:35.227556Z"
    },
    "pycharm": {
     "name": "#%%\n"
    },
    "tags": []
   },
   "outputs": [
    {
     "name": "stdout",
     "output_type": "stream",
     "text": [
      "targets = {\n",
      "# Columns with only floats, missing, and NA values\n",
      "'float': ['HKANGLE'],\n",
      "\n",
      "# Columns with only strings, missing, and NA values\n",
      "'cat': ['READPRJ', 'BARCDDC'],\n",
      "\n",
      "}\n",
      "\n",
      "\n",
      "Handled columns: 3\n"
     ]
    }
   ],
   "source": [
    "suggest_conversions(data_stats_df)"
   ]
  },
  {
   "cell_type": "code",
   "execution_count": 106,
   "id": "2b6edfd1",
   "metadata": {
    "execution": {
     "iopub.execute_input": "2023-12-21T21:02:35.245695Z",
     "iopub.status.busy": "2023-12-21T21:02:35.242456Z",
     "iopub.status.idle": "2023-12-21T21:02:35.330056Z",
     "shell.execute_reply": "2023-12-21T21:02:35.329242Z",
     "shell.execute_reply.started": "2023-12-21T21:02:35.245620Z"
    },
    "pycharm": {
     "name": "#%%\n"
    },
    "tags": []
   },
   "outputs": [],
   "source": [
    "targets = {\n",
    "# Columns with only floats, missing, and NA values\n",
    "'float': ['HKANGLE'],\n",
    "\n",
    "# Columns with only strings, missing, and NA values\n",
    "'cat': ['BARCDDC'],\n",
    "\n",
    "}\n",
    "\n",
    "new_df, missing_df = convert_columns(targets, data_stats_df, tmp_df)"
   ]
  },
  {
   "cell_type": "code",
   "execution_count": 107,
   "id": "b5d516bc-b03e-409d-abb7-0222cb8ef134",
   "metadata": {
    "execution": {
     "iopub.execute_input": "2023-12-21T21:02:35.331651Z",
     "iopub.status.busy": "2023-12-21T21:02:35.331179Z",
     "iopub.status.idle": "2023-12-21T21:02:35.343374Z",
     "shell.execute_reply": "2023-12-21T21:02:35.342449Z",
     "shell.execute_reply.started": "2023-12-21T21:02:35.331618Z"
    }
   },
   "outputs": [],
   "source": [
    "# Clean up the side var and make an index\n",
    "new_df['SIDE'] = new_df['SIDE'].cat.rename_categories({'1: Right': 'RIGHT', '2: Left': 'LEFT'})\n",
    "new_df.set_index('SIDE', append=True, inplace=True) #  Note that indices are unique yet, Prj 15 and Prj 37 contain repeats"
   ]
  },
  {
   "cell_type": "code",
   "execution_count": 108,
   "id": "563dca29",
   "metadata": {
    "execution": {
     "iopub.execute_input": "2023-12-21T21:02:35.345807Z",
     "iopub.status.busy": "2023-12-21T21:02:35.345216Z",
     "iopub.status.idle": "2023-12-21T21:02:35.361583Z",
     "shell.execute_reply": "2023-12-21T21:02:35.360518Z",
     "shell.execute_reply.started": "2023-12-21T21:02:35.345757Z"
    },
    "pycharm": {
     "name": "#%%\n"
    },
    "tags": []
   },
   "outputs": [
    {
     "name": "stdout",
     "output_type": "stream",
     "text": [
      "Columns still object type:  ['READPRJ']\n",
      "\n",
      "VERSION    category\n",
      "READPRJ      object\n",
      "BARCDDC    category\n",
      "HKANGLE     float32\n",
      "dtype: object\n",
      "\n",
      "Missing values present, shadow dataframe created.\n",
      "              HKANGLE\n",
      "ID      Visit        \n",
      "9000099 V01       NaN\n",
      "        V01       NaN\n",
      "9000622 V01       NaN\n",
      "        V01       NaN\n",
      "9000798 V01       NaN\n",
      "...               ...\n",
      "9994408 V06       NaN\n",
      "9995277 V06       NaN\n",
      "        V06       NaN\n",
      "9996284 V06       NaN\n",
      "        V06       NaN\n",
      "\n",
      "[7110 rows x 1 columns]\n"
     ]
    }
   ],
   "source": [
    "sanity_check(new_df)\n",
    "print()\n",
    "print(new_df.dtypes)\n",
    "if not missing_df.empty:\n",
    "    print('\\nMissing values present, shadow dataframe created.')\n",
    "    print(missing_df)"
   ]
  },
  {
   "cell_type": "code",
   "execution_count": 109,
   "id": "ca2f269f",
   "metadata": {
    "execution": {
     "iopub.execute_input": "2023-12-21T21:02:35.363431Z",
     "iopub.status.busy": "2023-12-21T21:02:35.363031Z",
     "iopub.status.idle": "2023-12-21T21:02:35.373724Z",
     "shell.execute_reply": "2023-12-21T21:02:35.372628Z",
     "shell.execute_reply.started": "2023-12-21T21:02:35.363398Z"
    },
    "pycharm": {
     "name": "#%%\n"
    },
    "tags": []
   },
   "outputs": [
    {
     "name": "stdout",
     "output_type": "stream",
     "text": [
      "\n",
      "Final dataframe size: 0.95MB\n",
      "Shadow dataframe size: 0.14MB\n"
     ]
    }
   ],
   "source": [
    "print('\\nFinal dataframe size: {:.2f}MB'.format(new_df.memory_usage(deep=True).sum() / (1024**2)))\n",
    "print('Shadow dataframe size: {:.2f}MB'.format(missing_df.memory_usage(deep=True).sum() / (1024**2)))"
   ]
  },
  {
   "cell_type": "code",
   "execution_count": 110,
   "id": "3c042cff-3b9c-4085-8174-5f4bf4af4862",
   "metadata": {
    "execution": {
     "iopub.execute_input": "2023-12-21T21:02:35.375329Z",
     "iopub.status.busy": "2023-12-21T21:02:35.374937Z",
     "iopub.status.idle": "2023-12-21T21:02:35.412485Z",
     "shell.execute_reply": "2023-12-21T21:02:35.411676Z",
     "shell.execute_reply.started": "2023-12-21T21:02:35.375298Z"
    }
   },
   "outputs": [],
   "source": [
    "utils.write_parquet(new_df, 'data/' + prefix + '_values.parquet')\n",
    "if not missing_df.empty:\n",
    "    utils.write_parquet(new_df, 'data/' + prefix + '_missing_values.parquet', verbose=False)"
   ]
  },
  {
   "cell_type": "markdown",
   "id": "44d292d9",
   "metadata": {
    "tags": []
   },
   "source": [
    "## flxr_kneealign_duryea"
   ]
  },
  {
   "cell_type": "code",
   "execution_count": 111,
   "id": "e3c64e62",
   "metadata": {
    "execution": {
     "iopub.execute_input": "2023-12-21T21:02:35.414162Z",
     "iopub.status.busy": "2023-12-21T21:02:35.413692Z",
     "iopub.status.idle": "2023-12-21T21:02:41.107500Z",
     "shell.execute_reply": "2023-12-21T21:02:41.106268Z",
     "shell.execute_reply.started": "2023-12-21T21:02:35.414127Z"
    },
    "pycharm": {
     "name": "#%%\n"
    },
    "tags": []
   },
   "outputs": [
    {
     "name": "stdout",
     "output_type": "stream",
     "text": [
      "\n",
      "flxr_kneealign_duryea01.sas7bdat: (2864, 9)\n",
      "['ID', 'SIDE', 'READPRJ', 'VERSION', 'HKANGJD', 'BRCDHJD', 'femlen', 'tiblen', 'appll']\n",
      "\n",
      "flxr_kneealign_duryea03.sas7bdat: (2522, 9)\n",
      "Names only differ by case\n",
      "\n",
      "flxr_kneealign_duryea05.sas7bdat: (1828, 9)\n",
      "Names only differ by case\n",
      "\n",
      "flxr_kneealign_duryea06.sas7bdat: (352, 9)\n",
      "Names only differ by case\n",
      "\n",
      "Total rows: 7566\n"
     ]
    }
   ],
   "source": [
    "prefix = 'flxr_kneealign_duryea'\n",
    "column_uniformity_check(prefix)"
   ]
  },
  {
   "cell_type": "code",
   "execution_count": 112,
   "id": "674bd85f",
   "metadata": {
    "execution": {
     "iopub.execute_input": "2023-12-21T21:02:41.109523Z",
     "iopub.status.busy": "2023-12-21T21:02:41.109095Z",
     "iopub.status.idle": "2023-12-21T21:02:46.481998Z",
     "shell.execute_reply": "2023-12-21T21:02:46.481000Z",
     "shell.execute_reply.started": "2023-12-21T21:02:41.109486Z"
    },
    "pycharm": {
     "name": "#%%\n"
    },
    "tags": []
   },
   "outputs": [
    {
     "name": "stdout",
     "output_type": "stream",
     "text": [
      "flxr_kneealign_duryea01.sas7bdat\tVar Cnt: 9\n",
      "Visits: ['V01']\n",
      "flxr_kneealign_duryea03.sas7bdat\tVar Cnt: 9\n",
      "Visits: ['V03']\n",
      "flxr_kneealign_duryea05.sas7bdat\tVar Cnt: 9\n",
      "Visits: ['V05']\n",
      "flxr_kneealign_duryea06.sas7bdat\tVar Cnt: 9\n",
      "Visits: ['V06']\n",
      "(7566, 10)\n",
      "\n",
      "Starting dataframe size: 1.61MB\n"
     ]
    }
   ],
   "source": [
    "tmp_df = create_df(prefix)\n",
    "print(tmp_df.shape)\n",
    "print('\\nStarting dataframe size: {:.2f}MB'.format(tmp_df.memory_usage(deep=True).sum() / (1024**2)))"
   ]
  },
  {
   "cell_type": "code",
   "execution_count": 113,
   "id": "af289f09",
   "metadata": {
    "execution": {
     "iopub.execute_input": "2023-12-21T21:02:46.484237Z",
     "iopub.status.busy": "2023-12-21T21:02:46.483853Z",
     "iopub.status.idle": "2023-12-21T21:02:46.576071Z",
     "shell.execute_reply": "2023-12-21T21:02:46.575253Z",
     "shell.execute_reply.started": "2023-12-21T21:02:46.484201Z"
    },
    "pycharm": {
     "name": "#%%\n"
    },
    "tags": []
   },
   "outputs": [],
   "source": [
    "data_stats_df, done_df = gather_column_data_stats(tmp_df)"
   ]
  },
  {
   "cell_type": "code",
   "execution_count": 114,
   "id": "246f071f",
   "metadata": {
    "execution": {
     "iopub.execute_input": "2023-12-21T21:02:46.577786Z",
     "iopub.status.busy": "2023-12-21T21:02:46.577241Z",
     "iopub.status.idle": "2023-12-21T21:02:46.611706Z",
     "shell.execute_reply": "2023-12-21T21:02:46.610786Z",
     "shell.execute_reply.started": "2023-12-21T21:02:46.577753Z"
    },
    "pycharm": {
     "name": "#%%\n"
    },
    "tags": []
   },
   "outputs": [
    {
     "name": "stdout",
     "output_type": "stream",
     "text": [
      "Already defined cols: 4 \tCols to convert: 6\t Total col cnt: 10\n",
      "\n",
      "Column types to convert:\n",
      "   str_cnt  num_cnt  date_cnt  na_cnt  count\n",
      "0    False     True     False   False      1\n",
      "1    False     True     False    True      1\n",
      "2     True    False     False   False      2\n",
      "3     True     True     False   False      2\n",
      "\n",
      "Numeric types of columns:\n",
      "num_type\n",
      "float    4\n",
      "Name: count, dtype: int64\n",
      "\n",
      "Largest number of unique strings: 3783\n"
     ]
    },
    {
     "data": {
      "text/html": [
       "<div>\n",
       "<style scoped>\n",
       "    .dataframe tbody tr th:only-of-type {\n",
       "        vertical-align: middle;\n",
       "    }\n",
       "\n",
       "    .dataframe tbody tr th {\n",
       "        vertical-align: top;\n",
       "    }\n",
       "\n",
       "    .dataframe thead th {\n",
       "        text-align: right;\n",
       "    }\n",
       "</style>\n",
       "<table border=\"1\" class=\"dataframe\">\n",
       "  <thead>\n",
       "    <tr style=\"text-align: right;\">\n",
       "      <th></th>\n",
       "      <th>label</th>\n",
       "      <th>uniq_strs</th>\n",
       "      <th>str_list</th>\n",
       "      <th>missing_val_cnt</th>\n",
       "      <th>missing_val_list</th>\n",
       "      <th>numeric_str</th>\n",
       "      <th>num_type</th>\n",
       "      <th>uniq_num</th>\n",
       "      <th>max_num</th>\n",
       "      <th>min_num</th>\n",
       "      <th>str_cnt</th>\n",
       "      <th>num_cnt</th>\n",
       "      <th>date_cnt</th>\n",
       "      <th>na_cnt</th>\n",
       "    </tr>\n",
       "    <tr>\n",
       "      <th>col</th>\n",
       "      <th></th>\n",
       "      <th></th>\n",
       "      <th></th>\n",
       "      <th></th>\n",
       "      <th></th>\n",
       "      <th></th>\n",
       "      <th></th>\n",
       "      <th></th>\n",
       "      <th></th>\n",
       "      <th></th>\n",
       "      <th></th>\n",
       "      <th></th>\n",
       "      <th></th>\n",
       "      <th></th>\n",
       "    </tr>\n",
       "  </thead>\n",
       "  <tbody>\n",
       "    <tr>\n",
       "      <th>READPRJ</th>\n",
       "      <td>Project</td>\n",
       "      <td>1</td>\n",
       "      <td>{32}</td>\n",
       "      <td>0</td>\n",
       "      <td>{}</td>\n",
       "      <td>True</td>\n",
       "      <td>None</td>\n",
       "      <td>NaN</td>\n",
       "      <td>NaN</td>\n",
       "      <td>NaN</td>\n",
       "      <td>7566</td>\n",
       "      <td>0</td>\n",
       "      <td>0</td>\n",
       "      <td>0</td>\n",
       "    </tr>\n",
       "    <tr>\n",
       "      <th>HKANGJD</th>\n",
       "      <td>FU flXR reading (JD): limb alignment (mechanic...</td>\n",
       "      <td>0</td>\n",
       "      <td>None</td>\n",
       "      <td>0</td>\n",
       "      <td>None</td>\n",
       "      <td>None</td>\n",
       "      <td>float</td>\n",
       "      <td>5626.0</td>\n",
       "      <td>17.820000</td>\n",
       "      <td>-17.205000</td>\n",
       "      <td>0</td>\n",
       "      <td>7566</td>\n",
       "      <td>0</td>\n",
       "      <td>0</td>\n",
       "    </tr>\n",
       "    <tr>\n",
       "      <th>BRCDHJD</th>\n",
       "      <td>FU flXR reading (JD): barcode of image analyze...</td>\n",
       "      <td>3783</td>\n",
       "      <td>{016602059004, 016601803507, 016601981204, 016...</td>\n",
       "      <td>0</td>\n",
       "      <td>{}</td>\n",
       "      <td>True</td>\n",
       "      <td>None</td>\n",
       "      <td>NaN</td>\n",
       "      <td>NaN</td>\n",
       "      <td>NaN</td>\n",
       "      <td>7566</td>\n",
       "      <td>0</td>\n",
       "      <td>0</td>\n",
       "      <td>0</td>\n",
       "    </tr>\n",
       "    <tr>\n",
       "      <th>FEMLEN</th>\n",
       "      <td>None</td>\n",
       "      <td>0</td>\n",
       "      <td>{}</td>\n",
       "      <td>1</td>\n",
       "      <td>{T}</td>\n",
       "      <td>False</td>\n",
       "      <td>float</td>\n",
       "      <td>6557.0</td>\n",
       "      <td>587.270410</td>\n",
       "      <td>362.583479</td>\n",
       "      <td>4</td>\n",
       "      <td>7562</td>\n",
       "      <td>0</td>\n",
       "      <td>0</td>\n",
       "    </tr>\n",
       "    <tr>\n",
       "      <th>TIBLEN</th>\n",
       "      <td>None</td>\n",
       "      <td>0</td>\n",
       "      <td>{}</td>\n",
       "      <td>1</td>\n",
       "      <td>{T}</td>\n",
       "      <td>False</td>\n",
       "      <td>float</td>\n",
       "      <td>6535.0</td>\n",
       "      <td>507.906293</td>\n",
       "      <td>284.876981</td>\n",
       "      <td>4</td>\n",
       "      <td>7562</td>\n",
       "      <td>0</td>\n",
       "      <td>0</td>\n",
       "    </tr>\n",
       "    <tr>\n",
       "      <th>APPLL</th>\n",
       "      <td>None</td>\n",
       "      <td>0</td>\n",
       "      <td>None</td>\n",
       "      <td>0</td>\n",
       "      <td>None</td>\n",
       "      <td>None</td>\n",
       "      <td>float</td>\n",
       "      <td>7562.0</td>\n",
       "      <td>1074.030858</td>\n",
       "      <td>646.708919</td>\n",
       "      <td>0</td>\n",
       "      <td>7562</td>\n",
       "      <td>0</td>\n",
       "      <td>4</td>\n",
       "    </tr>\n",
       "  </tbody>\n",
       "</table>\n",
       "</div>"
      ],
      "text/plain": [
       "                                                     label  uniq_strs  \\\n",
       "col                                                                     \n",
       "READPRJ                                            Project          1   \n",
       "HKANGJD  FU flXR reading (JD): limb alignment (mechanic...          0   \n",
       "BRCDHJD  FU flXR reading (JD): barcode of image analyze...       3783   \n",
       "FEMLEN                                                None          0   \n",
       "TIBLEN                                                None          0   \n",
       "APPLL                                                 None          0   \n",
       "\n",
       "                                                  str_list  missing_val_cnt  \\\n",
       "col                                                                           \n",
       "READPRJ                                               {32}                0   \n",
       "HKANGJD                                               None                0   \n",
       "BRCDHJD  {016602059004, 016601803507, 016601981204, 016...                0   \n",
       "FEMLEN                                                  {}                1   \n",
       "TIBLEN                                                  {}                1   \n",
       "APPLL                                                 None                0   \n",
       "\n",
       "        missing_val_list numeric_str num_type  uniq_num      max_num  \\\n",
       "col                                                                    \n",
       "READPRJ               {}        True     None       NaN          NaN   \n",
       "HKANGJD             None        None    float    5626.0    17.820000   \n",
       "BRCDHJD               {}        True     None       NaN          NaN   \n",
       "FEMLEN               {T}       False    float    6557.0   587.270410   \n",
       "TIBLEN               {T}       False    float    6535.0   507.906293   \n",
       "APPLL               None        None    float    7562.0  1074.030858   \n",
       "\n",
       "            min_num  str_cnt  num_cnt  date_cnt  na_cnt  \n",
       "col                                                      \n",
       "READPRJ         NaN     7566        0         0       0  \n",
       "HKANGJD  -17.205000        0     7566         0       0  \n",
       "BRCDHJD         NaN     7566        0         0       0  \n",
       "FEMLEN   362.583479        4     7562         0       0  \n",
       "TIBLEN   284.876981        4     7562         0       0  \n",
       "APPLL    646.708919        0     7562         0       4  "
      ]
     },
     "execution_count": 114,
     "metadata": {},
     "output_type": "execute_result"
    }
   ],
   "source": [
    "data_stats_summary(tmp_df, data_stats_df)\n",
    "data_stats_df"
   ]
  },
  {
   "cell_type": "code",
   "execution_count": 115,
   "id": "cf18fe45",
   "metadata": {
    "execution": {
     "iopub.execute_input": "2023-12-21T21:02:46.613270Z",
     "iopub.status.busy": "2023-12-21T21:02:46.612913Z",
     "iopub.status.idle": "2023-12-21T21:02:46.626336Z",
     "shell.execute_reply": "2023-12-21T21:02:46.625477Z",
     "shell.execute_reply.started": "2023-12-21T21:02:46.613236Z"
    },
    "pycharm": {
     "name": "#%%\n"
    },
    "tags": []
   },
   "outputs": [
    {
     "name": "stdout",
     "output_type": "stream",
     "text": [
      "targets = {\n",
      "# Columns with only floats, missing, and NA values\n",
      "'float': ['HKANGJD', 'FEMLEN', 'TIBLEN', 'APPLL'],\n",
      "\n",
      "# Columns with only strings, missing, and NA values\n",
      "'cat': ['READPRJ', 'BRCDHJD'],\n",
      "\n",
      "}\n",
      "\n",
      "\n",
      "Handled columns: 6\n"
     ]
    }
   ],
   "source": [
    "suggest_conversions(data_stats_df)"
   ]
  },
  {
   "cell_type": "code",
   "execution_count": 116,
   "id": "79506c97",
   "metadata": {
    "execution": {
     "iopub.execute_input": "2023-12-21T21:02:46.628017Z",
     "iopub.status.busy": "2023-12-21T21:02:46.627704Z",
     "iopub.status.idle": "2023-12-21T21:02:46.695837Z",
     "shell.execute_reply": "2023-12-21T21:02:46.694819Z",
     "shell.execute_reply.started": "2023-12-21T21:02:46.627990Z"
    },
    "pycharm": {
     "name": "#%%\n"
    },
    "tags": []
   },
   "outputs": [],
   "source": [
    "targets = {\n",
    "# Columns with only floats, missing, and NA values\n",
    "'float': ['HKANGJD', 'FEMLEN', 'TIBLEN', 'APPLL'],\n",
    "\n",
    "# Columns with only strings, missing, and NA values\n",
    "'cat': ['BRCDHJD'],\n",
    "\n",
    "}\n",
    "\n",
    "new_df, missing_df = convert_columns(targets, data_stats_df, tmp_df)"
   ]
  },
  {
   "cell_type": "code",
   "execution_count": 117,
   "id": "40e116d6-6648-4df4-8481-5327604bff6f",
   "metadata": {
    "execution": {
     "iopub.execute_input": "2023-12-21T21:02:46.697541Z",
     "iopub.status.busy": "2023-12-21T21:02:46.697036Z",
     "iopub.status.idle": "2023-12-21T21:02:46.707656Z",
     "shell.execute_reply": "2023-12-21T21:02:46.706835Z",
     "shell.execute_reply.started": "2023-12-21T21:02:46.697507Z"
    }
   },
   "outputs": [],
   "source": [
    "# Clean up the side var and make an index\n",
    "new_df['SIDE'] = new_df['SIDE'].cat.rename_categories({'1: Right': 'RIGHT', '2: Left': 'LEFT'})\n",
    "new_df.set_index('SIDE', append=True, inplace=True) #  Note that indices are unique yet, Prj 15 and Prj 37 contain repeats"
   ]
  },
  {
   "cell_type": "code",
   "execution_count": 118,
   "id": "ce24c7c0",
   "metadata": {
    "execution": {
     "iopub.execute_input": "2023-12-21T21:02:46.709343Z",
     "iopub.status.busy": "2023-12-21T21:02:46.708995Z",
     "iopub.status.idle": "2023-12-21T21:02:46.722000Z",
     "shell.execute_reply": "2023-12-21T21:02:46.721202Z",
     "shell.execute_reply.started": "2023-12-21T21:02:46.709312Z"
    },
    "pycharm": {
     "name": "#%%\n"
    },
    "tags": []
   },
   "outputs": [
    {
     "name": "stdout",
     "output_type": "stream",
     "text": [
      "Columns still object type:  ['READPRJ']\n",
      "\n",
      "VERSION    category\n",
      "READPRJ      object\n",
      "HKANGJD     float32\n",
      "BRCDHJD    category\n",
      "FEMLEN      float32\n",
      "TIBLEN      float32\n",
      "APPLL       float32\n",
      "dtype: object\n",
      "\n",
      "Missing values present, shadow dataframe created.\n",
      "              FEMLEN TIBLEN\n",
      "ID      Visit              \n",
      "9000099 V01      NaN    NaN\n",
      "        V01      NaN    NaN\n",
      "9000622 V01      NaN    NaN\n",
      "        V01      NaN    NaN\n",
      "9000798 V01      NaN    NaN\n",
      "...              ...    ...\n",
      "9994408 V06      NaN    NaN\n",
      "9995277 V06      NaN    NaN\n",
      "        V06      NaN    NaN\n",
      "9996284 V06      NaN    NaN\n",
      "        V06      NaN    NaN\n",
      "\n",
      "[7566 rows x 2 columns]\n"
     ]
    }
   ],
   "source": [
    "sanity_check(new_df)\n",
    "print()\n",
    "print(new_df.dtypes)\n",
    "if not missing_df.empty:\n",
    "    print('\\nMissing values present, shadow dataframe created.')\n",
    "    print(missing_df)"
   ]
  },
  {
   "cell_type": "code",
   "execution_count": 119,
   "id": "bef72ee8",
   "metadata": {
    "execution": {
     "iopub.execute_input": "2023-12-21T21:02:46.723769Z",
     "iopub.status.busy": "2023-12-21T21:02:46.723445Z",
     "iopub.status.idle": "2023-12-21T21:02:46.733889Z",
     "shell.execute_reply": "2023-12-21T21:02:46.732897Z",
     "shell.execute_reply.started": "2023-12-21T21:02:46.723740Z"
    },
    "pycharm": {
     "name": "#%%\n"
    },
    "tags": []
   },
   "outputs": [
    {
     "name": "stdout",
     "output_type": "stream",
     "text": [
      "\n",
      "Final dataframe size: 1.08MB\n",
      "Shadow dataframe size: 0.15MB\n"
     ]
    }
   ],
   "source": [
    "print('\\nFinal dataframe size: {:.2f}MB'.format(new_df.memory_usage(deep=True).sum() / (1024**2)))\n",
    "print('Shadow dataframe size: {:.2f}MB'.format(missing_df.memory_usage(deep=True).sum() / (1024**2)))"
   ]
  },
  {
   "cell_type": "code",
   "execution_count": 120,
   "id": "ed6b4dce-9134-4488-9a08-fa2fa4f54bc0",
   "metadata": {
    "execution": {
     "iopub.execute_input": "2023-12-21T21:02:46.735757Z",
     "iopub.status.busy": "2023-12-21T21:02:46.735424Z",
     "iopub.status.idle": "2023-12-21T21:02:46.779583Z",
     "shell.execute_reply": "2023-12-21T21:02:46.778748Z",
     "shell.execute_reply.started": "2023-12-21T21:02:46.735724Z"
    }
   },
   "outputs": [],
   "source": [
    "utils.write_parquet(new_df, 'data/' + prefix + '_values.parquet')\n",
    "if not missing_df.empty:\n",
    "    utils.write_parquet(new_df, 'data/' + prefix + '_missing_values.parquet', verbose=False)"
   ]
  },
  {
   "cell_type": "markdown",
   "id": "a1b18628",
   "metadata": {
    "tags": []
   },
   "source": [
    "## kmri_fnih_boneshape_imorphics"
   ]
  },
  {
   "cell_type": "code",
   "execution_count": 121,
   "id": "b730a53f",
   "metadata": {
    "execution": {
     "iopub.execute_input": "2023-12-21T21:02:46.781307Z",
     "iopub.status.busy": "2023-12-21T21:02:46.780939Z",
     "iopub.status.idle": "2023-12-21T21:02:50.923573Z",
     "shell.execute_reply": "2023-12-21T21:02:50.922654Z",
     "shell.execute_reply.started": "2023-12-21T21:02:46.781274Z"
    },
    "pycharm": {
     "name": "#%%\n"
    }
   },
   "outputs": [
    {
     "name": "stdout",
     "output_type": "stream",
     "text": [
      "\n",
      "kmri_fnih_boneshape_imorphics00.sas7bdat: (600, 17)\n",
      "['ID', 'SIDE', 'READPRJ', 'VERSION', 'MF_tAB', 'LF_tAB', 'MT_tAB', 'LT_tAB', 'MP_tAB', 'LP_tAB', 'notch', 'TrFLat', 'TrFMed', 'nFemurOAVector', 'nTibiaOAVector', 'nPatellaOAVector', 'BARCDIM']\n",
      "\n",
      "kmri_fnih_boneshape_imorphics01.sas7bdat: (582, 17)\n",
      "Names only differ by case\n",
      "\n",
      "kmri_fnih_boneshape_imorphics03.sas7bdat: (600, 17)\n",
      "Names only differ by case\n",
      "\n",
      "Total rows: 1782\n"
     ]
    }
   ],
   "source": [
    "prefix = 'kmri_fnih_boneshape_imorphics'\n",
    "column_uniformity_check(prefix)"
   ]
  },
  {
   "cell_type": "code",
   "execution_count": 122,
   "id": "ec0ed7ec",
   "metadata": {
    "execution": {
     "iopub.execute_input": "2023-12-21T21:02:50.925702Z",
     "iopub.status.busy": "2023-12-21T21:02:50.925250Z",
     "iopub.status.idle": "2023-12-21T21:02:55.082197Z",
     "shell.execute_reply": "2023-12-21T21:02:55.081260Z",
     "shell.execute_reply.started": "2023-12-21T21:02:50.925667Z"
    },
    "pycharm": {
     "name": "#%%\n"
    }
   },
   "outputs": [
    {
     "name": "stdout",
     "output_type": "stream",
     "text": [
      "kmri_fnih_boneshape_imorphics00.sas7bdat\tVar Cnt: 17\n",
      "Visits: ['V00']\n",
      "kmri_fnih_boneshape_imorphics01.sas7bdat\tVar Cnt: 17\n",
      "Visits: ['V01']\n",
      "kmri_fnih_boneshape_imorphics03.sas7bdat\tVar Cnt: 17\n",
      "Visits: ['V03']\n",
      "(1782, 18)\n",
      "\n",
      "Starting dataframe size: 0.41MB\n"
     ]
    }
   ],
   "source": [
    "tmp_df = create_df(prefix)\n",
    "print(tmp_df.shape)\n",
    "print('\\nStarting dataframe size: {:.2f}MB'.format(tmp_df.memory_usage(deep=True).sum() / (1024**2)))"
   ]
  },
  {
   "cell_type": "code",
   "execution_count": 123,
   "id": "e4f14e60",
   "metadata": {
    "execution": {
     "iopub.execute_input": "2023-12-21T21:02:55.084196Z",
     "iopub.status.busy": "2023-12-21T21:02:55.083864Z",
     "iopub.status.idle": "2023-12-21T21:02:55.120328Z",
     "shell.execute_reply": "2023-12-21T21:02:55.119528Z",
     "shell.execute_reply.started": "2023-12-21T21:02:55.084164Z"
    },
    "pycharm": {
     "name": "#%%\n"
    }
   },
   "outputs": [],
   "source": [
    "data_stats_df, done_df = gather_column_data_stats(tmp_df)"
   ]
  },
  {
   "cell_type": "code",
   "execution_count": 124,
   "id": "a1849589",
   "metadata": {
    "execution": {
     "iopub.execute_input": "2023-12-21T21:02:55.122108Z",
     "iopub.status.busy": "2023-12-21T21:02:55.121761Z",
     "iopub.status.idle": "2023-12-21T21:02:55.155884Z",
     "shell.execute_reply": "2023-12-21T21:02:55.155005Z",
     "shell.execute_reply.started": "2023-12-21T21:02:55.122076Z"
    },
    "pycharm": {
     "name": "#%%\n"
    }
   },
   "outputs": [
    {
     "name": "stdout",
     "output_type": "stream",
     "text": [
      "Already defined cols: 4 \tCols to convert: 14\t Total col cnt: 18\n",
      "\n",
      "Column types to convert:\n",
      "   str_cnt  num_cnt  date_cnt  na_cnt  count\n",
      "0    False     True     False   False     12\n",
      "1     True    False     False   False      2\n",
      "\n",
      "Numeric types of columns:\n",
      "num_type\n",
      "float    12\n",
      "Name: count, dtype: int64\n",
      "\n",
      "Largest number of unique strings: 1782\n"
     ]
    },
    {
     "data": {
      "text/html": [
       "<div>\n",
       "<style scoped>\n",
       "    .dataframe tbody tr th:only-of-type {\n",
       "        vertical-align: middle;\n",
       "    }\n",
       "\n",
       "    .dataframe tbody tr th {\n",
       "        vertical-align: top;\n",
       "    }\n",
       "\n",
       "    .dataframe thead th {\n",
       "        text-align: right;\n",
       "    }\n",
       "</style>\n",
       "<table border=\"1\" class=\"dataframe\">\n",
       "  <thead>\n",
       "    <tr style=\"text-align: right;\">\n",
       "      <th></th>\n",
       "      <th>label</th>\n",
       "      <th>uniq_strs</th>\n",
       "      <th>str_list</th>\n",
       "      <th>missing_val_cnt</th>\n",
       "      <th>missing_val_list</th>\n",
       "      <th>numeric_str</th>\n",
       "      <th>num_type</th>\n",
       "      <th>uniq_num</th>\n",
       "      <th>max_num</th>\n",
       "      <th>min_num</th>\n",
       "      <th>str_cnt</th>\n",
       "      <th>num_cnt</th>\n",
       "      <th>date_cnt</th>\n",
       "      <th>na_cnt</th>\n",
       "    </tr>\n",
       "    <tr>\n",
       "      <th>col</th>\n",
       "      <th></th>\n",
       "      <th></th>\n",
       "      <th></th>\n",
       "      <th></th>\n",
       "      <th></th>\n",
       "      <th></th>\n",
       "      <th></th>\n",
       "      <th></th>\n",
       "      <th></th>\n",
       "      <th></th>\n",
       "      <th></th>\n",
       "      <th></th>\n",
       "      <th></th>\n",
       "      <th></th>\n",
       "    </tr>\n",
       "  </thead>\n",
       "  <tbody>\n",
       "    <tr>\n",
       "      <th>READPRJ</th>\n",
       "      <td>Project</td>\n",
       "      <td>1</td>\n",
       "      <td>{22}</td>\n",
       "      <td>0</td>\n",
       "      <td>{}</td>\n",
       "      <td>True</td>\n",
       "      <td>None</td>\n",
       "      <td>NaN</td>\n",
       "      <td>NaN</td>\n",
       "      <td>NaN</td>\n",
       "      <td>1782</td>\n",
       "      <td>0</td>\n",
       "      <td>0</td>\n",
       "      <td>0</td>\n",
       "    </tr>\n",
       "    <tr>\n",
       "      <th>MF_TAB</th>\n",
       "      <td>None</td>\n",
       "      <td>0</td>\n",
       "      <td>None</td>\n",
       "      <td>0</td>\n",
       "      <td>None</td>\n",
       "      <td>None</td>\n",
       "      <td>float</td>\n",
       "      <td>1782.0</td>\n",
       "      <td>4004.773430</td>\n",
       "      <td>1620.142083</td>\n",
       "      <td>0</td>\n",
       "      <td>1782</td>\n",
       "      <td>0</td>\n",
       "      <td>0</td>\n",
       "    </tr>\n",
       "    <tr>\n",
       "      <th>LF_TAB</th>\n",
       "      <td>None</td>\n",
       "      <td>0</td>\n",
       "      <td>None</td>\n",
       "      <td>0</td>\n",
       "      <td>None</td>\n",
       "      <td>None</td>\n",
       "      <td>float</td>\n",
       "      <td>1782.0</td>\n",
       "      <td>2787.029706</td>\n",
       "      <td>1133.109803</td>\n",
       "      <td>0</td>\n",
       "      <td>1782</td>\n",
       "      <td>0</td>\n",
       "      <td>0</td>\n",
       "    </tr>\n",
       "    <tr>\n",
       "      <th>MT_TAB</th>\n",
       "      <td>None</td>\n",
       "      <td>0</td>\n",
       "      <td>None</td>\n",
       "      <td>0</td>\n",
       "      <td>None</td>\n",
       "      <td>None</td>\n",
       "      <td>float</td>\n",
       "      <td>1782.0</td>\n",
       "      <td>1875.392611</td>\n",
       "      <td>783.972223</td>\n",
       "      <td>0</td>\n",
       "      <td>1782</td>\n",
       "      <td>0</td>\n",
       "      <td>0</td>\n",
       "    </tr>\n",
       "    <tr>\n",
       "      <th>LT_TAB</th>\n",
       "      <td>None</td>\n",
       "      <td>0</td>\n",
       "      <td>None</td>\n",
       "      <td>0</td>\n",
       "      <td>None</td>\n",
       "      <td>None</td>\n",
       "      <td>float</td>\n",
       "      <td>1782.0</td>\n",
       "      <td>1541.036035</td>\n",
       "      <td>624.428716</td>\n",
       "      <td>0</td>\n",
       "      <td>1782</td>\n",
       "      <td>0</td>\n",
       "      <td>0</td>\n",
       "    </tr>\n",
       "    <tr>\n",
       "      <th>MP_TAB</th>\n",
       "      <td>None</td>\n",
       "      <td>0</td>\n",
       "      <td>None</td>\n",
       "      <td>0</td>\n",
       "      <td>None</td>\n",
       "      <td>None</td>\n",
       "      <td>float</td>\n",
       "      <td>1782.0</td>\n",
       "      <td>846.565926</td>\n",
       "      <td>150.706779</td>\n",
       "      <td>0</td>\n",
       "      <td>1782</td>\n",
       "      <td>0</td>\n",
       "      <td>0</td>\n",
       "    </tr>\n",
       "    <tr>\n",
       "      <th>LP_TAB</th>\n",
       "      <td>None</td>\n",
       "      <td>0</td>\n",
       "      <td>None</td>\n",
       "      <td>0</td>\n",
       "      <td>None</td>\n",
       "      <td>None</td>\n",
       "      <td>float</td>\n",
       "      <td>1782.0</td>\n",
       "      <td>1092.835159</td>\n",
       "      <td>198.621343</td>\n",
       "      <td>0</td>\n",
       "      <td>1782</td>\n",
       "      <td>0</td>\n",
       "      <td>0</td>\n",
       "    </tr>\n",
       "    <tr>\n",
       "      <th>NOTCH</th>\n",
       "      <td>None</td>\n",
       "      <td>0</td>\n",
       "      <td>None</td>\n",
       "      <td>0</td>\n",
       "      <td>None</td>\n",
       "      <td>None</td>\n",
       "      <td>float</td>\n",
       "      <td>1782.0</td>\n",
       "      <td>2311.196452</td>\n",
       "      <td>987.383041</td>\n",
       "      <td>0</td>\n",
       "      <td>1782</td>\n",
       "      <td>0</td>\n",
       "      <td>0</td>\n",
       "    </tr>\n",
       "    <tr>\n",
       "      <th>TRFLAT</th>\n",
       "      <td>None</td>\n",
       "      <td>0</td>\n",
       "      <td>None</td>\n",
       "      <td>0</td>\n",
       "      <td>None</td>\n",
       "      <td>None</td>\n",
       "      <td>float</td>\n",
       "      <td>1782.0</td>\n",
       "      <td>1879.940370</td>\n",
       "      <td>865.157296</td>\n",
       "      <td>0</td>\n",
       "      <td>1782</td>\n",
       "      <td>0</td>\n",
       "      <td>0</td>\n",
       "    </tr>\n",
       "    <tr>\n",
       "      <th>TRFMED</th>\n",
       "      <td>None</td>\n",
       "      <td>0</td>\n",
       "      <td>None</td>\n",
       "      <td>0</td>\n",
       "      <td>None</td>\n",
       "      <td>None</td>\n",
       "      <td>float</td>\n",
       "      <td>1782.0</td>\n",
       "      <td>1107.068212</td>\n",
       "      <td>474.336764</td>\n",
       "      <td>0</td>\n",
       "      <td>1782</td>\n",
       "      <td>0</td>\n",
       "      <td>0</td>\n",
       "    </tr>\n",
       "    <tr>\n",
       "      <th>NFEMUROAVECTOR</th>\n",
       "      <td>None</td>\n",
       "      <td>0</td>\n",
       "      <td>None</td>\n",
       "      <td>0</td>\n",
       "      <td>None</td>\n",
       "      <td>None</td>\n",
       "      <td>float</td>\n",
       "      <td>1782.0</td>\n",
       "      <td>3.163534</td>\n",
       "      <td>-4.442428</td>\n",
       "      <td>0</td>\n",
       "      <td>1782</td>\n",
       "      <td>0</td>\n",
       "      <td>0</td>\n",
       "    </tr>\n",
       "    <tr>\n",
       "      <th>NTIBIAOAVECTOR</th>\n",
       "      <td>None</td>\n",
       "      <td>0</td>\n",
       "      <td>None</td>\n",
       "      <td>0</td>\n",
       "      <td>None</td>\n",
       "      <td>None</td>\n",
       "      <td>float</td>\n",
       "      <td>1782.0</td>\n",
       "      <td>3.798788</td>\n",
       "      <td>-4.213608</td>\n",
       "      <td>0</td>\n",
       "      <td>1782</td>\n",
       "      <td>0</td>\n",
       "      <td>0</td>\n",
       "    </tr>\n",
       "    <tr>\n",
       "      <th>NPATELLAOAVECTOR</th>\n",
       "      <td>None</td>\n",
       "      <td>0</td>\n",
       "      <td>None</td>\n",
       "      <td>0</td>\n",
       "      <td>None</td>\n",
       "      <td>None</td>\n",
       "      <td>float</td>\n",
       "      <td>1780.0</td>\n",
       "      <td>4.211303</td>\n",
       "      <td>-6.314470</td>\n",
       "      <td>0</td>\n",
       "      <td>1782</td>\n",
       "      <td>0</td>\n",
       "      <td>0</td>\n",
       "    </tr>\n",
       "    <tr>\n",
       "      <th>BARCDIM</th>\n",
       "      <td>BL/FU kMRI reading (iMorphics): barcode of ima...</td>\n",
       "      <td>1782</td>\n",
       "      <td>{016610890706, 016610214503, 016611288912, 016...</td>\n",
       "      <td>0</td>\n",
       "      <td>{}</td>\n",
       "      <td>True</td>\n",
       "      <td>None</td>\n",
       "      <td>NaN</td>\n",
       "      <td>NaN</td>\n",
       "      <td>NaN</td>\n",
       "      <td>1782</td>\n",
       "      <td>0</td>\n",
       "      <td>0</td>\n",
       "      <td>0</td>\n",
       "    </tr>\n",
       "  </tbody>\n",
       "</table>\n",
       "</div>"
      ],
      "text/plain": [
       "                                                              label  \\\n",
       "col                                                                   \n",
       "READPRJ                                                     Project   \n",
       "MF_TAB                                                         None   \n",
       "LF_TAB                                                         None   \n",
       "MT_TAB                                                         None   \n",
       "LT_TAB                                                         None   \n",
       "MP_TAB                                                         None   \n",
       "LP_TAB                                                         None   \n",
       "NOTCH                                                          None   \n",
       "TRFLAT                                                         None   \n",
       "TRFMED                                                         None   \n",
       "NFEMUROAVECTOR                                                 None   \n",
       "NTIBIAOAVECTOR                                                 None   \n",
       "NPATELLAOAVECTOR                                               None   \n",
       "BARCDIM           BL/FU kMRI reading (iMorphics): barcode of ima...   \n",
       "\n",
       "                  uniq_strs  \\\n",
       "col                           \n",
       "READPRJ                   1   \n",
       "MF_TAB                    0   \n",
       "LF_TAB                    0   \n",
       "MT_TAB                    0   \n",
       "LT_TAB                    0   \n",
       "MP_TAB                    0   \n",
       "LP_TAB                    0   \n",
       "NOTCH                     0   \n",
       "TRFLAT                    0   \n",
       "TRFMED                    0   \n",
       "NFEMUROAVECTOR            0   \n",
       "NTIBIAOAVECTOR            0   \n",
       "NPATELLAOAVECTOR          0   \n",
       "BARCDIM                1782   \n",
       "\n",
       "                                                           str_list  \\\n",
       "col                                                                   \n",
       "READPRJ                                                        {22}   \n",
       "MF_TAB                                                         None   \n",
       "LF_TAB                                                         None   \n",
       "MT_TAB                                                         None   \n",
       "LT_TAB                                                         None   \n",
       "MP_TAB                                                         None   \n",
       "LP_TAB                                                         None   \n",
       "NOTCH                                                          None   \n",
       "TRFLAT                                                         None   \n",
       "TRFMED                                                         None   \n",
       "NFEMUROAVECTOR                                                 None   \n",
       "NTIBIAOAVECTOR                                                 None   \n",
       "NPATELLAOAVECTOR                                               None   \n",
       "BARCDIM           {016610890706, 016610214503, 016611288912, 016...   \n",
       "\n",
       "                  missing_val_cnt missing_val_list numeric_str num_type  \\\n",
       "col                                                                       \n",
       "READPRJ                         0               {}        True     None   \n",
       "MF_TAB                          0             None        None    float   \n",
       "LF_TAB                          0             None        None    float   \n",
       "MT_TAB                          0             None        None    float   \n",
       "LT_TAB                          0             None        None    float   \n",
       "MP_TAB                          0             None        None    float   \n",
       "LP_TAB                          0             None        None    float   \n",
       "NOTCH                           0             None        None    float   \n",
       "TRFLAT                          0             None        None    float   \n",
       "TRFMED                          0             None        None    float   \n",
       "NFEMUROAVECTOR                  0             None        None    float   \n",
       "NTIBIAOAVECTOR                  0             None        None    float   \n",
       "NPATELLAOAVECTOR                0             None        None    float   \n",
       "BARCDIM                         0               {}        True     None   \n",
       "\n",
       "                  uniq_num      max_num      min_num  str_cnt  num_cnt  \\\n",
       "col                                                                      \n",
       "READPRJ                NaN          NaN          NaN     1782        0   \n",
       "MF_TAB              1782.0  4004.773430  1620.142083        0     1782   \n",
       "LF_TAB              1782.0  2787.029706  1133.109803        0     1782   \n",
       "MT_TAB              1782.0  1875.392611   783.972223        0     1782   \n",
       "LT_TAB              1782.0  1541.036035   624.428716        0     1782   \n",
       "MP_TAB              1782.0   846.565926   150.706779        0     1782   \n",
       "LP_TAB              1782.0  1092.835159   198.621343        0     1782   \n",
       "NOTCH               1782.0  2311.196452   987.383041        0     1782   \n",
       "TRFLAT              1782.0  1879.940370   865.157296        0     1782   \n",
       "TRFMED              1782.0  1107.068212   474.336764        0     1782   \n",
       "NFEMUROAVECTOR      1782.0     3.163534    -4.442428        0     1782   \n",
       "NTIBIAOAVECTOR      1782.0     3.798788    -4.213608        0     1782   \n",
       "NPATELLAOAVECTOR    1780.0     4.211303    -6.314470        0     1782   \n",
       "BARCDIM                NaN          NaN          NaN     1782        0   \n",
       "\n",
       "                  date_cnt  na_cnt  \n",
       "col                                 \n",
       "READPRJ                  0       0  \n",
       "MF_TAB                   0       0  \n",
       "LF_TAB                   0       0  \n",
       "MT_TAB                   0       0  \n",
       "LT_TAB                   0       0  \n",
       "MP_TAB                   0       0  \n",
       "LP_TAB                   0       0  \n",
       "NOTCH                    0       0  \n",
       "TRFLAT                   0       0  \n",
       "TRFMED                   0       0  \n",
       "NFEMUROAVECTOR           0       0  \n",
       "NTIBIAOAVECTOR           0       0  \n",
       "NPATELLAOAVECTOR         0       0  \n",
       "BARCDIM                  0       0  "
      ]
     },
     "execution_count": 124,
     "metadata": {},
     "output_type": "execute_result"
    }
   ],
   "source": [
    "data_stats_summary(tmp_df, data_stats_df)\n",
    "data_stats_df"
   ]
  },
  {
   "cell_type": "code",
   "execution_count": 125,
   "id": "01c3b3ea",
   "metadata": {
    "execution": {
     "iopub.execute_input": "2023-12-21T21:02:55.157746Z",
     "iopub.status.busy": "2023-12-21T21:02:55.157436Z",
     "iopub.status.idle": "2023-12-21T21:02:55.171107Z",
     "shell.execute_reply": "2023-12-21T21:02:55.170236Z",
     "shell.execute_reply.started": "2023-12-21T21:02:55.157718Z"
    },
    "pycharm": {
     "name": "#%%\n"
    }
   },
   "outputs": [
    {
     "name": "stdout",
     "output_type": "stream",
     "text": [
      "targets = {\n",
      "# Columns with only floats, missing, and NA values\n",
      "'float': ['MF_TAB', 'LF_TAB', 'MT_TAB', 'LT_TAB', 'MP_TAB', 'LP_TAB', 'NOTCH', 'TRFLAT', 'TRFMED', 'NFEMUROAVECTOR', 'NTIBIAOAVECTOR', 'NPATELLAOAVECTOR'],\n",
      "\n",
      "# Columns with only strings, missing, and NA values\n",
      "'cat': ['READPRJ', 'BARCDIM'],\n",
      "\n",
      "}\n",
      "\n",
      "\n",
      "Handled columns: 14\n"
     ]
    }
   ],
   "source": [
    "suggest_conversions(data_stats_df)"
   ]
  },
  {
   "cell_type": "code",
   "execution_count": 126,
   "id": "8d838a15",
   "metadata": {
    "execution": {
     "iopub.execute_input": "2023-12-21T21:02:55.172665Z",
     "iopub.status.busy": "2023-12-21T21:02:55.172178Z",
     "iopub.status.idle": "2023-12-21T21:02:55.203398Z",
     "shell.execute_reply": "2023-12-21T21:02:55.202586Z",
     "shell.execute_reply.started": "2023-12-21T21:02:55.172633Z"
    },
    "pycharm": {
     "name": "#%%\n"
    }
   },
   "outputs": [],
   "source": [
    "targets = {\n",
    "# Columns with only floats, missing, and NA values\n",
    "'float': ['MF_TAB', 'LF_TAB', 'MT_TAB', 'LT_TAB', 'MP_TAB', 'LP_TAB', 'NOTCH', 'TRFLAT', 'TRFMED', 'NFEMUROAVECTOR', 'NTIBIAOAVECTOR', 'NPATELLAOAVECTOR'],\n",
    "\n",
    "# Columns with only strings, missing, and NA values\n",
    "'cat': ['BARCDIM'],\n",
    "\n",
    "}\n",
    "\n",
    "new_df, missing_df = convert_columns(targets, data_stats_df, tmp_df)"
   ]
  },
  {
   "cell_type": "code",
   "execution_count": 127,
   "id": "0b1aac53",
   "metadata": {
    "execution": {
     "iopub.execute_input": "2023-12-21T21:02:55.205215Z",
     "iopub.status.busy": "2023-12-21T21:02:55.204848Z",
     "iopub.status.idle": "2023-12-21T21:02:55.212951Z",
     "shell.execute_reply": "2023-12-21T21:02:55.212045Z",
     "shell.execute_reply.started": "2023-12-21T21:02:55.205180Z"
    },
    "pycharm": {
     "name": "#%%\n"
    }
   },
   "outputs": [
    {
     "name": "stdout",
     "output_type": "stream",
     "text": [
      "Columns still object type:  ['READPRJ']\n",
      "\n",
      "VERSION             category\n",
      "SIDE                category\n",
      "READPRJ               object\n",
      "MF_TAB               float32\n",
      "LF_TAB               float32\n",
      "MT_TAB               float32\n",
      "LT_TAB               float32\n",
      "MP_TAB               float32\n",
      "LP_TAB               float32\n",
      "NOTCH                float32\n",
      "TRFLAT               float32\n",
      "TRFMED               float32\n",
      "NFEMUROAVECTOR       float32\n",
      "NTIBIAOAVECTOR       float32\n",
      "NPATELLAOAVECTOR     float32\n",
      "BARCDIM             category\n",
      "dtype: object\n"
     ]
    }
   ],
   "source": [
    "sanity_check(new_df)\n",
    "print()\n",
    "print(new_df.dtypes)\n",
    "if not missing_df.empty:\n",
    "    print('\\nMissing values present, shadow dataframe created.')\n",
    "    print(missing_df)"
   ]
  },
  {
   "cell_type": "code",
   "execution_count": 128,
   "id": "6a871e4f",
   "metadata": {
    "execution": {
     "iopub.execute_input": "2023-12-21T21:02:55.214608Z",
     "iopub.status.busy": "2023-12-21T21:02:55.214277Z",
     "iopub.status.idle": "2023-12-21T21:02:55.223474Z",
     "shell.execute_reply": "2023-12-21T21:02:55.222588Z",
     "shell.execute_reply.started": "2023-12-21T21:02:55.214580Z"
    },
    "pycharm": {
     "name": "#%%\n"
    }
   },
   "outputs": [
    {
     "name": "stdout",
     "output_type": "stream",
     "text": [
      "\n",
      "Final dataframe size: 0.39MB\n",
      "Shadow dataframe size: 0.01MB\n"
     ]
    }
   ],
   "source": [
    "print('\\nFinal dataframe size: {:.2f}MB'.format(new_df.memory_usage(deep=True).sum() / (1024**2)))\n",
    "print('Shadow dataframe size: {:.2f}MB'.format(missing_df.memory_usage(deep=True).sum() / (1024**2)))"
   ]
  },
  {
   "cell_type": "code",
   "execution_count": 129,
   "id": "abc42c0e-2548-47d4-85eb-f7e17974a934",
   "metadata": {
    "execution": {
     "iopub.execute_input": "2023-12-21T21:02:55.225464Z",
     "iopub.status.busy": "2023-12-21T21:02:55.225040Z",
     "iopub.status.idle": "2023-12-21T21:02:55.247992Z",
     "shell.execute_reply": "2023-12-21T21:02:55.247128Z",
     "shell.execute_reply.started": "2023-12-21T21:02:55.225433Z"
    }
   },
   "outputs": [],
   "source": [
    "utils.write_parquet(new_df, 'data/' + prefix + '_values.parquet')\n",
    "if not missing_df.empty:\n",
    "    utils.write_parquet(new_df, 'data/' + prefix + '_missing_values.parquet', verbose=False)"
   ]
  },
  {
   "cell_type": "markdown",
   "id": "226105d0",
   "metadata": {
    "tags": []
   },
   "source": [
    "## kmri_fnih_qcart_Chondrometrics"
   ]
  },
  {
   "cell_type": "code",
   "execution_count": 130,
   "id": "38b41a54",
   "metadata": {
    "execution": {
     "iopub.execute_input": "2023-12-21T21:02:55.249471Z",
     "iopub.status.busy": "2023-12-21T21:02:55.249110Z",
     "iopub.status.idle": "2023-12-21T21:02:59.616058Z",
     "shell.execute_reply": "2023-12-21T21:02:59.615001Z",
     "shell.execute_reply.started": "2023-12-21T21:02:55.249438Z"
    },
    "pycharm": {
     "name": "#%%\n"
    }
   },
   "outputs": [
    {
     "name": "stdout",
     "output_type": "stream",
     "text": [
      "\n",
      "kmri_fnih_qcart_Chondrometrics00.sas7bdat: (600, 97)\n",
      "['ID', 'VERSION', 'READPRJ', 'side', 'WMTVCL', 'WMTSBA', 'WMTVCN', 'WMTMTH', 'WMTACS', 'WMTPD', 'WMTCAAB', 'WMTMTC', 'WMTMAV', 'WMTCTS', 'WMTACV', 'CMTMAT', 'CMTMTH', 'EMTMTH', 'IMTMTH', 'AMTMTH', 'PMTMTH', 'CMTPD', 'EMTPD', 'IMTPD', 'AMTPD', 'PMTPD', 'BMFVCL', 'BMFSBA', 'BMFVCN', 'BMFMTH', 'BMFACS', 'BMFPD', 'BMFCAAB', 'BMFMTC', 'BMFMAV', 'BMFCTS', 'BMFACV', 'CBMFMAT', 'CBMFMTH', 'EBMFMTH', 'IBMFMTH', 'CBMFPD', 'EBMFPD', 'IBMFPD', 'WMTFVCL', 'WMTFVCN', 'WMTFMTH', 'WMTFMAV', 'BMTFMAT', 'BMTFMTH', 'WLTVCL', 'WLTSBA', 'WLTVCN', 'WLTMTH', 'WLTACS', 'WLTPD', 'WLTCAAB', 'WLTMTC', 'WLTMAV', 'WLTCTS', 'WLTACV', 'CLTMAT', 'CLTMTH', 'ELTMTH', 'ILTMTH', 'ALTMTH', 'PLTMTH', 'CLTPD', 'ELTPD', 'ILTPD', 'ALTPD', 'PLTPD', 'BLFVCL', 'BLFSBA', 'BLFVCN', 'BLFMTH', 'BLFACS', 'BLFPD', 'BLFCAAB', 'BLFMTC', 'BLFMAV', 'BLFCTS', 'BLFACV', 'CBLFMAT', 'CBLFMT', 'EBLFMT', 'IBLFMT', 'CBLFPD', 'EBLFPD', 'IBLFPD', 'WLTFVCL', 'WLTFVCN', 'WLTFMTH', 'WLTFMAV', 'BLTFMAT', 'BLTFMTH', 'BARCDFE']\n",
      "\n",
      "kmri_fnih_qcart_Chondrometrics01.sas7bdat: (582, 97)\n",
      "Names only differ by case\n",
      "\n",
      "kmri_fnih_qcart_Chondrometrics03.sas7bdat: (599, 97)\n",
      "Names only differ by case\n",
      "\n",
      "Total rows: 1781\n"
     ]
    }
   ],
   "source": [
    "prefix = 'kmri_fnih_qcart_Chondrometrics'\n",
    "column_uniformity_check(prefix)"
   ]
  },
  {
   "cell_type": "code",
   "execution_count": 131,
   "id": "7c2a7f8d",
   "metadata": {
    "execution": {
     "iopub.execute_input": "2023-12-21T21:02:59.618704Z",
     "iopub.status.busy": "2023-12-21T21:02:59.618236Z",
     "iopub.status.idle": "2023-12-21T21:03:03.675669Z",
     "shell.execute_reply": "2023-12-21T21:03:03.674763Z",
     "shell.execute_reply.started": "2023-12-21T21:02:59.618672Z"
    },
    "pycharm": {
     "name": "#%%\n"
    }
   },
   "outputs": [
    {
     "name": "stdout",
     "output_type": "stream",
     "text": [
      "kmri_fnih_qcart_Chondrometrics00.sas7bdat\tVar Cnt: 97\n",
      "Visits: ['V00']\n",
      "kmri_fnih_qcart_Chondrometrics01.sas7bdat\tVar Cnt: 97\n",
      "Visits: ['V01']\n",
      "kmri_fnih_qcart_Chondrometrics03.sas7bdat\tVar Cnt: 97\n",
      "Visits: ['V03']\n",
      "(1781, 98)\n",
      "\n",
      "Starting dataframe size: 1.50MB\n"
     ]
    }
   ],
   "source": [
    "tmp_df = create_df(prefix)\n",
    "print(tmp_df.shape)\n",
    "print('\\nStarting dataframe size: {:.2f}MB'.format(tmp_df.memory_usage(deep=True).sum() / (1024**2)))"
   ]
  },
  {
   "cell_type": "code",
   "execution_count": 132,
   "id": "83be7340",
   "metadata": {
    "execution": {
     "iopub.execute_input": "2023-12-21T21:03:03.677661Z",
     "iopub.status.busy": "2023-12-21T21:03:03.677320Z",
     "iopub.status.idle": "2023-12-21T21:03:03.829852Z",
     "shell.execute_reply": "2023-12-21T21:03:03.829050Z",
     "shell.execute_reply.started": "2023-12-21T21:03:03.677625Z"
    },
    "pycharm": {
     "name": "#%%\n"
    }
   },
   "outputs": [],
   "source": [
    "data_stats_df, done_df = gather_column_data_stats(tmp_df)"
   ]
  },
  {
   "cell_type": "code",
   "execution_count": 133,
   "id": "407926f6",
   "metadata": {
    "execution": {
     "iopub.execute_input": "2023-12-21T21:03:03.831518Z",
     "iopub.status.busy": "2023-12-21T21:03:03.831021Z",
     "iopub.status.idle": "2023-12-21T21:03:03.865482Z",
     "shell.execute_reply": "2023-12-21T21:03:03.864607Z",
     "shell.execute_reply.started": "2023-12-21T21:03:03.831486Z"
    },
    "pycharm": {
     "name": "#%%\n"
    }
   },
   "outputs": [
    {
     "name": "stdout",
     "output_type": "stream",
     "text": [
      "Already defined cols: 4 \tCols to convert: 94\t Total col cnt: 98\n",
      "\n",
      "Column types to convert:\n",
      "   str_cnt  num_cnt  date_cnt  na_cnt  count\n",
      "0    False     True     False   False     92\n",
      "1     True    False     False   False      2\n",
      "\n",
      "Numeric types of columns:\n",
      "num_type\n",
      "float    92\n",
      "Name: count, dtype: int64\n",
      "\n",
      "Largest number of unique strings: 1781\n"
     ]
    },
    {
     "data": {
      "text/html": [
       "<div>\n",
       "<style scoped>\n",
       "    .dataframe tbody tr th:only-of-type {\n",
       "        vertical-align: middle;\n",
       "    }\n",
       "\n",
       "    .dataframe tbody tr th {\n",
       "        vertical-align: top;\n",
       "    }\n",
       "\n",
       "    .dataframe thead th {\n",
       "        text-align: right;\n",
       "    }\n",
       "</style>\n",
       "<table border=\"1\" class=\"dataframe\">\n",
       "  <thead>\n",
       "    <tr style=\"text-align: right;\">\n",
       "      <th></th>\n",
       "      <th>label</th>\n",
       "      <th>uniq_strs</th>\n",
       "      <th>str_list</th>\n",
       "      <th>missing_val_cnt</th>\n",
       "      <th>missing_val_list</th>\n",
       "      <th>numeric_str</th>\n",
       "      <th>num_type</th>\n",
       "      <th>uniq_num</th>\n",
       "      <th>max_num</th>\n",
       "      <th>min_num</th>\n",
       "      <th>str_cnt</th>\n",
       "      <th>num_cnt</th>\n",
       "      <th>date_cnt</th>\n",
       "      <th>na_cnt</th>\n",
       "    </tr>\n",
       "    <tr>\n",
       "      <th>col</th>\n",
       "      <th></th>\n",
       "      <th></th>\n",
       "      <th></th>\n",
       "      <th></th>\n",
       "      <th></th>\n",
       "      <th></th>\n",
       "      <th></th>\n",
       "      <th></th>\n",
       "      <th></th>\n",
       "      <th></th>\n",
       "      <th></th>\n",
       "      <th></th>\n",
       "      <th></th>\n",
       "      <th></th>\n",
       "    </tr>\n",
       "  </thead>\n",
       "  <tbody>\n",
       "    <tr>\n",
       "      <th>READPRJ</th>\n",
       "      <td>Project</td>\n",
       "      <td>1</td>\n",
       "      <td>{22}</td>\n",
       "      <td>0</td>\n",
       "      <td>{}</td>\n",
       "      <td>True</td>\n",
       "      <td>None</td>\n",
       "      <td>NaN</td>\n",
       "      <td>NaN</td>\n",
       "      <td>NaN</td>\n",
       "      <td>1781</td>\n",
       "      <td>0</td>\n",
       "      <td>0</td>\n",
       "      <td>0</td>\n",
       "    </tr>\n",
       "    <tr>\n",
       "      <th>WMTVCL</th>\n",
       "      <td>BL/FU kMRI reading (FE): volume of cartilage -...</td>\n",
       "      <td>0</td>\n",
       "      <td>None</td>\n",
       "      <td>0</td>\n",
       "      <td>None</td>\n",
       "      <td>None</td>\n",
       "      <td>float</td>\n",
       "      <td>1663.0</td>\n",
       "      <td>4537.8329</td>\n",
       "      <td>714.4630</td>\n",
       "      <td>0</td>\n",
       "      <td>1781</td>\n",
       "      <td>0</td>\n",
       "      <td>0</td>\n",
       "    </tr>\n",
       "    <tr>\n",
       "      <th>WMTSBA</th>\n",
       "      <td>BL/FU kMRI reading (FE): total area of subchon...</td>\n",
       "      <td>0</td>\n",
       "      <td>None</td>\n",
       "      <td>0</td>\n",
       "      <td>None</td>\n",
       "      <td>None</td>\n",
       "      <td>float</td>\n",
       "      <td>1744.0</td>\n",
       "      <td>16.8410</td>\n",
       "      <td>6.9163</td>\n",
       "      <td>0</td>\n",
       "      <td>1781</td>\n",
       "      <td>0</td>\n",
       "      <td>0</td>\n",
       "    </tr>\n",
       "    <tr>\n",
       "      <th>WMTVCN</th>\n",
       "      <td>BL/FU kMRI reading (FE): normalized cartilage ...</td>\n",
       "      <td>0</td>\n",
       "      <td>None</td>\n",
       "      <td>0</td>\n",
       "      <td>None</td>\n",
       "      <td>None</td>\n",
       "      <td>float</td>\n",
       "      <td>1584.0</td>\n",
       "      <td>2.8168</td>\n",
       "      <td>0.8730</td>\n",
       "      <td>0</td>\n",
       "      <td>1781</td>\n",
       "      <td>0</td>\n",
       "      <td>0</td>\n",
       "    </tr>\n",
       "    <tr>\n",
       "      <th>WMTMTH</th>\n",
       "      <td>BL/FU kMRI reading (FE): mean cartilage thickn...</td>\n",
       "      <td>0</td>\n",
       "      <td>None</td>\n",
       "      <td>0</td>\n",
       "      <td>None</td>\n",
       "      <td>None</td>\n",
       "      <td>float</td>\n",
       "      <td>1587.0</td>\n",
       "      <td>2.7499</td>\n",
       "      <td>0.7810</td>\n",
       "      <td>0</td>\n",
       "      <td>1781</td>\n",
       "      <td>0</td>\n",
       "      <td>0</td>\n",
       "    </tr>\n",
       "    <tr>\n",
       "      <th>...</th>\n",
       "      <td>...</td>\n",
       "      <td>...</td>\n",
       "      <td>...</td>\n",
       "      <td>...</td>\n",
       "      <td>...</td>\n",
       "      <td>...</td>\n",
       "      <td>...</td>\n",
       "      <td>...</td>\n",
       "      <td>...</td>\n",
       "      <td>...</td>\n",
       "      <td>...</td>\n",
       "      <td>...</td>\n",
       "      <td>...</td>\n",
       "      <td>...</td>\n",
       "    </tr>\n",
       "    <tr>\n",
       "      <th>WLTFMTH</th>\n",
       "      <td>BL/FU kMRI reading (FE): mean cartilage thickn...</td>\n",
       "      <td>0</td>\n",
       "      <td>None</td>\n",
       "      <td>0</td>\n",
       "      <td>None</td>\n",
       "      <td>None</td>\n",
       "      <td>float</td>\n",
       "      <td>1533.0</td>\n",
       "      <td>6.1331</td>\n",
       "      <td>2.3679</td>\n",
       "      <td>0</td>\n",
       "      <td>1781</td>\n",
       "      <td>0</td>\n",
       "      <td>0</td>\n",
       "    </tr>\n",
       "    <tr>\n",
       "      <th>WLTFMAV</th>\n",
       "      <td>BL/FU kMRI reading (FE): maximum cartilage thi...</td>\n",
       "      <td>0</td>\n",
       "      <td>None</td>\n",
       "      <td>0</td>\n",
       "      <td>None</td>\n",
       "      <td>None</td>\n",
       "      <td>float</td>\n",
       "      <td>1621.0</td>\n",
       "      <td>10.7896</td>\n",
       "      <td>3.5926</td>\n",
       "      <td>0</td>\n",
       "      <td>1781</td>\n",
       "      <td>0</td>\n",
       "      <td>0</td>\n",
       "    </tr>\n",
       "    <tr>\n",
       "      <th>BLTFMAT</th>\n",
       "      <td>BL/FU kMRI reading (FE): minimum cartilage thi...</td>\n",
       "      <td>0</td>\n",
       "      <td>None</td>\n",
       "      <td>0</td>\n",
       "      <td>None</td>\n",
       "      <td>None</td>\n",
       "      <td>float</td>\n",
       "      <td>1608.0</td>\n",
       "      <td>7.1752</td>\n",
       "      <td>0.0000</td>\n",
       "      <td>0</td>\n",
       "      <td>1781</td>\n",
       "      <td>0</td>\n",
       "      <td>0</td>\n",
       "    </tr>\n",
       "    <tr>\n",
       "      <th>BLTFMTH</th>\n",
       "      <td>BL/FU kMRI reading (FE): mean cartilage thickn...</td>\n",
       "      <td>0</td>\n",
       "      <td>None</td>\n",
       "      <td>0</td>\n",
       "      <td>None</td>\n",
       "      <td>None</td>\n",
       "      <td>float</td>\n",
       "      <td>1598.0</td>\n",
       "      <td>9.3280</td>\n",
       "      <td>3.0360</td>\n",
       "      <td>0</td>\n",
       "      <td>1781</td>\n",
       "      <td>0</td>\n",
       "      <td>0</td>\n",
       "    </tr>\n",
       "    <tr>\n",
       "      <th>BARCDFE</th>\n",
       "      <td>BL/FU kMRI reading (FE): barcode of image anal...</td>\n",
       "      <td>1781</td>\n",
       "      <td>{016610890706, 016610214503, 016611288912, 016...</td>\n",
       "      <td>0</td>\n",
       "      <td>{}</td>\n",
       "      <td>True</td>\n",
       "      <td>None</td>\n",
       "      <td>NaN</td>\n",
       "      <td>NaN</td>\n",
       "      <td>NaN</td>\n",
       "      <td>1781</td>\n",
       "      <td>0</td>\n",
       "      <td>0</td>\n",
       "      <td>0</td>\n",
       "    </tr>\n",
       "  </tbody>\n",
       "</table>\n",
       "<p>94 rows × 14 columns</p>\n",
       "</div>"
      ],
      "text/plain": [
       "                                                     label  uniq_strs  \\\n",
       "col                                                                     \n",
       "READPRJ                                            Project          1   \n",
       "WMTVCL   BL/FU kMRI reading (FE): volume of cartilage -...          0   \n",
       "WMTSBA   BL/FU kMRI reading (FE): total area of subchon...          0   \n",
       "WMTVCN   BL/FU kMRI reading (FE): normalized cartilage ...          0   \n",
       "WMTMTH   BL/FU kMRI reading (FE): mean cartilage thickn...          0   \n",
       "...                                                    ...        ...   \n",
       "WLTFMTH  BL/FU kMRI reading (FE): mean cartilage thickn...          0   \n",
       "WLTFMAV  BL/FU kMRI reading (FE): maximum cartilage thi...          0   \n",
       "BLTFMAT  BL/FU kMRI reading (FE): minimum cartilage thi...          0   \n",
       "BLTFMTH  BL/FU kMRI reading (FE): mean cartilage thickn...          0   \n",
       "BARCDFE  BL/FU kMRI reading (FE): barcode of image anal...       1781   \n",
       "\n",
       "                                                  str_list  missing_val_cnt  \\\n",
       "col                                                                           \n",
       "READPRJ                                               {22}                0   \n",
       "WMTVCL                                                None                0   \n",
       "WMTSBA                                                None                0   \n",
       "WMTVCN                                                None                0   \n",
       "WMTMTH                                                None                0   \n",
       "...                                                    ...              ...   \n",
       "WLTFMTH                                               None                0   \n",
       "WLTFMAV                                               None                0   \n",
       "BLTFMAT                                               None                0   \n",
       "BLTFMTH                                               None                0   \n",
       "BARCDFE  {016610890706, 016610214503, 016611288912, 016...                0   \n",
       "\n",
       "        missing_val_list numeric_str num_type  uniq_num    max_num   min_num  \\\n",
       "col                                                                            \n",
       "READPRJ               {}        True     None       NaN        NaN       NaN   \n",
       "WMTVCL              None        None    float    1663.0  4537.8329  714.4630   \n",
       "WMTSBA              None        None    float    1744.0    16.8410    6.9163   \n",
       "WMTVCN              None        None    float    1584.0     2.8168    0.8730   \n",
       "WMTMTH              None        None    float    1587.0     2.7499    0.7810   \n",
       "...                  ...         ...      ...       ...        ...       ...   \n",
       "WLTFMTH             None        None    float    1533.0     6.1331    2.3679   \n",
       "WLTFMAV             None        None    float    1621.0    10.7896    3.5926   \n",
       "BLTFMAT             None        None    float    1608.0     7.1752    0.0000   \n",
       "BLTFMTH             None        None    float    1598.0     9.3280    3.0360   \n",
       "BARCDFE               {}        True     None       NaN        NaN       NaN   \n",
       "\n",
       "         str_cnt  num_cnt  date_cnt  na_cnt  \n",
       "col                                          \n",
       "READPRJ     1781        0         0       0  \n",
       "WMTVCL         0     1781         0       0  \n",
       "WMTSBA         0     1781         0       0  \n",
       "WMTVCN         0     1781         0       0  \n",
       "WMTMTH         0     1781         0       0  \n",
       "...          ...      ...       ...     ...  \n",
       "WLTFMTH        0     1781         0       0  \n",
       "WLTFMAV        0     1781         0       0  \n",
       "BLTFMAT        0     1781         0       0  \n",
       "BLTFMTH        0     1781         0       0  \n",
       "BARCDFE     1781        0         0       0  \n",
       "\n",
       "[94 rows x 14 columns]"
      ]
     },
     "execution_count": 133,
     "metadata": {},
     "output_type": "execute_result"
    }
   ],
   "source": [
    "data_stats_summary(tmp_df, data_stats_df)\n",
    "data_stats_df"
   ]
  },
  {
   "cell_type": "code",
   "execution_count": 134,
   "id": "6bcdbf6c",
   "metadata": {
    "execution": {
     "iopub.execute_input": "2023-12-21T21:03:03.867224Z",
     "iopub.status.busy": "2023-12-21T21:03:03.866757Z",
     "iopub.status.idle": "2023-12-21T21:03:03.879698Z",
     "shell.execute_reply": "2023-12-21T21:03:03.878821Z",
     "shell.execute_reply.started": "2023-12-21T21:03:03.867196Z"
    },
    "pycharm": {
     "name": "#%%\n"
    }
   },
   "outputs": [
    {
     "name": "stdout",
     "output_type": "stream",
     "text": [
      "targets = {\n",
      "# Columns with only floats, missing, and NA values\n",
      "'float': ['WMTVCL', 'WMTSBA', 'WMTVCN', 'WMTMTH', 'WMTACS', 'WMTPD', 'WMTCAAB', 'WMTMTC', 'WMTMAV', 'WMTCTS', 'WMTACV', 'CMTMAT', 'CMTMTH', 'EMTMTH', 'IMTMTH', 'AMTMTH', 'PMTMTH', 'CMTPD', 'EMTPD', 'IMTPD', 'AMTPD', 'PMTPD', 'BMFVCL', 'BMFSBA', 'BMFVCN', 'BMFMTH', 'BMFACS', 'BMFPD', 'BMFCAAB', 'BMFMTC', 'BMFMAV', 'BMFCTS', 'BMFACV', 'CBMFMAT', 'CBMFMTH', 'EBMFMTH', 'IBMFMTH', 'CBMFPD', 'EBMFPD', 'IBMFPD', 'WMTFVCL', 'WMTFVCN', 'WMTFMTH', 'WMTFMAV', 'BMTFMAT', 'BMTFMTH', 'WLTVCL', 'WLTSBA', 'WLTVCN', 'WLTMTH', 'WLTACS', 'WLTPD', 'WLTCAAB', 'WLTMTC', 'WLTMAV', 'WLTCTS', 'WLTACV', 'CLTMAT', 'CLTMTH', 'ELTMTH', 'ILTMTH', 'ALTMTH', 'PLTMTH', 'CLTPD', 'ELTPD', 'ILTPD', 'ALTPD', 'PLTPD', 'BLFVCL', 'BLFSBA', 'BLFVCN', 'BLFMTH', 'BLFACS', 'BLFPD', 'BLFCAAB', 'BLFMTC', 'BLFMAV', 'BLFCTS', 'BLFACV', 'CBLFMAT', 'CBLFMT', 'EBLFMT', 'IBLFMT', 'CBLFPD', 'EBLFPD', 'IBLFPD', 'WLTFVCL', 'WLTFVCN', 'WLTFMTH', 'WLTFMAV', 'BLTFMAT', 'BLTFMTH'],\n",
      "\n",
      "# Columns with only strings, missing, and NA values\n",
      "'cat': ['READPRJ', 'BARCDFE'],\n",
      "\n",
      "}\n",
      "\n",
      "\n",
      "Handled columns: 94\n"
     ]
    }
   ],
   "source": [
    "suggest_conversions(data_stats_df)"
   ]
  },
  {
   "cell_type": "code",
   "execution_count": 135,
   "id": "688a1d84",
   "metadata": {
    "execution": {
     "iopub.execute_input": "2023-12-21T21:03:03.881378Z",
     "iopub.status.busy": "2023-12-21T21:03:03.881032Z",
     "iopub.status.idle": "2023-12-21T21:03:03.953941Z",
     "shell.execute_reply": "2023-12-21T21:03:03.953152Z",
     "shell.execute_reply.started": "2023-12-21T21:03:03.881351Z"
    },
    "pycharm": {
     "name": "#%%\n"
    }
   },
   "outputs": [],
   "source": [
    "targets = {\n",
    "# Columns with only floats, missing, and NA values\n",
    "'float': ['WMTVCL', 'WMTSBA', 'WMTVCN', 'WMTMTH', 'WMTACS', 'WMTPD', 'WMTCAAB', 'WMTMTC', 'WMTMAV', 'WMTCTS', 'WMTACV', 'CMTMAT', 'CMTMTH', 'EMTMTH', 'IMTMTH', 'AMTMTH', 'PMTMTH', 'CMTPD', 'EMTPD', 'IMTPD', 'AMTPD', 'PMTPD', 'BMFVCL', 'BMFSBA', 'BMFVCN', 'BMFMTH', 'BMFACS', 'BMFPD', 'BMFCAAB', 'BMFMTC', 'BMFMAV', 'BMFCTS', 'BMFACV', 'CBMFMAT', 'CBMFMTH', 'EBMFMTH', 'IBMFMTH', 'CBMFPD', 'EBMFPD', 'IBMFPD', 'WMTFVCL', 'WMTFVCN', 'WMTFMTH', 'WMTFMAV', 'BMTFMAT', 'BMTFMTH', 'WLTVCL', 'WLTSBA', 'WLTVCN', 'WLTMTH', 'WLTACS', 'WLTPD', 'WLTCAAB', 'WLTMTC', 'WLTMAV', 'WLTCTS', 'WLTACV', 'CLTMAT', 'CLTMTH', 'ELTMTH', 'ILTMTH', 'ALTMTH', 'PLTMTH', 'CLTPD', 'ELTPD', 'ILTPD', 'ALTPD', 'PLTPD', 'BLFVCL', 'BLFSBA', 'BLFVCN', 'BLFMTH', 'BLFACS', 'BLFPD', 'BLFCAAB', 'BLFMTC', 'BLFMAV', 'BLFCTS', 'BLFACV', 'CBLFMAT', 'CBLFMT', 'EBLFMT', 'IBLFMT', 'CBLFPD', 'EBLFPD', 'IBLFPD', 'WLTFVCL', 'WLTFVCN', 'WLTFMTH', 'WLTFMAV', 'BLTFMAT', 'BLTFMTH'],\n",
    "\n",
    "# Columns with only strings, missing, and NA values\n",
    "'cat': ['BARCDFE'],\n",
    "\n",
    "}\n",
    "\n",
    "\n",
    "new_df, missing_df = convert_columns(targets, data_stats_df, tmp_df)"
   ]
  },
  {
   "cell_type": "code",
   "execution_count": 136,
   "id": "1624a848",
   "metadata": {
    "execution": {
     "iopub.execute_input": "2023-12-21T21:03:03.955692Z",
     "iopub.status.busy": "2023-12-21T21:03:03.955406Z",
     "iopub.status.idle": "2023-12-21T21:03:03.963056Z",
     "shell.execute_reply": "2023-12-21T21:03:03.962217Z",
     "shell.execute_reply.started": "2023-12-21T21:03:03.955660Z"
    },
    "pycharm": {
     "name": "#%%\n"
    }
   },
   "outputs": [
    {
     "name": "stdout",
     "output_type": "stream",
     "text": [
      "Columns still object type:  ['READPRJ']\n",
      "\n",
      "VERSION    category\n",
      "SIDE       category\n",
      "READPRJ      object\n",
      "WMTVCL      float32\n",
      "WMTSBA      float32\n",
      "             ...   \n",
      "WLTFMTH     float32\n",
      "WLTFMAV     float32\n",
      "BLTFMAT     float32\n",
      "BLTFMTH     float32\n",
      "BARCDFE    category\n",
      "Length: 96, dtype: object\n"
     ]
    }
   ],
   "source": [
    "sanity_check(new_df)\n",
    "print()\n",
    "print(new_df.dtypes)\n",
    "if not missing_df.empty:\n",
    "    print('\\nMissing values present, shadow dataframe created.')\n",
    "    print(missing_df)"
   ]
  },
  {
   "cell_type": "code",
   "execution_count": 137,
   "id": "a022c0f9",
   "metadata": {
    "execution": {
     "iopub.execute_input": "2023-12-21T21:03:03.964675Z",
     "iopub.status.busy": "2023-12-21T21:03:03.964284Z",
     "iopub.status.idle": "2023-12-21T21:03:03.977558Z",
     "shell.execute_reply": "2023-12-21T21:03:03.976712Z",
     "shell.execute_reply.started": "2023-12-21T21:03:03.964645Z"
    },
    "pycharm": {
     "name": "#%%\n"
    }
   },
   "outputs": [
    {
     "name": "stdout",
     "output_type": "stream",
     "text": [
      "\n",
      "Final dataframe size: 0.94MB\n",
      "Shadow dataframe size: 0.01MB\n"
     ]
    }
   ],
   "source": [
    "print('\\nFinal dataframe size: {:.2f}MB'.format(new_df.memory_usage(deep=True).sum() / (1024**2)))\n",
    "print('Shadow dataframe size: {:.2f}MB'.format(missing_df.memory_usage(deep=True).sum() / (1024**2)))"
   ]
  },
  {
   "cell_type": "code",
   "execution_count": 138,
   "id": "dd7eba0c-63c9-4d84-a8eb-e051fd3f7ee6",
   "metadata": {
    "execution": {
     "iopub.execute_input": "2023-12-21T21:03:03.979029Z",
     "iopub.status.busy": "2023-12-21T21:03:03.978569Z",
     "iopub.status.idle": "2023-12-21T21:03:04.023405Z",
     "shell.execute_reply": "2023-12-21T21:03:04.022650Z",
     "shell.execute_reply.started": "2023-12-21T21:03:03.979001Z"
    }
   },
   "outputs": [],
   "source": [
    "utils.write_parquet(new_df, 'data/' + prefix + '_values.parquet')\n",
    "if not missing_df.empty:\n",
    "    utils.write_parquet(new_df, 'data/' + prefix + '_missing_values.parquet', verbose=False)"
   ]
  },
  {
   "cell_type": "markdown",
   "id": "a6a960fa",
   "metadata": {
    "tags": []
   },
   "source": [
    "## kmri_fnih_qcart_biomediq"
   ]
  },
  {
   "cell_type": "code",
   "execution_count": 139,
   "id": "aa24ab99",
   "metadata": {
    "execution": {
     "iopub.execute_input": "2023-12-21T21:03:04.025163Z",
     "iopub.status.busy": "2023-12-21T21:03:04.024769Z",
     "iopub.status.idle": "2023-12-21T21:03:08.001758Z",
     "shell.execute_reply": "2023-12-21T21:03:08.000825Z",
     "shell.execute_reply.started": "2023-12-21T21:03:04.025132Z"
    },
    "pycharm": {
     "name": "#%%\n"
    }
   },
   "outputs": [
    {
     "name": "stdout",
     "output_type": "stream",
     "text": [
      "\n",
      "kmri_fnih_qcart_biomediq00.sas7bdat: (600, 12)\n",
      "['ID', 'SIDE', 'VERSION', 'READPRJ', 'MedialTibialCartilage', 'LateralTibialCartilage', 'MedialFemoralCartilage', 'LateralFemoralCartilage', 'PatellarCartilage', 'MedialMeniscus', 'LateralMeniscus', 'BARCDED']\n",
      "\n",
      "kmri_fnih_qcart_biomediq01.sas7bdat: (582, 12)\n",
      "Names only differ by case\n",
      "\n",
      "kmri_fnih_qcart_biomediq03.sas7bdat: (600, 12)\n",
      "Names only differ by case\n",
      "\n",
      "Total rows: 1782\n"
     ]
    }
   ],
   "source": [
    "prefix = 'kmri_fnih_qcart_biomediq'\n",
    "column_uniformity_check(prefix)"
   ]
  },
  {
   "cell_type": "code",
   "execution_count": 140,
   "id": "a4102873",
   "metadata": {
    "execution": {
     "iopub.execute_input": "2023-12-21T21:03:08.003898Z",
     "iopub.status.busy": "2023-12-21T21:03:08.003477Z",
     "iopub.status.idle": "2023-12-21T21:03:11.931201Z",
     "shell.execute_reply": "2023-12-21T21:03:11.930305Z",
     "shell.execute_reply.started": "2023-12-21T21:03:08.003864Z"
    },
    "pycharm": {
     "name": "#%%\n"
    }
   },
   "outputs": [
    {
     "name": "stdout",
     "output_type": "stream",
     "text": [
      "kmri_fnih_qcart_biomediq00.sas7bdat\tVar Cnt: 12\n",
      "Visits: ['V00']\n",
      "kmri_fnih_qcart_biomediq01.sas7bdat\tVar Cnt: 12\n",
      "Visits: ['V01']\n",
      "kmri_fnih_qcart_biomediq03.sas7bdat\tVar Cnt: 12\n",
      "Visits: ['V03']\n",
      "(1782, 13)\n",
      "\n",
      "Starting dataframe size: 0.34MB\n"
     ]
    }
   ],
   "source": [
    "tmp_df = create_df(prefix)\n",
    "print(tmp_df.shape)\n",
    "print('\\nStarting dataframe size: {:.2f}MB'.format(tmp_df.memory_usage(deep=True).sum() / (1024**2)))"
   ]
  },
  {
   "cell_type": "code",
   "execution_count": 141,
   "id": "d70a1be8",
   "metadata": {
    "execution": {
     "iopub.execute_input": "2023-12-21T21:03:11.933078Z",
     "iopub.status.busy": "2023-12-21T21:03:11.932661Z",
     "iopub.status.idle": "2023-12-21T21:03:11.960129Z",
     "shell.execute_reply": "2023-12-21T21:03:11.959369Z",
     "shell.execute_reply.started": "2023-12-21T21:03:11.933022Z"
    },
    "pycharm": {
     "name": "#%%\n"
    }
   },
   "outputs": [],
   "source": [
    "data_stats_df, done_df = gather_column_data_stats(tmp_df)"
   ]
  },
  {
   "cell_type": "code",
   "execution_count": 142,
   "id": "36c46b14",
   "metadata": {
    "execution": {
     "iopub.execute_input": "2023-12-21T21:03:11.961741Z",
     "iopub.status.busy": "2023-12-21T21:03:11.961233Z",
     "iopub.status.idle": "2023-12-21T21:03:11.992106Z",
     "shell.execute_reply": "2023-12-21T21:03:11.991484Z",
     "shell.execute_reply.started": "2023-12-21T21:03:11.961711Z"
    },
    "pycharm": {
     "name": "#%%\n"
    }
   },
   "outputs": [
    {
     "name": "stdout",
     "output_type": "stream",
     "text": [
      "Already defined cols: 4 \tCols to convert: 9\t Total col cnt: 13\n",
      "\n",
      "Column types to convert:\n",
      "   str_cnt  num_cnt  date_cnt  na_cnt  count\n",
      "0    False     True     False    True      7\n",
      "1     True    False     False   False      2\n",
      "\n",
      "Numeric types of columns:\n",
      "num_type\n",
      "float    7\n",
      "Name: count, dtype: int64\n",
      "\n",
      "Largest number of unique strings: 1782\n"
     ]
    },
    {
     "data": {
      "text/html": [
       "<div>\n",
       "<style scoped>\n",
       "    .dataframe tbody tr th:only-of-type {\n",
       "        vertical-align: middle;\n",
       "    }\n",
       "\n",
       "    .dataframe tbody tr th {\n",
       "        vertical-align: top;\n",
       "    }\n",
       "\n",
       "    .dataframe thead th {\n",
       "        text-align: right;\n",
       "    }\n",
       "</style>\n",
       "<table border=\"1\" class=\"dataframe\">\n",
       "  <thead>\n",
       "    <tr style=\"text-align: right;\">\n",
       "      <th></th>\n",
       "      <th>label</th>\n",
       "      <th>uniq_strs</th>\n",
       "      <th>str_list</th>\n",
       "      <th>missing_val_cnt</th>\n",
       "      <th>missing_val_list</th>\n",
       "      <th>numeric_str</th>\n",
       "      <th>num_type</th>\n",
       "      <th>uniq_num</th>\n",
       "      <th>max_num</th>\n",
       "      <th>min_num</th>\n",
       "      <th>str_cnt</th>\n",
       "      <th>num_cnt</th>\n",
       "      <th>date_cnt</th>\n",
       "      <th>na_cnt</th>\n",
       "    </tr>\n",
       "    <tr>\n",
       "      <th>col</th>\n",
       "      <th></th>\n",
       "      <th></th>\n",
       "      <th></th>\n",
       "      <th></th>\n",
       "      <th></th>\n",
       "      <th></th>\n",
       "      <th></th>\n",
       "      <th></th>\n",
       "      <th></th>\n",
       "      <th></th>\n",
       "      <th></th>\n",
       "      <th></th>\n",
       "      <th></th>\n",
       "      <th></th>\n",
       "    </tr>\n",
       "  </thead>\n",
       "  <tbody>\n",
       "    <tr>\n",
       "      <th>READPRJ</th>\n",
       "      <td>Project</td>\n",
       "      <td>1</td>\n",
       "      <td>{22}</td>\n",
       "      <td>0</td>\n",
       "      <td>{}</td>\n",
       "      <td>True</td>\n",
       "      <td>None</td>\n",
       "      <td>NaN</td>\n",
       "      <td>NaN</td>\n",
       "      <td>NaN</td>\n",
       "      <td>1782</td>\n",
       "      <td>0</td>\n",
       "      <td>0</td>\n",
       "      <td>0</td>\n",
       "    </tr>\n",
       "    <tr>\n",
       "      <th>MEDIALTIBIALCARTILAGE</th>\n",
       "      <td>None</td>\n",
       "      <td>0</td>\n",
       "      <td>None</td>\n",
       "      <td>0</td>\n",
       "      <td>None</td>\n",
       "      <td>None</td>\n",
       "      <td>float</td>\n",
       "      <td>1733.0</td>\n",
       "      <td>4619.8556</td>\n",
       "      <td>1012.8847</td>\n",
       "      <td>0</td>\n",
       "      <td>1781</td>\n",
       "      <td>0</td>\n",
       "      <td>1</td>\n",
       "    </tr>\n",
       "    <tr>\n",
       "      <th>LATERALTIBIALCARTILAGE</th>\n",
       "      <td>None</td>\n",
       "      <td>0</td>\n",
       "      <td>None</td>\n",
       "      <td>0</td>\n",
       "      <td>None</td>\n",
       "      <td>None</td>\n",
       "      <td>float</td>\n",
       "      <td>1736.0</td>\n",
       "      <td>5274.3321</td>\n",
       "      <td>1126.0270</td>\n",
       "      <td>0</td>\n",
       "      <td>1781</td>\n",
       "      <td>0</td>\n",
       "      <td>1</td>\n",
       "    </tr>\n",
       "    <tr>\n",
       "      <th>MEDIALFEMORALCARTILAGE</th>\n",
       "      <td>None</td>\n",
       "      <td>0</td>\n",
       "      <td>None</td>\n",
       "      <td>0</td>\n",
       "      <td>None</td>\n",
       "      <td>None</td>\n",
       "      <td>float</td>\n",
       "      <td>1765.0</td>\n",
       "      <td>15784.4759</td>\n",
       "      <td>2479.2692</td>\n",
       "      <td>0</td>\n",
       "      <td>1781</td>\n",
       "      <td>0</td>\n",
       "      <td>1</td>\n",
       "    </tr>\n",
       "    <tr>\n",
       "      <th>LATERALFEMORALCARTILAGE</th>\n",
       "      <td>None</td>\n",
       "      <td>0</td>\n",
       "      <td>None</td>\n",
       "      <td>0</td>\n",
       "      <td>None</td>\n",
       "      <td>None</td>\n",
       "      <td>float</td>\n",
       "      <td>1764.0</td>\n",
       "      <td>12416.6298</td>\n",
       "      <td>3183.2454</td>\n",
       "      <td>0</td>\n",
       "      <td>1781</td>\n",
       "      <td>0</td>\n",
       "      <td>1</td>\n",
       "    </tr>\n",
       "    <tr>\n",
       "      <th>PATELLARCARTILAGE</th>\n",
       "      <td>None</td>\n",
       "      <td>0</td>\n",
       "      <td>None</td>\n",
       "      <td>0</td>\n",
       "      <td>None</td>\n",
       "      <td>None</td>\n",
       "      <td>float</td>\n",
       "      <td>1742.0</td>\n",
       "      <td>5676.0061</td>\n",
       "      <td>802.9758</td>\n",
       "      <td>0</td>\n",
       "      <td>1781</td>\n",
       "      <td>0</td>\n",
       "      <td>1</td>\n",
       "    </tr>\n",
       "    <tr>\n",
       "      <th>MEDIALMENISCUS</th>\n",
       "      <td>None</td>\n",
       "      <td>0</td>\n",
       "      <td>None</td>\n",
       "      <td>0</td>\n",
       "      <td>None</td>\n",
       "      <td>None</td>\n",
       "      <td>float</td>\n",
       "      <td>1743.0</td>\n",
       "      <td>5783.2870</td>\n",
       "      <td>418.1429</td>\n",
       "      <td>0</td>\n",
       "      <td>1781</td>\n",
       "      <td>0</td>\n",
       "      <td>1</td>\n",
       "    </tr>\n",
       "    <tr>\n",
       "      <th>LATERALMENISCUS</th>\n",
       "      <td>None</td>\n",
       "      <td>0</td>\n",
       "      <td>None</td>\n",
       "      <td>0</td>\n",
       "      <td>None</td>\n",
       "      <td>None</td>\n",
       "      <td>float</td>\n",
       "      <td>1725.0</td>\n",
       "      <td>4595.9431</td>\n",
       "      <td>478.2498</td>\n",
       "      <td>0</td>\n",
       "      <td>1781</td>\n",
       "      <td>0</td>\n",
       "      <td>1</td>\n",
       "    </tr>\n",
       "    <tr>\n",
       "      <th>BARCDED</th>\n",
       "      <td>Barcode of image analyzed</td>\n",
       "      <td>1782</td>\n",
       "      <td>{016610890706, 016610214503, 016611288912, 016...</td>\n",
       "      <td>0</td>\n",
       "      <td>{}</td>\n",
       "      <td>True</td>\n",
       "      <td>None</td>\n",
       "      <td>NaN</td>\n",
       "      <td>NaN</td>\n",
       "      <td>NaN</td>\n",
       "      <td>1782</td>\n",
       "      <td>0</td>\n",
       "      <td>0</td>\n",
       "      <td>0</td>\n",
       "    </tr>\n",
       "  </tbody>\n",
       "</table>\n",
       "</div>"
      ],
      "text/plain": [
       "                                             label  uniq_strs  \\\n",
       "col                                                             \n",
       "READPRJ                                    Project          1   \n",
       "MEDIALTIBIALCARTILAGE                         None          0   \n",
       "LATERALTIBIALCARTILAGE                        None          0   \n",
       "MEDIALFEMORALCARTILAGE                        None          0   \n",
       "LATERALFEMORALCARTILAGE                       None          0   \n",
       "PATELLARCARTILAGE                             None          0   \n",
       "MEDIALMENISCUS                                None          0   \n",
       "LATERALMENISCUS                               None          0   \n",
       "BARCDED                  Barcode of image analyzed       1782   \n",
       "\n",
       "                                                                  str_list  \\\n",
       "col                                                                          \n",
       "READPRJ                                                               {22}   \n",
       "MEDIALTIBIALCARTILAGE                                                 None   \n",
       "LATERALTIBIALCARTILAGE                                                None   \n",
       "MEDIALFEMORALCARTILAGE                                                None   \n",
       "LATERALFEMORALCARTILAGE                                               None   \n",
       "PATELLARCARTILAGE                                                     None   \n",
       "MEDIALMENISCUS                                                        None   \n",
       "LATERALMENISCUS                                                       None   \n",
       "BARCDED                  {016610890706, 016610214503, 016611288912, 016...   \n",
       "\n",
       "                         missing_val_cnt missing_val_list numeric_str  \\\n",
       "col                                                                     \n",
       "READPRJ                                0               {}        True   \n",
       "MEDIALTIBIALCARTILAGE                  0             None        None   \n",
       "LATERALTIBIALCARTILAGE                 0             None        None   \n",
       "MEDIALFEMORALCARTILAGE                 0             None        None   \n",
       "LATERALFEMORALCARTILAGE                0             None        None   \n",
       "PATELLARCARTILAGE                      0             None        None   \n",
       "MEDIALMENISCUS                         0             None        None   \n",
       "LATERALMENISCUS                        0             None        None   \n",
       "BARCDED                                0               {}        True   \n",
       "\n",
       "                        num_type  uniq_num     max_num    min_num  str_cnt  \\\n",
       "col                                                                          \n",
       "READPRJ                     None       NaN         NaN        NaN     1782   \n",
       "MEDIALTIBIALCARTILAGE      float    1733.0   4619.8556  1012.8847        0   \n",
       "LATERALTIBIALCARTILAGE     float    1736.0   5274.3321  1126.0270        0   \n",
       "MEDIALFEMORALCARTILAGE     float    1765.0  15784.4759  2479.2692        0   \n",
       "LATERALFEMORALCARTILAGE    float    1764.0  12416.6298  3183.2454        0   \n",
       "PATELLARCARTILAGE          float    1742.0   5676.0061   802.9758        0   \n",
       "MEDIALMENISCUS             float    1743.0   5783.2870   418.1429        0   \n",
       "LATERALMENISCUS            float    1725.0   4595.9431   478.2498        0   \n",
       "BARCDED                     None       NaN         NaN        NaN     1782   \n",
       "\n",
       "                         num_cnt  date_cnt  na_cnt  \n",
       "col                                                 \n",
       "READPRJ                        0         0       0  \n",
       "MEDIALTIBIALCARTILAGE       1781         0       1  \n",
       "LATERALTIBIALCARTILAGE      1781         0       1  \n",
       "MEDIALFEMORALCARTILAGE      1781         0       1  \n",
       "LATERALFEMORALCARTILAGE     1781         0       1  \n",
       "PATELLARCARTILAGE           1781         0       1  \n",
       "MEDIALMENISCUS              1781         0       1  \n",
       "LATERALMENISCUS             1781         0       1  \n",
       "BARCDED                        0         0       0  "
      ]
     },
     "execution_count": 142,
     "metadata": {},
     "output_type": "execute_result"
    }
   ],
   "source": [
    "data_stats_summary(tmp_df, data_stats_df)\n",
    "data_stats_df"
   ]
  },
  {
   "cell_type": "code",
   "execution_count": 143,
   "id": "dc02c7f7",
   "metadata": {
    "execution": {
     "iopub.execute_input": "2023-12-21T21:03:11.993628Z",
     "iopub.status.busy": "2023-12-21T21:03:11.993278Z",
     "iopub.status.idle": "2023-12-21T21:03:12.005356Z",
     "shell.execute_reply": "2023-12-21T21:03:12.004742Z",
     "shell.execute_reply.started": "2023-12-21T21:03:11.993599Z"
    },
    "pycharm": {
     "name": "#%%\n"
    }
   },
   "outputs": [
    {
     "name": "stdout",
     "output_type": "stream",
     "text": [
      "targets = {\n",
      "# Columns with only floats, missing, and NA values\n",
      "'float': ['MEDIALTIBIALCARTILAGE', 'LATERALTIBIALCARTILAGE', 'MEDIALFEMORALCARTILAGE', 'LATERALFEMORALCARTILAGE', 'PATELLARCARTILAGE', 'MEDIALMENISCUS', 'LATERALMENISCUS'],\n",
      "\n",
      "# Columns with only strings, missing, and NA values\n",
      "'cat': ['READPRJ', 'BARCDED'],\n",
      "\n",
      "}\n",
      "\n",
      "\n",
      "Handled columns: 9\n"
     ]
    }
   ],
   "source": [
    "suggest_conversions(data_stats_df)"
   ]
  },
  {
   "cell_type": "code",
   "execution_count": 144,
   "id": "9c9b61dd",
   "metadata": {
    "execution": {
     "iopub.execute_input": "2023-12-21T21:03:12.006702Z",
     "iopub.status.busy": "2023-12-21T21:03:12.006408Z",
     "iopub.status.idle": "2023-12-21T21:03:12.032305Z",
     "shell.execute_reply": "2023-12-21T21:03:12.031544Z",
     "shell.execute_reply.started": "2023-12-21T21:03:12.006675Z"
    },
    "pycharm": {
     "name": "#%%\n"
    }
   },
   "outputs": [],
   "source": [
    "targets = {\n",
    "# Columns with only floats, missing, and NA values\n",
    "'float': ['MEDIALTIBIALCARTILAGE', 'LATERALTIBIALCARTILAGE', 'MEDIALFEMORALCARTILAGE', 'LATERALFEMORALCARTILAGE', 'PATELLARCARTILAGE', 'MEDIALMENISCUS', 'LATERALMENISCUS'],\n",
    "\n",
    "# Columns with only strings, missing, and NA values\n",
    "'cat': ['BARCDED'],\n",
    "\n",
    "}\n",
    "\n",
    "new_df, missing_df = convert_columns(targets, data_stats_df, tmp_df)"
   ]
  },
  {
   "cell_type": "code",
   "execution_count": 145,
   "id": "a60ca7ef",
   "metadata": {
    "execution": {
     "iopub.execute_input": "2023-12-21T21:03:12.034036Z",
     "iopub.status.busy": "2023-12-21T21:03:12.033597Z",
     "iopub.status.idle": "2023-12-21T21:03:12.040621Z",
     "shell.execute_reply": "2023-12-21T21:03:12.039876Z",
     "shell.execute_reply.started": "2023-12-21T21:03:12.034008Z"
    },
    "pycharm": {
     "name": "#%%\n"
    }
   },
   "outputs": [
    {
     "name": "stdout",
     "output_type": "stream",
     "text": [
      "Columns still object type:  ['READPRJ']\n",
      "\n",
      "VERSION                    category\n",
      "SIDE                       category\n",
      "READPRJ                      object\n",
      "MEDIALTIBIALCARTILAGE       float32\n",
      "LATERALTIBIALCARTILAGE      float32\n",
      "MEDIALFEMORALCARTILAGE      float32\n",
      "LATERALFEMORALCARTILAGE     float32\n",
      "PATELLARCARTILAGE           float32\n",
      "MEDIALMENISCUS              float32\n",
      "LATERALMENISCUS             float32\n",
      "BARCDED                    category\n",
      "dtype: object\n"
     ]
    }
   ],
   "source": [
    "sanity_check(new_df)\n",
    "print()\n",
    "print(new_df.dtypes)\n",
    "if not missing_df.empty:\n",
    "    print('\\nMissing values present, shadow dataframe created.')\n",
    "    print(missing_df)"
   ]
  },
  {
   "cell_type": "code",
   "execution_count": 146,
   "id": "fee23782",
   "metadata": {
    "execution": {
     "iopub.execute_input": "2023-12-21T21:03:12.042432Z",
     "iopub.status.busy": "2023-12-21T21:03:12.042169Z",
     "iopub.status.idle": "2023-12-21T21:03:12.050330Z",
     "shell.execute_reply": "2023-12-21T21:03:12.049620Z",
     "shell.execute_reply.started": "2023-12-21T21:03:12.042407Z"
    },
    "pycharm": {
     "name": "#%%\n"
    }
   },
   "outputs": [
    {
     "name": "stdout",
     "output_type": "stream",
     "text": [
      "\n",
      "Final dataframe size: 0.36MB\n",
      "Shadow dataframe size: 0.01MB\n"
     ]
    }
   ],
   "source": [
    "print('\\nFinal dataframe size: {:.2f}MB'.format(new_df.memory_usage(deep=True).sum() / (1024**2)))\n",
    "print('Shadow dataframe size: {:.2f}MB'.format(missing_df.memory_usage(deep=True).sum() / (1024**2)))"
   ]
  },
  {
   "cell_type": "code",
   "execution_count": 147,
   "id": "281e7aeb-b439-4adc-b84d-bb9f2ac057d2",
   "metadata": {
    "execution": {
     "iopub.execute_input": "2023-12-21T21:03:12.052090Z",
     "iopub.status.busy": "2023-12-21T21:03:12.051825Z",
     "iopub.status.idle": "2023-12-21T21:03:12.070404Z",
     "shell.execute_reply": "2023-12-21T21:03:12.069684Z",
     "shell.execute_reply.started": "2023-12-21T21:03:12.052064Z"
    }
   },
   "outputs": [],
   "source": [
    "utils.write_parquet(new_df, 'data/' + prefix + '_values.parquet')\n",
    "if not missing_df.empty:\n",
    "    utils.write_parquet(new_df, 'data/' + prefix + '_missing_values.parquet', verbose=False)"
   ]
  },
  {
   "cell_type": "markdown",
   "id": "7bdc00e0",
   "metadata": {
    "tags": []
   },
   "source": [
    "##  kmri_fnih_sbp_qmetrics"
   ]
  },
  {
   "cell_type": "code",
   "execution_count": 148,
   "id": "ef054b44",
   "metadata": {
    "execution": {
     "iopub.execute_input": "2023-12-21T21:03:12.071972Z",
     "iopub.status.busy": "2023-12-21T21:03:12.071626Z",
     "iopub.status.idle": "2023-12-21T21:03:16.110040Z",
     "shell.execute_reply": "2023-12-21T21:03:16.109168Z",
     "shell.execute_reply.started": "2023-12-21T21:03:12.071940Z"
    },
    "pycharm": {
     "name": "#%%\n"
    }
   },
   "outputs": [
    {
     "name": "stdout",
     "output_type": "stream",
     "text": [
      "\n",
      "kmri_fnih_sbp_qmetrics00.sas7bdat: (600, 40)\n",
      "['ID', 'VERSION', 'READPRJ', 'SIDE', 'SubBArea_MedFem', 'CurAverage_SubB_MedFem', 'CurSD_SubB_MedFem', 'Cur_5pc_SubB_MedFem', 'Cur_95pc_SubB_MedFem', 'SCRAverage_SubB_MedFem', 'SCRSD_SubB_MedFem', 'SCR_5pc_SubB_MedFem', 'SCR_95pc_SubB_MedFem', 'SubBArea_LatFem', 'CurAverage_SubB_LatFem', 'CurSD_SubB_LatFem', 'Cur_5pc_SubB_LatFem', 'Cur_95pc_SubB_LatFem', 'SCRAverage_SubB_LatFem', 'SCRSD_SubB_LatFem', 'SCR_5pc_SubB_LatFem', 'SCR_95pc_SubB_LatFem', 'SubBArea_MedTib', 'CurAverage_SubB_MedTib', 'CurSD_SubB_MedTib', 'Cur_5pc_SubB_MedTib', 'Cur_95pc_SubB_MedTib', 'SCRAverage_SubB_MedTib', 'SCRSD_SubB_MedTib', 'SCR_5pc_SubB_MedTib', 'SCR_95pc_SubB_MedTib', 'SubBArea_LatTib', 'CurAverage_SubB_LatTib', 'CurSD_SubB_LatTib', 'Cur_5pc_SubB_LatTib', 'Cur_95pc_SubB_LatTib', 'SCRAverage_SubB_LatTib', 'SCRSD_SubB_LatTib', 'SCR_5pc_SubB_LatTib', 'SCR_95pc_SubB_LatTib']\n",
      "\n",
      "kmri_fnih_sbp_qmetrics01.sas7bdat: (600, 40)\n",
      "Names only differ by case\n",
      "\n",
      "kmri_fnih_sbp_qmetrics03.sas7bdat: (600, 40)\n",
      "Names only differ by case\n",
      "\n",
      "Total rows: 1800\n"
     ]
    }
   ],
   "source": [
    "prefix = 'kmri_fnih_sbp_qmetrics'\n",
    "column_uniformity_check(prefix)"
   ]
  },
  {
   "cell_type": "code",
   "execution_count": 149,
   "id": "a0e9b2b6",
   "metadata": {
    "execution": {
     "iopub.execute_input": "2023-12-21T21:03:16.112165Z",
     "iopub.status.busy": "2023-12-21T21:03:16.111725Z",
     "iopub.status.idle": "2023-12-21T21:03:19.977694Z",
     "shell.execute_reply": "2023-12-21T21:03:19.976841Z",
     "shell.execute_reply.started": "2023-12-21T21:03:16.112134Z"
    },
    "pycharm": {
     "name": "#%%\n"
    }
   },
   "outputs": [
    {
     "name": "stdout",
     "output_type": "stream",
     "text": [
      "kmri_fnih_sbp_qmetrics00.sas7bdat\tVar Cnt: 40\n",
      "Visits: ['V00']\n",
      "kmri_fnih_sbp_qmetrics01.sas7bdat\tVar Cnt: 40\n",
      "Visits: ['V01']\n",
      "kmri_fnih_sbp_qmetrics03.sas7bdat\tVar Cnt: 40\n",
      "Visits: ['V03']\n",
      "(1800, 41)\n",
      "\n",
      "Starting dataframe size: 1.98MB\n"
     ]
    }
   ],
   "source": [
    "tmp_df = create_df(prefix)\n",
    "print(tmp_df.shape)\n",
    "print('\\nStarting dataframe size: {:.2f}MB'.format(tmp_df.memory_usage(deep=True).sum() / (1024**2)))"
   ]
  },
  {
   "cell_type": "code",
   "execution_count": 150,
   "id": "b8d53499",
   "metadata": {
    "execution": {
     "iopub.execute_input": "2023-12-21T21:03:19.979983Z",
     "iopub.status.busy": "2023-12-21T21:03:19.979549Z",
     "iopub.status.idle": "2023-12-21T21:03:20.138894Z",
     "shell.execute_reply": "2023-12-21T21:03:20.138099Z",
     "shell.execute_reply.started": "2023-12-21T21:03:19.979948Z"
    },
    "pycharm": {
     "name": "#%%\n"
    }
   },
   "outputs": [],
   "source": [
    "data_stats_df, done_df = gather_column_data_stats(tmp_df)"
   ]
  },
  {
   "cell_type": "code",
   "execution_count": 151,
   "id": "2dc4e75d",
   "metadata": {
    "execution": {
     "iopub.execute_input": "2023-12-21T21:03:20.140571Z",
     "iopub.status.busy": "2023-12-21T21:03:20.140073Z",
     "iopub.status.idle": "2023-12-21T21:03:20.199654Z",
     "shell.execute_reply": "2023-12-21T21:03:20.198953Z",
     "shell.execute_reply.started": "2023-12-21T21:03:20.140537Z"
    },
    "pycharm": {
     "name": "#%%\n"
    }
   },
   "outputs": [
    {
     "name": "stdout",
     "output_type": "stream",
     "text": [
      "Already defined cols: 4 \tCols to convert: 37\t Total col cnt: 41\n",
      "\n",
      "Column types to convert:\n",
      "   str_cnt  num_cnt  date_cnt  na_cnt  count\n",
      "0    False     True     False    True      4\n",
      "1     True    False     False   False      1\n",
      "2     True     True     False   False     32\n",
      "\n",
      "Numeric types of columns:\n",
      "num_type\n",
      "float    36\n",
      "Name: count, dtype: int64\n",
      "\n",
      "Largest number of unique strings: 1\n"
     ]
    },
    {
     "data": {
      "text/html": [
       "<div>\n",
       "<style scoped>\n",
       "    .dataframe tbody tr th:only-of-type {\n",
       "        vertical-align: middle;\n",
       "    }\n",
       "\n",
       "    .dataframe tbody tr th {\n",
       "        vertical-align: top;\n",
       "    }\n",
       "\n",
       "    .dataframe thead th {\n",
       "        text-align: right;\n",
       "    }\n",
       "</style>\n",
       "<table border=\"1\" class=\"dataframe\">\n",
       "  <thead>\n",
       "    <tr style=\"text-align: right;\">\n",
       "      <th></th>\n",
       "      <th>label</th>\n",
       "      <th>uniq_strs</th>\n",
       "      <th>str_list</th>\n",
       "      <th>missing_val_cnt</th>\n",
       "      <th>missing_val_list</th>\n",
       "      <th>numeric_str</th>\n",
       "      <th>num_type</th>\n",
       "      <th>uniq_num</th>\n",
       "      <th>max_num</th>\n",
       "      <th>min_num</th>\n",
       "      <th>str_cnt</th>\n",
       "      <th>num_cnt</th>\n",
       "      <th>date_cnt</th>\n",
       "      <th>na_cnt</th>\n",
       "    </tr>\n",
       "    <tr>\n",
       "      <th>col</th>\n",
       "      <th></th>\n",
       "      <th></th>\n",
       "      <th></th>\n",
       "      <th></th>\n",
       "      <th></th>\n",
       "      <th></th>\n",
       "      <th></th>\n",
       "      <th></th>\n",
       "      <th></th>\n",
       "      <th></th>\n",
       "      <th></th>\n",
       "      <th></th>\n",
       "      <th></th>\n",
       "      <th></th>\n",
       "    </tr>\n",
       "  </thead>\n",
       "  <tbody>\n",
       "    <tr>\n",
       "      <th>READPRJ</th>\n",
       "      <td>Project</td>\n",
       "      <td>1</td>\n",
       "      <td>{22}</td>\n",
       "      <td>0</td>\n",
       "      <td>{}</td>\n",
       "      <td>True</td>\n",
       "      <td>None</td>\n",
       "      <td>NaN</td>\n",
       "      <td>NaN</td>\n",
       "      <td>NaN</td>\n",
       "      <td>1800</td>\n",
       "      <td>0</td>\n",
       "      <td>0</td>\n",
       "      <td>0</td>\n",
       "    </tr>\n",
       "    <tr>\n",
       "      <th>SUBBAREA_MEDFEM</th>\n",
       "      <td>None</td>\n",
       "      <td>0</td>\n",
       "      <td>None</td>\n",
       "      <td>0</td>\n",
       "      <td>None</td>\n",
       "      <td>None</td>\n",
       "      <td>float</td>\n",
       "      <td>1753.0</td>\n",
       "      <td>1470.547500</td>\n",
       "      <td>387.191531</td>\n",
       "      <td>0</td>\n",
       "      <td>1752</td>\n",
       "      <td>0</td>\n",
       "      <td>48</td>\n",
       "    </tr>\n",
       "    <tr>\n",
       "      <th>CURAVERAGE_SUBB_MEDFEM</th>\n",
       "      <td>None</td>\n",
       "      <td>0</td>\n",
       "      <td>{}</td>\n",
       "      <td>1</td>\n",
       "      <td>{T}</td>\n",
       "      <td>False</td>\n",
       "      <td>float</td>\n",
       "      <td>1675.0</td>\n",
       "      <td>0.046131</td>\n",
       "      <td>0.007478</td>\n",
       "      <td>48</td>\n",
       "      <td>1752</td>\n",
       "      <td>0</td>\n",
       "      <td>0</td>\n",
       "    </tr>\n",
       "    <tr>\n",
       "      <th>CURSD_SUBB_MEDFEM</th>\n",
       "      <td>None</td>\n",
       "      <td>0</td>\n",
       "      <td>{}</td>\n",
       "      <td>1</td>\n",
       "      <td>{T}</td>\n",
       "      <td>False</td>\n",
       "      <td>float</td>\n",
       "      <td>1678.0</td>\n",
       "      <td>0.070508</td>\n",
       "      <td>0.017858</td>\n",
       "      <td>48</td>\n",
       "      <td>1752</td>\n",
       "      <td>0</td>\n",
       "      <td>0</td>\n",
       "    </tr>\n",
       "    <tr>\n",
       "      <th>CUR_5PC_SUBB_MEDFEM</th>\n",
       "      <td>None</td>\n",
       "      <td>0</td>\n",
       "      <td>{}</td>\n",
       "      <td>1</td>\n",
       "      <td>{T}</td>\n",
       "      <td>False</td>\n",
       "      <td>float</td>\n",
       "      <td>1733.0</td>\n",
       "      <td>-0.006122</td>\n",
       "      <td>-0.145420</td>\n",
       "      <td>48</td>\n",
       "      <td>1752</td>\n",
       "      <td>0</td>\n",
       "      <td>0</td>\n",
       "    </tr>\n",
       "    <tr>\n",
       "      <th>CUR_95PC_SUBB_MEDFEM</th>\n",
       "      <td>None</td>\n",
       "      <td>0</td>\n",
       "      <td>{}</td>\n",
       "      <td>1</td>\n",
       "      <td>{T}</td>\n",
       "      <td>False</td>\n",
       "      <td>float</td>\n",
       "      <td>1714.0</td>\n",
       "      <td>0.177308</td>\n",
       "      <td>0.051765</td>\n",
       "      <td>48</td>\n",
       "      <td>1752</td>\n",
       "      <td>0</td>\n",
       "      <td>0</td>\n",
       "    </tr>\n",
       "    <tr>\n",
       "      <th>SCRAVERAGE_SUBB_MEDFEM</th>\n",
       "      <td>None</td>\n",
       "      <td>0</td>\n",
       "      <td>{}</td>\n",
       "      <td>1</td>\n",
       "      <td>{T}</td>\n",
       "      <td>False</td>\n",
       "      <td>float</td>\n",
       "      <td>1742.0</td>\n",
       "      <td>7.332705</td>\n",
       "      <td>1.519780</td>\n",
       "      <td>56</td>\n",
       "      <td>1744</td>\n",
       "      <td>0</td>\n",
       "      <td>0</td>\n",
       "    </tr>\n",
       "    <tr>\n",
       "      <th>SCRSD_SUBB_MEDFEM</th>\n",
       "      <td>None</td>\n",
       "      <td>0</td>\n",
       "      <td>{}</td>\n",
       "      <td>1</td>\n",
       "      <td>{T}</td>\n",
       "      <td>False</td>\n",
       "      <td>float</td>\n",
       "      <td>1741.0</td>\n",
       "      <td>1.742045</td>\n",
       "      <td>0.724587</td>\n",
       "      <td>56</td>\n",
       "      <td>1744</td>\n",
       "      <td>0</td>\n",
       "      <td>0</td>\n",
       "    </tr>\n",
       "    <tr>\n",
       "      <th>SCR_5PC_SUBB_MEDFEM</th>\n",
       "      <td>None</td>\n",
       "      <td>0</td>\n",
       "      <td>{}</td>\n",
       "      <td>1</td>\n",
       "      <td>{T}</td>\n",
       "      <td>False</td>\n",
       "      <td>float</td>\n",
       "      <td>1742.0</td>\n",
       "      <td>3.765704</td>\n",
       "      <td>-0.753886</td>\n",
       "      <td>56</td>\n",
       "      <td>1744</td>\n",
       "      <td>0</td>\n",
       "      <td>0</td>\n",
       "    </tr>\n",
       "    <tr>\n",
       "      <th>SCR_95PC_SUBB_MEDFEM</th>\n",
       "      <td>None</td>\n",
       "      <td>0</td>\n",
       "      <td>{}</td>\n",
       "      <td>1</td>\n",
       "      <td>{T}</td>\n",
       "      <td>False</td>\n",
       "      <td>float</td>\n",
       "      <td>1744.0</td>\n",
       "      <td>9.306610</td>\n",
       "      <td>3.395922</td>\n",
       "      <td>56</td>\n",
       "      <td>1744</td>\n",
       "      <td>0</td>\n",
       "      <td>0</td>\n",
       "    </tr>\n",
       "    <tr>\n",
       "      <th>SUBBAREA_LATFEM</th>\n",
       "      <td>None</td>\n",
       "      <td>0</td>\n",
       "      <td>None</td>\n",
       "      <td>0</td>\n",
       "      <td>None</td>\n",
       "      <td>None</td>\n",
       "      <td>float</td>\n",
       "      <td>1768.0</td>\n",
       "      <td>1239.402560</td>\n",
       "      <td>515.889708</td>\n",
       "      <td>0</td>\n",
       "      <td>1767</td>\n",
       "      <td>0</td>\n",
       "      <td>33</td>\n",
       "    </tr>\n",
       "    <tr>\n",
       "      <th>CURAVERAGE_SUBB_LATFEM</th>\n",
       "      <td>None</td>\n",
       "      <td>0</td>\n",
       "      <td>{}</td>\n",
       "      <td>1</td>\n",
       "      <td>{T}</td>\n",
       "      <td>False</td>\n",
       "      <td>float</td>\n",
       "      <td>1684.0</td>\n",
       "      <td>0.039625</td>\n",
       "      <td>0.008844</td>\n",
       "      <td>33</td>\n",
       "      <td>1767</td>\n",
       "      <td>0</td>\n",
       "      <td>0</td>\n",
       "    </tr>\n",
       "    <tr>\n",
       "      <th>CURSD_SUBB_LATFEM</th>\n",
       "      <td>None</td>\n",
       "      <td>0</td>\n",
       "      <td>{}</td>\n",
       "      <td>1</td>\n",
       "      <td>{T}</td>\n",
       "      <td>False</td>\n",
       "      <td>float</td>\n",
       "      <td>1685.0</td>\n",
       "      <td>0.055663</td>\n",
       "      <td>0.017013</td>\n",
       "      <td>33</td>\n",
       "      <td>1767</td>\n",
       "      <td>0</td>\n",
       "      <td>0</td>\n",
       "    </tr>\n",
       "    <tr>\n",
       "      <th>CUR_5PC_SUBB_LATFEM</th>\n",
       "      <td>None</td>\n",
       "      <td>0</td>\n",
       "      <td>{}</td>\n",
       "      <td>1</td>\n",
       "      <td>{T}</td>\n",
       "      <td>False</td>\n",
       "      <td>float</td>\n",
       "      <td>1749.0</td>\n",
       "      <td>-0.004400</td>\n",
       "      <td>-0.127404</td>\n",
       "      <td>33</td>\n",
       "      <td>1767</td>\n",
       "      <td>0</td>\n",
       "      <td>0</td>\n",
       "    </tr>\n",
       "    <tr>\n",
       "      <th>CUR_95PC_SUBB_LATFEM</th>\n",
       "      <td>None</td>\n",
       "      <td>0</td>\n",
       "      <td>{}</td>\n",
       "      <td>1</td>\n",
       "      <td>{T}</td>\n",
       "      <td>False</td>\n",
       "      <td>float</td>\n",
       "      <td>1737.0</td>\n",
       "      <td>0.176424</td>\n",
       "      <td>0.054201</td>\n",
       "      <td>33</td>\n",
       "      <td>1767</td>\n",
       "      <td>0</td>\n",
       "      <td>0</td>\n",
       "    </tr>\n",
       "    <tr>\n",
       "      <th>SCRAVERAGE_SUBB_LATFEM</th>\n",
       "      <td>None</td>\n",
       "      <td>0</td>\n",
       "      <td>{}</td>\n",
       "      <td>1</td>\n",
       "      <td>{T}</td>\n",
       "      <td>False</td>\n",
       "      <td>float</td>\n",
       "      <td>1756.0</td>\n",
       "      <td>5.408232</td>\n",
       "      <td>1.655995</td>\n",
       "      <td>44</td>\n",
       "      <td>1756</td>\n",
       "      <td>0</td>\n",
       "      <td>0</td>\n",
       "    </tr>\n",
       "    <tr>\n",
       "      <th>SCRSD_SUBB_LATFEM</th>\n",
       "      <td>None</td>\n",
       "      <td>0</td>\n",
       "      <td>{}</td>\n",
       "      <td>1</td>\n",
       "      <td>{T}</td>\n",
       "      <td>False</td>\n",
       "      <td>float</td>\n",
       "      <td>1750.0</td>\n",
       "      <td>1.525225</td>\n",
       "      <td>0.661998</td>\n",
       "      <td>44</td>\n",
       "      <td>1756</td>\n",
       "      <td>0</td>\n",
       "      <td>0</td>\n",
       "    </tr>\n",
       "    <tr>\n",
       "      <th>SCR_5PC_SUBB_LATFEM</th>\n",
       "      <td>None</td>\n",
       "      <td>0</td>\n",
       "      <td>{}</td>\n",
       "      <td>1</td>\n",
       "      <td>{T}</td>\n",
       "      <td>False</td>\n",
       "      <td>float</td>\n",
       "      <td>1754.0</td>\n",
       "      <td>2.866116</td>\n",
       "      <td>-0.424676</td>\n",
       "      <td>44</td>\n",
       "      <td>1756</td>\n",
       "      <td>0</td>\n",
       "      <td>0</td>\n",
       "    </tr>\n",
       "    <tr>\n",
       "      <th>SCR_95PC_SUBB_LATFEM</th>\n",
       "      <td>None</td>\n",
       "      <td>0</td>\n",
       "      <td>{}</td>\n",
       "      <td>1</td>\n",
       "      <td>{T}</td>\n",
       "      <td>False</td>\n",
       "      <td>float</td>\n",
       "      <td>1755.0</td>\n",
       "      <td>7.303925</td>\n",
       "      <td>3.118081</td>\n",
       "      <td>44</td>\n",
       "      <td>1756</td>\n",
       "      <td>0</td>\n",
       "      <td>0</td>\n",
       "    </tr>\n",
       "    <tr>\n",
       "      <th>SUBBAREA_MEDTIB</th>\n",
       "      <td>None</td>\n",
       "      <td>0</td>\n",
       "      <td>None</td>\n",
       "      <td>0</td>\n",
       "      <td>None</td>\n",
       "      <td>None</td>\n",
       "      <td>float</td>\n",
       "      <td>1756.0</td>\n",
       "      <td>1483.303412</td>\n",
       "      <td>510.740844</td>\n",
       "      <td>0</td>\n",
       "      <td>1755</td>\n",
       "      <td>0</td>\n",
       "      <td>45</td>\n",
       "    </tr>\n",
       "    <tr>\n",
       "      <th>CURAVERAGE_SUBB_MEDTIB</th>\n",
       "      <td>None</td>\n",
       "      <td>0</td>\n",
       "      <td>{}</td>\n",
       "      <td>1</td>\n",
       "      <td>{T}</td>\n",
       "      <td>False</td>\n",
       "      <td>float</td>\n",
       "      <td>1693.0</td>\n",
       "      <td>-0.012212</td>\n",
       "      <td>-0.058135</td>\n",
       "      <td>45</td>\n",
       "      <td>1755</td>\n",
       "      <td>0</td>\n",
       "      <td>0</td>\n",
       "    </tr>\n",
       "    <tr>\n",
       "      <th>CURSD_SUBB_MEDTIB</th>\n",
       "      <td>None</td>\n",
       "      <td>0</td>\n",
       "      <td>{}</td>\n",
       "      <td>1</td>\n",
       "      <td>{T}</td>\n",
       "      <td>False</td>\n",
       "      <td>float</td>\n",
       "      <td>1678.0</td>\n",
       "      <td>0.070378</td>\n",
       "      <td>0.022997</td>\n",
       "      <td>45</td>\n",
       "      <td>1755</td>\n",
       "      <td>0</td>\n",
       "      <td>0</td>\n",
       "    </tr>\n",
       "    <tr>\n",
       "      <th>CUR_5PC_SUBB_MEDTIB</th>\n",
       "      <td>None</td>\n",
       "      <td>0</td>\n",
       "      <td>{}</td>\n",
       "      <td>1</td>\n",
       "      <td>{T}</td>\n",
       "      <td>False</td>\n",
       "      <td>float</td>\n",
       "      <td>1734.0</td>\n",
       "      <td>-0.071242</td>\n",
       "      <td>-0.272859</td>\n",
       "      <td>45</td>\n",
       "      <td>1755</td>\n",
       "      <td>0</td>\n",
       "      <td>0</td>\n",
       "    </tr>\n",
       "    <tr>\n",
       "      <th>CUR_95PC_SUBB_MEDTIB</th>\n",
       "      <td>None</td>\n",
       "      <td>0</td>\n",
       "      <td>{}</td>\n",
       "      <td>1</td>\n",
       "      <td>{T}</td>\n",
       "      <td>False</td>\n",
       "      <td>float</td>\n",
       "      <td>1733.0</td>\n",
       "      <td>0.108811</td>\n",
       "      <td>-0.011061</td>\n",
       "      <td>45</td>\n",
       "      <td>1755</td>\n",
       "      <td>0</td>\n",
       "      <td>0</td>\n",
       "    </tr>\n",
       "    <tr>\n",
       "      <th>SCRAVERAGE_SUBB_MEDTIB</th>\n",
       "      <td>None</td>\n",
       "      <td>0</td>\n",
       "      <td>{}</td>\n",
       "      <td>1</td>\n",
       "      <td>{T}</td>\n",
       "      <td>False</td>\n",
       "      <td>float</td>\n",
       "      <td>1744.0</td>\n",
       "      <td>6.560356</td>\n",
       "      <td>1.318052</td>\n",
       "      <td>54</td>\n",
       "      <td>1746</td>\n",
       "      <td>0</td>\n",
       "      <td>0</td>\n",
       "    </tr>\n",
       "    <tr>\n",
       "      <th>SCRSD_SUBB_MEDTIB</th>\n",
       "      <td>None</td>\n",
       "      <td>0</td>\n",
       "      <td>{}</td>\n",
       "      <td>1</td>\n",
       "      <td>{T}</td>\n",
       "      <td>False</td>\n",
       "      <td>float</td>\n",
       "      <td>1739.0</td>\n",
       "      <td>1.629176</td>\n",
       "      <td>0.716892</td>\n",
       "      <td>54</td>\n",
       "      <td>1746</td>\n",
       "      <td>0</td>\n",
       "      <td>0</td>\n",
       "    </tr>\n",
       "    <tr>\n",
       "      <th>SCR_5PC_SUBB_MEDTIB</th>\n",
       "      <td>None</td>\n",
       "      <td>0</td>\n",
       "      <td>{}</td>\n",
       "      <td>1</td>\n",
       "      <td>{T}</td>\n",
       "      <td>False</td>\n",
       "      <td>float</td>\n",
       "      <td>1746.0</td>\n",
       "      <td>3.127868</td>\n",
       "      <td>-0.644436</td>\n",
       "      <td>54</td>\n",
       "      <td>1746</td>\n",
       "      <td>0</td>\n",
       "      <td>0</td>\n",
       "    </tr>\n",
       "    <tr>\n",
       "      <th>SCR_95PC_SUBB_MEDTIB</th>\n",
       "      <td>None</td>\n",
       "      <td>0</td>\n",
       "      <td>{}</td>\n",
       "      <td>1</td>\n",
       "      <td>{T}</td>\n",
       "      <td>False</td>\n",
       "      <td>float</td>\n",
       "      <td>1745.0</td>\n",
       "      <td>9.330834</td>\n",
       "      <td>3.175507</td>\n",
       "      <td>54</td>\n",
       "      <td>1746</td>\n",
       "      <td>0</td>\n",
       "      <td>0</td>\n",
       "    </tr>\n",
       "    <tr>\n",
       "      <th>SUBBAREA_LATTIB</th>\n",
       "      <td>None</td>\n",
       "      <td>0</td>\n",
       "      <td>None</td>\n",
       "      <td>0</td>\n",
       "      <td>None</td>\n",
       "      <td>None</td>\n",
       "      <td>float</td>\n",
       "      <td>1762.0</td>\n",
       "      <td>1335.794058</td>\n",
       "      <td>482.382598</td>\n",
       "      <td>0</td>\n",
       "      <td>1761</td>\n",
       "      <td>0</td>\n",
       "      <td>39</td>\n",
       "    </tr>\n",
       "    <tr>\n",
       "      <th>CURAVERAGE_SUBB_LATTIB</th>\n",
       "      <td>None</td>\n",
       "      <td>0</td>\n",
       "      <td>{}</td>\n",
       "      <td>1</td>\n",
       "      <td>{T}</td>\n",
       "      <td>False</td>\n",
       "      <td>float</td>\n",
       "      <td>1694.0</td>\n",
       "      <td>0.004498</td>\n",
       "      <td>-0.038744</td>\n",
       "      <td>39</td>\n",
       "      <td>1761</td>\n",
       "      <td>0</td>\n",
       "      <td>0</td>\n",
       "    </tr>\n",
       "    <tr>\n",
       "      <th>CURSD_SUBB_LATTIB</th>\n",
       "      <td>None</td>\n",
       "      <td>0</td>\n",
       "      <td>{}</td>\n",
       "      <td>1</td>\n",
       "      <td>{T}</td>\n",
       "      <td>False</td>\n",
       "      <td>float</td>\n",
       "      <td>1682.0</td>\n",
       "      <td>0.063303</td>\n",
       "      <td>0.022331</td>\n",
       "      <td>39</td>\n",
       "      <td>1761</td>\n",
       "      <td>0</td>\n",
       "      <td>0</td>\n",
       "    </tr>\n",
       "    <tr>\n",
       "      <th>CUR_5PC_SUBB_LATTIB</th>\n",
       "      <td>None</td>\n",
       "      <td>0</td>\n",
       "      <td>{}</td>\n",
       "      <td>1</td>\n",
       "      <td>{T}</td>\n",
       "      <td>False</td>\n",
       "      <td>float</td>\n",
       "      <td>1728.0</td>\n",
       "      <td>-0.045302</td>\n",
       "      <td>-0.205849</td>\n",
       "      <td>39</td>\n",
       "      <td>1761</td>\n",
       "      <td>0</td>\n",
       "      <td>0</td>\n",
       "    </tr>\n",
       "    <tr>\n",
       "      <th>CUR_95PC_SUBB_LATTIB</th>\n",
       "      <td>None</td>\n",
       "      <td>0</td>\n",
       "      <td>{}</td>\n",
       "      <td>1</td>\n",
       "      <td>{T}</td>\n",
       "      <td>False</td>\n",
       "      <td>float</td>\n",
       "      <td>1733.0</td>\n",
       "      <td>0.136090</td>\n",
       "      <td>0.026429</td>\n",
       "      <td>39</td>\n",
       "      <td>1761</td>\n",
       "      <td>0</td>\n",
       "      <td>0</td>\n",
       "    </tr>\n",
       "    <tr>\n",
       "      <th>SCRAVERAGE_SUBB_LATTIB</th>\n",
       "      <td>None</td>\n",
       "      <td>0</td>\n",
       "      <td>{}</td>\n",
       "      <td>1</td>\n",
       "      <td>{T}</td>\n",
       "      <td>False</td>\n",
       "      <td>float</td>\n",
       "      <td>1752.0</td>\n",
       "      <td>5.396767</td>\n",
       "      <td>1.346824</td>\n",
       "      <td>48</td>\n",
       "      <td>1752</td>\n",
       "      <td>0</td>\n",
       "      <td>0</td>\n",
       "    </tr>\n",
       "    <tr>\n",
       "      <th>SCRSD_SUBB_LATTIB</th>\n",
       "      <td>None</td>\n",
       "      <td>0</td>\n",
       "      <td>{}</td>\n",
       "      <td>1</td>\n",
       "      <td>{T}</td>\n",
       "      <td>False</td>\n",
       "      <td>float</td>\n",
       "      <td>1750.0</td>\n",
       "      <td>1.383082</td>\n",
       "      <td>0.526135</td>\n",
       "      <td>48</td>\n",
       "      <td>1752</td>\n",
       "      <td>0</td>\n",
       "      <td>0</td>\n",
       "    </tr>\n",
       "    <tr>\n",
       "      <th>SCR_5PC_SUBB_LATTIB</th>\n",
       "      <td>None</td>\n",
       "      <td>0</td>\n",
       "      <td>{}</td>\n",
       "      <td>1</td>\n",
       "      <td>{T}</td>\n",
       "      <td>False</td>\n",
       "      <td>float</td>\n",
       "      <td>1751.0</td>\n",
       "      <td>2.575773</td>\n",
       "      <td>-0.960821</td>\n",
       "      <td>48</td>\n",
       "      <td>1752</td>\n",
       "      <td>0</td>\n",
       "      <td>0</td>\n",
       "    </tr>\n",
       "    <tr>\n",
       "      <th>SCR_95PC_SUBB_LATTIB</th>\n",
       "      <td>None</td>\n",
       "      <td>0</td>\n",
       "      <td>{}</td>\n",
       "      <td>1</td>\n",
       "      <td>{T}</td>\n",
       "      <td>False</td>\n",
       "      <td>float</td>\n",
       "      <td>1750.0</td>\n",
       "      <td>7.868507</td>\n",
       "      <td>2.710842</td>\n",
       "      <td>48</td>\n",
       "      <td>1752</td>\n",
       "      <td>0</td>\n",
       "      <td>0</td>\n",
       "    </tr>\n",
       "  </tbody>\n",
       "</table>\n",
       "</div>"
      ],
      "text/plain": [
       "                          label  uniq_strs str_list  missing_val_cnt  \\\n",
       "col                                                                    \n",
       "READPRJ                 Project          1     {22}                0   \n",
       "SUBBAREA_MEDFEM            None          0     None                0   \n",
       "CURAVERAGE_SUBB_MEDFEM     None          0       {}                1   \n",
       "CURSD_SUBB_MEDFEM          None          0       {}                1   \n",
       "CUR_5PC_SUBB_MEDFEM        None          0       {}                1   \n",
       "CUR_95PC_SUBB_MEDFEM       None          0       {}                1   \n",
       "SCRAVERAGE_SUBB_MEDFEM     None          0       {}                1   \n",
       "SCRSD_SUBB_MEDFEM          None          0       {}                1   \n",
       "SCR_5PC_SUBB_MEDFEM        None          0       {}                1   \n",
       "SCR_95PC_SUBB_MEDFEM       None          0       {}                1   \n",
       "SUBBAREA_LATFEM            None          0     None                0   \n",
       "CURAVERAGE_SUBB_LATFEM     None          0       {}                1   \n",
       "CURSD_SUBB_LATFEM          None          0       {}                1   \n",
       "CUR_5PC_SUBB_LATFEM        None          0       {}                1   \n",
       "CUR_95PC_SUBB_LATFEM       None          0       {}                1   \n",
       "SCRAVERAGE_SUBB_LATFEM     None          0       {}                1   \n",
       "SCRSD_SUBB_LATFEM          None          0       {}                1   \n",
       "SCR_5PC_SUBB_LATFEM        None          0       {}                1   \n",
       "SCR_95PC_SUBB_LATFEM       None          0       {}                1   \n",
       "SUBBAREA_MEDTIB            None          0     None                0   \n",
       "CURAVERAGE_SUBB_MEDTIB     None          0       {}                1   \n",
       "CURSD_SUBB_MEDTIB          None          0       {}                1   \n",
       "CUR_5PC_SUBB_MEDTIB        None          0       {}                1   \n",
       "CUR_95PC_SUBB_MEDTIB       None          0       {}                1   \n",
       "SCRAVERAGE_SUBB_MEDTIB     None          0       {}                1   \n",
       "SCRSD_SUBB_MEDTIB          None          0       {}                1   \n",
       "SCR_5PC_SUBB_MEDTIB        None          0       {}                1   \n",
       "SCR_95PC_SUBB_MEDTIB       None          0       {}                1   \n",
       "SUBBAREA_LATTIB            None          0     None                0   \n",
       "CURAVERAGE_SUBB_LATTIB     None          0       {}                1   \n",
       "CURSD_SUBB_LATTIB          None          0       {}                1   \n",
       "CUR_5PC_SUBB_LATTIB        None          0       {}                1   \n",
       "CUR_95PC_SUBB_LATTIB       None          0       {}                1   \n",
       "SCRAVERAGE_SUBB_LATTIB     None          0       {}                1   \n",
       "SCRSD_SUBB_LATTIB          None          0       {}                1   \n",
       "SCR_5PC_SUBB_LATTIB        None          0       {}                1   \n",
       "SCR_95PC_SUBB_LATTIB       None          0       {}                1   \n",
       "\n",
       "                       missing_val_list numeric_str num_type  uniq_num  \\\n",
       "col                                                                      \n",
       "READPRJ                              {}        True     None       NaN   \n",
       "SUBBAREA_MEDFEM                    None        None    float    1753.0   \n",
       "CURAVERAGE_SUBB_MEDFEM              {T}       False    float    1675.0   \n",
       "CURSD_SUBB_MEDFEM                   {T}       False    float    1678.0   \n",
       "CUR_5PC_SUBB_MEDFEM                 {T}       False    float    1733.0   \n",
       "CUR_95PC_SUBB_MEDFEM                {T}       False    float    1714.0   \n",
       "SCRAVERAGE_SUBB_MEDFEM              {T}       False    float    1742.0   \n",
       "SCRSD_SUBB_MEDFEM                   {T}       False    float    1741.0   \n",
       "SCR_5PC_SUBB_MEDFEM                 {T}       False    float    1742.0   \n",
       "SCR_95PC_SUBB_MEDFEM                {T}       False    float    1744.0   \n",
       "SUBBAREA_LATFEM                    None        None    float    1768.0   \n",
       "CURAVERAGE_SUBB_LATFEM              {T}       False    float    1684.0   \n",
       "CURSD_SUBB_LATFEM                   {T}       False    float    1685.0   \n",
       "CUR_5PC_SUBB_LATFEM                 {T}       False    float    1749.0   \n",
       "CUR_95PC_SUBB_LATFEM                {T}       False    float    1737.0   \n",
       "SCRAVERAGE_SUBB_LATFEM              {T}       False    float    1756.0   \n",
       "SCRSD_SUBB_LATFEM                   {T}       False    float    1750.0   \n",
       "SCR_5PC_SUBB_LATFEM                 {T}       False    float    1754.0   \n",
       "SCR_95PC_SUBB_LATFEM                {T}       False    float    1755.0   \n",
       "SUBBAREA_MEDTIB                    None        None    float    1756.0   \n",
       "CURAVERAGE_SUBB_MEDTIB              {T}       False    float    1693.0   \n",
       "CURSD_SUBB_MEDTIB                   {T}       False    float    1678.0   \n",
       "CUR_5PC_SUBB_MEDTIB                 {T}       False    float    1734.0   \n",
       "CUR_95PC_SUBB_MEDTIB                {T}       False    float    1733.0   \n",
       "SCRAVERAGE_SUBB_MEDTIB              {T}       False    float    1744.0   \n",
       "SCRSD_SUBB_MEDTIB                   {T}       False    float    1739.0   \n",
       "SCR_5PC_SUBB_MEDTIB                 {T}       False    float    1746.0   \n",
       "SCR_95PC_SUBB_MEDTIB                {T}       False    float    1745.0   \n",
       "SUBBAREA_LATTIB                    None        None    float    1762.0   \n",
       "CURAVERAGE_SUBB_LATTIB              {T}       False    float    1694.0   \n",
       "CURSD_SUBB_LATTIB                   {T}       False    float    1682.0   \n",
       "CUR_5PC_SUBB_LATTIB                 {T}       False    float    1728.0   \n",
       "CUR_95PC_SUBB_LATTIB                {T}       False    float    1733.0   \n",
       "SCRAVERAGE_SUBB_LATTIB              {T}       False    float    1752.0   \n",
       "SCRSD_SUBB_LATTIB                   {T}       False    float    1750.0   \n",
       "SCR_5PC_SUBB_LATTIB                 {T}       False    float    1751.0   \n",
       "SCR_95PC_SUBB_LATTIB                {T}       False    float    1750.0   \n",
       "\n",
       "                            max_num     min_num  str_cnt  num_cnt  date_cnt  \\\n",
       "col                                                                           \n",
       "READPRJ                         NaN         NaN     1800        0         0   \n",
       "SUBBAREA_MEDFEM         1470.547500  387.191531        0     1752         0   \n",
       "CURAVERAGE_SUBB_MEDFEM     0.046131    0.007478       48     1752         0   \n",
       "CURSD_SUBB_MEDFEM          0.070508    0.017858       48     1752         0   \n",
       "CUR_5PC_SUBB_MEDFEM       -0.006122   -0.145420       48     1752         0   \n",
       "CUR_95PC_SUBB_MEDFEM       0.177308    0.051765       48     1752         0   \n",
       "SCRAVERAGE_SUBB_MEDFEM     7.332705    1.519780       56     1744         0   \n",
       "SCRSD_SUBB_MEDFEM          1.742045    0.724587       56     1744         0   \n",
       "SCR_5PC_SUBB_MEDFEM        3.765704   -0.753886       56     1744         0   \n",
       "SCR_95PC_SUBB_MEDFEM       9.306610    3.395922       56     1744         0   \n",
       "SUBBAREA_LATFEM         1239.402560  515.889708        0     1767         0   \n",
       "CURAVERAGE_SUBB_LATFEM     0.039625    0.008844       33     1767         0   \n",
       "CURSD_SUBB_LATFEM          0.055663    0.017013       33     1767         0   \n",
       "CUR_5PC_SUBB_LATFEM       -0.004400   -0.127404       33     1767         0   \n",
       "CUR_95PC_SUBB_LATFEM       0.176424    0.054201       33     1767         0   \n",
       "SCRAVERAGE_SUBB_LATFEM     5.408232    1.655995       44     1756         0   \n",
       "SCRSD_SUBB_LATFEM          1.525225    0.661998       44     1756         0   \n",
       "SCR_5PC_SUBB_LATFEM        2.866116   -0.424676       44     1756         0   \n",
       "SCR_95PC_SUBB_LATFEM       7.303925    3.118081       44     1756         0   \n",
       "SUBBAREA_MEDTIB         1483.303412  510.740844        0     1755         0   \n",
       "CURAVERAGE_SUBB_MEDTIB    -0.012212   -0.058135       45     1755         0   \n",
       "CURSD_SUBB_MEDTIB          0.070378    0.022997       45     1755         0   \n",
       "CUR_5PC_SUBB_MEDTIB       -0.071242   -0.272859       45     1755         0   \n",
       "CUR_95PC_SUBB_MEDTIB       0.108811   -0.011061       45     1755         0   \n",
       "SCRAVERAGE_SUBB_MEDTIB     6.560356    1.318052       54     1746         0   \n",
       "SCRSD_SUBB_MEDTIB          1.629176    0.716892       54     1746         0   \n",
       "SCR_5PC_SUBB_MEDTIB        3.127868   -0.644436       54     1746         0   \n",
       "SCR_95PC_SUBB_MEDTIB       9.330834    3.175507       54     1746         0   \n",
       "SUBBAREA_LATTIB         1335.794058  482.382598        0     1761         0   \n",
       "CURAVERAGE_SUBB_LATTIB     0.004498   -0.038744       39     1761         0   \n",
       "CURSD_SUBB_LATTIB          0.063303    0.022331       39     1761         0   \n",
       "CUR_5PC_SUBB_LATTIB       -0.045302   -0.205849       39     1761         0   \n",
       "CUR_95PC_SUBB_LATTIB       0.136090    0.026429       39     1761         0   \n",
       "SCRAVERAGE_SUBB_LATTIB     5.396767    1.346824       48     1752         0   \n",
       "SCRSD_SUBB_LATTIB          1.383082    0.526135       48     1752         0   \n",
       "SCR_5PC_SUBB_LATTIB        2.575773   -0.960821       48     1752         0   \n",
       "SCR_95PC_SUBB_LATTIB       7.868507    2.710842       48     1752         0   \n",
       "\n",
       "                        na_cnt  \n",
       "col                             \n",
       "READPRJ                      0  \n",
       "SUBBAREA_MEDFEM             48  \n",
       "CURAVERAGE_SUBB_MEDFEM       0  \n",
       "CURSD_SUBB_MEDFEM            0  \n",
       "CUR_5PC_SUBB_MEDFEM          0  \n",
       "CUR_95PC_SUBB_MEDFEM         0  \n",
       "SCRAVERAGE_SUBB_MEDFEM       0  \n",
       "SCRSD_SUBB_MEDFEM            0  \n",
       "SCR_5PC_SUBB_MEDFEM          0  \n",
       "SCR_95PC_SUBB_MEDFEM         0  \n",
       "SUBBAREA_LATFEM             33  \n",
       "CURAVERAGE_SUBB_LATFEM       0  \n",
       "CURSD_SUBB_LATFEM            0  \n",
       "CUR_5PC_SUBB_LATFEM          0  \n",
       "CUR_95PC_SUBB_LATFEM         0  \n",
       "SCRAVERAGE_SUBB_LATFEM       0  \n",
       "SCRSD_SUBB_LATFEM            0  \n",
       "SCR_5PC_SUBB_LATFEM          0  \n",
       "SCR_95PC_SUBB_LATFEM         0  \n",
       "SUBBAREA_MEDTIB             45  \n",
       "CURAVERAGE_SUBB_MEDTIB       0  \n",
       "CURSD_SUBB_MEDTIB            0  \n",
       "CUR_5PC_SUBB_MEDTIB          0  \n",
       "CUR_95PC_SUBB_MEDTIB         0  \n",
       "SCRAVERAGE_SUBB_MEDTIB       0  \n",
       "SCRSD_SUBB_MEDTIB            0  \n",
       "SCR_5PC_SUBB_MEDTIB          0  \n",
       "SCR_95PC_SUBB_MEDTIB         0  \n",
       "SUBBAREA_LATTIB             39  \n",
       "CURAVERAGE_SUBB_LATTIB       0  \n",
       "CURSD_SUBB_LATTIB            0  \n",
       "CUR_5PC_SUBB_LATTIB          0  \n",
       "CUR_95PC_SUBB_LATTIB         0  \n",
       "SCRAVERAGE_SUBB_LATTIB       0  \n",
       "SCRSD_SUBB_LATTIB            0  \n",
       "SCR_5PC_SUBB_LATTIB          0  \n",
       "SCR_95PC_SUBB_LATTIB         0  "
      ]
     },
     "execution_count": 151,
     "metadata": {},
     "output_type": "execute_result"
    }
   ],
   "source": [
    "data_stats_summary(tmp_df, data_stats_df)\n",
    "data_stats_df"
   ]
  },
  {
   "cell_type": "code",
   "execution_count": 152,
   "id": "dd1cb9fd",
   "metadata": {
    "execution": {
     "iopub.execute_input": "2023-12-21T21:03:20.201410Z",
     "iopub.status.busy": "2023-12-21T21:03:20.200943Z",
     "iopub.status.idle": "2023-12-21T21:03:20.213864Z",
     "shell.execute_reply": "2023-12-21T21:03:20.213097Z",
     "shell.execute_reply.started": "2023-12-21T21:03:20.201378Z"
    },
    "pycharm": {
     "name": "#%%\n"
    }
   },
   "outputs": [
    {
     "name": "stdout",
     "output_type": "stream",
     "text": [
      "targets = {\n",
      "# Columns with only floats, missing, and NA values\n",
      "'float': ['SUBBAREA_MEDFEM', 'CURAVERAGE_SUBB_MEDFEM', 'CURSD_SUBB_MEDFEM', 'CUR_5PC_SUBB_MEDFEM', 'CUR_95PC_SUBB_MEDFEM', 'SCRAVERAGE_SUBB_MEDFEM', 'SCRSD_SUBB_MEDFEM', 'SCR_5PC_SUBB_MEDFEM', 'SCR_95PC_SUBB_MEDFEM', 'SUBBAREA_LATFEM', 'CURAVERAGE_SUBB_LATFEM', 'CURSD_SUBB_LATFEM', 'CUR_5PC_SUBB_LATFEM', 'CUR_95PC_SUBB_LATFEM', 'SCRAVERAGE_SUBB_LATFEM', 'SCRSD_SUBB_LATFEM', 'SCR_5PC_SUBB_LATFEM', 'SCR_95PC_SUBB_LATFEM', 'SUBBAREA_MEDTIB', 'CURAVERAGE_SUBB_MEDTIB', 'CURSD_SUBB_MEDTIB', 'CUR_5PC_SUBB_MEDTIB', 'CUR_95PC_SUBB_MEDTIB', 'SCRAVERAGE_SUBB_MEDTIB', 'SCRSD_SUBB_MEDTIB', 'SCR_5PC_SUBB_MEDTIB', 'SCR_95PC_SUBB_MEDTIB', 'SUBBAREA_LATTIB', 'CURAVERAGE_SUBB_LATTIB', 'CURSD_SUBB_LATTIB', 'CUR_5PC_SUBB_LATTIB', 'CUR_95PC_SUBB_LATTIB', 'SCRAVERAGE_SUBB_LATTIB', 'SCRSD_SUBB_LATTIB', 'SCR_5PC_SUBB_LATTIB', 'SCR_95PC_SUBB_LATTIB'],\n",
      "\n",
      "# Columns with only strings, missing, and NA values\n",
      "'cat': ['READPRJ'],\n",
      "\n",
      "}\n",
      "\n",
      "\n",
      "Handled columns: 37\n"
     ]
    }
   ],
   "source": [
    "suggest_conversions(data_stats_df)"
   ]
  },
  {
   "cell_type": "code",
   "execution_count": 153,
   "id": "0230c160",
   "metadata": {
    "execution": {
     "iopub.execute_input": "2023-12-21T21:03:20.215766Z",
     "iopub.status.busy": "2023-12-21T21:03:20.215353Z",
     "iopub.status.idle": "2023-12-21T21:03:20.363955Z",
     "shell.execute_reply": "2023-12-21T21:03:20.363158Z",
     "shell.execute_reply.started": "2023-12-21T21:03:20.215735Z"
    },
    "pycharm": {
     "name": "#%%\n"
    }
   },
   "outputs": [],
   "source": [
    "targets = {\n",
    "# Columns with only floats, missing, and NA values\n",
    "'float': ['SUBBAREA_MEDFEM', 'CURAVERAGE_SUBB_MEDFEM', 'CURSD_SUBB_MEDFEM', 'CUR_5PC_SUBB_MEDFEM', 'CUR_95PC_SUBB_MEDFEM', 'SCRAVERAGE_SUBB_MEDFEM', 'SCRSD_SUBB_MEDFEM', 'SCR_5PC_SUBB_MEDFEM', 'SCR_95PC_SUBB_MEDFEM', 'SUBBAREA_LATFEM', 'CURAVERAGE_SUBB_LATFEM', 'CURSD_SUBB_LATFEM', 'CUR_5PC_SUBB_LATFEM', 'CUR_95PC_SUBB_LATFEM', 'SCRAVERAGE_SUBB_LATFEM', 'SCRSD_SUBB_LATFEM', 'SCR_5PC_SUBB_LATFEM', 'SCR_95PC_SUBB_LATFEM', 'SUBBAREA_MEDTIB', 'CURAVERAGE_SUBB_MEDTIB', 'CURSD_SUBB_MEDTIB', 'CUR_5PC_SUBB_MEDTIB', 'CUR_95PC_SUBB_MEDTIB', 'SCRAVERAGE_SUBB_MEDTIB', 'SCRSD_SUBB_MEDTIB', 'SCR_5PC_SUBB_MEDTIB', 'SCR_95PC_SUBB_MEDTIB', 'SUBBAREA_LATTIB', 'CURAVERAGE_SUBB_LATTIB', 'CURSD_SUBB_LATTIB', 'CUR_5PC_SUBB_LATTIB', 'CUR_95PC_SUBB_LATTIB', 'SCRAVERAGE_SUBB_LATTIB', 'SCRSD_SUBB_LATTIB', 'SCR_5PC_SUBB_LATTIB', 'SCR_95PC_SUBB_LATTIB'],\n",
    "\n",
    "}\n",
    "\n",
    "new_df, missing_df = convert_columns(targets, data_stats_df, tmp_df)"
   ]
  },
  {
   "cell_type": "code",
   "execution_count": 154,
   "id": "d6f48979",
   "metadata": {
    "execution": {
     "iopub.execute_input": "2023-12-21T21:03:20.365645Z",
     "iopub.status.busy": "2023-12-21T21:03:20.365298Z",
     "iopub.status.idle": "2023-12-21T21:03:20.396387Z",
     "shell.execute_reply": "2023-12-21T21:03:20.395591Z",
     "shell.execute_reply.started": "2023-12-21T21:03:20.365614Z"
    },
    "pycharm": {
     "name": "#%%\n"
    }
   },
   "outputs": [
    {
     "name": "stdout",
     "output_type": "stream",
     "text": [
      "Columns still object type:  ['READPRJ']\n",
      "\n",
      "VERSION                   category\n",
      "SIDE                      category\n",
      "READPRJ                     object\n",
      "SUBBAREA_MEDFEM            float32\n",
      "CURAVERAGE_SUBB_MEDFEM     float32\n",
      "CURSD_SUBB_MEDFEM          float32\n",
      "CUR_5PC_SUBB_MEDFEM        float32\n",
      "CUR_95PC_SUBB_MEDFEM       float32\n",
      "SCRAVERAGE_SUBB_MEDFEM     float32\n",
      "SCRSD_SUBB_MEDFEM          float32\n",
      "SCR_5PC_SUBB_MEDFEM        float32\n",
      "SCR_95PC_SUBB_MEDFEM       float32\n",
      "SUBBAREA_LATFEM            float32\n",
      "CURAVERAGE_SUBB_LATFEM     float32\n",
      "CURSD_SUBB_LATFEM          float32\n",
      "CUR_5PC_SUBB_LATFEM        float32\n",
      "CUR_95PC_SUBB_LATFEM       float32\n",
      "SCRAVERAGE_SUBB_LATFEM     float32\n",
      "SCRSD_SUBB_LATFEM          float32\n",
      "SCR_5PC_SUBB_LATFEM        float32\n",
      "SCR_95PC_SUBB_LATFEM       float32\n",
      "SUBBAREA_MEDTIB            float32\n",
      "CURAVERAGE_SUBB_MEDTIB     float32\n",
      "CURSD_SUBB_MEDTIB          float32\n",
      "CUR_5PC_SUBB_MEDTIB        float32\n",
      "CUR_95PC_SUBB_MEDTIB       float32\n",
      "SCRAVERAGE_SUBB_MEDTIB     float32\n",
      "SCRSD_SUBB_MEDTIB          float32\n",
      "SCR_5PC_SUBB_MEDTIB        float32\n",
      "SCR_95PC_SUBB_MEDTIB       float32\n",
      "SUBBAREA_LATTIB            float32\n",
      "CURAVERAGE_SUBB_LATTIB     float32\n",
      "CURSD_SUBB_LATTIB          float32\n",
      "CUR_5PC_SUBB_LATTIB        float32\n",
      "CUR_95PC_SUBB_LATTIB       float32\n",
      "SCRAVERAGE_SUBB_LATTIB     float32\n",
      "SCRSD_SUBB_LATTIB          float32\n",
      "SCR_5PC_SUBB_LATTIB        float32\n",
      "SCR_95PC_SUBB_LATTIB       float32\n",
      "dtype: object\n",
      "\n",
      "Missing values present, shadow dataframe created.\n",
      "              CURAVERAGE_SUBB_MEDFEM CURSD_SUBB_MEDFEM CUR_5PC_SUBB_MEDFEM  \\\n",
      "ID      Visit                                                                \n",
      "9001695 V00                      NaN               NaN                 NaN   \n",
      "9002116 V00                      NaN               NaN                 NaN   \n",
      "9002430 V00                      NaN               NaN                 NaN   \n",
      "9002817 V00                      NaN               NaN                 NaN   \n",
      "9003316 V00                      NaN               NaN                 NaN   \n",
      "...                              ...               ...                 ...   \n",
      "9993833 V03                      NaN               NaN                 NaN   \n",
      "9994408 V03                      NaN               NaN                 NaN   \n",
      "9995338 V03                      NaN               NaN                 NaN   \n",
      "9996098 V03                      NaN               NaN                 NaN   \n",
      "9997381 V03                      NaN               NaN                 NaN   \n",
      "\n",
      "              CUR_95PC_SUBB_MEDFEM SCRAVERAGE_SUBB_MEDFEM SCRSD_SUBB_MEDFEM  \\\n",
      "ID      Visit                                                                 \n",
      "9001695 V00                    NaN                    NaN               NaN   \n",
      "9002116 V00                    NaN                    NaN               NaN   \n",
      "9002430 V00                    NaN                    NaN               NaN   \n",
      "9002817 V00                    NaN                    NaN               NaN   \n",
      "9003316 V00                    NaN                    NaN               NaN   \n",
      "...                            ...                    ...               ...   \n",
      "9993833 V03                    NaN                    NaN               NaN   \n",
      "9994408 V03                    NaN                    NaN               NaN   \n",
      "9995338 V03                    NaN                    NaN               NaN   \n",
      "9996098 V03                    NaN                    NaN               NaN   \n",
      "9997381 V03                    NaN                    NaN               NaN   \n",
      "\n",
      "              SCR_5PC_SUBB_MEDFEM SCR_95PC_SUBB_MEDFEM CURAVERAGE_SUBB_LATFEM  \\\n",
      "ID      Visit                                                                   \n",
      "9001695 V00                   NaN                  NaN                    NaN   \n",
      "9002116 V00                   NaN                  NaN                    NaN   \n",
      "9002430 V00                   NaN                  NaN                    NaN   \n",
      "9002817 V00                   NaN                  NaN                    NaN   \n",
      "9003316 V00                   NaN                  NaN                    NaN   \n",
      "...                           ...                  ...                    ...   \n",
      "9993833 V03                   NaN                  NaN                    NaN   \n",
      "9994408 V03                   NaN                  NaN                    NaN   \n",
      "9995338 V03                   NaN                  NaN                    NaN   \n",
      "9996098 V03                   NaN                  NaN                    NaN   \n",
      "9997381 V03                   NaN                  NaN                    NaN   \n",
      "\n",
      "              CURSD_SUBB_LATFEM  ... SCR_5PC_SUBB_MEDTIB SCR_95PC_SUBB_MEDTIB  \\\n",
      "ID      Visit                    ...                                            \n",
      "9001695 V00                 NaN  ...                 NaN                  NaN   \n",
      "9002116 V00                 NaN  ...                 NaN                  NaN   \n",
      "9002430 V00                 NaN  ...                 NaN                  NaN   \n",
      "9002817 V00                 NaN  ...                 NaN                  NaN   \n",
      "9003316 V00                 NaN  ...                 NaN                  NaN   \n",
      "...                         ...  ...                 ...                  ...   \n",
      "9993833 V03                 NaN  ...                 NaN                  NaN   \n",
      "9994408 V03                 NaN  ...                 NaN                  NaN   \n",
      "9995338 V03                 NaN  ...                 NaN                  NaN   \n",
      "9996098 V03                 NaN  ...                 NaN                  NaN   \n",
      "9997381 V03                 NaN  ...                 NaN                  NaN   \n",
      "\n",
      "              CURAVERAGE_SUBB_LATTIB CURSD_SUBB_LATTIB CUR_5PC_SUBB_LATTIB  \\\n",
      "ID      Visit                                                                \n",
      "9001695 V00                      NaN               NaN                 NaN   \n",
      "9002116 V00                      NaN               NaN                 NaN   \n",
      "9002430 V00                      NaN               NaN                 NaN   \n",
      "9002817 V00                      NaN               NaN                 NaN   \n",
      "9003316 V00                      NaN               NaN                 NaN   \n",
      "...                              ...               ...                 ...   \n",
      "9993833 V03                      NaN               NaN                 NaN   \n",
      "9994408 V03                      NaN               NaN                 NaN   \n",
      "9995338 V03                      NaN               NaN                 NaN   \n",
      "9996098 V03                      NaN               NaN                 NaN   \n",
      "9997381 V03                      NaN               NaN                 NaN   \n",
      "\n",
      "              CUR_95PC_SUBB_LATTIB SCRAVERAGE_SUBB_LATTIB SCRSD_SUBB_LATTIB  \\\n",
      "ID      Visit                                                                 \n",
      "9001695 V00                    NaN                    NaN               NaN   \n",
      "9002116 V00                    NaN                    NaN               NaN   \n",
      "9002430 V00                    NaN                    NaN               NaN   \n",
      "9002817 V00                    NaN                    NaN               NaN   \n",
      "9003316 V00                    NaN                    NaN               NaN   \n",
      "...                            ...                    ...               ...   \n",
      "9993833 V03                    NaN                    NaN               NaN   \n",
      "9994408 V03                    NaN                    NaN               NaN   \n",
      "9995338 V03                    NaN                    NaN               NaN   \n",
      "9996098 V03                    NaN                    NaN               NaN   \n",
      "9997381 V03                    NaN                    NaN               NaN   \n",
      "\n",
      "              SCR_5PC_SUBB_LATTIB SCR_95PC_SUBB_LATTIB  \n",
      "ID      Visit                                           \n",
      "9001695 V00                   NaN                  NaN  \n",
      "9002116 V00                   NaN                  NaN  \n",
      "9002430 V00                   NaN                  NaN  \n",
      "9002817 V00                   NaN                  NaN  \n",
      "9003316 V00                   NaN                  NaN  \n",
      "...                           ...                  ...  \n",
      "9993833 V03                   NaN                  NaN  \n",
      "9994408 V03                   NaN                  NaN  \n",
      "9995338 V03                   NaN                  NaN  \n",
      "9996098 V03                   NaN                  NaN  \n",
      "9997381 V03                   NaN                  NaN  \n",
      "\n",
      "[1800 rows x 32 columns]\n"
     ]
    }
   ],
   "source": [
    "sanity_check(new_df)\n",
    "print()\n",
    "print(new_df.dtypes)\n",
    "if not missing_df.empty:\n",
    "    print('\\nMissing values present, shadow dataframe created.')\n",
    "    print(missing_df)"
   ]
  },
  {
   "cell_type": "code",
   "execution_count": 155,
   "id": "cebb17e8",
   "metadata": {
    "execution": {
     "iopub.execute_input": "2023-12-21T21:03:20.398211Z",
     "iopub.status.busy": "2023-12-21T21:03:20.397926Z",
     "iopub.status.idle": "2023-12-21T21:03:20.409167Z",
     "shell.execute_reply": "2023-12-21T21:03:20.408418Z",
     "shell.execute_reply.started": "2023-12-21T21:03:20.398185Z"
    },
    "pycharm": {
     "name": "#%%\n"
    }
   },
   "outputs": [
    {
     "name": "stdout",
     "output_type": "stream",
     "text": [
      "\n",
      "Final dataframe size: 0.38MB\n",
      "Shadow dataframe size: 0.08MB\n"
     ]
    }
   ],
   "source": [
    "print('\\nFinal dataframe size: {:.2f}MB'.format(new_df.memory_usage(deep=True).sum() / (1024**2)))\n",
    "print('Shadow dataframe size: {:.2f}MB'.format(missing_df.memory_usage(deep=True).sum() / (1024**2)))"
   ]
  },
  {
   "cell_type": "code",
   "execution_count": 156,
   "id": "3ee33a0b-4a33-41c6-8485-cbf88a163852",
   "metadata": {
    "execution": {
     "iopub.execute_input": "2023-12-21T21:03:20.410710Z",
     "iopub.status.busy": "2023-12-21T21:03:20.410427Z",
     "iopub.status.idle": "2023-12-21T21:03:20.452136Z",
     "shell.execute_reply": "2023-12-21T21:03:20.451344Z",
     "shell.execute_reply.started": "2023-12-21T21:03:20.410684Z"
    }
   },
   "outputs": [],
   "source": [
    "utils.write_parquet(new_df, 'data/' + prefix + '_values.parquet')\n",
    "if not missing_df.empty:\n",
    "    utils.write_parquet(new_df, 'data/' + prefix + '_missing_values.parquet', verbose=False)"
   ]
  },
  {
   "cell_type": "markdown",
   "id": "f4a4cdbf",
   "metadata": {
    "tags": []
   },
   "source": [
    "## kmri_fnih_sq_moaks_bicl"
   ]
  },
  {
   "cell_type": "code",
   "execution_count": 157,
   "id": "891f872c",
   "metadata": {
    "execution": {
     "iopub.execute_input": "2023-12-21T21:03:20.453757Z",
     "iopub.status.busy": "2023-12-21T21:03:20.453256Z",
     "iopub.status.idle": "2023-12-21T21:03:25.558699Z",
     "shell.execute_reply": "2023-12-21T21:03:25.557714Z",
     "shell.execute_reply.started": "2023-12-21T21:03:20.453725Z"
    },
    "pycharm": {
     "name": "#%%\n"
    }
   },
   "outputs": [
    {
     "name": "stdout",
     "output_type": "stream",
     "text": [
      "\n",
      "kmri_fnih_sq_moaks_bicl00.sas7bdat: (600, 122)\n",
      "['ID', 'SIDE', 'VERSION', 'READPRJ', 'READER', 'MCMPM', 'MCMPL', 'MCMFMA', 'MCMFLA', 'MCMFMP', 'MCMFLP', 'MCMFMC', 'MCMFLC', 'MCMTMA', 'MCMTLA', 'MCMTMC', 'MCMTLC', 'MCMTMP', 'MCMTLP', 'MBMSFMA', 'MBMPFMA', 'MBMNFMA', 'MBMSFLA', 'MBMPFLA', 'MBMNFLA', 'MBMSFMC', 'MBMPFMC', 'MBMNFMC', 'MBMSFLC', 'MBMPFLC', 'MBMNFLC', 'MBMSFMP', 'MBMPFMP', 'MBMNFMP', 'MBMSFLP', 'MBMPFLP', 'MBMNFLP', 'MBMSSS', 'MBMPSS', 'MBMNSS', 'MBMSTMA', 'MBMPTMA', 'MBMNTMA', 'MBMSTLA', 'MBMPTLA', 'MBMNTLA', 'MBMSTMC', 'MBMPTMC', 'MBMNTMC', 'MBMSTLC', 'MBMPTLC', 'MBMNTLC', 'MBMSTMP', 'MBMPTMP', 'MBMNTMP', 'MBMSTLP', 'MBMPTLP', 'MBMNTLP', 'MBMSPM', 'MBMPPM', 'MBMNPM', 'MBMSPL', 'MBMPPL', 'MBMNPL', 'MMTMA', 'MMTLA', 'MMTMB', 'MMTLB', 'MMTMP', 'MMTLP', 'MMHMA', 'MMHLA', 'MMHMB', 'MMHLB', 'MMHMP', 'MMHLP', 'MMSMA', 'MMSLA', 'MMSMB', 'MMSLB', 'MMSMP', 'MMSLP', 'MMXMM', 'MMXMA', 'MMXLA', 'MMXLL', 'MMRTM', 'MMRTL', 'MOSPS', 'MOSPI', 'MOSPM', 'MOSPL', 'MOSFMA', 'MOSFLA', 'MOSFMP', 'MOSFLP', 'MOSFMC', 'MOSFLC', 'MOSTM', 'MOSTL', 'MACLTR', 'MACLBML', 'MACLRP', 'MPCLTR', 'MPCLBML', 'MPCLRP', 'MPTSIG', 'MGCACL', 'MGCPCL', 'MGCTIB', 'MGCSM', 'MGSST', 'MGCOTH', 'MANSBUR', 'MIPBUR', 'MPPBUR', 'MSYIC', 'MEFFWK', 'MITBSIG', 'MPOPCYS', 'MCMNTS', 'MTCMNTS']\n",
      "\n",
      "kmri_fnih_sq_moaks_bicl01.sas7bdat: (600, 122)\n",
      "\n",
      "kmri_fnih_sq_moaks_bicl03.sas7bdat: (600, 122)\n",
      "\n",
      "Total rows: 1800\n"
     ]
    }
   ],
   "source": [
    "prefix = 'kmri_fnih_sq_moaks_bicl'\n",
    "column_uniformity_check(prefix)"
   ]
  },
  {
   "cell_type": "code",
   "execution_count": 158,
   "id": "55378b3d",
   "metadata": {
    "execution": {
     "iopub.execute_input": "2023-12-21T21:03:25.560751Z",
     "iopub.status.busy": "2023-12-21T21:03:25.560466Z",
     "iopub.status.idle": "2023-12-21T21:03:29.969732Z",
     "shell.execute_reply": "2023-12-21T21:03:29.968897Z",
     "shell.execute_reply.started": "2023-12-21T21:03:25.560721Z"
    },
    "pycharm": {
     "name": "#%%\n"
    }
   },
   "outputs": [
    {
     "name": "stdout",
     "output_type": "stream",
     "text": [
      "kmri_fnih_sq_moaks_bicl00.sas7bdat\tVar Cnt: 122\n",
      "Visits: ['V00']\n",
      "kmri_fnih_sq_moaks_bicl01.sas7bdat\tVar Cnt: 122\n",
      "Visits: ['V01']\n",
      "kmri_fnih_sq_moaks_bicl03.sas7bdat\tVar Cnt: 122\n",
      "Visits: ['V03']\n",
      "(1800, 123)\n",
      "\n",
      "Starting dataframe size: 1.79MB\n"
     ]
    }
   ],
   "source": [
    "tmp_df = create_df(prefix)\n",
    "print(tmp_df.shape)\n",
    "print('\\nStarting dataframe size: {:.2f}MB'.format(tmp_df.memory_usage(deep=True).sum() / (1024**2)))"
   ]
  },
  {
   "cell_type": "code",
   "execution_count": 159,
   "id": "16e3303d",
   "metadata": {
    "execution": {
     "iopub.execute_input": "2023-12-21T21:03:29.971643Z",
     "iopub.status.busy": "2023-12-21T21:03:29.971370Z",
     "iopub.status.idle": "2023-12-21T21:03:30.073589Z",
     "shell.execute_reply": "2023-12-21T21:03:30.072803Z",
     "shell.execute_reply.started": "2023-12-21T21:03:29.971615Z"
    },
    "pycharm": {
     "name": "#%%\n"
    }
   },
   "outputs": [],
   "source": [
    "data_stats_df, done_df = gather_column_data_stats(tmp_df)"
   ]
  },
  {
   "cell_type": "code",
   "execution_count": 160,
   "id": "8967bcd2",
   "metadata": {
    "execution": {
     "iopub.execute_input": "2023-12-21T21:03:30.075388Z",
     "iopub.status.busy": "2023-12-21T21:03:30.074919Z",
     "iopub.status.idle": "2023-12-21T21:03:30.120884Z",
     "shell.execute_reply": "2023-12-21T21:03:30.120028Z",
     "shell.execute_reply.started": "2023-12-21T21:03:30.075353Z"
    },
    "pycharm": {
     "name": "#%%\n"
    }
   },
   "outputs": [
    {
     "name": "stdout",
     "output_type": "stream",
     "text": [
      "Already defined cols: 104 \tCols to convert: 19\t Total col cnt: 123\n",
      "\n",
      "Column types to convert:\n",
      "   str_cnt  num_cnt  date_cnt  na_cnt  count\n",
      "0     True    False     False   False      4\n",
      "1     True     True     False   False     15\n",
      "\n",
      "Numeric types of columns:\n",
      "num_type\n",
      "unsigned    15\n",
      "Name: count, dtype: int64\n",
      "\n",
      "Largest number of unique strings: 50\n"
     ]
    },
    {
     "data": {
      "text/html": [
       "<div>\n",
       "<style scoped>\n",
       "    .dataframe tbody tr th:only-of-type {\n",
       "        vertical-align: middle;\n",
       "    }\n",
       "\n",
       "    .dataframe tbody tr th {\n",
       "        vertical-align: top;\n",
       "    }\n",
       "\n",
       "    .dataframe thead th {\n",
       "        text-align: right;\n",
       "    }\n",
       "</style>\n",
       "<table border=\"1\" class=\"dataframe\">\n",
       "  <thead>\n",
       "    <tr style=\"text-align: right;\">\n",
       "      <th></th>\n",
       "      <th>label</th>\n",
       "      <th>uniq_strs</th>\n",
       "      <th>str_list</th>\n",
       "      <th>missing_val_cnt</th>\n",
       "      <th>missing_val_list</th>\n",
       "      <th>numeric_str</th>\n",
       "      <th>num_type</th>\n",
       "      <th>uniq_num</th>\n",
       "      <th>max_num</th>\n",
       "      <th>min_num</th>\n",
       "      <th>str_cnt</th>\n",
       "      <th>num_cnt</th>\n",
       "      <th>date_cnt</th>\n",
       "      <th>na_cnt</th>\n",
       "    </tr>\n",
       "    <tr>\n",
       "      <th>col</th>\n",
       "      <th></th>\n",
       "      <th></th>\n",
       "      <th></th>\n",
       "      <th></th>\n",
       "      <th></th>\n",
       "      <th></th>\n",
       "      <th></th>\n",
       "      <th></th>\n",
       "      <th></th>\n",
       "      <th></th>\n",
       "      <th></th>\n",
       "      <th></th>\n",
       "      <th></th>\n",
       "      <th></th>\n",
       "    </tr>\n",
       "  </thead>\n",
       "  <tbody>\n",
       "    <tr>\n",
       "      <th>READPRJ</th>\n",
       "      <td>Project</td>\n",
       "      <td>1</td>\n",
       "      <td>{22}</td>\n",
       "      <td>0</td>\n",
       "      <td>{}</td>\n",
       "      <td>True</td>\n",
       "      <td>None</td>\n",
       "      <td>NaN</td>\n",
       "      <td>NaN</td>\n",
       "      <td>NaN</td>\n",
       "      <td>1800</td>\n",
       "      <td>0</td>\n",
       "      <td>0</td>\n",
       "      <td>0</td>\n",
       "    </tr>\n",
       "    <tr>\n",
       "      <th>READER</th>\n",
       "      <td>BL/FU kMRI reading (BI): reader</td>\n",
       "      <td>2</td>\n",
       "      <td>{R02, R01}</td>\n",
       "      <td>0</td>\n",
       "      <td>{}</td>\n",
       "      <td>False</td>\n",
       "      <td>None</td>\n",
       "      <td>NaN</td>\n",
       "      <td>NaN</td>\n",
       "      <td>NaN</td>\n",
       "      <td>1800</td>\n",
       "      <td>0</td>\n",
       "      <td>0</td>\n",
       "      <td>0</td>\n",
       "    </tr>\n",
       "    <tr>\n",
       "      <th>MBMNFMA</th>\n",
       "      <td>BL/FU kMRI reading (BI): MOAKS: number of BML ...</td>\n",
       "      <td>0</td>\n",
       "      <td>{}</td>\n",
       "      <td>1</td>\n",
       "      <td>{U}</td>\n",
       "      <td>False</td>\n",
       "      <td>unsigned</td>\n",
       "      <td>5.0</td>\n",
       "      <td>3.0</td>\n",
       "      <td>0.0</td>\n",
       "      <td>1</td>\n",
       "      <td>1781</td>\n",
       "      <td>0</td>\n",
       "      <td>0</td>\n",
       "    </tr>\n",
       "    <tr>\n",
       "      <th>MBMNFLA</th>\n",
       "      <td>BL/FU kMRI reading (BI): MOAKS: number of BML ...</td>\n",
       "      <td>0</td>\n",
       "      <td>{}</td>\n",
       "      <td>1</td>\n",
       "      <td>{U}</td>\n",
       "      <td>False</td>\n",
       "      <td>unsigned</td>\n",
       "      <td>7.0</td>\n",
       "      <td>5.0</td>\n",
       "      <td>0.0</td>\n",
       "      <td>1</td>\n",
       "      <td>1781</td>\n",
       "      <td>0</td>\n",
       "      <td>0</td>\n",
       "    </tr>\n",
       "    <tr>\n",
       "      <th>MBMNFMC</th>\n",
       "      <td>BL/FU kMRI reading (BI): MOAKS: number of BML ...</td>\n",
       "      <td>0</td>\n",
       "      <td>{}</td>\n",
       "      <td>1</td>\n",
       "      <td>{U}</td>\n",
       "      <td>False</td>\n",
       "      <td>unsigned</td>\n",
       "      <td>5.0</td>\n",
       "      <td>3.0</td>\n",
       "      <td>0.0</td>\n",
       "      <td>1</td>\n",
       "      <td>1781</td>\n",
       "      <td>0</td>\n",
       "      <td>0</td>\n",
       "    </tr>\n",
       "    <tr>\n",
       "      <th>MBMNFLC</th>\n",
       "      <td>BL/FU kMRI reading (BI): MOAKS: number of BML ...</td>\n",
       "      <td>0</td>\n",
       "      <td>{}</td>\n",
       "      <td>1</td>\n",
       "      <td>{U}</td>\n",
       "      <td>False</td>\n",
       "      <td>unsigned</td>\n",
       "      <td>4.0</td>\n",
       "      <td>2.0</td>\n",
       "      <td>0.0</td>\n",
       "      <td>1</td>\n",
       "      <td>1781</td>\n",
       "      <td>0</td>\n",
       "      <td>0</td>\n",
       "    </tr>\n",
       "    <tr>\n",
       "      <th>MBMNFMP</th>\n",
       "      <td>BL/FU kMRI reading (BI): MOAKS: number of BML ...</td>\n",
       "      <td>0</td>\n",
       "      <td>{}</td>\n",
       "      <td>1</td>\n",
       "      <td>{U}</td>\n",
       "      <td>False</td>\n",
       "      <td>unsigned</td>\n",
       "      <td>5.0</td>\n",
       "      <td>3.0</td>\n",
       "      <td>0.0</td>\n",
       "      <td>1</td>\n",
       "      <td>1781</td>\n",
       "      <td>0</td>\n",
       "      <td>0</td>\n",
       "    </tr>\n",
       "    <tr>\n",
       "      <th>MBMNFLP</th>\n",
       "      <td>BL/FU kMRI reading (BI): MOAKS: number of BML ...</td>\n",
       "      <td>0</td>\n",
       "      <td>{}</td>\n",
       "      <td>1</td>\n",
       "      <td>{U}</td>\n",
       "      <td>False</td>\n",
       "      <td>unsigned</td>\n",
       "      <td>5.0</td>\n",
       "      <td>3.0</td>\n",
       "      <td>0.0</td>\n",
       "      <td>1</td>\n",
       "      <td>1781</td>\n",
       "      <td>0</td>\n",
       "      <td>0</td>\n",
       "    </tr>\n",
       "    <tr>\n",
       "      <th>MBMNSS</th>\n",
       "      <td>BL/FU kMRI reading (BI): MOAKS: number of BML ...</td>\n",
       "      <td>0</td>\n",
       "      <td>{}</td>\n",
       "      <td>1</td>\n",
       "      <td>{U}</td>\n",
       "      <td>False</td>\n",
       "      <td>unsigned</td>\n",
       "      <td>6.0</td>\n",
       "      <td>4.0</td>\n",
       "      <td>0.0</td>\n",
       "      <td>1</td>\n",
       "      <td>1781</td>\n",
       "      <td>0</td>\n",
       "      <td>0</td>\n",
       "    </tr>\n",
       "    <tr>\n",
       "      <th>MBMNTMA</th>\n",
       "      <td>BL/FU kMRI reading (BI): MOAKS: number of BML ...</td>\n",
       "      <td>0</td>\n",
       "      <td>{}</td>\n",
       "      <td>1</td>\n",
       "      <td>{U}</td>\n",
       "      <td>False</td>\n",
       "      <td>unsigned</td>\n",
       "      <td>4.0</td>\n",
       "      <td>2.0</td>\n",
       "      <td>0.0</td>\n",
       "      <td>1</td>\n",
       "      <td>1781</td>\n",
       "      <td>0</td>\n",
       "      <td>0</td>\n",
       "    </tr>\n",
       "    <tr>\n",
       "      <th>MBMNTLA</th>\n",
       "      <td>BL/FU kMRI reading (BI): MOAKS: number of BML ...</td>\n",
       "      <td>0</td>\n",
       "      <td>{}</td>\n",
       "      <td>1</td>\n",
       "      <td>{U}</td>\n",
       "      <td>False</td>\n",
       "      <td>unsigned</td>\n",
       "      <td>3.0</td>\n",
       "      <td>1.0</td>\n",
       "      <td>0.0</td>\n",
       "      <td>1</td>\n",
       "      <td>1781</td>\n",
       "      <td>0</td>\n",
       "      <td>0</td>\n",
       "    </tr>\n",
       "    <tr>\n",
       "      <th>MBMNTMC</th>\n",
       "      <td>BL/FU kMRI reading (BI): MOAKS: number of BML ...</td>\n",
       "      <td>0</td>\n",
       "      <td>{}</td>\n",
       "      <td>1</td>\n",
       "      <td>{U}</td>\n",
       "      <td>False</td>\n",
       "      <td>unsigned</td>\n",
       "      <td>4.0</td>\n",
       "      <td>2.0</td>\n",
       "      <td>0.0</td>\n",
       "      <td>1</td>\n",
       "      <td>1781</td>\n",
       "      <td>0</td>\n",
       "      <td>0</td>\n",
       "    </tr>\n",
       "    <tr>\n",
       "      <th>MBMNTLC</th>\n",
       "      <td>BL/FU kMRI reading (BI): MOAKS: number of BML ...</td>\n",
       "      <td>0</td>\n",
       "      <td>{}</td>\n",
       "      <td>1</td>\n",
       "      <td>{U}</td>\n",
       "      <td>False</td>\n",
       "      <td>unsigned</td>\n",
       "      <td>4.0</td>\n",
       "      <td>2.0</td>\n",
       "      <td>0.0</td>\n",
       "      <td>1</td>\n",
       "      <td>1781</td>\n",
       "      <td>0</td>\n",
       "      <td>0</td>\n",
       "    </tr>\n",
       "    <tr>\n",
       "      <th>MBMNTMP</th>\n",
       "      <td>BL/FU kMRI reading (BI): MOAKS: number of BML ...</td>\n",
       "      <td>0</td>\n",
       "      <td>{}</td>\n",
       "      <td>1</td>\n",
       "      <td>{U}</td>\n",
       "      <td>False</td>\n",
       "      <td>unsigned</td>\n",
       "      <td>4.0</td>\n",
       "      <td>2.0</td>\n",
       "      <td>0.0</td>\n",
       "      <td>1</td>\n",
       "      <td>1781</td>\n",
       "      <td>0</td>\n",
       "      <td>0</td>\n",
       "    </tr>\n",
       "    <tr>\n",
       "      <th>MBMNTLP</th>\n",
       "      <td>BL/FU kMRI reading (BI): MOAKS: number of BML ...</td>\n",
       "      <td>0</td>\n",
       "      <td>{}</td>\n",
       "      <td>1</td>\n",
       "      <td>{U}</td>\n",
       "      <td>False</td>\n",
       "      <td>unsigned</td>\n",
       "      <td>4.0</td>\n",
       "      <td>2.0</td>\n",
       "      <td>0.0</td>\n",
       "      <td>1</td>\n",
       "      <td>1781</td>\n",
       "      <td>0</td>\n",
       "      <td>0</td>\n",
       "    </tr>\n",
       "    <tr>\n",
       "      <th>MBMNPM</th>\n",
       "      <td>BL/FU kMRI reading (BI): MOAKS: number of BML ...</td>\n",
       "      <td>0</td>\n",
       "      <td>{}</td>\n",
       "      <td>1</td>\n",
       "      <td>{U}</td>\n",
       "      <td>False</td>\n",
       "      <td>unsigned</td>\n",
       "      <td>5.0</td>\n",
       "      <td>3.0</td>\n",
       "      <td>0.0</td>\n",
       "      <td>1</td>\n",
       "      <td>1781</td>\n",
       "      <td>0</td>\n",
       "      <td>0</td>\n",
       "    </tr>\n",
       "    <tr>\n",
       "      <th>MBMNPL</th>\n",
       "      <td>BL/FU kMRI reading (BI): MOAKS: number of BML ...</td>\n",
       "      <td>0</td>\n",
       "      <td>{}</td>\n",
       "      <td>1</td>\n",
       "      <td>{U}</td>\n",
       "      <td>False</td>\n",
       "      <td>unsigned</td>\n",
       "      <td>6.0</td>\n",
       "      <td>4.0</td>\n",
       "      <td>0.0</td>\n",
       "      <td>1</td>\n",
       "      <td>1781</td>\n",
       "      <td>0</td>\n",
       "      <td>0</td>\n",
       "    </tr>\n",
       "    <tr>\n",
       "      <th>MCMNTS</th>\n",
       "      <td>BL/FU kMRI reading (BI): MOAKS: comments</td>\n",
       "      <td>50</td>\n",
       "      <td>{, osteochondritis medial central femur at V4 ...</td>\n",
       "      <td>0</td>\n",
       "      <td>{}</td>\n",
       "      <td>False</td>\n",
       "      <td>None</td>\n",
       "      <td>NaN</td>\n",
       "      <td>NaN</td>\n",
       "      <td>NaN</td>\n",
       "      <td>1800</td>\n",
       "      <td>0</td>\n",
       "      <td>0</td>\n",
       "      <td>0</td>\n",
       "    </tr>\n",
       "    <tr>\n",
       "      <th>MTCMNTS</th>\n",
       "      <td>BL/FU kMRI reading (BI): MOAKS: technical cons...</td>\n",
       "      <td>6</td>\n",
       "      <td>{, NONE, motion sag IW fs V3, motion sag IW V3...</td>\n",
       "      <td>0</td>\n",
       "      <td>{}</td>\n",
       "      <td>False</td>\n",
       "      <td>None</td>\n",
       "      <td>NaN</td>\n",
       "      <td>NaN</td>\n",
       "      <td>NaN</td>\n",
       "      <td>1800</td>\n",
       "      <td>0</td>\n",
       "      <td>0</td>\n",
       "      <td>0</td>\n",
       "    </tr>\n",
       "  </tbody>\n",
       "</table>\n",
       "</div>"
      ],
      "text/plain": [
       "                                                     label  uniq_strs  \\\n",
       "col                                                                     \n",
       "READPRJ                                            Project          1   \n",
       "READER                     BL/FU kMRI reading (BI): reader          2   \n",
       "MBMNFMA  BL/FU kMRI reading (BI): MOAKS: number of BML ...          0   \n",
       "MBMNFLA  BL/FU kMRI reading (BI): MOAKS: number of BML ...          0   \n",
       "MBMNFMC  BL/FU kMRI reading (BI): MOAKS: number of BML ...          0   \n",
       "MBMNFLC  BL/FU kMRI reading (BI): MOAKS: number of BML ...          0   \n",
       "MBMNFMP  BL/FU kMRI reading (BI): MOAKS: number of BML ...          0   \n",
       "MBMNFLP  BL/FU kMRI reading (BI): MOAKS: number of BML ...          0   \n",
       "MBMNSS   BL/FU kMRI reading (BI): MOAKS: number of BML ...          0   \n",
       "MBMNTMA  BL/FU kMRI reading (BI): MOAKS: number of BML ...          0   \n",
       "MBMNTLA  BL/FU kMRI reading (BI): MOAKS: number of BML ...          0   \n",
       "MBMNTMC  BL/FU kMRI reading (BI): MOAKS: number of BML ...          0   \n",
       "MBMNTLC  BL/FU kMRI reading (BI): MOAKS: number of BML ...          0   \n",
       "MBMNTMP  BL/FU kMRI reading (BI): MOAKS: number of BML ...          0   \n",
       "MBMNTLP  BL/FU kMRI reading (BI): MOAKS: number of BML ...          0   \n",
       "MBMNPM   BL/FU kMRI reading (BI): MOAKS: number of BML ...          0   \n",
       "MBMNPL   BL/FU kMRI reading (BI): MOAKS: number of BML ...          0   \n",
       "MCMNTS            BL/FU kMRI reading (BI): MOAKS: comments         50   \n",
       "MTCMNTS  BL/FU kMRI reading (BI): MOAKS: technical cons...          6   \n",
       "\n",
       "                                                  str_list  missing_val_cnt  \\\n",
       "col                                                                           \n",
       "READPRJ                                               {22}                0   \n",
       "READER                                          {R02, R01}                0   \n",
       "MBMNFMA                                                 {}                1   \n",
       "MBMNFLA                                                 {}                1   \n",
       "MBMNFMC                                                 {}                1   \n",
       "MBMNFLC                                                 {}                1   \n",
       "MBMNFMP                                                 {}                1   \n",
       "MBMNFLP                                                 {}                1   \n",
       "MBMNSS                                                  {}                1   \n",
       "MBMNTMA                                                 {}                1   \n",
       "MBMNTLA                                                 {}                1   \n",
       "MBMNTMC                                                 {}                1   \n",
       "MBMNTLC                                                 {}                1   \n",
       "MBMNTMP                                                 {}                1   \n",
       "MBMNTLP                                                 {}                1   \n",
       "MBMNPM                                                  {}                1   \n",
       "MBMNPL                                                  {}                1   \n",
       "MCMNTS   {, osteochondritis medial central femur at V4 ...                0   \n",
       "MTCMNTS  {, NONE, motion sag IW fs V3, motion sag IW V3...                0   \n",
       "\n",
       "        missing_val_list  numeric_str  num_type  uniq_num  max_num  min_num  \\\n",
       "col                                                                           \n",
       "READPRJ               {}         True      None       NaN      NaN      NaN   \n",
       "READER                {}        False      None       NaN      NaN      NaN   \n",
       "MBMNFMA              {U}        False  unsigned       5.0      3.0      0.0   \n",
       "MBMNFLA              {U}        False  unsigned       7.0      5.0      0.0   \n",
       "MBMNFMC              {U}        False  unsigned       5.0      3.0      0.0   \n",
       "MBMNFLC              {U}        False  unsigned       4.0      2.0      0.0   \n",
       "MBMNFMP              {U}        False  unsigned       5.0      3.0      0.0   \n",
       "MBMNFLP              {U}        False  unsigned       5.0      3.0      0.0   \n",
       "MBMNSS               {U}        False  unsigned       6.0      4.0      0.0   \n",
       "MBMNTMA              {U}        False  unsigned       4.0      2.0      0.0   \n",
       "MBMNTLA              {U}        False  unsigned       3.0      1.0      0.0   \n",
       "MBMNTMC              {U}        False  unsigned       4.0      2.0      0.0   \n",
       "MBMNTLC              {U}        False  unsigned       4.0      2.0      0.0   \n",
       "MBMNTMP              {U}        False  unsigned       4.0      2.0      0.0   \n",
       "MBMNTLP              {U}        False  unsigned       4.0      2.0      0.0   \n",
       "MBMNPM               {U}        False  unsigned       5.0      3.0      0.0   \n",
       "MBMNPL               {U}        False  unsigned       6.0      4.0      0.0   \n",
       "MCMNTS                {}        False      None       NaN      NaN      NaN   \n",
       "MTCMNTS               {}        False      None       NaN      NaN      NaN   \n",
       "\n",
       "         str_cnt  num_cnt  date_cnt  na_cnt  \n",
       "col                                          \n",
       "READPRJ     1800        0         0       0  \n",
       "READER      1800        0         0       0  \n",
       "MBMNFMA        1     1781         0       0  \n",
       "MBMNFLA        1     1781         0       0  \n",
       "MBMNFMC        1     1781         0       0  \n",
       "MBMNFLC        1     1781         0       0  \n",
       "MBMNFMP        1     1781         0       0  \n",
       "MBMNFLP        1     1781         0       0  \n",
       "MBMNSS         1     1781         0       0  \n",
       "MBMNTMA        1     1781         0       0  \n",
       "MBMNTLA        1     1781         0       0  \n",
       "MBMNTMC        1     1781         0       0  \n",
       "MBMNTLC        1     1781         0       0  \n",
       "MBMNTMP        1     1781         0       0  \n",
       "MBMNTLP        1     1781         0       0  \n",
       "MBMNPM         1     1781         0       0  \n",
       "MBMNPL         1     1781         0       0  \n",
       "MCMNTS      1800        0         0       0  \n",
       "MTCMNTS     1800        0         0       0  "
      ]
     },
     "execution_count": 160,
     "metadata": {},
     "output_type": "execute_result"
    }
   ],
   "source": [
    "data_stats_summary(tmp_df, data_stats_df)\n",
    "data_stats_df"
   ]
  },
  {
   "cell_type": "code",
   "execution_count": 161,
   "id": "f7da9f3a",
   "metadata": {
    "execution": {
     "iopub.execute_input": "2023-12-21T21:03:30.122377Z",
     "iopub.status.busy": "2023-12-21T21:03:30.122072Z",
     "iopub.status.idle": "2023-12-21T21:03:30.134951Z",
     "shell.execute_reply": "2023-12-21T21:03:30.134035Z",
     "shell.execute_reply.started": "2023-12-21T21:03:30.122351Z"
    },
    "pycharm": {
     "name": "#%%\n"
    }
   },
   "outputs": [
    {
     "name": "stdout",
     "output_type": "stream",
     "text": [
      "targets = {\n",
      "# Columns with only unsigned ints, missing, and NA values\n",
      "'unsigned': ['MBMNFMA', 'MBMNFLA', 'MBMNFMC', 'MBMNFLC', 'MBMNFMP', 'MBMNFLP', 'MBMNSS', 'MBMNTMA', 'MBMNTLA', 'MBMNTMC', 'MBMNTLC', 'MBMNTMP', 'MBMNTLP', 'MBMNPM', 'MBMNPL'],\n",
      "\n",
      "# Columns with only strings, missing, and NA values\n",
      "'cat': ['READPRJ', 'READER', 'MCMNTS', 'MTCMNTS'],\n",
      "\n",
      "}\n",
      "\n",
      "\n",
      "Handled columns: 19\n"
     ]
    }
   ],
   "source": [
    "suggest_conversions(data_stats_df)"
   ]
  },
  {
   "cell_type": "code",
   "execution_count": 162,
   "id": "2138a081",
   "metadata": {
    "execution": {
     "iopub.execute_input": "2023-12-21T21:03:30.136627Z",
     "iopub.status.busy": "2023-12-21T21:03:30.136259Z",
     "iopub.status.idle": "2023-12-21T21:03:30.240229Z",
     "shell.execute_reply": "2023-12-21T21:03:30.239470Z",
     "shell.execute_reply.started": "2023-12-21T21:03:30.136597Z"
    },
    "pycharm": {
     "name": "#%%\n"
    }
   },
   "outputs": [],
   "source": [
    "targets = {\n",
    "# Columns with only unsigned ints, missing, and NA values\n",
    "'unsigned': ['MBMNFMA', 'MBMNFLA', 'MBMNFMC', 'MBMNFLC', 'MBMNFMP', 'MBMNFLP', 'MBMNSS', 'MBMNTMA', 'MBMNTLA', 'MBMNTMC', 'MBMNTLC', 'MBMNTMP', 'MBMNTLP', 'MBMNPM', 'MBMNPL'],\n",
    "\n",
    "# Columns with only strings, missing, and NA values\n",
    "'cat': ['READER', 'MCMNTS', 'MTCMNTS'],\n",
    "\n",
    "}\n",
    "\n",
    "new_df, missing_df = convert_columns(targets, data_stats_df, tmp_df)"
   ]
  },
  {
   "cell_type": "code",
   "execution_count": 163,
   "id": "a40c5ff3",
   "metadata": {
    "execution": {
     "iopub.execute_input": "2023-12-21T21:03:30.241774Z",
     "iopub.status.busy": "2023-12-21T21:03:30.241333Z",
     "iopub.status.idle": "2023-12-21T21:03:30.287866Z",
     "shell.execute_reply": "2023-12-21T21:03:30.286924Z",
     "shell.execute_reply.started": "2023-12-21T21:03:30.241743Z"
    },
    "pycharm": {
     "name": "#%%\n"
    }
   },
   "outputs": [
    {
     "name": "stdout",
     "output_type": "stream",
     "text": [
      "Columns still object type:  ['READPRJ']\n",
      "\n",
      "VERSION    category\n",
      "SIDE       category\n",
      "READPRJ      object\n",
      "READER     category\n",
      "MCMPM      category\n",
      "             ...   \n",
      "MEFFWK     category\n",
      "MITBSIG    category\n",
      "MPOPCYS    category\n",
      "MCMNTS     category\n",
      "MTCMNTS    category\n",
      "Length: 121, dtype: object\n",
      "\n",
      "Missing values present, shadow dataframe created.\n",
      "              MBMNFMA MBMNFLA MBMNFMC MBMNFLC MBMNFMP MBMNFLP MBMNSS MBMNTMA  \\\n",
      "ID      Visit                                                                  \n",
      "9001695 V00       NaN     NaN     NaN     NaN     NaN     NaN    NaN     NaN   \n",
      "9002116 V00       NaN     NaN     NaN     NaN     NaN     NaN    NaN     NaN   \n",
      "9002430 V00       NaN     NaN     NaN     NaN     NaN     NaN    NaN     NaN   \n",
      "9002817 V00       NaN     NaN     NaN     NaN     NaN     NaN    NaN     NaN   \n",
      "9003316 V00       NaN     NaN     NaN     NaN     NaN     NaN    NaN     NaN   \n",
      "...               ...     ...     ...     ...     ...     ...    ...     ...   \n",
      "9993833 V03       NaN     NaN     NaN     NaN     NaN     NaN    NaN     NaN   \n",
      "9994408 V03       NaN     NaN     NaN     NaN     NaN     NaN    NaN     NaN   \n",
      "9995338 V03       NaN     NaN     NaN     NaN     NaN     NaN    NaN     NaN   \n",
      "9996098 V03       NaN     NaN     NaN     NaN     NaN     NaN    NaN     NaN   \n",
      "9997381 V03       NaN     NaN     NaN     NaN     NaN     NaN    NaN     NaN   \n",
      "\n",
      "              MBMNTLA MBMNTMC MBMNTLC MBMNTMP MBMNTLP MBMNPM MBMNPL  \n",
      "ID      Visit                                                        \n",
      "9001695 V00       NaN     NaN     NaN     NaN     NaN    NaN    NaN  \n",
      "9002116 V00       NaN     NaN     NaN     NaN     NaN    NaN    NaN  \n",
      "9002430 V00       NaN     NaN     NaN     NaN     NaN    NaN    NaN  \n",
      "9002817 V00       NaN     NaN     NaN     NaN     NaN    NaN    NaN  \n",
      "9003316 V00       NaN     NaN     NaN     NaN     NaN    NaN    NaN  \n",
      "...               ...     ...     ...     ...     ...    ...    ...  \n",
      "9993833 V03       NaN     NaN     NaN     NaN     NaN    NaN    NaN  \n",
      "9994408 V03       NaN     NaN     NaN     NaN     NaN    NaN    NaN  \n",
      "9995338 V03       NaN     NaN     NaN     NaN     NaN    NaN    NaN  \n",
      "9996098 V03       NaN     NaN     NaN     NaN     NaN    NaN    NaN  \n",
      "9997381 V03       NaN     NaN     NaN     NaN     NaN    NaN    NaN  \n",
      "\n",
      "[1800 rows x 15 columns]\n"
     ]
    }
   ],
   "source": [
    "sanity_check(new_df)\n",
    "print()\n",
    "print(new_df.dtypes)\n",
    "if not missing_df.empty:\n",
    "    print('\\nMissing values present, shadow dataframe created.')\n",
    "    print(missing_df)"
   ]
  },
  {
   "cell_type": "code",
   "execution_count": 164,
   "id": "5f36fe80",
   "metadata": {
    "execution": {
     "iopub.execute_input": "2023-12-21T21:03:30.289836Z",
     "iopub.status.busy": "2023-12-21T21:03:30.289562Z",
     "iopub.status.idle": "2023-12-21T21:03:30.300555Z",
     "shell.execute_reply": "2023-12-21T21:03:30.299745Z",
     "shell.execute_reply.started": "2023-12-21T21:03:30.289809Z"
    },
    "pycharm": {
     "name": "#%%\n"
    }
   },
   "outputs": [
    {
     "name": "stdout",
     "output_type": "stream",
     "text": [
      "\n",
      "Final dataframe size: 0.72MB\n",
      "Shadow dataframe size: 0.05MB\n"
     ]
    }
   ],
   "source": [
    "print('\\nFinal dataframe size: {:.2f}MB'.format(new_df.memory_usage(deep=True).sum() / (1024**2)))\n",
    "print('Shadow dataframe size: {:.2f}MB'.format(missing_df.memory_usage(deep=True).sum() / (1024**2)))"
   ]
  },
  {
   "cell_type": "code",
   "execution_count": 165,
   "id": "dc335d11-494d-405e-b662-8a3693b6b9fc",
   "metadata": {
    "execution": {
     "iopub.execute_input": "2023-12-21T21:03:30.301974Z",
     "iopub.status.busy": "2023-12-21T21:03:30.301608Z",
     "iopub.status.idle": "2023-12-21T21:03:30.500089Z",
     "shell.execute_reply": "2023-12-21T21:03:30.499322Z",
     "shell.execute_reply.started": "2023-12-21T21:03:30.301943Z"
    }
   },
   "outputs": [],
   "source": [
    "utils.write_parquet(new_df, 'data/' + prefix + '_values.parquet')\n",
    "if not missing_df.empty:\n",
    "    utils.write_parquet(new_df, 'data/' + prefix + '_missing_values.parquet', verbose=False)"
   ]
  },
  {
   "cell_type": "markdown",
   "id": "a2917583",
   "metadata": {
    "tags": []
   },
   "source": [
    "## kmri_poma_incoa_moaks_bicl\n",
    "TODO: Not handled yet as column naming format doesn't use visit prefixes"
   ]
  },
  {
   "cell_type": "code",
   "execution_count": 166,
   "id": "247d295c",
   "metadata": {
    "execution": {
     "iopub.execute_input": "2023-12-21T21:03:30.501816Z",
     "iopub.status.busy": "2023-12-21T21:03:30.501342Z",
     "iopub.status.idle": "2023-12-21T21:03:32.184727Z",
     "shell.execute_reply": "2023-12-21T21:03:32.183782Z",
     "shell.execute_reply.started": "2023-12-21T21:03:30.501785Z"
    }
   },
   "outputs": [
    {
     "name": "stdout",
     "output_type": "stream",
     "text": [
      "\n",
      "kmri_poma_incoa_moaks_bicl.sas7bdat: (2481, 101)\n",
      "['ID', 'side', 'version', 'visit', 'iwave', 'incrank', 'itype', 'iclass', 'Reader', 'CartPatellaMed', 'CartPatellaLat', 'CartFemurAntMed', 'CartFemurAntLat', 'CartTibioFemurPostMed', 'CartTibioFemurPostLat', 'CartTibioFemurCentMed', 'CartTibioFemurCentLat', 'CartTibioTibiaAntMed', 'CartTibioTibiaAntLat', 'CartTibioTibiaCentMed', 'CartTibioTibiaCentLat', 'CartTibioTibiaPostMed', 'CartTibioTibiaPostLat', 'BMLFemAntSizeMed', 'BMLFemAntBMLMed', 'BMLFemAntLesMed', 'BMLFemAntSizeLat', 'BMLFemAntBMLLat', 'BMLFemAntLesLat', 'BMLFemCentSizeMed', 'BMLFemCentBMLMed', 'BMLFemCentLesMed', 'BMLFemCentSizeLat', 'BMLFemCentBMLLat', 'BMLFemCentLesLat', 'BMLFemPostSizeMed', 'BMLFemPostBMLMed', 'BMLFemPostLesMed', 'BMLFemPostSizeLat', 'BMLFemPostBMLLat', 'BMLFemPostLesLat', 'BMLTibSubSpCentSize', 'BMLTibSubSpCentBML', 'BMLTibSubSpCentLes', 'BMLTibAntSizeMed', 'BMLTibAntBMLMed', 'BMLTibAntLesMed', 'BMLTibAntSizeLat', 'BMLTibAntBMLLat', 'BMLTibAntLesLat', 'BMLTibCentSizeMed', 'BMLTibCentBMLMed', 'BMLTibCentLesMed', 'BMLTibCentSizeLat', 'BMLTibCentBMLLat', 'BMLTibCentLesLat', 'BMLTibPostSizeMed', 'BMLTibPostBMLMed', 'BMLTibPostLesMed', 'BMLTibPostSizeLat', 'BMLTibPostBMLLat', 'BMLTibPostLesLat', 'BMLPatellaSizeMed', 'BMLPatellaBMLMed', 'BMLPatellaLesMed', 'BMLPatellaSizeLat', 'BMLPatellaBMLLat', 'BMLPatellaLesLat', 'MenMorAntMed', 'MenMorAntLat', 'MenMorBodyMed', 'MenMorBodyLat', 'MenMorPostMed', 'MenMorPostLat', 'MenHypAntMed', 'MenHypAntLat', 'MenHypBodyMed', 'MenHypBodyLat', 'MenHypPostMed', 'MenHypPostLat', 'MenMenAntMed', 'MenMenAntLat', 'MenMenBodyMed', 'MenMenBodyLat', 'MenMenPostMed', 'MenMenPostLat', 'MenExtMedMed', 'MenExtAntMed', 'MenExtAntLat', 'MenExtLatLat', 'MenRootAntMed', 'MenRootAntLat', 'MenRootPostMed', 'MenRootPostLat', 'OtherACLTear', 'OtherACLBML', 'OtherACLRepair', 'OtherSynovitisInter', 'OtherEffusionWhole', 'comments', 'Technical']\n",
      "\n",
      "Total rows: 2481\n"
     ]
    }
   ],
   "source": [
    "prefix = 'kmri_poma_incoa_moaks_bicl'\n",
    "column_uniformity_check(prefix)"
   ]
  },
  {
   "cell_type": "markdown",
   "id": "a21a15f2",
   "metadata": {
    "tags": []
   },
   "source": [
    "## kmri_poma_tkr_chondrometrics\n",
    "TODO: Not handled yet as column naming format doesn't use visit prefixes"
   ]
  },
  {
   "cell_type": "code",
   "execution_count": 167,
   "id": "8a323da9",
   "metadata": {
    "execution": {
     "iopub.execute_input": "2023-12-21T21:03:32.187043Z",
     "iopub.status.busy": "2023-12-21T21:03:32.186722Z",
     "iopub.status.idle": "2023-12-21T21:03:33.575008Z",
     "shell.execute_reply": "2023-12-21T21:03:33.574070Z",
     "shell.execute_reply.started": "2023-12-21T21:03:32.187014Z"
    }
   },
   "outputs": [
    {
     "name": "stdout",
     "output_type": "stream",
     "text": [
      "\n",
      "kmri_poma_tkr_chondrometrics.sas7bdat: (1330, 99)\n",
      "['id', 'side', 'version', 'visit', 'class', 'tmpt', 'newstrata', 'MT_VC', 'MT_tAB', 'MT_VCtAB', 'MT_ThCtAB_aMe', 'MT_AC', 'MT_dABp', 'MT_cAB', 'MT_ThCcAB_aMe', 'MT_ThCtAB_aMav', 'MT_ThCtAB_aSD', 'MT_ThCtAB_aCV', 'cMT_ThCtAB_aMiv', 'cMT_ThCtAB_aMe', 'eMT_ThCtAB_aMe', 'iMT_ThCtAB_aMe', 'aMT_ThCtAB_aMe', 'pMT_ThCtAB_aMe', 'cMT_dABp', 'eMT_dABp', 'iMT_dABp', 'aMT_dABp', 'pMT_dABp', 'cMF_VC', 'cMF_tAB', 'cMF_VCtAB', 'cMF_ThCtAB_aMe', 'cMF_AC', 'cMF_dABp', 'cMF_cAB', 'cMF_ThCcAB_aMe', 'cMF_ThCtAB_aMav', 'cMF_ThCtAB_aSD', 'cMF_ThCtAB_aCV', 'ccMF_ThCtAB_aMiv', 'ccMF_ThCtAB_aMe', 'ecMF_ThCtAB_aMe', 'icMF_ThCtAB_aMe', 'ccMF_dABp', 'ecMF_dABp', 'icMF_dABp', 'MFTC_VC', 'MFTC_VCtAB', 'MFTC_ThCtAB_aMe', 'MFTC_ThCtAB_aMav', 'cMFTC_ThCtAB_aMiv', 'cMFTC_ThCtAB_aMe', 'LT_VC', 'LT_tAB', 'LT_VCtAB', 'LT_ThCtAB_aMe', 'LT_AC', 'LT_dABp', 'LT_cAB', 'LT_ThCcAB_aMe', 'LT_ThCtAB_aMav', 'LT_ThCtAB_aSD', 'LT_ThCtAB_aCV', 'cLT_ThCtAB_aMiv', 'cLT_ThCtAB_aMe', 'eLT_ThCtAB_aMe', 'iLT_ThCtAB_aMe', 'aLT_ThCtAB_aMe', 'pLT_ThCtAB_aMe', 'cLT_dABp', 'eLT_dABp', 'iLT_dABp', 'aLT_dABp', 'pLT_dABp', 'cLF_VC', 'cLF_tAB', 'cLF_VCtAB', 'cLF_ThCtAB_aMe', 'cLF_AC', 'cLF_dABp', 'cLF_cAB', 'cLF_ThCcAB_aMe', 'cLF_ThCtAB_aMav', 'cLF_ThCtAB_aSD', 'cLF_ThCtAB_aCV', 'ccLF_ThCtAB_aMiv', 'ccLF_ThCtAB_aMe', 'ecLF_ThCtAB_aMe', 'icLF_ThCtAB_aMe', 'ccLF_dABp', 'ecLF_dABp', 'icLF_dABp', 'LFTC_VC', 'LFTC_VCtAB', 'LFTC_ThCtAB_aMe', 'LFTC_ThCtAB_aMav', 'cLFTC_ThCtAB_aMiv', 'cLFTC_ThCtAB_aMe']\n",
      "\n",
      "Total rows: 1330\n"
     ]
    }
   ],
   "source": [
    "prefix = 'kmri_poma_tkr_chondrometrics'\n",
    "column_uniformity_check(prefix)"
   ]
  },
  {
   "cell_type": "markdown",
   "id": "3822b843",
   "metadata": {
    "jp-MarkdownHeadingCollapsed": true,
    "tags": []
   },
   "source": [
    "## kmri_poma_tkr_moaks_bicl\n",
    "TODO: Not handled yet as column naming format doesn't use visit prefixes"
   ]
  },
  {
   "cell_type": "code",
   "execution_count": 168,
   "id": "13abbe67",
   "metadata": {
    "execution": {
     "iopub.execute_input": "2023-12-21T21:03:33.576884Z",
     "iopub.status.busy": "2023-12-21T21:03:33.576556Z",
     "iopub.status.idle": "2023-12-21T21:03:35.194348Z",
     "shell.execute_reply": "2023-12-21T21:03:35.193382Z",
     "shell.execute_reply.started": "2023-12-21T21:03:33.576851Z"
    }
   },
   "outputs": [
    {
     "name": "stdout",
     "output_type": "stream",
     "text": [
      "\n",
      "kmri_poma_tkr_moaks_bicl.sas7bdat: (1339, 100)\n",
      "['id', 'side', 'version', 'visit', 'tmpt', 'class', 'newstrata', 'Reader', 'CartPatellaMed', 'CartPatellaLat', 'CartFemurAntMed', 'CartFemurAntLat', 'CartTibioFemurPostMed', 'CartTibioFemurPostLat', 'CartTibioFemurCentMed', 'CartTibioFemurCentLat', 'CartTibioTibiaAntMed', 'CartTibioTibiaAntLat', 'CartTibioTibiaCentMed', 'CartTibioTibiaCentLat', 'CartTibioTibiaPostMed', 'CartTibioTibiaPostLat', 'BMLFemAntSizeMed', 'BMLFemAntBMLMed', 'BMLFemAntLesMed', 'BMLFemAntSizeLat', 'BMLFemAntBMLLat', 'BMLFemAntLesLat', 'BMLFemCentSizeMed', 'BMLFemCentBMLMed', 'BMLFemCentLesMed', 'BMLFemCentSizeLat', 'BMLFemCentBMLLat', 'BMLFemCentLesLat', 'BMLFemPostSizeMed', 'BMLFemPostBMLMed', 'BMLFemPostLesMed', 'BMLFemPostSizeLat', 'BMLFemPostBMLLat', 'BMLFemPostLesLat', 'BMLTibSubSpCentSize', 'BMLTibSubSpCentBML', 'BMLTibSubSpCentLes', 'BMLTibAntSizeMed', 'BMLTibAntBMLMed', 'BMLTibAntLesMed', 'BMLTibAntSizeLat', 'BMLTibAntBMLLat', 'BMLTibAntLesLat', 'BMLTibCentSizeMed', 'BMLTibCentBMLMed', 'BMLTibCentLesMed', 'BMLTibCentSizeLat', 'BMLTibCentBMLLat', 'BMLTibCentLesLat', 'BMLTibPostSizeMed', 'BMLTibPostBMLMed', 'BMLTibPostLesMed', 'BMLTibPostSizeLat', 'BMLTibPostBMLLat', 'BMLTibPostLesLat', 'BMLPatellaSizeMed', 'BMLPatellaBMLMed', 'BMLPatellaLesMed', 'BMLPatellaSizeLat', 'BMLPatellaBMLLat', 'BMLPatellaLesLat', 'MenMorAntMed', 'MenMorAntLat', 'MenMorBodyMed', 'MenMorBodyLat', 'MenMorPostMed', 'MenMorPostLat', 'MenHypAntMed', 'MenHypAntLat', 'MenHypBodyMed', 'MenHypBodyLat', 'MenHypPostMed', 'MenHypPostLat', 'MenMenAntMed', 'MenMenAntLat', 'MenMenBodyMed', 'MenMenBodyLat', 'MenMenPostMed', 'MenMenPostLat', 'MenExtMedMed', 'MenExtAntMed', 'MenExtAntLat', 'MenExtLatLat', 'MenRootAntMed', 'MenRootAntLat', 'MenRootPostMed', 'MenRootPostLat', 'OtherACLTear', 'OtherACLBML', 'OtherACLRepair', 'OtherSynovitisInter', 'OtherEffusionWhole', 'Comments', 'Technical']\n",
      "\n",
      "Total rows: 1339\n"
     ]
    }
   ],
   "source": [
    "prefix = 'kmri_poma_tkr_moaks_bicl'\n",
    "column_uniformity_check(prefix)"
   ]
  },
  {
   "cell_type": "markdown",
   "id": "7cd26048",
   "metadata": {
    "tags": []
   },
   "source": [
    "## kmri_qcart_eckstein"
   ]
  },
  {
   "cell_type": "code",
   "execution_count": 169,
   "id": "20f05895",
   "metadata": {
    "execution": {
     "iopub.execute_input": "2023-12-21T21:03:35.196250Z",
     "iopub.status.busy": "2023-12-21T21:03:35.195889Z",
     "iopub.status.idle": "2023-12-21T21:03:41.832650Z",
     "shell.execute_reply": "2023-12-21T21:03:41.831720Z",
     "shell.execute_reply.started": "2023-12-21T21:03:35.196222Z"
    },
    "pycharm": {
     "name": "#%%\n"
    }
   },
   "outputs": [
    {
     "name": "stdout",
     "output_type": "stream",
     "text": [
      "\n",
      "kmri_qcart_eckstein00.sas7bdat: (3708, 97)\n",
      "['ID', 'SIDE', 'readprj', 'VERSION', 'CBLFMAT', 'CBMFPD', 'BMFACV', 'BMTFMTH', 'WLTFMAV', 'IMTMTH', 'PLTMTH', 'BLFVCL', 'WMTCTS', 'BMFPD', 'BMFMTC', 'EMTMTH', 'WLTVCL', 'BLFACS', 'WMTVCN', 'WMTMAV', 'EBLFPD', 'AMTPD', 'WLTFMTH', 'WMTMTH', 'EMTPD', 'WLTFVCL', 'CMTMTH', 'CLTMAT', 'ILTMTH', 'WMTCAAB', 'BMFVCL', 'PMTPD', 'BLFACV', 'BMTFMAT', 'WMTFMTH', 'IBLFPD', 'EBMFPD', 'BMFACS', 'CMTPD', 'BLTFMAT', 'WLTCTS', 'WLTMAV', 'IBMFMTH', 'WMTFMAV', 'AMTMTH', 'WMTFVCN', 'ALTPD', 'WMTSBA', 'BMFVCN', 'BLFMTC', 'ELTMTH', 'PLTPD', 'BLFMAV', 'IMTPD', 'WLTFVCN', 'BLFVCN', 'EBMFMTH', 'WLTACV', 'IBLFMT', 'ELTPD', 'BLFCAAB', 'WMTFVCL', 'WLTMTH', 'CMTMAT', 'WLTCAAB', 'BLFSBA', 'IBMFPD', 'BLFCTS', 'CLTMTH', 'WLTMTC', 'CLTPD', 'CBMFMTH', 'WMTPD', 'PMTMTH', 'BLFMTH', 'WMTACS', 'ILTPD', 'CBMFMAT', 'EBLFMT', 'WLTSBA', 'WMTACV', 'ALTMTH', 'CBLFPD', 'BLTFMTH', 'BMFCAAB', 'CBLFMT', 'WLTACS', 'BMFMTH', 'BMFCTS', 'BMFSBA', 'BMFMAV', 'BLFPD', 'WMTMTC', 'WLTVCN', 'WMTVCL', 'WLTPD', 'BARCDFE']\n",
      "\n",
      "kmri_qcart_eckstein01.sas7bdat: (2461, 97)\n",
      "Names only differ by case\n",
      "\n",
      "kmri_qcart_eckstein03.sas7bdat: (2467, 97)\n",
      "Names only differ by case\n",
      "\n",
      "kmri_qcart_eckstein05.sas7bdat: (318, 97)\n",
      "\n",
      "kmri_qcart_eckstein06.sas7bdat: (836, 97)\n",
      "\n",
      "Total rows: 9790\n"
     ]
    }
   ],
   "source": [
    "prefix = 'kmri_qcart_eckstein'\n",
    "column_uniformity_check(prefix)"
   ]
  },
  {
   "cell_type": "code",
   "execution_count": 170,
   "id": "f390031a",
   "metadata": {
    "execution": {
     "iopub.execute_input": "2023-12-21T21:03:41.834525Z",
     "iopub.status.busy": "2023-12-21T21:03:41.834124Z",
     "iopub.status.idle": "2023-12-21T21:03:47.976113Z",
     "shell.execute_reply": "2023-12-21T21:03:47.975262Z",
     "shell.execute_reply.started": "2023-12-21T21:03:41.834490Z"
    },
    "pycharm": {
     "name": "#%%\n"
    }
   },
   "outputs": [
    {
     "name": "stdout",
     "output_type": "stream",
     "text": [
      "kmri_qcart_eckstein00.sas7bdat\tVar Cnt: 97\n",
      "Visits: ['V00']\n",
      "kmri_qcart_eckstein01.sas7bdat\tVar Cnt: 97\n",
      "Visits: ['V01']\n",
      "kmri_qcart_eckstein03.sas7bdat\tVar Cnt: 97\n",
      "Visits: ['V03']\n",
      "kmri_qcart_eckstein05.sas7bdat\tVar Cnt: 97\n",
      "Visits: ['V05']\n",
      "kmri_qcart_eckstein06.sas7bdat\tVar Cnt: 97\n",
      "Visits: ['V06']\n",
      "(9790, 98)\n",
      "\n",
      "Starting dataframe size: 28.84MB\n"
     ]
    }
   ],
   "source": [
    "tmp_df = create_df(prefix)\n",
    "print(tmp_df.shape)\n",
    "print('\\nStarting dataframe size: {:.2f}MB'.format(tmp_df.memory_usage(deep=True).sum() / (1024**2)))"
   ]
  },
  {
   "cell_type": "code",
   "execution_count": 171,
   "id": "e82a5c97",
   "metadata": {
    "execution": {
     "iopub.execute_input": "2023-12-21T21:03:47.977767Z",
     "iopub.status.busy": "2023-12-21T21:03:47.977443Z",
     "iopub.status.idle": "2023-12-21T21:03:49.534482Z",
     "shell.execute_reply": "2023-12-21T21:03:49.533653Z",
     "shell.execute_reply.started": "2023-12-21T21:03:47.977738Z"
    },
    "pycharm": {
     "name": "#%%\n"
    }
   },
   "outputs": [],
   "source": [
    "data_stats_df, done_df = gather_column_data_stats(tmp_df)"
   ]
  },
  {
   "cell_type": "code",
   "execution_count": 172,
   "id": "ee7221f5",
   "metadata": {
    "execution": {
     "iopub.execute_input": "2023-12-21T21:03:49.536121Z",
     "iopub.status.busy": "2023-12-21T21:03:49.535727Z",
     "iopub.status.idle": "2023-12-21T21:03:49.572327Z",
     "shell.execute_reply": "2023-12-21T21:03:49.571629Z",
     "shell.execute_reply.started": "2023-12-21T21:03:49.536093Z"
    },
    "pycharm": {
     "name": "#%%\n"
    }
   },
   "outputs": [
    {
     "name": "stdout",
     "output_type": "stream",
     "text": [
      "Already defined cols: 4 \tCols to convert: 94\t Total col cnt: 98\n",
      "\n",
      "Column types to convert:\n",
      "   str_cnt  num_cnt  date_cnt  na_cnt  count\n",
      "0     True    False     False   False      2\n",
      "1     True     True     False   False     92\n",
      "\n",
      "Numeric types of columns:\n",
      "num_type\n",
      "float    92\n",
      "Name: count, dtype: int64\n",
      "\n",
      "Largest number of unique strings: 6641\n"
     ]
    },
    {
     "data": {
      "text/html": [
       "<div>\n",
       "<style scoped>\n",
       "    .dataframe tbody tr th:only-of-type {\n",
       "        vertical-align: middle;\n",
       "    }\n",
       "\n",
       "    .dataframe tbody tr th {\n",
       "        vertical-align: top;\n",
       "    }\n",
       "\n",
       "    .dataframe thead th {\n",
       "        text-align: right;\n",
       "    }\n",
       "</style>\n",
       "<table border=\"1\" class=\"dataframe\">\n",
       "  <thead>\n",
       "    <tr style=\"text-align: right;\">\n",
       "      <th></th>\n",
       "      <th>label</th>\n",
       "      <th>uniq_strs</th>\n",
       "      <th>str_list</th>\n",
       "      <th>missing_val_cnt</th>\n",
       "      <th>missing_val_list</th>\n",
       "      <th>numeric_str</th>\n",
       "      <th>num_type</th>\n",
       "      <th>uniq_num</th>\n",
       "      <th>max_num</th>\n",
       "      <th>min_num</th>\n",
       "      <th>str_cnt</th>\n",
       "      <th>num_cnt</th>\n",
       "      <th>date_cnt</th>\n",
       "      <th>na_cnt</th>\n",
       "    </tr>\n",
       "    <tr>\n",
       "      <th>col</th>\n",
       "      <th></th>\n",
       "      <th></th>\n",
       "      <th></th>\n",
       "      <th></th>\n",
       "      <th></th>\n",
       "      <th></th>\n",
       "      <th></th>\n",
       "      <th></th>\n",
       "      <th></th>\n",
       "      <th></th>\n",
       "      <th></th>\n",
       "      <th></th>\n",
       "      <th></th>\n",
       "      <th></th>\n",
       "    </tr>\n",
       "  </thead>\n",
       "  <tbody>\n",
       "    <tr>\n",
       "      <th>READPRJ</th>\n",
       "      <td>Project</td>\n",
       "      <td>9</td>\n",
       "      <td>{07, 18, 66, 08, 22b, 09A, 04, 09B, 22}</td>\n",
       "      <td>0</td>\n",
       "      <td>{}</td>\n",
       "      <td>False</td>\n",
       "      <td>None</td>\n",
       "      <td>NaN</td>\n",
       "      <td>NaN</td>\n",
       "      <td>NaN</td>\n",
       "      <td>9790</td>\n",
       "      <td>0</td>\n",
       "      <td>0</td>\n",
       "      <td>0</td>\n",
       "    </tr>\n",
       "    <tr>\n",
       "      <th>CBLFMAT</th>\n",
       "      <td>BL/FU kMRI reading (FE): minimum cartilage thi...</td>\n",
       "      <td>0</td>\n",
       "      <td>{}</td>\n",
       "      <td>2</td>\n",
       "      <td>{I, T}</td>\n",
       "      <td>False</td>\n",
       "      <td>float</td>\n",
       "      <td>3570.0</td>\n",
       "      <td>3.8340</td>\n",
       "      <td>0.0000</td>\n",
       "      <td>6</td>\n",
       "      <td>9779</td>\n",
       "      <td>0</td>\n",
       "      <td>0</td>\n",
       "    </tr>\n",
       "    <tr>\n",
       "      <th>CBMFPD</th>\n",
       "      <td>BL/FU kMRI reading (FE): % area of subchondral...</td>\n",
       "      <td>0</td>\n",
       "      <td>{}</td>\n",
       "      <td>2</td>\n",
       "      <td>{I, T}</td>\n",
       "      <td>False</td>\n",
       "      <td>float</td>\n",
       "      <td>1959.0</td>\n",
       "      <td>100.0000</td>\n",
       "      <td>0.0000</td>\n",
       "      <td>6</td>\n",
       "      <td>9782</td>\n",
       "      <td>0</td>\n",
       "      <td>0</td>\n",
       "    </tr>\n",
       "    <tr>\n",
       "      <th>BMFACV</th>\n",
       "      <td>BL/FU kMRI reading (FE): CV of cartilage thick...</td>\n",
       "      <td>0</td>\n",
       "      <td>{}</td>\n",
       "      <td>2</td>\n",
       "      <td>{I, T}</td>\n",
       "      <td>False</td>\n",
       "      <td>float</td>\n",
       "      <td>8266.0</td>\n",
       "      <td>283.1440</td>\n",
       "      <td>8.2590</td>\n",
       "      <td>6</td>\n",
       "      <td>9782</td>\n",
       "      <td>0</td>\n",
       "      <td>0</td>\n",
       "    </tr>\n",
       "    <tr>\n",
       "      <th>BMTFMTH</th>\n",
       "      <td>BL/FU kMRI reading (FE): mean cartilage thickn...</td>\n",
       "      <td>0</td>\n",
       "      <td>{}</td>\n",
       "      <td>2</td>\n",
       "      <td>{I, T}</td>\n",
       "      <td>False</td>\n",
       "      <td>float</td>\n",
       "      <td>3092.0</td>\n",
       "      <td>7.9000</td>\n",
       "      <td>0.0000</td>\n",
       "      <td>6</td>\n",
       "      <td>9782</td>\n",
       "      <td>0</td>\n",
       "      <td>0</td>\n",
       "    </tr>\n",
       "    <tr>\n",
       "      <th>...</th>\n",
       "      <td>...</td>\n",
       "      <td>...</td>\n",
       "      <td>...</td>\n",
       "      <td>...</td>\n",
       "      <td>...</td>\n",
       "      <td>...</td>\n",
       "      <td>...</td>\n",
       "      <td>...</td>\n",
       "      <td>...</td>\n",
       "      <td>...</td>\n",
       "      <td>...</td>\n",
       "      <td>...</td>\n",
       "      <td>...</td>\n",
       "      <td>...</td>\n",
       "    </tr>\n",
       "    <tr>\n",
       "      <th>WMTMTC</th>\n",
       "      <td>BL/FU kMRI reading (FE): mean cartilage thickn...</td>\n",
       "      <td>0</td>\n",
       "      <td>{}</td>\n",
       "      <td>2</td>\n",
       "      <td>{I, T}</td>\n",
       "      <td>False</td>\n",
       "      <td>float</td>\n",
       "      <td>3218.0</td>\n",
       "      <td>3.0460</td>\n",
       "      <td>0.8673</td>\n",
       "      <td>6</td>\n",
       "      <td>9782</td>\n",
       "      <td>0</td>\n",
       "      <td>0</td>\n",
       "    </tr>\n",
       "    <tr>\n",
       "      <th>WLTVCN</th>\n",
       "      <td>BL/FU kMRI reading (FE): normalized cartilage ...</td>\n",
       "      <td>0</td>\n",
       "      <td>{}</td>\n",
       "      <td>2</td>\n",
       "      <td>{I, T}</td>\n",
       "      <td>False</td>\n",
       "      <td>float</td>\n",
       "      <td>3957.0</td>\n",
       "      <td>3.5356</td>\n",
       "      <td>0.0690</td>\n",
       "      <td>6</td>\n",
       "      <td>9779</td>\n",
       "      <td>0</td>\n",
       "      <td>0</td>\n",
       "    </tr>\n",
       "    <tr>\n",
       "      <th>WMTVCL</th>\n",
       "      <td>BL/FU kMRI reading (FE): volume of cartilage -...</td>\n",
       "      <td>0</td>\n",
       "      <td>{}</td>\n",
       "      <td>2</td>\n",
       "      <td>{I, T}</td>\n",
       "      <td>False</td>\n",
       "      <td>float</td>\n",
       "      <td>6211.0</td>\n",
       "      <td>5017.8010</td>\n",
       "      <td>435.4890</td>\n",
       "      <td>6</td>\n",
       "      <td>9782</td>\n",
       "      <td>0</td>\n",
       "      <td>0</td>\n",
       "    </tr>\n",
       "    <tr>\n",
       "      <th>WLTPD</th>\n",
       "      <td>BL/FU kMRI reading (FE): % area of subchondral...</td>\n",
       "      <td>0</td>\n",
       "      <td>{}</td>\n",
       "      <td>2</td>\n",
       "      <td>{I, T}</td>\n",
       "      <td>False</td>\n",
       "      <td>float</td>\n",
       "      <td>1956.0</td>\n",
       "      <td>94.1220</td>\n",
       "      <td>0.0000</td>\n",
       "      <td>6</td>\n",
       "      <td>9779</td>\n",
       "      <td>0</td>\n",
       "      <td>0</td>\n",
       "    </tr>\n",
       "    <tr>\n",
       "      <th>BARCDFE</th>\n",
       "      <td>BL/FU kMRI reading (FE): barcode of image anal...</td>\n",
       "      <td>6641</td>\n",
       "      <td>{, 016610214503, 016611743103, 016610688111, 0...</td>\n",
       "      <td>0</td>\n",
       "      <td>{}</td>\n",
       "      <td>False</td>\n",
       "      <td>None</td>\n",
       "      <td>NaN</td>\n",
       "      <td>NaN</td>\n",
       "      <td>NaN</td>\n",
       "      <td>9790</td>\n",
       "      <td>0</td>\n",
       "      <td>0</td>\n",
       "      <td>0</td>\n",
       "    </tr>\n",
       "  </tbody>\n",
       "</table>\n",
       "<p>94 rows × 14 columns</p>\n",
       "</div>"
      ],
      "text/plain": [
       "                                                     label  uniq_strs  \\\n",
       "col                                                                     \n",
       "READPRJ                                            Project          9   \n",
       "CBLFMAT  BL/FU kMRI reading (FE): minimum cartilage thi...          0   \n",
       "CBMFPD   BL/FU kMRI reading (FE): % area of subchondral...          0   \n",
       "BMFACV   BL/FU kMRI reading (FE): CV of cartilage thick...          0   \n",
       "BMTFMTH  BL/FU kMRI reading (FE): mean cartilage thickn...          0   \n",
       "...                                                    ...        ...   \n",
       "WMTMTC   BL/FU kMRI reading (FE): mean cartilage thickn...          0   \n",
       "WLTVCN   BL/FU kMRI reading (FE): normalized cartilage ...          0   \n",
       "WMTVCL   BL/FU kMRI reading (FE): volume of cartilage -...          0   \n",
       "WLTPD    BL/FU kMRI reading (FE): % area of subchondral...          0   \n",
       "BARCDFE  BL/FU kMRI reading (FE): barcode of image anal...       6641   \n",
       "\n",
       "                                                  str_list  missing_val_cnt  \\\n",
       "col                                                                           \n",
       "READPRJ            {07, 18, 66, 08, 22b, 09A, 04, 09B, 22}                0   \n",
       "CBLFMAT                                                 {}                2   \n",
       "CBMFPD                                                  {}                2   \n",
       "BMFACV                                                  {}                2   \n",
       "BMTFMTH                                                 {}                2   \n",
       "...                                                    ...              ...   \n",
       "WMTMTC                                                  {}                2   \n",
       "WLTVCN                                                  {}                2   \n",
       "WMTVCL                                                  {}                2   \n",
       "WLTPD                                                   {}                2   \n",
       "BARCDFE  {, 016610214503, 016611743103, 016610688111, 0...                0   \n",
       "\n",
       "        missing_val_list  numeric_str num_type  uniq_num    max_num   min_num  \\\n",
       "col                                                                             \n",
       "READPRJ               {}        False     None       NaN        NaN       NaN   \n",
       "CBLFMAT           {I, T}        False    float    3570.0     3.8340    0.0000   \n",
       "CBMFPD            {I, T}        False    float    1959.0   100.0000    0.0000   \n",
       "BMFACV            {I, T}        False    float    8266.0   283.1440    8.2590   \n",
       "BMTFMTH           {I, T}        False    float    3092.0     7.9000    0.0000   \n",
       "...                  ...          ...      ...       ...        ...       ...   \n",
       "WMTMTC            {I, T}        False    float    3218.0     3.0460    0.8673   \n",
       "WLTVCN            {I, T}        False    float    3957.0     3.5356    0.0690   \n",
       "WMTVCL            {I, T}        False    float    6211.0  5017.8010  435.4890   \n",
       "WLTPD             {I, T}        False    float    1956.0    94.1220    0.0000   \n",
       "BARCDFE               {}        False     None       NaN        NaN       NaN   \n",
       "\n",
       "         str_cnt  num_cnt  date_cnt  na_cnt  \n",
       "col                                          \n",
       "READPRJ     9790        0         0       0  \n",
       "CBLFMAT        6     9779         0       0  \n",
       "CBMFPD         6     9782         0       0  \n",
       "BMFACV         6     9782         0       0  \n",
       "BMTFMTH        6     9782         0       0  \n",
       "...          ...      ...       ...     ...  \n",
       "WMTMTC         6     9782         0       0  \n",
       "WLTVCN         6     9779         0       0  \n",
       "WMTVCL         6     9782         0       0  \n",
       "WLTPD          6     9779         0       0  \n",
       "BARCDFE     9790        0         0       0  \n",
       "\n",
       "[94 rows x 14 columns]"
      ]
     },
     "execution_count": 172,
     "metadata": {},
     "output_type": "execute_result"
    }
   ],
   "source": [
    "data_stats_summary(tmp_df, data_stats_df)\n",
    "data_stats_df"
   ]
  },
  {
   "cell_type": "code",
   "execution_count": 173,
   "id": "4e38e6a1",
   "metadata": {
    "execution": {
     "iopub.execute_input": "2023-12-21T21:03:49.573754Z",
     "iopub.status.busy": "2023-12-21T21:03:49.573525Z",
     "iopub.status.idle": "2023-12-21T21:03:49.585309Z",
     "shell.execute_reply": "2023-12-21T21:03:49.584480Z",
     "shell.execute_reply.started": "2023-12-21T21:03:49.573731Z"
    },
    "pycharm": {
     "name": "#%%\n"
    }
   },
   "outputs": [
    {
     "name": "stdout",
     "output_type": "stream",
     "text": [
      "targets = {\n",
      "# Columns with only floats, missing, and NA values\n",
      "'float': ['CBLFMAT', 'CBMFPD', 'BMFACV', 'BMTFMTH', 'WLTFMAV', 'IMTMTH', 'PLTMTH', 'BLFVCL', 'WMTCTS', 'BMFPD', 'BMFMTC', 'EMTMTH', 'WLTVCL', 'BLFACS', 'WMTVCN', 'WMTMAV', 'EBLFPD', 'AMTPD', 'WLTFMTH', 'WMTMTH', 'EMTPD', 'WLTFVCL', 'CMTMTH', 'CLTMAT', 'ILTMTH', 'WMTCAAB', 'BMFVCL', 'PMTPD', 'BLFACV', 'BMTFMAT', 'WMTFMTH', 'IBLFPD', 'EBMFPD', 'BMFACS', 'CMTPD', 'BLTFMAT', 'WLTCTS', 'WLTMAV', 'IBMFMTH', 'WMTFMAV', 'AMTMTH', 'WMTFVCN', 'ALTPD', 'WMTSBA', 'BMFVCN', 'BLFMTC', 'ELTMTH', 'PLTPD', 'BLFMAV', 'IMTPD', 'WLTFVCN', 'BLFVCN', 'EBMFMTH', 'WLTACV', 'IBLFMT', 'ELTPD', 'BLFCAAB', 'WMTFVCL', 'WLTMTH', 'CMTMAT', 'WLTCAAB', 'BLFSBA', 'IBMFPD', 'BLFCTS', 'CLTMTH', 'WLTMTC', 'CLTPD', 'CBMFMTH', 'WMTPD', 'PMTMTH', 'BLFMTH', 'WMTACS', 'ILTPD', 'CBMFMAT', 'EBLFMT', 'WLTSBA', 'WMTACV', 'ALTMTH', 'CBLFPD', 'BLTFMTH', 'BMFCAAB', 'CBLFMT', 'WLTACS', 'BMFMTH', 'BMFCTS', 'BMFSBA', 'BMFMAV', 'BLFPD', 'WMTMTC', 'WLTVCN', 'WMTVCL', 'WLTPD'],\n",
      "\n",
      "# Columns with only strings, missing, and NA values\n",
      "'cat': ['READPRJ', 'BARCDFE'],\n",
      "\n",
      "}\n",
      "\n",
      "\n",
      "Handled columns: 94\n"
     ]
    }
   ],
   "source": [
    "suggest_conversions(data_stats_df)"
   ]
  },
  {
   "cell_type": "code",
   "execution_count": 174,
   "id": "8c5cb97b",
   "metadata": {
    "execution": {
     "iopub.execute_input": "2023-12-21T21:03:49.587144Z",
     "iopub.status.busy": "2023-12-21T21:03:49.586844Z",
     "iopub.status.idle": "2023-12-21T21:03:50.863952Z",
     "shell.execute_reply": "2023-12-21T21:03:50.863265Z",
     "shell.execute_reply.started": "2023-12-21T21:03:49.587114Z"
    },
    "pycharm": {
     "name": "#%%\n"
    }
   },
   "outputs": [],
   "source": [
    "targets = {\n",
    "# Columns with only floats, missing, and NA values\n",
    "'float': ['CBLFMAT', 'CBMFPD', 'BMFACV', 'BMTFMTH', 'WLTFMAV', 'IMTMTH', 'PLTMTH', 'BLFVCL', 'WMTCTS', 'BMFPD', 'BMFMTC', 'EMTMTH', 'WLTVCL', 'BLFACS', 'WMTVCN', 'WMTMAV', 'EBLFPD', 'AMTPD', 'WLTFMTH', 'WMTMTH', 'EMTPD', 'WLTFVCL', 'CMTMTH', 'CLTMAT', 'ILTMTH', 'WMTCAAB', 'BMFVCL', 'PMTPD', 'BLFACV', 'BMTFMAT', 'WMTFMTH', 'IBLFPD', 'EBMFPD', 'BMFACS', 'CMTPD', 'BLTFMAT', 'WLTCTS', 'WLTMAV', 'IBMFMTH', 'WMTFMAV', 'AMTMTH', 'WMTFVCN', 'ALTPD', 'WMTSBA', 'BMFVCN', 'BLFMTC', 'ELTMTH', 'PLTPD', 'BLFMAV', 'IMTPD', 'WLTFVCN', 'BLFVCN', 'EBMFMTH', 'WLTACV', 'IBLFMT', 'ELTPD', 'BLFCAAB', 'WMTFVCL', 'WLTMTH', 'CMTMAT', 'WLTCAAB', 'BLFSBA', 'IBMFPD', 'BLFCTS', 'CLTMTH', 'WLTMTC', 'CLTPD', 'CBMFMTH', 'WMTPD', 'PMTMTH', 'BLFMTH', 'WMTACS', 'ILTPD', 'CBMFMAT', 'EBLFMT', 'WLTSBA', 'WMTACV', 'ALTMTH', 'CBLFPD', 'BLTFMTH', 'BMFCAAB', 'CBLFMT', 'WLTACS', 'BMFMTH', 'BMFCTS', 'BMFSBA', 'BMFMAV', 'BLFPD', 'WMTMTC', 'WLTVCN', 'WMTVCL', 'WLTPD'],\n",
    "\n",
    "# Columns with only strings, missing, and NA values\n",
    "'cat': ['BARCDFE'],\n",
    "\n",
    "}\n",
    "new_df, missing_df = convert_columns(targets, data_stats_df, tmp_df)"
   ]
  },
  {
   "cell_type": "code",
   "execution_count": 175,
   "id": "8cc69151",
   "metadata": {
    "execution": {
     "iopub.execute_input": "2023-12-21T21:03:50.865282Z",
     "iopub.status.busy": "2023-12-21T21:03:50.865057Z",
     "iopub.status.idle": "2023-12-21T21:03:50.894747Z",
     "shell.execute_reply": "2023-12-21T21:03:50.894081Z",
     "shell.execute_reply.started": "2023-12-21T21:03:50.865256Z"
    },
    "pycharm": {
     "name": "#%%\n"
    }
   },
   "outputs": [
    {
     "name": "stdout",
     "output_type": "stream",
     "text": [
      "Columns still object type:  ['READPRJ']\n",
      "\n",
      "VERSION    category\n",
      "SIDE       category\n",
      "READPRJ      object\n",
      "CBLFMAT     float32\n",
      "CBMFPD      float32\n",
      "             ...   \n",
      "WMTMTC      float32\n",
      "WLTVCN      float32\n",
      "WMTVCL      float32\n",
      "WLTPD       float32\n",
      "BARCDFE    category\n",
      "Length: 96, dtype: object\n",
      "\n",
      "Missing values present, shadow dataframe created.\n",
      "              CBLFMAT CBMFPD BMFACV BMTFMTH WLTFMAV IMTMTH PLTMTH BLFVCL  \\\n",
      "ID      Visit                                                              \n",
      "9000099 V00       NaN    NaN    NaN     NaN     NaN    NaN    NaN    NaN   \n",
      "        V00       NaN    NaN    NaN     NaN     NaN    NaN    NaN    NaN   \n",
      "9000296 V00       NaN    NaN    NaN     NaN     NaN    NaN    NaN    NaN   \n",
      "9000798 V00       NaN    NaN    NaN     NaN     NaN    NaN    NaN    NaN   \n",
      "        V00       NaN    NaN    NaN     NaN     NaN    NaN    NaN    NaN   \n",
      "...               ...    ...    ...     ...     ...    ...    ...    ...   \n",
      "9995338 V06       NaN    NaN    NaN     NaN     NaN    NaN    NaN    NaN   \n",
      "9996098 V06       NaN    NaN    NaN     NaN     NaN    NaN    NaN    NaN   \n",
      "        V06       NaN    NaN    NaN     NaN     NaN    NaN    NaN    NaN   \n",
      "        V06       NaN    NaN    NaN     NaN     NaN    NaN    NaN    NaN   \n",
      "9997381 V06       NaN    NaN    NaN     NaN     NaN    NaN    NaN    NaN   \n",
      "\n",
      "              WMTCTS BMFPD  ... WLTACS BMFMTH BMFCTS BMFSBA BMFMAV BLFPD  \\\n",
      "ID      Visit               ...                                            \n",
      "9000099 V00      NaN   NaN  ...    NaN    NaN    NaN    NaN    NaN   NaN   \n",
      "        V00      NaN   NaN  ...    NaN    NaN    NaN    NaN    NaN   NaN   \n",
      "9000296 V00      NaN   NaN  ...    NaN    NaN    NaN    NaN    NaN   NaN   \n",
      "9000798 V00      NaN   NaN  ...    NaN    NaN    NaN    NaN    NaN   NaN   \n",
      "        V00      NaN   NaN  ...    NaN    NaN    NaN    NaN    NaN   NaN   \n",
      "...              ...   ...  ...    ...    ...    ...    ...    ...   ...   \n",
      "9995338 V06      NaN   NaN  ...    NaN    NaN    NaN    NaN    NaN   NaN   \n",
      "9996098 V06      NaN   NaN  ...    NaN    NaN    NaN    NaN    NaN   NaN   \n",
      "        V06      NaN   NaN  ...    NaN    NaN    NaN    NaN    NaN   NaN   \n",
      "        V06      NaN   NaN  ...    NaN    NaN    NaN    NaN    NaN   NaN   \n",
      "9997381 V06      NaN   NaN  ...    NaN    NaN    NaN    NaN    NaN   NaN   \n",
      "\n",
      "              WMTMTC WLTVCN WMTVCL WLTPD  \n",
      "ID      Visit                             \n",
      "9000099 V00      NaN    NaN    NaN   NaN  \n",
      "        V00      NaN    NaN    NaN   NaN  \n",
      "9000296 V00      NaN    NaN    NaN   NaN  \n",
      "9000798 V00      NaN    NaN    NaN   NaN  \n",
      "        V00      NaN    NaN    NaN   NaN  \n",
      "...              ...    ...    ...   ...  \n",
      "9995338 V06      NaN    NaN    NaN   NaN  \n",
      "9996098 V06      NaN    NaN    NaN   NaN  \n",
      "        V06      NaN    NaN    NaN   NaN  \n",
      "        V06      NaN    NaN    NaN   NaN  \n",
      "9997381 V06      NaN    NaN    NaN   NaN  \n",
      "\n",
      "[9790 rows x 92 columns]\n"
     ]
    }
   ],
   "source": [
    "sanity_check(new_df)\n",
    "print()\n",
    "print(new_df.dtypes)\n",
    "if not missing_df.empty:\n",
    "    print('\\nMissing values present, shadow dataframe created.')\n",
    "    print(missing_df)"
   ]
  },
  {
   "cell_type": "code",
   "execution_count": 176,
   "id": "48577233",
   "metadata": {
    "execution": {
     "iopub.execute_input": "2023-12-21T21:03:50.896014Z",
     "iopub.status.busy": "2023-12-21T21:03:50.895631Z",
     "iopub.status.idle": "2023-12-21T21:03:50.914028Z",
     "shell.execute_reply": "2023-12-21T21:03:50.913304Z",
     "shell.execute_reply.started": "2023-12-21T21:03:50.895990Z"
    },
    "pycharm": {
     "name": "#%%\n"
    }
   },
   "outputs": [
    {
     "name": "stdout",
     "output_type": "stream",
     "text": [
      "\n",
      "Final dataframe size: 4.80MB\n",
      "Shadow dataframe size: 0.96MB\n"
     ]
    }
   ],
   "source": [
    "print('\\nFinal dataframe size: {:.2f}MB'.format(new_df.memory_usage(deep=True).sum() / (1024**2)))\n",
    "print('Shadow dataframe size: {:.2f}MB'.format(missing_df.memory_usage(deep=True).sum() / (1024**2)))"
   ]
  },
  {
   "cell_type": "code",
   "execution_count": 177,
   "id": "1bd699fc-9c60-4e60-ad57-4afb7794f271",
   "metadata": {
    "execution": {
     "iopub.execute_input": "2023-12-21T21:03:50.915390Z",
     "iopub.status.busy": "2023-12-21T21:03:50.915117Z",
     "iopub.status.idle": "2023-12-21T21:03:51.071866Z",
     "shell.execute_reply": "2023-12-21T21:03:51.071173Z",
     "shell.execute_reply.started": "2023-12-21T21:03:50.915364Z"
    }
   },
   "outputs": [],
   "source": [
    "utils.write_parquet(new_df, 'data/' + prefix + '_values.parquet')\n",
    "if not missing_df.empty:\n",
    "    utils.write_parquet(new_df, 'data/' + prefix + '_missing_values.parquet', verbose=False)"
   ]
  },
  {
   "cell_type": "markdown",
   "id": "79fad484",
   "metadata": {
    "tags": []
   },
   "source": [
    "## kmri_qcart_link"
   ]
  },
  {
   "cell_type": "code",
   "execution_count": 178,
   "id": "3b264f70",
   "metadata": {
    "execution": {
     "iopub.execute_input": "2023-12-21T21:03:51.073236Z",
     "iopub.status.busy": "2023-12-21T21:03:51.073033Z",
     "iopub.status.idle": "2023-12-21T21:03:54.468658Z",
     "shell.execute_reply": "2023-12-21T21:03:54.467779Z",
     "shell.execute_reply.started": "2023-12-21T21:03:51.073214Z"
    },
    "pycharm": {
     "name": "#%%\n"
    }
   },
   "outputs": [
    {
     "name": "stdout",
     "output_type": "stream",
     "text": [
      "\n",
      "kmri_qcart_link00.sas7bdat: (300, 9)\n",
      "['ID', 'VERSION', 'READPRJ', 'LFT2AV', 'LTT2AV', 'MFT2AV', 'MTT2AV', 'PATT2AV', 'AccessionNumber']\n",
      "\n",
      "kmri_qcart_link03.sas7bdat: (287, 9)\n",
      "Names only differ by case\n",
      "\n",
      "kmri_qcart_link06.sas7bdat: (300, 9)\n",
      "Names only differ by case\n",
      "\n",
      "Total rows: 887\n"
     ]
    }
   ],
   "source": [
    "prefix = 'kmri_qcart_link'\n",
    "column_uniformity_check(prefix)"
   ]
  },
  {
   "cell_type": "code",
   "execution_count": 179,
   "id": "56ea404e",
   "metadata": {
    "execution": {
     "iopub.execute_input": "2023-12-21T21:03:54.470448Z",
     "iopub.status.busy": "2023-12-21T21:03:54.470064Z",
     "iopub.status.idle": "2023-12-21T21:03:57.751423Z",
     "shell.execute_reply": "2023-12-21T21:03:57.750534Z",
     "shell.execute_reply.started": "2023-12-21T21:03:54.470415Z"
    },
    "pycharm": {
     "name": "#%%\n"
    }
   },
   "outputs": [
    {
     "name": "stdout",
     "output_type": "stream",
     "text": [
      "kmri_qcart_link00.sas7bdat\tVar Cnt: 9\n",
      "Visits: ['V00']\n",
      "kmri_qcart_link03.sas7bdat\tVar Cnt: 9\n",
      "Visits: ['V03']\n",
      "kmri_qcart_link06.sas7bdat\tVar Cnt: 9\n",
      "Visits: ['V06']\n",
      "(887, 9)\n",
      "\n",
      "Starting dataframe size: 0.20MB\n"
     ]
    }
   ],
   "source": [
    "tmp_df = create_df(prefix)\n",
    "print(tmp_df.shape)\n",
    "print('\\nStarting dataframe size: {:.2f}MB'.format(tmp_df.memory_usage(deep=True).sum() / (1024**2)))"
   ]
  },
  {
   "cell_type": "code",
   "execution_count": 180,
   "id": "a08527f7",
   "metadata": {
    "execution": {
     "iopub.execute_input": "2023-12-21T21:03:57.753200Z",
     "iopub.status.busy": "2023-12-21T21:03:57.752925Z",
     "iopub.status.idle": "2023-12-21T21:03:57.780064Z",
     "shell.execute_reply": "2023-12-21T21:03:57.779393Z",
     "shell.execute_reply.started": "2023-12-21T21:03:57.753170Z"
    },
    "pycharm": {
     "name": "#%%\n"
    }
   },
   "outputs": [],
   "source": [
    "data_stats_df, done_df = gather_column_data_stats(tmp_df)"
   ]
  },
  {
   "cell_type": "code",
   "execution_count": 181,
   "id": "622e3c2f",
   "metadata": {
    "execution": {
     "iopub.execute_input": "2023-12-21T21:03:57.781431Z",
     "iopub.status.busy": "2023-12-21T21:03:57.781202Z",
     "iopub.status.idle": "2023-12-21T21:03:57.809661Z",
     "shell.execute_reply": "2023-12-21T21:03:57.808973Z",
     "shell.execute_reply.started": "2023-12-21T21:03:57.781404Z"
    },
    "pycharm": {
     "name": "#%%\n"
    }
   },
   "outputs": [
    {
     "name": "stdout",
     "output_type": "stream",
     "text": [
      "Already defined cols: 3 \tCols to convert: 6\t Total col cnt: 9\n",
      "\n",
      "Column types to convert:\n",
      "   str_cnt  num_cnt  date_cnt  na_cnt  count\n",
      "0     True    False     False   False      1\n",
      "1     True     True     False   False      5\n",
      "\n",
      "Numeric types of columns:\n",
      "num_type\n",
      "float    5\n",
      "Name: count, dtype: int64\n",
      "\n",
      "Largest number of unique strings: 1\n"
     ]
    },
    {
     "data": {
      "text/html": [
       "<div>\n",
       "<style scoped>\n",
       "    .dataframe tbody tr th:only-of-type {\n",
       "        vertical-align: middle;\n",
       "    }\n",
       "\n",
       "    .dataframe tbody tr th {\n",
       "        vertical-align: top;\n",
       "    }\n",
       "\n",
       "    .dataframe thead th {\n",
       "        text-align: right;\n",
       "    }\n",
       "</style>\n",
       "<table border=\"1\" class=\"dataframe\">\n",
       "  <thead>\n",
       "    <tr style=\"text-align: right;\">\n",
       "      <th></th>\n",
       "      <th>label</th>\n",
       "      <th>uniq_strs</th>\n",
       "      <th>str_list</th>\n",
       "      <th>missing_val_cnt</th>\n",
       "      <th>missing_val_list</th>\n",
       "      <th>numeric_str</th>\n",
       "      <th>num_type</th>\n",
       "      <th>uniq_num</th>\n",
       "      <th>max_num</th>\n",
       "      <th>min_num</th>\n",
       "      <th>str_cnt</th>\n",
       "      <th>num_cnt</th>\n",
       "      <th>date_cnt</th>\n",
       "      <th>na_cnt</th>\n",
       "    </tr>\n",
       "    <tr>\n",
       "      <th>col</th>\n",
       "      <th></th>\n",
       "      <th></th>\n",
       "      <th></th>\n",
       "      <th></th>\n",
       "      <th></th>\n",
       "      <th></th>\n",
       "      <th></th>\n",
       "      <th></th>\n",
       "      <th></th>\n",
       "      <th></th>\n",
       "      <th></th>\n",
       "      <th></th>\n",
       "      <th></th>\n",
       "      <th></th>\n",
       "    </tr>\n",
       "  </thead>\n",
       "  <tbody>\n",
       "    <tr>\n",
       "      <th>READPRJ</th>\n",
       "      <td>Project</td>\n",
       "      <td>1</td>\n",
       "      <td>{40}</td>\n",
       "      <td>0</td>\n",
       "      <td>{}</td>\n",
       "      <td>True</td>\n",
       "      <td>None</td>\n",
       "      <td>NaN</td>\n",
       "      <td>NaN</td>\n",
       "      <td>NaN</td>\n",
       "      <td>887</td>\n",
       "      <td>0</td>\n",
       "      <td>0</td>\n",
       "      <td>0</td>\n",
       "    </tr>\n",
       "    <tr>\n",
       "      <th>LFT2AV</th>\n",
       "      <td>BL/FU kMRI reading (TL): average cartilage T2 ...</td>\n",
       "      <td>0</td>\n",
       "      <td>{}</td>\n",
       "      <td>1</td>\n",
       "      <td>{T}</td>\n",
       "      <td>False</td>\n",
       "      <td>float</td>\n",
       "      <td>837.0</td>\n",
       "      <td>42.817</td>\n",
       "      <td>28.477</td>\n",
       "      <td>14</td>\n",
       "      <td>873</td>\n",
       "      <td>0</td>\n",
       "      <td>0</td>\n",
       "    </tr>\n",
       "    <tr>\n",
       "      <th>LTT2AV</th>\n",
       "      <td>BL/FU kMRI reading (TL): average cartilage T2 ...</td>\n",
       "      <td>0</td>\n",
       "      <td>{}</td>\n",
       "      <td>1</td>\n",
       "      <td>{T}</td>\n",
       "      <td>False</td>\n",
       "      <td>float</td>\n",
       "      <td>824.0</td>\n",
       "      <td>44.593</td>\n",
       "      <td>23.638</td>\n",
       "      <td>19</td>\n",
       "      <td>867</td>\n",
       "      <td>0</td>\n",
       "      <td>0</td>\n",
       "    </tr>\n",
       "    <tr>\n",
       "      <th>MFT2AV</th>\n",
       "      <td>BL/FU kMRI reading (TL): average cartilage T2 ...</td>\n",
       "      <td>0</td>\n",
       "      <td>{}</td>\n",
       "      <td>1</td>\n",
       "      <td>{T}</td>\n",
       "      <td>False</td>\n",
       "      <td>float</td>\n",
       "      <td>825.0</td>\n",
       "      <td>55.220</td>\n",
       "      <td>30.015</td>\n",
       "      <td>17</td>\n",
       "      <td>870</td>\n",
       "      <td>0</td>\n",
       "      <td>0</td>\n",
       "    </tr>\n",
       "    <tr>\n",
       "      <th>MTT2AV</th>\n",
       "      <td>BL/FU kMRI reading (TL): average cartilage T2 ...</td>\n",
       "      <td>0</td>\n",
       "      <td>{}</td>\n",
       "      <td>1</td>\n",
       "      <td>{T}</td>\n",
       "      <td>False</td>\n",
       "      <td>float</td>\n",
       "      <td>817.0</td>\n",
       "      <td>60.378</td>\n",
       "      <td>24.722</td>\n",
       "      <td>17</td>\n",
       "      <td>870</td>\n",
       "      <td>0</td>\n",
       "      <td>0</td>\n",
       "    </tr>\n",
       "    <tr>\n",
       "      <th>PATT2AV</th>\n",
       "      <td>BL/FU kMRI reading (TL): average cartilage T2 ...</td>\n",
       "      <td>0</td>\n",
       "      <td>{}</td>\n",
       "      <td>1</td>\n",
       "      <td>{T}</td>\n",
       "      <td>False</td>\n",
       "      <td>float</td>\n",
       "      <td>826.0</td>\n",
       "      <td>65.140</td>\n",
       "      <td>22.994</td>\n",
       "      <td>28</td>\n",
       "      <td>859</td>\n",
       "      <td>0</td>\n",
       "      <td>0</td>\n",
       "    </tr>\n",
       "  </tbody>\n",
       "</table>\n",
       "</div>"
      ],
      "text/plain": [
       "                                                     label  uniq_strs  \\\n",
       "col                                                                     \n",
       "READPRJ                                            Project          1   \n",
       "LFT2AV   BL/FU kMRI reading (TL): average cartilage T2 ...          0   \n",
       "LTT2AV   BL/FU kMRI reading (TL): average cartilage T2 ...          0   \n",
       "MFT2AV   BL/FU kMRI reading (TL): average cartilage T2 ...          0   \n",
       "MTT2AV   BL/FU kMRI reading (TL): average cartilage T2 ...          0   \n",
       "PATT2AV  BL/FU kMRI reading (TL): average cartilage T2 ...          0   \n",
       "\n",
       "        str_list  missing_val_cnt missing_val_list  numeric_str num_type  \\\n",
       "col                                                                        \n",
       "READPRJ     {40}                0               {}         True     None   \n",
       "LFT2AV        {}                1              {T}        False    float   \n",
       "LTT2AV        {}                1              {T}        False    float   \n",
       "MFT2AV        {}                1              {T}        False    float   \n",
       "MTT2AV        {}                1              {T}        False    float   \n",
       "PATT2AV       {}                1              {T}        False    float   \n",
       "\n",
       "         uniq_num  max_num  min_num  str_cnt  num_cnt  date_cnt  na_cnt  \n",
       "col                                                                      \n",
       "READPRJ       NaN      NaN      NaN      887        0         0       0  \n",
       "LFT2AV      837.0   42.817   28.477       14      873         0       0  \n",
       "LTT2AV      824.0   44.593   23.638       19      867         0       0  \n",
       "MFT2AV      825.0   55.220   30.015       17      870         0       0  \n",
       "MTT2AV      817.0   60.378   24.722       17      870         0       0  \n",
       "PATT2AV     826.0   65.140   22.994       28      859         0       0  "
      ]
     },
     "execution_count": 181,
     "metadata": {},
     "output_type": "execute_result"
    }
   ],
   "source": [
    "data_stats_summary(tmp_df, data_stats_df)\n",
    "data_stats_df"
   ]
  },
  {
   "cell_type": "code",
   "execution_count": 182,
   "id": "787ad7ef",
   "metadata": {
    "execution": {
     "iopub.execute_input": "2023-12-21T21:03:57.811264Z",
     "iopub.status.busy": "2023-12-21T21:03:57.810933Z",
     "iopub.status.idle": "2023-12-21T21:03:57.822606Z",
     "shell.execute_reply": "2023-12-21T21:03:57.821849Z",
     "shell.execute_reply.started": "2023-12-21T21:03:57.811237Z"
    },
    "pycharm": {
     "name": "#%%\n"
    }
   },
   "outputs": [
    {
     "name": "stdout",
     "output_type": "stream",
     "text": [
      "targets = {\n",
      "# Columns with only floats, missing, and NA values\n",
      "'float': ['LFT2AV', 'LTT2AV', 'MFT2AV', 'MTT2AV', 'PATT2AV'],\n",
      "\n",
      "# Columns with only strings, missing, and NA values\n",
      "'cat': ['READPRJ'],\n",
      "\n",
      "}\n",
      "\n",
      "\n",
      "Handled columns: 6\n"
     ]
    }
   ],
   "source": [
    "suggest_conversions(data_stats_df)"
   ]
  },
  {
   "cell_type": "code",
   "execution_count": 183,
   "id": "71005245",
   "metadata": {
    "execution": {
     "iopub.execute_input": "2023-12-21T21:03:57.824243Z",
     "iopub.status.busy": "2023-12-21T21:03:57.823803Z",
     "iopub.status.idle": "2023-12-21T21:03:57.861443Z",
     "shell.execute_reply": "2023-12-21T21:03:57.860701Z",
     "shell.execute_reply.started": "2023-12-21T21:03:57.824216Z"
    },
    "pycharm": {
     "name": "#%%\n"
    }
   },
   "outputs": [],
   "source": [
    "targets = {\n",
    "# Columns with only floats, missing, and NA values\n",
    "'float': ['LFT2AV', 'LTT2AV', 'MFT2AV', 'MTT2AV', 'PATT2AV'],\n",
    "\n",
    "}\n",
    "\n",
    "new_df, missing_df = convert_columns(targets, data_stats_df, tmp_df)"
   ]
  },
  {
   "cell_type": "code",
   "execution_count": 184,
   "id": "61ba2661",
   "metadata": {
    "execution": {
     "iopub.execute_input": "2023-12-21T21:03:57.862810Z",
     "iopub.status.busy": "2023-12-21T21:03:57.862414Z",
     "iopub.status.idle": "2023-12-21T21:03:57.877129Z",
     "shell.execute_reply": "2023-12-21T21:03:57.876435Z",
     "shell.execute_reply.started": "2023-12-21T21:03:57.862783Z"
    },
    "pycharm": {
     "name": "#%%\n"
    }
   },
   "outputs": [
    {
     "name": "stdout",
     "output_type": "stream",
     "text": [
      "Columns still object type:  ['READPRJ']\n",
      "\n",
      "VERSION    category\n",
      "READPRJ      object\n",
      "LFT2AV      float32\n",
      "LTT2AV      float32\n",
      "MFT2AV      float32\n",
      "MTT2AV      float32\n",
      "PATT2AV     float32\n",
      "dtype: object\n",
      "\n",
      "Missing values present, shadow dataframe created.\n",
      "              LFT2AV LTT2AV MFT2AV MTT2AV                 PATT2AV\n",
      "ID      Visit                                                    \n",
      "9003175 V00      NaN    NaN    NaN    NaN                     NaN\n",
      "9011115 V00      NaN    NaN    NaN    NaN                     NaN\n",
      "9011949 V00      NaN    NaN    NaN    NaN                     NaN\n",
      "9013634 V00      NaN    NaN    NaN    NaN  .T: Technical problems\n",
      "9015798 V00      NaN    NaN    NaN    NaN                     NaN\n",
      "...              ...    ...    ...    ...                     ...\n",
      "9982698 V06      NaN    NaN    NaN    NaN                     NaN\n",
      "9983798 V06      NaN    NaN    NaN    NaN                     NaN\n",
      "9989352 V06      NaN    NaN    NaN    NaN                     NaN\n",
      "9995913 V06      NaN    NaN    NaN    NaN                     NaN\n",
      "9996345 V06      NaN    NaN    NaN    NaN                     NaN\n",
      "\n",
      "[887 rows x 5 columns]\n"
     ]
    }
   ],
   "source": [
    "sanity_check(new_df)\n",
    "print()\n",
    "print(new_df.dtypes)\n",
    "if not missing_df.empty:\n",
    "    print('\\nMissing values present, shadow dataframe created.')\n",
    "    print(missing_df)"
   ]
  },
  {
   "cell_type": "code",
   "execution_count": 185,
   "id": "732ee473",
   "metadata": {
    "execution": {
     "iopub.execute_input": "2023-12-21T21:03:57.878369Z",
     "iopub.status.busy": "2023-12-21T21:03:57.878033Z",
     "iopub.status.idle": "2023-12-21T21:03:57.885534Z",
     "shell.execute_reply": "2023-12-21T21:03:57.884709Z",
     "shell.execute_reply.started": "2023-12-21T21:03:57.878346Z"
    },
    "pycharm": {
     "name": "#%%\n"
    }
   },
   "outputs": [
    {
     "name": "stdout",
     "output_type": "stream",
     "text": [
      "\n",
      "Final dataframe size: 0.08MB\n",
      "Shadow dataframe size: 0.02MB\n"
     ]
    }
   ],
   "source": [
    "print('\\nFinal dataframe size: {:.2f}MB'.format(new_df.memory_usage(deep=True).sum() / (1024**2)))\n",
    "print('Shadow dataframe size: {:.2f}MB'.format(missing_df.memory_usage(deep=True).sum() / (1024**2)))"
   ]
  },
  {
   "cell_type": "code",
   "execution_count": 186,
   "id": "304cd7d4-caf9-4e1f-9566-e90fcf5cce9c",
   "metadata": {
    "execution": {
     "iopub.execute_input": "2023-12-21T21:03:57.887300Z",
     "iopub.status.busy": "2023-12-21T21:03:57.886969Z",
     "iopub.status.idle": "2023-12-21T21:03:57.907434Z",
     "shell.execute_reply": "2023-12-21T21:03:57.906784Z",
     "shell.execute_reply.started": "2023-12-21T21:03:57.887271Z"
    }
   },
   "outputs": [],
   "source": [
    "utils.write_parquet(new_df, 'data/' + prefix + '_values.parquet')\n",
    "if not missing_df.empty:\n",
    "    utils.write_parquet(new_df, 'data/' + prefix + '_missing_values.parquet', verbose=False)"
   ]
  },
  {
   "cell_type": "markdown",
   "id": "23f2b7fe",
   "metadata": {
    "tags": []
   },
   "source": [
    "## kmri_qcart_vs"
   ]
  },
  {
   "cell_type": "code",
   "execution_count": 187,
   "id": "9b40f0dd",
   "metadata": {
    "execution": {
     "iopub.execute_input": "2023-12-21T21:03:57.908707Z",
     "iopub.status.busy": "2023-12-21T21:03:57.908437Z",
     "iopub.status.idle": "2023-12-21T21:04:00.157289Z",
     "shell.execute_reply": "2023-12-21T21:04:00.156428Z",
     "shell.execute_reply.started": "2023-12-21T21:03:57.908681Z"
    },
    "pycharm": {
     "name": "#%%\n"
    }
   },
   "outputs": [
    {
     "name": "stdout",
     "output_type": "stream",
     "text": [
      "\n",
      "kmri_qcart_vs00.sas7bdat: (160, 127)\n",
      "['ID', 'SIDE', 'READPRJ', 'VERSION', 'LTWVOL', 'PATTMAX', 'CLFTAVG', 'TRFNVOL', 'WFTAVG', 'CMFSABC', 'CMTSABC', 'PMFSADA', 'PATBMEV', 'CLFTVAR', 'CLTSAAS', 'LTNVOL', 'LTSABC', 'TRFTMAX', 'PLFSAAS', 'LTRBMEV', 'LTTMAX', 'CMTTAVG', 'CLTSABC', 'PLFSADA', 'MTSABC', 'BARCDVS', 'LPBMEV', 'MTNVOL', 'CLTSADA', 'CMTCAVG', 'MTSADA', 'CMFSAAS', 'PMFBMEV', 'CMTRENG', 'MTWVOL', 'PLFSABC', 'CLFWVOL', 'WFTVAR', 'CMFTVAR', 'CMTSADA', 'CMTSAAS', 'CLTRENG', 'CLFCAVG', 'CMFSADA', 'CLFRENG', 'CLTCAVG', 'CMTNVOL', 'WFTMAX', 'CMFTAVG', 'LTSAAS', 'CMTWVOL', 'CLFTMAX', 'MPBMEV', 'CMFCAVG', 'LTRENG', 'CLFSADA', 'CMFRENG', 'CLFSAAS', 'CMFWVOL', 'PLFTAVG', 'CLFSABC', 'MTRBMEV', 'CMTTVAR', 'LTTAVG', 'CLTTAVG', 'MTBMEV', 'PATCAVG', 'PLFRENG', 'CLFNVOL', 'CMTTMAX', 'MTTAVG', 'PMFTVAR', 'PLFWVOL', 'CLTNVOL', 'CLTWVOL', 'LTCAVG', 'PMFTAVG', 'PLFCAVG', 'LTBMEV', 'PMFCAVG', 'PLFTVAR', 'WFSADA', 'PATTAVG', 'MTCAVG', 'CLTTVAR', 'CMFNVOL', 'CLFBMEV', 'WFWVOL', 'CMFTMAX', 'TRFTAVG', 'WFSABC', 'MTRENG', 'MTSAAS', 'PATRENG', 'PMFWVOL', 'PLFNVOL', 'LTSADA', 'PMFSABC', 'MTTMAX', 'WFCAVG', 'TRFRENG', 'PATSAAS', 'CLTTMAX', 'MTTVAR', 'TRFWVOL', 'PMFRENG', 'PATNVOL', 'PLFTMAX', 'TRFCAVG', 'TRFSAAS', 'WFSAAS', 'PATWVOL', 'WFRENG', 'TRFTVAR', 'PLFBMEV', 'WFNVOL', 'PATSABC', 'PATTVAR', 'TRFSABC', 'TRFSADA', 'PMFSAAS', 'PMFNVOL', 'PMFTMAX', 'LTTVAR', 'CMFBMEV', 'PATSADA', 'VSORDR']\n",
      "\n",
      "kmri_qcart_vs01.sas7bdat: (160, 127)\n",
      "\n",
      "Total rows: 320\n"
     ]
    }
   ],
   "source": [
    "prefix = 'kmri_qcart_vs'\n",
    "column_uniformity_check(prefix)"
   ]
  },
  {
   "cell_type": "code",
   "execution_count": 188,
   "id": "89c83fc4",
   "metadata": {
    "execution": {
     "iopub.execute_input": "2023-12-21T21:04:00.159094Z",
     "iopub.status.busy": "2023-12-21T21:04:00.158797Z",
     "iopub.status.idle": "2023-12-21T21:04:02.308423Z",
     "shell.execute_reply": "2023-12-21T21:04:02.307640Z",
     "shell.execute_reply.started": "2023-12-21T21:04:00.159064Z"
    },
    "pycharm": {
     "name": "#%%\n"
    }
   },
   "outputs": [
    {
     "name": "stdout",
     "output_type": "stream",
     "text": [
      "kmri_qcart_vs00.sas7bdat\tVar Cnt: 127\n",
      "Visits: ['V00']\n",
      "kmri_qcart_vs01.sas7bdat\tVar Cnt: 127\n",
      "Visits: ['V01']\n",
      "(320, 128)\n",
      "\n",
      "Starting dataframe size: 1.29MB\n"
     ]
    }
   ],
   "source": [
    "tmp_df = create_df(prefix)\n",
    "print(tmp_df.shape)\n",
    "print('\\nStarting dataframe size: {:.2f}MB'.format(tmp_df.memory_usage(deep=True).sum() / (1024**2)))"
   ]
  },
  {
   "cell_type": "code",
   "execution_count": 189,
   "id": "812e70cb",
   "metadata": {
    "execution": {
     "iopub.execute_input": "2023-12-21T21:04:02.310255Z",
     "iopub.status.busy": "2023-12-21T21:04:02.309894Z",
     "iopub.status.idle": "2023-12-21T21:04:02.610631Z",
     "shell.execute_reply": "2023-12-21T21:04:02.609816Z",
     "shell.execute_reply.started": "2023-12-21T21:04:02.310227Z"
    },
    "pycharm": {
     "name": "#%%\n"
    }
   },
   "outputs": [],
   "source": [
    "data_stats_df, done_df = gather_column_data_stats(tmp_df)"
   ]
  },
  {
   "cell_type": "code",
   "execution_count": 190,
   "id": "f9304f57",
   "metadata": {
    "execution": {
     "iopub.execute_input": "2023-12-21T21:04:02.612225Z",
     "iopub.status.busy": "2023-12-21T21:04:02.611700Z",
     "iopub.status.idle": "2023-12-21T21:04:02.645622Z",
     "shell.execute_reply": "2023-12-21T21:04:02.644877Z",
     "shell.execute_reply.started": "2023-12-21T21:04:02.612198Z"
    },
    "pycharm": {
     "name": "#%%\n"
    }
   },
   "outputs": [
    {
     "name": "stdout",
     "output_type": "stream",
     "text": [
      "Already defined cols: 5 \tCols to convert: 123\t Total col cnt: 128\n",
      "\n",
      "Column types to convert:\n",
      "   str_cnt  num_cnt  date_cnt  na_cnt  count\n",
      "0     True    False     False   False      2\n",
      "1     True     True     False   False    121\n",
      "\n",
      "Numeric types of columns:\n",
      "num_type\n",
      "float       120\n",
      "unsigned      1\n",
      "Name: count, dtype: int64\n",
      "\n",
      "Largest number of unique strings: 301\n"
     ]
    },
    {
     "data": {
      "text/html": [
       "<div>\n",
       "<style scoped>\n",
       "    .dataframe tbody tr th:only-of-type {\n",
       "        vertical-align: middle;\n",
       "    }\n",
       "\n",
       "    .dataframe tbody tr th {\n",
       "        vertical-align: top;\n",
       "    }\n",
       "\n",
       "    .dataframe thead th {\n",
       "        text-align: right;\n",
       "    }\n",
       "</style>\n",
       "<table border=\"1\" class=\"dataframe\">\n",
       "  <thead>\n",
       "    <tr style=\"text-align: right;\">\n",
       "      <th></th>\n",
       "      <th>label</th>\n",
       "      <th>uniq_strs</th>\n",
       "      <th>str_list</th>\n",
       "      <th>missing_val_cnt</th>\n",
       "      <th>missing_val_list</th>\n",
       "      <th>numeric_str</th>\n",
       "      <th>num_type</th>\n",
       "      <th>uniq_num</th>\n",
       "      <th>max_num</th>\n",
       "      <th>min_num</th>\n",
       "      <th>str_cnt</th>\n",
       "      <th>num_cnt</th>\n",
       "      <th>date_cnt</th>\n",
       "      <th>na_cnt</th>\n",
       "    </tr>\n",
       "    <tr>\n",
       "      <th>col</th>\n",
       "      <th></th>\n",
       "      <th></th>\n",
       "      <th></th>\n",
       "      <th></th>\n",
       "      <th></th>\n",
       "      <th></th>\n",
       "      <th></th>\n",
       "      <th></th>\n",
       "      <th></th>\n",
       "      <th></th>\n",
       "      <th></th>\n",
       "      <th></th>\n",
       "      <th></th>\n",
       "      <th></th>\n",
       "    </tr>\n",
       "  </thead>\n",
       "  <tbody>\n",
       "    <tr>\n",
       "      <th>READPRJ</th>\n",
       "      <td>Project</td>\n",
       "      <td>1</td>\n",
       "      <td>{03}</td>\n",
       "      <td>0</td>\n",
       "      <td>{}</td>\n",
       "      <td>True</td>\n",
       "      <td>None</td>\n",
       "      <td>NaN</td>\n",
       "      <td>NaN</td>\n",
       "      <td>NaN</td>\n",
       "      <td>320</td>\n",
       "      <td>0</td>\n",
       "      <td>0</td>\n",
       "      <td>0</td>\n",
       "    </tr>\n",
       "    <tr>\n",
       "      <th>LTWVOL</th>\n",
       "      <td>BL/FU kMRI reading (VS): volume of cartilage -...</td>\n",
       "      <td>0</td>\n",
       "      <td>{}</td>\n",
       "      <td>1</td>\n",
       "      <td>{I}</td>\n",
       "      <td>False</td>\n",
       "      <td>float</td>\n",
       "      <td>300.0</td>\n",
       "      <td>4493.533793</td>\n",
       "      <td>622.615115</td>\n",
       "      <td>20</td>\n",
       "      <td>300</td>\n",
       "      <td>0</td>\n",
       "      <td>0</td>\n",
       "    </tr>\n",
       "    <tr>\n",
       "      <th>PATTMAX</th>\n",
       "      <td>BL/FU kMRI reading (VS): maximum cartilage thi...</td>\n",
       "      <td>0</td>\n",
       "      <td>{}</td>\n",
       "      <td>1</td>\n",
       "      <td>{I}</td>\n",
       "      <td>False</td>\n",
       "      <td>float</td>\n",
       "      <td>87.0</td>\n",
       "      <td>7.350000</td>\n",
       "      <td>2.150000</td>\n",
       "      <td>20</td>\n",
       "      <td>300</td>\n",
       "      <td>0</td>\n",
       "      <td>0</td>\n",
       "    </tr>\n",
       "    <tr>\n",
       "      <th>CLFTAVG</th>\n",
       "      <td>BL/FU kMRI reading (VS): mean cartilage thickn...</td>\n",
       "      <td>0</td>\n",
       "      <td>{}</td>\n",
       "      <td>1</td>\n",
       "      <td>{I}</td>\n",
       "      <td>False</td>\n",
       "      <td>float</td>\n",
       "      <td>300.0</td>\n",
       "      <td>3.142385</td>\n",
       "      <td>1.280720</td>\n",
       "      <td>20</td>\n",
       "      <td>300</td>\n",
       "      <td>0</td>\n",
       "      <td>0</td>\n",
       "    </tr>\n",
       "    <tr>\n",
       "      <th>TRFNVOL</th>\n",
       "      <td>BL/FU kMRI reading (VS): normalized cartilage ...</td>\n",
       "      <td>0</td>\n",
       "      <td>{}</td>\n",
       "      <td>1</td>\n",
       "      <td>{I}</td>\n",
       "      <td>False</td>\n",
       "      <td>float</td>\n",
       "      <td>300.0</td>\n",
       "      <td>3.685081</td>\n",
       "      <td>0.927447</td>\n",
       "      <td>20</td>\n",
       "      <td>300</td>\n",
       "      <td>0</td>\n",
       "      <td>0</td>\n",
       "    </tr>\n",
       "    <tr>\n",
       "      <th>...</th>\n",
       "      <td>...</td>\n",
       "      <td>...</td>\n",
       "      <td>...</td>\n",
       "      <td>...</td>\n",
       "      <td>...</td>\n",
       "      <td>...</td>\n",
       "      <td>...</td>\n",
       "      <td>...</td>\n",
       "      <td>...</td>\n",
       "      <td>...</td>\n",
       "      <td>...</td>\n",
       "      <td>...</td>\n",
       "      <td>...</td>\n",
       "      <td>...</td>\n",
       "    </tr>\n",
       "    <tr>\n",
       "      <th>PMFNVOL</th>\n",
       "      <td>BL/FU kMRI reading (VS): normalized cartilage ...</td>\n",
       "      <td>0</td>\n",
       "      <td>{}</td>\n",
       "      <td>1</td>\n",
       "      <td>{I}</td>\n",
       "      <td>False</td>\n",
       "      <td>float</td>\n",
       "      <td>300.0</td>\n",
       "      <td>3.368355</td>\n",
       "      <td>1.453637</td>\n",
       "      <td>20</td>\n",
       "      <td>300</td>\n",
       "      <td>0</td>\n",
       "      <td>0</td>\n",
       "    </tr>\n",
       "    <tr>\n",
       "      <th>PMFTMAX</th>\n",
       "      <td>BL/FU kMRI reading (VS): maximum cartilage thi...</td>\n",
       "      <td>0</td>\n",
       "      <td>{}</td>\n",
       "      <td>1</td>\n",
       "      <td>{I}</td>\n",
       "      <td>False</td>\n",
       "      <td>float</td>\n",
       "      <td>53.0</td>\n",
       "      <td>6.200000</td>\n",
       "      <td>2.050000</td>\n",
       "      <td>20</td>\n",
       "      <td>300</td>\n",
       "      <td>0</td>\n",
       "      <td>0</td>\n",
       "    </tr>\n",
       "    <tr>\n",
       "      <th>LTTVAR</th>\n",
       "      <td>BL/FU kMRI reading (VS): variance of cartilage...</td>\n",
       "      <td>0</td>\n",
       "      <td>{}</td>\n",
       "      <td>1</td>\n",
       "      <td>{I}</td>\n",
       "      <td>False</td>\n",
       "      <td>float</td>\n",
       "      <td>300.0</td>\n",
       "      <td>2.135934</td>\n",
       "      <td>0.142891</td>\n",
       "      <td>20</td>\n",
       "      <td>300</td>\n",
       "      <td>0</td>\n",
       "      <td>0</td>\n",
       "    </tr>\n",
       "    <tr>\n",
       "      <th>CMFBMEV</th>\n",
       "      <td>BL/FU kMRI reading (VS): bone marrow edema vol...</td>\n",
       "      <td>0</td>\n",
       "      <td>{}</td>\n",
       "      <td>1</td>\n",
       "      <td>{I}</td>\n",
       "      <td>False</td>\n",
       "      <td>float</td>\n",
       "      <td>112.0</td>\n",
       "      <td>7743.094866</td>\n",
       "      <td>0.000000</td>\n",
       "      <td>20</td>\n",
       "      <td>300</td>\n",
       "      <td>0</td>\n",
       "      <td>0</td>\n",
       "    </tr>\n",
       "    <tr>\n",
       "      <th>PATSADA</th>\n",
       "      <td>BL/FU kMRI reading (VS): area of subchondral b...</td>\n",
       "      <td>0</td>\n",
       "      <td>{}</td>\n",
       "      <td>1</td>\n",
       "      <td>{I}</td>\n",
       "      <td>False</td>\n",
       "      <td>float</td>\n",
       "      <td>99.0</td>\n",
       "      <td>926.225769</td>\n",
       "      <td>0.000000</td>\n",
       "      <td>20</td>\n",
       "      <td>300</td>\n",
       "      <td>0</td>\n",
       "      <td>0</td>\n",
       "    </tr>\n",
       "  </tbody>\n",
       "</table>\n",
       "<p>123 rows × 14 columns</p>\n",
       "</div>"
      ],
      "text/plain": [
       "                                                     label  uniq_strs  \\\n",
       "col                                                                     \n",
       "READPRJ                                            Project          1   \n",
       "LTWVOL   BL/FU kMRI reading (VS): volume of cartilage -...          0   \n",
       "PATTMAX  BL/FU kMRI reading (VS): maximum cartilage thi...          0   \n",
       "CLFTAVG  BL/FU kMRI reading (VS): mean cartilage thickn...          0   \n",
       "TRFNVOL  BL/FU kMRI reading (VS): normalized cartilage ...          0   \n",
       "...                                                    ...        ...   \n",
       "PMFNVOL  BL/FU kMRI reading (VS): normalized cartilage ...          0   \n",
       "PMFTMAX  BL/FU kMRI reading (VS): maximum cartilage thi...          0   \n",
       "LTTVAR   BL/FU kMRI reading (VS): variance of cartilage...          0   \n",
       "CMFBMEV  BL/FU kMRI reading (VS): bone marrow edema vol...          0   \n",
       "PATSADA  BL/FU kMRI reading (VS): area of subchondral b...          0   \n",
       "\n",
       "        str_list  missing_val_cnt missing_val_list  numeric_str num_type  \\\n",
       "col                                                                        \n",
       "READPRJ     {03}                0               {}         True     None   \n",
       "LTWVOL        {}                1              {I}        False    float   \n",
       "PATTMAX       {}                1              {I}        False    float   \n",
       "CLFTAVG       {}                1              {I}        False    float   \n",
       "TRFNVOL       {}                1              {I}        False    float   \n",
       "...          ...              ...              ...          ...      ...   \n",
       "PMFNVOL       {}                1              {I}        False    float   \n",
       "PMFTMAX       {}                1              {I}        False    float   \n",
       "LTTVAR        {}                1              {I}        False    float   \n",
       "CMFBMEV       {}                1              {I}        False    float   \n",
       "PATSADA       {}                1              {I}        False    float   \n",
       "\n",
       "         uniq_num      max_num     min_num  str_cnt  num_cnt  date_cnt  na_cnt  \n",
       "col                                                                             \n",
       "READPRJ       NaN          NaN         NaN      320        0         0       0  \n",
       "LTWVOL      300.0  4493.533793  622.615115       20      300         0       0  \n",
       "PATTMAX      87.0     7.350000    2.150000       20      300         0       0  \n",
       "CLFTAVG     300.0     3.142385    1.280720       20      300         0       0  \n",
       "TRFNVOL     300.0     3.685081    0.927447       20      300         0       0  \n",
       "...           ...          ...         ...      ...      ...       ...     ...  \n",
       "PMFNVOL     300.0     3.368355    1.453637       20      300         0       0  \n",
       "PMFTMAX      53.0     6.200000    2.050000       20      300         0       0  \n",
       "LTTVAR      300.0     2.135934    0.142891       20      300         0       0  \n",
       "CMFBMEV     112.0  7743.094866    0.000000       20      300         0       0  \n",
       "PATSADA      99.0   926.225769    0.000000       20      300         0       0  \n",
       "\n",
       "[123 rows x 14 columns]"
      ]
     },
     "execution_count": 190,
     "metadata": {},
     "output_type": "execute_result"
    }
   ],
   "source": [
    "data_stats_summary(tmp_df, data_stats_df)\n",
    "data_stats_df"
   ]
  },
  {
   "cell_type": "code",
   "execution_count": 191,
   "id": "d0edcc7c",
   "metadata": {
    "execution": {
     "iopub.execute_input": "2023-12-21T21:04:02.647102Z",
     "iopub.status.busy": "2023-12-21T21:04:02.646638Z",
     "iopub.status.idle": "2023-12-21T21:04:02.659255Z",
     "shell.execute_reply": "2023-12-21T21:04:02.658358Z",
     "shell.execute_reply.started": "2023-12-21T21:04:02.647076Z"
    },
    "pycharm": {
     "name": "#%%\n"
    }
   },
   "outputs": [
    {
     "name": "stdout",
     "output_type": "stream",
     "text": [
      "targets = {\n",
      "# Columns with only unsigned ints, missing, and NA values\n",
      "'unsigned': ['PMFSADA'],\n",
      "\n",
      "# Columns with only floats, missing, and NA values\n",
      "'float': ['LTWVOL', 'PATTMAX', 'CLFTAVG', 'TRFNVOL', 'WFTAVG', 'CMFSABC', 'CMTSABC', 'PATBMEV', 'CLFTVAR', 'CLTSAAS', 'LTNVOL', 'LTSABC', 'TRFTMAX', 'PLFSAAS', 'LTRBMEV', 'LTTMAX', 'CMTTAVG', 'CLTSABC', 'PLFSADA', 'MTSABC', 'LPBMEV', 'MTNVOL', 'CLTSADA', 'CMTCAVG', 'MTSADA', 'CMFSAAS', 'PMFBMEV', 'CMTRENG', 'MTWVOL', 'PLFSABC', 'CLFWVOL', 'WFTVAR', 'CMFTVAR', 'CMTSADA', 'CMTSAAS', 'CLTRENG', 'CLFCAVG', 'CMFSADA', 'CLFRENG', 'CLTCAVG', 'CMTNVOL', 'WFTMAX', 'CMFTAVG', 'LTSAAS', 'CMTWVOL', 'CLFTMAX', 'MPBMEV', 'CMFCAVG', 'LTRENG', 'CLFSADA', 'CMFRENG', 'CLFSAAS', 'CMFWVOL', 'PLFTAVG', 'CLFSABC', 'MTRBMEV', 'CMTTVAR', 'LTTAVG', 'CLTTAVG', 'MTBMEV', 'PATCAVG', 'PLFRENG', 'CLFNVOL', 'CMTTMAX', 'MTTAVG', 'PMFTVAR', 'PLFWVOL', 'CLTNVOL', 'CLTWVOL', 'LTCAVG', 'PMFTAVG', 'PLFCAVG', 'LTBMEV', 'PMFCAVG', 'PLFTVAR', 'WFSADA', 'PATTAVG', 'MTCAVG', 'CLTTVAR', 'CMFNVOL', 'CLFBMEV', 'WFWVOL', 'CMFTMAX', 'TRFTAVG', 'WFSABC', 'MTRENG', 'MTSAAS', 'PATRENG', 'PMFWVOL', 'PLFNVOL', 'LTSADA', 'PMFSABC', 'MTTMAX', 'WFCAVG', 'TRFRENG', 'PATSAAS', 'CLTTMAX', 'MTTVAR', 'TRFWVOL', 'PMFRENG', 'PATNVOL', 'PLFTMAX', 'TRFCAVG', 'TRFSAAS', 'WFSAAS', 'PATWVOL', 'WFRENG', 'TRFTVAR', 'PLFBMEV', 'WFNVOL', 'PATSABC', 'PATTVAR', 'TRFSABC', 'TRFSADA', 'PMFSAAS', 'PMFNVOL', 'PMFTMAX', 'LTTVAR', 'CMFBMEV', 'PATSADA'],\n",
      "\n",
      "# Columns with only strings, missing, and NA values\n",
      "'cat': ['READPRJ', 'BARCDVS'],\n",
      "\n",
      "}\n",
      "\n",
      "\n",
      "Handled columns: 123\n"
     ]
    }
   ],
   "source": [
    "suggest_conversions(data_stats_df)"
   ]
  },
  {
   "cell_type": "code",
   "execution_count": 192,
   "id": "860e294a",
   "metadata": {
    "execution": {
     "iopub.execute_input": "2023-12-21T21:04:02.660905Z",
     "iopub.status.busy": "2023-12-21T21:04:02.660606Z",
     "iopub.status.idle": "2023-12-21T21:04:02.940812Z",
     "shell.execute_reply": "2023-12-21T21:04:02.940015Z",
     "shell.execute_reply.started": "2023-12-21T21:04:02.660878Z"
    },
    "pycharm": {
     "name": "#%%\n"
    }
   },
   "outputs": [],
   "source": [
    "targets = {\n",
    "# Columns with only unsigned ints, missing, and NA values\n",
    "'unsigned': ['PMFSADA'],\n",
    "\n",
    "# Columns with only floats, missing, and NA values\n",
    "'float': ['LTWVOL', 'PATTMAX', 'CLFTAVG', 'TRFNVOL', 'WFTAVG', 'CMFSABC', 'CMTSABC', 'PATBMEV', 'CLFTVAR', 'CLTSAAS', 'LTNVOL', 'LTSABC', 'TRFTMAX', 'PLFSAAS', 'LTRBMEV', 'LTTMAX', 'CMTTAVG', 'CLTSABC', 'PLFSADA', 'MTSABC', 'LPBMEV', 'MTNVOL', 'CLTSADA', 'CMTCAVG', 'MTSADA', 'CMFSAAS', 'PMFBMEV', 'CMTRENG', 'MTWVOL', 'PLFSABC', 'CLFWVOL', 'WFTVAR', 'CMFTVAR', 'CMTSADA', 'CMTSAAS', 'CLTRENG', 'CLFCAVG', 'CMFSADA', 'CLFRENG', 'CLTCAVG', 'CMTNVOL', 'WFTMAX', 'CMFTAVG', 'LTSAAS', 'CMTWVOL', 'CLFTMAX', 'MPBMEV', 'CMFCAVG', 'LTRENG', 'CLFSADA', 'CMFRENG', 'CLFSAAS', 'CMFWVOL', 'PLFTAVG', 'CLFSABC', 'MTRBMEV', 'CMTTVAR', 'LTTAVG', 'CLTTAVG', 'MTBMEV', 'PATCAVG', 'PLFRENG', 'CLFNVOL', 'CMTTMAX', 'MTTAVG', 'PMFTVAR', 'PLFWVOL', 'CLTNVOL', 'CLTWVOL', 'LTCAVG', 'PMFTAVG', 'PLFCAVG', 'LTBMEV', 'PMFCAVG', 'PLFTVAR', 'WFSADA', 'PATTAVG', 'MTCAVG', 'CLTTVAR', 'CMFNVOL', 'CLFBMEV', 'WFWVOL', 'CMFTMAX', 'TRFTAVG', 'WFSABC', 'MTRENG', 'MTSAAS', 'PATRENG', 'PMFWVOL', 'PLFNVOL', 'LTSADA', 'PMFSABC', 'MTTMAX', 'WFCAVG', 'TRFRENG', 'PATSAAS', 'CLTTMAX', 'MTTVAR', 'TRFWVOL', 'PMFRENG', 'PATNVOL', 'PLFTMAX', 'TRFCAVG', 'TRFSAAS', 'WFSAAS', 'PATWVOL', 'WFRENG', 'TRFTVAR', 'PLFBMEV', 'WFNVOL', 'PATSABC', 'PATTVAR', 'TRFSABC', 'TRFSADA', 'PMFSAAS', 'PMFNVOL', 'PMFTMAX', 'LTTVAR', 'CMFBMEV', 'PATSADA'],\n",
    "\n",
    "# Columns with only strings, missing, and NA values\n",
    "'cat': ['BARCDVS'],\n",
    "\n",
    "}\n",
    "\n",
    "new_df, missing_df = convert_columns(targets, data_stats_df, tmp_df)"
   ]
  },
  {
   "cell_type": "code",
   "execution_count": 193,
   "id": "6b87b68c",
   "metadata": {
    "execution": {
     "iopub.execute_input": "2023-12-21T21:04:02.942330Z",
     "iopub.status.busy": "2023-12-21T21:04:02.941929Z",
     "iopub.status.idle": "2023-12-21T21:04:02.969669Z",
     "shell.execute_reply": "2023-12-21T21:04:02.968970Z",
     "shell.execute_reply.started": "2023-12-21T21:04:02.942302Z"
    },
    "pycharm": {
     "name": "#%%\n"
    }
   },
   "outputs": [
    {
     "name": "stdout",
     "output_type": "stream",
     "text": [
      "Columns still object type:  ['READPRJ']\n",
      "\n",
      "VERSION    category\n",
      "SIDE       category\n",
      "READPRJ      object\n",
      "LTWVOL      float32\n",
      "PATTMAX     float32\n",
      "             ...   \n",
      "PMFTMAX     float32\n",
      "LTTVAR      float32\n",
      "CMFBMEV     float32\n",
      "PATSADA     float32\n",
      "VSORDR     category\n",
      "Length: 126, dtype: object\n",
      "\n",
      "Missing values present, shadow dataframe created.\n",
      "              PMFSADA LTWVOL PATTMAX CLFTAVG TRFNVOL WFTAVG CMFSABC CMTSABC  \\\n",
      "ID      Visit                                                                 \n",
      "9003406 V00       NaN    NaN     NaN     NaN     NaN    NaN     NaN     NaN   \n",
      "9007827 V00       NaN    NaN     NaN     NaN     NaN    NaN     NaN     NaN   \n",
      "9021791 V00       NaN    NaN     NaN     NaN     NaN    NaN     NaN     NaN   \n",
      "9040390 V00       NaN    NaN     NaN     NaN     NaN    NaN     NaN     NaN   \n",
      "9040892 V00       NaN    NaN     NaN     NaN     NaN    NaN     NaN     NaN   \n",
      "...               ...    ...     ...     ...     ...    ...     ...     ...   \n",
      "9986207 V01       NaN    NaN     NaN     NaN     NaN    NaN     NaN     NaN   \n",
      "9992358 V01       NaN    NaN     NaN     NaN     NaN    NaN     NaN     NaN   \n",
      "9993650 V01       NaN    NaN     NaN     NaN     NaN    NaN     NaN     NaN   \n",
      "9993833 V01       NaN    NaN     NaN     NaN     NaN    NaN     NaN     NaN   \n",
      "9993846 V01       NaN    NaN     NaN     NaN     NaN    NaN     NaN     NaN   \n",
      "\n",
      "              PATBMEV CLFTVAR  ... PATSABC PATTVAR TRFSABC TRFSADA PMFSAAS  \\\n",
      "ID      Visit                  ...                                           \n",
      "9003406 V00       NaN     NaN  ...     NaN     NaN     NaN     NaN     NaN   \n",
      "9007827 V00       NaN     NaN  ...     NaN     NaN     NaN     NaN     NaN   \n",
      "9021791 V00       NaN     NaN  ...     NaN     NaN     NaN     NaN     NaN   \n",
      "9040390 V00       NaN     NaN  ...     NaN     NaN     NaN     NaN     NaN   \n",
      "9040892 V00       NaN     NaN  ...     NaN     NaN     NaN     NaN     NaN   \n",
      "...               ...     ...  ...     ...     ...     ...     ...     ...   \n",
      "9986207 V01       NaN     NaN  ...     NaN     NaN     NaN     NaN     NaN   \n",
      "9992358 V01       NaN     NaN  ...     NaN     NaN     NaN     NaN     NaN   \n",
      "9993650 V01       NaN     NaN  ...     NaN     NaN     NaN     NaN     NaN   \n",
      "9993833 V01       NaN     NaN  ...     NaN     NaN     NaN     NaN     NaN   \n",
      "9993846 V01       NaN     NaN  ...     NaN     NaN     NaN     NaN     NaN   \n",
      "\n",
      "              PMFNVOL PMFTMAX LTTVAR CMFBMEV PATSADA  \n",
      "ID      Visit                                         \n",
      "9003406 V00       NaN     NaN    NaN     NaN     NaN  \n",
      "9007827 V00       NaN     NaN    NaN     NaN     NaN  \n",
      "9021791 V00       NaN     NaN    NaN     NaN     NaN  \n",
      "9040390 V00       NaN     NaN    NaN     NaN     NaN  \n",
      "9040892 V00       NaN     NaN    NaN     NaN     NaN  \n",
      "...               ...     ...    ...     ...     ...  \n",
      "9986207 V01       NaN     NaN    NaN     NaN     NaN  \n",
      "9992358 V01       NaN     NaN    NaN     NaN     NaN  \n",
      "9993650 V01       NaN     NaN    NaN     NaN     NaN  \n",
      "9993833 V01       NaN     NaN    NaN     NaN     NaN  \n",
      "9993846 V01       NaN     NaN    NaN     NaN     NaN  \n",
      "\n",
      "[320 rows x 121 columns]\n"
     ]
    }
   ],
   "source": [
    "sanity_check(new_df)\n",
    "print()\n",
    "print(new_df.dtypes)\n",
    "if not missing_df.empty:\n",
    "    print('\\nMissing values present, shadow dataframe created.')\n",
    "    print(missing_df)"
   ]
  },
  {
   "cell_type": "code",
   "execution_count": 194,
   "id": "2273b24e",
   "metadata": {
    "execution": {
     "iopub.execute_input": "2023-12-21T21:04:02.971558Z",
     "iopub.status.busy": "2023-12-21T21:04:02.971014Z",
     "iopub.status.idle": "2023-12-21T21:04:02.989033Z",
     "shell.execute_reply": "2023-12-21T21:04:02.988210Z",
     "shell.execute_reply.started": "2023-12-21T21:04:02.971513Z"
    },
    "pycharm": {
     "name": "#%%\n"
    }
   },
   "outputs": [
    {
     "name": "stdout",
     "output_type": "stream",
     "text": [
      "\n",
      "Final dataframe size: 0.21MB\n",
      "Shadow dataframe size: 0.06MB\n"
     ]
    }
   ],
   "source": [
    "print('\\nFinal dataframe size: {:.2f}MB'.format(new_df.memory_usage(deep=True).sum() / (1024**2)))\n",
    "print('Shadow dataframe size: {:.2f}MB'.format(missing_df.memory_usage(deep=True).sum() / (1024**2)))"
   ]
  },
  {
   "cell_type": "code",
   "execution_count": 195,
   "id": "e528c04c-e457-404e-bcc9-ff5fcb8445b3",
   "metadata": {
    "execution": {
     "iopub.execute_input": "2023-12-21T21:04:02.990630Z",
     "iopub.status.busy": "2023-12-21T21:04:02.990365Z",
     "iopub.status.idle": "2023-12-21T21:04:03.095770Z",
     "shell.execute_reply": "2023-12-21T21:04:03.095119Z",
     "shell.execute_reply.started": "2023-12-21T21:04:02.990603Z"
    }
   },
   "outputs": [],
   "source": [
    "utils.write_parquet(new_df, 'data/' + prefix + '_values.parquet')\n",
    "if not missing_df.empty:\n",
    "    utils.write_parquet(new_df, 'data/' + prefix + '_missing_values.parquet', verbose=False)"
   ]
  },
  {
   "cell_type": "markdown",
   "id": "612cd9b7",
   "metadata": {
    "tags": []
   },
   "source": [
    "## kmri_sq_bicl"
   ]
  },
  {
   "cell_type": "code",
   "execution_count": 196,
   "id": "1df82d53",
   "metadata": {
    "execution": {
     "iopub.execute_input": "2023-12-21T21:04:03.097136Z",
     "iopub.status.busy": "2023-12-21T21:04:03.096829Z",
     "iopub.status.idle": "2023-12-21T21:04:05.779887Z",
     "shell.execute_reply": "2023-12-21T21:04:05.779047Z",
     "shell.execute_reply.started": "2023-12-21T21:04:03.097108Z"
    },
    "pycharm": {
     "name": "#%%\n"
    }
   },
   "outputs": [
    {
     "name": "stdout",
     "output_type": "stream",
     "text": [
      "\n",
      "kmri_sq_bicl00.sas7bdat: (115, 81)\n",
      "['ID', 'SIDE', 'READPRJ', 'VERSION', 'BLATMTP', 'BMEDMTA', 'BCBMTN', 'BCBLTN', 'BLATMXL', 'BMEDMTP', 'BLATMTA', 'BCBPM', 'BCAMFWT', 'BCAFLWT', 'BMEDMXM', 'BCBPC', 'BCATRMT', 'BCBLFP', 'BCAMFWE', 'BCAPME', 'BCBPL', 'BCATRME', 'BCAFLWE', 'BCATRLE', 'BCBLFN', 'BCAPLT', 'BCBMFN', 'BCATRLT', 'BCALTT', 'BNBMLS', 'BCALTE', 'BCBLTP', 'BLATMTB', 'BCBMTP', 'BCAPLE', 'BLATMXA', 'BMEDMTB', 'BCAMTE', 'BCAMTT', 'BMEDMXA', 'BCBMFP', 'BCAPMT', 'WMEDMXM', 'WLATMXL', 'WBMTMC', 'WBMFLP', 'WMEDMTP', 'WCMPL', 'WBMFMP', 'WMEDMTA', 'WBMFLA', 'WCMFLC', 'BNBMLSK', 'WCMTMC', 'WCMFLP', 'WLATMTA', 'WBMPL', 'WLATMTP', 'WCMFLA', 'READER', 'WCMFMA', 'WCMFMP', 'WBMFLC', 'WBMTSS', 'WBMFMC', 'WBMTLP', 'WCMTMA', 'WBMFMA', 'WBMTMP', 'WCMTLC', 'WCMPM', 'WBMTLA', 'WLATMTB', 'WCMFMC', 'WCMTLP', 'WMEDMTB', 'WBMTMA', 'WBMTLC', 'WCMTMP', 'WBMPM', 'WCMTLA']\n",
      "\n",
      "kmri_sq_bicl03.sas7bdat: (115, 81)\n",
      "\n",
      "Total rows: 230\n"
     ]
    }
   ],
   "source": [
    "prefix = 'kmri_sq_bicl'\n",
    "column_uniformity_check(prefix)"
   ]
  },
  {
   "cell_type": "code",
   "execution_count": 197,
   "id": "c66cb0d3",
   "metadata": {
    "execution": {
     "iopub.execute_input": "2023-12-21T21:04:05.781647Z",
     "iopub.status.busy": "2023-12-21T21:04:05.781303Z",
     "iopub.status.idle": "2023-12-21T21:04:08.147567Z",
     "shell.execute_reply": "2023-12-21T21:04:08.146806Z",
     "shell.execute_reply.started": "2023-12-21T21:04:05.781621Z"
    },
    "pycharm": {
     "name": "#%%\n"
    }
   },
   "outputs": [
    {
     "name": "stdout",
     "output_type": "stream",
     "text": [
      "kmri_sq_bicl00.sas7bdat\tVar Cnt: 81\n",
      "Visits: ['V00']\n",
      "kmri_sq_bicl03.sas7bdat\tVar Cnt: 81\n",
      "Visits: ['V03']\n",
      "(230, 82)\n",
      "\n",
      "Starting dataframe size: 0.32MB\n"
     ]
    }
   ],
   "source": [
    "tmp_df = create_df(prefix)\n",
    "print(tmp_df.shape)\n",
    "print('\\nStarting dataframe size: {:.2f}MB'.format(tmp_df.memory_usage(deep=True).sum() / (1024**2)))"
   ]
  },
  {
   "cell_type": "code",
   "execution_count": 198,
   "id": "c610c540",
   "metadata": {
    "execution": {
     "iopub.execute_input": "2023-12-21T21:04:08.149136Z",
     "iopub.status.busy": "2023-12-21T21:04:08.148842Z",
     "iopub.status.idle": "2023-12-21T21:04:08.172878Z",
     "shell.execute_reply": "2023-12-21T21:04:08.172206Z",
     "shell.execute_reply.started": "2023-12-21T21:04:08.149109Z"
    },
    "pycharm": {
     "name": "#%%\n"
    }
   },
   "outputs": [],
   "source": [
    "data_stats_df, done_df = gather_column_data_stats(tmp_df)"
   ]
  },
  {
   "cell_type": "code",
   "execution_count": 199,
   "id": "5e7cbe1c",
   "metadata": {
    "execution": {
     "iopub.execute_input": "2023-12-21T21:04:08.174123Z",
     "iopub.status.busy": "2023-12-21T21:04:08.173824Z",
     "iopub.status.idle": "2023-12-21T21:04:08.198821Z",
     "shell.execute_reply": "2023-12-21T21:04:08.198084Z",
     "shell.execute_reply.started": "2023-12-21T21:04:08.174096Z"
    },
    "pycharm": {
     "name": "#%%\n"
    }
   },
   "outputs": [
    {
     "name": "stdout",
     "output_type": "stream",
     "text": [
      "Already defined cols: 78 \tCols to convert: 4\t Total col cnt: 82\n",
      "\n",
      "Column types to convert:\n",
      "   str_cnt  num_cnt  date_cnt  na_cnt  count\n",
      "0    False     True     False   False      2\n",
      "1     True    False     False   False      2\n",
      "\n",
      "Numeric types of columns:\n",
      "num_type\n",
      "unsigned    2\n",
      "Name: count, dtype: int64\n",
      "\n",
      "Largest number of unique strings: 2\n"
     ]
    },
    {
     "data": {
      "text/html": [
       "<div>\n",
       "<style scoped>\n",
       "    .dataframe tbody tr th:only-of-type {\n",
       "        vertical-align: middle;\n",
       "    }\n",
       "\n",
       "    .dataframe tbody tr th {\n",
       "        vertical-align: top;\n",
       "    }\n",
       "\n",
       "    .dataframe thead th {\n",
       "        text-align: right;\n",
       "    }\n",
       "</style>\n",
       "<table border=\"1\" class=\"dataframe\">\n",
       "  <thead>\n",
       "    <tr style=\"text-align: right;\">\n",
       "      <th></th>\n",
       "      <th>label</th>\n",
       "      <th>uniq_strs</th>\n",
       "      <th>str_list</th>\n",
       "      <th>missing_val_cnt</th>\n",
       "      <th>missing_val_list</th>\n",
       "      <th>numeric_str</th>\n",
       "      <th>num_type</th>\n",
       "      <th>uniq_num</th>\n",
       "      <th>max_num</th>\n",
       "      <th>min_num</th>\n",
       "      <th>str_cnt</th>\n",
       "      <th>num_cnt</th>\n",
       "      <th>date_cnt</th>\n",
       "      <th>na_cnt</th>\n",
       "    </tr>\n",
       "    <tr>\n",
       "      <th>col</th>\n",
       "      <th></th>\n",
       "      <th></th>\n",
       "      <th></th>\n",
       "      <th></th>\n",
       "      <th></th>\n",
       "      <th></th>\n",
       "      <th></th>\n",
       "      <th></th>\n",
       "      <th></th>\n",
       "      <th></th>\n",
       "      <th></th>\n",
       "      <th></th>\n",
       "      <th></th>\n",
       "      <th></th>\n",
       "    </tr>\n",
       "  </thead>\n",
       "  <tbody>\n",
       "    <tr>\n",
       "      <th>READPRJ</th>\n",
       "      <td>Project</td>\n",
       "      <td>1</td>\n",
       "      <td>{10}</td>\n",
       "      <td>0</td>\n",
       "      <td>{}</td>\n",
       "      <td>True</td>\n",
       "      <td>None</td>\n",
       "      <td>NaN</td>\n",
       "      <td>NaN</td>\n",
       "      <td>NaN</td>\n",
       "      <td>230</td>\n",
       "      <td>0</td>\n",
       "      <td>0</td>\n",
       "      <td>0</td>\n",
       "    </tr>\n",
       "    <tr>\n",
       "      <th>BNBMLS</th>\n",
       "      <td>BL/FU kMRI reading (BI): BLOKS: number of BMLs...</td>\n",
       "      <td>0</td>\n",
       "      <td>None</td>\n",
       "      <td>0</td>\n",
       "      <td>None</td>\n",
       "      <td>None</td>\n",
       "      <td>unsigned</td>\n",
       "      <td>12.0</td>\n",
       "      <td>13.0</td>\n",
       "      <td>0.0</td>\n",
       "      <td>0</td>\n",
       "      <td>230</td>\n",
       "      <td>0</td>\n",
       "      <td>0</td>\n",
       "    </tr>\n",
       "    <tr>\n",
       "      <th>BNBMLSK</th>\n",
       "      <td>BL/FU kMRI reading (BI): BLOKS: number of BMLs...</td>\n",
       "      <td>0</td>\n",
       "      <td>None</td>\n",
       "      <td>0</td>\n",
       "      <td>None</td>\n",
       "      <td>None</td>\n",
       "      <td>unsigned</td>\n",
       "      <td>12.0</td>\n",
       "      <td>13.0</td>\n",
       "      <td>0.0</td>\n",
       "      <td>0</td>\n",
       "      <td>230</td>\n",
       "      <td>0</td>\n",
       "      <td>0</td>\n",
       "    </tr>\n",
       "    <tr>\n",
       "      <th>READER</th>\n",
       "      <td>BL/FU kMRI reading (BI): reader</td>\n",
       "      <td>2</td>\n",
       "      <td>{R02, R01}</td>\n",
       "      <td>0</td>\n",
       "      <td>{}</td>\n",
       "      <td>False</td>\n",
       "      <td>None</td>\n",
       "      <td>NaN</td>\n",
       "      <td>NaN</td>\n",
       "      <td>NaN</td>\n",
       "      <td>230</td>\n",
       "      <td>0</td>\n",
       "      <td>0</td>\n",
       "      <td>0</td>\n",
       "    </tr>\n",
       "  </tbody>\n",
       "</table>\n",
       "</div>"
      ],
      "text/plain": [
       "                                                     label  uniq_strs  \\\n",
       "col                                                                     \n",
       "READPRJ                                            Project          1   \n",
       "BNBMLS   BL/FU kMRI reading (BI): BLOKS: number of BMLs...          0   \n",
       "BNBMLSK  BL/FU kMRI reading (BI): BLOKS: number of BMLs...          0   \n",
       "READER                     BL/FU kMRI reading (BI): reader          2   \n",
       "\n",
       "           str_list  missing_val_cnt missing_val_list numeric_str  num_type  \\\n",
       "col                                                                           \n",
       "READPRJ        {10}                0               {}        True      None   \n",
       "BNBMLS         None                0             None        None  unsigned   \n",
       "BNBMLSK        None                0             None        None  unsigned   \n",
       "READER   {R02, R01}                0               {}       False      None   \n",
       "\n",
       "         uniq_num  max_num  min_num  str_cnt  num_cnt  date_cnt  na_cnt  \n",
       "col                                                                      \n",
       "READPRJ       NaN      NaN      NaN      230        0         0       0  \n",
       "BNBMLS       12.0     13.0      0.0        0      230         0       0  \n",
       "BNBMLSK      12.0     13.0      0.0        0      230         0       0  \n",
       "READER        NaN      NaN      NaN      230        0         0       0  "
      ]
     },
     "execution_count": 199,
     "metadata": {},
     "output_type": "execute_result"
    }
   ],
   "source": [
    "data_stats_summary(tmp_df, data_stats_df)\n",
    "data_stats_df"
   ]
  },
  {
   "cell_type": "code",
   "execution_count": 200,
   "id": "99158303",
   "metadata": {
    "execution": {
     "iopub.execute_input": "2023-12-21T21:04:08.200042Z",
     "iopub.status.busy": "2023-12-21T21:04:08.199779Z",
     "iopub.status.idle": "2023-12-21T21:04:08.211954Z",
     "shell.execute_reply": "2023-12-21T21:04:08.211327Z",
     "shell.execute_reply.started": "2023-12-21T21:04:08.200015Z"
    },
    "pycharm": {
     "name": "#%%\n"
    }
   },
   "outputs": [
    {
     "name": "stdout",
     "output_type": "stream",
     "text": [
      "targets = {\n",
      "# Columns with only unsigned ints, missing, and NA values\n",
      "'unsigned': ['BNBMLS', 'BNBMLSK'],\n",
      "\n",
      "# Columns with only strings, missing, and NA values\n",
      "'cat': ['READPRJ', 'READER'],\n",
      "\n",
      "}\n",
      "\n",
      "\n",
      "Handled columns: 4\n"
     ]
    }
   ],
   "source": [
    "suggest_conversions(data_stats_df)"
   ]
  },
  {
   "cell_type": "code",
   "execution_count": 201,
   "id": "39f67d7d",
   "metadata": {
    "execution": {
     "iopub.execute_input": "2023-12-21T21:04:08.262723Z",
     "iopub.status.busy": "2023-12-21T21:04:08.262472Z",
     "iopub.status.idle": "2023-12-21T21:04:08.277963Z",
     "shell.execute_reply": "2023-12-21T21:04:08.277239Z",
     "shell.execute_reply.started": "2023-12-21T21:04:08.262696Z"
    },
    "pycharm": {
     "name": "#%%\n"
    }
   },
   "outputs": [],
   "source": [
    "targets = {\n",
    "# Columns with only unsigned ints, missing, and NA values\n",
    "'unsigned': ['BNBMLS', 'BNBMLSK'],\n",
    "\n",
    "# Columns with only strings, missing, and NA values\n",
    "'cat': ['READER'],\n",
    "\n",
    "}\n",
    "\n",
    "new_df, missing_df = convert_columns(targets, data_stats_df, tmp_df)"
   ]
  },
  {
   "cell_type": "code",
   "execution_count": 202,
   "id": "c8fac832",
   "metadata": {
    "execution": {
     "iopub.execute_input": "2023-12-21T21:04:08.279060Z",
     "iopub.status.busy": "2023-12-21T21:04:08.278721Z",
     "iopub.status.idle": "2023-12-21T21:04:08.299506Z",
     "shell.execute_reply": "2023-12-21T21:04:08.298702Z",
     "shell.execute_reply.started": "2023-12-21T21:04:08.279032Z"
    },
    "pycharm": {
     "name": "#%%\n"
    }
   },
   "outputs": [
    {
     "name": "stdout",
     "output_type": "stream",
     "text": [
      "Columns still object type:  ['READPRJ']\n",
      "\n",
      "VERSION    category\n",
      "SIDE       category\n",
      "READPRJ      object\n",
      "BLATMTP    category\n",
      "BMEDMTA    category\n",
      "             ...   \n",
      "WBMTMA     category\n",
      "WBMTLC     category\n",
      "WCMTMP     category\n",
      "WBMPM      category\n",
      "WCMTLA     category\n",
      "Length: 80, dtype: object\n"
     ]
    }
   ],
   "source": [
    "sanity_check(new_df)\n",
    "print()\n",
    "print(new_df.dtypes)\n",
    "if not missing_df.empty:\n",
    "    print('\\nMissing values present, shadow dataframe created.')\n",
    "    print(missing_df)"
   ]
  },
  {
   "cell_type": "code",
   "execution_count": 203,
   "id": "d80b8fcf",
   "metadata": {
    "execution": {
     "iopub.execute_input": "2023-12-21T21:04:08.300845Z",
     "iopub.status.busy": "2023-12-21T21:04:08.300453Z",
     "iopub.status.idle": "2023-12-21T21:04:08.308776Z",
     "shell.execute_reply": "2023-12-21T21:04:08.308197Z",
     "shell.execute_reply.started": "2023-12-21T21:04:08.300818Z"
    },
    "pycharm": {
     "name": "#%%\n"
    }
   },
   "outputs": [
    {
     "name": "stdout",
     "output_type": "stream",
     "text": [
      "\n",
      "Final dataframe size: 0.30MB\n",
      "Shadow dataframe size: 0.00MB\n"
     ]
    }
   ],
   "source": [
    "print('\\nFinal dataframe size: {:.2f}MB'.format(new_df.memory_usage(deep=True).sum() / (1024**2)))\n",
    "print('Shadow dataframe size: {:.2f}MB'.format(missing_df.memory_usage(deep=True).sum() / (1024**2)))"
   ]
  },
  {
   "cell_type": "code",
   "execution_count": 204,
   "id": "35685f6c-be5b-4ea3-82b7-64d99909ce89",
   "metadata": {
    "execution": {
     "iopub.execute_input": "2023-12-21T21:04:08.310096Z",
     "iopub.status.busy": "2023-12-21T21:04:08.309821Z",
     "iopub.status.idle": "2023-12-21T21:04:08.376403Z",
     "shell.execute_reply": "2023-12-21T21:04:08.375667Z",
     "shell.execute_reply.started": "2023-12-21T21:04:08.310069Z"
    }
   },
   "outputs": [],
   "source": [
    "utils.write_parquet(new_df, 'data/' + prefix + '_values.parquet')\n",
    "if not missing_df.empty:\n",
    "    utils.write_parquet(new_df, 'data/' + prefix + '_missing_values.parquet', verbose=False)"
   ]
  },
  {
   "cell_type": "markdown",
   "id": "77a59a02",
   "metadata": {
    "tags": []
   },
   "source": [
    "## kmri_sq_blksbml_bicl"
   ]
  },
  {
   "cell_type": "code",
   "execution_count": 205,
   "id": "71749867",
   "metadata": {
    "execution": {
     "iopub.execute_input": "2023-12-21T21:04:08.377835Z",
     "iopub.status.busy": "2023-12-21T21:04:08.377400Z",
     "iopub.status.idle": "2023-12-21T21:04:10.623448Z",
     "shell.execute_reply": "2023-12-21T21:04:10.622608Z",
     "shell.execute_reply.started": "2023-12-21T21:04:08.377806Z"
    },
    "pycharm": {
     "name": "#%%\n"
    }
   },
   "outputs": [
    {
     "name": "stdout",
     "output_type": "stream",
     "text": [
      "\n",
      "kmri_sq_blksbml_bicl00.sas7bdat: (593, 9)\n",
      "['ID', 'side', 'READPRJ', 'VERSION', 'BBMLP', 'BBMLA', 'BBMLST', 'BBMLS', 'BBMLNUM']\n",
      "\n",
      "kmri_sq_blksbml_bicl03.sas7bdat: (593, 9)\n",
      "\n",
      "Total rows: 1186\n"
     ]
    }
   ],
   "source": [
    "prefix = 'kmri_sq_blksbml_bicl'\n",
    "column_uniformity_check(prefix)"
   ]
  },
  {
   "cell_type": "code",
   "execution_count": 206,
   "id": "00f47aa8",
   "metadata": {
    "execution": {
     "iopub.execute_input": "2023-12-21T21:04:10.625051Z",
     "iopub.status.busy": "2023-12-21T21:04:10.624765Z",
     "iopub.status.idle": "2023-12-21T21:04:12.799603Z",
     "shell.execute_reply": "2023-12-21T21:04:12.798716Z",
     "shell.execute_reply.started": "2023-12-21T21:04:10.625027Z"
    },
    "pycharm": {
     "name": "#%%\n"
    }
   },
   "outputs": [
    {
     "name": "stdout",
     "output_type": "stream",
     "text": [
      "kmri_sq_blksbml_bicl00.sas7bdat\tVar Cnt: 9\n",
      "Visits: ['V00']\n",
      "kmri_sq_blksbml_bicl03.sas7bdat\tVar Cnt: 9\n",
      "Visits: ['V03']\n",
      "(1186, 10)\n",
      "\n",
      "Starting dataframe size: 0.12MB\n"
     ]
    }
   ],
   "source": [
    "tmp_df = create_df(prefix)\n",
    "print(tmp_df.shape)\n",
    "print('\\nStarting dataframe size: {:.2f}MB'.format(tmp_df.memory_usage(deep=True).sum() / (1024**2)))"
   ]
  },
  {
   "cell_type": "code",
   "execution_count": 207,
   "id": "3ba4aa32",
   "metadata": {
    "execution": {
     "iopub.execute_input": "2023-12-21T21:04:12.801198Z",
     "iopub.status.busy": "2023-12-21T21:04:12.800916Z",
     "iopub.status.idle": "2023-12-21T21:04:12.814100Z",
     "shell.execute_reply": "2023-12-21T21:04:12.813359Z",
     "shell.execute_reply.started": "2023-12-21T21:04:12.801173Z"
    },
    "pycharm": {
     "name": "#%%\n"
    }
   },
   "outputs": [],
   "source": [
    "data_stats_df, done_df = gather_column_data_stats(tmp_df)"
   ]
  },
  {
   "cell_type": "code",
   "execution_count": 208,
   "id": "2175b219",
   "metadata": {
    "execution": {
     "iopub.execute_input": "2023-12-21T21:04:12.815633Z",
     "iopub.status.busy": "2023-12-21T21:04:12.815132Z",
     "iopub.status.idle": "2023-12-21T21:04:12.840486Z",
     "shell.execute_reply": "2023-12-21T21:04:12.839660Z",
     "shell.execute_reply.started": "2023-12-21T21:04:12.815608Z"
    },
    "pycharm": {
     "name": "#%%\n"
    }
   },
   "outputs": [
    {
     "name": "stdout",
     "output_type": "stream",
     "text": [
      "Already defined cols: 8 \tCols to convert: 2\t Total col cnt: 10\n",
      "\n",
      "Column types to convert:\n",
      "   str_cnt  num_cnt  date_cnt  na_cnt  count\n",
      "0    False     True     False    True      1\n",
      "1     True    False     False   False      1\n",
      "\n",
      "Numeric types of columns:\n",
      "num_type\n",
      "unsigned    1\n",
      "Name: count, dtype: int64\n",
      "\n",
      "Largest number of unique strings: 1\n"
     ]
    },
    {
     "data": {
      "text/html": [
       "<div>\n",
       "<style scoped>\n",
       "    .dataframe tbody tr th:only-of-type {\n",
       "        vertical-align: middle;\n",
       "    }\n",
       "\n",
       "    .dataframe tbody tr th {\n",
       "        vertical-align: top;\n",
       "    }\n",
       "\n",
       "    .dataframe thead th {\n",
       "        text-align: right;\n",
       "    }\n",
       "</style>\n",
       "<table border=\"1\" class=\"dataframe\">\n",
       "  <thead>\n",
       "    <tr style=\"text-align: right;\">\n",
       "      <th></th>\n",
       "      <th>label</th>\n",
       "      <th>uniq_strs</th>\n",
       "      <th>str_list</th>\n",
       "      <th>missing_val_cnt</th>\n",
       "      <th>missing_val_list</th>\n",
       "      <th>numeric_str</th>\n",
       "      <th>num_type</th>\n",
       "      <th>uniq_num</th>\n",
       "      <th>max_num</th>\n",
       "      <th>min_num</th>\n",
       "      <th>str_cnt</th>\n",
       "      <th>num_cnt</th>\n",
       "      <th>date_cnt</th>\n",
       "      <th>na_cnt</th>\n",
       "    </tr>\n",
       "    <tr>\n",
       "      <th>col</th>\n",
       "      <th></th>\n",
       "      <th></th>\n",
       "      <th></th>\n",
       "      <th></th>\n",
       "      <th></th>\n",
       "      <th></th>\n",
       "      <th></th>\n",
       "      <th></th>\n",
       "      <th></th>\n",
       "      <th></th>\n",
       "      <th></th>\n",
       "      <th></th>\n",
       "      <th></th>\n",
       "      <th></th>\n",
       "    </tr>\n",
       "  </thead>\n",
       "  <tbody>\n",
       "    <tr>\n",
       "      <th>READPRJ</th>\n",
       "      <td>Project</td>\n",
       "      <td>1</td>\n",
       "      <td>{10}</td>\n",
       "      <td>0</td>\n",
       "      <td>{}</td>\n",
       "      <td>True</td>\n",
       "      <td>None</td>\n",
       "      <td>NaN</td>\n",
       "      <td>NaN</td>\n",
       "      <td>NaN</td>\n",
       "      <td>1186</td>\n",
       "      <td>0</td>\n",
       "      <td>0</td>\n",
       "      <td>0</td>\n",
       "    </tr>\n",
       "    <tr>\n",
       "      <th>BBMLNUM</th>\n",
       "      <td>BL/FU kMRI reading (BI): BLOKS: BML ID number</td>\n",
       "      <td>0</td>\n",
       "      <td>None</td>\n",
       "      <td>0</td>\n",
       "      <td>None</td>\n",
       "      <td>None</td>\n",
       "      <td>unsigned</td>\n",
       "      <td>14.0</td>\n",
       "      <td>13.0</td>\n",
       "      <td>1.0</td>\n",
       "      <td>0</td>\n",
       "      <td>1180</td>\n",
       "      <td>0</td>\n",
       "      <td>6</td>\n",
       "    </tr>\n",
       "  </tbody>\n",
       "</table>\n",
       "</div>"
      ],
      "text/plain": [
       "                                                 label  uniq_strs str_list  \\\n",
       "col                                                                          \n",
       "READPRJ                                        Project          1     {10}   \n",
       "BBMLNUM  BL/FU kMRI reading (BI): BLOKS: BML ID number          0     None   \n",
       "\n",
       "         missing_val_cnt missing_val_list numeric_str  num_type  uniq_num  \\\n",
       "col                                                                         \n",
       "READPRJ                0               {}        True      None       NaN   \n",
       "BBMLNUM                0             None        None  unsigned      14.0   \n",
       "\n",
       "         max_num  min_num  str_cnt  num_cnt  date_cnt  na_cnt  \n",
       "col                                                            \n",
       "READPRJ      NaN      NaN     1186        0         0       0  \n",
       "BBMLNUM     13.0      1.0        0     1180         0       6  "
      ]
     },
     "execution_count": 208,
     "metadata": {},
     "output_type": "execute_result"
    }
   ],
   "source": [
    "data_stats_summary(tmp_df, data_stats_df)\n",
    "data_stats_df"
   ]
  },
  {
   "cell_type": "code",
   "execution_count": 209,
   "id": "9851f75b",
   "metadata": {
    "execution": {
     "iopub.execute_input": "2023-12-21T21:04:12.841915Z",
     "iopub.status.busy": "2023-12-21T21:04:12.841641Z",
     "iopub.status.idle": "2023-12-21T21:04:12.853410Z",
     "shell.execute_reply": "2023-12-21T21:04:12.852696Z",
     "shell.execute_reply.started": "2023-12-21T21:04:12.841888Z"
    },
    "pycharm": {
     "name": "#%%\n"
    }
   },
   "outputs": [
    {
     "name": "stdout",
     "output_type": "stream",
     "text": [
      "targets = {\n",
      "# Columns with only unsigned ints, missing, and NA values\n",
      "'unsigned': ['BBMLNUM'],\n",
      "\n",
      "# Columns with only strings, missing, and NA values\n",
      "'cat': ['READPRJ'],\n",
      "\n",
      "}\n",
      "\n",
      "\n",
      "Handled columns: 2\n"
     ]
    }
   ],
   "source": [
    "suggest_conversions(data_stats_df)"
   ]
  },
  {
   "cell_type": "code",
   "execution_count": 210,
   "id": "755aef96",
   "metadata": {
    "execution": {
     "iopub.execute_input": "2023-12-21T21:04:12.855102Z",
     "iopub.status.busy": "2023-12-21T21:04:12.854814Z",
     "iopub.status.idle": "2023-12-21T21:04:12.868909Z",
     "shell.execute_reply": "2023-12-21T21:04:12.868221Z",
     "shell.execute_reply.started": "2023-12-21T21:04:12.855076Z"
    },
    "pycharm": {
     "name": "#%%\n"
    }
   },
   "outputs": [],
   "source": [
    "targets = {\n",
    "# Columns with only unsigned ints, missing, and NA values\n",
    "'unsigned': ['BBMLNUM'],\n",
    "\n",
    "}\n",
    "\n",
    "\n",
    "new_df, missing_df = convert_columns(targets, data_stats_df, tmp_df)"
   ]
  },
  {
   "cell_type": "code",
   "execution_count": 211,
   "id": "7043c2b2",
   "metadata": {
    "execution": {
     "iopub.execute_input": "2023-12-21T21:04:12.870264Z",
     "iopub.status.busy": "2023-12-21T21:04:12.869938Z",
     "iopub.status.idle": "2023-12-21T21:04:12.877386Z",
     "shell.execute_reply": "2023-12-21T21:04:12.876738Z",
     "shell.execute_reply.started": "2023-12-21T21:04:12.870236Z"
    },
    "pycharm": {
     "name": "#%%\n"
    }
   },
   "outputs": [
    {
     "name": "stdout",
     "output_type": "stream",
     "text": [
      "Columns still object type:  ['READPRJ']\n",
      "\n",
      "VERSION    category\n",
      "SIDE       category\n",
      "READPRJ      object\n",
      "BBMLP      category\n",
      "BBMLA      category\n",
      "BBMLST     category\n",
      "BBMLS      category\n",
      "BBMLNUM       UInt8\n",
      "dtype: object\n"
     ]
    }
   ],
   "source": [
    "sanity_check(new_df)\n",
    "print()\n",
    "print(new_df.dtypes)\n",
    "if not missing_df.empty:\n",
    "    print('\\nMissing values present, shadow dataframe created.')\n",
    "    print(missing_df)"
   ]
  },
  {
   "cell_type": "code",
   "execution_count": 212,
   "id": "ce1e519c",
   "metadata": {
    "execution": {
     "iopub.execute_input": "2023-12-21T21:04:12.878794Z",
     "iopub.status.busy": "2023-12-21T21:04:12.878508Z",
     "iopub.status.idle": "2023-12-21T21:04:12.885572Z",
     "shell.execute_reply": "2023-12-21T21:04:12.884836Z",
     "shell.execute_reply.started": "2023-12-21T21:04:12.878765Z"
    },
    "pycharm": {
     "name": "#%%\n"
    }
   },
   "outputs": [
    {
     "name": "stdout",
     "output_type": "stream",
     "text": [
      "\n",
      "Final dataframe size: 0.10MB\n",
      "Shadow dataframe size: 0.01MB\n"
     ]
    }
   ],
   "source": [
    "print('\\nFinal dataframe size: {:.2f}MB'.format(new_df.memory_usage(deep=True).sum() / (1024**2)))\n",
    "print('Shadow dataframe size: {:.2f}MB'.format(missing_df.memory_usage(deep=True).sum() / (1024**2)))"
   ]
  },
  {
   "cell_type": "code",
   "execution_count": 213,
   "id": "fc13a257-61cc-4155-acf5-9f8649f6f629",
   "metadata": {
    "execution": {
     "iopub.execute_input": "2023-12-21T21:04:12.887229Z",
     "iopub.status.busy": "2023-12-21T21:04:12.886942Z",
     "iopub.status.idle": "2023-12-21T21:04:12.956646Z",
     "shell.execute_reply": "2023-12-21T21:04:12.955572Z",
     "shell.execute_reply.started": "2023-12-21T21:04:12.887201Z"
    }
   },
   "outputs": [],
   "source": [
    "utils.write_parquet(new_df, 'data/' + prefix + '_values.parquet')\n",
    "if not missing_df.empty:\n",
    "    utils.write_parquet(new_df, 'data/' + prefix + '_missing_values.parquet', verbose=False)"
   ]
  },
  {
   "cell_type": "markdown",
   "id": "2c979f4e",
   "metadata": {
    "tags": []
   },
   "source": [
    "## kmri_sq_moaks_bicl"
   ]
  },
  {
   "cell_type": "code",
   "execution_count": 214,
   "id": "3ba32271",
   "metadata": {
    "execution": {
     "iopub.execute_input": "2023-12-21T21:04:12.958608Z",
     "iopub.status.busy": "2023-12-21T21:04:12.958241Z",
     "iopub.status.idle": "2023-12-21T21:04:20.777104Z",
     "shell.execute_reply": "2023-12-21T21:04:20.776201Z",
     "shell.execute_reply.started": "2023-12-21T21:04:12.958575Z"
    },
    "pycharm": {
     "name": "#%%\n"
    },
    "tags": []
   },
   "outputs": [
    {
     "name": "stdout",
     "output_type": "stream",
     "text": [
      "\n",
      "kmri_sq_moaks_bicl00.sas7bdat: (3017, 121)\n",
      "['ID', 'SIDE', 'READPRJ', 'VERSION', 'MCMPM', 'MCMPL', 'MCMFMA', 'MCMFLA', 'MCMFMP', 'MCMFLP', 'MCMFMC', 'MCMFLC', 'MCMTMA', 'MCMTLA', 'MCMTMC', 'MCMTLC', 'MCMTMP', 'MCMTLP', 'MBMSFMA', 'MBMSFLA', 'MBMSFMC', 'MBMSFLC', 'MBMSFMP', 'MBMSFLP', 'MBMSSS', 'MBMSTMA', 'MBMSTLA', 'MBMSTMC', 'MBMSTLC', 'MBMSTMP', 'MBMSTLP', 'MBMSPM', 'MBMSPL', 'MBMPFMA', 'MBMPFLA', 'MBMPFMC', 'MBMPFLC', 'MBMPFMP', 'MBMPFLP', 'MBMPSS', 'MBMPTMA', 'MBMPTLA', 'MBMPTMC', 'MBMPTLC', 'MBMPTMP', 'MBMPTLP', 'MBMPPM', 'MBMPPL', 'MBMNFMA', 'MBMNFLA', 'MBMNFMC', 'MBMNFLC', 'MBMNFMP', 'MBMNFLP', 'MBMNSS', 'MBMNTMA', 'MBMNTLA', 'MBMNTMC', 'MBMNTLC', 'MBMNTMP', 'MBMNTLP', 'MBMNPM', 'MBMNPL', 'MMTMA', 'MMTMB', 'MMTMP', 'MMTLA', 'MMTLB', 'MMTLP', 'MMHMA', 'MMHMB', 'MMHMP', 'MMHLA', 'MMHLB', 'MMHLP', 'MMSMA', 'MMSMB', 'MMSMP', 'MMSLA', 'MMSLB', 'MMSLP', 'MMXMM', 'MMXMA', 'MMXLA', 'MMXLL', 'MMRTM', 'MMRTL', 'MOSPS', 'MOSPI', 'MOSPM', 'MOSFMA', 'MOSFMP', 'MOSFMC', 'MOSTM', 'MOSPL', 'MOSFLA', 'MOSFLP', 'MOSFLC', 'MOSTL', 'MACLTR', 'MACLBML', 'MACLRP', 'MPCLTR', 'MPCLBML', 'MPCLRP', 'MPTSIG', 'MGCACL', 'MGCPCL', 'MGCTIB', 'MGCSM', 'MGSST', 'MGCOTH', 'MANSBUR', 'MIPBUR', 'MPPBUR', 'MSYIC', 'MEFFWK', 'MPOPCYS', 'MITBSIG', 'MCMNTS', 'MTCMNTS']\n",
      "\n",
      "kmri_sq_moaks_bicl01.sas7bdat: (3086, 121)\n",
      "\n",
      "kmri_sq_moaks_bicl03.sas7bdat: (2107, 121)\n",
      "\n",
      "kmri_sq_moaks_bicl05.sas7bdat: (822, 121)\n",
      "\n",
      "kmri_sq_moaks_bicl06.sas7bdat: (1397, 121)\n",
      "\n",
      "Total rows: 10429\n"
     ]
    }
   ],
   "source": [
    "prefix = 'kmri_sq_moaks_bicl'\n",
    "column_uniformity_check(prefix)"
   ]
  },
  {
   "cell_type": "code",
   "execution_count": 215,
   "id": "7967bb15",
   "metadata": {
    "execution": {
     "iopub.execute_input": "2023-12-21T21:04:20.778838Z",
     "iopub.status.busy": "2023-12-21T21:04:20.778572Z",
     "iopub.status.idle": "2023-12-21T21:04:27.966722Z",
     "shell.execute_reply": "2023-12-21T21:04:27.965918Z",
     "shell.execute_reply.started": "2023-12-21T21:04:20.778812Z"
    },
    "pycharm": {
     "name": "#%%\n"
    },
    "tags": []
   },
   "outputs": [
    {
     "name": "stdout",
     "output_type": "stream",
     "text": [
      "kmri_sq_moaks_bicl00.sas7bdat\tVar Cnt: 121\n",
      "Visits: ['V00']\n",
      "kmri_sq_moaks_bicl01.sas7bdat\tVar Cnt: 121\n",
      "Visits: ['V01']\n",
      "kmri_sq_moaks_bicl03.sas7bdat\tVar Cnt: 121\n",
      "Visits: ['V03']\n",
      "kmri_sq_moaks_bicl05.sas7bdat\tVar Cnt: 121\n",
      "Visits: ['V05']\n",
      "kmri_sq_moaks_bicl06.sas7bdat\tVar Cnt: 121\n",
      "Visits: ['V06']\n",
      "(10429, 122)\n",
      "\n",
      "Starting dataframe size: 8.05MB\n"
     ]
    }
   ],
   "source": [
    "tmp_df = create_df(prefix)\n",
    "print(tmp_df.shape)\n",
    "print('\\nStarting dataframe size: {:.2f}MB'.format(tmp_df.memory_usage(deep=True).sum() / (1024**2)))"
   ]
  },
  {
   "cell_type": "code",
   "execution_count": 216,
   "id": "0bf0ead7",
   "metadata": {
    "execution": {
     "iopub.execute_input": "2023-12-21T21:04:27.968862Z",
     "iopub.status.busy": "2023-12-21T21:04:27.968340Z",
     "iopub.status.idle": "2023-12-21T21:04:28.341578Z",
     "shell.execute_reply": "2023-12-21T21:04:28.340681Z",
     "shell.execute_reply.started": "2023-12-21T21:04:27.968835Z"
    },
    "pycharm": {
     "name": "#%%\n"
    },
    "tags": []
   },
   "outputs": [],
   "source": [
    "data_stats_df, done_df = gather_column_data_stats(tmp_df)"
   ]
  },
  {
   "cell_type": "code",
   "execution_count": 217,
   "id": "faff08d4",
   "metadata": {
    "execution": {
     "iopub.execute_input": "2023-12-21T21:04:28.343149Z",
     "iopub.status.busy": "2023-12-21T21:04:28.342906Z",
     "iopub.status.idle": "2023-12-21T21:04:28.385851Z",
     "shell.execute_reply": "2023-12-21T21:04:28.384963Z",
     "shell.execute_reply.started": "2023-12-21T21:04:28.343121Z"
    },
    "pycharm": {
     "name": "#%%\n"
    },
    "tags": []
   },
   "outputs": [
    {
     "name": "stdout",
     "output_type": "stream",
     "text": [
      "Already defined cols: 104 \tCols to convert: 18\t Total col cnt: 122\n",
      "\n",
      "Column types to convert:\n",
      "   str_cnt  num_cnt  date_cnt  na_cnt  count\n",
      "0     True    False     False   False      3\n",
      "1     True     True     False   False     15\n",
      "\n",
      "Numeric types of columns:\n",
      "num_type\n",
      "unsigned    15\n",
      "Name: count, dtype: int64\n",
      "\n",
      "Largest number of unique strings: 184\n"
     ]
    },
    {
     "data": {
      "text/html": [
       "<div>\n",
       "<style scoped>\n",
       "    .dataframe tbody tr th:only-of-type {\n",
       "        vertical-align: middle;\n",
       "    }\n",
       "\n",
       "    .dataframe tbody tr th {\n",
       "        vertical-align: top;\n",
       "    }\n",
       "\n",
       "    .dataframe thead th {\n",
       "        text-align: right;\n",
       "    }\n",
       "</style>\n",
       "<table border=\"1\" class=\"dataframe\">\n",
       "  <thead>\n",
       "    <tr style=\"text-align: right;\">\n",
       "      <th></th>\n",
       "      <th>label</th>\n",
       "      <th>uniq_strs</th>\n",
       "      <th>str_list</th>\n",
       "      <th>missing_val_cnt</th>\n",
       "      <th>missing_val_list</th>\n",
       "      <th>numeric_str</th>\n",
       "      <th>num_type</th>\n",
       "      <th>uniq_num</th>\n",
       "      <th>max_num</th>\n",
       "      <th>min_num</th>\n",
       "      <th>str_cnt</th>\n",
       "      <th>num_cnt</th>\n",
       "      <th>date_cnt</th>\n",
       "      <th>na_cnt</th>\n",
       "    </tr>\n",
       "    <tr>\n",
       "      <th>col</th>\n",
       "      <th></th>\n",
       "      <th></th>\n",
       "      <th></th>\n",
       "      <th></th>\n",
       "      <th></th>\n",
       "      <th></th>\n",
       "      <th></th>\n",
       "      <th></th>\n",
       "      <th></th>\n",
       "      <th></th>\n",
       "      <th></th>\n",
       "      <th></th>\n",
       "      <th></th>\n",
       "      <th></th>\n",
       "    </tr>\n",
       "  </thead>\n",
       "  <tbody>\n",
       "    <tr>\n",
       "      <th>READPRJ</th>\n",
       "      <td>Project</td>\n",
       "      <td>10</td>\n",
       "      <td>{63E, 63B, 63D, 65, 63F, 61, 30, 63C, 63A, 22}</td>\n",
       "      <td>0</td>\n",
       "      <td>{}</td>\n",
       "      <td>False</td>\n",
       "      <td>None</td>\n",
       "      <td>NaN</td>\n",
       "      <td>NaN</td>\n",
       "      <td>NaN</td>\n",
       "      <td>10429</td>\n",
       "      <td>0</td>\n",
       "      <td>0</td>\n",
       "      <td>0</td>\n",
       "    </tr>\n",
       "    <tr>\n",
       "      <th>MBMNFMA</th>\n",
       "      <td>BL/FU kMRI reading (BI): MOAKS: number of BML ...</td>\n",
       "      <td>0</td>\n",
       "      <td>{}</td>\n",
       "      <td>2</td>\n",
       "      <td>{M, U}</td>\n",
       "      <td>False</td>\n",
       "      <td>unsigned</td>\n",
       "      <td>5.0</td>\n",
       "      <td>3.0</td>\n",
       "      <td>0.0</td>\n",
       "      <td>5</td>\n",
       "      <td>5596</td>\n",
       "      <td>0</td>\n",
       "      <td>0</td>\n",
       "    </tr>\n",
       "    <tr>\n",
       "      <th>MBMNFLA</th>\n",
       "      <td>BL/FU kMRI reading (BI): MOAKS: number of BML ...</td>\n",
       "      <td>0</td>\n",
       "      <td>{}</td>\n",
       "      <td>2</td>\n",
       "      <td>{M, U}</td>\n",
       "      <td>False</td>\n",
       "      <td>unsigned</td>\n",
       "      <td>7.0</td>\n",
       "      <td>5.0</td>\n",
       "      <td>0.0</td>\n",
       "      <td>6</td>\n",
       "      <td>5595</td>\n",
       "      <td>0</td>\n",
       "      <td>0</td>\n",
       "    </tr>\n",
       "    <tr>\n",
       "      <th>MBMNFMC</th>\n",
       "      <td>BL/FU kMRI reading (BI): MOAKS: number of BML ...</td>\n",
       "      <td>0</td>\n",
       "      <td>{}</td>\n",
       "      <td>2</td>\n",
       "      <td>{M, U}</td>\n",
       "      <td>False</td>\n",
       "      <td>unsigned</td>\n",
       "      <td>8.0</td>\n",
       "      <td>11.0</td>\n",
       "      <td>0.0</td>\n",
       "      <td>6</td>\n",
       "      <td>5595</td>\n",
       "      <td>0</td>\n",
       "      <td>0</td>\n",
       "    </tr>\n",
       "    <tr>\n",
       "      <th>MBMNFLC</th>\n",
       "      <td>BL/FU kMRI reading (BI): MOAKS: number of BML ...</td>\n",
       "      <td>0</td>\n",
       "      <td>{}</td>\n",
       "      <td>2</td>\n",
       "      <td>{M, U}</td>\n",
       "      <td>False</td>\n",
       "      <td>unsigned</td>\n",
       "      <td>6.0</td>\n",
       "      <td>9.0</td>\n",
       "      <td>0.0</td>\n",
       "      <td>5</td>\n",
       "      <td>5596</td>\n",
       "      <td>0</td>\n",
       "      <td>0</td>\n",
       "    </tr>\n",
       "    <tr>\n",
       "      <th>MBMNFMP</th>\n",
       "      <td>BL/FU kMRI reading (BI): MOAKS: number of BML ...</td>\n",
       "      <td>0</td>\n",
       "      <td>{}</td>\n",
       "      <td>2</td>\n",
       "      <td>{M, U}</td>\n",
       "      <td>False</td>\n",
       "      <td>unsigned</td>\n",
       "      <td>6.0</td>\n",
       "      <td>4.0</td>\n",
       "      <td>0.0</td>\n",
       "      <td>5</td>\n",
       "      <td>5596</td>\n",
       "      <td>0</td>\n",
       "      <td>0</td>\n",
       "    </tr>\n",
       "    <tr>\n",
       "      <th>MBMNFLP</th>\n",
       "      <td>BL/FU kMRI reading (BI): MOAKS: number of BML ...</td>\n",
       "      <td>0</td>\n",
       "      <td>{}</td>\n",
       "      <td>2</td>\n",
       "      <td>{M, U}</td>\n",
       "      <td>False</td>\n",
       "      <td>unsigned</td>\n",
       "      <td>8.0</td>\n",
       "      <td>9.0</td>\n",
       "      <td>0.0</td>\n",
       "      <td>5</td>\n",
       "      <td>5596</td>\n",
       "      <td>0</td>\n",
       "      <td>0</td>\n",
       "    </tr>\n",
       "    <tr>\n",
       "      <th>MBMNSS</th>\n",
       "      <td>BL/FU kMRI reading (BI): MOAKS: number of BML ...</td>\n",
       "      <td>0</td>\n",
       "      <td>{}</td>\n",
       "      <td>2</td>\n",
       "      <td>{M, U}</td>\n",
       "      <td>False</td>\n",
       "      <td>unsigned</td>\n",
       "      <td>7.0</td>\n",
       "      <td>9.0</td>\n",
       "      <td>0.0</td>\n",
       "      <td>4</td>\n",
       "      <td>5597</td>\n",
       "      <td>0</td>\n",
       "      <td>0</td>\n",
       "    </tr>\n",
       "    <tr>\n",
       "      <th>MBMNTMA</th>\n",
       "      <td>BL/FU kMRI reading (BI): MOAKS: number of BML ...</td>\n",
       "      <td>0</td>\n",
       "      <td>{}</td>\n",
       "      <td>2</td>\n",
       "      <td>{M, U}</td>\n",
       "      <td>False</td>\n",
       "      <td>unsigned</td>\n",
       "      <td>4.0</td>\n",
       "      <td>2.0</td>\n",
       "      <td>0.0</td>\n",
       "      <td>8</td>\n",
       "      <td>5593</td>\n",
       "      <td>0</td>\n",
       "      <td>0</td>\n",
       "    </tr>\n",
       "    <tr>\n",
       "      <th>MBMNTLA</th>\n",
       "      <td>BL/FU kMRI reading (BI): MOAKS: number of BML ...</td>\n",
       "      <td>0</td>\n",
       "      <td>{}</td>\n",
       "      <td>2</td>\n",
       "      <td>{M, U}</td>\n",
       "      <td>False</td>\n",
       "      <td>unsigned</td>\n",
       "      <td>3.0</td>\n",
       "      <td>1.0</td>\n",
       "      <td>0.0</td>\n",
       "      <td>6</td>\n",
       "      <td>5595</td>\n",
       "      <td>0</td>\n",
       "      <td>0</td>\n",
       "    </tr>\n",
       "    <tr>\n",
       "      <th>MBMNTMC</th>\n",
       "      <td>BL/FU kMRI reading (BI): MOAKS: number of BML ...</td>\n",
       "      <td>0</td>\n",
       "      <td>{}</td>\n",
       "      <td>2</td>\n",
       "      <td>{M, U}</td>\n",
       "      <td>False</td>\n",
       "      <td>unsigned</td>\n",
       "      <td>7.0</td>\n",
       "      <td>5.0</td>\n",
       "      <td>0.0</td>\n",
       "      <td>9</td>\n",
       "      <td>5592</td>\n",
       "      <td>0</td>\n",
       "      <td>0</td>\n",
       "    </tr>\n",
       "    <tr>\n",
       "      <th>MBMNTLC</th>\n",
       "      <td>BL/FU kMRI reading (BI): MOAKS: number of BML ...</td>\n",
       "      <td>0</td>\n",
       "      <td>{}</td>\n",
       "      <td>2</td>\n",
       "      <td>{M, U}</td>\n",
       "      <td>False</td>\n",
       "      <td>unsigned</td>\n",
       "      <td>5.0</td>\n",
       "      <td>3.0</td>\n",
       "      <td>0.0</td>\n",
       "      <td>6</td>\n",
       "      <td>5595</td>\n",
       "      <td>0</td>\n",
       "      <td>0</td>\n",
       "    </tr>\n",
       "    <tr>\n",
       "      <th>MBMNTMP</th>\n",
       "      <td>BL/FU kMRI reading (BI): MOAKS: number of BML ...</td>\n",
       "      <td>0</td>\n",
       "      <td>{}</td>\n",
       "      <td>2</td>\n",
       "      <td>{M, U}</td>\n",
       "      <td>False</td>\n",
       "      <td>unsigned</td>\n",
       "      <td>4.0</td>\n",
       "      <td>2.0</td>\n",
       "      <td>0.0</td>\n",
       "      <td>5</td>\n",
       "      <td>5596</td>\n",
       "      <td>0</td>\n",
       "      <td>0</td>\n",
       "    </tr>\n",
       "    <tr>\n",
       "      <th>MBMNTLP</th>\n",
       "      <td>BL/FU kMRI reading (BI): MOAKS: number of BML ...</td>\n",
       "      <td>0</td>\n",
       "      <td>{}</td>\n",
       "      <td>2</td>\n",
       "      <td>{M, U}</td>\n",
       "      <td>False</td>\n",
       "      <td>unsigned</td>\n",
       "      <td>4.0</td>\n",
       "      <td>2.0</td>\n",
       "      <td>0.0</td>\n",
       "      <td>6</td>\n",
       "      <td>5595</td>\n",
       "      <td>0</td>\n",
       "      <td>0</td>\n",
       "    </tr>\n",
       "    <tr>\n",
       "      <th>MBMNPM</th>\n",
       "      <td>BL/FU kMRI reading (BI): MOAKS: number of BML ...</td>\n",
       "      <td>0</td>\n",
       "      <td>{}</td>\n",
       "      <td>2</td>\n",
       "      <td>{M, U}</td>\n",
       "      <td>False</td>\n",
       "      <td>unsigned</td>\n",
       "      <td>6.0</td>\n",
       "      <td>4.0</td>\n",
       "      <td>0.0</td>\n",
       "      <td>6</td>\n",
       "      <td>5595</td>\n",
       "      <td>0</td>\n",
       "      <td>0</td>\n",
       "    </tr>\n",
       "    <tr>\n",
       "      <th>MBMNPL</th>\n",
       "      <td>BL/FU kMRI reading (BI): MOAKS: number of BML ...</td>\n",
       "      <td>0</td>\n",
       "      <td>{}</td>\n",
       "      <td>2</td>\n",
       "      <td>{M, U}</td>\n",
       "      <td>False</td>\n",
       "      <td>unsigned</td>\n",
       "      <td>6.0</td>\n",
       "      <td>4.0</td>\n",
       "      <td>0.0</td>\n",
       "      <td>5</td>\n",
       "      <td>5596</td>\n",
       "      <td>0</td>\n",
       "      <td>0</td>\n",
       "    </tr>\n",
       "    <tr>\n",
       "      <th>MCMNTS</th>\n",
       "      <td>BL/FU kMRI reading (BI): MOAKS: comments</td>\n",
       "      <td>184</td>\n",
       "      <td>{, ACL repair, chondrocalcinosis, two loose bo...</td>\n",
       "      <td>0</td>\n",
       "      <td>{}</td>\n",
       "      <td>False</td>\n",
       "      <td>None</td>\n",
       "      <td>NaN</td>\n",
       "      <td>NaN</td>\n",
       "      <td>NaN</td>\n",
       "      <td>10429</td>\n",
       "      <td>0</td>\n",
       "      <td>0</td>\n",
       "      <td>0</td>\n",
       "    </tr>\n",
       "    <tr>\n",
       "      <th>MTCMNTS</th>\n",
       "      <td>BL/FU kMRI reading (BI): MOAKS: technical cons...</td>\n",
       "      <td>27</td>\n",
       "      <td>{, nnoe, fat sat failure at V4 late, motion sa...</td>\n",
       "      <td>0</td>\n",
       "      <td>{}</td>\n",
       "      <td>False</td>\n",
       "      <td>None</td>\n",
       "      <td>NaN</td>\n",
       "      <td>NaN</td>\n",
       "      <td>NaN</td>\n",
       "      <td>10429</td>\n",
       "      <td>0</td>\n",
       "      <td>0</td>\n",
       "      <td>0</td>\n",
       "    </tr>\n",
       "  </tbody>\n",
       "</table>\n",
       "</div>"
      ],
      "text/plain": [
       "                                                     label  uniq_strs  \\\n",
       "col                                                                     \n",
       "READPRJ                                            Project         10   \n",
       "MBMNFMA  BL/FU kMRI reading (BI): MOAKS: number of BML ...          0   \n",
       "MBMNFLA  BL/FU kMRI reading (BI): MOAKS: number of BML ...          0   \n",
       "MBMNFMC  BL/FU kMRI reading (BI): MOAKS: number of BML ...          0   \n",
       "MBMNFLC  BL/FU kMRI reading (BI): MOAKS: number of BML ...          0   \n",
       "MBMNFMP  BL/FU kMRI reading (BI): MOAKS: number of BML ...          0   \n",
       "MBMNFLP  BL/FU kMRI reading (BI): MOAKS: number of BML ...          0   \n",
       "MBMNSS   BL/FU kMRI reading (BI): MOAKS: number of BML ...          0   \n",
       "MBMNTMA  BL/FU kMRI reading (BI): MOAKS: number of BML ...          0   \n",
       "MBMNTLA  BL/FU kMRI reading (BI): MOAKS: number of BML ...          0   \n",
       "MBMNTMC  BL/FU kMRI reading (BI): MOAKS: number of BML ...          0   \n",
       "MBMNTLC  BL/FU kMRI reading (BI): MOAKS: number of BML ...          0   \n",
       "MBMNTMP  BL/FU kMRI reading (BI): MOAKS: number of BML ...          0   \n",
       "MBMNTLP  BL/FU kMRI reading (BI): MOAKS: number of BML ...          0   \n",
       "MBMNPM   BL/FU kMRI reading (BI): MOAKS: number of BML ...          0   \n",
       "MBMNPL   BL/FU kMRI reading (BI): MOAKS: number of BML ...          0   \n",
       "MCMNTS            BL/FU kMRI reading (BI): MOAKS: comments        184   \n",
       "MTCMNTS  BL/FU kMRI reading (BI): MOAKS: technical cons...         27   \n",
       "\n",
       "                                                  str_list  missing_val_cnt  \\\n",
       "col                                                                           \n",
       "READPRJ     {63E, 63B, 63D, 65, 63F, 61, 30, 63C, 63A, 22}                0   \n",
       "MBMNFMA                                                 {}                2   \n",
       "MBMNFLA                                                 {}                2   \n",
       "MBMNFMC                                                 {}                2   \n",
       "MBMNFLC                                                 {}                2   \n",
       "MBMNFMP                                                 {}                2   \n",
       "MBMNFLP                                                 {}                2   \n",
       "MBMNSS                                                  {}                2   \n",
       "MBMNTMA                                                 {}                2   \n",
       "MBMNTLA                                                 {}                2   \n",
       "MBMNTMC                                                 {}                2   \n",
       "MBMNTLC                                                 {}                2   \n",
       "MBMNTMP                                                 {}                2   \n",
       "MBMNTLP                                                 {}                2   \n",
       "MBMNPM                                                  {}                2   \n",
       "MBMNPL                                                  {}                2   \n",
       "MCMNTS   {, ACL repair, chondrocalcinosis, two loose bo...                0   \n",
       "MTCMNTS  {, nnoe, fat sat failure at V4 late, motion sa...                0   \n",
       "\n",
       "        missing_val_list  numeric_str  num_type  uniq_num  max_num  min_num  \\\n",
       "col                                                                           \n",
       "READPRJ               {}        False      None       NaN      NaN      NaN   \n",
       "MBMNFMA           {M, U}        False  unsigned       5.0      3.0      0.0   \n",
       "MBMNFLA           {M, U}        False  unsigned       7.0      5.0      0.0   \n",
       "MBMNFMC           {M, U}        False  unsigned       8.0     11.0      0.0   \n",
       "MBMNFLC           {M, U}        False  unsigned       6.0      9.0      0.0   \n",
       "MBMNFMP           {M, U}        False  unsigned       6.0      4.0      0.0   \n",
       "MBMNFLP           {M, U}        False  unsigned       8.0      9.0      0.0   \n",
       "MBMNSS            {M, U}        False  unsigned       7.0      9.0      0.0   \n",
       "MBMNTMA           {M, U}        False  unsigned       4.0      2.0      0.0   \n",
       "MBMNTLA           {M, U}        False  unsigned       3.0      1.0      0.0   \n",
       "MBMNTMC           {M, U}        False  unsigned       7.0      5.0      0.0   \n",
       "MBMNTLC           {M, U}        False  unsigned       5.0      3.0      0.0   \n",
       "MBMNTMP           {M, U}        False  unsigned       4.0      2.0      0.0   \n",
       "MBMNTLP           {M, U}        False  unsigned       4.0      2.0      0.0   \n",
       "MBMNPM            {M, U}        False  unsigned       6.0      4.0      0.0   \n",
       "MBMNPL            {M, U}        False  unsigned       6.0      4.0      0.0   \n",
       "MCMNTS                {}        False      None       NaN      NaN      NaN   \n",
       "MTCMNTS               {}        False      None       NaN      NaN      NaN   \n",
       "\n",
       "         str_cnt  num_cnt  date_cnt  na_cnt  \n",
       "col                                          \n",
       "READPRJ    10429        0         0       0  \n",
       "MBMNFMA        5     5596         0       0  \n",
       "MBMNFLA        6     5595         0       0  \n",
       "MBMNFMC        6     5595         0       0  \n",
       "MBMNFLC        5     5596         0       0  \n",
       "MBMNFMP        5     5596         0       0  \n",
       "MBMNFLP        5     5596         0       0  \n",
       "MBMNSS         4     5597         0       0  \n",
       "MBMNTMA        8     5593         0       0  \n",
       "MBMNTLA        6     5595         0       0  \n",
       "MBMNTMC        9     5592         0       0  \n",
       "MBMNTLC        6     5595         0       0  \n",
       "MBMNTMP        5     5596         0       0  \n",
       "MBMNTLP        6     5595         0       0  \n",
       "MBMNPM         6     5595         0       0  \n",
       "MBMNPL         5     5596         0       0  \n",
       "MCMNTS     10429        0         0       0  \n",
       "MTCMNTS    10429        0         0       0  "
      ]
     },
     "execution_count": 217,
     "metadata": {},
     "output_type": "execute_result"
    }
   ],
   "source": [
    "data_stats_summary(tmp_df, data_stats_df)\n",
    "data_stats_df"
   ]
  },
  {
   "cell_type": "code",
   "execution_count": 218,
   "id": "615c548f",
   "metadata": {
    "execution": {
     "iopub.execute_input": "2023-12-21T21:04:28.387349Z",
     "iopub.status.busy": "2023-12-21T21:04:28.386857Z",
     "iopub.status.idle": "2023-12-21T21:04:28.398659Z",
     "shell.execute_reply": "2023-12-21T21:04:28.397949Z",
     "shell.execute_reply.started": "2023-12-21T21:04:28.387320Z"
    },
    "pycharm": {
     "name": "#%%\n"
    },
    "tags": []
   },
   "outputs": [
    {
     "name": "stdout",
     "output_type": "stream",
     "text": [
      "targets = {\n",
      "# Columns with only unsigned ints, missing, and NA values\n",
      "'unsigned': ['MBMNFMA', 'MBMNFLA', 'MBMNFMC', 'MBMNFLC', 'MBMNFMP', 'MBMNFLP', 'MBMNSS', 'MBMNTMA', 'MBMNTLA', 'MBMNTMC', 'MBMNTLC', 'MBMNTMP', 'MBMNTLP', 'MBMNPM', 'MBMNPL'],\n",
      "\n",
      "# Columns with only strings, missing, and NA values\n",
      "'cat': ['READPRJ', 'MCMNTS', 'MTCMNTS'],\n",
      "\n",
      "}\n",
      "\n",
      "\n",
      "Handled columns: 18\n"
     ]
    }
   ],
   "source": [
    "suggest_conversions(data_stats_df)"
   ]
  },
  {
   "cell_type": "code",
   "execution_count": 219,
   "id": "f9826cbc-7ee7-40d1-8279-61aa784c72ca",
   "metadata": {
    "execution": {
     "iopub.execute_input": "2023-12-21T21:04:28.400504Z",
     "iopub.status.busy": "2023-12-21T21:04:28.400214Z",
     "iopub.status.idle": "2023-12-21T21:04:28.426688Z",
     "shell.execute_reply": "2023-12-21T21:04:28.425995Z",
     "shell.execute_reply.started": "2023-12-21T21:04:28.400474Z"
    },
    "tags": []
   },
   "outputs": [],
   "source": [
    "# Clean up comments:\n",
    "for col in 'MTCMNTS', 'MCMNTS':\n",
    "    for target_str in ['none', 'NONE', 'None.', 'nnoe']:\n",
    "        tmp_df[col] = tmp_df[col].replace(target_str, '')"
   ]
  },
  {
   "cell_type": "code",
   "execution_count": 220,
   "id": "c935104d",
   "metadata": {
    "execution": {
     "iopub.execute_input": "2023-12-21T21:04:28.428192Z",
     "iopub.status.busy": "2023-12-21T21:04:28.427890Z",
     "iopub.status.idle": "2023-12-21T21:04:28.805399Z",
     "shell.execute_reply": "2023-12-21T21:04:28.804581Z",
     "shell.execute_reply.started": "2023-12-21T21:04:28.428163Z"
    },
    "pycharm": {
     "name": "#%%\n"
    },
    "tags": []
   },
   "outputs": [],
   "source": [
    "targets = {\n",
    "# Columns with only unsigned ints, missing, and NA values\n",
    "'unsigned': ['MBMNFMA', 'MBMNFLA', 'MBMNFMC', 'MBMNFLC', 'MBMNFMP', 'MBMNFLP', 'MBMNSS', 'MBMNTMA', 'MBMNTLA', 'MBMNTMC', 'MBMNTLC', 'MBMNTMP', 'MBMNTLP', 'MBMNPM', 'MBMNPL'],\n",
    "\n",
    "# Columns with only strings, missing, and NA values\n",
    "'cat': ['READPRJ', 'MCMNTS', 'MTCMNTS'],\n",
    "\n",
    "}\n",
    "new_df, missing_df = convert_columns(targets, data_stats_df, tmp_df)"
   ]
  },
  {
   "cell_type": "code",
   "execution_count": 221,
   "id": "c1544082-51ce-47b7-9986-f01bd58f9aed",
   "metadata": {
    "execution": {
     "iopub.execute_input": "2023-12-21T21:04:28.807075Z",
     "iopub.status.busy": "2023-12-21T21:04:28.806584Z",
     "iopub.status.idle": "2023-12-21T21:04:28.816933Z",
     "shell.execute_reply": "2023-12-21T21:04:28.816287Z",
     "shell.execute_reply.started": "2023-12-21T21:04:28.807047Z"
    },
    "tags": []
   },
   "outputs": [],
   "source": [
    "# Clean up the side var and make an index\n",
    "new_df['SIDE'] = new_df['SIDE'].cat.rename_categories({'1: Right': 'RIGHT', '2: Left': 'LEFT'})\n",
    "new_df.set_index('SIDE', append=True, inplace=True) #  Note that indices are unique yet, Prj 15 and Prj 37 contain repeats"
   ]
  },
  {
   "cell_type": "code",
   "execution_count": 222,
   "id": "250ed669",
   "metadata": {
    "execution": {
     "iopub.execute_input": "2023-12-21T21:04:28.818370Z",
     "iopub.status.busy": "2023-12-21T21:04:28.818082Z",
     "iopub.status.idle": "2023-12-21T21:04:28.860981Z",
     "shell.execute_reply": "2023-12-21T21:04:28.859967Z",
     "shell.execute_reply.started": "2023-12-21T21:04:28.818342Z"
    },
    "pycharm": {
     "name": "#%%\n"
    },
    "tags": []
   },
   "outputs": [
    {
     "name": "stdout",
     "output_type": "stream",
     "text": [
      "\n",
      "VERSION    category\n",
      "READPRJ    category\n",
      "MCMPM      category\n",
      "MCMPL      category\n",
      "MCMFMA     category\n",
      "             ...   \n",
      "MEFFWK     category\n",
      "MPOPCYS    category\n",
      "MITBSIG    category\n",
      "MCMNTS     category\n",
      "MTCMNTS    category\n",
      "Length: 119, dtype: object\n",
      "\n",
      "Missing values present, shadow dataframe created.\n",
      "              MBMNFMA MBMNFLA MBMNFMC MBMNFLC MBMNFMP MBMNFLP MBMNSS MBMNTMA  \\\n",
      "ID      Visit                                                                  \n",
      "9000798 V00       NaN     NaN     NaN     NaN     NaN     NaN    NaN     NaN   \n",
      "9001400 V00       NaN     NaN     NaN     NaN     NaN     NaN    NaN     NaN   \n",
      "9001695 V00       NaN     NaN     NaN     NaN     NaN     NaN    NaN     NaN   \n",
      "9001897 V00       NaN     NaN     NaN     NaN     NaN     NaN    NaN     NaN   \n",
      "        V00       NaN     NaN     NaN     NaN     NaN     NaN    NaN     NaN   \n",
      "...               ...     ...     ...     ...     ...     ...    ...     ...   \n",
      "9995338 V06       NaN     NaN     NaN     NaN     NaN     NaN    NaN     NaN   \n",
      "        V06       NaN     NaN     NaN     NaN     NaN     NaN    NaN     NaN   \n",
      "9996086 V06       NaN     NaN     NaN     NaN     NaN     NaN    NaN     NaN   \n",
      "9996284 V06       NaN     NaN     NaN     NaN     NaN     NaN    NaN     NaN   \n",
      "9996851 V06       NaN     NaN     NaN     NaN     NaN     NaN    NaN     NaN   \n",
      "\n",
      "              MBMNTLA MBMNTMC MBMNTLC MBMNTMP MBMNTLP MBMNPM MBMNPL  \n",
      "ID      Visit                                                        \n",
      "9000798 V00       NaN     NaN     NaN     NaN     NaN    NaN    NaN  \n",
      "9001400 V00       NaN     NaN     NaN     NaN     NaN    NaN    NaN  \n",
      "9001695 V00       NaN     NaN     NaN     NaN     NaN    NaN    NaN  \n",
      "9001897 V00       NaN     NaN     NaN     NaN     NaN    NaN    NaN  \n",
      "        V00       NaN     NaN     NaN     NaN     NaN    NaN    NaN  \n",
      "...               ...     ...     ...     ...     ...    ...    ...  \n",
      "9995338 V06       NaN     NaN     NaN     NaN     NaN    NaN    NaN  \n",
      "        V06       NaN     NaN     NaN     NaN     NaN    NaN    NaN  \n",
      "9996086 V06       NaN     NaN     NaN     NaN     NaN    NaN    NaN  \n",
      "9996284 V06       NaN     NaN     NaN     NaN     NaN    NaN    NaN  \n",
      "9996851 V06       NaN     NaN     NaN     NaN     NaN    NaN    NaN  \n",
      "\n",
      "[10429 rows x 15 columns]\n"
     ]
    }
   ],
   "source": [
    "sanity_check(new_df)\n",
    "print()\n",
    "print(new_df.dtypes)\n",
    "if not missing_df.empty:\n",
    "    print('\\nMissing values present, shadow dataframe created.')\n",
    "    print(missing_df)"
   ]
  },
  {
   "cell_type": "code",
   "execution_count": 223,
   "id": "98aad42e",
   "metadata": {
    "execution": {
     "iopub.execute_input": "2023-12-21T21:04:28.862495Z",
     "iopub.status.busy": "2023-12-21T21:04:28.862206Z",
     "iopub.status.idle": "2023-12-21T21:04:28.872550Z",
     "shell.execute_reply": "2023-12-21T21:04:28.871649Z",
     "shell.execute_reply.started": "2023-12-21T21:04:28.862469Z"
    },
    "pycharm": {
     "name": "#%%\n"
    },
    "tags": []
   },
   "outputs": [
    {
     "name": "stdout",
     "output_type": "stream",
     "text": [
      "\n",
      "Final dataframe size: 1.82MB\n",
      "Shadow dataframe size: 0.24MB\n"
     ]
    }
   ],
   "source": [
    "print('\\nFinal dataframe size: {:.2f}MB'.format(new_df.memory_usage(deep=True).sum() / (1024**2)))\n",
    "print('Shadow dataframe size: {:.2f}MB'.format(missing_df.memory_usage(deep=True).sum() / (1024**2)))"
   ]
  },
  {
   "cell_type": "code",
   "execution_count": 224,
   "id": "9ad92a35-4db1-4e34-88bf-34e7d40ed01b",
   "metadata": {
    "execution": {
     "iopub.execute_input": "2023-12-21T21:04:28.874371Z",
     "iopub.status.busy": "2023-12-21T21:04:28.873799Z",
     "iopub.status.idle": "2023-12-21T21:04:29.121956Z",
     "shell.execute_reply": "2023-12-21T21:04:29.121177Z",
     "shell.execute_reply.started": "2023-12-21T21:04:28.874339Z"
    }
   },
   "outputs": [],
   "source": [
    "utils.write_parquet(new_df, 'data/' + prefix + '_values.parquet')\n",
    "if not missing_df.empty:\n",
    "    utils.write_parquet(new_df, 'data/' + prefix + '_missing_values.parquet', verbose=False)"
   ]
  },
  {
   "cell_type": "markdown",
   "id": "dbe44531",
   "metadata": {
    "tags": []
   },
   "source": [
    "## kmri_sq_worms_link"
   ]
  },
  {
   "cell_type": "code",
   "execution_count": 225,
   "id": "236abb12",
   "metadata": {
    "execution": {
     "iopub.execute_input": "2023-12-21T21:04:29.123767Z",
     "iopub.status.busy": "2023-12-21T21:04:29.123267Z",
     "iopub.status.idle": "2023-12-21T21:04:33.037326Z",
     "shell.execute_reply": "2023-12-21T21:04:33.036199Z",
     "shell.execute_reply.started": "2023-12-21T21:04:29.123738Z"
    },
    "pycharm": {
     "name": "#%%\n"
    }
   },
   "outputs": [
    {
     "name": "stdout",
     "output_type": "stream",
     "text": [
      "\n",
      "kmri_sq_worms_link00.sas7bdat: (300, 33)\n",
      "['ID', 'side', 'VERSION', 'READPRJ', 'MWMTMA', 'MWMTMB', 'MWMTMP', 'MWMTLA', 'MWMTLB', 'MWMTLP', 'MWMTMS', 'MWMTLS', 'MWACL', 'MWPCL', 'MWMCL', 'MWLCL', 'MWPATND', 'MWPOTND', 'MWCMP', 'MWCMFT', 'MWCMFM', 'MWCMFL', 'MWCMTM', 'MWCMTL', 'MWBMP', 'MWBMFT', 'MWBMFM', 'MWBMFL', 'MWBMTM', 'MWBMTL', 'MWEFFWK', 'MWLB', 'MWPOPCY']\n",
      "\n",
      "kmri_sq_worms_link03.sas7bdat: (291, 33)\n",
      "Names only differ by case\n",
      "\n",
      "kmri_sq_worms_link06.sas7bdat: (300, 33)\n",
      "Names only differ by case\n",
      "\n",
      "Total rows: 891\n"
     ]
    }
   ],
   "source": [
    "prefix = 'kmri_sq_worms_link'\n",
    "column_uniformity_check(prefix)"
   ]
  },
  {
   "cell_type": "code",
   "execution_count": 226,
   "id": "a1affc5d",
   "metadata": {
    "execution": {
     "iopub.execute_input": "2023-12-21T21:04:33.039587Z",
     "iopub.status.busy": "2023-12-21T21:04:33.039233Z",
     "iopub.status.idle": "2023-12-21T21:04:36.557174Z",
     "shell.execute_reply": "2023-12-21T21:04:36.556350Z",
     "shell.execute_reply.started": "2023-12-21T21:04:33.039556Z"
    },
    "pycharm": {
     "name": "#%%\n"
    }
   },
   "outputs": [
    {
     "name": "stdout",
     "output_type": "stream",
     "text": [
      "kmri_sq_worms_link00.sas7bdat\tVar Cnt: 33\n",
      "Visits: ['V00']\n",
      "Unhandled data type:  MWPOPCY DEGREE\n",
      "kmri_sq_worms_link03.sas7bdat\tVar Cnt: 33\n",
      "Visits: ['V03']\n",
      "Unhandled data type:  MWPOPCY DEGREE\n",
      "kmri_sq_worms_link06.sas7bdat\tVar Cnt: 33\n",
      "Visits: ['V06']\n",
      "Unhandled data type:  MWPOPCY DEGREE\n",
      "(891, 34)\n",
      "\n",
      "Starting dataframe size: 0.22MB\n"
     ]
    }
   ],
   "source": [
    "tmp_df = create_df(prefix)\n",
    "print(tmp_df.shape)\n",
    "print('\\nStarting dataframe size: {:.2f}MB'.format(tmp_df.memory_usage(deep=True).sum() / (1024**2)))"
   ]
  },
  {
   "cell_type": "code",
   "execution_count": 227,
   "id": "c2b88526",
   "metadata": {
    "execution": {
     "iopub.execute_input": "2023-12-21T21:04:36.559029Z",
     "iopub.status.busy": "2023-12-21T21:04:36.558755Z",
     "iopub.status.idle": "2023-12-21T21:04:36.578008Z",
     "shell.execute_reply": "2023-12-21T21:04:36.577287Z",
     "shell.execute_reply.started": "2023-12-21T21:04:36.558997Z"
    },
    "pycharm": {
     "name": "#%%\n"
    }
   },
   "outputs": [],
   "source": [
    "data_stats_df, done_df = gather_column_data_stats(tmp_df)"
   ]
  },
  {
   "cell_type": "code",
   "execution_count": 228,
   "id": "667400e9",
   "metadata": {
    "execution": {
     "iopub.execute_input": "2023-12-21T21:04:36.579450Z",
     "iopub.status.busy": "2023-12-21T21:04:36.579074Z",
     "iopub.status.idle": "2023-12-21T21:04:36.604596Z",
     "shell.execute_reply": "2023-12-21T21:04:36.603972Z",
     "shell.execute_reply.started": "2023-12-21T21:04:36.579420Z"
    },
    "pycharm": {
     "name": "#%%\n"
    }
   },
   "outputs": [
    {
     "name": "stdout",
     "output_type": "stream",
     "text": [
      "Already defined cols: 32 \tCols to convert: 2\t Total col cnt: 34\n",
      "\n",
      "Column types to convert:\n",
      "   str_cnt  num_cnt  date_cnt  na_cnt  count\n",
      "0     True    False     False   False      1\n",
      "1     True     True     False   False      1\n",
      "\n",
      "Numeric types of columns:\n",
      "num_type\n",
      "unsigned    1\n",
      "Name: count, dtype: int64\n",
      "\n",
      "Largest number of unique strings: 1\n"
     ]
    },
    {
     "data": {
      "text/html": [
       "<div>\n",
       "<style scoped>\n",
       "    .dataframe tbody tr th:only-of-type {\n",
       "        vertical-align: middle;\n",
       "    }\n",
       "\n",
       "    .dataframe tbody tr th {\n",
       "        vertical-align: top;\n",
       "    }\n",
       "\n",
       "    .dataframe thead th {\n",
       "        text-align: right;\n",
       "    }\n",
       "</style>\n",
       "<table border=\"1\" class=\"dataframe\">\n",
       "  <thead>\n",
       "    <tr style=\"text-align: right;\">\n",
       "      <th></th>\n",
       "      <th>label</th>\n",
       "      <th>uniq_strs</th>\n",
       "      <th>str_list</th>\n",
       "      <th>missing_val_cnt</th>\n",
       "      <th>missing_val_list</th>\n",
       "      <th>numeric_str</th>\n",
       "      <th>num_type</th>\n",
       "      <th>uniq_num</th>\n",
       "      <th>max_num</th>\n",
       "      <th>min_num</th>\n",
       "      <th>str_cnt</th>\n",
       "      <th>num_cnt</th>\n",
       "      <th>date_cnt</th>\n",
       "      <th>na_cnt</th>\n",
       "    </tr>\n",
       "    <tr>\n",
       "      <th>col</th>\n",
       "      <th></th>\n",
       "      <th></th>\n",
       "      <th></th>\n",
       "      <th></th>\n",
       "      <th></th>\n",
       "      <th></th>\n",
       "      <th></th>\n",
       "      <th></th>\n",
       "      <th></th>\n",
       "      <th></th>\n",
       "      <th></th>\n",
       "      <th></th>\n",
       "      <th></th>\n",
       "      <th></th>\n",
       "    </tr>\n",
       "  </thead>\n",
       "  <tbody>\n",
       "    <tr>\n",
       "      <th>READPRJ</th>\n",
       "      <td>Project</td>\n",
       "      <td>1</td>\n",
       "      <td>{39}</td>\n",
       "      <td>0</td>\n",
       "      <td>{}</td>\n",
       "      <td>True</td>\n",
       "      <td>None</td>\n",
       "      <td>NaN</td>\n",
       "      <td>NaN</td>\n",
       "      <td>NaN</td>\n",
       "      <td>891</td>\n",
       "      <td>0</td>\n",
       "      <td>0</td>\n",
       "      <td>0</td>\n",
       "    </tr>\n",
       "    <tr>\n",
       "      <th>MWPOPCY</th>\n",
       "      <td>BL/FU kMRI Reading (Link WORMS): Popliteal Cyst</td>\n",
       "      <td>0</td>\n",
       "      <td>{}</td>\n",
       "      <td>2</td>\n",
       "      <td>{M, T}</td>\n",
       "      <td>False</td>\n",
       "      <td>unsigned</td>\n",
       "      <td>4.0</td>\n",
       "      <td>3.0</td>\n",
       "      <td>0.0</td>\n",
       "      <td>202</td>\n",
       "      <td>689</td>\n",
       "      <td>0</td>\n",
       "      <td>0</td>\n",
       "    </tr>\n",
       "  </tbody>\n",
       "</table>\n",
       "</div>"
      ],
      "text/plain": [
       "                                                   label  uniq_strs str_list  \\\n",
       "col                                                                            \n",
       "READPRJ                                          Project          1     {39}   \n",
       "MWPOPCY  BL/FU kMRI Reading (Link WORMS): Popliteal Cyst          0       {}   \n",
       "\n",
       "         missing_val_cnt missing_val_list  numeric_str  num_type  uniq_num  \\\n",
       "col                                                                          \n",
       "READPRJ                0               {}         True      None       NaN   \n",
       "MWPOPCY                2           {M, T}        False  unsigned       4.0   \n",
       "\n",
       "         max_num  min_num  str_cnt  num_cnt  date_cnt  na_cnt  \n",
       "col                                                            \n",
       "READPRJ      NaN      NaN      891        0         0       0  \n",
       "MWPOPCY      3.0      0.0      202      689         0       0  "
      ]
     },
     "execution_count": 228,
     "metadata": {},
     "output_type": "execute_result"
    }
   ],
   "source": [
    "data_stats_summary(tmp_df, data_stats_df)\n",
    "data_stats_df"
   ]
  },
  {
   "cell_type": "code",
   "execution_count": 229,
   "id": "d386945b",
   "metadata": {
    "execution": {
     "iopub.execute_input": "2023-12-21T21:04:36.606112Z",
     "iopub.status.busy": "2023-12-21T21:04:36.605628Z",
     "iopub.status.idle": "2023-12-21T21:04:36.618062Z",
     "shell.execute_reply": "2023-12-21T21:04:36.617321Z",
     "shell.execute_reply.started": "2023-12-21T21:04:36.606083Z"
    },
    "pycharm": {
     "name": "#%%\n"
    }
   },
   "outputs": [
    {
     "name": "stdout",
     "output_type": "stream",
     "text": [
      "targets = {\n",
      "# Columns with only unsigned ints, missing, and NA values\n",
      "'unsigned': ['MWPOPCY'],\n",
      "\n",
      "# Columns with only strings, missing, and NA values\n",
      "'cat': ['READPRJ'],\n",
      "\n",
      "}\n",
      "\n",
      "\n",
      "Handled columns: 2\n"
     ]
    }
   ],
   "source": [
    "suggest_conversions(data_stats_df)"
   ]
  },
  {
   "cell_type": "code",
   "execution_count": 230,
   "id": "6ab3494a",
   "metadata": {
    "execution": {
     "iopub.execute_input": "2023-12-21T21:04:36.619393Z",
     "iopub.status.busy": "2023-12-21T21:04:36.619135Z",
     "iopub.status.idle": "2023-12-21T21:04:36.640018Z",
     "shell.execute_reply": "2023-12-21T21:04:36.639412Z",
     "shell.execute_reply.started": "2023-12-21T21:04:36.619369Z"
    },
    "pycharm": {
     "name": "#%%\n"
    }
   },
   "outputs": [],
   "source": [
    "targets = {\n",
    "# Columns with only unsigned ints, missing, and NA values\n",
    "'unsigned': ['MWPOPCY'],\n",
    "}\n",
    "\n",
    "new_df, missing_df = convert_columns(targets, data_stats_df, tmp_df)"
   ]
  },
  {
   "cell_type": "code",
   "execution_count": 231,
   "id": "0348b8ee",
   "metadata": {
    "execution": {
     "iopub.execute_input": "2023-12-21T21:04:36.641383Z",
     "iopub.status.busy": "2023-12-21T21:04:36.641041Z",
     "iopub.status.idle": "2023-12-21T21:04:36.659479Z",
     "shell.execute_reply": "2023-12-21T21:04:36.658656Z",
     "shell.execute_reply.started": "2023-12-21T21:04:36.641352Z"
    },
    "pycharm": {
     "name": "#%%\n"
    }
   },
   "outputs": [
    {
     "name": "stdout",
     "output_type": "stream",
     "text": [
      "Failure to make column categorical: MWPOPCY\n",
      "Columns still object type:  ['READPRJ']\n",
      "\n",
      "VERSION    category\n",
      "SIDE       category\n",
      "READPRJ      object\n",
      "MWMTMA     category\n",
      "MWMTMB     category\n",
      "MWMTMP     category\n",
      "MWMTLA     category\n",
      "MWMTLB     category\n",
      "MWMTLP     category\n",
      "MWMTMS     category\n",
      "MWMTLS     category\n",
      "MWACL      category\n",
      "MWPCL      category\n",
      "MWMCL      category\n",
      "MWLCL      category\n",
      "MWPATND    category\n",
      "MWPOTND    category\n",
      "MWCMP      category\n",
      "MWCMFT     category\n",
      "MWCMFM     category\n",
      "MWCMFL     category\n",
      "MWCMTM     category\n",
      "MWCMTL     category\n",
      "MWBMP      category\n",
      "MWBMFT     category\n",
      "MWBMFM     category\n",
      "MWBMFL     category\n",
      "MWBMTM     category\n",
      "MWBMTL     category\n",
      "MWEFFWK    category\n",
      "MWLB       category\n",
      "MWPOPCY       UInt8\n",
      "dtype: object\n",
      "\n",
      "Missing values present, shadow dataframe created.\n",
      "                   MWPOPCY\n",
      "ID      Visit             \n",
      "9003175 V00            NaN\n",
      "9011115 V00    .M: Missing\n",
      "9011949 V00            NaN\n",
      "9013634 V00            NaN\n",
      "9015798 V00    .M: Missing\n",
      "...                    ...\n",
      "9973569 V06            NaN\n",
      "9979306 V06            NaN\n",
      "9982698 V06            NaN\n",
      "9989352 V06            NaN\n",
      "9995913 V06            NaN\n",
      "\n",
      "[891 rows x 1 columns]\n"
     ]
    }
   ],
   "source": [
    "sanity_check(new_df)\n",
    "print()\n",
    "print(new_df.dtypes)\n",
    "if not missing_df.empty:\n",
    "    print('\\nMissing values present, shadow dataframe created.')\n",
    "    print(missing_df)"
   ]
  },
  {
   "cell_type": "code",
   "execution_count": 232,
   "id": "f568c1d6",
   "metadata": {
    "execution": {
     "iopub.execute_input": "2023-12-21T21:04:36.661065Z",
     "iopub.status.busy": "2023-12-21T21:04:36.660774Z",
     "iopub.status.idle": "2023-12-21T21:04:36.668291Z",
     "shell.execute_reply": "2023-12-21T21:04:36.667502Z",
     "shell.execute_reply.started": "2023-12-21T21:04:36.661036Z"
    },
    "pycharm": {
     "name": "#%%\n"
    }
   },
   "outputs": [
    {
     "name": "stdout",
     "output_type": "stream",
     "text": [
      "\n",
      "Final dataframe size: 0.19MB\n",
      "Shadow dataframe size: 0.01MB\n"
     ]
    }
   ],
   "source": [
    "print('\\nFinal dataframe size: {:.2f}MB'.format(new_df.memory_usage(deep=True).sum() / (1024**2)))\n",
    "print('Shadow dataframe size: {:.2f}MB'.format(missing_df.memory_usage(deep=True).sum() / (1024**2)))"
   ]
  },
  {
   "cell_type": "code",
   "execution_count": 233,
   "id": "4cd4139e-3e11-4574-a76c-3efe94844bd8",
   "metadata": {
    "execution": {
     "iopub.execute_input": "2023-12-21T21:04:36.669721Z",
     "iopub.status.busy": "2023-12-21T21:04:36.669439Z",
     "iopub.status.idle": "2023-12-21T21:04:36.725778Z",
     "shell.execute_reply": "2023-12-21T21:04:36.724950Z",
     "shell.execute_reply.started": "2023-12-21T21:04:36.669697Z"
    }
   },
   "outputs": [],
   "source": [
    "utils.write_parquet(new_df, 'data/' + prefix + '_values.parquet')\n",
    "if not missing_df.empty:\n",
    "    utils.write_parquet(new_df, 'data/' + prefix + '_missing_values.parquet', verbose=False)"
   ]
  },
  {
   "cell_type": "markdown",
   "id": "1be44383",
   "metadata": {
    "tags": []
   },
   "source": [
    "## kxr_fnih_bti_duke"
   ]
  },
  {
   "cell_type": "code",
   "execution_count": 234,
   "id": "adfeddce",
   "metadata": {
    "execution": {
     "iopub.execute_input": "2023-12-21T21:04:36.727434Z",
     "iopub.status.busy": "2023-12-21T21:04:36.727139Z",
     "iopub.status.idle": "2023-12-21T21:04:40.261290Z",
     "shell.execute_reply": "2023-12-21T21:04:40.260403Z",
     "shell.execute_reply.started": "2023-12-21T21:04:36.727409Z"
    },
    "pycharm": {
     "name": "#%%\n"
    }
   },
   "outputs": [
    {
     "name": "stdout",
     "output_type": "stream",
     "text": [
      "\n",
      "kxr_fnih_bti_duke00.sas7bdat: (600, 11)\n",
      "['ID', 'SIDE', 'VERSION', 'READPRJ', 'BTI_H0', 'BTI_H1', 'BTI_H2', 'BTI_V0', 'BTI_V1', 'BTI_V2', 'BARCDBTI']\n",
      "\n",
      "kxr_fnih_bti_duke01.sas7bdat: (600, 11)\n",
      "\n",
      "kxr_fnih_bti_duke03.sas7bdat: (600, 11)\n",
      "\n",
      "Total rows: 1800\n"
     ]
    }
   ],
   "source": [
    "prefix = 'kxr_fnih_bti_duke'\n",
    "column_uniformity_check(prefix)"
   ]
  },
  {
   "cell_type": "code",
   "execution_count": 235,
   "id": "0ecf1279",
   "metadata": {
    "execution": {
     "iopub.execute_input": "2023-12-21T21:04:40.263125Z",
     "iopub.status.busy": "2023-12-21T21:04:40.262845Z",
     "iopub.status.idle": "2023-12-21T21:04:43.619399Z",
     "shell.execute_reply": "2023-12-21T21:04:43.618453Z",
     "shell.execute_reply.started": "2023-12-21T21:04:40.263092Z"
    },
    "pycharm": {
     "name": "#%%\n"
    }
   },
   "outputs": [
    {
     "name": "stdout",
     "output_type": "stream",
     "text": [
      "kxr_fnih_bti_duke00.sas7bdat\tVar Cnt: 11\n",
      "Visits: ['V00']\n",
      "kxr_fnih_bti_duke01.sas7bdat\tVar Cnt: 11\n",
      "Visits: ['V01']\n",
      "kxr_fnih_bti_duke03.sas7bdat\tVar Cnt: 11\n",
      "Visits: ['V03']\n",
      "(1800, 12)\n",
      "\n",
      "Starting dataframe size: 0.33MB\n"
     ]
    }
   ],
   "source": [
    "tmp_df = create_df(prefix)\n",
    "print(tmp_df.shape)\n",
    "print('\\nStarting dataframe size: {:.2f}MB'.format(tmp_df.memory_usage(deep=True).sum() / (1024**2)))"
   ]
  },
  {
   "cell_type": "code",
   "execution_count": 236,
   "id": "aaf57c5a",
   "metadata": {
    "execution": {
     "iopub.execute_input": "2023-12-21T21:04:43.621174Z",
     "iopub.status.busy": "2023-12-21T21:04:43.620787Z",
     "iopub.status.idle": "2023-12-21T21:04:43.645524Z",
     "shell.execute_reply": "2023-12-21T21:04:43.644914Z",
     "shell.execute_reply.started": "2023-12-21T21:04:43.621142Z"
    },
    "pycharm": {
     "name": "#%%\n"
    }
   },
   "outputs": [],
   "source": [
    "data_stats_df, done_df = gather_column_data_stats(tmp_df)"
   ]
  },
  {
   "cell_type": "code",
   "execution_count": 237,
   "id": "720f1bd3",
   "metadata": {
    "execution": {
     "iopub.execute_input": "2023-12-21T21:04:43.646885Z",
     "iopub.status.busy": "2023-12-21T21:04:43.646663Z",
     "iopub.status.idle": "2023-12-21T21:04:43.676645Z",
     "shell.execute_reply": "2023-12-21T21:04:43.675782Z",
     "shell.execute_reply.started": "2023-12-21T21:04:43.646861Z"
    },
    "pycharm": {
     "name": "#%%\n"
    }
   },
   "outputs": [
    {
     "name": "stdout",
     "output_type": "stream",
     "text": [
      "Already defined cols: 4 \tCols to convert: 8\t Total col cnt: 12\n",
      "\n",
      "Column types to convert:\n",
      "   str_cnt  num_cnt  date_cnt  na_cnt  count\n",
      "0    False     True     False    True      6\n",
      "1     True    False     False   False      2\n",
      "\n",
      "Numeric types of columns:\n",
      "num_type\n",
      "float    6\n",
      "Name: count, dtype: int64\n",
      "\n",
      "Largest number of unique strings: 1785\n"
     ]
    },
    {
     "data": {
      "text/html": [
       "<div>\n",
       "<style scoped>\n",
       "    .dataframe tbody tr th:only-of-type {\n",
       "        vertical-align: middle;\n",
       "    }\n",
       "\n",
       "    .dataframe tbody tr th {\n",
       "        vertical-align: top;\n",
       "    }\n",
       "\n",
       "    .dataframe thead th {\n",
       "        text-align: right;\n",
       "    }\n",
       "</style>\n",
       "<table border=\"1\" class=\"dataframe\">\n",
       "  <thead>\n",
       "    <tr style=\"text-align: right;\">\n",
       "      <th></th>\n",
       "      <th>label</th>\n",
       "      <th>uniq_strs</th>\n",
       "      <th>str_list</th>\n",
       "      <th>missing_val_cnt</th>\n",
       "      <th>missing_val_list</th>\n",
       "      <th>numeric_str</th>\n",
       "      <th>num_type</th>\n",
       "      <th>uniq_num</th>\n",
       "      <th>max_num</th>\n",
       "      <th>min_num</th>\n",
       "      <th>str_cnt</th>\n",
       "      <th>num_cnt</th>\n",
       "      <th>date_cnt</th>\n",
       "      <th>na_cnt</th>\n",
       "    </tr>\n",
       "    <tr>\n",
       "      <th>col</th>\n",
       "      <th></th>\n",
       "      <th></th>\n",
       "      <th></th>\n",
       "      <th></th>\n",
       "      <th></th>\n",
       "      <th></th>\n",
       "      <th></th>\n",
       "      <th></th>\n",
       "      <th></th>\n",
       "      <th></th>\n",
       "      <th></th>\n",
       "      <th></th>\n",
       "      <th></th>\n",
       "      <th></th>\n",
       "    </tr>\n",
       "  </thead>\n",
       "  <tbody>\n",
       "    <tr>\n",
       "      <th>READPRJ</th>\n",
       "      <td>Project</td>\n",
       "      <td>1</td>\n",
       "      <td>{22}</td>\n",
       "      <td>0</td>\n",
       "      <td>{}</td>\n",
       "      <td>True</td>\n",
       "      <td>None</td>\n",
       "      <td>NaN</td>\n",
       "      <td>NaN</td>\n",
       "      <td>NaN</td>\n",
       "      <td>1800</td>\n",
       "      <td>0</td>\n",
       "      <td>0</td>\n",
       "      <td>0</td>\n",
       "    </tr>\n",
       "    <tr>\n",
       "      <th>BTI_H0</th>\n",
       "      <td>Fractal Bone Trabecular Integrity Horizontal -...</td>\n",
       "      <td>0</td>\n",
       "      <td>None</td>\n",
       "      <td>0</td>\n",
       "      <td>None</td>\n",
       "      <td>None</td>\n",
       "      <td>float</td>\n",
       "      <td>1700.0</td>\n",
       "      <td>3.101711</td>\n",
       "      <td>2.140136</td>\n",
       "      <td>0</td>\n",
       "      <td>1699</td>\n",
       "      <td>0</td>\n",
       "      <td>101</td>\n",
       "    </tr>\n",
       "    <tr>\n",
       "      <th>BTI_H1</th>\n",
       "      <td>Fractal Bone Trabecular Integrity Horizontal -...</td>\n",
       "      <td>0</td>\n",
       "      <td>None</td>\n",
       "      <td>0</td>\n",
       "      <td>None</td>\n",
       "      <td>None</td>\n",
       "      <td>float</td>\n",
       "      <td>1700.0</td>\n",
       "      <td>-0.068849</td>\n",
       "      <td>-0.385847</td>\n",
       "      <td>0</td>\n",
       "      <td>1699</td>\n",
       "      <td>0</td>\n",
       "      <td>101</td>\n",
       "    </tr>\n",
       "    <tr>\n",
       "      <th>BTI_H2</th>\n",
       "      <td>Fractal Bone Trabecular Integrity Horizontal -...</td>\n",
       "      <td>0</td>\n",
       "      <td>None</td>\n",
       "      <td>0</td>\n",
       "      <td>None</td>\n",
       "      <td>None</td>\n",
       "      <td>float</td>\n",
       "      <td>1700.0</td>\n",
       "      <td>0.330728</td>\n",
       "      <td>-0.018622</td>\n",
       "      <td>0</td>\n",
       "      <td>1699</td>\n",
       "      <td>0</td>\n",
       "      <td>101</td>\n",
       "    </tr>\n",
       "    <tr>\n",
       "      <th>BTI_V0</th>\n",
       "      <td>Fractal Bone Trabecular Integrity Vertical - c...</td>\n",
       "      <td>0</td>\n",
       "      <td>None</td>\n",
       "      <td>0</td>\n",
       "      <td>None</td>\n",
       "      <td>None</td>\n",
       "      <td>float</td>\n",
       "      <td>1700.0</td>\n",
       "      <td>2.826620</td>\n",
       "      <td>1.366253</td>\n",
       "      <td>0</td>\n",
       "      <td>1699</td>\n",
       "      <td>0</td>\n",
       "      <td>101</td>\n",
       "    </tr>\n",
       "    <tr>\n",
       "      <th>BTI_V1</th>\n",
       "      <td>Fractal Bone Trabecular Integrity Vertical - s...</td>\n",
       "      <td>0</td>\n",
       "      <td>None</td>\n",
       "      <td>0</td>\n",
       "      <td>None</td>\n",
       "      <td>None</td>\n",
       "      <td>float</td>\n",
       "      <td>1700.0</td>\n",
       "      <td>0.213952</td>\n",
       "      <td>-0.439273</td>\n",
       "      <td>0</td>\n",
       "      <td>1699</td>\n",
       "      <td>0</td>\n",
       "      <td>101</td>\n",
       "    </tr>\n",
       "    <tr>\n",
       "      <th>BTI_V2</th>\n",
       "      <td>Fractal Bone Trabecular Integrity Vertical - q...</td>\n",
       "      <td>0</td>\n",
       "      <td>None</td>\n",
       "      <td>0</td>\n",
       "      <td>None</td>\n",
       "      <td>None</td>\n",
       "      <td>float</td>\n",
       "      <td>1700.0</td>\n",
       "      <td>1.007951</td>\n",
       "      <td>0.101282</td>\n",
       "      <td>0</td>\n",
       "      <td>1699</td>\n",
       "      <td>0</td>\n",
       "      <td>101</td>\n",
       "    </tr>\n",
       "    <tr>\n",
       "      <th>BARCDBTI</th>\n",
       "      <td>Barcode of image analyzed</td>\n",
       "      <td>1785</td>\n",
       "      <td>{016601653603, 016602269503, 016600104503, 016...</td>\n",
       "      <td>0</td>\n",
       "      <td>{}</td>\n",
       "      <td>True</td>\n",
       "      <td>None</td>\n",
       "      <td>NaN</td>\n",
       "      <td>NaN</td>\n",
       "      <td>NaN</td>\n",
       "      <td>1800</td>\n",
       "      <td>0</td>\n",
       "      <td>0</td>\n",
       "      <td>0</td>\n",
       "    </tr>\n",
       "  </tbody>\n",
       "</table>\n",
       "</div>"
      ],
      "text/plain": [
       "                                                      label  uniq_strs  \\\n",
       "col                                                                      \n",
       "READPRJ                                             Project          1   \n",
       "BTI_H0    Fractal Bone Trabecular Integrity Horizontal -...          0   \n",
       "BTI_H1    Fractal Bone Trabecular Integrity Horizontal -...          0   \n",
       "BTI_H2    Fractal Bone Trabecular Integrity Horizontal -...          0   \n",
       "BTI_V0    Fractal Bone Trabecular Integrity Vertical - c...          0   \n",
       "BTI_V1    Fractal Bone Trabecular Integrity Vertical - s...          0   \n",
       "BTI_V2    Fractal Bone Trabecular Integrity Vertical - q...          0   \n",
       "BARCDBTI                          Barcode of image analyzed       1785   \n",
       "\n",
       "                                                   str_list  missing_val_cnt  \\\n",
       "col                                                                            \n",
       "READPRJ                                                {22}                0   \n",
       "BTI_H0                                                 None                0   \n",
       "BTI_H1                                                 None                0   \n",
       "BTI_H2                                                 None                0   \n",
       "BTI_V0                                                 None                0   \n",
       "BTI_V1                                                 None                0   \n",
       "BTI_V2                                                 None                0   \n",
       "BARCDBTI  {016601653603, 016602269503, 016600104503, 016...                0   \n",
       "\n",
       "         missing_val_list numeric_str num_type  uniq_num   max_num   min_num  \\\n",
       "col                                                                            \n",
       "READPRJ                {}        True     None       NaN       NaN       NaN   \n",
       "BTI_H0               None        None    float    1700.0  3.101711  2.140136   \n",
       "BTI_H1               None        None    float    1700.0 -0.068849 -0.385847   \n",
       "BTI_H2               None        None    float    1700.0  0.330728 -0.018622   \n",
       "BTI_V0               None        None    float    1700.0  2.826620  1.366253   \n",
       "BTI_V1               None        None    float    1700.0  0.213952 -0.439273   \n",
       "BTI_V2               None        None    float    1700.0  1.007951  0.101282   \n",
       "BARCDBTI               {}        True     None       NaN       NaN       NaN   \n",
       "\n",
       "          str_cnt  num_cnt  date_cnt  na_cnt  \n",
       "col                                           \n",
       "READPRJ      1800        0         0       0  \n",
       "BTI_H0          0     1699         0     101  \n",
       "BTI_H1          0     1699         0     101  \n",
       "BTI_H2          0     1699         0     101  \n",
       "BTI_V0          0     1699         0     101  \n",
       "BTI_V1          0     1699         0     101  \n",
       "BTI_V2          0     1699         0     101  \n",
       "BARCDBTI     1800        0         0       0  "
      ]
     },
     "execution_count": 237,
     "metadata": {},
     "output_type": "execute_result"
    }
   ],
   "source": [
    "data_stats_summary(tmp_df, data_stats_df)\n",
    "data_stats_df"
   ]
  },
  {
   "cell_type": "code",
   "execution_count": 238,
   "id": "1873badc",
   "metadata": {
    "execution": {
     "iopub.execute_input": "2023-12-21T21:04:43.678086Z",
     "iopub.status.busy": "2023-12-21T21:04:43.677794Z",
     "iopub.status.idle": "2023-12-21T21:04:43.689809Z",
     "shell.execute_reply": "2023-12-21T21:04:43.689058Z",
     "shell.execute_reply.started": "2023-12-21T21:04:43.678057Z"
    },
    "pycharm": {
     "name": "#%%\n"
    }
   },
   "outputs": [
    {
     "name": "stdout",
     "output_type": "stream",
     "text": [
      "targets = {\n",
      "# Columns with only floats, missing, and NA values\n",
      "'float': ['BTI_H0', 'BTI_H1', 'BTI_H2', 'BTI_V0', 'BTI_V1', 'BTI_V2'],\n",
      "\n",
      "# Columns with only strings, missing, and NA values\n",
      "'cat': ['READPRJ', 'BARCDBTI'],\n",
      "\n",
      "}\n",
      "\n",
      "\n",
      "Handled columns: 8\n"
     ]
    }
   ],
   "source": [
    "suggest_conversions(data_stats_df)"
   ]
  },
  {
   "cell_type": "code",
   "execution_count": 239,
   "id": "2e74140a",
   "metadata": {
    "execution": {
     "iopub.execute_input": "2023-12-21T21:04:43.691361Z",
     "iopub.status.busy": "2023-12-21T21:04:43.690993Z",
     "iopub.status.idle": "2023-12-21T21:04:43.715749Z",
     "shell.execute_reply": "2023-12-21T21:04:43.715076Z",
     "shell.execute_reply.started": "2023-12-21T21:04:43.691330Z"
    },
    "pycharm": {
     "name": "#%%\n"
    }
   },
   "outputs": [],
   "source": [
    "targets = {\n",
    "# Columns with only floats, missing, and NA values\n",
    "'float': ['BTI_H0', 'BTI_H1', 'BTI_H2', 'BTI_V0', 'BTI_V1', 'BTI_V2'],\n",
    "\n",
    "# Columns with only strings, missing, and NA values\n",
    "'cat': ['BARCDBTI'],\n",
    "\n",
    "}\n",
    "\n",
    "\n",
    "new_df, missing_df = convert_columns(targets, data_stats_df, tmp_df)"
   ]
  },
  {
   "cell_type": "code",
   "execution_count": 240,
   "id": "824a7821",
   "metadata": {
    "execution": {
     "iopub.execute_input": "2023-12-21T21:04:43.717174Z",
     "iopub.status.busy": "2023-12-21T21:04:43.716787Z",
     "iopub.status.idle": "2023-12-21T21:04:43.723607Z",
     "shell.execute_reply": "2023-12-21T21:04:43.722813Z",
     "shell.execute_reply.started": "2023-12-21T21:04:43.717144Z"
    },
    "pycharm": {
     "name": "#%%\n"
    }
   },
   "outputs": [
    {
     "name": "stdout",
     "output_type": "stream",
     "text": [
      "Columns still object type:  ['READPRJ']\n",
      "\n",
      "VERSION     category\n",
      "SIDE        category\n",
      "READPRJ       object\n",
      "BTI_H0       float32\n",
      "BTI_H1       float32\n",
      "BTI_H2       float32\n",
      "BTI_V0       float32\n",
      "BTI_V1       float32\n",
      "BTI_V2       float32\n",
      "BARCDBTI    category\n",
      "dtype: object\n"
     ]
    }
   ],
   "source": [
    "sanity_check(new_df)\n",
    "print()\n",
    "print(new_df.dtypes)\n",
    "if not missing_df.empty:\n",
    "    print('\\nMissing values present, shadow dataframe created.')\n",
    "    print(missing_df)"
   ]
  },
  {
   "cell_type": "code",
   "execution_count": 241,
   "id": "9ae58b1a",
   "metadata": {
    "execution": {
     "iopub.execute_input": "2023-12-21T21:04:43.725285Z",
     "iopub.status.busy": "2023-12-21T21:04:43.724999Z",
     "iopub.status.idle": "2023-12-21T21:04:43.733095Z",
     "shell.execute_reply": "2023-12-21T21:04:43.732378Z",
     "shell.execute_reply.started": "2023-12-21T21:04:43.725261Z"
    },
    "pycharm": {
     "name": "#%%\n"
    }
   },
   "outputs": [
    {
     "name": "stdout",
     "output_type": "stream",
     "text": [
      "\n",
      "Final dataframe size: 0.35MB\n",
      "Shadow dataframe size: 0.01MB\n"
     ]
    }
   ],
   "source": [
    "print('\\nFinal dataframe size: {:.2f}MB'.format(new_df.memory_usage(deep=True).sum() / (1024**2)))\n",
    "print('Shadow dataframe size: {:.2f}MB'.format(missing_df.memory_usage(deep=True).sum() / (1024**2)))"
   ]
  },
  {
   "cell_type": "code",
   "execution_count": 242,
   "id": "cf02e083-f0a7-4f98-b26a-baac0c147cf4",
   "metadata": {
    "execution": {
     "iopub.execute_input": "2023-12-21T21:04:43.734778Z",
     "iopub.status.busy": "2023-12-21T21:04:43.734515Z",
     "iopub.status.idle": "2023-12-21T21:04:43.752019Z",
     "shell.execute_reply": "2023-12-21T21:04:43.751408Z",
     "shell.execute_reply.started": "2023-12-21T21:04:43.734755Z"
    }
   },
   "outputs": [],
   "source": [
    "utils.write_parquet(new_df, 'data/' + prefix + '_values.parquet')\n",
    "if not missing_df.empty:\n",
    "    utils.write_parquet(new_df, 'data/' + prefix + '_missing_values.parquet', verbose=False)"
   ]
  },
  {
   "cell_type": "markdown",
   "id": "e073ef68",
   "metadata": {
    "tags": []
   },
   "source": [
    "## kxr_fta_duryea"
   ]
  },
  {
   "cell_type": "code",
   "execution_count": 243,
   "id": "c29e8f83",
   "metadata": {
    "execution": {
     "iopub.execute_input": "2023-12-21T21:04:43.753323Z",
     "iopub.status.busy": "2023-12-21T21:04:43.753027Z",
     "iopub.status.idle": "2023-12-21T21:04:52.080898Z",
     "shell.execute_reply": "2023-12-21T21:04:52.080018Z",
     "shell.execute_reply.started": "2023-12-21T21:04:43.753293Z"
    },
    "pycharm": {
     "name": "#%%\n"
    },
    "tags": []
   },
   "outputs": [
    {
     "name": "stdout",
     "output_type": "stream",
     "text": [
      "\n",
      "kxr_fta_duryea00.sas7bdat: (6178, 7)\n",
      "['ID', 'SIDE', 'READPRJ', 'VERSION', 'FTAFLAG', 'FTANGLE', 'BRCDJD']\n",
      "\n",
      "kxr_fta_duryea01.sas7bdat: (5807, 7)\n",
      "\n",
      "kxr_fta_duryea03.sas7bdat: (5482, 7)\n",
      "\n",
      "kxr_fta_duryea05.sas7bdat: (5313, 7)\n",
      "\n",
      "kxr_fta_duryea06.sas7bdat: (5092, 7)\n",
      "\n",
      "kxr_fta_duryea08.sas7bdat: (3557, 7)\n",
      "\n",
      "kxr_fta_duryea10.sas7bdat: (3689, 7)\n",
      "\n",
      "Total rows: 35118\n"
     ]
    }
   ],
   "source": [
    "prefix = 'kxr_fta_duryea'\n",
    "column_uniformity_check(prefix)"
   ]
  },
  {
   "cell_type": "code",
   "execution_count": 244,
   "id": "672eeec0",
   "metadata": {
    "execution": {
     "iopub.execute_input": "2023-12-21T21:04:52.082614Z",
     "iopub.status.busy": "2023-12-21T21:04:52.082290Z",
     "iopub.status.idle": "2023-12-21T21:05:00.021615Z",
     "shell.execute_reply": "2023-12-21T21:05:00.020786Z",
     "shell.execute_reply.started": "2023-12-21T21:04:52.082583Z"
    },
    "pycharm": {
     "name": "#%%\n"
    },
    "tags": []
   },
   "outputs": [
    {
     "name": "stdout",
     "output_type": "stream",
     "text": [
      "kxr_fta_duryea00.sas7bdat\tVar Cnt: 7\n",
      "Visits: ['V00']\n",
      "kxr_fta_duryea01.sas7bdat\tVar Cnt: 7\n",
      "Visits: ['V01']\n",
      "kxr_fta_duryea03.sas7bdat\tVar Cnt: 7\n",
      "Visits: ['V03']\n",
      "kxr_fta_duryea05.sas7bdat\tVar Cnt: 7\n",
      "Visits: ['V05']\n",
      "kxr_fta_duryea06.sas7bdat\tVar Cnt: 7\n",
      "Visits: ['V06']\n",
      "kxr_fta_duryea08.sas7bdat\tVar Cnt: 7\n",
      "Visits: ['V08']\n",
      "kxr_fta_duryea10.sas7bdat\tVar Cnt: 7\n",
      "Visits: ['V10']\n",
      "(35118, 8)\n",
      "\n",
      "Starting dataframe size: 5.92MB\n"
     ]
    }
   ],
   "source": [
    "tmp_df = create_df(prefix)\n",
    "print(tmp_df.shape)\n",
    "print('\\nStarting dataframe size: {:.2f}MB'.format(tmp_df.memory_usage(deep=True).sum() / (1024**2)))"
   ]
  },
  {
   "cell_type": "code",
   "execution_count": 245,
   "id": "b78a9155",
   "metadata": {
    "execution": {
     "iopub.execute_input": "2023-12-21T21:05:00.023942Z",
     "iopub.status.busy": "2023-12-21T21:05:00.023350Z",
     "iopub.status.idle": "2023-12-21T21:05:00.199949Z",
     "shell.execute_reply": "2023-12-21T21:05:00.199027Z",
     "shell.execute_reply.started": "2023-12-21T21:05:00.023910Z"
    },
    "pycharm": {
     "name": "#%%\n"
    },
    "tags": []
   },
   "outputs": [],
   "source": [
    "data_stats_df, done_df = gather_column_data_stats(tmp_df)"
   ]
  },
  {
   "cell_type": "code",
   "execution_count": 246,
   "id": "621c7ac3",
   "metadata": {
    "execution": {
     "iopub.execute_input": "2023-12-21T21:05:00.201533Z",
     "iopub.status.busy": "2023-12-21T21:05:00.201289Z",
     "iopub.status.idle": "2023-12-21T21:05:00.228517Z",
     "shell.execute_reply": "2023-12-21T21:05:00.227592Z",
     "shell.execute_reply.started": "2023-12-21T21:05:00.201504Z"
    },
    "pycharm": {
     "name": "#%%\n"
    },
    "tags": []
   },
   "outputs": [
    {
     "name": "stdout",
     "output_type": "stream",
     "text": [
      "Already defined cols: 5 \tCols to convert: 3\t Total col cnt: 8\n",
      "\n",
      "Column types to convert:\n",
      "   str_cnt  num_cnt  date_cnt  na_cnt  count\n",
      "0     True    False     False   False      2\n",
      "1     True     True     False   False      1\n",
      "\n",
      "Numeric types of columns:\n",
      "num_type\n",
      "float    1\n",
      "Name: count, dtype: int64\n",
      "\n",
      "Largest number of unique strings: 19944\n"
     ]
    },
    {
     "data": {
      "text/html": [
       "<div>\n",
       "<style scoped>\n",
       "    .dataframe tbody tr th:only-of-type {\n",
       "        vertical-align: middle;\n",
       "    }\n",
       "\n",
       "    .dataframe tbody tr th {\n",
       "        vertical-align: top;\n",
       "    }\n",
       "\n",
       "    .dataframe thead th {\n",
       "        text-align: right;\n",
       "    }\n",
       "</style>\n",
       "<table border=\"1\" class=\"dataframe\">\n",
       "  <thead>\n",
       "    <tr style=\"text-align: right;\">\n",
       "      <th></th>\n",
       "      <th>label</th>\n",
       "      <th>uniq_strs</th>\n",
       "      <th>str_list</th>\n",
       "      <th>missing_val_cnt</th>\n",
       "      <th>missing_val_list</th>\n",
       "      <th>numeric_str</th>\n",
       "      <th>num_type</th>\n",
       "      <th>uniq_num</th>\n",
       "      <th>max_num</th>\n",
       "      <th>min_num</th>\n",
       "      <th>str_cnt</th>\n",
       "      <th>num_cnt</th>\n",
       "      <th>date_cnt</th>\n",
       "      <th>na_cnt</th>\n",
       "    </tr>\n",
       "    <tr>\n",
       "      <th>col</th>\n",
       "      <th></th>\n",
       "      <th></th>\n",
       "      <th></th>\n",
       "      <th></th>\n",
       "      <th></th>\n",
       "      <th></th>\n",
       "      <th></th>\n",
       "      <th></th>\n",
       "      <th></th>\n",
       "      <th></th>\n",
       "      <th></th>\n",
       "      <th></th>\n",
       "      <th></th>\n",
       "      <th></th>\n",
       "    </tr>\n",
       "  </thead>\n",
       "  <tbody>\n",
       "    <tr>\n",
       "      <th>READPRJ</th>\n",
       "      <td>Project</td>\n",
       "      <td>1</td>\n",
       "      <td>{17}</td>\n",
       "      <td>0</td>\n",
       "      <td>{}</td>\n",
       "      <td>True</td>\n",
       "      <td>None</td>\n",
       "      <td>NaN</td>\n",
       "      <td>NaN</td>\n",
       "      <td>NaN</td>\n",
       "      <td>35118</td>\n",
       "      <td>0</td>\n",
       "      <td>0</td>\n",
       "      <td>0</td>\n",
       "    </tr>\n",
       "    <tr>\n",
       "      <th>FTANGLE</th>\n",
       "      <td>BL kXR reading (JD): femoral tibial angle (FTA...</td>\n",
       "      <td>0</td>\n",
       "      <td>{}</td>\n",
       "      <td>2</td>\n",
       "      <td>{P, T}</td>\n",
       "      <td>False</td>\n",
       "      <td>float</td>\n",
       "      <td>1850.0</td>\n",
       "      <td>10.17</td>\n",
       "      <td>-18.02</td>\n",
       "      <td>645</td>\n",
       "      <td>34473</td>\n",
       "      <td>0</td>\n",
       "      <td>0</td>\n",
       "    </tr>\n",
       "    <tr>\n",
       "      <th>BRCDJD</th>\n",
       "      <td>BL kXR reading (JD): barcode of image analyzed...</td>\n",
       "      <td>19944</td>\n",
       "      <td>{016600855104, 016602586401, 016603773601, 016...</td>\n",
       "      <td>0</td>\n",
       "      <td>{}</td>\n",
       "      <td>False</td>\n",
       "      <td>None</td>\n",
       "      <td>NaN</td>\n",
       "      <td>NaN</td>\n",
       "      <td>NaN</td>\n",
       "      <td>35118</td>\n",
       "      <td>0</td>\n",
       "      <td>0</td>\n",
       "      <td>0</td>\n",
       "    </tr>\n",
       "  </tbody>\n",
       "</table>\n",
       "</div>"
      ],
      "text/plain": [
       "                                                     label  uniq_strs  \\\n",
       "col                                                                     \n",
       "READPRJ                                            Project          1   \n",
       "FTANGLE  BL kXR reading (JD): femoral tibial angle (FTA...          0   \n",
       "BRCDJD   BL kXR reading (JD): barcode of image analyzed...      19944   \n",
       "\n",
       "                                                  str_list  missing_val_cnt  \\\n",
       "col                                                                           \n",
       "READPRJ                                               {17}                0   \n",
       "FTANGLE                                                 {}                2   \n",
       "BRCDJD   {016600855104, 016602586401, 016603773601, 016...                0   \n",
       "\n",
       "        missing_val_list  numeric_str num_type  uniq_num  max_num  min_num  \\\n",
       "col                                                                          \n",
       "READPRJ               {}         True     None       NaN      NaN      NaN   \n",
       "FTANGLE           {P, T}        False    float    1850.0    10.17   -18.02   \n",
       "BRCDJD                {}        False     None       NaN      NaN      NaN   \n",
       "\n",
       "         str_cnt  num_cnt  date_cnt  na_cnt  \n",
       "col                                          \n",
       "READPRJ    35118        0         0       0  \n",
       "FTANGLE      645    34473         0       0  \n",
       "BRCDJD     35118        0         0       0  "
      ]
     },
     "execution_count": 246,
     "metadata": {},
     "output_type": "execute_result"
    }
   ],
   "source": [
    "data_stats_summary(tmp_df, data_stats_df)\n",
    "data_stats_df"
   ]
  },
  {
   "cell_type": "code",
   "execution_count": 247,
   "id": "e30ee077",
   "metadata": {
    "execution": {
     "iopub.execute_input": "2023-12-21T21:05:00.230129Z",
     "iopub.status.busy": "2023-12-21T21:05:00.229660Z",
     "iopub.status.idle": "2023-12-21T21:05:00.241909Z",
     "shell.execute_reply": "2023-12-21T21:05:00.241027Z",
     "shell.execute_reply.started": "2023-12-21T21:05:00.230099Z"
    },
    "pycharm": {
     "name": "#%%\n"
    },
    "tags": []
   },
   "outputs": [
    {
     "name": "stdout",
     "output_type": "stream",
     "text": [
      "targets = {\n",
      "# Columns with only floats, missing, and NA values\n",
      "'float': ['FTANGLE'],\n",
      "\n",
      "# Columns with only strings, missing, and NA values\n",
      "'cat': ['READPRJ', 'BRCDJD'],\n",
      "\n",
      "}\n",
      "\n",
      "\n",
      "Handled columns: 3\n"
     ]
    }
   ],
   "source": [
    "suggest_conversions(data_stats_df)"
   ]
  },
  {
   "cell_type": "code",
   "execution_count": 248,
   "id": "18dfdd62",
   "metadata": {
    "execution": {
     "iopub.execute_input": "2023-12-21T21:05:00.243997Z",
     "iopub.status.busy": "2023-12-21T21:05:00.243622Z",
     "iopub.status.idle": "2023-12-21T21:05:00.352508Z",
     "shell.execute_reply": "2023-12-21T21:05:00.351661Z",
     "shell.execute_reply.started": "2023-12-21T21:05:00.243966Z"
    },
    "pycharm": {
     "name": "#%%\n"
    },
    "tags": []
   },
   "outputs": [],
   "source": [
    "targets = {\n",
    "# Columns with only floats, missing, and NA values\n",
    "'float': ['FTANGLE'],\n",
    "\n",
    "# Columns with only strings, missing, and NA values\n",
    "'cat': ['BRCDJD'],\n",
    "\n",
    "}\n",
    "\n",
    "new_df, missing_df = convert_columns(targets, data_stats_df, tmp_df)"
   ]
  },
  {
   "cell_type": "code",
   "execution_count": 249,
   "id": "7e81c1cc-6fb9-4397-98bd-414abd456f7b",
   "metadata": {
    "execution": {
     "iopub.execute_input": "2023-12-21T21:05:00.354203Z",
     "iopub.status.busy": "2023-12-21T21:05:00.353786Z",
     "iopub.status.idle": "2023-12-21T21:05:00.375422Z",
     "shell.execute_reply": "2023-12-21T21:05:00.374638Z",
     "shell.execute_reply.started": "2023-12-21T21:05:00.354175Z"
    },
    "tags": []
   },
   "outputs": [],
   "source": [
    "# Clean up the side var and make an index\n",
    "new_df['SIDE'] = new_df['SIDE'].cat.rename_categories({'1: Right': 'RIGHT', '2: Left': 'LEFT'})\n",
    "new_df.set_index('SIDE', append=True, inplace=True) #  Note that indices are unique yet, Prj 15 and Prj 37 contain repeats"
   ]
  },
  {
   "cell_type": "code",
   "execution_count": 250,
   "id": "7f638c09",
   "metadata": {
    "execution": {
     "iopub.execute_input": "2023-12-21T21:05:00.376971Z",
     "iopub.status.busy": "2023-12-21T21:05:00.376504Z",
     "iopub.status.idle": "2023-12-21T21:05:00.388615Z",
     "shell.execute_reply": "2023-12-21T21:05:00.387876Z",
     "shell.execute_reply.started": "2023-12-21T21:05:00.376886Z"
    },
    "pycharm": {
     "name": "#%%\n"
    },
    "tags": []
   },
   "outputs": [
    {
     "name": "stdout",
     "output_type": "stream",
     "text": [
      "Columns still object type:  ['READPRJ']\n",
      "\n",
      "VERSION    category\n",
      "READPRJ      object\n",
      "FTAFLAG    category\n",
      "FTANGLE     float32\n",
      "BRCDJD     category\n",
      "dtype: object\n",
      "\n",
      "Missing values present, shadow dataframe created.\n",
      "              FTANGLE\n",
      "ID      Visit        \n",
      "9000099 V00       NaN\n",
      "        V00       NaN\n",
      "9000296 V00       NaN\n",
      "        V00       NaN\n",
      "9000622 V00       NaN\n",
      "...               ...\n",
      "9999510 V10       NaN\n",
      "9999862 V10       NaN\n",
      "        V10       NaN\n",
      "9999865 V10       NaN\n",
      "9999878 V10       NaN\n",
      "\n",
      "[35118 rows x 1 columns]\n"
     ]
    }
   ],
   "source": [
    "sanity_check(new_df)\n",
    "print()\n",
    "print(new_df.dtypes)\n",
    "if not missing_df.empty:\n",
    "    print('\\nMissing values present, shadow dataframe created.')\n",
    "    print(missing_df)"
   ]
  },
  {
   "cell_type": "code",
   "execution_count": 251,
   "id": "351cfadd",
   "metadata": {
    "execution": {
     "iopub.execute_input": "2023-12-21T21:05:00.390273Z",
     "iopub.status.busy": "2023-12-21T21:05:00.390025Z",
     "iopub.status.idle": "2023-12-21T21:05:00.406724Z",
     "shell.execute_reply": "2023-12-21T21:05:00.405834Z",
     "shell.execute_reply.started": "2023-12-21T21:05:00.390249Z"
    },
    "pycharm": {
     "name": "#%%\n"
    },
    "tags": []
   },
   "outputs": [
    {
     "name": "stdout",
     "output_type": "stream",
     "text": [
      "\n",
      "Final dataframe size: 4.31MB\n",
      "Shadow dataframe size: 0.24MB\n"
     ]
    }
   ],
   "source": [
    "print('\\nFinal dataframe size: {:.2f}MB'.format(new_df.memory_usage(deep=True).sum() / (1024**2)))\n",
    "print('Shadow dataframe size: {:.2f}MB'.format(missing_df.memory_usage(deep=True).sum() / (1024**2)))"
   ]
  },
  {
   "cell_type": "code",
   "execution_count": 252,
   "id": "9612b0f4-4954-4582-aee8-4db354497e51",
   "metadata": {
    "execution": {
     "iopub.execute_input": "2023-12-21T21:05:00.408365Z",
     "iopub.status.busy": "2023-12-21T21:05:00.407964Z",
     "iopub.status.idle": "2023-12-21T21:05:00.496556Z",
     "shell.execute_reply": "2023-12-21T21:05:00.495842Z",
     "shell.execute_reply.started": "2023-12-21T21:05:00.408319Z"
    }
   },
   "outputs": [],
   "source": [
    "utils.write_parquet(new_df, 'data/' + prefix + '_values.parquet')\n",
    "if not missing_df.empty:\n",
    "    utils.write_parquet(new_df, 'data/' + prefix + '_missing_values.parquet', verbose=False)"
   ]
  },
  {
   "cell_type": "markdown",
   "id": "b3b30c96",
   "metadata": {
    "tags": []
   },
   "source": [
    "## kxr_qjsw_duryea"
   ]
  },
  {
   "cell_type": "code",
   "execution_count": 253,
   "id": "8b589c1d",
   "metadata": {
    "execution": {
     "iopub.execute_input": "2023-12-21T21:05:00.497793Z",
     "iopub.status.busy": "2023-12-21T21:05:00.497494Z",
     "iopub.status.idle": "2023-12-21T21:05:09.296542Z",
     "shell.execute_reply": "2023-12-21T21:05:09.295593Z",
     "shell.execute_reply.started": "2023-12-21T21:05:00.497770Z"
    },
    "pycharm": {
     "name": "#%%\n"
    },
    "tags": []
   },
   "outputs": [
    {
     "name": "stdout",
     "output_type": "stream",
     "text": [
      "\n",
      "kxr_qjsw_duryea00.sas7bdat: (6245, 36)\n",
      "['ID', 'SIDE', 'readprj', 'VERSION', 'CFWDTH', 'MCMJSW', 'JSW175', 'JSW200', 'JSW250', 'BARCDJD', 'JSW300', 'JSW225', 'TPCFDS', 'BMANG', 'JSW150', 'JSW275', 'LJSW850', 'LJSW900', 'LJSW700', 'LJSW825', 'LJSW750', 'LJSW875', 'LJSW725', 'LJSW775', 'LJSW800', 'XMJSW', 'INCPLL', 'INCPLM', 'NOMMJSW', 'NOLJSWX', 'MJSWBB', 'INCSTPS', 'LTPMEBE', 'NOMJSWX', 'NOLMIN', 'IMPIXSZ']\n",
      "\n",
      "kxr_qjsw_duryea01.sas7bdat: (5874, 36)\n",
      "Names only differ by case\n",
      "\n",
      "kxr_qjsw_duryea03.sas7bdat: (5544, 36)\n",
      "Names only differ by case\n",
      "\n",
      "kxr_qjsw_duryea05.sas7bdat: (5349, 36)\n",
      "Names only differ by case\n",
      "\n",
      "kxr_qjsw_duryea06.sas7bdat: (5134, 36)\n",
      "Names only differ by case\n",
      "\n",
      "kxr_qjsw_duryea08.sas7bdat: (3557, 36)\n",
      "Names only differ by case\n",
      "\n",
      "kxr_qjsw_duryea10.sas7bdat: (3689, 36)\n",
      "Names only differ by case\n",
      "\n",
      "Total rows: 35392\n"
     ]
    }
   ],
   "source": [
    "prefix = 'kxr_qjsw_duryea'\n",
    "column_uniformity_check(prefix)"
   ]
  },
  {
   "cell_type": "code",
   "execution_count": 254,
   "id": "4f4200b3",
   "metadata": {
    "execution": {
     "iopub.execute_input": "2023-12-21T21:05:09.298272Z",
     "iopub.status.busy": "2023-12-21T21:05:09.297873Z",
     "iopub.status.idle": "2023-12-21T21:05:18.077345Z",
     "shell.execute_reply": "2023-12-21T21:05:18.076290Z",
     "shell.execute_reply.started": "2023-12-21T21:05:09.298239Z"
    },
    "pycharm": {
     "name": "#%%\n"
    },
    "tags": []
   },
   "outputs": [
    {
     "name": "stdout",
     "output_type": "stream",
     "text": [
      "kxr_qjsw_duryea00.sas7bdat\tVar Cnt: 36\n",
      "Visits: ['V00']\n",
      "kxr_qjsw_duryea01.sas7bdat\tVar Cnt: 36\n",
      "Visits: ['V01']\n",
      "kxr_qjsw_duryea03.sas7bdat\tVar Cnt: 36\n",
      "Visits: ['V03']\n",
      "kxr_qjsw_duryea05.sas7bdat\tVar Cnt: 36\n",
      "Visits: ['V05']\n",
      "kxr_qjsw_duryea06.sas7bdat\tVar Cnt: 36\n",
      "Visits: ['V06']\n",
      "kxr_qjsw_duryea08.sas7bdat\tVar Cnt: 36\n",
      "Visits: ['V08']\n",
      "kxr_qjsw_duryea10.sas7bdat\tVar Cnt: 36\n",
      "Visits: ['V10']\n",
      "(35392, 37)\n",
      "\n",
      "Starting dataframe size: 28.76MB\n"
     ]
    }
   ],
   "source": [
    "tmp_df = create_df(prefix)\n",
    "print(tmp_df.shape)\n",
    "print('\\nStarting dataframe size: {:.2f}MB'.format(tmp_df.memory_usage(deep=True).sum() / (1024**2)))"
   ]
  },
  {
   "cell_type": "code",
   "execution_count": 255,
   "id": "08cf75f9",
   "metadata": {
    "execution": {
     "iopub.execute_input": "2023-12-21T21:05:18.078973Z",
     "iopub.status.busy": "2023-12-21T21:05:18.078667Z",
     "iopub.status.idle": "2023-12-21T21:05:19.070008Z",
     "shell.execute_reply": "2023-12-21T21:05:19.069277Z",
     "shell.execute_reply.started": "2023-12-21T21:05:18.078945Z"
    },
    "pycharm": {
     "name": "#%%\n"
    },
    "tags": []
   },
   "outputs": [],
   "source": [
    "data_stats_df, done_df = gather_column_data_stats(tmp_df)"
   ]
  },
  {
   "cell_type": "code",
   "execution_count": 256,
   "id": "0a092652",
   "metadata": {
    "execution": {
     "iopub.execute_input": "2023-12-21T21:05:19.071544Z",
     "iopub.status.busy": "2023-12-21T21:05:19.071080Z",
     "iopub.status.idle": "2023-12-21T21:05:19.117823Z",
     "shell.execute_reply": "2023-12-21T21:05:19.117066Z",
     "shell.execute_reply.started": "2023-12-21T21:05:19.071515Z"
    },
    "pycharm": {
     "name": "#%%\n"
    },
    "tags": []
   },
   "outputs": [
    {
     "name": "stdout",
     "output_type": "stream",
     "text": [
      "Already defined cols: 13 \tCols to convert: 24\t Total col cnt: 37\n",
      "\n",
      "Column types to convert:\n",
      "   str_cnt  num_cnt  date_cnt  na_cnt  count\n",
      "0    False     True     False    True      1\n",
      "1     True    False     False   False      2\n",
      "2     True     True     False   False     21\n",
      "\n",
      "Numeric types of columns:\n",
      "num_type\n",
      "float    22\n",
      "Name: count, dtype: int64\n",
      "\n",
      "Largest number of unique strings: 20079\n"
     ]
    },
    {
     "data": {
      "text/html": [
       "<div>\n",
       "<style scoped>\n",
       "    .dataframe tbody tr th:only-of-type {\n",
       "        vertical-align: middle;\n",
       "    }\n",
       "\n",
       "    .dataframe tbody tr th {\n",
       "        vertical-align: top;\n",
       "    }\n",
       "\n",
       "    .dataframe thead th {\n",
       "        text-align: right;\n",
       "    }\n",
       "</style>\n",
       "<table border=\"1\" class=\"dataframe\">\n",
       "  <thead>\n",
       "    <tr style=\"text-align: right;\">\n",
       "      <th></th>\n",
       "      <th>label</th>\n",
       "      <th>uniq_strs</th>\n",
       "      <th>str_list</th>\n",
       "      <th>missing_val_cnt</th>\n",
       "      <th>missing_val_list</th>\n",
       "      <th>numeric_str</th>\n",
       "      <th>num_type</th>\n",
       "      <th>uniq_num</th>\n",
       "      <th>max_num</th>\n",
       "      <th>min_num</th>\n",
       "      <th>str_cnt</th>\n",
       "      <th>num_cnt</th>\n",
       "      <th>date_cnt</th>\n",
       "      <th>na_cnt</th>\n",
       "    </tr>\n",
       "    <tr>\n",
       "      <th>col</th>\n",
       "      <th></th>\n",
       "      <th></th>\n",
       "      <th></th>\n",
       "      <th></th>\n",
       "      <th></th>\n",
       "      <th></th>\n",
       "      <th></th>\n",
       "      <th></th>\n",
       "      <th></th>\n",
       "      <th></th>\n",
       "      <th></th>\n",
       "      <th></th>\n",
       "      <th></th>\n",
       "      <th></th>\n",
       "    </tr>\n",
       "  </thead>\n",
       "  <tbody>\n",
       "    <tr>\n",
       "      <th>READPRJ</th>\n",
       "      <td>Project</td>\n",
       "      <td>1</td>\n",
       "      <td>{16}</td>\n",
       "      <td>0</td>\n",
       "      <td>{}</td>\n",
       "      <td>True</td>\n",
       "      <td>None</td>\n",
       "      <td>NaN</td>\n",
       "      <td>NaN</td>\n",
       "      <td>NaN</td>\n",
       "      <td>35392</td>\n",
       "      <td>0</td>\n",
       "      <td>0</td>\n",
       "      <td>0</td>\n",
       "    </tr>\n",
       "    <tr>\n",
       "      <th>CFWDTH</th>\n",
       "      <td>BL/FU kXR reading (JD): width of femoral condy...</td>\n",
       "      <td>0</td>\n",
       "      <td>{}</td>\n",
       "      <td>1</td>\n",
       "      <td>{P}</td>\n",
       "      <td>False</td>\n",
       "      <td>float</td>\n",
       "      <td>12550.0</td>\n",
       "      <td>116.733</td>\n",
       "      <td>57.552</td>\n",
       "      <td>399</td>\n",
       "      <td>34993</td>\n",
       "      <td>0</td>\n",
       "      <td>0</td>\n",
       "    </tr>\n",
       "    <tr>\n",
       "      <th>MCMJSW</th>\n",
       "      <td>BL: reading (JD): medial minimum JSW [mm]</td>\n",
       "      <td>0</td>\n",
       "      <td>{}</td>\n",
       "      <td>2</td>\n",
       "      <td>{P, T}</td>\n",
       "      <td>False</td>\n",
       "      <td>float</td>\n",
       "      <td>4114.0</td>\n",
       "      <td>10.296</td>\n",
       "      <td>0.000</td>\n",
       "      <td>592</td>\n",
       "      <td>34800</td>\n",
       "      <td>0</td>\n",
       "      <td>0</td>\n",
       "    </tr>\n",
       "    <tr>\n",
       "      <th>JSW175</th>\n",
       "      <td>BL/FU kXR reading (JD): medial JSW at x=0.175 ...</td>\n",
       "      <td>0</td>\n",
       "      <td>{}</td>\n",
       "      <td>2</td>\n",
       "      <td>{P, T}</td>\n",
       "      <td>False</td>\n",
       "      <td>float</td>\n",
       "      <td>861.0</td>\n",
       "      <td>10.900</td>\n",
       "      <td>0.000</td>\n",
       "      <td>775</td>\n",
       "      <td>34617</td>\n",
       "      <td>0</td>\n",
       "      <td>0</td>\n",
       "    </tr>\n",
       "    <tr>\n",
       "      <th>JSW200</th>\n",
       "      <td>BL/FU kXR reading (JD): medial JSW at x=0.200 ...</td>\n",
       "      <td>0</td>\n",
       "      <td>{}</td>\n",
       "      <td>2</td>\n",
       "      <td>{P, T}</td>\n",
       "      <td>False</td>\n",
       "      <td>float</td>\n",
       "      <td>871.0</td>\n",
       "      <td>11.310</td>\n",
       "      <td>0.000</td>\n",
       "      <td>657</td>\n",
       "      <td>34735</td>\n",
       "      <td>0</td>\n",
       "      <td>0</td>\n",
       "    </tr>\n",
       "    <tr>\n",
       "      <th>JSW250</th>\n",
       "      <td>BL/FU kXR reading (JD): medial JSW at x=0.250 ...</td>\n",
       "      <td>0</td>\n",
       "      <td>{}</td>\n",
       "      <td>2</td>\n",
       "      <td>{P, T}</td>\n",
       "      <td>False</td>\n",
       "      <td>float</td>\n",
       "      <td>906.0</td>\n",
       "      <td>11.710</td>\n",
       "      <td>0.000</td>\n",
       "      <td>574</td>\n",
       "      <td>34818</td>\n",
       "      <td>0</td>\n",
       "      <td>0</td>\n",
       "    </tr>\n",
       "    <tr>\n",
       "      <th>BARCDJD</th>\n",
       "      <td>BL/FU kXR reading (JD): barcode of image analy...</td>\n",
       "      <td>20079</td>\n",
       "      <td>{016600855104, 016602586401, 016603773601, 016...</td>\n",
       "      <td>0</td>\n",
       "      <td>{}</td>\n",
       "      <td>True</td>\n",
       "      <td>None</td>\n",
       "      <td>NaN</td>\n",
       "      <td>NaN</td>\n",
       "      <td>NaN</td>\n",
       "      <td>35392</td>\n",
       "      <td>0</td>\n",
       "      <td>0</td>\n",
       "      <td>0</td>\n",
       "    </tr>\n",
       "    <tr>\n",
       "      <th>JSW300</th>\n",
       "      <td>BL/FU kXR reading (JD): medial JSW at x=0.300 ...</td>\n",
       "      <td>0</td>\n",
       "      <td>{}</td>\n",
       "      <td>2</td>\n",
       "      <td>{P, T}</td>\n",
       "      <td>False</td>\n",
       "      <td>float</td>\n",
       "      <td>993.0</td>\n",
       "      <td>14.620</td>\n",
       "      <td>0.000</td>\n",
       "      <td>570</td>\n",
       "      <td>34822</td>\n",
       "      <td>0</td>\n",
       "      <td>0</td>\n",
       "    </tr>\n",
       "    <tr>\n",
       "      <th>JSW225</th>\n",
       "      <td>BL/FU kXR reading (JD): medial JSW at x=0.225 ...</td>\n",
       "      <td>0</td>\n",
       "      <td>{}</td>\n",
       "      <td>2</td>\n",
       "      <td>{P, T}</td>\n",
       "      <td>False</td>\n",
       "      <td>float</td>\n",
       "      <td>881.0</td>\n",
       "      <td>11.310</td>\n",
       "      <td>0.000</td>\n",
       "      <td>599</td>\n",
       "      <td>34793</td>\n",
       "      <td>0</td>\n",
       "      <td>0</td>\n",
       "    </tr>\n",
       "    <tr>\n",
       "      <th>TPCFDS</th>\n",
       "      <td>BL/FU kXR reading (JD): distance from tibial p...</td>\n",
       "      <td>0</td>\n",
       "      <td>{}</td>\n",
       "      <td>3</td>\n",
       "      <td>{A, P, T}</td>\n",
       "      <td>False</td>\n",
       "      <td>float</td>\n",
       "      <td>4345.0</td>\n",
       "      <td>20.648</td>\n",
       "      <td>0.000</td>\n",
       "      <td>864</td>\n",
       "      <td>34528</td>\n",
       "      <td>0</td>\n",
       "      <td>0</td>\n",
       "    </tr>\n",
       "    <tr>\n",
       "      <th>BMANG</th>\n",
       "      <td>BL/FU kXR reading (JD): x-ray beam angle from ...</td>\n",
       "      <td>0</td>\n",
       "      <td>{}</td>\n",
       "      <td>1</td>\n",
       "      <td>{T}</td>\n",
       "      <td>False</td>\n",
       "      <td>float</td>\n",
       "      <td>714.0</td>\n",
       "      <td>23.290</td>\n",
       "      <td>0.000</td>\n",
       "      <td>275</td>\n",
       "      <td>35117</td>\n",
       "      <td>0</td>\n",
       "      <td>0</td>\n",
       "    </tr>\n",
       "    <tr>\n",
       "      <th>JSW150</th>\n",
       "      <td>BL/FU kXR reading (JD): medial JSW at x=0.150 ...</td>\n",
       "      <td>0</td>\n",
       "      <td>{}</td>\n",
       "      <td>2</td>\n",
       "      <td>{P, T}</td>\n",
       "      <td>False</td>\n",
       "      <td>float</td>\n",
       "      <td>870.0</td>\n",
       "      <td>11.650</td>\n",
       "      <td>0.000</td>\n",
       "      <td>874</td>\n",
       "      <td>34518</td>\n",
       "      <td>0</td>\n",
       "      <td>0</td>\n",
       "    </tr>\n",
       "    <tr>\n",
       "      <th>JSW275</th>\n",
       "      <td>BL/FU kXR reading (JD): medial JSW at x=0.275 ...</td>\n",
       "      <td>0</td>\n",
       "      <td>{}</td>\n",
       "      <td>2</td>\n",
       "      <td>{P, T}</td>\n",
       "      <td>False</td>\n",
       "      <td>float</td>\n",
       "      <td>953.0</td>\n",
       "      <td>12.130</td>\n",
       "      <td>0.000</td>\n",
       "      <td>571</td>\n",
       "      <td>34821</td>\n",
       "      <td>0</td>\n",
       "      <td>0</td>\n",
       "    </tr>\n",
       "    <tr>\n",
       "      <th>LJSW850</th>\n",
       "      <td>BL/FU kXR reading (JD): lateral JSW at x=0.850...</td>\n",
       "      <td>0</td>\n",
       "      <td>{}</td>\n",
       "      <td>3</td>\n",
       "      <td>{A, P, T}</td>\n",
       "      <td>False</td>\n",
       "      <td>float</td>\n",
       "      <td>1009.0</td>\n",
       "      <td>13.570</td>\n",
       "      <td>0.000</td>\n",
       "      <td>2285</td>\n",
       "      <td>33107</td>\n",
       "      <td>0</td>\n",
       "      <td>0</td>\n",
       "    </tr>\n",
       "    <tr>\n",
       "      <th>LJSW900</th>\n",
       "      <td>BL/FU kXR reading (JD): lateral JSW at x=0.900...</td>\n",
       "      <td>0</td>\n",
       "      <td>{}</td>\n",
       "      <td>3</td>\n",
       "      <td>{A, P, T}</td>\n",
       "      <td>False</td>\n",
       "      <td>float</td>\n",
       "      <td>1041.0</td>\n",
       "      <td>16.210</td>\n",
       "      <td>0.000</td>\n",
       "      <td>3771</td>\n",
       "      <td>31621</td>\n",
       "      <td>0</td>\n",
       "      <td>0</td>\n",
       "    </tr>\n",
       "    <tr>\n",
       "      <th>LJSW700</th>\n",
       "      <td>BL/FU kXR reading (JD): lateral JSW at x=0.700...</td>\n",
       "      <td>0</td>\n",
       "      <td>{}</td>\n",
       "      <td>3</td>\n",
       "      <td>{A, P, T}</td>\n",
       "      <td>False</td>\n",
       "      <td>float</td>\n",
       "      <td>1103.0</td>\n",
       "      <td>14.170</td>\n",
       "      <td>-999.000</td>\n",
       "      <td>2010</td>\n",
       "      <td>33382</td>\n",
       "      <td>0</td>\n",
       "      <td>0</td>\n",
       "    </tr>\n",
       "    <tr>\n",
       "      <th>LJSW825</th>\n",
       "      <td>BL/FU kXR reading (JD): lateral JSW at x=0.825...</td>\n",
       "      <td>0</td>\n",
       "      <td>{}</td>\n",
       "      <td>3</td>\n",
       "      <td>{A, P, T}</td>\n",
       "      <td>False</td>\n",
       "      <td>float</td>\n",
       "      <td>1021.0</td>\n",
       "      <td>13.080</td>\n",
       "      <td>0.000</td>\n",
       "      <td>1660</td>\n",
       "      <td>33732</td>\n",
       "      <td>0</td>\n",
       "      <td>0</td>\n",
       "    </tr>\n",
       "    <tr>\n",
       "      <th>LJSW750</th>\n",
       "      <td>BL/FU kXR reading (JD): lateral JSW at x=0.750...</td>\n",
       "      <td>0</td>\n",
       "      <td>{}</td>\n",
       "      <td>3</td>\n",
       "      <td>{A, P, T}</td>\n",
       "      <td>False</td>\n",
       "      <td>float</td>\n",
       "      <td>1034.0</td>\n",
       "      <td>13.070</td>\n",
       "      <td>0.000</td>\n",
       "      <td>1373</td>\n",
       "      <td>34019</td>\n",
       "      <td>0</td>\n",
       "      <td>0</td>\n",
       "    </tr>\n",
       "    <tr>\n",
       "      <th>LJSW875</th>\n",
       "      <td>BL/FU kXR reading (JD): lateral JSW at x=0.875...</td>\n",
       "      <td>0</td>\n",
       "      <td>{}</td>\n",
       "      <td>3</td>\n",
       "      <td>{A, P, T}</td>\n",
       "      <td>False</td>\n",
       "      <td>float</td>\n",
       "      <td>1028.0</td>\n",
       "      <td>14.150</td>\n",
       "      <td>0.000</td>\n",
       "      <td>3164</td>\n",
       "      <td>32228</td>\n",
       "      <td>0</td>\n",
       "      <td>0</td>\n",
       "    </tr>\n",
       "    <tr>\n",
       "      <th>LJSW725</th>\n",
       "      <td>BL/FU kXR reading (JD): lateral JSW at x=0.725...</td>\n",
       "      <td>0</td>\n",
       "      <td>{}</td>\n",
       "      <td>3</td>\n",
       "      <td>{A, P, T}</td>\n",
       "      <td>False</td>\n",
       "      <td>float</td>\n",
       "      <td>1051.0</td>\n",
       "      <td>13.110</td>\n",
       "      <td>0.000</td>\n",
       "      <td>1760</td>\n",
       "      <td>33632</td>\n",
       "      <td>0</td>\n",
       "      <td>0</td>\n",
       "    </tr>\n",
       "    <tr>\n",
       "      <th>LJSW775</th>\n",
       "      <td>BL/FU kXR reading (JD): lateral JSW at x=0.775...</td>\n",
       "      <td>0</td>\n",
       "      <td>{}</td>\n",
       "      <td>3</td>\n",
       "      <td>{A, P, T}</td>\n",
       "      <td>False</td>\n",
       "      <td>float</td>\n",
       "      <td>1015.0</td>\n",
       "      <td>12.850</td>\n",
       "      <td>0.000</td>\n",
       "      <td>1243</td>\n",
       "      <td>34149</td>\n",
       "      <td>0</td>\n",
       "      <td>0</td>\n",
       "    </tr>\n",
       "    <tr>\n",
       "      <th>LJSW800</th>\n",
       "      <td>BL/FU kXR reading (JD): lateral JSW at x=0.800...</td>\n",
       "      <td>0</td>\n",
       "      <td>{}</td>\n",
       "      <td>3</td>\n",
       "      <td>{A, P, T}</td>\n",
       "      <td>False</td>\n",
       "      <td>float</td>\n",
       "      <td>1025.0</td>\n",
       "      <td>12.610</td>\n",
       "      <td>0.000</td>\n",
       "      <td>1354</td>\n",
       "      <td>34038</td>\n",
       "      <td>0</td>\n",
       "      <td>0</td>\n",
       "    </tr>\n",
       "    <tr>\n",
       "      <th>XMJSW</th>\n",
       "      <td>BL/FU kXR reading (JD): x coordinate of minimu...</td>\n",
       "      <td>0</td>\n",
       "      <td>{}</td>\n",
       "      <td>3</td>\n",
       "      <td>{A, P, T}</td>\n",
       "      <td>False</td>\n",
       "      <td>float</td>\n",
       "      <td>347.0</td>\n",
       "      <td>0.443</td>\n",
       "      <td>0.000</td>\n",
       "      <td>659</td>\n",
       "      <td>34733</td>\n",
       "      <td>0</td>\n",
       "      <td>0</td>\n",
       "    </tr>\n",
       "    <tr>\n",
       "      <th>IMPIXSZ</th>\n",
       "      <td>BL/FU kXR reading (JD): pixel size used for co...</td>\n",
       "      <td>0</td>\n",
       "      <td>None</td>\n",
       "      <td>0</td>\n",
       "      <td>None</td>\n",
       "      <td>None</td>\n",
       "      <td>float</td>\n",
       "      <td>173.0</td>\n",
       "      <td>0.200</td>\n",
       "      <td>0.100</td>\n",
       "      <td>0</td>\n",
       "      <td>35326</td>\n",
       "      <td>0</td>\n",
       "      <td>66</td>\n",
       "    </tr>\n",
       "  </tbody>\n",
       "</table>\n",
       "</div>"
      ],
      "text/plain": [
       "                                                     label  uniq_strs  \\\n",
       "col                                                                     \n",
       "READPRJ                                            Project          1   \n",
       "CFWDTH   BL/FU kXR reading (JD): width of femoral condy...          0   \n",
       "MCMJSW           BL: reading (JD): medial minimum JSW [mm]          0   \n",
       "JSW175   BL/FU kXR reading (JD): medial JSW at x=0.175 ...          0   \n",
       "JSW200   BL/FU kXR reading (JD): medial JSW at x=0.200 ...          0   \n",
       "JSW250   BL/FU kXR reading (JD): medial JSW at x=0.250 ...          0   \n",
       "BARCDJD  BL/FU kXR reading (JD): barcode of image analy...      20079   \n",
       "JSW300   BL/FU kXR reading (JD): medial JSW at x=0.300 ...          0   \n",
       "JSW225   BL/FU kXR reading (JD): medial JSW at x=0.225 ...          0   \n",
       "TPCFDS   BL/FU kXR reading (JD): distance from tibial p...          0   \n",
       "BMANG    BL/FU kXR reading (JD): x-ray beam angle from ...          0   \n",
       "JSW150   BL/FU kXR reading (JD): medial JSW at x=0.150 ...          0   \n",
       "JSW275   BL/FU kXR reading (JD): medial JSW at x=0.275 ...          0   \n",
       "LJSW850  BL/FU kXR reading (JD): lateral JSW at x=0.850...          0   \n",
       "LJSW900  BL/FU kXR reading (JD): lateral JSW at x=0.900...          0   \n",
       "LJSW700  BL/FU kXR reading (JD): lateral JSW at x=0.700...          0   \n",
       "LJSW825  BL/FU kXR reading (JD): lateral JSW at x=0.825...          0   \n",
       "LJSW750  BL/FU kXR reading (JD): lateral JSW at x=0.750...          0   \n",
       "LJSW875  BL/FU kXR reading (JD): lateral JSW at x=0.875...          0   \n",
       "LJSW725  BL/FU kXR reading (JD): lateral JSW at x=0.725...          0   \n",
       "LJSW775  BL/FU kXR reading (JD): lateral JSW at x=0.775...          0   \n",
       "LJSW800  BL/FU kXR reading (JD): lateral JSW at x=0.800...          0   \n",
       "XMJSW    BL/FU kXR reading (JD): x coordinate of minimu...          0   \n",
       "IMPIXSZ  BL/FU kXR reading (JD): pixel size used for co...          0   \n",
       "\n",
       "                                                  str_list  missing_val_cnt  \\\n",
       "col                                                                           \n",
       "READPRJ                                               {16}                0   \n",
       "CFWDTH                                                  {}                1   \n",
       "MCMJSW                                                  {}                2   \n",
       "JSW175                                                  {}                2   \n",
       "JSW200                                                  {}                2   \n",
       "JSW250                                                  {}                2   \n",
       "BARCDJD  {016600855104, 016602586401, 016603773601, 016...                0   \n",
       "JSW300                                                  {}                2   \n",
       "JSW225                                                  {}                2   \n",
       "TPCFDS                                                  {}                3   \n",
       "BMANG                                                   {}                1   \n",
       "JSW150                                                  {}                2   \n",
       "JSW275                                                  {}                2   \n",
       "LJSW850                                                 {}                3   \n",
       "LJSW900                                                 {}                3   \n",
       "LJSW700                                                 {}                3   \n",
       "LJSW825                                                 {}                3   \n",
       "LJSW750                                                 {}                3   \n",
       "LJSW875                                                 {}                3   \n",
       "LJSW725                                                 {}                3   \n",
       "LJSW775                                                 {}                3   \n",
       "LJSW800                                                 {}                3   \n",
       "XMJSW                                                   {}                3   \n",
       "IMPIXSZ                                               None                0   \n",
       "\n",
       "        missing_val_list numeric_str num_type  uniq_num  max_num  min_num  \\\n",
       "col                                                                         \n",
       "READPRJ               {}        True     None       NaN      NaN      NaN   \n",
       "CFWDTH               {P}       False    float   12550.0  116.733   57.552   \n",
       "MCMJSW            {P, T}       False    float    4114.0   10.296    0.000   \n",
       "JSW175            {P, T}       False    float     861.0   10.900    0.000   \n",
       "JSW200            {P, T}       False    float     871.0   11.310    0.000   \n",
       "JSW250            {P, T}       False    float     906.0   11.710    0.000   \n",
       "BARCDJD               {}        True     None       NaN      NaN      NaN   \n",
       "JSW300            {P, T}       False    float     993.0   14.620    0.000   \n",
       "JSW225            {P, T}       False    float     881.0   11.310    0.000   \n",
       "TPCFDS         {A, P, T}       False    float    4345.0   20.648    0.000   \n",
       "BMANG                {T}       False    float     714.0   23.290    0.000   \n",
       "JSW150            {P, T}       False    float     870.0   11.650    0.000   \n",
       "JSW275            {P, T}       False    float     953.0   12.130    0.000   \n",
       "LJSW850        {A, P, T}       False    float    1009.0   13.570    0.000   \n",
       "LJSW900        {A, P, T}       False    float    1041.0   16.210    0.000   \n",
       "LJSW700        {A, P, T}       False    float    1103.0   14.170 -999.000   \n",
       "LJSW825        {A, P, T}       False    float    1021.0   13.080    0.000   \n",
       "LJSW750        {A, P, T}       False    float    1034.0   13.070    0.000   \n",
       "LJSW875        {A, P, T}       False    float    1028.0   14.150    0.000   \n",
       "LJSW725        {A, P, T}       False    float    1051.0   13.110    0.000   \n",
       "LJSW775        {A, P, T}       False    float    1015.0   12.850    0.000   \n",
       "LJSW800        {A, P, T}       False    float    1025.0   12.610    0.000   \n",
       "XMJSW          {A, P, T}       False    float     347.0    0.443    0.000   \n",
       "IMPIXSZ             None        None    float     173.0    0.200    0.100   \n",
       "\n",
       "         str_cnt  num_cnt  date_cnt  na_cnt  \n",
       "col                                          \n",
       "READPRJ    35392        0         0       0  \n",
       "CFWDTH       399    34993         0       0  \n",
       "MCMJSW       592    34800         0       0  \n",
       "JSW175       775    34617         0       0  \n",
       "JSW200       657    34735         0       0  \n",
       "JSW250       574    34818         0       0  \n",
       "BARCDJD    35392        0         0       0  \n",
       "JSW300       570    34822         0       0  \n",
       "JSW225       599    34793         0       0  \n",
       "TPCFDS       864    34528         0       0  \n",
       "BMANG        275    35117         0       0  \n",
       "JSW150       874    34518         0       0  \n",
       "JSW275       571    34821         0       0  \n",
       "LJSW850     2285    33107         0       0  \n",
       "LJSW900     3771    31621         0       0  \n",
       "LJSW700     2010    33382         0       0  \n",
       "LJSW825     1660    33732         0       0  \n",
       "LJSW750     1373    34019         0       0  \n",
       "LJSW875     3164    32228         0       0  \n",
       "LJSW725     1760    33632         0       0  \n",
       "LJSW775     1243    34149         0       0  \n",
       "LJSW800     1354    34038         0       0  \n",
       "XMJSW        659    34733         0       0  \n",
       "IMPIXSZ        0    35326         0      66  "
      ]
     },
     "execution_count": 256,
     "metadata": {},
     "output_type": "execute_result"
    }
   ],
   "source": [
    "data_stats_summary(tmp_df, data_stats_df)\n",
    "data_stats_df"
   ]
  },
  {
   "cell_type": "code",
   "execution_count": 257,
   "id": "9027e522",
   "metadata": {
    "execution": {
     "iopub.execute_input": "2023-12-21T21:05:19.119277Z",
     "iopub.status.busy": "2023-12-21T21:05:19.118868Z",
     "iopub.status.idle": "2023-12-21T21:05:19.130622Z",
     "shell.execute_reply": "2023-12-21T21:05:19.129791Z",
     "shell.execute_reply.started": "2023-12-21T21:05:19.119248Z"
    },
    "pycharm": {
     "name": "#%%\n"
    },
    "tags": []
   },
   "outputs": [
    {
     "name": "stdout",
     "output_type": "stream",
     "text": [
      "targets = {\n",
      "# Columns with only floats, missing, and NA values\n",
      "'float': ['CFWDTH', 'MCMJSW', 'JSW175', 'JSW200', 'JSW250', 'JSW300', 'JSW225', 'TPCFDS', 'BMANG', 'JSW150', 'JSW275', 'LJSW850', 'LJSW900', 'LJSW700', 'LJSW825', 'LJSW750', 'LJSW875', 'LJSW725', 'LJSW775', 'LJSW800', 'XMJSW', 'IMPIXSZ'],\n",
      "\n",
      "# Columns with only strings, missing, and NA values\n",
      "'cat': ['READPRJ', 'BARCDJD'],\n",
      "\n",
      "}\n",
      "\n",
      "\n",
      "Handled columns: 24\n"
     ]
    }
   ],
   "source": [
    "suggest_conversions(data_stats_df)"
   ]
  },
  {
   "cell_type": "code",
   "execution_count": 258,
   "id": "aa4bb0d0",
   "metadata": {
    "execution": {
     "iopub.execute_input": "2023-12-21T21:05:19.132026Z",
     "iopub.status.busy": "2023-12-21T21:05:19.131761Z",
     "iopub.status.idle": "2023-12-21T21:05:20.043627Z",
     "shell.execute_reply": "2023-12-21T21:05:20.042741Z",
     "shell.execute_reply.started": "2023-12-21T21:05:19.131999Z"
    },
    "pycharm": {
     "name": "#%%\n"
    },
    "tags": []
   },
   "outputs": [],
   "source": [
    "targets = {\n",
    "# Columns with only floats, missing, and NA values\n",
    "'float': ['CFWDTH', 'MCMJSW', 'JSW175', 'JSW200', 'JSW250', 'JSW300', 'JSW225', 'TPCFDS', 'BMANG', 'JSW150', 'JSW275', 'LJSW850', 'LJSW900', 'LJSW700', 'LJSW825', 'LJSW750', 'LJSW875', 'LJSW725', 'LJSW775', 'LJSW800', 'XMJSW', 'IMPIXSZ'],\n",
    "\n",
    "# Columns with only strings, missing, and NA values\n",
    "'cat': ['BARCDJD'],\n",
    "\n",
    "}\n",
    "\n",
    "new_df, missing_df = convert_columns(targets, data_stats_df, tmp_df)"
   ]
  },
  {
   "cell_type": "code",
   "execution_count": 259,
   "id": "5de8ed9c-a141-4503-acfb-e23d390f7d2a",
   "metadata": {
    "execution": {
     "iopub.execute_input": "2023-12-21T21:05:20.045286Z",
     "iopub.status.busy": "2023-12-21T21:05:20.044941Z",
     "iopub.status.idle": "2023-12-21T21:05:20.055865Z",
     "shell.execute_reply": "2023-12-21T21:05:20.055227Z",
     "shell.execute_reply.started": "2023-12-21T21:05:20.045257Z"
    }
   },
   "outputs": [],
   "source": [
    "# Clean up the side var and make an index\n",
    "new_df['SIDE'] = new_df['SIDE'].cat.rename_categories({'1: Right': 'RIGHT', '2: Left': 'LEFT'})\n",
    "new_df.set_index('SIDE', append=True, inplace=True) #  Note that indices are unique yet, Prj 15 and Prj 37 contain repeats"
   ]
  },
  {
   "cell_type": "code",
   "execution_count": 260,
   "id": "283aefd8",
   "metadata": {
    "execution": {
     "iopub.execute_input": "2023-12-21T21:05:20.057387Z",
     "iopub.status.busy": "2023-12-21T21:05:20.056937Z",
     "iopub.status.idle": "2023-12-21T21:05:20.091550Z",
     "shell.execute_reply": "2023-12-21T21:05:20.090848Z",
     "shell.execute_reply.started": "2023-12-21T21:05:20.057356Z"
    },
    "pycharm": {
     "name": "#%%\n"
    },
    "tags": []
   },
   "outputs": [
    {
     "name": "stdout",
     "output_type": "stream",
     "text": [
      "Columns still object type:  ['READPRJ']\n",
      "\n",
      "VERSION    category\n",
      "READPRJ      object\n",
      "CFWDTH      float32\n",
      "MCMJSW      float32\n",
      "JSW175      float32\n",
      "JSW200      float32\n",
      "JSW250      float32\n",
      "BARCDJD    category\n",
      "JSW300      float32\n",
      "JSW225      float32\n",
      "TPCFDS      float32\n",
      "BMANG       float32\n",
      "JSW150      float32\n",
      "JSW275      float32\n",
      "LJSW850     float32\n",
      "LJSW900     float32\n",
      "LJSW700     float32\n",
      "LJSW825     float32\n",
      "LJSW750     float32\n",
      "LJSW875     float32\n",
      "LJSW725     float32\n",
      "LJSW775     float32\n",
      "LJSW800     float32\n",
      "XMJSW       float32\n",
      "INCPLL     category\n",
      "INCPLM     category\n",
      "NOMMJSW    category\n",
      "NOLJSWX    category\n",
      "MJSWBB     category\n",
      "INCSTPS    category\n",
      "LTPMEBE    category\n",
      "NOMJSWX    category\n",
      "NOLMIN     category\n",
      "IMPIXSZ     float32\n",
      "dtype: object\n",
      "\n",
      "Missing values present, shadow dataframe created.\n",
      "              CFWDTH MCMJSW JSW175 JSW200 JSW250 JSW300 JSW225 TPCFDS BMANG  \\\n",
      "ID      Visit                                                                 \n",
      "9000099 V00      NaN    NaN    NaN    NaN    NaN    NaN    NaN    NaN   NaN   \n",
      "        V00      NaN    NaN    NaN    NaN    NaN    NaN    NaN    NaN   NaN   \n",
      "9000296 V00      NaN    NaN    NaN    NaN    NaN    NaN    NaN    NaN   NaN   \n",
      "        V00      NaN    NaN    NaN    NaN    NaN    NaN    NaN    NaN   NaN   \n",
      "9000622 V00      NaN    NaN    NaN    NaN    NaN    NaN    NaN    NaN   NaN   \n",
      "...              ...    ...    ...    ...    ...    ...    ...    ...   ...   \n",
      "9999510 V10      NaN    NaN    NaN    NaN    NaN    NaN    NaN    NaN   NaN   \n",
      "9999862 V10      NaN    NaN    NaN    NaN    NaN    NaN    NaN    NaN   NaN   \n",
      "        V10      NaN    NaN    NaN    NaN    NaN    NaN    NaN    NaN   NaN   \n",
      "9999865 V10      NaN    NaN    NaN    NaN    NaN    NaN    NaN    NaN   NaN   \n",
      "9999878 V10      NaN    NaN    NaN    NaN    NaN    NaN    NaN    NaN   NaN   \n",
      "\n",
      "              JSW150  ... LJSW850                 LJSW900 LJSW700 LJSW825  \\\n",
      "ID      Visit         ...                                                   \n",
      "9000099 V00      NaN  ...     NaN                     NaN     NaN     NaN   \n",
      "        V00      NaN  ...     NaN                     NaN     NaN     NaN   \n",
      "9000296 V00      NaN  ...     NaN                     NaN     NaN     NaN   \n",
      "        V00      NaN  ...     NaN                     NaN     NaN     NaN   \n",
      "9000622 V00      NaN  ...     NaN                     NaN     NaN     NaN   \n",
      "...              ...  ...     ...                     ...     ...     ...   \n",
      "9999510 V10      NaN  ...     NaN  .T: Technical problems     NaN     NaN   \n",
      "9999862 V10      NaN  ...     NaN                     NaN     NaN     NaN   \n",
      "        V10      NaN  ...     NaN                     NaN     NaN     NaN   \n",
      "9999865 V10      NaN  ...     NaN                     NaN     NaN     NaN   \n",
      "9999878 V10      NaN  ...     NaN                     NaN     NaN     NaN   \n",
      "\n",
      "              LJSW750                 LJSW875 LJSW725 LJSW775 LJSW800 XMJSW  \n",
      "ID      Visit                                                                \n",
      "9000099 V00       NaN                     NaN     NaN     NaN     NaN   NaN  \n",
      "        V00       NaN                     NaN     NaN     NaN     NaN   NaN  \n",
      "9000296 V00       NaN                     NaN     NaN     NaN     NaN   NaN  \n",
      "        V00       NaN                     NaN     NaN     NaN     NaN   NaN  \n",
      "9000622 V00       NaN                     NaN     NaN     NaN     NaN   NaN  \n",
      "...               ...                     ...     ...     ...     ...   ...  \n",
      "9999510 V10       NaN  .T: Technical problems     NaN     NaN     NaN   NaN  \n",
      "9999862 V10       NaN                     NaN     NaN     NaN     NaN   NaN  \n",
      "        V10       NaN                     NaN     NaN     NaN     NaN   NaN  \n",
      "9999865 V10       NaN                     NaN     NaN     NaN     NaN   NaN  \n",
      "9999878 V10       NaN                     NaN     NaN     NaN     NaN   NaN  \n",
      "\n",
      "[35392 rows x 21 columns]\n"
     ]
    }
   ],
   "source": [
    "sanity_check(new_df)\n",
    "print()\n",
    "print(new_df.dtypes)\n",
    "if not missing_df.empty:\n",
    "    print('\\nMissing values present, shadow dataframe created.')\n",
    "    print(missing_df)"
   ]
  },
  {
   "cell_type": "code",
   "execution_count": 261,
   "id": "83a1f05f",
   "metadata": {
    "execution": {
     "iopub.execute_input": "2023-12-21T21:05:20.093321Z",
     "iopub.status.busy": "2023-12-21T21:05:20.092812Z",
     "iopub.status.idle": "2023-12-21T21:05:20.113667Z",
     "shell.execute_reply": "2023-12-21T21:05:20.112872Z",
     "shell.execute_reply.started": "2023-12-21T21:05:20.093294Z"
    },
    "pycharm": {
     "name": "#%%\n"
    },
    "tags": []
   },
   "outputs": [
    {
     "name": "stdout",
     "output_type": "stream",
     "text": [
      "\n",
      "Final dataframe size: 7.47MB\n",
      "Shadow dataframe size: 0.92MB\n"
     ]
    }
   ],
   "source": [
    "print('\\nFinal dataframe size: {:.2f}MB'.format(new_df.memory_usage(deep=True).sum() / (1024**2)))\n",
    "print('Shadow dataframe size: {:.2f}MB'.format(missing_df.memory_usage(deep=True).sum() / (1024**2)))"
   ]
  },
  {
   "cell_type": "code",
   "execution_count": 262,
   "id": "9ef171d6-d554-4488-b6f9-ddf006ea6fa2",
   "metadata": {
    "execution": {
     "iopub.execute_input": "2023-12-21T21:05:20.115013Z",
     "iopub.status.busy": "2023-12-21T21:05:20.114746Z",
     "iopub.status.idle": "2023-12-21T21:05:20.274910Z",
     "shell.execute_reply": "2023-12-21T21:05:20.274226Z",
     "shell.execute_reply.started": "2023-12-21T21:05:20.114989Z"
    }
   },
   "outputs": [],
   "source": [
    "utils.write_parquet(new_df, 'data/' + prefix + '_values.parquet')\n",
    "if not missing_df.empty:\n",
    "    utils.write_parquet(new_df, 'data/' + prefix + '_missing_values.parquet', verbose=False)"
   ]
  },
  {
   "cell_type": "markdown",
   "id": "29a94dc3",
   "metadata": {
    "tags": []
   },
   "source": [
    "## kxr_qjsw_rel_duryea"
   ]
  },
  {
   "cell_type": "code",
   "execution_count": 263,
   "id": "88bbddad",
   "metadata": {
    "execution": {
     "iopub.execute_input": "2023-12-21T21:05:20.276607Z",
     "iopub.status.busy": "2023-12-21T21:05:20.275906Z",
     "iopub.status.idle": "2023-12-21T21:05:25.201622Z",
     "shell.execute_reply": "2023-12-21T21:05:25.200757Z",
     "shell.execute_reply.started": "2023-12-21T21:05:20.276576Z"
    },
    "pycharm": {
     "name": "#%%\n"
    }
   },
   "outputs": [
    {
     "name": "stdout",
     "output_type": "stream",
     "text": [
      "\n",
      "kxr_qjsw_rel_duryea00.sas7bdat: (556, 36)\n",
      "['ID', 'SIDE', 'READPRJ', 'VERSION', 'CFWDTH', 'MCMJSW', 'JSW175', 'JSW200', 'JSW250', 'BARCDJD', 'JSW300', 'JSW225', 'TPCFDS', 'BMANG', 'JSW150', 'JSW275', 'LJSW850', 'LJSW900', 'LJSW700', 'LJSW825', 'LJSW750', 'LJSW875', 'LJSW725', 'LJSW775', 'LJSW800', 'XMJSW', 'INCPLL', 'INCPLM', 'NOMMJSW', 'NOLJSWX', 'MJSWBB', 'INCSTPS', 'LTPMEBE', 'NOMJSWX', 'NOLMIN', 'IMPIXSZ']\n",
      "\n",
      "kxr_qjsw_rel_duryea01.sas7bdat: (524, 36)\n",
      "\n",
      "kxr_qjsw_rel_duryea03.sas7bdat: (500, 36)\n",
      "\n",
      "kxr_qjsw_rel_duryea05.sas7bdat: (144, 36)\n",
      "\n",
      "Total rows: 1724\n"
     ]
    }
   ],
   "source": [
    "prefix = 'kxr_qjsw_rel_duryea'\n",
    "column_uniformity_check(prefix)"
   ]
  },
  {
   "cell_type": "code",
   "execution_count": 264,
   "id": "a9db7c8a",
   "metadata": {
    "execution": {
     "iopub.execute_input": "2023-12-21T21:05:25.203558Z",
     "iopub.status.busy": "2023-12-21T21:05:25.203234Z",
     "iopub.status.idle": "2023-12-21T21:05:29.888080Z",
     "shell.execute_reply": "2023-12-21T21:05:29.887278Z",
     "shell.execute_reply.started": "2023-12-21T21:05:25.203525Z"
    },
    "pycharm": {
     "name": "#%%\n"
    }
   },
   "outputs": [
    {
     "name": "stdout",
     "output_type": "stream",
     "text": [
      "kxr_qjsw_rel_duryea00.sas7bdat\tVar Cnt: 36\n",
      "Visits: ['V00']\n",
      "kxr_qjsw_rel_duryea01.sas7bdat\tVar Cnt: 36\n",
      "Visits: ['V01']\n",
      "kxr_qjsw_rel_duryea03.sas7bdat\tVar Cnt: 36\n",
      "Visits: ['V03']\n",
      "kxr_qjsw_rel_duryea05.sas7bdat\tVar Cnt: 36\n",
      "Visits: ['V05']\n",
      "(1724, 37)\n",
      "\n",
      "Starting dataframe size: 1.42MB\n"
     ]
    }
   ],
   "source": [
    "tmp_df = create_df(prefix)\n",
    "print(tmp_df.shape)\n",
    "print('\\nStarting dataframe size: {:.2f}MB'.format(tmp_df.memory_usage(deep=True).sum() / (1024**2)))"
   ]
  },
  {
   "cell_type": "code",
   "execution_count": 265,
   "id": "0cfca667",
   "metadata": {
    "execution": {
     "iopub.execute_input": "2023-12-21T21:05:29.890214Z",
     "iopub.status.busy": "2023-12-21T21:05:29.889650Z",
     "iopub.status.idle": "2023-12-21T21:05:29.991616Z",
     "shell.execute_reply": "2023-12-21T21:05:29.990673Z",
     "shell.execute_reply.started": "2023-12-21T21:05:29.890183Z"
    },
    "pycharm": {
     "name": "#%%\n"
    }
   },
   "outputs": [],
   "source": [
    "data_stats_df, done_df = gather_column_data_stats(tmp_df)"
   ]
  },
  {
   "cell_type": "code",
   "execution_count": 266,
   "id": "4b174009",
   "metadata": {
    "execution": {
     "iopub.execute_input": "2023-12-21T21:05:29.993175Z",
     "iopub.status.busy": "2023-12-21T21:05:29.992796Z",
     "iopub.status.idle": "2023-12-21T21:05:30.040957Z",
     "shell.execute_reply": "2023-12-21T21:05:30.040158Z",
     "shell.execute_reply.started": "2023-12-21T21:05:29.993146Z"
    },
    "pycharm": {
     "name": "#%%\n"
    }
   },
   "outputs": [
    {
     "name": "stdout",
     "output_type": "stream",
     "text": [
      "Already defined cols: 13 \tCols to convert: 24\t Total col cnt: 37\n",
      "\n",
      "Column types to convert:\n",
      "   str_cnt  num_cnt  date_cnt  na_cnt  count\n",
      "0    False     True     False    True      1\n",
      "1     True    False     False   False      2\n",
      "2     True     True     False   False     21\n",
      "\n",
      "Numeric types of columns:\n",
      "num_type\n",
      "float    22\n",
      "Name: count, dtype: int64\n",
      "\n",
      "Largest number of unique strings: 423\n"
     ]
    },
    {
     "data": {
      "text/html": [
       "<div>\n",
       "<style scoped>\n",
       "    .dataframe tbody tr th:only-of-type {\n",
       "        vertical-align: middle;\n",
       "    }\n",
       "\n",
       "    .dataframe tbody tr th {\n",
       "        vertical-align: top;\n",
       "    }\n",
       "\n",
       "    .dataframe thead th {\n",
       "        text-align: right;\n",
       "    }\n",
       "</style>\n",
       "<table border=\"1\" class=\"dataframe\">\n",
       "  <thead>\n",
       "    <tr style=\"text-align: right;\">\n",
       "      <th></th>\n",
       "      <th>label</th>\n",
       "      <th>uniq_strs</th>\n",
       "      <th>str_list</th>\n",
       "      <th>missing_val_cnt</th>\n",
       "      <th>missing_val_list</th>\n",
       "      <th>numeric_str</th>\n",
       "      <th>num_type</th>\n",
       "      <th>uniq_num</th>\n",
       "      <th>max_num</th>\n",
       "      <th>min_num</th>\n",
       "      <th>str_cnt</th>\n",
       "      <th>num_cnt</th>\n",
       "      <th>date_cnt</th>\n",
       "      <th>na_cnt</th>\n",
       "    </tr>\n",
       "    <tr>\n",
       "      <th>col</th>\n",
       "      <th></th>\n",
       "      <th></th>\n",
       "      <th></th>\n",
       "      <th></th>\n",
       "      <th></th>\n",
       "      <th></th>\n",
       "      <th></th>\n",
       "      <th></th>\n",
       "      <th></th>\n",
       "      <th></th>\n",
       "      <th></th>\n",
       "      <th></th>\n",
       "      <th></th>\n",
       "      <th></th>\n",
       "    </tr>\n",
       "  </thead>\n",
       "  <tbody>\n",
       "    <tr>\n",
       "      <th>READPRJ</th>\n",
       "      <td>Project</td>\n",
       "      <td>4</td>\n",
       "      <td>{20D, 20C, 20B, 20A}</td>\n",
       "      <td>0</td>\n",
       "      <td>{}</td>\n",
       "      <td>False</td>\n",
       "      <td>None</td>\n",
       "      <td>NaN</td>\n",
       "      <td>NaN</td>\n",
       "      <td>NaN</td>\n",
       "      <td>1724</td>\n",
       "      <td>0</td>\n",
       "      <td>0</td>\n",
       "      <td>0</td>\n",
       "    </tr>\n",
       "    <tr>\n",
       "      <th>CFWDTH</th>\n",
       "      <td>BL/FU kXR reading (JD): width of femoral condy...</td>\n",
       "      <td>0</td>\n",
       "      <td>{}</td>\n",
       "      <td>1</td>\n",
       "      <td>{P}</td>\n",
       "      <td>False</td>\n",
       "      <td>float</td>\n",
       "      <td>875.0</td>\n",
       "      <td>109.830</td>\n",
       "      <td>71.205</td>\n",
       "      <td>15</td>\n",
       "      <td>969</td>\n",
       "      <td>0</td>\n",
       "      <td>0</td>\n",
       "    </tr>\n",
       "    <tr>\n",
       "      <th>MCMJSW</th>\n",
       "      <td>BL: reading (JD): medial minimum JSW [mm]</td>\n",
       "      <td>0</td>\n",
       "      <td>{}</td>\n",
       "      <td>2</td>\n",
       "      <td>{P, T}</td>\n",
       "      <td>False</td>\n",
       "      <td>float</td>\n",
       "      <td>679.0</td>\n",
       "      <td>8.200</td>\n",
       "      <td>0.000</td>\n",
       "      <td>28</td>\n",
       "      <td>1512</td>\n",
       "      <td>0</td>\n",
       "      <td>0</td>\n",
       "    </tr>\n",
       "    <tr>\n",
       "      <th>JSW175</th>\n",
       "      <td>BL/FU kXR reading (JD): medial JSW at x=0.175 ...</td>\n",
       "      <td>0</td>\n",
       "      <td>{}</td>\n",
       "      <td>2</td>\n",
       "      <td>{P, T}</td>\n",
       "      <td>False</td>\n",
       "      <td>float</td>\n",
       "      <td>551.0</td>\n",
       "      <td>8.670</td>\n",
       "      <td>0.000</td>\n",
       "      <td>39</td>\n",
       "      <td>1501</td>\n",
       "      <td>0</td>\n",
       "      <td>0</td>\n",
       "    </tr>\n",
       "    <tr>\n",
       "      <th>JSW200</th>\n",
       "      <td>BL/FU kXR reading (JD): medial JSW at x=0.200 ...</td>\n",
       "      <td>0</td>\n",
       "      <td>{}</td>\n",
       "      <td>2</td>\n",
       "      <td>{P, T}</td>\n",
       "      <td>False</td>\n",
       "      <td>float</td>\n",
       "      <td>544.0</td>\n",
       "      <td>8.570</td>\n",
       "      <td>0.000</td>\n",
       "      <td>33</td>\n",
       "      <td>1507</td>\n",
       "      <td>0</td>\n",
       "      <td>0</td>\n",
       "    </tr>\n",
       "    <tr>\n",
       "      <th>JSW250</th>\n",
       "      <td>BL/FU kXR reading (JD): medial JSW at x=0.250 ...</td>\n",
       "      <td>0</td>\n",
       "      <td>{}</td>\n",
       "      <td>2</td>\n",
       "      <td>{P, T}</td>\n",
       "      <td>False</td>\n",
       "      <td>float</td>\n",
       "      <td>558.0</td>\n",
       "      <td>9.400</td>\n",
       "      <td>0.000</td>\n",
       "      <td>34</td>\n",
       "      <td>1506</td>\n",
       "      <td>0</td>\n",
       "      <td>0</td>\n",
       "    </tr>\n",
       "    <tr>\n",
       "      <th>BARCDJD</th>\n",
       "      <td>BL/FU kXR reading (JD): barcode of image analy...</td>\n",
       "      <td>423</td>\n",
       "      <td>{, 016600962006, 016600065404, 016602164601, 0...</td>\n",
       "      <td>0</td>\n",
       "      <td>{}</td>\n",
       "      <td>False</td>\n",
       "      <td>None</td>\n",
       "      <td>NaN</td>\n",
       "      <td>NaN</td>\n",
       "      <td>NaN</td>\n",
       "      <td>1724</td>\n",
       "      <td>0</td>\n",
       "      <td>0</td>\n",
       "      <td>0</td>\n",
       "    </tr>\n",
       "    <tr>\n",
       "      <th>JSW300</th>\n",
       "      <td>BL/FU kXR reading (JD): medial JSW at x=0.300 ...</td>\n",
       "      <td>0</td>\n",
       "      <td>{}</td>\n",
       "      <td>2</td>\n",
       "      <td>{P, T}</td>\n",
       "      <td>False</td>\n",
       "      <td>float</td>\n",
       "      <td>582.0</td>\n",
       "      <td>11.010</td>\n",
       "      <td>0.000</td>\n",
       "      <td>34</td>\n",
       "      <td>1506</td>\n",
       "      <td>0</td>\n",
       "      <td>0</td>\n",
       "    </tr>\n",
       "    <tr>\n",
       "      <th>JSW225</th>\n",
       "      <td>BL/FU kXR reading (JD): medial JSW at x=0.225 ...</td>\n",
       "      <td>0</td>\n",
       "      <td>{}</td>\n",
       "      <td>2</td>\n",
       "      <td>{P, T}</td>\n",
       "      <td>False</td>\n",
       "      <td>float</td>\n",
       "      <td>539.0</td>\n",
       "      <td>8.770</td>\n",
       "      <td>0.000</td>\n",
       "      <td>33</td>\n",
       "      <td>1507</td>\n",
       "      <td>0</td>\n",
       "      <td>0</td>\n",
       "    </tr>\n",
       "    <tr>\n",
       "      <th>TPCFDS</th>\n",
       "      <td>BL/FU kXR reading (JD): distance from tibial p...</td>\n",
       "      <td>0</td>\n",
       "      <td>{}</td>\n",
       "      <td>2</td>\n",
       "      <td>{P, T}</td>\n",
       "      <td>False</td>\n",
       "      <td>float</td>\n",
       "      <td>429.0</td>\n",
       "      <td>10.947</td>\n",
       "      <td>0.421</td>\n",
       "      <td>25</td>\n",
       "      <td>587</td>\n",
       "      <td>0</td>\n",
       "      <td>0</td>\n",
       "    </tr>\n",
       "    <tr>\n",
       "      <th>BMANG</th>\n",
       "      <td>BL/FU kXR reading (JD): x-ray beam angle from ...</td>\n",
       "      <td>0</td>\n",
       "      <td>{}</td>\n",
       "      <td>2</td>\n",
       "      <td>{P, T}</td>\n",
       "      <td>False</td>\n",
       "      <td>float</td>\n",
       "      <td>181.0</td>\n",
       "      <td>18.200</td>\n",
       "      <td>-0.200</td>\n",
       "      <td>23</td>\n",
       "      <td>961</td>\n",
       "      <td>0</td>\n",
       "      <td>0</td>\n",
       "    </tr>\n",
       "    <tr>\n",
       "      <th>JSW150</th>\n",
       "      <td>BL/FU kXR reading (JD): medial JSW at x=0.150 ...</td>\n",
       "      <td>0</td>\n",
       "      <td>{}</td>\n",
       "      <td>2</td>\n",
       "      <td>{P, T}</td>\n",
       "      <td>False</td>\n",
       "      <td>float</td>\n",
       "      <td>562.0</td>\n",
       "      <td>9.040</td>\n",
       "      <td>0.000</td>\n",
       "      <td>43</td>\n",
       "      <td>1497</td>\n",
       "      <td>0</td>\n",
       "      <td>0</td>\n",
       "    </tr>\n",
       "    <tr>\n",
       "      <th>JSW275</th>\n",
       "      <td>BL/FU kXR reading (JD): medial JSW at x=0.275 ...</td>\n",
       "      <td>0</td>\n",
       "      <td>{}</td>\n",
       "      <td>2</td>\n",
       "      <td>{P, T}</td>\n",
       "      <td>False</td>\n",
       "      <td>float</td>\n",
       "      <td>560.0</td>\n",
       "      <td>10.310</td>\n",
       "      <td>0.000</td>\n",
       "      <td>33</td>\n",
       "      <td>1507</td>\n",
       "      <td>0</td>\n",
       "      <td>0</td>\n",
       "    </tr>\n",
       "    <tr>\n",
       "      <th>LJSW850</th>\n",
       "      <td>BL/FU kXR reading (JD): lateral JSW at x=0.850...</td>\n",
       "      <td>0</td>\n",
       "      <td>{}</td>\n",
       "      <td>2</td>\n",
       "      <td>{P, T}</td>\n",
       "      <td>False</td>\n",
       "      <td>float</td>\n",
       "      <td>260.0</td>\n",
       "      <td>9.350</td>\n",
       "      <td>0.000</td>\n",
       "      <td>56</td>\n",
       "      <td>556</td>\n",
       "      <td>0</td>\n",
       "      <td>0</td>\n",
       "    </tr>\n",
       "    <tr>\n",
       "      <th>LJSW900</th>\n",
       "      <td>BL/FU kXR reading (JD): lateral JSW at x=0.900...</td>\n",
       "      <td>0</td>\n",
       "      <td>{}</td>\n",
       "      <td>2</td>\n",
       "      <td>{P, T}</td>\n",
       "      <td>False</td>\n",
       "      <td>float</td>\n",
       "      <td>270.0</td>\n",
       "      <td>10.470</td>\n",
       "      <td>0.000</td>\n",
       "      <td>87</td>\n",
       "      <td>525</td>\n",
       "      <td>0</td>\n",
       "      <td>0</td>\n",
       "    </tr>\n",
       "    <tr>\n",
       "      <th>LJSW700</th>\n",
       "      <td>BL/FU kXR reading (JD): lateral JSW at x=0.700...</td>\n",
       "      <td>0</td>\n",
       "      <td>{}</td>\n",
       "      <td>2</td>\n",
       "      <td>{P, T}</td>\n",
       "      <td>False</td>\n",
       "      <td>float</td>\n",
       "      <td>289.0</td>\n",
       "      <td>11.600</td>\n",
       "      <td>0.000</td>\n",
       "      <td>35</td>\n",
       "      <td>577</td>\n",
       "      <td>0</td>\n",
       "      <td>0</td>\n",
       "    </tr>\n",
       "    <tr>\n",
       "      <th>LJSW825</th>\n",
       "      <td>BL/FU kXR reading (JD): lateral JSW at x=0.825...</td>\n",
       "      <td>0</td>\n",
       "      <td>{}</td>\n",
       "      <td>2</td>\n",
       "      <td>{P, T}</td>\n",
       "      <td>False</td>\n",
       "      <td>float</td>\n",
       "      <td>264.0</td>\n",
       "      <td>9.540</td>\n",
       "      <td>0.000</td>\n",
       "      <td>41</td>\n",
       "      <td>571</td>\n",
       "      <td>0</td>\n",
       "      <td>0</td>\n",
       "    </tr>\n",
       "    <tr>\n",
       "      <th>LJSW750</th>\n",
       "      <td>BL/FU kXR reading (JD): lateral JSW at x=0.750...</td>\n",
       "      <td>0</td>\n",
       "      <td>{}</td>\n",
       "      <td>2</td>\n",
       "      <td>{P, T}</td>\n",
       "      <td>False</td>\n",
       "      <td>float</td>\n",
       "      <td>269.0</td>\n",
       "      <td>10.200</td>\n",
       "      <td>0.000</td>\n",
       "      <td>30</td>\n",
       "      <td>582</td>\n",
       "      <td>0</td>\n",
       "      <td>0</td>\n",
       "    </tr>\n",
       "    <tr>\n",
       "      <th>LJSW875</th>\n",
       "      <td>BL/FU kXR reading (JD): lateral JSW at x=0.875...</td>\n",
       "      <td>0</td>\n",
       "      <td>{}</td>\n",
       "      <td>2</td>\n",
       "      <td>{P, T}</td>\n",
       "      <td>False</td>\n",
       "      <td>float</td>\n",
       "      <td>269.0</td>\n",
       "      <td>9.900</td>\n",
       "      <td>0.000</td>\n",
       "      <td>74</td>\n",
       "      <td>538</td>\n",
       "      <td>0</td>\n",
       "      <td>0</td>\n",
       "    </tr>\n",
       "    <tr>\n",
       "      <th>LJSW725</th>\n",
       "      <td>BL/FU kXR reading (JD): lateral JSW at x=0.725...</td>\n",
       "      <td>0</td>\n",
       "      <td>{}</td>\n",
       "      <td>2</td>\n",
       "      <td>{P, T}</td>\n",
       "      <td>False</td>\n",
       "      <td>float</td>\n",
       "      <td>293.0</td>\n",
       "      <td>10.310</td>\n",
       "      <td>0.000</td>\n",
       "      <td>32</td>\n",
       "      <td>580</td>\n",
       "      <td>0</td>\n",
       "      <td>0</td>\n",
       "    </tr>\n",
       "    <tr>\n",
       "      <th>LJSW775</th>\n",
       "      <td>BL/FU kXR reading (JD): lateral JSW at x=0.775...</td>\n",
       "      <td>0</td>\n",
       "      <td>{}</td>\n",
       "      <td>2</td>\n",
       "      <td>{P, T}</td>\n",
       "      <td>False</td>\n",
       "      <td>float</td>\n",
       "      <td>286.0</td>\n",
       "      <td>10.110</td>\n",
       "      <td>0.000</td>\n",
       "      <td>31</td>\n",
       "      <td>581</td>\n",
       "      <td>0</td>\n",
       "      <td>0</td>\n",
       "    </tr>\n",
       "    <tr>\n",
       "      <th>LJSW800</th>\n",
       "      <td>BL/FU kXR reading (JD): lateral JSW at x=0.800...</td>\n",
       "      <td>0</td>\n",
       "      <td>{}</td>\n",
       "      <td>2</td>\n",
       "      <td>{P, T}</td>\n",
       "      <td>False</td>\n",
       "      <td>float</td>\n",
       "      <td>276.0</td>\n",
       "      <td>9.830</td>\n",
       "      <td>0.000</td>\n",
       "      <td>37</td>\n",
       "      <td>575</td>\n",
       "      <td>0</td>\n",
       "      <td>0</td>\n",
       "    </tr>\n",
       "    <tr>\n",
       "      <th>XMJSW</th>\n",
       "      <td>BL/FU kXR reading (JD): x coordinate of minimu...</td>\n",
       "      <td>0</td>\n",
       "      <td>{}</td>\n",
       "      <td>2</td>\n",
       "      <td>{P, T}</td>\n",
       "      <td>False</td>\n",
       "      <td>float</td>\n",
       "      <td>203.0</td>\n",
       "      <td>0.341</td>\n",
       "      <td>0.027</td>\n",
       "      <td>15</td>\n",
       "      <td>597</td>\n",
       "      <td>0</td>\n",
       "      <td>0</td>\n",
       "    </tr>\n",
       "    <tr>\n",
       "      <th>IMPIXSZ</th>\n",
       "      <td>BL/FU kXR reading (JD): pixel size used for co...</td>\n",
       "      <td>0</td>\n",
       "      <td>None</td>\n",
       "      <td>0</td>\n",
       "      <td>None</td>\n",
       "      <td>None</td>\n",
       "      <td>float</td>\n",
       "      <td>10.0</td>\n",
       "      <td>0.200</td>\n",
       "      <td>0.100</td>\n",
       "      <td>0</td>\n",
       "      <td>612</td>\n",
       "      <td>0</td>\n",
       "      <td>1112</td>\n",
       "    </tr>\n",
       "  </tbody>\n",
       "</table>\n",
       "</div>"
      ],
      "text/plain": [
       "                                                     label  uniq_strs  \\\n",
       "col                                                                     \n",
       "READPRJ                                            Project          4   \n",
       "CFWDTH   BL/FU kXR reading (JD): width of femoral condy...          0   \n",
       "MCMJSW           BL: reading (JD): medial minimum JSW [mm]          0   \n",
       "JSW175   BL/FU kXR reading (JD): medial JSW at x=0.175 ...          0   \n",
       "JSW200   BL/FU kXR reading (JD): medial JSW at x=0.200 ...          0   \n",
       "JSW250   BL/FU kXR reading (JD): medial JSW at x=0.250 ...          0   \n",
       "BARCDJD  BL/FU kXR reading (JD): barcode of image analy...        423   \n",
       "JSW300   BL/FU kXR reading (JD): medial JSW at x=0.300 ...          0   \n",
       "JSW225   BL/FU kXR reading (JD): medial JSW at x=0.225 ...          0   \n",
       "TPCFDS   BL/FU kXR reading (JD): distance from tibial p...          0   \n",
       "BMANG    BL/FU kXR reading (JD): x-ray beam angle from ...          0   \n",
       "JSW150   BL/FU kXR reading (JD): medial JSW at x=0.150 ...          0   \n",
       "JSW275   BL/FU kXR reading (JD): medial JSW at x=0.275 ...          0   \n",
       "LJSW850  BL/FU kXR reading (JD): lateral JSW at x=0.850...          0   \n",
       "LJSW900  BL/FU kXR reading (JD): lateral JSW at x=0.900...          0   \n",
       "LJSW700  BL/FU kXR reading (JD): lateral JSW at x=0.700...          0   \n",
       "LJSW825  BL/FU kXR reading (JD): lateral JSW at x=0.825...          0   \n",
       "LJSW750  BL/FU kXR reading (JD): lateral JSW at x=0.750...          0   \n",
       "LJSW875  BL/FU kXR reading (JD): lateral JSW at x=0.875...          0   \n",
       "LJSW725  BL/FU kXR reading (JD): lateral JSW at x=0.725...          0   \n",
       "LJSW775  BL/FU kXR reading (JD): lateral JSW at x=0.775...          0   \n",
       "LJSW800  BL/FU kXR reading (JD): lateral JSW at x=0.800...          0   \n",
       "XMJSW    BL/FU kXR reading (JD): x coordinate of minimu...          0   \n",
       "IMPIXSZ  BL/FU kXR reading (JD): pixel size used for co...          0   \n",
       "\n",
       "                                                  str_list  missing_val_cnt  \\\n",
       "col                                                                           \n",
       "READPRJ                               {20D, 20C, 20B, 20A}                0   \n",
       "CFWDTH                                                  {}                1   \n",
       "MCMJSW                                                  {}                2   \n",
       "JSW175                                                  {}                2   \n",
       "JSW200                                                  {}                2   \n",
       "JSW250                                                  {}                2   \n",
       "BARCDJD  {, 016600962006, 016600065404, 016602164601, 0...                0   \n",
       "JSW300                                                  {}                2   \n",
       "JSW225                                                  {}                2   \n",
       "TPCFDS                                                  {}                2   \n",
       "BMANG                                                   {}                2   \n",
       "JSW150                                                  {}                2   \n",
       "JSW275                                                  {}                2   \n",
       "LJSW850                                                 {}                2   \n",
       "LJSW900                                                 {}                2   \n",
       "LJSW700                                                 {}                2   \n",
       "LJSW825                                                 {}                2   \n",
       "LJSW750                                                 {}                2   \n",
       "LJSW875                                                 {}                2   \n",
       "LJSW725                                                 {}                2   \n",
       "LJSW775                                                 {}                2   \n",
       "LJSW800                                                 {}                2   \n",
       "XMJSW                                                   {}                2   \n",
       "IMPIXSZ                                               None                0   \n",
       "\n",
       "        missing_val_list numeric_str num_type  uniq_num  max_num  min_num  \\\n",
       "col                                                                         \n",
       "READPRJ               {}       False     None       NaN      NaN      NaN   \n",
       "CFWDTH               {P}       False    float     875.0  109.830   71.205   \n",
       "MCMJSW            {P, T}       False    float     679.0    8.200    0.000   \n",
       "JSW175            {P, T}       False    float     551.0    8.670    0.000   \n",
       "JSW200            {P, T}       False    float     544.0    8.570    0.000   \n",
       "JSW250            {P, T}       False    float     558.0    9.400    0.000   \n",
       "BARCDJD               {}       False     None       NaN      NaN      NaN   \n",
       "JSW300            {P, T}       False    float     582.0   11.010    0.000   \n",
       "JSW225            {P, T}       False    float     539.0    8.770    0.000   \n",
       "TPCFDS            {P, T}       False    float     429.0   10.947    0.421   \n",
       "BMANG             {P, T}       False    float     181.0   18.200   -0.200   \n",
       "JSW150            {P, T}       False    float     562.0    9.040    0.000   \n",
       "JSW275            {P, T}       False    float     560.0   10.310    0.000   \n",
       "LJSW850           {P, T}       False    float     260.0    9.350    0.000   \n",
       "LJSW900           {P, T}       False    float     270.0   10.470    0.000   \n",
       "LJSW700           {P, T}       False    float     289.0   11.600    0.000   \n",
       "LJSW825           {P, T}       False    float     264.0    9.540    0.000   \n",
       "LJSW750           {P, T}       False    float     269.0   10.200    0.000   \n",
       "LJSW875           {P, T}       False    float     269.0    9.900    0.000   \n",
       "LJSW725           {P, T}       False    float     293.0   10.310    0.000   \n",
       "LJSW775           {P, T}       False    float     286.0   10.110    0.000   \n",
       "LJSW800           {P, T}       False    float     276.0    9.830    0.000   \n",
       "XMJSW             {P, T}       False    float     203.0    0.341    0.027   \n",
       "IMPIXSZ             None        None    float      10.0    0.200    0.100   \n",
       "\n",
       "         str_cnt  num_cnt  date_cnt  na_cnt  \n",
       "col                                          \n",
       "READPRJ     1724        0         0       0  \n",
       "CFWDTH        15      969         0       0  \n",
       "MCMJSW        28     1512         0       0  \n",
       "JSW175        39     1501         0       0  \n",
       "JSW200        33     1507         0       0  \n",
       "JSW250        34     1506         0       0  \n",
       "BARCDJD     1724        0         0       0  \n",
       "JSW300        34     1506         0       0  \n",
       "JSW225        33     1507         0       0  \n",
       "TPCFDS        25      587         0       0  \n",
       "BMANG         23      961         0       0  \n",
       "JSW150        43     1497         0       0  \n",
       "JSW275        33     1507         0       0  \n",
       "LJSW850       56      556         0       0  \n",
       "LJSW900       87      525         0       0  \n",
       "LJSW700       35      577         0       0  \n",
       "LJSW825       41      571         0       0  \n",
       "LJSW750       30      582         0       0  \n",
       "LJSW875       74      538         0       0  \n",
       "LJSW725       32      580         0       0  \n",
       "LJSW775       31      581         0       0  \n",
       "LJSW800       37      575         0       0  \n",
       "XMJSW         15      597         0       0  \n",
       "IMPIXSZ        0      612         0    1112  "
      ]
     },
     "execution_count": 266,
     "metadata": {},
     "output_type": "execute_result"
    }
   ],
   "source": [
    "data_stats_summary(tmp_df, data_stats_df)\n",
    "data_stats_df"
   ]
  },
  {
   "cell_type": "code",
   "execution_count": 267,
   "id": "49992516",
   "metadata": {
    "execution": {
     "iopub.execute_input": "2023-12-21T21:05:30.042638Z",
     "iopub.status.busy": "2023-12-21T21:05:30.042103Z",
     "iopub.status.idle": "2023-12-21T21:05:30.053842Z",
     "shell.execute_reply": "2023-12-21T21:05:30.053154Z",
     "shell.execute_reply.started": "2023-12-21T21:05:30.042611Z"
    },
    "pycharm": {
     "name": "#%%\n"
    }
   },
   "outputs": [
    {
     "name": "stdout",
     "output_type": "stream",
     "text": [
      "targets = {\n",
      "# Columns with only floats, missing, and NA values\n",
      "'float': ['CFWDTH', 'MCMJSW', 'JSW175', 'JSW200', 'JSW250', 'JSW300', 'JSW225', 'TPCFDS', 'BMANG', 'JSW150', 'JSW275', 'LJSW850', 'LJSW900', 'LJSW700', 'LJSW825', 'LJSW750', 'LJSW875', 'LJSW725', 'LJSW775', 'LJSW800', 'XMJSW', 'IMPIXSZ'],\n",
      "\n",
      "# Columns with only strings, missing, and NA values\n",
      "'cat': ['READPRJ', 'BARCDJD'],\n",
      "\n",
      "}\n",
      "\n",
      "\n",
      "Handled columns: 24\n"
     ]
    }
   ],
   "source": [
    "suggest_conversions(data_stats_df)"
   ]
  },
  {
   "cell_type": "code",
   "execution_count": 268,
   "id": "0006c8ec",
   "metadata": {
    "execution": {
     "iopub.execute_input": "2023-12-21T21:05:30.055295Z",
     "iopub.status.busy": "2023-12-21T21:05:30.054886Z",
     "iopub.status.idle": "2023-12-21T21:05:30.151550Z",
     "shell.execute_reply": "2023-12-21T21:05:30.150680Z",
     "shell.execute_reply.started": "2023-12-21T21:05:30.055270Z"
    },
    "pycharm": {
     "name": "#%%\n"
    }
   },
   "outputs": [],
   "source": [
    "targets = {\n",
    "# Columns with only floats, missing, and NA values\n",
    "'float': ['CFWDTH', 'MCMJSW', 'JSW175', 'JSW200', 'JSW250', 'JSW300', 'JSW225', 'TPCFDS', 'BMANG', 'JSW150', 'JSW275', 'LJSW850', 'LJSW900', 'LJSW700', 'LJSW825', 'LJSW750', 'LJSW875', 'LJSW725', 'LJSW775', 'LJSW800', 'XMJSW', 'IMPIXSZ'],\n",
    "\n",
    "# Columns with only strings, missing, and NA values\n",
    "'cat': ['BARCDJD'],\n",
    "\n",
    "}\n",
    "\n",
    "new_df, missing_df = convert_columns(targets, data_stats_df, tmp_df)"
   ]
  },
  {
   "cell_type": "code",
   "execution_count": 269,
   "id": "796f872d",
   "metadata": {
    "execution": {
     "iopub.execute_input": "2023-12-21T21:05:30.153092Z",
     "iopub.status.busy": "2023-12-21T21:05:30.152750Z",
     "iopub.status.idle": "2023-12-21T21:05:30.182609Z",
     "shell.execute_reply": "2023-12-21T21:05:30.181821Z",
     "shell.execute_reply.started": "2023-12-21T21:05:30.153062Z"
    },
    "pycharm": {
     "name": "#%%\n"
    }
   },
   "outputs": [
    {
     "name": "stdout",
     "output_type": "stream",
     "text": [
      "Columns still object type:  ['READPRJ']\n",
      "\n",
      "VERSION    category\n",
      "SIDE       category\n",
      "READPRJ      object\n",
      "CFWDTH      float32\n",
      "MCMJSW      float32\n",
      "JSW175      float32\n",
      "JSW200      float32\n",
      "JSW250      float32\n",
      "BARCDJD    category\n",
      "JSW300      float32\n",
      "JSW225      float32\n",
      "TPCFDS      float32\n",
      "BMANG       float32\n",
      "JSW150      float32\n",
      "JSW275      float32\n",
      "LJSW850     float32\n",
      "LJSW900     float32\n",
      "LJSW700     float32\n",
      "LJSW825     float32\n",
      "LJSW750     float32\n",
      "LJSW875     float32\n",
      "LJSW725     float32\n",
      "LJSW775     float32\n",
      "LJSW800     float32\n",
      "XMJSW       float32\n",
      "INCPLL     category\n",
      "INCPLM     category\n",
      "NOMMJSW    category\n",
      "NOLJSWX    category\n",
      "MJSWBB     category\n",
      "INCSTPS    category\n",
      "LTPMEBE    category\n",
      "NOMJSWX    category\n",
      "NOLMIN     category\n",
      "IMPIXSZ     float32\n",
      "dtype: object\n",
      "\n",
      "Missing values present, shadow dataframe created.\n",
      "              CFWDTH MCMJSW JSW175 JSW200 JSW250 JSW300 JSW225  \\\n",
      "ID      Visit                                                    \n",
      "9004184 V00      NaN    NaN    NaN    NaN    NaN    NaN    NaN   \n",
      "        V00      NaN    NaN    NaN    NaN    NaN    NaN    NaN   \n",
      "        V00      NaN    NaN    NaN    NaN    NaN    NaN    NaN   \n",
      "        V00      NaN    NaN    NaN    NaN    NaN    NaN    NaN   \n",
      "9004905 V00      NaN    NaN    NaN    NaN    NaN    NaN    NaN   \n",
      "...              ...    ...    ...    ...    ...    ...    ...   \n",
      "9911575 V05      NaN    NaN    NaN    NaN    NaN    NaN    NaN   \n",
      "9919646 V05      NaN    NaN    NaN    NaN    NaN    NaN    NaN   \n",
      "        V05      NaN    NaN    NaN    NaN    NaN    NaN    NaN   \n",
      "        V05      NaN    NaN    NaN    NaN    NaN    NaN    NaN   \n",
      "        V05      NaN    NaN    NaN    NaN    NaN    NaN    NaN   \n",
      "\n",
      "                               TPCFDS BMANG JSW150  ... LJSW850 LJSW900  \\\n",
      "ID      Visit                                       ...                   \n",
      "9004184 V00                       NaN   NaN    NaN  ...     NaN     NaN   \n",
      "        V00                       NaN   NaN    NaN  ...     NaN     NaN   \n",
      "        V00                       NaN   NaN    NaN  ...     NaN     NaN   \n",
      "        V00                       NaN   NaN    NaN  ...     NaN     NaN   \n",
      "9004905 V00                       NaN   NaN    NaN  ...     NaN     NaN   \n",
      "...                               ...   ...    ...  ...     ...     ...   \n",
      "9911575 V05                       NaN   NaN    NaN  ...     NaN     NaN   \n",
      "9919646 V05                       NaN   NaN    NaN  ...     NaN     NaN   \n",
      "        V05                       NaN   NaN    NaN  ...     NaN     NaN   \n",
      "        V05                       NaN   NaN    NaN  ...     NaN     NaN   \n",
      "        V05    .T: Technical problems   NaN    NaN  ...     NaN     NaN   \n",
      "\n",
      "              LJSW700 LJSW825 LJSW750 LJSW875 LJSW725 LJSW775 LJSW800 XMJSW  \n",
      "ID      Visit                                                                \n",
      "9004184 V00       NaN     NaN     NaN     NaN     NaN     NaN     NaN   NaN  \n",
      "        V00       NaN     NaN     NaN     NaN     NaN     NaN     NaN   NaN  \n",
      "        V00       NaN     NaN     NaN     NaN     NaN     NaN     NaN   NaN  \n",
      "        V00       NaN     NaN     NaN     NaN     NaN     NaN     NaN   NaN  \n",
      "9004905 V00       NaN     NaN     NaN     NaN     NaN     NaN     NaN   NaN  \n",
      "...               ...     ...     ...     ...     ...     ...     ...   ...  \n",
      "9911575 V05       NaN     NaN     NaN     NaN     NaN     NaN     NaN   NaN  \n",
      "9919646 V05       NaN     NaN     NaN     NaN     NaN     NaN     NaN   NaN  \n",
      "        V05       NaN     NaN     NaN     NaN     NaN     NaN     NaN   NaN  \n",
      "        V05       NaN     NaN     NaN     NaN     NaN     NaN     NaN   NaN  \n",
      "        V05       NaN     NaN     NaN     NaN     NaN     NaN     NaN   NaN  \n",
      "\n",
      "[1724 rows x 21 columns]\n"
     ]
    }
   ],
   "source": [
    "sanity_check(new_df)\n",
    "print()\n",
    "print(new_df.dtypes)\n",
    "if not missing_df.empty:\n",
    "    print('\\nMissing values present, shadow dataframe created.')\n",
    "    print(missing_df)"
   ]
  },
  {
   "cell_type": "code",
   "execution_count": 270,
   "id": "f42b1dfb",
   "metadata": {
    "execution": {
     "iopub.execute_input": "2023-12-21T21:05:30.184223Z",
     "iopub.status.busy": "2023-12-21T21:05:30.183952Z",
     "iopub.status.idle": "2023-12-21T21:05:30.193761Z",
     "shell.execute_reply": "2023-12-21T21:05:30.192929Z",
     "shell.execute_reply.started": "2023-12-21T21:05:30.184199Z"
    },
    "pycharm": {
     "name": "#%%\n"
    }
   },
   "outputs": [
    {
     "name": "stdout",
     "output_type": "stream",
     "text": [
      "\n",
      "Final dataframe size: 0.35MB\n",
      "Shadow dataframe size: 0.05MB\n"
     ]
    }
   ],
   "source": [
    "print('\\nFinal dataframe size: {:.2f}MB'.format(new_df.memory_usage(deep=True).sum() / (1024**2)))\n",
    "print('Shadow dataframe size: {:.2f}MB'.format(missing_df.memory_usage(deep=True).sum() / (1024**2)))"
   ]
  },
  {
   "cell_type": "code",
   "execution_count": 271,
   "id": "c1e13378-a058-4125-91b3-94591d96df28",
   "metadata": {
    "execution": {
     "iopub.execute_input": "2023-12-21T21:05:30.195442Z",
     "iopub.status.busy": "2023-12-21T21:05:30.195127Z",
     "iopub.status.idle": "2023-12-21T21:05:30.242613Z",
     "shell.execute_reply": "2023-12-21T21:05:30.241842Z",
     "shell.execute_reply.started": "2023-12-21T21:05:30.195410Z"
    }
   },
   "outputs": [],
   "source": [
    "utils.write_parquet(new_df, 'data/' + prefix + '_values.parquet')\n",
    "if not missing_df.empty:\n",
    "    utils.write_parquet(new_df, 'data/' + prefix + '_missing_values.parquet', verbose=False)"
   ]
  },
  {
   "cell_type": "markdown",
   "id": "61fb3bff",
   "metadata": {
    "tags": []
   },
   "source": [
    "## kxr_sq_bu"
   ]
  },
  {
   "cell_type": "code",
   "execution_count": 394,
   "id": "f7b24535",
   "metadata": {
    "execution": {
     "iopub.execute_input": "2023-12-22T01:03:42.736446Z",
     "iopub.status.busy": "2023-12-22T01:03:42.736169Z",
     "iopub.status.idle": "2023-12-22T01:03:50.118185Z",
     "shell.execute_reply": "2023-12-22T01:03:50.117297Z",
     "shell.execute_reply.started": "2023-12-22T01:03:42.736417Z"
    },
    "pycharm": {
     "name": "#%%\n"
    },
    "tags": []
   },
   "outputs": [
    {
     "name": "stdout",
     "output_type": "stream",
     "text": [
      "\n",
      "kxr_sq_bu00.sas7bdat: (12813, 24)\n",
      "['ID', 'SIDE', 'READPRJ', 'VERSION', 'BARCDBU', 'XROSFM', 'XRSCFM', 'XRCYFM', 'XRJSM', 'XRCHM', 'XROSTM', 'XRSCTM', 'XRCYTM', 'XRATTM', 'XRKL', 'XROSFL', 'XRSCFL', 'XRCYFL', 'XRJSL', 'XRCHL', 'XROSTL', 'XRSCTL', 'XRCYTL', 'XRATTL']\n",
      "\n",
      "kxr_sq_bu01.sas7bdat: (8483, 24)\n",
      "Names only differ by case\n",
      "\n",
      "kxr_sq_bu03.sas7bdat: (7988, 24)\n",
      "Names only differ by case\n",
      "\n",
      "kxr_sq_bu05.sas7bdat: (7843, 24)\n",
      "Names only differ by case\n",
      "\n",
      "kxr_sq_bu06.sas7bdat: (10813, 24)\n",
      "\n",
      "kxr_sq_bu08.sas7bdat: (3580, 24)\n",
      "\n",
      "kxr_sq_bu10.sas7bdat: (3675, 24)\n",
      "\n",
      "Total rows: 55195\n"
     ]
    }
   ],
   "source": [
    "prefix = 'kxr_sq_bu'\n",
    "column_uniformity_check(prefix)"
   ]
  },
  {
   "cell_type": "code",
   "execution_count": 395,
   "id": "5559e7bd",
   "metadata": {
    "execution": {
     "iopub.execute_input": "2023-12-22T01:03:50.120694Z",
     "iopub.status.busy": "2023-12-22T01:03:50.120425Z",
     "iopub.status.idle": "2023-12-22T01:03:57.391635Z",
     "shell.execute_reply": "2023-12-22T01:03:57.390975Z",
     "shell.execute_reply.started": "2023-12-22T01:03:50.120666Z"
    },
    "pycharm": {
     "name": "#%%\n"
    },
    "tags": []
   },
   "outputs": [
    {
     "name": "stdout",
     "output_type": "stream",
     "text": [
      "kxr_sq_bu00.sas7bdat\tVar Cnt: 24\n",
      "Visits: ['V00']\n",
      "kxr_sq_bu01.sas7bdat\tVar Cnt: 24\n",
      "Visits: ['V01']\n",
      "kxr_sq_bu03.sas7bdat\tVar Cnt: 24\n",
      "Visits: ['V03']\n",
      "kxr_sq_bu05.sas7bdat\tVar Cnt: 24\n",
      "Visits: ['V05']\n",
      "kxr_sq_bu06.sas7bdat\tVar Cnt: 24\n",
      "Visits: ['V06']\n",
      "kxr_sq_bu08.sas7bdat\tVar Cnt: 24\n",
      "Visits: ['V08']\n",
      "kxr_sq_bu10.sas7bdat\tVar Cnt: 24\n",
      "Visits: ['V10']\n",
      "(55195, 25)\n",
      "\n",
      "Starting dataframe size: 11.93MB\n"
     ]
    }
   ],
   "source": [
    "tmp_df = create_df(prefix)\n",
    "print(tmp_df.shape)\n",
    "print('\\nStarting dataframe size: {:.2f}MB'.format(tmp_df.memory_usage(deep=True).sum() / (1024**2)))"
   ]
  },
  {
   "cell_type": "code",
   "execution_count": 396,
   "id": "4c7f6206-6226-4017-b476-1684b793f617",
   "metadata": {
    "execution": {
     "iopub.execute_input": "2023-12-22T01:03:57.393209Z",
     "iopub.status.busy": "2023-12-22T01:03:57.392809Z",
     "iopub.status.idle": "2023-12-22T01:03:57.399067Z",
     "shell.execute_reply": "2023-12-22T01:03:57.398459Z",
     "shell.execute_reply.started": "2023-12-22T01:03:57.393186Z"
    },
    "tags": []
   },
   "outputs": [
    {
     "data": {
      "text/plain": [
       "ID           uint32\n",
       "Visit      category\n",
       "VERSION    category\n",
       "SIDE       category\n",
       "READPRJ      object\n",
       "BARCDBU      object\n",
       "XROSFM     category\n",
       "XRSCFM     category\n",
       "XRCYFM     category\n",
       "XRJSM        object\n",
       "XRCHM      category\n",
       "XROSTM     category\n",
       "XRSCTM     category\n",
       "XRCYTM     category\n",
       "XRATTM     category\n",
       "XRKL       category\n",
       "XROSFL     category\n",
       "XRSCFL     category\n",
       "XRCYFL     category\n",
       "XRJSL        object\n",
       "XRCHL      category\n",
       "XROSTL     category\n",
       "XRSCTL     category\n",
       "XRCYTL     category\n",
       "XRATTL     category\n",
       "dtype: object"
      ]
     },
     "execution_count": 396,
     "metadata": {},
     "output_type": "execute_result"
    }
   ],
   "source": [
    "tmp_df.dtypes"
   ]
  },
  {
   "cell_type": "markdown",
   "id": "60346cc6-9367-48e4-a3b9-16104adb247a",
   "metadata": {},
   "source": [
    "Documentation says that there is no longer a differentiation between project 37 and project 42. It advises all project 42 labels be converted to 37.  Done here."
   ]
  },
  {
   "cell_type": "code",
   "execution_count": 401,
   "id": "484f3f5d-f24f-4623-a14b-756dba6a1e22",
   "metadata": {
    "execution": {
     "iopub.execute_input": "2023-12-22T01:04:25.748928Z",
     "iopub.status.busy": "2023-12-22T01:04:25.748639Z",
     "iopub.status.idle": "2023-12-22T01:04:25.803023Z",
     "shell.execute_reply": "2023-12-22T01:04:25.802483Z",
     "shell.execute_reply.started": "2023-12-22T01:04:25.748899Z"
    },
    "tags": []
   },
   "outputs": [],
   "source": [
    "# Data cleanup \n",
    "tmp_df.loc[idx[tmp_df['READPRJ'] == '42'], 'READPRJ'] = '37'\n",
    "tmp_df.loc[tmp_df['READPRJ'] == '15', 'READPRJ'] = 15       \n",
    "tmp_df.loc[tmp_df['READPRJ'] == '37', 'READPRJ'] = 37\n",
    "tmp_df['READPRJ'] = pd.to_numeric(tmp_df['READPRJ'], downcast='unsigned')\n",
    "\n",
    "# Convert the numeric strings to actual ints\n",
    "colon_ints_to_int = {'0: 0': '0', '1: 1': '1', '2: 2': '2', '3: 3': '3', '4: 4': '4', '5: 5': '5', '6: 6': '6',\n",
    "                     '7: 7': '7', '8: 8': '8', '9: 9': '9', '10: 10': '10', '11: 11': '11', '12: 12': '12'}\n",
    "\n",
    "for col in tmp_df.select_dtypes(include='category'):\n",
    "    if col not in ['VERSION', 'READPRJ', 'BARCDBU', 'XRJSM', 'XRJSL']:\n",
    "        tmp_df[col] = tmp_df[col].cat.rename_categories(colon_ints_to_int)\n",
    "        tmp_df[col] = tmp_df[col].astype('object')"
   ]
  },
  {
   "cell_type": "code",
   "execution_count": 402,
   "id": "82762e49-6a47-4bf3-a0b9-fb05ba0b45c1",
   "metadata": {
    "execution": {
     "iopub.execute_input": "2023-12-22T01:04:29.117722Z",
     "iopub.status.busy": "2023-12-22T01:04:29.117487Z",
     "iopub.status.idle": "2023-12-22T01:04:30.289838Z",
     "shell.execute_reply": "2023-12-22T01:04:30.289030Z",
     "shell.execute_reply.started": "2023-12-22T01:04:29.117698Z"
    },
    "tags": []
   },
   "outputs": [
    {
     "name": "stdout",
     "output_type": "stream",
     "text": [
      "Already defined cols: 3 \tCols to convert: 22\t Total col cnt: 25\n",
      "\n",
      "Column types to convert:\n",
      "   str_cnt  num_cnt  date_cnt  na_cnt  count\n",
      "0     True    False     False   False     20\n",
      "1     True     True     False   False      2\n",
      "\n",
      "Numeric types of columns:\n",
      "num_type\n",
      "float    2\n",
      "Name: count, dtype: int64\n",
      "\n",
      "Largest number of unique strings: 24554\n"
     ]
    },
    {
     "data": {
      "text/html": [
       "<div>\n",
       "<style scoped>\n",
       "    .dataframe tbody tr th:only-of-type {\n",
       "        vertical-align: middle;\n",
       "    }\n",
       "\n",
       "    .dataframe tbody tr th {\n",
       "        vertical-align: top;\n",
       "    }\n",
       "\n",
       "    .dataframe thead th {\n",
       "        text-align: right;\n",
       "    }\n",
       "</style>\n",
       "<table border=\"1\" class=\"dataframe\">\n",
       "  <thead>\n",
       "    <tr style=\"text-align: right;\">\n",
       "      <th></th>\n",
       "      <th>label</th>\n",
       "      <th>uniq_strs</th>\n",
       "      <th>str_list</th>\n",
       "      <th>missing_val_cnt</th>\n",
       "      <th>missing_val_list</th>\n",
       "      <th>numeric_str</th>\n",
       "      <th>num_type</th>\n",
       "      <th>uniq_num</th>\n",
       "      <th>max_num</th>\n",
       "      <th>min_num</th>\n",
       "      <th>str_cnt</th>\n",
       "      <th>num_cnt</th>\n",
       "      <th>date_cnt</th>\n",
       "      <th>na_cnt</th>\n",
       "    </tr>\n",
       "    <tr>\n",
       "      <th>col</th>\n",
       "      <th></th>\n",
       "      <th></th>\n",
       "      <th></th>\n",
       "      <th></th>\n",
       "      <th></th>\n",
       "      <th></th>\n",
       "      <th></th>\n",
       "      <th></th>\n",
       "      <th></th>\n",
       "      <th></th>\n",
       "      <th></th>\n",
       "      <th></th>\n",
       "      <th></th>\n",
       "      <th></th>\n",
       "    </tr>\n",
       "  </thead>\n",
       "  <tbody>\n",
       "    <tr>\n",
       "      <th>Visit</th>\n",
       "      <td>Which visit this data was collected during</td>\n",
       "      <td>7</td>\n",
       "      <td>{V08, V00, V03, V05, V10, V01, V06}</td>\n",
       "      <td>0</td>\n",
       "      <td>{}</td>\n",
       "      <td>False</td>\n",
       "      <td>None</td>\n",
       "      <td>NaN</td>\n",
       "      <td>NaN</td>\n",
       "      <td>NaN</td>\n",
       "      <td>55195</td>\n",
       "      <td>0</td>\n",
       "      <td>0</td>\n",
       "      <td>0</td>\n",
       "    </tr>\n",
       "    <tr>\n",
       "      <th>SIDE</th>\n",
       "      <td>Side</td>\n",
       "      <td>2</td>\n",
       "      <td>{1: Right, 2: Left}</td>\n",
       "      <td>0</td>\n",
       "      <td>{}</td>\n",
       "      <td>False</td>\n",
       "      <td>None</td>\n",
       "      <td>NaN</td>\n",
       "      <td>NaN</td>\n",
       "      <td>NaN</td>\n",
       "      <td>55195</td>\n",
       "      <td>0</td>\n",
       "      <td>0</td>\n",
       "      <td>0</td>\n",
       "    </tr>\n",
       "    <tr>\n",
       "      <th>BARCDBU</th>\n",
       "      <td>BL/FU kXR reading (BU): barcode of image analyzed</td>\n",
       "      <td>24554</td>\n",
       "      <td>{, 016600855104, 016601448204, 016602586401, 0...</td>\n",
       "      <td>0</td>\n",
       "      <td>{}</td>\n",
       "      <td>False</td>\n",
       "      <td>None</td>\n",
       "      <td>NaN</td>\n",
       "      <td>NaN</td>\n",
       "      <td>NaN</td>\n",
       "      <td>55195</td>\n",
       "      <td>0</td>\n",
       "      <td>0</td>\n",
       "      <td>0</td>\n",
       "    </tr>\n",
       "    <tr>\n",
       "      <th>XROSFM</th>\n",
       "      <td>BL/FU kXR reading (BU): osteophytes (OARSI gra...</td>\n",
       "      <td>8</td>\n",
       "      <td>{2, .M: Missing, .T: Technical Problems, .P: P...</td>\n",
       "      <td>0</td>\n",
       "      <td>{}</td>\n",
       "      <td>False</td>\n",
       "      <td>None</td>\n",
       "      <td>NaN</td>\n",
       "      <td>NaN</td>\n",
       "      <td>NaN</td>\n",
       "      <td>55195</td>\n",
       "      <td>0</td>\n",
       "      <td>0</td>\n",
       "      <td>0</td>\n",
       "    </tr>\n",
       "    <tr>\n",
       "      <th>XRSCFM</th>\n",
       "      <td>BL/FU kXR reading (BU): sclerosis (OARSI grade...</td>\n",
       "      <td>8</td>\n",
       "      <td>{2, .T: Technical Problems, .P: Prosthetic, .:...</td>\n",
       "      <td>0</td>\n",
       "      <td>{}</td>\n",
       "      <td>False</td>\n",
       "      <td>None</td>\n",
       "      <td>NaN</td>\n",
       "      <td>NaN</td>\n",
       "      <td>NaN</td>\n",
       "      <td>55195</td>\n",
       "      <td>0</td>\n",
       "      <td>0</td>\n",
       "      <td>0</td>\n",
       "    </tr>\n",
       "    <tr>\n",
       "      <th>XRCYFM</th>\n",
       "      <td>BL/FU kXR reading (BU): cysts (Grades 0-1) fem...</td>\n",
       "      <td>6</td>\n",
       "      <td>{.T: Technical Problems, .P: Prosthetic, .: Mi...</td>\n",
       "      <td>0</td>\n",
       "      <td>{}</td>\n",
       "      <td>False</td>\n",
       "      <td>None</td>\n",
       "      <td>NaN</td>\n",
       "      <td>NaN</td>\n",
       "      <td>NaN</td>\n",
       "      <td>55195</td>\n",
       "      <td>0</td>\n",
       "      <td>0</td>\n",
       "      <td>0</td>\n",
       "    </tr>\n",
       "    <tr>\n",
       "      <th>XRJSM</th>\n",
       "      <td>BL(BU): joint space narrowing (OARSI grades 0-...</td>\n",
       "      <td>0</td>\n",
       "      <td>{}</td>\n",
       "      <td>2</td>\n",
       "      <td>{P, T}</td>\n",
       "      <td>False</td>\n",
       "      <td>float</td>\n",
       "      <td>14.0</td>\n",
       "      <td>3.0</td>\n",
       "      <td>0.0</td>\n",
       "      <td>555</td>\n",
       "      <td>54640</td>\n",
       "      <td>0</td>\n",
       "      <td>0</td>\n",
       "    </tr>\n",
       "    <tr>\n",
       "      <th>XRCHM</th>\n",
       "      <td>BL/FU kXR reading (BU): chondrocalcinosis (Gra...</td>\n",
       "      <td>7</td>\n",
       "      <td>{.M: Missing, .T: Technical Problems, .P: Pros...</td>\n",
       "      <td>0</td>\n",
       "      <td>{}</td>\n",
       "      <td>False</td>\n",
       "      <td>None</td>\n",
       "      <td>NaN</td>\n",
       "      <td>NaN</td>\n",
       "      <td>NaN</td>\n",
       "      <td>55195</td>\n",
       "      <td>0</td>\n",
       "      <td>0</td>\n",
       "      <td>0</td>\n",
       "    </tr>\n",
       "    <tr>\n",
       "      <th>XROSTM</th>\n",
       "      <td>BL/FU kXR reading (BU): osteophytes (OARSI gra...</td>\n",
       "      <td>8</td>\n",
       "      <td>{2, .M: Missing, .T: Technical Problems, .P: P...</td>\n",
       "      <td>0</td>\n",
       "      <td>{}</td>\n",
       "      <td>False</td>\n",
       "      <td>None</td>\n",
       "      <td>NaN</td>\n",
       "      <td>NaN</td>\n",
       "      <td>NaN</td>\n",
       "      <td>55195</td>\n",
       "      <td>0</td>\n",
       "      <td>0</td>\n",
       "      <td>0</td>\n",
       "    </tr>\n",
       "    <tr>\n",
       "      <th>XRSCTM</th>\n",
       "      <td>BL/FU kXR reading (BU): sclerosis (OARSI grade...</td>\n",
       "      <td>8</td>\n",
       "      <td>{2, .T: Technical Problems, .P: Prosthetic, .:...</td>\n",
       "      <td>0</td>\n",
       "      <td>{}</td>\n",
       "      <td>False</td>\n",
       "      <td>None</td>\n",
       "      <td>NaN</td>\n",
       "      <td>NaN</td>\n",
       "      <td>NaN</td>\n",
       "      <td>55195</td>\n",
       "      <td>0</td>\n",
       "      <td>0</td>\n",
       "      <td>0</td>\n",
       "    </tr>\n",
       "    <tr>\n",
       "      <th>XRCYTM</th>\n",
       "      <td>BL/FU kXR reading (BU): cysts (Grades 0-1) tib...</td>\n",
       "      <td>7</td>\n",
       "      <td>{2, .T: Technical Problems, .P: Prosthetic, .:...</td>\n",
       "      <td>0</td>\n",
       "      <td>{}</td>\n",
       "      <td>False</td>\n",
       "      <td>None</td>\n",
       "      <td>NaN</td>\n",
       "      <td>NaN</td>\n",
       "      <td>NaN</td>\n",
       "      <td>55195</td>\n",
       "      <td>0</td>\n",
       "      <td>0</td>\n",
       "      <td>0</td>\n",
       "    </tr>\n",
       "    <tr>\n",
       "      <th>XRATTM</th>\n",
       "      <td>BL/FU kXR reading (BU): attrition (OARSI grade...</td>\n",
       "      <td>8</td>\n",
       "      <td>{2, .T: Technical Problems, .P: Prosthetic, .:...</td>\n",
       "      <td>0</td>\n",
       "      <td>{}</td>\n",
       "      <td>False</td>\n",
       "      <td>None</td>\n",
       "      <td>NaN</td>\n",
       "      <td>NaN</td>\n",
       "      <td>NaN</td>\n",
       "      <td>55195</td>\n",
       "      <td>0</td>\n",
       "      <td>0</td>\n",
       "      <td>0</td>\n",
       "    </tr>\n",
       "    <tr>\n",
       "      <th>XRKL</th>\n",
       "      <td>BL (BU): Kellgren and Lawrence (grades 0-4)</td>\n",
       "      <td>7</td>\n",
       "      <td>{2, 4, .T: Technical Problems, .P: Prosthetic,...</td>\n",
       "      <td>0</td>\n",
       "      <td>{}</td>\n",
       "      <td>False</td>\n",
       "      <td>None</td>\n",
       "      <td>NaN</td>\n",
       "      <td>NaN</td>\n",
       "      <td>NaN</td>\n",
       "      <td>55195</td>\n",
       "      <td>0</td>\n",
       "      <td>0</td>\n",
       "      <td>0</td>\n",
       "    </tr>\n",
       "    <tr>\n",
       "      <th>XROSFL</th>\n",
       "      <td>BL/FU kXR reading (BU): osteophytes (OARSI gra...</td>\n",
       "      <td>8</td>\n",
       "      <td>{2, .M: Missing, .T: Technical Problems, .P: P...</td>\n",
       "      <td>0</td>\n",
       "      <td>{}</td>\n",
       "      <td>False</td>\n",
       "      <td>None</td>\n",
       "      <td>NaN</td>\n",
       "      <td>NaN</td>\n",
       "      <td>NaN</td>\n",
       "      <td>55195</td>\n",
       "      <td>0</td>\n",
       "      <td>0</td>\n",
       "      <td>0</td>\n",
       "    </tr>\n",
       "    <tr>\n",
       "      <th>XRSCFL</th>\n",
       "      <td>BL/FU kXR reading (BU): sclerosis (OARSI grade...</td>\n",
       "      <td>8</td>\n",
       "      <td>{2, .T: Technical Problems, .P: Prosthetic, .:...</td>\n",
       "      <td>0</td>\n",
       "      <td>{}</td>\n",
       "      <td>False</td>\n",
       "      <td>None</td>\n",
       "      <td>NaN</td>\n",
       "      <td>NaN</td>\n",
       "      <td>NaN</td>\n",
       "      <td>55195</td>\n",
       "      <td>0</td>\n",
       "      <td>0</td>\n",
       "      <td>0</td>\n",
       "    </tr>\n",
       "    <tr>\n",
       "      <th>XRCYFL</th>\n",
       "      <td>BL/FU kXR reading (BU): cysts (Grades 0-1) fem...</td>\n",
       "      <td>6</td>\n",
       "      <td>{.T: Technical Problems, .P: Prosthetic, .: Mi...</td>\n",
       "      <td>0</td>\n",
       "      <td>{}</td>\n",
       "      <td>False</td>\n",
       "      <td>None</td>\n",
       "      <td>NaN</td>\n",
       "      <td>NaN</td>\n",
       "      <td>NaN</td>\n",
       "      <td>55195</td>\n",
       "      <td>0</td>\n",
       "      <td>0</td>\n",
       "      <td>0</td>\n",
       "    </tr>\n",
       "    <tr>\n",
       "      <th>XRJSL</th>\n",
       "      <td>BL (BU): joint space narrowing (OARSI grades 0...</td>\n",
       "      <td>0</td>\n",
       "      <td>{}</td>\n",
       "      <td>2</td>\n",
       "      <td>{P, T}</td>\n",
       "      <td>False</td>\n",
       "      <td>float</td>\n",
       "      <td>13.0</td>\n",
       "      <td>3.0</td>\n",
       "      <td>0.0</td>\n",
       "      <td>555</td>\n",
       "      <td>54640</td>\n",
       "      <td>0</td>\n",
       "      <td>0</td>\n",
       "    </tr>\n",
       "    <tr>\n",
       "      <th>XRCHL</th>\n",
       "      <td>BL/FU kXR reading (BU): chondrocalcinosis (Gra...</td>\n",
       "      <td>7</td>\n",
       "      <td>{.M: Missing, .T: Technical Problems, .P: Pros...</td>\n",
       "      <td>0</td>\n",
       "      <td>{}</td>\n",
       "      <td>False</td>\n",
       "      <td>None</td>\n",
       "      <td>NaN</td>\n",
       "      <td>NaN</td>\n",
       "      <td>NaN</td>\n",
       "      <td>55195</td>\n",
       "      <td>0</td>\n",
       "      <td>0</td>\n",
       "      <td>0</td>\n",
       "    </tr>\n",
       "    <tr>\n",
       "      <th>XROSTL</th>\n",
       "      <td>BL/FU kXR reading (BU): osteophytes (OARSI gra...</td>\n",
       "      <td>8</td>\n",
       "      <td>{2, .M: Missing, .T: Technical Problems, .P: P...</td>\n",
       "      <td>0</td>\n",
       "      <td>{}</td>\n",
       "      <td>False</td>\n",
       "      <td>None</td>\n",
       "      <td>NaN</td>\n",
       "      <td>NaN</td>\n",
       "      <td>NaN</td>\n",
       "      <td>55195</td>\n",
       "      <td>0</td>\n",
       "      <td>0</td>\n",
       "      <td>0</td>\n",
       "    </tr>\n",
       "    <tr>\n",
       "      <th>XRSCTL</th>\n",
       "      <td>BL/FU kXR reading (BU): sclerosis (OARSI grade...</td>\n",
       "      <td>8</td>\n",
       "      <td>{2, .T: Technical Problems, .P: Prosthetic, .:...</td>\n",
       "      <td>0</td>\n",
       "      <td>{}</td>\n",
       "      <td>False</td>\n",
       "      <td>None</td>\n",
       "      <td>NaN</td>\n",
       "      <td>NaN</td>\n",
       "      <td>NaN</td>\n",
       "      <td>55195</td>\n",
       "      <td>0</td>\n",
       "      <td>0</td>\n",
       "      <td>0</td>\n",
       "    </tr>\n",
       "    <tr>\n",
       "      <th>XRCYTL</th>\n",
       "      <td>BL/FU kXR reading (BU): cysts (Grades 0-1) tib...</td>\n",
       "      <td>6</td>\n",
       "      <td>{.T: Technical Problems, .P: Prosthetic, .: Mi...</td>\n",
       "      <td>0</td>\n",
       "      <td>{}</td>\n",
       "      <td>False</td>\n",
       "      <td>None</td>\n",
       "      <td>NaN</td>\n",
       "      <td>NaN</td>\n",
       "      <td>NaN</td>\n",
       "      <td>55195</td>\n",
       "      <td>0</td>\n",
       "      <td>0</td>\n",
       "      <td>0</td>\n",
       "    </tr>\n",
       "    <tr>\n",
       "      <th>XRATTL</th>\n",
       "      <td>BL/FU kXR reading (BU): attrition (OARSI grade...</td>\n",
       "      <td>8</td>\n",
       "      <td>{2, .T: Technical Problems, .P: Prosthetic, .:...</td>\n",
       "      <td>0</td>\n",
       "      <td>{}</td>\n",
       "      <td>False</td>\n",
       "      <td>None</td>\n",
       "      <td>NaN</td>\n",
       "      <td>NaN</td>\n",
       "      <td>NaN</td>\n",
       "      <td>55195</td>\n",
       "      <td>0</td>\n",
       "      <td>0</td>\n",
       "      <td>0</td>\n",
       "    </tr>\n",
       "  </tbody>\n",
       "</table>\n",
       "</div>"
      ],
      "text/plain": [
       "                                                     label  uniq_strs  \\\n",
       "col                                                                     \n",
       "Visit           Which visit this data was collected during          7   \n",
       "SIDE                                                  Side          2   \n",
       "BARCDBU  BL/FU kXR reading (BU): barcode of image analyzed      24554   \n",
       "XROSFM   BL/FU kXR reading (BU): osteophytes (OARSI gra...          8   \n",
       "XRSCFM   BL/FU kXR reading (BU): sclerosis (OARSI grade...          8   \n",
       "XRCYFM   BL/FU kXR reading (BU): cysts (Grades 0-1) fem...          6   \n",
       "XRJSM    BL(BU): joint space narrowing (OARSI grades 0-...          0   \n",
       "XRCHM    BL/FU kXR reading (BU): chondrocalcinosis (Gra...          7   \n",
       "XROSTM   BL/FU kXR reading (BU): osteophytes (OARSI gra...          8   \n",
       "XRSCTM   BL/FU kXR reading (BU): sclerosis (OARSI grade...          8   \n",
       "XRCYTM   BL/FU kXR reading (BU): cysts (Grades 0-1) tib...          7   \n",
       "XRATTM   BL/FU kXR reading (BU): attrition (OARSI grade...          8   \n",
       "XRKL           BL (BU): Kellgren and Lawrence (grades 0-4)          7   \n",
       "XROSFL   BL/FU kXR reading (BU): osteophytes (OARSI gra...          8   \n",
       "XRSCFL   BL/FU kXR reading (BU): sclerosis (OARSI grade...          8   \n",
       "XRCYFL   BL/FU kXR reading (BU): cysts (Grades 0-1) fem...          6   \n",
       "XRJSL    BL (BU): joint space narrowing (OARSI grades 0...          0   \n",
       "XRCHL    BL/FU kXR reading (BU): chondrocalcinosis (Gra...          7   \n",
       "XROSTL   BL/FU kXR reading (BU): osteophytes (OARSI gra...          8   \n",
       "XRSCTL   BL/FU kXR reading (BU): sclerosis (OARSI grade...          8   \n",
       "XRCYTL   BL/FU kXR reading (BU): cysts (Grades 0-1) tib...          6   \n",
       "XRATTL   BL/FU kXR reading (BU): attrition (OARSI grade...          8   \n",
       "\n",
       "                                                  str_list  missing_val_cnt  \\\n",
       "col                                                                           \n",
       "Visit                  {V08, V00, V03, V05, V10, V01, V06}                0   \n",
       "SIDE                                   {1: Right, 2: Left}                0   \n",
       "BARCDBU  {, 016600855104, 016601448204, 016602586401, 0...                0   \n",
       "XROSFM   {2, .M: Missing, .T: Technical Problems, .P: P...                0   \n",
       "XRSCFM   {2, .T: Technical Problems, .P: Prosthetic, .:...                0   \n",
       "XRCYFM   {.T: Technical Problems, .P: Prosthetic, .: Mi...                0   \n",
       "XRJSM                                                   {}                2   \n",
       "XRCHM    {.M: Missing, .T: Technical Problems, .P: Pros...                0   \n",
       "XROSTM   {2, .M: Missing, .T: Technical Problems, .P: P...                0   \n",
       "XRSCTM   {2, .T: Technical Problems, .P: Prosthetic, .:...                0   \n",
       "XRCYTM   {2, .T: Technical Problems, .P: Prosthetic, .:...                0   \n",
       "XRATTM   {2, .T: Technical Problems, .P: Prosthetic, .:...                0   \n",
       "XRKL     {2, 4, .T: Technical Problems, .P: Prosthetic,...                0   \n",
       "XROSFL   {2, .M: Missing, .T: Technical Problems, .P: P...                0   \n",
       "XRSCFL   {2, .T: Technical Problems, .P: Prosthetic, .:...                0   \n",
       "XRCYFL   {.T: Technical Problems, .P: Prosthetic, .: Mi...                0   \n",
       "XRJSL                                                   {}                2   \n",
       "XRCHL    {.M: Missing, .T: Technical Problems, .P: Pros...                0   \n",
       "XROSTL   {2, .M: Missing, .T: Technical Problems, .P: P...                0   \n",
       "XRSCTL   {2, .T: Technical Problems, .P: Prosthetic, .:...                0   \n",
       "XRCYTL   {.T: Technical Problems, .P: Prosthetic, .: Mi...                0   \n",
       "XRATTL   {2, .T: Technical Problems, .P: Prosthetic, .:...                0   \n",
       "\n",
       "        missing_val_list  numeric_str num_type  uniq_num  max_num  min_num  \\\n",
       "col                                                                          \n",
       "Visit                 {}        False     None       NaN      NaN      NaN   \n",
       "SIDE                  {}        False     None       NaN      NaN      NaN   \n",
       "BARCDBU               {}        False     None       NaN      NaN      NaN   \n",
       "XROSFM                {}        False     None       NaN      NaN      NaN   \n",
       "XRSCFM                {}        False     None       NaN      NaN      NaN   \n",
       "XRCYFM                {}        False     None       NaN      NaN      NaN   \n",
       "XRJSM             {P, T}        False    float      14.0      3.0      0.0   \n",
       "XRCHM                 {}        False     None       NaN      NaN      NaN   \n",
       "XROSTM                {}        False     None       NaN      NaN      NaN   \n",
       "XRSCTM                {}        False     None       NaN      NaN      NaN   \n",
       "XRCYTM                {}        False     None       NaN      NaN      NaN   \n",
       "XRATTM                {}        False     None       NaN      NaN      NaN   \n",
       "XRKL                  {}        False     None       NaN      NaN      NaN   \n",
       "XROSFL                {}        False     None       NaN      NaN      NaN   \n",
       "XRSCFL                {}        False     None       NaN      NaN      NaN   \n",
       "XRCYFL                {}        False     None       NaN      NaN      NaN   \n",
       "XRJSL             {P, T}        False    float      13.0      3.0      0.0   \n",
       "XRCHL                 {}        False     None       NaN      NaN      NaN   \n",
       "XROSTL                {}        False     None       NaN      NaN      NaN   \n",
       "XRSCTL                {}        False     None       NaN      NaN      NaN   \n",
       "XRCYTL                {}        False     None       NaN      NaN      NaN   \n",
       "XRATTL                {}        False     None       NaN      NaN      NaN   \n",
       "\n",
       "         str_cnt  num_cnt  date_cnt  na_cnt  \n",
       "col                                          \n",
       "Visit      55195        0         0       0  \n",
       "SIDE       55195        0         0       0  \n",
       "BARCDBU    55195        0         0       0  \n",
       "XROSFM     55195        0         0       0  \n",
       "XRSCFM     55195        0         0       0  \n",
       "XRCYFM     55195        0         0       0  \n",
       "XRJSM        555    54640         0       0  \n",
       "XRCHM      55195        0         0       0  \n",
       "XROSTM     55195        0         0       0  \n",
       "XRSCTM     55195        0         0       0  \n",
       "XRCYTM     55195        0         0       0  \n",
       "XRATTM     55195        0         0       0  \n",
       "XRKL       55195        0         0       0  \n",
       "XROSFL     55195        0         0       0  \n",
       "XRSCFL     55195        0         0       0  \n",
       "XRCYFL     55195        0         0       0  \n",
       "XRJSL        555    54640         0       0  \n",
       "XRCHL      55195        0         0       0  \n",
       "XROSTL     55195        0         0       0  \n",
       "XRSCTL     55195        0         0       0  \n",
       "XRCYTL     55195        0         0       0  \n",
       "XRATTL     55195        0         0       0  "
      ]
     },
     "execution_count": 402,
     "metadata": {},
     "output_type": "execute_result"
    }
   ],
   "source": [
    "data_stats_df, done_df = gather_column_data_stats(tmp_df)\n",
    "data_stats_summary(tmp_df, data_stats_df)\n",
    "data_stats_df"
   ]
  },
  {
   "cell_type": "code",
   "execution_count": 403,
   "id": "1430a632-3a75-4a02-bad0-086969a915f3",
   "metadata": {
    "execution": {
     "iopub.execute_input": "2023-12-22T01:04:30.517708Z",
     "iopub.status.busy": "2023-12-22T01:04:30.517389Z",
     "iopub.status.idle": "2023-12-22T01:04:30.524509Z",
     "shell.execute_reply": "2023-12-22T01:04:30.523720Z",
     "shell.execute_reply.started": "2023-12-22T01:04:30.517659Z"
    },
    "tags": []
   },
   "outputs": [
    {
     "data": {
      "text/plain": [
       "ID           uint32\n",
       "Visit        object\n",
       "VERSION    category\n",
       "SIDE         object\n",
       "READPRJ       uint8\n",
       "BARCDBU      object\n",
       "XROSFM       object\n",
       "XRSCFM       object\n",
       "XRCYFM       object\n",
       "XRJSM        object\n",
       "XRCHM        object\n",
       "XROSTM       object\n",
       "XRSCTM       object\n",
       "XRCYTM       object\n",
       "XRATTM       object\n",
       "XRKL         object\n",
       "XROSFL       object\n",
       "XRSCFL       object\n",
       "XRCYFL       object\n",
       "XRJSL        object\n",
       "XRCHL        object\n",
       "XROSTL       object\n",
       "XRSCTL       object\n",
       "XRCYTL       object\n",
       "XRATTL       object\n",
       "dtype: object"
      ]
     },
     "execution_count": 403,
     "metadata": {},
     "output_type": "execute_result"
    }
   ],
   "source": [
    "tmp_df.dtypes"
   ]
  },
  {
   "cell_type": "code",
   "execution_count": 404,
   "id": "e1f54bdf-0a35-44a3-b656-6dd5708bc0f9",
   "metadata": {
    "execution": {
     "iopub.execute_input": "2023-12-22T01:04:32.515106Z",
     "iopub.status.busy": "2023-12-22T01:04:32.514809Z",
     "iopub.status.idle": "2023-12-22T01:04:32.526202Z",
     "shell.execute_reply": "2023-12-22T01:04:32.525503Z",
     "shell.execute_reply.started": "2023-12-22T01:04:32.515078Z"
    },
    "tags": []
   },
   "outputs": [
    {
     "name": "stdout",
     "output_type": "stream",
     "text": [
      "targets = {\n",
      "# Columns with only floats, missing, and NA values\n",
      "'float': ['XRJSM', 'XRJSL'],\n",
      "\n",
      "# Columns with only strings, missing, and NA values\n",
      "'cat': ['Visit', 'SIDE', 'BARCDBU', 'XROSFM', 'XRSCFM', 'XRCYFM', 'XRCHM', 'XROSTM', 'XRSCTM', 'XRCYTM', 'XRATTM', 'XRKL', 'XROSFL', 'XRSCFL', 'XRCYFL', 'XRCHL', 'XROSTL', 'XRSCTL', 'XRCYTL', 'XRATTL'],\n",
      "\n",
      "}\n",
      "\n",
      "\n",
      "Handled columns: 22\n"
     ]
    }
   ],
   "source": [
    "suggest_conversions(data_stats_df)"
   ]
  },
  {
   "cell_type": "code",
   "execution_count": 362,
   "id": "d71993e4",
   "metadata": {
    "execution": {
     "iopub.execute_input": "2023-12-21T23:57:05.547775Z",
     "iopub.status.busy": "2023-12-21T23:57:05.547471Z",
     "iopub.status.idle": "2023-12-21T23:57:05.895982Z",
     "shell.execute_reply": "2023-12-21T23:57:05.895210Z",
     "shell.execute_reply.started": "2023-12-21T23:57:05.547744Z"
    },
    "pycharm": {
     "name": "#%%\n"
    },
    "tags": []
   },
   "outputs": [],
   "source": [
    "targets = {\n",
    "# Columns with only floats, missing, and NA values\n",
    "'float': ['XRJSM', 'XRJSL'],\n",
    "\n",
    "# Columns with only strings, missing, and NA values\n",
    "'cat': ['BARCDBU'],\n",
    "\n",
    "}\n",
    "\n",
    "targets = {\n",
    "# Columns with only floats, missing, and NA values\n",
    "'float': ['XRJSM', 'XRJSL'],\n",
    "\n",
    "# Columns with only strings, missing, and NA values\n",
    "'cat': ['BARCDBU', 'XROSFM', 'XRSCFM', 'XRCYFM', 'XRCHM', 'XROSTM', 'XRSCTM', 'XRCYTM', 'XRATTM', 'XRKL', 'XROSFL', 'XRSCFL', 'XRCYFL', 'XRCHL', 'XROSTL', 'XRSCTL', 'XRCYTL', 'XRATTL'],\n",
    "\n",
    "}\n",
    "\n",
    "new_df, missing_df = convert_columns(targets, data_stats_df, tmp_df)"
   ]
  },
  {
   "cell_type": "code",
   "execution_count": 363,
   "id": "6ab99d80-1232-4663-819a-5ed88eb42882",
   "metadata": {
    "execution": {
     "iopub.execute_input": "2023-12-21T23:57:07.328999Z",
     "iopub.status.busy": "2023-12-21T23:57:07.328676Z",
     "iopub.status.idle": "2023-12-21T23:57:07.359179Z",
     "shell.execute_reply": "2023-12-21T23:57:07.358153Z",
     "shell.execute_reply.started": "2023-12-21T23:57:07.328964Z"
    },
    "tags": []
   },
   "outputs": [
    {
     "ename": "AttributeError",
     "evalue": "Can only use .cat accessor with a 'category' dtype",
     "output_type": "error",
     "traceback": [
      "\u001b[0;31m---------------------------------------------------------------------------\u001b[0m",
      "\u001b[0;31mAttributeError\u001b[0m                            Traceback (most recent call last)",
      "\u001b[0;32m/var/folders/jc/yjlzssws5x7f49vhns03xy3w0000gr/T/ipykernel_55207/587140104.py\u001b[0m in \u001b[0;36m<module>\u001b[0;34m\u001b[0m\n\u001b[1;32m      3\u001b[0m \u001b[0;34m\u001b[0m\u001b[0m\n\u001b[1;32m      4\u001b[0m \u001b[0;31m# Clean up the side var and make an index\u001b[0m\u001b[0;34m\u001b[0m\u001b[0;34m\u001b[0m\u001b[0;34m\u001b[0m\u001b[0m\n\u001b[0;32m----> 5\u001b[0;31m \u001b[0mnew_df\u001b[0m\u001b[0;34m[\u001b[0m\u001b[0;34m'SIDE'\u001b[0m\u001b[0;34m]\u001b[0m \u001b[0;34m=\u001b[0m \u001b[0mnew_df\u001b[0m\u001b[0;34m[\u001b[0m\u001b[0;34m'SIDE'\u001b[0m\u001b[0;34m]\u001b[0m\u001b[0;34m.\u001b[0m\u001b[0mcat\u001b[0m\u001b[0;34m.\u001b[0m\u001b[0mrename_categories\u001b[0m\u001b[0;34m(\u001b[0m\u001b[0;34m{\u001b[0m\u001b[0;34m'1: Right'\u001b[0m\u001b[0;34m:\u001b[0m \u001b[0;34m'RIGHT'\u001b[0m\u001b[0;34m,\u001b[0m \u001b[0;34m'2: Left'\u001b[0m\u001b[0;34m:\u001b[0m \u001b[0;34m'LEFT'\u001b[0m\u001b[0;34m}\u001b[0m\u001b[0;34m)\u001b[0m\u001b[0;34m\u001b[0m\u001b[0;34m\u001b[0m\u001b[0m\n\u001b[0m\u001b[1;32m      6\u001b[0m \u001b[0mnew_df\u001b[0m\u001b[0;34m.\u001b[0m\u001b[0mset_index\u001b[0m\u001b[0;34m(\u001b[0m\u001b[0;34m'SIDE'\u001b[0m\u001b[0;34m,\u001b[0m \u001b[0mappend\u001b[0m\u001b[0;34m=\u001b[0m\u001b[0;32mTrue\u001b[0m\u001b[0;34m,\u001b[0m \u001b[0minplace\u001b[0m\u001b[0;34m=\u001b[0m\u001b[0;32mTrue\u001b[0m\u001b[0;34m)\u001b[0m \u001b[0;31m#  Note that indices are NOT unique yet, Prj 15 and Prj 37 contain repeats\u001b[0m\u001b[0;34m\u001b[0m\u001b[0;34m\u001b[0m\u001b[0m\n",
      "\u001b[0;32m~/.pyenv/versions/3.9.6/envs/oai-data/lib/python3.9/site-packages/pandas/core/generic.py\u001b[0m in \u001b[0;36m__getattr__\u001b[0;34m(self, name)\u001b[0m\n\u001b[1;32m   5987\u001b[0m         ):\n\u001b[1;32m   5988\u001b[0m             \u001b[0;32mreturn\u001b[0m \u001b[0mself\u001b[0m\u001b[0;34m[\u001b[0m\u001b[0mname\u001b[0m\u001b[0;34m]\u001b[0m\u001b[0;34m\u001b[0m\u001b[0;34m\u001b[0m\u001b[0m\n\u001b[0;32m-> 5989\u001b[0;31m         \u001b[0;32mreturn\u001b[0m \u001b[0mobject\u001b[0m\u001b[0;34m.\u001b[0m\u001b[0m__getattribute__\u001b[0m\u001b[0;34m(\u001b[0m\u001b[0mself\u001b[0m\u001b[0;34m,\u001b[0m \u001b[0mname\u001b[0m\u001b[0;34m)\u001b[0m\u001b[0;34m\u001b[0m\u001b[0;34m\u001b[0m\u001b[0m\n\u001b[0m\u001b[1;32m   5990\u001b[0m \u001b[0;34m\u001b[0m\u001b[0m\n\u001b[1;32m   5991\u001b[0m     \u001b[0;32mdef\u001b[0m \u001b[0m__setattr__\u001b[0m\u001b[0;34m(\u001b[0m\u001b[0mself\u001b[0m\u001b[0;34m,\u001b[0m \u001b[0mname\u001b[0m\u001b[0;34m:\u001b[0m \u001b[0mstr\u001b[0m\u001b[0;34m,\u001b[0m \u001b[0mvalue\u001b[0m\u001b[0;34m)\u001b[0m \u001b[0;34m->\u001b[0m \u001b[0;32mNone\u001b[0m\u001b[0;34m:\u001b[0m\u001b[0;34m\u001b[0m\u001b[0;34m\u001b[0m\u001b[0m\n",
      "\u001b[0;32m~/.pyenv/versions/3.9.6/envs/oai-data/lib/python3.9/site-packages/pandas/core/accessor.py\u001b[0m in \u001b[0;36m__get__\u001b[0;34m(self, obj, cls)\u001b[0m\n\u001b[1;32m    222\u001b[0m             \u001b[0;31m# we're accessing the attribute of the class, i.e., Dataset.geo\u001b[0m\u001b[0;34m\u001b[0m\u001b[0;34m\u001b[0m\u001b[0;34m\u001b[0m\u001b[0m\n\u001b[1;32m    223\u001b[0m             \u001b[0;32mreturn\u001b[0m \u001b[0mself\u001b[0m\u001b[0;34m.\u001b[0m\u001b[0m_accessor\u001b[0m\u001b[0;34m\u001b[0m\u001b[0;34m\u001b[0m\u001b[0m\n\u001b[0;32m--> 224\u001b[0;31m         \u001b[0maccessor_obj\u001b[0m \u001b[0;34m=\u001b[0m \u001b[0mself\u001b[0m\u001b[0;34m.\u001b[0m\u001b[0m_accessor\u001b[0m\u001b[0;34m(\u001b[0m\u001b[0mobj\u001b[0m\u001b[0;34m)\u001b[0m\u001b[0;34m\u001b[0m\u001b[0;34m\u001b[0m\u001b[0m\n\u001b[0m\u001b[1;32m    225\u001b[0m         \u001b[0;31m# Replace the property with the accessor object. Inspired by:\u001b[0m\u001b[0;34m\u001b[0m\u001b[0;34m\u001b[0m\u001b[0;34m\u001b[0m\u001b[0m\n\u001b[1;32m    226\u001b[0m         \u001b[0;31m# https://www.pydanny.com/cached-property.html\u001b[0m\u001b[0;34m\u001b[0m\u001b[0;34m\u001b[0m\u001b[0;34m\u001b[0m\u001b[0m\n",
      "\u001b[0;32m~/.pyenv/versions/3.9.6/envs/oai-data/lib/python3.9/site-packages/pandas/core/arrays/categorical.py\u001b[0m in \u001b[0;36m__init__\u001b[0;34m(self, data)\u001b[0m\n\u001b[1;32m   2443\u001b[0m \u001b[0;34m\u001b[0m\u001b[0m\n\u001b[1;32m   2444\u001b[0m     \u001b[0;32mdef\u001b[0m \u001b[0m__init__\u001b[0m\u001b[0;34m(\u001b[0m\u001b[0mself\u001b[0m\u001b[0;34m,\u001b[0m \u001b[0mdata\u001b[0m\u001b[0;34m)\u001b[0m \u001b[0;34m->\u001b[0m \u001b[0;32mNone\u001b[0m\u001b[0;34m:\u001b[0m\u001b[0;34m\u001b[0m\u001b[0;34m\u001b[0m\u001b[0m\n\u001b[0;32m-> 2445\u001b[0;31m         \u001b[0mself\u001b[0m\u001b[0;34m.\u001b[0m\u001b[0m_validate\u001b[0m\u001b[0;34m(\u001b[0m\u001b[0mdata\u001b[0m\u001b[0;34m)\u001b[0m\u001b[0;34m\u001b[0m\u001b[0;34m\u001b[0m\u001b[0m\n\u001b[0m\u001b[1;32m   2446\u001b[0m         \u001b[0mself\u001b[0m\u001b[0;34m.\u001b[0m\u001b[0m_parent\u001b[0m \u001b[0;34m=\u001b[0m \u001b[0mdata\u001b[0m\u001b[0;34m.\u001b[0m\u001b[0mvalues\u001b[0m\u001b[0;34m\u001b[0m\u001b[0;34m\u001b[0m\u001b[0m\n\u001b[1;32m   2447\u001b[0m         \u001b[0mself\u001b[0m\u001b[0;34m.\u001b[0m\u001b[0m_index\u001b[0m \u001b[0;34m=\u001b[0m \u001b[0mdata\u001b[0m\u001b[0;34m.\u001b[0m\u001b[0mindex\u001b[0m\u001b[0;34m\u001b[0m\u001b[0;34m\u001b[0m\u001b[0m\n",
      "\u001b[0;32m~/.pyenv/versions/3.9.6/envs/oai-data/lib/python3.9/site-packages/pandas/core/arrays/categorical.py\u001b[0m in \u001b[0;36m_validate\u001b[0;34m(data)\u001b[0m\n\u001b[1;32m   2452\u001b[0m     \u001b[0;32mdef\u001b[0m \u001b[0m_validate\u001b[0m\u001b[0;34m(\u001b[0m\u001b[0mdata\u001b[0m\u001b[0;34m)\u001b[0m\u001b[0;34m:\u001b[0m\u001b[0;34m\u001b[0m\u001b[0;34m\u001b[0m\u001b[0m\n\u001b[1;32m   2453\u001b[0m         \u001b[0;32mif\u001b[0m \u001b[0;32mnot\u001b[0m \u001b[0mis_categorical_dtype\u001b[0m\u001b[0;34m(\u001b[0m\u001b[0mdata\u001b[0m\u001b[0;34m.\u001b[0m\u001b[0mdtype\u001b[0m\u001b[0;34m)\u001b[0m\u001b[0;34m:\u001b[0m\u001b[0;34m\u001b[0m\u001b[0;34m\u001b[0m\u001b[0m\n\u001b[0;32m-> 2454\u001b[0;31m             \u001b[0;32mraise\u001b[0m \u001b[0mAttributeError\u001b[0m\u001b[0;34m(\u001b[0m\u001b[0;34m\"Can only use .cat accessor with a 'category' dtype\"\u001b[0m\u001b[0;34m)\u001b[0m\u001b[0;34m\u001b[0m\u001b[0;34m\u001b[0m\u001b[0m\n\u001b[0m\u001b[1;32m   2455\u001b[0m \u001b[0;34m\u001b[0m\u001b[0m\n\u001b[1;32m   2456\u001b[0m     \u001b[0;32mdef\u001b[0m \u001b[0m_delegate_property_get\u001b[0m\u001b[0;34m(\u001b[0m\u001b[0mself\u001b[0m\u001b[0;34m,\u001b[0m \u001b[0mname\u001b[0m\u001b[0;34m)\u001b[0m\u001b[0;34m:\u001b[0m\u001b[0;34m\u001b[0m\u001b[0;34m\u001b[0m\u001b[0m\n",
      "\u001b[0;31mAttributeError\u001b[0m: Can only use .cat accessor with a 'category' dtype"
     ]
    }
   ],
   "source": [
    "# Data cleanup\n",
    "new_df['BARCDBU'] = new_df['BARCDBU'].cat.rename_categories({'           T': 'T'})\n",
    "\n",
    "# Clean up the side var and make an index\n",
    "new_df['SIDE'] = new_df['SIDE'].cat.rename_categories({'1: Right': 'RIGHT', '2: Left': 'LEFT'})\n",
    "new_df.set_index('SIDE', append=True, inplace=True) #  Note that indices are NOT unique yet, Prj 15 and Prj 37 contain repeats"
   ]
  },
  {
   "cell_type": "code",
   "execution_count": null,
   "id": "722ff328",
   "metadata": {
    "execution": {
     "iopub.status.busy": "2023-12-21T23:41:42.516961Z",
     "iopub.status.idle": "2023-12-21T23:41:42.517230Z",
     "shell.execute_reply": "2023-12-21T23:41:42.517088Z",
     "shell.execute_reply.started": "2023-12-21T23:41:42.517074Z"
    },
    "tags": []
   },
   "outputs": [],
   "source": [
    "sanity_check(new_df)\n",
    "print()\n",
    "print(new_df.dtypes)\n",
    "if not missing_df.empty:\n",
    "    print('\\nMissing values present, shadow dataframe created.')\n",
    "    print(missing_df)"
   ]
  },
  {
   "cell_type": "code",
   "execution_count": null,
   "id": "5af504a8",
   "metadata": {
    "execution": {
     "iopub.status.busy": "2023-12-21T23:41:42.518484Z",
     "iopub.status.idle": "2023-12-21T23:41:42.519112Z",
     "shell.execute_reply": "2023-12-21T23:41:42.518869Z",
     "shell.execute_reply.started": "2023-12-21T23:41:42.518848Z"
    },
    "pycharm": {
     "name": "#%%\n"
    },
    "tags": []
   },
   "outputs": [],
   "source": [
    "print('\\nFinal dataframe size: {:.2f}MB'.format(new_df.memory_usage(deep=True).sum() / (1024**2)))\n",
    "print('Shadow dataframe size: {:.2f}MB'.format(missing_df.memory_usage(deep=True).sum() / (1024**2)))"
   ]
  },
  {
   "cell_type": "code",
   "execution_count": null,
   "id": "fee4cdc8-5cea-414a-a1e5-fc2224fda3f7",
   "metadata": {
    "execution": {
     "iopub.status.busy": "2023-12-21T23:41:42.520218Z",
     "iopub.status.idle": "2023-12-21T23:41:42.520797Z",
     "shell.execute_reply": "2023-12-21T23:41:42.520612Z",
     "shell.execute_reply.started": "2023-12-21T23:41:42.520591Z"
    },
    "tags": []
   },
   "outputs": [],
   "source": [
    "used_vals = set()\n",
    "for col in new_df.columns:\n",
    "    if col not in ['VERSION', 'READPRJ', 'BARCDBU', 'XRJSM', 'XRJSL']:\n",
    "        tmp = new_df[col].value_counts()\n",
    "        tmp = tmp[tmp > 0]\n",
    "        used_vals |= set(list(tmp.index))\n",
    "        \n",
    "used_vals"
   ]
  },
  {
   "cell_type": "code",
   "execution_count": null,
   "id": "25d1afe2-62a5-4d04-8c1c-fb6d5adf6763",
   "metadata": {
    "execution": {
     "iopub.status.busy": "2023-12-21T23:41:42.522041Z",
     "iopub.status.idle": "2023-12-21T23:41:42.522454Z",
     "shell.execute_reply": "2023-12-21T23:41:42.522267Z",
     "shell.execute_reply.started": "2023-12-21T23:41:42.522247Z"
    },
    "tags": []
   },
   "outputs": [],
   "source": [
    "utils.write_parquet(new_df, 'data/' + prefix + '_values.parquet')\n",
    "if not missing_df.empty:\n",
    "    utils.write_parquet(new_df, 'data/' + prefix + '_missing_values.parquet', verbose=False)"
   ]
  },
  {
   "cell_type": "markdown",
   "id": "c00c59db",
   "metadata": {
    "tags": []
   },
   "source": [
    "## kxr_sq_rel_bu"
   ]
  },
  {
   "cell_type": "code",
   "execution_count": null,
   "id": "5f759f1c",
   "metadata": {
    "execution": {
     "iopub.status.busy": "2023-12-21T21:05:48.969137Z",
     "iopub.status.idle": "2023-12-21T21:05:48.969727Z",
     "shell.execute_reply": "2023-12-21T21:05:48.969521Z",
     "shell.execute_reply.started": "2023-12-21T21:05:48.969499Z"
    },
    "pycharm": {
     "name": "#%%\n"
    },
    "tags": []
   },
   "outputs": [],
   "source": [
    "prefix = 'kxr_sq_rel_bu'\n",
    "column_uniformity_check(prefix)"
   ]
  },
  {
   "cell_type": "code",
   "execution_count": null,
   "id": "8562b0cb",
   "metadata": {
    "execution": {
     "iopub.status.busy": "2023-12-21T21:05:48.971240Z",
     "iopub.status.idle": "2023-12-21T21:05:48.971674Z",
     "shell.execute_reply": "2023-12-21T21:05:48.971492Z",
     "shell.execute_reply.started": "2023-12-21T21:05:48.971474Z"
    },
    "pycharm": {
     "name": "#%%\n"
    },
    "tags": []
   },
   "outputs": [],
   "source": [
    "tmp_df = create_df(prefix)\n",
    "print(tmp_df.shape)\n",
    "print('\\nStarting dataframe size: {:.2f}MB'.format(tmp_df.memory_usage(deep=True).sum() / (1024**2)))"
   ]
  },
  {
   "cell_type": "code",
   "execution_count": null,
   "id": "21dc54df",
   "metadata": {
    "execution": {
     "iopub.status.busy": "2023-12-21T21:05:48.972818Z",
     "iopub.status.idle": "2023-12-21T21:05:48.973291Z",
     "shell.execute_reply": "2023-12-21T21:05:48.973079Z",
     "shell.execute_reply.started": "2023-12-21T21:05:48.973057Z"
    },
    "pycharm": {
     "name": "#%%\n"
    },
    "tags": []
   },
   "outputs": [],
   "source": [
    "data_stats_df, done_df = gather_column_data_stats(tmp_df)"
   ]
  },
  {
   "cell_type": "code",
   "execution_count": null,
   "id": "c1b32ab9",
   "metadata": {
    "execution": {
     "iopub.status.busy": "2023-12-21T21:05:48.974486Z",
     "iopub.status.idle": "2023-12-21T21:05:48.975030Z",
     "shell.execute_reply": "2023-12-21T21:05:48.974839Z",
     "shell.execute_reply.started": "2023-12-21T21:05:48.974817Z"
    },
    "pycharm": {
     "name": "#%%\n"
    },
    "tags": []
   },
   "outputs": [],
   "source": [
    "data_stats_summary(tmp_df, data_stats_df)\n",
    "data_stats_df"
   ]
  },
  {
   "cell_type": "code",
   "execution_count": null,
   "id": "89ace83e",
   "metadata": {
    "execution": {
     "iopub.status.busy": "2023-12-21T21:05:48.976135Z",
     "iopub.status.idle": "2023-12-21T21:05:48.976811Z",
     "shell.execute_reply": "2023-12-21T21:05:48.976600Z",
     "shell.execute_reply.started": "2023-12-21T21:05:48.976564Z"
    },
    "pycharm": {
     "name": "#%%\n"
    },
    "tags": []
   },
   "outputs": [],
   "source": [
    "suggest_conversions(data_stats_df)"
   ]
  },
  {
   "cell_type": "code",
   "execution_count": null,
   "id": "e0ecc0d4",
   "metadata": {
    "execution": {
     "iopub.status.busy": "2023-12-21T21:05:48.978016Z",
     "iopub.status.idle": "2023-12-21T21:05:48.978535Z",
     "shell.execute_reply": "2023-12-21T21:05:48.978327Z",
     "shell.execute_reply.started": "2023-12-21T21:05:48.978305Z"
    },
    "pycharm": {
     "name": "#%%\n"
    },
    "tags": []
   },
   "outputs": [],
   "source": [
    "targets = {\n",
    "# Columns with only floats, missing, and NA values\n",
    "'float': ['XRJSM', 'XRJSL'],\n",
    "\n",
    "# Columns with only strings, missing, and NA values\n",
    "'cat': ['BARCDBU'],\n",
    "\n",
    "}\n",
    "\n",
    "new_df, missing_df = convert_columns(targets, data_stats_df, tmp_df)"
   ]
  },
  {
   "cell_type": "code",
   "execution_count": null,
   "id": "367bafb8-74e0-4a4f-8b19-658a0720e29e",
   "metadata": {
    "execution": {
     "iopub.status.busy": "2023-12-21T21:05:48.980055Z",
     "iopub.status.idle": "2023-12-21T21:05:48.980550Z",
     "shell.execute_reply": "2023-12-21T21:05:48.980282Z",
     "shell.execute_reply.started": "2023-12-21T21:05:48.980259Z"
    },
    "tags": []
   },
   "outputs": [],
   "source": [
    "# Data cleanup \n",
    "new_df.loc[idx[new_df['READPRJ'] == '42'], 'READPRJ'] = '37'\n",
    "new_df.loc[new_df['READPRJ'] == '15', 'READPRJ'] = 15       \n",
    "new_df.loc[new_df['READPRJ'] == '37', 'READPRJ'] = 37\n",
    "new_df['READPRJ'] = new_df['READPRJ'].astype('category')"
   ]
  },
  {
   "cell_type": "code",
   "execution_count": null,
   "id": "98ab438f-71d9-4627-afda-2b66dee41b73",
   "metadata": {
    "execution": {
     "iopub.status.busy": "2023-12-21T21:05:48.981825Z",
     "iopub.status.idle": "2023-12-21T21:05:48.982503Z",
     "shell.execute_reply": "2023-12-21T21:05:48.982133Z",
     "shell.execute_reply.started": "2023-12-21T21:05:48.982101Z"
    },
    "tags": []
   },
   "outputs": [],
   "source": [
    "# Clean up the side var and make an index\n",
    "new_df['SIDE'] = new_df['SIDE'].cat.rename_categories({'1: Right': 'RIGHT', '2: Left': 'LEFT'})\n",
    "new_df.set_index('SIDE', append=True, inplace=True) #  Note that indices are unique yet, Prj 15 and Prj 37 contain repeats"
   ]
  },
  {
   "cell_type": "code",
   "execution_count": null,
   "id": "90c79936-8a86-4a3c-b6a2-b30029f83e9f",
   "metadata": {
    "execution": {
     "iopub.status.busy": "2023-12-21T21:05:48.984099Z",
     "iopub.status.idle": "2023-12-21T21:05:48.984559Z",
     "shell.execute_reply": "2023-12-21T21:05:48.984356Z",
     "shell.execute_reply.started": "2023-12-21T21:05:48.984334Z"
    },
    "tags": []
   },
   "outputs": [],
   "source": [
    "# Convert the numeric strings to actual ints\n",
    "for col in new_df.columns:\n",
    "    if col not in ['VERSION', 'READPRJ', 'BARCDBU', 'XRJSM', 'XRJSL']:\n",
    "        new_df[col] = new_df[col].cat.rename_categories({'0: 0': 0, '1: 1': 1, '2: 2': 2, '3: 3': 3, '4: 4': 4})"
   ]
  },
  {
   "cell_type": "code",
   "execution_count": null,
   "id": "2cd16e71",
   "metadata": {
    "execution": {
     "iopub.status.busy": "2023-12-21T21:05:48.986039Z",
     "iopub.status.idle": "2023-12-21T21:05:48.986541Z",
     "shell.execute_reply": "2023-12-21T21:05:48.986298Z",
     "shell.execute_reply.started": "2023-12-21T21:05:48.986280Z"
    },
    "pycharm": {
     "name": "#%%\n"
    },
    "tags": []
   },
   "outputs": [],
   "source": [
    "sanity_check(new_df)\n",
    "print()\n",
    "print(new_df.dtypes)\n",
    "if not missing_df.empty:\n",
    "    print('\\nMissing values present, shadow dataframe created.')\n",
    "    print(missing_df)"
   ]
  },
  {
   "cell_type": "code",
   "execution_count": null,
   "id": "b2b1f755",
   "metadata": {
    "execution": {
     "iopub.status.busy": "2023-12-21T21:05:48.988291Z",
     "iopub.status.idle": "2023-12-21T21:05:48.988754Z",
     "shell.execute_reply": "2023-12-21T21:05:48.988554Z",
     "shell.execute_reply.started": "2023-12-21T21:05:48.988536Z"
    },
    "pycharm": {
     "name": "#%%\n"
    },
    "tags": []
   },
   "outputs": [],
   "source": [
    "print('\\nFinal dataframe size: {:.2f}MB'.format(new_df.memory_usage(deep=True).sum() / (1024**2)))\n",
    "print('Shadow dataframe size: {:.2f}MB'.format(missing_df.memory_usage(deep=True).sum() / (1024**2)))"
   ]
  },
  {
   "cell_type": "code",
   "execution_count": null,
   "id": "243fe8d4-1746-4bdf-8cc3-8d4ec049c6a7",
   "metadata": {
    "execution": {
     "iopub.status.busy": "2023-12-21T21:05:48.990045Z",
     "iopub.status.idle": "2023-12-21T21:05:48.990530Z",
     "shell.execute_reply": "2023-12-21T21:05:48.990330Z",
     "shell.execute_reply.started": "2023-12-21T21:05:48.990308Z"
    },
    "tags": []
   },
   "outputs": [],
   "source": [
    "utils.write_parquet(new_df, 'data/' + prefix + '_values.parquet')\n",
    "if not missing_df.empty:\n",
    "    utils.write_parquet(new_df, 'data/' + prefix + '_missing_values.parquet', verbose=False)"
   ]
  },
  {
   "cell_type": "markdown",
   "id": "f5e98b35",
   "metadata": {
    "tags": []
   },
   "source": [
    "## measinventory"
   ]
  },
  {
   "cell_type": "code",
   "execution_count": 405,
   "id": "9eef773d",
   "metadata": {
    "execution": {
     "iopub.execute_input": "2023-12-22T01:19:39.065782Z",
     "iopub.status.busy": "2023-12-22T01:19:39.065513Z",
     "iopub.status.idle": "2023-12-22T01:19:40.368851Z",
     "shell.execute_reply": "2023-12-22T01:19:40.368017Z",
     "shell.execute_reply.started": "2023-12-22T01:19:39.065760Z"
    },
    "pycharm": {
     "name": "#%%\n"
    },
    "tags": []
   },
   "outputs": [
    {
     "name": "stdout",
     "output_type": "stream",
     "text": [
      "\n",
      "measinventory.sas7bdat: (4796, 381)\n",
      "['id', 'VERSION', 'cohort', 'AGE', 'SEX', 'RACE', 'HISP', 'VisitType12', 'VisitType18', 'VisitType24', 'VisitType30', 'VisitType36', 'VisitType48', 'VisitType60', 'VisitType72', 'VisitType84', 'VisitType96', 'VisitType108', 'XRKLR', 'OAGRDR', 'RKSX', 'IndexKneeR', 'InC03_BLR', 'InC04_BLR', 'InC07_BLR', 'InC08_BLR', 'InC09_BLR', 'InC10_BLR', 'InC15_BLR', 'InC16_BLR', 'InC17_BLR', 'InC18_BLR', 'InC22_BLR', 'InC37_BLR', 'InC39_BLR', 'InC40_BLR', 'InC60_BLR', 'InC63_BLR', 'InC65_BLR', 'InC66_BLR', 'InC30_BLR', 'InC03_12mR', 'InC04_12mR', 'InC07_12mR', 'InC08_12mR', 'InC09_12mR', 'InC10_12mR', 'InC15_12mR', 'InC16_12mR', 'InC17_12mR', 'InC18_12mR', 'InC22_12mR', 'InC32_12mR', 'InC37_12mR', 'InC39_12mR', 'InC40_12mR', 'InC60_12mR', 'InC61_12mR', 'InC63_12mR', 'InC65_12mR', 'InC66_12mR', 'InC03_24mR', 'InC04_24mR', 'InC07_24mR', 'InC08_24mR', 'InC09_24mR', 'InC10_24mR', 'InC15_24mR', 'InC16_24mR', 'InC17_24mR', 'InC18_24mR', 'InC22_24mR', 'InC32_24mR', 'InC37_24mR', 'InC39_24mR', 'InC40_24mR', 'InC60_24mR', 'InC63_24mR', 'InC65_24mR', 'InC66_24mR', 'InC03_36mR', 'InC04_36mR', 'InC07_36mR', 'InC08_36mR', 'InC09_36mR', 'InC10_36mR', 'InC15_36mR', 'InC16_36mR', 'InC17_36mR', 'InC18_36mR', 'InC32_36mR', 'InC37_36mR', 'InC39_36mR', 'InC40_36mR', 'InC60_36mR', 'InC63_36mR', 'InC65_36mR', 'InC66_36mR', 'InC03_48mR', 'InC04_48mR', 'InC07_48mR', 'InC08_48mR', 'InC09_48mR', 'InC10_48mR', 'InC15_48mR', 'InC16_48mR', 'InC17_48mR', 'InC18_48mR', 'InC32_48mR', 'InC37_48mR', 'InC39_48mR', 'InC40_48mR', 'InC60_48mR', 'InC61_48mR', 'InC63_48mR', 'InC65_48mR', 'InC66_48mR', 'InC16_72mR', 'InC17_72mR', 'InC37_72mR', 'InC16_96mR', 'InC17_96mR', 'InC37_96mR', 'MRI_CoreRBL', 'MRI_CORIWRBL', 'MRI_SAGDSRBL', 'MRI_SAGIWRBL', 'MRI_AXMPRRBL', 'MRI_CORMPRRBL', 'MRI_T2MAPRBL', 'MRI_CORFLASHRBL', 'MRI_CoreR12m', 'MRI_CORIWR12m', 'MRI_SAGDSR12m', 'MRI_SAGIWR12m', 'MRI_AXMPRR12m', 'MRI_CORMPRR12m', 'MRI_T2MAPR12m', 'MRI_CORFLASHR12m', 'MRI_CoreR24m', 'MRI_CORIWR24m', 'MRI_SAGDSR24m', 'MRI_SAGIWR24m', 'MRI_AXMPRR24m', 'MRI_CORMPRR24m', 'MRI_T2MAPR24m', 'MRI_CORFLASHR24m', 'MRI_CoreR36m', 'MRI_CORIWR36m', 'MRI_SAGDSR36m', 'MRI_SAGIWR36m', 'MRI_AXMPRR36m', 'MRI_CORMPRR36m', 'MRI_T2MAPR36m', 'MRI_CORFLASHR36m', 'MRI_CoreR48m', 'MRI_CORIWR48m', 'MRI_SAGDSR48m', 'MRI_SAGIWR48m', 'MRI_AXMPRR48m', 'MRI_CORMPRR48m', 'MRI_T2MAPR48m', 'MRI_CORFLASHR48m', 'MRI_CoreR72m', 'MRI_CORIWR72m', 'MRI_SAGDSR72m', 'MRI_SAGIWR72m', 'MRI_AXMPRR72m', 'MRI_CORMPRR72m', 'MRI_T2MAPR72m', 'MRI_CORFLASHR72m', 'MRI_CoreR96m', 'MRI_CORIWR96m', 'MRI_SAGDSR96m', 'MRI_SAGIWR96m', 'MRI_AXMPRR96m', 'MRI_CORMPRR96m', 'MRI_T2MAPR96m', 'MRI_CORFLASHR96m', 'XRKLL', 'OAGRDL', 'LKSX', 'IndexKneeL', 'InC03_BLL', 'InC04_BLL', 'InC07_BLL', 'InC08_BLL', 'InC09_BLL', 'InC10_BLL', 'InC15_BLL', 'InC16_BLL', 'InC17_BLL', 'InC18_BLL', 'InC22_BLL', 'InC37_BLL', 'InC39_BLL', 'InC40_BLL', 'InC60_BLL', 'InC63_BLL', 'InC65_BLL', 'InC66_BLL', 'InC30_BLL', 'InC03_12mL', 'InC04_12mL', 'InC07_12mL', 'InC08_12mL', 'InC09_12mL', 'InC10_12mL', 'InC15_12mL', 'InC16_12mL', 'InC17_12mL', 'InC18_12mL', 'InC22_12mL', 'InC32_12mL', 'InC37_12mL', 'InC39_12mL', 'InC40_12mL', 'InC60_12mL', 'InC61_12mL', 'InC63_12mL', 'InC65_12mL', 'InC66_12mL', 'InC03_24mL', 'InC04_24mL', 'InC07_24mL', 'InC08_24mL', 'InC09_24mL', 'InC10_24mL', 'InC15_24mL', 'InC16_24mL', 'InC17_24mL', 'InC18_24mL', 'InC22_24mL', 'InC32_24mL', 'InC37_24mL', 'InC39_24mL', 'InC40_24mL', 'InC60_24mL', 'InC63_24mL', 'InC65_24mL', 'InC66_24mL', 'InC03_36mL', 'InC04_36mL', 'InC07_36mL', 'InC08_36mL', 'InC09_36mL', 'InC10_36mL', 'InC15_36mL', 'InC16_36mL', 'InC17_36mL', 'InC18_36mL', 'InC32_36mL', 'InC37_36mL', 'InC39_36mL', 'InC40_36mL', 'InC60_36mL', 'InC63_36mL', 'InC65_36mL', 'InC66_36mL', 'InC03_48mL', 'InC04_48mL', 'InC07_48mL', 'InC08_48mL', 'InC09_48mL', 'InC10_48mL', 'InC15_48mL', 'InC16_48mL', 'InC17_48mL', 'InC18_48mL', 'InC32_48mL', 'InC37_48mL', 'InC39_48mL', 'InC40_48mL', 'InC60_48mL', 'InC61_48mL', 'InC63_48mL', 'InC65_48mL', 'InC66_48mL', 'InC16_72mL', 'InC17_72mL', 'InC37_72mL', 'InC16_96mL', 'InC17_96mL', 'InC37_96mL', 'MRI_CoreLBL', 'MRI_CORIWLBL', 'MRI_SAGDSLBL', 'MRI_SAGIWLBL', 'MRI_AXMPRLBL', 'MRI_CORMPRLBL', 'MRI_T2MAPLBL', 'MRI_CORFLASHLBL', 'MRI_THIGHBL', 'MRI_CoreL12m', 'MRI_CORIWL12m', 'MRI_SAGDSL12m', 'MRI_SAGIWL12m', 'MRI_AXMPRL12m', 'MRI_CORMPRL12m', 'MRI_T2MAPL12m', 'MRI_CORFLASHL12m', 'MRI_THIGH12m', 'MRI_CoreL24m', 'MRI_CORIWL24m', 'MRI_SAGDSL24m', 'MRI_SAGIWL24m', 'MRI_AXMPRL24m', 'MRI_CORMPRL24m', 'MRI_T2MAPL24m', 'MRI_CORFLASHL24m', 'MRI_THIGH24m', 'MRI_CoreL36m', 'MRI_CORIWL36m', 'MRI_SAGDSL36m', 'MRI_SAGIWL36m', 'MRI_AXMPRL36m', 'MRI_CORMPRL36m', 'MRI_T2MAPL36m', 'MRI_CORFLASHL36m', 'MRI_THIGH36m', 'MRI_CoreL48m', 'MRI_CORIWL48m', 'MRI_SAGDSL48m', 'MRI_SAGIWL48m', 'MRI_AXMPRL48m', 'MRI_CORMPRL48m', 'MRI_T2MAPL48m', 'MRI_CORFLASHL48m', 'MRI_THIGH48m', 'MRI_CoreL72m', 'MRI_CORIWL72m', 'MRI_SAGDSL72m', 'MRI_SAGIWL72m', 'MRI_AXMPRL72m', 'MRI_CORMPRL72m', 'MRI_T2MAPL72m', 'MRI_CORFLASHL72m', 'MRI_THIGH72m', 'MRI_CoreL96m', 'MRI_CORIWL96m', 'MRI_SAGDSL96m', 'MRI_SAGIWL96m', 'MRI_AXMPRL96m', 'MRI_CORMPRL96m', 'MRI_T2MAPL96m', 'MRI_CORFLASHL96m', 'MRI_THIGH96m', 'Xray_BL', 'Xray_12m', 'Xray_24m', 'Xray_36m', 'Xray_48m', 'Xray_72m', 'Xray_96m', 'FullLimb_12m', 'FullLimb_24m', 'FullLimb_36m', 'FullLimb_48m', 'Pelvis_BL', 'Pelvis_12m', 'Pelvis_48m', 'Pelvis_96m', 'InC62_McBone', 'RADX_Visit', 'InBio01', 'ERKBLRP', 'ELKBLRP', 'ERKRPCF', 'ELKRPCF', 'ERKRPSN', 'ELKRPSN', 'ERHBLRP', 'ELHBLRP', 'ERHRPCF', 'ELHRPCF', 'ERHRPSN', 'ELHRPSN', 'ERKVSRP', 'ELKVSRP', 'ERHVSRP', 'ELHVSRP']\n",
      "\n",
      "Total rows: 4796\n"
     ]
    }
   ],
   "source": [
    "prefix = 'measinventory'\n",
    "column_uniformity_check(prefix)"
   ]
  },
  {
   "cell_type": "code",
   "execution_count": 406,
   "id": "ca8e8779",
   "metadata": {
    "execution": {
     "iopub.execute_input": "2023-12-22T01:19:40.370953Z",
     "iopub.status.busy": "2023-12-22T01:19:40.370602Z",
     "iopub.status.idle": "2023-12-22T01:19:41.767639Z",
     "shell.execute_reply": "2023-12-22T01:19:41.767008Z",
     "shell.execute_reply.started": "2023-12-22T01:19:40.370923Z"
    },
    "pycharm": {
     "name": "#%%\n"
    },
    "tags": []
   },
   "outputs": [
    {
     "name": "stdout",
     "output_type": "stream",
     "text": [
      "measinventory.sas7bdat\tVar Cnt: 381\n",
      "Visits: ['P01', 'P02', 'V00', 'V99']\n",
      "(19184, 29)\n",
      "\n",
      "Starting dataframe size: 0.95MB\n"
     ]
    }
   ],
   "source": [
    "tmp_df = create_df(prefix)\n",
    "print(tmp_df.shape)\n",
    "print('\\nStarting dataframe size: {:.2f}MB'.format(tmp_df.memory_usage(deep=True).sum() / (1024**2)))"
   ]
  },
  {
   "cell_type": "code",
   "execution_count": 407,
   "id": "3ce029ec",
   "metadata": {
    "execution": {
     "iopub.execute_input": "2023-12-22T01:19:41.768989Z",
     "iopub.status.busy": "2023-12-22T01:19:41.768693Z",
     "iopub.status.idle": "2023-12-22T01:19:41.784567Z",
     "shell.execute_reply": "2023-12-22T01:19:41.783964Z",
     "shell.execute_reply.started": "2023-12-22T01:19:41.768963Z"
    },
    "pycharm": {
     "name": "#%%\n"
    },
    "tags": []
   },
   "outputs": [],
   "source": [
    "data_stats_df, done_df = gather_column_data_stats(tmp_df)"
   ]
  },
  {
   "cell_type": "code",
   "execution_count": 408,
   "id": "3cbc2abe",
   "metadata": {
    "execution": {
     "iopub.execute_input": "2023-12-22T01:19:41.787078Z",
     "iopub.status.busy": "2023-12-22T01:19:41.786856Z",
     "iopub.status.idle": "2023-12-22T01:19:41.806468Z",
     "shell.execute_reply": "2023-12-22T01:19:41.805956Z",
     "shell.execute_reply.started": "2023-12-22T01:19:41.787054Z"
    },
    "pycharm": {
     "name": "#%%\n"
    },
    "tags": []
   },
   "outputs": [
    {
     "name": "stdout",
     "output_type": "stream",
     "text": [
      "Already defined cols: 28 \tCols to convert: 1\t Total col cnt: 29\n",
      "\n",
      "Column types to convert:\n",
      "   str_cnt  num_cnt  date_cnt  na_cnt  count\n",
      "0    False     True     False    True      1\n",
      "\n",
      "Numeric types of columns:\n",
      "num_type\n",
      "unsigned    1\n",
      "Name: count, dtype: int64\n",
      "\n",
      "Largest number of unique strings: 0\n"
     ]
    },
    {
     "data": {
      "text/html": [
       "<div>\n",
       "<style scoped>\n",
       "    .dataframe tbody tr th:only-of-type {\n",
       "        vertical-align: middle;\n",
       "    }\n",
       "\n",
       "    .dataframe tbody tr th {\n",
       "        vertical-align: top;\n",
       "    }\n",
       "\n",
       "    .dataframe thead th {\n",
       "        text-align: right;\n",
       "    }\n",
       "</style>\n",
       "<table border=\"1\" class=\"dataframe\">\n",
       "  <thead>\n",
       "    <tr style=\"text-align: right;\">\n",
       "      <th></th>\n",
       "      <th>label</th>\n",
       "      <th>uniq_strs</th>\n",
       "      <th>str_list</th>\n",
       "      <th>missing_val_cnt</th>\n",
       "      <th>missing_val_list</th>\n",
       "      <th>numeric_str</th>\n",
       "      <th>num_type</th>\n",
       "      <th>uniq_num</th>\n",
       "      <th>max_num</th>\n",
       "      <th>min_num</th>\n",
       "      <th>str_cnt</th>\n",
       "      <th>num_cnt</th>\n",
       "      <th>date_cnt</th>\n",
       "      <th>na_cnt</th>\n",
       "    </tr>\n",
       "    <tr>\n",
       "      <th>col</th>\n",
       "      <th></th>\n",
       "      <th></th>\n",
       "      <th></th>\n",
       "      <th></th>\n",
       "      <th></th>\n",
       "      <th></th>\n",
       "      <th></th>\n",
       "      <th></th>\n",
       "      <th></th>\n",
       "      <th></th>\n",
       "      <th></th>\n",
       "      <th></th>\n",
       "      <th></th>\n",
       "      <th></th>\n",
       "    </tr>\n",
       "  </thead>\n",
       "  <tbody>\n",
       "    <tr>\n",
       "      <th>AGE</th>\n",
       "      <td>None</td>\n",
       "      <td>0</td>\n",
       "      <td>None</td>\n",
       "      <td>0</td>\n",
       "      <td>None</td>\n",
       "      <td>None</td>\n",
       "      <td>unsigned</td>\n",
       "      <td>36</td>\n",
       "      <td>79.0</td>\n",
       "      <td>45.0</td>\n",
       "      <td>0</td>\n",
       "      <td>4796</td>\n",
       "      <td>0</td>\n",
       "      <td>14388</td>\n",
       "    </tr>\n",
       "  </tbody>\n",
       "</table>\n",
       "</div>"
      ],
      "text/plain": [
       "    label  uniq_strs str_list  missing_val_cnt missing_val_list numeric_str  \\\n",
       "col                                                                           \n",
       "AGE  None          0     None                0             None        None   \n",
       "\n",
       "     num_type  uniq_num  max_num  min_num  str_cnt  num_cnt  date_cnt  na_cnt  \n",
       "col                                                                            \n",
       "AGE  unsigned        36     79.0     45.0        0     4796         0   14388  "
      ]
     },
     "execution_count": 408,
     "metadata": {},
     "output_type": "execute_result"
    }
   ],
   "source": [
    "data_stats_summary(tmp_df, data_stats_df)\n",
    "data_stats_df"
   ]
  },
  {
   "cell_type": "code",
   "execution_count": 409,
   "id": "ab4d7277",
   "metadata": {
    "execution": {
     "iopub.execute_input": "2023-12-22T01:19:41.807505Z",
     "iopub.status.busy": "2023-12-22T01:19:41.807364Z",
     "iopub.status.idle": "2023-12-22T01:19:41.816745Z",
     "shell.execute_reply": "2023-12-22T01:19:41.816211Z",
     "shell.execute_reply.started": "2023-12-22T01:19:41.807487Z"
    },
    "pycharm": {
     "name": "#%%\n"
    },
    "tags": []
   },
   "outputs": [
    {
     "name": "stdout",
     "output_type": "stream",
     "text": [
      "targets = {\n",
      "# Columns with only unsigned ints, missing, and NA values\n",
      "'unsigned': ['AGE'],\n",
      "\n",
      "}\n",
      "\n",
      "\n",
      "Handled columns: 1\n"
     ]
    }
   ],
   "source": [
    "suggest_conversions(data_stats_df)"
   ]
  },
  {
   "cell_type": "code",
   "execution_count": 410,
   "id": "2ffd7a8c",
   "metadata": {
    "execution": {
     "iopub.execute_input": "2023-12-22T01:19:41.818022Z",
     "iopub.status.busy": "2023-12-22T01:19:41.817700Z",
     "iopub.status.idle": "2023-12-22T01:19:41.834853Z",
     "shell.execute_reply": "2023-12-22T01:19:41.834282Z",
     "shell.execute_reply.started": "2023-12-22T01:19:41.818002Z"
    },
    "pycharm": {
     "name": "#%%\n"
    },
    "tags": []
   },
   "outputs": [],
   "source": [
    "targets = {\n",
    "# Columns with only unsigned ints, missing, and NA values\n",
    "'unsigned': ['AGE'],\n",
    "\n",
    "}\n",
    "\n",
    "new_df, missing_df = convert_columns(targets, data_stats_df, tmp_df)"
   ]
  },
  {
   "cell_type": "code",
   "execution_count": 411,
   "id": "66e177eb",
   "metadata": {
    "execution": {
     "iopub.execute_input": "2023-12-22T01:19:41.835831Z",
     "iopub.status.busy": "2023-12-22T01:19:41.835692Z",
     "iopub.status.idle": "2023-12-22T01:19:41.845604Z",
     "shell.execute_reply": "2023-12-22T01:19:41.844994Z",
     "shell.execute_reply.started": "2023-12-22T01:19:41.835813Z"
    },
    "pycharm": {
     "name": "#%%\n"
    },
    "tags": []
   },
   "outputs": [
    {
     "name": "stdout",
     "output_type": "stream",
     "text": [
      "\n",
      "VERSION    category\n",
      "OAGRDR     category\n",
      "RKSX       category\n",
      "OAGRDL     category\n",
      "LKSX       category\n",
      "SEX        category\n",
      "RACE       category\n",
      "HISP       category\n",
      "AGE           UInt8\n",
      "XRKLR      category\n",
      "XRKLL      category\n",
      "ERKBLRP    category\n",
      "ELKBLRP    category\n",
      "ERKRPCF    category\n",
      "ELKRPCF    category\n",
      "ERKRPSN    category\n",
      "ELKRPSN    category\n",
      "ERHBLRP    category\n",
      "ELHBLRP    category\n",
      "ERHRPCF    category\n",
      "ELHRPCF    category\n",
      "ERHRPSN    category\n",
      "ELHRPSN    category\n",
      "ERKVSRP    category\n",
      "ELKVSRP    category\n",
      "ERHVSRP    category\n",
      "ELHVSRP    category\n",
      "dtype: object\n"
     ]
    }
   ],
   "source": [
    "sanity_check(new_df)\n",
    "print()\n",
    "print(new_df.dtypes)\n",
    "if not missing_df.empty:\n",
    "    print('\\nMissing values present, shadow dataframe created.')\n",
    "    print(missing_df)"
   ]
  },
  {
   "cell_type": "code",
   "execution_count": 412,
   "id": "9b3b6a8d",
   "metadata": {
    "execution": {
     "iopub.execute_input": "2023-12-22T01:19:41.847019Z",
     "iopub.status.busy": "2023-12-22T01:19:41.846710Z",
     "iopub.status.idle": "2023-12-22T01:19:41.853465Z",
     "shell.execute_reply": "2023-12-22T01:19:41.852892Z",
     "shell.execute_reply.started": "2023-12-22T01:19:41.846995Z"
    },
    "pycharm": {
     "name": "#%%\n"
    },
    "tags": []
   },
   "outputs": [
    {
     "name": "stdout",
     "output_type": "stream",
     "text": [
      "\n",
      "Final dataframe size: 0.77MB\n",
      "Shadow dataframe size: 0.15MB\n"
     ]
    }
   ],
   "source": [
    "print('\\nFinal dataframe size: {:.2f}MB'.format(new_df.memory_usage(deep=True).sum() / (1024**2)))\n",
    "print('Shadow dataframe size: {:.2f}MB'.format(missing_df.memory_usage(deep=True).sum() / (1024**2)))"
   ]
  },
  {
   "cell_type": "code",
   "execution_count": 413,
   "id": "4a3383f9-3e7f-4a6c-b896-68723c05ccc9",
   "metadata": {
    "execution": {
     "iopub.execute_input": "2023-12-22T01:19:41.854749Z",
     "iopub.status.busy": "2023-12-22T01:19:41.854515Z",
     "iopub.status.idle": "2023-12-22T01:19:41.891228Z",
     "shell.execute_reply": "2023-12-22T01:19:41.890650Z",
     "shell.execute_reply.started": "2023-12-22T01:19:41.854727Z"
    },
    "tags": []
   },
   "outputs": [],
   "source": [
    "utils.write_parquet(new_df, 'data/' + prefix + '_values.parquet')\n",
    "if not missing_df.empty:\n",
    "    utils.write_parquet(new_df, 'data/' + prefix + '_missing_values.parquet', verbose=False)"
   ]
  },
  {
   "cell_type": "markdown",
   "id": "768b25dd",
   "metadata": {
    "tags": []
   },
   "source": [
    "## MIF"
   ]
  },
  {
   "cell_type": "code",
   "execution_count": 414,
   "id": "e70f2ee5",
   "metadata": {
    "execution": {
     "iopub.execute_input": "2023-12-22T01:19:42.255261Z",
     "iopub.status.busy": "2023-12-22T01:19:42.255025Z",
     "iopub.status.idle": "2023-12-22T01:19:52.129789Z",
     "shell.execute_reply": "2023-12-22T01:19:52.128966Z",
     "shell.execute_reply.started": "2023-12-22T01:19:42.255237Z"
    },
    "pycharm": {
     "name": "#%%\n"
    },
    "tags": []
   },
   "outputs": [
    {
     "name": "stdout",
     "output_type": "stream",
     "text": [
      "\n",
      "mif00.sas7bdat: (15578, 9)\n",
      "['ID', 'VERSION', 'MIFNAME', 'FRMCODE', 'MIFFREQ', 'MIFDUR', 'MIFUSE', 'INGCODE', 'INGNAME']\n",
      "\n",
      "mif01.sas7bdat: (14839, 9)\n",
      "\n",
      "mif02.sas7bdat: (1125, 9)\n",
      "\n",
      "mif03.sas7bdat: (14876, 9)\n",
      "\n",
      "mif04.sas7bdat: (1772, 9)\n",
      "\n",
      "mif05.sas7bdat: (15233, 9)\n",
      "\n",
      "mif06.sas7bdat: (15492, 9)\n",
      "\n",
      "mif08.sas7bdat: (14527, 9)\n",
      "\n",
      "mif10.sas7bdat: (14342, 9)\n",
      "\n",
      "Total rows: 107784\n"
     ]
    }
   ],
   "source": [
    "prefix = 'mif'\n",
    "column_uniformity_check(prefix)"
   ]
  },
  {
   "cell_type": "code",
   "execution_count": 415,
   "id": "b03402a5",
   "metadata": {
    "execution": {
     "iopub.execute_input": "2023-12-22T01:19:52.132403Z",
     "iopub.status.busy": "2023-12-22T01:19:52.132055Z",
     "iopub.status.idle": "2023-12-22T01:20:01.845717Z",
     "shell.execute_reply": "2023-12-22T01:20:01.845081Z",
     "shell.execute_reply.started": "2023-12-22T01:19:52.132375Z"
    },
    "pycharm": {
     "name": "#%%\n"
    },
    "tags": []
   },
   "outputs": [
    {
     "name": "stdout",
     "output_type": "stream",
     "text": [
      "mif00.sas7bdat\tVar Cnt: 9\n",
      "Visits: ['V00']\n",
      "mif01.sas7bdat\tVar Cnt: 9\n",
      "Visits: ['V01']\n",
      "mif02.sas7bdat\tVar Cnt: 9\n",
      "Visits: ['V02']\n",
      "mif03.sas7bdat\tVar Cnt: 9\n",
      "Visits: ['V03']\n",
      "mif04.sas7bdat\tVar Cnt: 9\n",
      "Visits: ['V04']\n",
      "mif05.sas7bdat\tVar Cnt: 9\n",
      "Visits: ['V05']\n",
      "mif06.sas7bdat\tVar Cnt: 9\n",
      "Visits: ['V06']\n",
      "mif08.sas7bdat\tVar Cnt: 9\n",
      "Visits: ['V08']\n",
      "mif10.sas7bdat\tVar Cnt: 9\n",
      "Visits: ['V10']\n",
      "(107784, 10)\n",
      "\n",
      "Starting dataframe size: 19.05MB\n"
     ]
    }
   ],
   "source": [
    "tmp_df = create_df(prefix)\n",
    "print(tmp_df.shape)\n",
    "print('\\nStarting dataframe size: {:.2f}MB'.format(tmp_df.memory_usage(deep=True).sum() / (1024**2)))"
   ]
  },
  {
   "cell_type": "code",
   "execution_count": 416,
   "id": "1db597ba",
   "metadata": {
    "execution": {
     "iopub.execute_input": "2023-12-22T01:20:01.847017Z",
     "iopub.status.busy": "2023-12-22T01:20:01.846727Z",
     "iopub.status.idle": "2023-12-22T01:20:02.238174Z",
     "shell.execute_reply": "2023-12-22T01:20:02.237563Z",
     "shell.execute_reply.started": "2023-12-22T01:20:01.846995Z"
    },
    "pycharm": {
     "name": "#%%\n"
    },
    "tags": []
   },
   "outputs": [],
   "source": [
    "data_stats_df, done_df = gather_column_data_stats(tmp_df)"
   ]
  },
  {
   "cell_type": "markdown",
   "id": "f80417e0",
   "metadata": {},
   "source": [
    "It isn't clear what to do with INGCODE, they seem to be 9 digits plus '.0' except for some values labelled 'M'"
   ]
  },
  {
   "cell_type": "code",
   "execution_count": 417,
   "id": "02d0468e",
   "metadata": {
    "execution": {
     "iopub.execute_input": "2023-12-22T01:20:02.240453Z",
     "iopub.status.busy": "2023-12-22T01:20:02.240227Z",
     "iopub.status.idle": "2023-12-22T01:20:02.264523Z",
     "shell.execute_reply": "2023-12-22T01:20:02.263929Z",
     "shell.execute_reply.started": "2023-12-22T01:20:02.240424Z"
    },
    "pycharm": {
     "name": "#%%\n"
    },
    "tags": []
   },
   "outputs": [
    {
     "name": "stdout",
     "output_type": "stream",
     "text": [
      "Already defined cols: 7 \tCols to convert: 3\t Total col cnt: 10\n",
      "\n",
      "Column types to convert:\n",
      "   str_cnt  num_cnt  date_cnt  na_cnt  count\n",
      "0     True    False     False   False      2\n",
      "1     True     True     False   False      1\n",
      "\n",
      "Numeric types of columns:\n",
      "num_type\n",
      "unsigned    1\n",
      "Name: count, dtype: int64\n",
      "\n",
      "Largest number of unique strings: 10749\n"
     ]
    },
    {
     "data": {
      "text/html": [
       "<div>\n",
       "<style scoped>\n",
       "    .dataframe tbody tr th:only-of-type {\n",
       "        vertical-align: middle;\n",
       "    }\n",
       "\n",
       "    .dataframe tbody tr th {\n",
       "        vertical-align: top;\n",
       "    }\n",
       "\n",
       "    .dataframe thead th {\n",
       "        text-align: right;\n",
       "    }\n",
       "</style>\n",
       "<table border=\"1\" class=\"dataframe\">\n",
       "  <thead>\n",
       "    <tr style=\"text-align: right;\">\n",
       "      <th></th>\n",
       "      <th>label</th>\n",
       "      <th>uniq_strs</th>\n",
       "      <th>str_list</th>\n",
       "      <th>missing_val_cnt</th>\n",
       "      <th>missing_val_list</th>\n",
       "      <th>numeric_str</th>\n",
       "      <th>num_type</th>\n",
       "      <th>uniq_num</th>\n",
       "      <th>max_num</th>\n",
       "      <th>min_num</th>\n",
       "      <th>str_cnt</th>\n",
       "      <th>num_cnt</th>\n",
       "      <th>date_cnt</th>\n",
       "      <th>na_cnt</th>\n",
       "    </tr>\n",
       "    <tr>\n",
       "      <th>col</th>\n",
       "      <th></th>\n",
       "      <th></th>\n",
       "      <th></th>\n",
       "      <th></th>\n",
       "      <th></th>\n",
       "      <th></th>\n",
       "      <th></th>\n",
       "      <th></th>\n",
       "      <th></th>\n",
       "      <th></th>\n",
       "      <th></th>\n",
       "      <th></th>\n",
       "      <th></th>\n",
       "      <th></th>\n",
       "    </tr>\n",
       "  </thead>\n",
       "  <tbody>\n",
       "    <tr>\n",
       "      <th>MIFNAME</th>\n",
       "      <td>EV:MIF: medication name</td>\n",
       "      <td>10749</td>\n",
       "      <td>{BENAZPRIL HCTZ, HYDROCO-APAPS-500, PROPOX-NIA...</td>\n",
       "      <td>0</td>\n",
       "      <td>{}</td>\n",
       "      <td>False</td>\n",
       "      <td>None</td>\n",
       "      <td>NaN</td>\n",
       "      <td>NaN</td>\n",
       "      <td>NaN</td>\n",
       "      <td>107784</td>\n",
       "      <td>0</td>\n",
       "      <td>0</td>\n",
       "      <td>0</td>\n",
       "    </tr>\n",
       "    <tr>\n",
       "      <th>INGCODE</th>\n",
       "      <td>EV:MIF: medication ingredient code (calc)</td>\n",
       "      <td>0</td>\n",
       "      <td>{}</td>\n",
       "      <td>1</td>\n",
       "      <td>{M}</td>\n",
       "      <td>False</td>\n",
       "      <td>unsigned</td>\n",
       "      <td>928.0</td>\n",
       "      <td>99999999.0</td>\n",
       "      <td>2000002.0</td>\n",
       "      <td>1</td>\n",
       "      <td>107783</td>\n",
       "      <td>0</td>\n",
       "      <td>0</td>\n",
       "    </tr>\n",
       "    <tr>\n",
       "      <th>INGNAME</th>\n",
       "      <td>EV:MIF: medication ingredient name (calc)</td>\n",
       "      <td>929</td>\n",
       "      <td>{, HALAZEPAM, METHYLTESTOSTERONE, ERGOTAMINE, ...</td>\n",
       "      <td>0</td>\n",
       "      <td>{}</td>\n",
       "      <td>False</td>\n",
       "      <td>None</td>\n",
       "      <td>NaN</td>\n",
       "      <td>NaN</td>\n",
       "      <td>NaN</td>\n",
       "      <td>107784</td>\n",
       "      <td>0</td>\n",
       "      <td>0</td>\n",
       "      <td>0</td>\n",
       "    </tr>\n",
       "  </tbody>\n",
       "</table>\n",
       "</div>"
      ],
      "text/plain": [
       "                                             label  uniq_strs  \\\n",
       "col                                                             \n",
       "MIFNAME                    EV:MIF: medication name      10749   \n",
       "INGCODE  EV:MIF: medication ingredient code (calc)          0   \n",
       "INGNAME  EV:MIF: medication ingredient name (calc)        929   \n",
       "\n",
       "                                                  str_list  missing_val_cnt  \\\n",
       "col                                                                           \n",
       "MIFNAME  {BENAZPRIL HCTZ, HYDROCO-APAPS-500, PROPOX-NIA...                0   \n",
       "INGCODE                                                 {}                1   \n",
       "INGNAME  {, HALAZEPAM, METHYLTESTOSTERONE, ERGOTAMINE, ...                0   \n",
       "\n",
       "        missing_val_list  numeric_str  num_type  uniq_num     max_num  \\\n",
       "col                                                                     \n",
       "MIFNAME               {}        False      None       NaN         NaN   \n",
       "INGCODE              {M}        False  unsigned     928.0  99999999.0   \n",
       "INGNAME               {}        False      None       NaN         NaN   \n",
       "\n",
       "           min_num  str_cnt  num_cnt  date_cnt  na_cnt  \n",
       "col                                                     \n",
       "MIFNAME        NaN   107784        0         0       0  \n",
       "INGCODE  2000002.0        1   107783         0       0  \n",
       "INGNAME        NaN   107784        0         0       0  "
      ]
     },
     "execution_count": 417,
     "metadata": {},
     "output_type": "execute_result"
    }
   ],
   "source": [
    "data_stats_summary(tmp_df, data_stats_df)\n",
    "\n",
    "data_stats_df"
   ]
  },
  {
   "cell_type": "code",
   "execution_count": 418,
   "id": "a18c569a",
   "metadata": {
    "execution": {
     "iopub.execute_input": "2023-12-22T01:20:02.265717Z",
     "iopub.status.busy": "2023-12-22T01:20:02.265574Z",
     "iopub.status.idle": "2023-12-22T01:20:02.275329Z",
     "shell.execute_reply": "2023-12-22T01:20:02.274590Z",
     "shell.execute_reply.started": "2023-12-22T01:20:02.265698Z"
    },
    "pycharm": {
     "name": "#%%\n"
    },
    "tags": []
   },
   "outputs": [
    {
     "name": "stdout",
     "output_type": "stream",
     "text": [
      "targets = {\n",
      "# Columns with only unsigned ints, missing, and NA values\n",
      "'unsigned': ['INGCODE'],\n",
      "\n",
      "# Columns with only strings, missing, and NA values\n",
      "'cat': ['MIFNAME', 'INGNAME'],\n",
      "\n",
      "}\n",
      "\n",
      "\n",
      "Handled columns: 3\n"
     ]
    }
   ],
   "source": [
    "suggest_conversions(data_stats_df)"
   ]
  },
  {
   "cell_type": "code",
   "execution_count": 419,
   "id": "38d96906",
   "metadata": {
    "execution": {
     "iopub.execute_input": "2023-12-22T01:20:02.276899Z",
     "iopub.status.busy": "2023-12-22T01:20:02.276583Z",
     "iopub.status.idle": "2023-12-22T01:20:02.492682Z",
     "shell.execute_reply": "2023-12-22T01:20:02.491989Z",
     "shell.execute_reply.started": "2023-12-22T01:20:02.276879Z"
    },
    "pycharm": {
     "name": "#%%\n"
    },
    "tags": []
   },
   "outputs": [],
   "source": [
    "targets = {\n",
    "# Columns with only unsigned ints, missing, and NA values\n",
    "'unsigned': ['INGCODE'],\n",
    "\n",
    "# Columns with only strings, missing, and NA values\n",
    "'cat': ['MIFNAME', 'INGNAME'],\n",
    "\n",
    "}\n",
    "\n",
    "new_df, missing_df = convert_columns(targets, data_stats_df, tmp_df)"
   ]
  },
  {
   "cell_type": "code",
   "execution_count": 420,
   "id": "538c139f",
   "metadata": {
    "execution": {
     "iopub.execute_input": "2023-12-22T01:20:02.494226Z",
     "iopub.status.busy": "2023-12-22T01:20:02.494004Z",
     "iopub.status.idle": "2023-12-22T01:20:02.504799Z",
     "shell.execute_reply": "2023-12-22T01:20:02.504180Z",
     "shell.execute_reply.started": "2023-12-22T01:20:02.494201Z"
    },
    "pycharm": {
     "name": "#%%\n"
    },
    "tags": []
   },
   "outputs": [
    {
     "name": "stdout",
     "output_type": "stream",
     "text": [
      "\n",
      "VERSION    category\n",
      "MIFNAME    category\n",
      "FRMCODE    category\n",
      "MIFFREQ    category\n",
      "MIFDUR     category\n",
      "MIFUSE     category\n",
      "INGCODE      UInt32\n",
      "INGNAME    category\n",
      "dtype: object\n",
      "\n",
      "Missing values present, shadow dataframe created.\n",
      "              INGCODE\n",
      "ID      Visit        \n",
      "9000296 V00       NaN\n",
      "        V00       NaN\n",
      "        V00       NaN\n",
      "9000622 V00       NaN\n",
      "        V00       NaN\n",
      "...               ...\n",
      "9999878 V10       NaN\n",
      "        V10       NaN\n",
      "        V10       NaN\n",
      "        V10       NaN\n",
      "        V10       NaN\n",
      "\n",
      "[107784 rows x 1 columns]\n"
     ]
    }
   ],
   "source": [
    "sanity_check(new_df)\n",
    "print()\n",
    "print(new_df.dtypes)\n",
    "\n",
    "if not missing_df.empty:\n",
    "    print('\\nMissing values present, shadow dataframe created.')\n",
    "    print(missing_df)"
   ]
  },
  {
   "cell_type": "code",
   "execution_count": 421,
   "id": "4cb2380d",
   "metadata": {
    "execution": {
     "iopub.execute_input": "2023-12-22T01:20:02.505899Z",
     "iopub.status.busy": "2023-12-22T01:20:02.505699Z",
     "iopub.status.idle": "2023-12-22T01:20:02.514903Z",
     "shell.execute_reply": "2023-12-22T01:20:02.514258Z",
     "shell.execute_reply.started": "2023-12-22T01:20:02.505878Z"
    },
    "pycharm": {
     "name": "#%%\n"
    },
    "tags": []
   },
   "outputs": [
    {
     "name": "stdout",
     "output_type": "stream",
     "text": [
      "\n",
      "Final dataframe size: 2.94MB\n",
      "Shadow dataframe size: 0.52MB\n"
     ]
    }
   ],
   "source": [
    "print('\\nFinal dataframe size: {:.2f}MB'.format(new_df.memory_usage(deep=True).sum() / (1024**2)))\n",
    "print('Shadow dataframe size: {:.2f}MB'.format(missing_df.memory_usage(deep=True).sum() / (1024**2)))"
   ]
  },
  {
   "cell_type": "code",
   "execution_count": 422,
   "id": "6b2cb978-ff7e-40a0-8a04-a8d783bb73b1",
   "metadata": {
    "execution": {
     "iopub.execute_input": "2023-12-22T01:20:02.516057Z",
     "iopub.status.busy": "2023-12-22T01:20:02.515827Z",
     "iopub.status.idle": "2023-12-22T01:20:02.613414Z",
     "shell.execute_reply": "2023-12-22T01:20:02.612700Z",
     "shell.execute_reply.started": "2023-12-22T01:20:02.516037Z"
    },
    "tags": []
   },
   "outputs": [],
   "source": [
    "utils.write_parquet(new_df, 'data/' + prefix + '_values.parquet')\n",
    "if not missing_df.empty:\n",
    "    utils.write_parquet(new_df, 'data/' + prefix + '_missing_values.parquet', verbose=False)"
   ]
  },
  {
   "cell_type": "markdown",
   "id": "a4fe3a1e",
   "metadata": {
    "tags": []
   },
   "source": [
    "## MRI"
   ]
  },
  {
   "cell_type": "code",
   "execution_count": 423,
   "id": "0d19ac21",
   "metadata": {
    "execution": {
     "iopub.execute_input": "2023-12-22T01:20:02.616903Z",
     "iopub.status.busy": "2023-12-22T01:20:02.616705Z",
     "iopub.status.idle": "2023-12-22T01:20:14.242312Z",
     "shell.execute_reply": "2023-12-22T01:20:14.241651Z",
     "shell.execute_reply.started": "2023-12-22T01:20:02.616883Z"
    },
    "pycharm": {
     "name": "#%%\n"
    },
    "tags": []
   },
   "outputs": [
    {
     "name": "stdout",
     "output_type": "stream",
     "text": [
      "\n",
      "mri00.sas7bdat: (77224, 12)\n",
      "['ID', 'VERSION', 'MEXAMTP', 'MNDREAS', 'MRBARCD', 'MRCOMP', 'MRDATE', 'MRSIDE', 'MRSURDY', 'MRTECID', 'QCRESLT', 'SCNUPGR']\n",
      "\n",
      "mri01.sas7bdat: (68817, 12)\n",
      "\n",
      "mri02.sas7bdat: (4045, 12)\n",
      "\n",
      "mri03.sas7bdat: (76306, 13)\n",
      "['MRMARK']\n",
      "\n",
      "mri04.sas7bdat: (6924, 12)\n",
      "['MRMARK']\n",
      "\n",
      "mri05.sas7bdat: (69210, 12)\n",
      "\n",
      "mri06.sas7bdat: (75789, 12)\n",
      "\n",
      "mri08.sas7bdat: (57799, 15)\n",
      "['MQCFLAG', 'CLUPGR', 'MQCCMNT']\n",
      "\n",
      "mri10.sas7bdat: (65624, 16)\n",
      "['MRMARK']\n",
      "\n",
      "Total rows: 501738\n"
     ]
    }
   ],
   "source": [
    "prefix = 'mri'\n",
    "column_uniformity_check(prefix)"
   ]
  },
  {
   "cell_type": "code",
   "execution_count": 424,
   "id": "9bb445b9",
   "metadata": {
    "execution": {
     "iopub.execute_input": "2023-12-22T01:20:14.243750Z",
     "iopub.status.busy": "2023-12-22T01:20:14.243347Z",
     "iopub.status.idle": "2023-12-22T01:20:28.038852Z",
     "shell.execute_reply": "2023-12-22T01:20:28.038184Z",
     "shell.execute_reply.started": "2023-12-22T01:20:14.243711Z"
    },
    "pycharm": {
     "name": "#%%\n"
    },
    "tags": []
   },
   "outputs": [
    {
     "name": "stdout",
     "output_type": "stream",
     "text": [
      "mri00.sas7bdat\tVar Cnt: 12\n",
      "Visits: ['V00']\n",
      "mri01.sas7bdat\tVar Cnt: 12\n",
      "Visits: ['V01']\n",
      "mri02.sas7bdat\tVar Cnt: 12\n",
      "Visits: ['V02']\n",
      "mri03.sas7bdat\tVar Cnt: 13\n",
      "Visits: ['V03']\n",
      "mri04.sas7bdat\tVar Cnt: 12\n",
      "Visits: ['V04']\n",
      "mri05.sas7bdat\tVar Cnt: 12\n",
      "Visits: ['V05']\n",
      "mri06.sas7bdat\tVar Cnt: 12\n",
      "Visits: ['V06']\n",
      "mri08.sas7bdat\tVar Cnt: 15\n",
      "Visits: ['V08']\n",
      "mri10.sas7bdat\tVar Cnt: 16\n",
      "Visits: ['V10']\n",
      "(501738, 17)\n",
      "\n",
      "Starting dataframe size: 170.98MB\n"
     ]
    }
   ],
   "source": [
    "tmp_df = create_df(prefix)\n",
    "print(tmp_df.shape)\n",
    "print('\\nStarting dataframe size: {:.2f}MB'.format(tmp_df.memory_usage(deep=True).sum() / (1024**2)))"
   ]
  },
  {
   "cell_type": "code",
   "execution_count": 425,
   "id": "757270c9",
   "metadata": {
    "execution": {
     "iopub.execute_input": "2023-12-22T01:20:28.040393Z",
     "iopub.status.busy": "2023-12-22T01:20:28.040028Z",
     "iopub.status.idle": "2023-12-22T01:20:30.911644Z",
     "shell.execute_reply": "2023-12-22T01:20:30.911127Z",
     "shell.execute_reply.started": "2023-12-22T01:20:28.040368Z"
    },
    "pycharm": {
     "name": "#%%\n"
    },
    "tags": []
   },
   "outputs": [],
   "source": [
    "data_stats_df, done_df = gather_column_data_stats(tmp_df)"
   ]
  },
  {
   "cell_type": "code",
   "execution_count": 426,
   "id": "2b81abe2",
   "metadata": {
    "execution": {
     "iopub.execute_input": "2023-12-22T01:20:30.912992Z",
     "iopub.status.busy": "2023-12-22T01:20:30.912636Z",
     "iopub.status.idle": "2023-12-22T01:20:30.942747Z",
     "shell.execute_reply": "2023-12-22T01:20:30.942070Z",
     "shell.execute_reply.started": "2023-12-22T01:20:30.912948Z"
    },
    "pycharm": {
     "name": "#%%\n"
    },
    "tags": []
   },
   "outputs": [
    {
     "name": "stdout",
     "output_type": "stream",
     "text": [
      "Already defined cols: 11 \tCols to convert: 6\t Total col cnt: 17\n",
      "\n",
      "Column types to convert:\n",
      "   str_cnt  num_cnt  date_cnt  na_cnt  count\n",
      "0     True    False     False   False      4\n",
      "1     True    False      True   False      1\n",
      "2     True     True     False   False      1\n",
      "\n",
      "Numeric types of columns:\n",
      "num_type\n",
      "na          2\n",
      "unsigned    1\n",
      "Name: count, dtype: int64\n",
      "\n",
      "Largest number of unique strings: 315633\n"
     ]
    },
    {
     "data": {
      "text/html": [
       "<div>\n",
       "<style scoped>\n",
       "    .dataframe tbody tr th:only-of-type {\n",
       "        vertical-align: middle;\n",
       "    }\n",
       "\n",
       "    .dataframe tbody tr th {\n",
       "        vertical-align: top;\n",
       "    }\n",
       "\n",
       "    .dataframe thead th {\n",
       "        text-align: right;\n",
       "    }\n",
       "</style>\n",
       "<table border=\"1\" class=\"dataframe\">\n",
       "  <thead>\n",
       "    <tr style=\"text-align: right;\">\n",
       "      <th></th>\n",
       "      <th>label</th>\n",
       "      <th>uniq_strs</th>\n",
       "      <th>str_list</th>\n",
       "      <th>missing_val_cnt</th>\n",
       "      <th>missing_val_list</th>\n",
       "      <th>numeric_str</th>\n",
       "      <th>num_type</th>\n",
       "      <th>uniq_num</th>\n",
       "      <th>max_num</th>\n",
       "      <th>min_num</th>\n",
       "      <th>str_cnt</th>\n",
       "      <th>num_cnt</th>\n",
       "      <th>date_cnt</th>\n",
       "      <th>na_cnt</th>\n",
       "    </tr>\n",
       "    <tr>\n",
       "      <th>col</th>\n",
       "      <th></th>\n",
       "      <th></th>\n",
       "      <th></th>\n",
       "      <th></th>\n",
       "      <th></th>\n",
       "      <th></th>\n",
       "      <th></th>\n",
       "      <th></th>\n",
       "      <th></th>\n",
       "      <th></th>\n",
       "      <th></th>\n",
       "      <th></th>\n",
       "      <th></th>\n",
       "      <th></th>\n",
       "    </tr>\n",
       "  </thead>\n",
       "  <tbody>\n",
       "    <tr>\n",
       "      <th>MEXAMTP</th>\n",
       "      <td>EV MRI:MRI series type (calc)</td>\n",
       "      <td>16</td>\n",
       "      <td>{R COR MPR, R SAG 3D DESS WE, OAI Prescription...</td>\n",
       "      <td>0</td>\n",
       "      <td>{}</td>\n",
       "      <td>False</td>\n",
       "      <td>None</td>\n",
       "      <td>NaN</td>\n",
       "      <td>NaN</td>\n",
       "      <td>NaN</td>\n",
       "      <td>501738</td>\n",
       "      <td>0</td>\n",
       "      <td>0</td>\n",
       "      <td>0</td>\n",
       "    </tr>\n",
       "    <tr>\n",
       "      <th>MRBARCD</th>\n",
       "      <td>EV MRI:MRI series barcode (calc)</td>\n",
       "      <td>315633</td>\n",
       "      <td>{, 016612098016, 016611159513, 016610778203, 0...</td>\n",
       "      <td>0</td>\n",
       "      <td>{}</td>\n",
       "      <td>False</td>\n",
       "      <td>None</td>\n",
       "      <td>NaN</td>\n",
       "      <td>NaN</td>\n",
       "      <td>NaN</td>\n",
       "      <td>501738</td>\n",
       "      <td>0</td>\n",
       "      <td>0</td>\n",
       "      <td>0</td>\n",
       "    </tr>\n",
       "    <tr>\n",
       "      <th>MRDATE</th>\n",
       "      <td>EV MRI:Date MRI series completed (calc)</td>\n",
       "      <td>0</td>\n",
       "      <td>{}</td>\n",
       "      <td>1</td>\n",
       "      <td>{A}</td>\n",
       "      <td>False</td>\n",
       "      <td>na</td>\n",
       "      <td>1.0</td>\n",
       "      <td>NaN</td>\n",
       "      <td>NaN</td>\n",
       "      <td>186092</td>\n",
       "      <td>0</td>\n",
       "      <td>315596</td>\n",
       "      <td>0</td>\n",
       "    </tr>\n",
       "    <tr>\n",
       "      <th>MRSURDY</th>\n",
       "      <td>EV MRI:Days between most recent surgery and MR...</td>\n",
       "      <td>0</td>\n",
       "      <td>{}</td>\n",
       "      <td>2</td>\n",
       "      <td>{A, M}</td>\n",
       "      <td>False</td>\n",
       "      <td>unsigned</td>\n",
       "      <td>623.0</td>\n",
       "      <td>1318.0</td>\n",
       "      <td>1.0</td>\n",
       "      <td>465951</td>\n",
       "      <td>35723</td>\n",
       "      <td>0</td>\n",
       "      <td>0</td>\n",
       "    </tr>\n",
       "    <tr>\n",
       "      <th>MRTECID</th>\n",
       "      <td>EV MRI:MRI tech ID (calc)</td>\n",
       "      <td>79</td>\n",
       "      <td>{, 5021, 1018, 3090, 3044, 3123, A005, 3053, E...</td>\n",
       "      <td>0</td>\n",
       "      <td>{}</td>\n",
       "      <td>False</td>\n",
       "      <td>None</td>\n",
       "      <td>NaN</td>\n",
       "      <td>NaN</td>\n",
       "      <td>NaN</td>\n",
       "      <td>501738</td>\n",
       "      <td>0</td>\n",
       "      <td>0</td>\n",
       "      <td>0</td>\n",
       "    </tr>\n",
       "    <tr>\n",
       "      <th>MQCCMNT</th>\n",
       "      <td>FU MRI:MRI QC comment (calc)</td>\n",
       "      <td>2</td>\n",
       "      <td>{, MR Gradient Out of Spec}</td>\n",
       "      <td>0</td>\n",
       "      <td>{}</td>\n",
       "      <td>False</td>\n",
       "      <td>na</td>\n",
       "      <td>1.0</td>\n",
       "      <td>NaN</td>\n",
       "      <td>NaN</td>\n",
       "      <td>123423</td>\n",
       "      <td>0</td>\n",
       "      <td>0</td>\n",
       "      <td>0</td>\n",
       "    </tr>\n",
       "  </tbody>\n",
       "</table>\n",
       "</div>"
      ],
      "text/plain": [
       "                                                     label  uniq_strs  \\\n",
       "col                                                                     \n",
       "MEXAMTP                      EV MRI:MRI series type (calc)         16   \n",
       "MRBARCD                   EV MRI:MRI series barcode (calc)     315633   \n",
       "MRDATE             EV MRI:Date MRI series completed (calc)          0   \n",
       "MRSURDY  EV MRI:Days between most recent surgery and MR...          0   \n",
       "MRTECID                          EV MRI:MRI tech ID (calc)         79   \n",
       "MQCCMNT                       FU MRI:MRI QC comment (calc)          2   \n",
       "\n",
       "                                                  str_list  missing_val_cnt  \\\n",
       "col                                                                           \n",
       "MEXAMTP  {R COR MPR, R SAG 3D DESS WE, OAI Prescription...                0   \n",
       "MRBARCD  {, 016612098016, 016611159513, 016610778203, 0...                0   \n",
       "MRDATE                                                  {}                1   \n",
       "MRSURDY                                                 {}                2   \n",
       "MRTECID  {, 5021, 1018, 3090, 3044, 3123, A005, 3053, E...                0   \n",
       "MQCCMNT                        {, MR Gradient Out of Spec}                0   \n",
       "\n",
       "        missing_val_list  numeric_str  num_type  uniq_num  max_num  min_num  \\\n",
       "col                                                                           \n",
       "MEXAMTP               {}        False      None       NaN      NaN      NaN   \n",
       "MRBARCD               {}        False      None       NaN      NaN      NaN   \n",
       "MRDATE               {A}        False        na       1.0      NaN      NaN   \n",
       "MRSURDY           {A, M}        False  unsigned     623.0   1318.0      1.0   \n",
       "MRTECID               {}        False      None       NaN      NaN      NaN   \n",
       "MQCCMNT               {}        False        na       1.0      NaN      NaN   \n",
       "\n",
       "         str_cnt  num_cnt  date_cnt  na_cnt  \n",
       "col                                          \n",
       "MEXAMTP   501738        0         0       0  \n",
       "MRBARCD   501738        0         0       0  \n",
       "MRDATE    186092        0    315596       0  \n",
       "MRSURDY   465951    35723         0       0  \n",
       "MRTECID   501738        0         0       0  \n",
       "MQCCMNT   123423        0         0       0  "
      ]
     },
     "execution_count": 426,
     "metadata": {},
     "output_type": "execute_result"
    }
   ],
   "source": [
    "data_stats_summary(tmp_df, data_stats_df)\n",
    "\n",
    "data_stats_df"
   ]
  },
  {
   "cell_type": "code",
   "execution_count": 427,
   "id": "376dc107",
   "metadata": {
    "execution": {
     "iopub.execute_input": "2023-12-22T01:20:30.944069Z",
     "iopub.status.busy": "2023-12-22T01:20:30.943635Z",
     "iopub.status.idle": "2023-12-22T01:20:30.973477Z",
     "shell.execute_reply": "2023-12-22T01:20:30.972414Z",
     "shell.execute_reply.started": "2023-12-22T01:20:30.944049Z"
    },
    "pycharm": {
     "name": "#%%\n"
    },
    "tags": []
   },
   "outputs": [
    {
     "name": "stdout",
     "output_type": "stream",
     "text": [
      "targets = {\n",
      "# Columns with only dates, missing, and NA values\n",
      "'date': ['MRDATE'],\n",
      "\n",
      "# Columns with only unsigned ints, missing, and NA values\n",
      "'unsigned': ['MRSURDY'],\n",
      "\n",
      "# Columns with only strings, missing, and NA values\n",
      "'cat': ['MEXAMTP', 'MRBARCD', 'MRTECID', 'MQCCMNT'],\n",
      "\n",
      "}\n",
      "\n",
      "\n",
      "Handled columns: 6\n"
     ]
    }
   ],
   "source": [
    "suggest_conversions(data_stats_df)"
   ]
  },
  {
   "cell_type": "code",
   "execution_count": 428,
   "id": "15598691",
   "metadata": {
    "execution": {
     "iopub.execute_input": "2023-12-22T01:20:30.975633Z",
     "iopub.status.busy": "2023-12-22T01:20:30.975011Z",
     "iopub.status.idle": "2023-12-22T01:20:32.343310Z",
     "shell.execute_reply": "2023-12-22T01:20:32.342744Z",
     "shell.execute_reply.started": "2023-12-22T01:20:30.975611Z"
    },
    "pycharm": {
     "name": "#%%\n"
    },
    "tags": []
   },
   "outputs": [],
   "source": [
    "targets = {\n",
    "# Columns with only dates, missing, and NA values\n",
    "'date': ['MRDATE'],\n",
    "\n",
    "# Columns with only unsigned ints, missing, and NA values\n",
    "'unsigned': ['MRSURDY'],\n",
    "\n",
    "# Columns with only strings, missing, and NA values\n",
    "'cat': ['MEXAMTP', 'MRBARCD', 'MRTECID', 'MQCCMNT'],\n",
    "\n",
    "}\n",
    "\n",
    "new_df, missing_df = convert_columns(targets, data_stats_df, tmp_df)"
   ]
  },
  {
   "cell_type": "code",
   "execution_count": 429,
   "id": "01bd2bd7",
   "metadata": {
    "execution": {
     "iopub.execute_input": "2023-12-22T01:20:32.345223Z",
     "iopub.status.busy": "2023-12-22T01:20:32.344381Z",
     "iopub.status.idle": "2023-12-22T01:20:32.360719Z",
     "shell.execute_reply": "2023-12-22T01:20:32.359966Z",
     "shell.execute_reply.started": "2023-12-22T01:20:32.345205Z"
    },
    "pycharm": {
     "name": "#%%\n"
    },
    "tags": []
   },
   "outputs": [
    {
     "name": "stdout",
     "output_type": "stream",
     "text": [
      "\n",
      "VERSION          category\n",
      "MEXAMTP          category\n",
      "MNDREAS          category\n",
      "MRBARCD          category\n",
      "MRCOMP           category\n",
      "MRDATE     datetime64[ns]\n",
      "MRSIDE           category\n",
      "MRSURDY            UInt16\n",
      "MRTECID          category\n",
      "QCRESLT          category\n",
      "SCNUPGR          category\n",
      "MRMARK           category\n",
      "CLUPGR           category\n",
      "MQCCMNT          category\n",
      "MQCFLAG          category\n",
      "dtype: object\n",
      "\n",
      "Missing values present, shadow dataframe created.\n",
      "                         MRDATE           MRSURDY\n",
      "ID      Visit                                    \n",
      "9000099 V00    .A: Not Expected  .A: Not Expected\n",
      "        V00    .A: Not Expected  .A: Not Expected\n",
      "        V00                 NaN  .A: Not Expected\n",
      "        V00                 NaN  .A: Not Expected\n",
      "        V00                 NaN  .A: Not Expected\n",
      "...                         ...               ...\n",
      "9999878 V10                 NaN  .A: Not Expected\n",
      "        V10                 NaN  .A: Not Expected\n",
      "        V10                 NaN  .A: Not Expected\n",
      "        V10                 NaN  .A: Not Expected\n",
      "        V10                 NaN  .A: Not Expected\n",
      "\n",
      "[501738 rows x 2 columns]\n"
     ]
    }
   ],
   "source": [
    "sanity_check(new_df)\n",
    "print()\n",
    "print(new_df.dtypes)\n",
    "\n",
    "if not missing_df.empty:\n",
    "    print('\\nMissing values present, shadow dataframe created.')\n",
    "    print(missing_df)"
   ]
  },
  {
   "cell_type": "code",
   "execution_count": 430,
   "id": "b15c4186",
   "metadata": {
    "execution": {
     "iopub.execute_input": "2023-12-22T01:20:32.362905Z",
     "iopub.status.busy": "2023-12-22T01:20:32.362299Z",
     "iopub.status.idle": "2023-12-22T01:20:32.413599Z",
     "shell.execute_reply": "2023-12-22T01:20:32.412431Z",
     "shell.execute_reply.started": "2023-12-22T01:20:32.362882Z"
    },
    "pycharm": {
     "name": "#%%\n"
    },
    "tags": []
   },
   "outputs": [
    {
     "name": "stdout",
     "output_type": "stream",
     "text": [
      "\n",
      "Final dataframe size: 43.34MB\n",
      "Shadow dataframe size: 2.51MB\n"
     ]
    }
   ],
   "source": [
    "print('\\nFinal dataframe size: {:.2f}MB'.format(new_df.memory_usage(deep=True).sum() / (1024**2)))\n",
    "print('Shadow dataframe size: {:.2f}MB'.format(missing_df.memory_usage(deep=True).sum() / (1024**2)))"
   ]
  },
  {
   "cell_type": "code",
   "execution_count": 431,
   "id": "278d72a1-8852-401f-ba38-bb020e95d60e",
   "metadata": {
    "execution": {
     "iopub.execute_input": "2023-12-22T01:20:32.416169Z",
     "iopub.status.busy": "2023-12-22T01:20:32.415875Z",
     "iopub.status.idle": "2023-12-22T01:20:33.091754Z",
     "shell.execute_reply": "2023-12-22T01:20:33.091258Z",
     "shell.execute_reply.started": "2023-12-22T01:20:32.416146Z"
    },
    "tags": []
   },
   "outputs": [],
   "source": [
    "utils.write_parquet(new_df, 'data/' + prefix + '_values.parquet')\n",
    "if not missing_df.empty:\n",
    "    utils.write_parquet(new_df, 'data/' + prefix + '_missing_values.parquet', verbose=False)"
   ]
  },
  {
   "cell_type": "markdown",
   "id": "0b81e64d",
   "metadata": {
    "tags": []
   },
   "source": [
    "## outcomes"
   ]
  },
  {
   "cell_type": "code",
   "execution_count": 432,
   "id": "0b5b25ba",
   "metadata": {
    "execution": {
     "iopub.execute_input": "2023-12-22T01:20:33.092739Z",
     "iopub.status.busy": "2023-12-22T01:20:33.092613Z",
     "iopub.status.idle": "2023-12-22T01:20:34.456595Z",
     "shell.execute_reply": "2023-12-22T01:20:34.455944Z",
     "shell.execute_reply.started": "2023-12-22T01:20:33.092724Z"
    },
    "pycharm": {
     "name": "#%%\n"
    },
    "tags": []
   },
   "outputs": [
    {
     "name": "stdout",
     "output_type": "stream",
     "text": [
      "\n",
      "outcomes99.sas7bdat: (4796, 92)\n",
      "['id', 'version', 'RNTCNT', 'ERKDATE', 'ERKFLDT', 'ERKRPCF', 'ERKTLPR', 'ERKTPPR', 'ERKBLRP', 'ERKVSRP', 'ERKPODX', 'ERKDAYS', 'ERKVSPR', 'ERKVSAF', 'ERKRPSN', 'ERKXRPR', 'ERKXRAF', 'ELKDATE', 'ELKFLDT', 'ELKRPCF', 'ELKTLPR', 'ELKTPPR', 'ELKBLRP', 'ELKVSRP', 'ELKPODX', 'ELKDAYS', 'ELKVSPR', 'ELKVSAF', 'ELKRPSN', 'ELKXRPR', 'ELKXRAF', 'ERHDATE', 'ERHFLDT', 'ERHRPCF', 'ERHPODX', 'ERHDAYS', 'ERHVSPR', 'ERHVSAF', 'ERHRPSN', 'ERHXRPR', 'ERHXRAF', 'ERHVSRP', 'ERHBLRP', 'ELHDATE', 'ELHFLDT', 'ELHRPCF', 'ELHPODX', 'ELHDAYS', 'ELHVSPR', 'ELHVSAF', 'ELHRPSN', 'ELHXRPR', 'ELHXRAF', 'ELHVSRP', 'ELHBLRP', 'EXLVSQD', 'ERXIOA', 'ERXIOAN', 'ERXNOA', 'ERXNOAN', 'ERKLOA', 'ERKLOAN', 'ELXIOA', 'ELXIOAN', 'ELXNOA', 'ELXNOAN', 'ELKLOA', 'ELKLOAN', 'ERXJSNM', 'ERXJSNL', 'ELXJSNM', 'ELXJSNL', 'ERJSFP', 'ERJSLP', 'ERNJSLP', 'ERJSTFP', 'ERJSFW', 'ERJSLW', 'ERNJSLW', 'ERJSTFW', 'ELJSFP', 'ELJSLP', 'ELNJSLP', 'ELJSTFP', 'ELJSFW', 'ELJSLW', 'ELNJSLW', 'ELJSTFW', 'EDDCF', 'EDDDATE', 'EDDFLDT', 'EDDVSPR']\n",
      "\n",
      "Total rows: 4796\n"
     ]
    }
   ],
   "source": [
    "prefix = 'outcomes'\n",
    "column_uniformity_check(prefix)"
   ]
  },
  {
   "cell_type": "code",
   "execution_count": 433,
   "id": "742d4256",
   "metadata": {
    "execution": {
     "iopub.execute_input": "2023-12-22T01:20:34.458555Z",
     "iopub.status.busy": "2023-12-22T01:20:34.458341Z",
     "iopub.status.idle": "2023-12-22T01:20:35.713309Z",
     "shell.execute_reply": "2023-12-22T01:20:35.712074Z",
     "shell.execute_reply.started": "2023-12-22T01:20:34.458537Z"
    },
    "pycharm": {
     "name": "#%%\n"
    },
    "tags": []
   },
   "outputs": [
    {
     "name": "stdout",
     "output_type": "stream",
     "text": [
      "outcomes99.sas7bdat\tVar Cnt: 92\n",
      "Visits: ['V99']\n",
      "(4796, 93)\n",
      "\n",
      "Starting dataframe size: 2.04MB\n"
     ]
    }
   ],
   "source": [
    "tmp_df = create_df(prefix)\n",
    "print(tmp_df.shape)\n",
    "print('\\nStarting dataframe size: {:.2f}MB'.format(tmp_df.memory_usage(deep=True).sum() / (1024**2)))"
   ]
  },
  {
   "cell_type": "code",
   "execution_count": 434,
   "id": "65239f78",
   "metadata": {
    "execution": {
     "iopub.execute_input": "2023-12-22T01:20:35.715614Z",
     "iopub.status.busy": "2023-12-22T01:20:35.715278Z",
     "iopub.status.idle": "2023-12-22T01:20:35.782135Z",
     "shell.execute_reply": "2023-12-22T01:20:35.781098Z",
     "shell.execute_reply.started": "2023-12-22T01:20:35.715577Z"
    },
    "pycharm": {
     "name": "#%%\n"
    },
    "tags": []
   },
   "outputs": [],
   "source": [
    "data_stats_df, done_df = gather_column_data_stats(tmp_df)"
   ]
  },
  {
   "cell_type": "code",
   "execution_count": 435,
   "id": "0056b6d8",
   "metadata": {
    "execution": {
     "iopub.execute_input": "2023-12-22T01:20:35.784584Z",
     "iopub.status.busy": "2023-12-22T01:20:35.783978Z",
     "iopub.status.idle": "2023-12-22T01:20:35.810126Z",
     "shell.execute_reply": "2023-12-22T01:20:35.809502Z",
     "shell.execute_reply.started": "2023-12-22T01:20:35.784536Z"
    },
    "pycharm": {
     "name": "#%%\n"
    },
    "tags": []
   },
   "outputs": [
    {
     "name": "stdout",
     "output_type": "stream",
     "text": [
      "Already defined cols: 88 \tCols to convert: 5\t Total col cnt: 93\n",
      "\n",
      "Column types to convert:\n",
      "   str_cnt  num_cnt  date_cnt  na_cnt  count\n",
      "0     True    False      True   False      5\n",
      "\n",
      "Numeric types of columns:\n",
      "Series([], Name: count, dtype: int64)\n",
      "\n",
      "Largest number of unique strings: 0\n"
     ]
    },
    {
     "data": {
      "text/html": [
       "<div>\n",
       "<style scoped>\n",
       "    .dataframe tbody tr th:only-of-type {\n",
       "        vertical-align: middle;\n",
       "    }\n",
       "\n",
       "    .dataframe tbody tr th {\n",
       "        vertical-align: top;\n",
       "    }\n",
       "\n",
       "    .dataframe thead th {\n",
       "        text-align: right;\n",
       "    }\n",
       "</style>\n",
       "<table border=\"1\" class=\"dataframe\">\n",
       "  <thead>\n",
       "    <tr style=\"text-align: right;\">\n",
       "      <th></th>\n",
       "      <th>label</th>\n",
       "      <th>uniq_strs</th>\n",
       "      <th>str_list</th>\n",
       "      <th>missing_val_cnt</th>\n",
       "      <th>missing_val_list</th>\n",
       "      <th>numeric_str</th>\n",
       "      <th>num_type</th>\n",
       "      <th>uniq_num</th>\n",
       "      <th>max_num</th>\n",
       "      <th>min_num</th>\n",
       "      <th>str_cnt</th>\n",
       "      <th>num_cnt</th>\n",
       "      <th>date_cnt</th>\n",
       "      <th>na_cnt</th>\n",
       "    </tr>\n",
       "    <tr>\n",
       "      <th>col</th>\n",
       "      <th></th>\n",
       "      <th></th>\n",
       "      <th></th>\n",
       "      <th></th>\n",
       "      <th></th>\n",
       "      <th></th>\n",
       "      <th></th>\n",
       "      <th></th>\n",
       "      <th></th>\n",
       "      <th></th>\n",
       "      <th></th>\n",
       "      <th></th>\n",
       "      <th></th>\n",
       "      <th></th>\n",
       "    </tr>\n",
       "  </thead>\n",
       "  <tbody>\n",
       "    <tr>\n",
       "      <th>ERKDATE</th>\n",
       "      <td>Outcomes: right knee, date of follow-up knee r...</td>\n",
       "      <td>0</td>\n",
       "      <td>{}</td>\n",
       "      <td>1</td>\n",
       "      <td>{A}</td>\n",
       "      <td>False</td>\n",
       "      <td>None</td>\n",
       "      <td>None</td>\n",
       "      <td>None</td>\n",
       "      <td>None</td>\n",
       "      <td>4519</td>\n",
       "      <td>0</td>\n",
       "      <td>277</td>\n",
       "      <td>0</td>\n",
       "    </tr>\n",
       "    <tr>\n",
       "      <th>ELKDATE</th>\n",
       "      <td>Outcomes: left knee, date of follow-up knee re...</td>\n",
       "      <td>0</td>\n",
       "      <td>{}</td>\n",
       "      <td>1</td>\n",
       "      <td>{A}</td>\n",
       "      <td>False</td>\n",
       "      <td>None</td>\n",
       "      <td>None</td>\n",
       "      <td>None</td>\n",
       "      <td>None</td>\n",
       "      <td>4525</td>\n",
       "      <td>0</td>\n",
       "      <td>271</td>\n",
       "      <td>0</td>\n",
       "    </tr>\n",
       "    <tr>\n",
       "      <th>ERHDATE</th>\n",
       "      <td>Outcomes: right hip, date of follow-up hip rep...</td>\n",
       "      <td>0</td>\n",
       "      <td>{}</td>\n",
       "      <td>1</td>\n",
       "      <td>{A}</td>\n",
       "      <td>False</td>\n",
       "      <td>None</td>\n",
       "      <td>None</td>\n",
       "      <td>None</td>\n",
       "      <td>None</td>\n",
       "      <td>4678</td>\n",
       "      <td>0</td>\n",
       "      <td>118</td>\n",
       "      <td>0</td>\n",
       "    </tr>\n",
       "    <tr>\n",
       "      <th>ELHDATE</th>\n",
       "      <td>Outcomes: left hip, date of follow-up hip repl...</td>\n",
       "      <td>0</td>\n",
       "      <td>{}</td>\n",
       "      <td>1</td>\n",
       "      <td>{A}</td>\n",
       "      <td>False</td>\n",
       "      <td>None</td>\n",
       "      <td>None</td>\n",
       "      <td>None</td>\n",
       "      <td>None</td>\n",
       "      <td>4684</td>\n",
       "      <td>0</td>\n",
       "      <td>112</td>\n",
       "      <td>0</td>\n",
       "    </tr>\n",
       "    <tr>\n",
       "      <th>EDDDATE</th>\n",
       "      <td>Outcomes: date of death (calc)</td>\n",
       "      <td>0</td>\n",
       "      <td>{}</td>\n",
       "      <td>1</td>\n",
       "      <td>{A}</td>\n",
       "      <td>False</td>\n",
       "      <td>None</td>\n",
       "      <td>None</td>\n",
       "      <td>None</td>\n",
       "      <td>None</td>\n",
       "      <td>4481</td>\n",
       "      <td>0</td>\n",
       "      <td>315</td>\n",
       "      <td>0</td>\n",
       "    </tr>\n",
       "  </tbody>\n",
       "</table>\n",
       "</div>"
      ],
      "text/plain": [
       "                                                     label  uniq_strs  \\\n",
       "col                                                                     \n",
       "ERKDATE  Outcomes: right knee, date of follow-up knee r...          0   \n",
       "ELKDATE  Outcomes: left knee, date of follow-up knee re...          0   \n",
       "ERHDATE  Outcomes: right hip, date of follow-up hip rep...          0   \n",
       "ELHDATE  Outcomes: left hip, date of follow-up hip repl...          0   \n",
       "EDDDATE                     Outcomes: date of death (calc)          0   \n",
       "\n",
       "        str_list  missing_val_cnt missing_val_list  numeric_str num_type  \\\n",
       "col                                                                        \n",
       "ERKDATE       {}                1              {A}        False     None   \n",
       "ELKDATE       {}                1              {A}        False     None   \n",
       "ERHDATE       {}                1              {A}        False     None   \n",
       "ELHDATE       {}                1              {A}        False     None   \n",
       "EDDDATE       {}                1              {A}        False     None   \n",
       "\n",
       "        uniq_num max_num min_num  str_cnt  num_cnt  date_cnt  na_cnt  \n",
       "col                                                                   \n",
       "ERKDATE     None    None    None     4519        0       277       0  \n",
       "ELKDATE     None    None    None     4525        0       271       0  \n",
       "ERHDATE     None    None    None     4678        0       118       0  \n",
       "ELHDATE     None    None    None     4684        0       112       0  \n",
       "EDDDATE     None    None    None     4481        0       315       0  "
      ]
     },
     "execution_count": 435,
     "metadata": {},
     "output_type": "execute_result"
    }
   ],
   "source": [
    "data_stats_summary(tmp_df, data_stats_df)\n",
    "data_stats_df"
   ]
  },
  {
   "cell_type": "code",
   "execution_count": 436,
   "id": "d88ed778",
   "metadata": {
    "execution": {
     "iopub.execute_input": "2023-12-22T01:20:35.811414Z",
     "iopub.status.busy": "2023-12-22T01:20:35.811165Z",
     "iopub.status.idle": "2023-12-22T01:20:35.820935Z",
     "shell.execute_reply": "2023-12-22T01:20:35.820416Z",
     "shell.execute_reply.started": "2023-12-22T01:20:35.811395Z"
    },
    "pycharm": {
     "name": "#%%\n"
    },
    "tags": []
   },
   "outputs": [
    {
     "name": "stdout",
     "output_type": "stream",
     "text": [
      "targets = {\n",
      "# Columns with only dates, missing, and NA values\n",
      "'date': ['ERKDATE', 'ELKDATE', 'ERHDATE', 'ELHDATE', 'EDDDATE'],\n",
      "\n",
      "}\n",
      "\n",
      "\n",
      "Handled columns: 5\n"
     ]
    }
   ],
   "source": [
    "suggest_conversions(data_stats_df)"
   ]
  },
  {
   "cell_type": "code",
   "execution_count": 437,
   "id": "6f07e909",
   "metadata": {
    "execution": {
     "iopub.execute_input": "2023-12-22T01:20:35.822227Z",
     "iopub.status.busy": "2023-12-22T01:20:35.822022Z",
     "iopub.status.idle": "2023-12-22T01:20:35.871925Z",
     "shell.execute_reply": "2023-12-22T01:20:35.871120Z",
     "shell.execute_reply.started": "2023-12-22T01:20:35.822209Z"
    },
    "pycharm": {
     "name": "#%%\n"
    },
    "tags": []
   },
   "outputs": [],
   "source": [
    "targets = {\n",
    "# Columns with only dates, missing, and NA values\n",
    "'date': ['ERKDATE', 'ELKDATE', 'ERHDATE', 'ELHDATE', 'EDDDATE'],\n",
    "\n",
    "}\n",
    "\n",
    "new_df, missing_df = convert_columns(targets, data_stats_df, tmp_df)"
   ]
  },
  {
   "cell_type": "code",
   "execution_count": 438,
   "id": "949205aa",
   "metadata": {
    "execution": {
     "iopub.execute_input": "2023-12-22T01:20:35.873802Z",
     "iopub.status.busy": "2023-12-22T01:20:35.873353Z",
     "iopub.status.idle": "2023-12-22T01:20:35.898617Z",
     "shell.execute_reply": "2023-12-22T01:20:35.898117Z",
     "shell.execute_reply.started": "2023-12-22T01:20:35.873740Z"
    },
    "pycharm": {
     "name": "#%%\n"
    },
    "tags": []
   },
   "outputs": [
    {
     "name": "stdout",
     "output_type": "stream",
     "text": [
      "\n",
      "VERSION          category\n",
      "RNTCNT           category\n",
      "ERKDATE    datetime64[ns]\n",
      "ERKFLDT          category\n",
      "ERKRPCF          category\n",
      "                ...      \n",
      "ELJSTFW          category\n",
      "EDDCF            category\n",
      "EDDDATE    datetime64[ns]\n",
      "EDDFLDT          category\n",
      "EDDVSPR          category\n",
      "Length: 91, dtype: object\n",
      "\n",
      "Missing values present, shadow dataframe created.\n",
      "                        ERKDATE           ELKDATE           ERHDATE  \\\n",
      "ID      Visit                                                         \n",
      "9000099 V99    .A: Not Expected  .A: Not Expected  .A: Not Expected   \n",
      "9000296 V99    .A: Not Expected  .A: Not Expected  .A: Not Expected   \n",
      "9000622 V99    .A: Not Expected  .A: Not Expected  .A: Not Expected   \n",
      "9000798 V99    .A: Not Expected  .A: Not Expected  .A: Not Expected   \n",
      "9001104 V99    .A: Not Expected  .A: Not Expected  .A: Not Expected   \n",
      "...                         ...               ...               ...   \n",
      "9999365 V99    .A: Not Expected  .A: Not Expected  .A: Not Expected   \n",
      "9999510 V99    .A: Not Expected  .A: Not Expected  .A: Not Expected   \n",
      "9999862 V99    .A: Not Expected  .A: Not Expected  .A: Not Expected   \n",
      "9999865 V99    .A: Not Expected  .A: Not Expected  .A: Not Expected   \n",
      "9999878 V99    .A: Not Expected  .A: Not Expected  .A: Not Expected   \n",
      "\n",
      "                        ELHDATE           EDDDATE  \n",
      "ID      Visit                                      \n",
      "9000099 V99    .A: Not Expected  .A: Not Expected  \n",
      "9000296 V99    .A: Not Expected  .A: Not Expected  \n",
      "9000622 V99    .A: Not Expected               NaN  \n",
      "9000798 V99    .A: Not Expected  .A: Not Expected  \n",
      "9001104 V99                 NaN  .A: Not Expected  \n",
      "...                         ...               ...  \n",
      "9999365 V99    .A: Not Expected  .A: Not Expected  \n",
      "9999510 V99    .A: Not Expected  .A: Not Expected  \n",
      "9999862 V99    .A: Not Expected  .A: Not Expected  \n",
      "9999865 V99    .A: Not Expected  .A: Not Expected  \n",
      "9999878 V99    .A: Not Expected  .A: Not Expected  \n",
      "\n",
      "[4796 rows x 5 columns]\n"
     ]
    }
   ],
   "source": [
    "sanity_check(new_df)\n",
    "print()\n",
    "print(new_df.dtypes)\n",
    "if not missing_df.empty:\n",
    "    print('\\nMissing values present, shadow dataframe created.')\n",
    "    print(missing_df)"
   ]
  },
  {
   "cell_type": "code",
   "execution_count": 439,
   "id": "bfc718a0",
   "metadata": {
    "execution": {
     "iopub.execute_input": "2023-12-22T01:20:35.900767Z",
     "iopub.status.busy": "2023-12-22T01:20:35.900208Z",
     "iopub.status.idle": "2023-12-22T01:20:35.909199Z",
     "shell.execute_reply": "2023-12-22T01:20:35.908178Z",
     "shell.execute_reply.started": "2023-12-22T01:20:35.900724Z"
    },
    "pycharm": {
     "name": "#%%\n"
    },
    "tags": []
   },
   "outputs": [
    {
     "name": "stdout",
     "output_type": "stream",
     "text": [
      "\n",
      "Final dataframe size: 1.02MB\n",
      "Shadow dataframe size: 0.15MB\n"
     ]
    }
   ],
   "source": [
    "print('\\nFinal dataframe size: {:.2f}MB'.format(new_df.memory_usage(deep=True).sum() / (1024**2)))\n",
    "print('Shadow dataframe size: {:.2f}MB'.format(missing_df.memory_usage(deep=True).sum() / (1024**2)))"
   ]
  },
  {
   "cell_type": "code",
   "execution_count": 440,
   "id": "dafbdc2e-8291-47d0-bbb8-ffcdad6f3b4a",
   "metadata": {
    "execution": {
     "iopub.execute_input": "2023-12-22T01:20:35.910456Z",
     "iopub.status.busy": "2023-12-22T01:20:35.910087Z",
     "iopub.status.idle": "2023-12-22T01:20:36.045655Z",
     "shell.execute_reply": "2023-12-22T01:20:36.045030Z",
     "shell.execute_reply.started": "2023-12-22T01:20:35.910429Z"
    },
    "tags": []
   },
   "outputs": [],
   "source": [
    "utils.write_parquet(new_df, 'data/' + prefix + '_values.parquet')\n",
    "if not missing_df.empty:\n",
    "    utils.write_parquet(new_df, 'data/' + prefix + '_missing_values.parquet', verbose=False)"
   ]
  },
  {
   "cell_type": "markdown",
   "id": "e10e8dc8",
   "metadata": {
    "tags": []
   },
   "source": [
    "## sageancillarystudy"
   ]
  },
  {
   "cell_type": "code",
   "execution_count": 441,
   "id": "87d900f0",
   "metadata": {
    "execution": {
     "iopub.execute_input": "2023-12-22T01:20:36.051949Z",
     "iopub.status.busy": "2023-12-22T01:20:36.051755Z",
     "iopub.status.idle": "2023-12-22T01:20:37.100791Z",
     "shell.execute_reply": "2023-12-22T01:20:37.099905Z",
     "shell.execute_reply.started": "2023-12-22T01:20:36.051928Z"
    },
    "pycharm": {
     "name": "#%%\n"
    },
    "tags": []
   },
   "outputs": [
    {
     "name": "stdout",
     "output_type": "stream",
     "text": [
      "\n",
      "sageancillarystudy.sas7bdat: (746, 26)\n",
      "['ID', 'sAGEdate', 'sAGEage', 'sAGEgender', 'sAGEdm', 'sAGEdmmeds', 'sAGEdmmouth', 'sAGEdminj', 'sAGEarm', 'sAGEnoarm', 'sAGEeqfail', 'sAGEcloth', 'sAGE', 'sAGEdate', 'sAGEage', 'sAGEgender', 'sAGEdm', 'sAGEdmmeds', 'sAGEdmmouth', 'sAGEdminj', 'sAGEarm', 'sAGEnoarm', 'sAGEeqfail', 'sAGEcloth', 'sAGE', 'Version']\n",
      "\n",
      "Total rows: 746\n"
     ]
    }
   ],
   "source": [
    "prefix = 'sageancillarystudy'\n",
    "column_uniformity_check(prefix)"
   ]
  },
  {
   "cell_type": "code",
   "execution_count": 442,
   "id": "04e74e1e",
   "metadata": {
    "execution": {
     "iopub.execute_input": "2023-12-22T01:20:37.102657Z",
     "iopub.status.busy": "2023-12-22T01:20:37.102373Z",
     "iopub.status.idle": "2023-12-22T01:20:38.095722Z",
     "shell.execute_reply": "2023-12-22T01:20:38.094768Z",
     "shell.execute_reply.started": "2023-12-22T01:20:37.102622Z"
    },
    "pycharm": {
     "name": "#%%\n"
    },
    "tags": []
   },
   "outputs": [
    {
     "name": "stdout",
     "output_type": "stream",
     "text": [
      "sageancillarystudy.sas7bdat\tVar Cnt: 26\n",
      "Visits: ['V05', 'V06']\n",
      "Unhandled data type:  SAGEGENDER GENDERF\n",
      "Unhandled data type:  SAGEDM DIABF\n",
      "Unhandled data type:  SAGEDMMEDS DIABMEDF\n",
      "Unhandled data type:  SAGEDMMOUTH DIABMEDF\n",
      "Unhandled data type:  SAGEDMINJ DIABMEDF\n",
      "Unhandled data type:  SAGEARM ARMF\n",
      "Unhandled data type:  SAGENOARM NOMEASF\n",
      "Unhandled data type:  SAGEEQFAIL NOMEASF\n",
      "Unhandled data type:  SAGECLOTH CLOTHF\n",
      "Unhandled data type:  SAGEGENDER GENDERF\n",
      "Unhandled data type:  SAGEDM DIABF\n",
      "Unhandled data type:  SAGEDMMEDS DIABMEDF\n",
      "Unhandled data type:  SAGEDMMOUTH DIABMEDF\n",
      "Unhandled data type:  SAGEDMINJ DIABMEDF\n",
      "Unhandled data type:  SAGEARM ARMF\n",
      "Unhandled data type:  SAGENOARM NOMEASF\n",
      "Unhandled data type:  SAGEEQFAIL NOMEASF\n",
      "Unhandled data type:  SAGECLOTH CLOTHF\n",
      "(1492, 15)\n",
      "\n",
      "Starting dataframe size: 0.20MB\n"
     ]
    }
   ],
   "source": [
    "tmp_df = create_df(prefix)\n",
    "print(tmp_df.shape)\n",
    "print('\\nStarting dataframe size: {:.2f}MB'.format(tmp_df.memory_usage(deep=True).sum() / (1024**2)))"
   ]
  },
  {
   "cell_type": "code",
   "execution_count": 443,
   "id": "2efa3961",
   "metadata": {
    "execution": {
     "iopub.execute_input": "2023-12-22T01:20:38.097477Z",
     "iopub.status.busy": "2023-12-22T01:20:38.097242Z",
     "iopub.status.idle": "2023-12-22T01:20:38.131254Z",
     "shell.execute_reply": "2023-12-22T01:20:38.130291Z",
     "shell.execute_reply.started": "2023-12-22T01:20:38.097459Z"
    },
    "pycharm": {
     "name": "#%%\n"
    },
    "tags": []
   },
   "outputs": [],
   "source": [
    "data_stats_df, done_df = gather_column_data_stats(tmp_df)"
   ]
  },
  {
   "cell_type": "code",
   "execution_count": 444,
   "id": "9ce0ef8b",
   "metadata": {
    "execution": {
     "iopub.execute_input": "2023-12-22T01:20:38.133467Z",
     "iopub.status.busy": "2023-12-22T01:20:38.133006Z",
     "iopub.status.idle": "2023-12-22T01:20:38.161750Z",
     "shell.execute_reply": "2023-12-22T01:20:38.160650Z",
     "shell.execute_reply.started": "2023-12-22T01:20:38.133429Z"
    },
    "pycharm": {
     "name": "#%%\n"
    },
    "tags": []
   },
   "outputs": [
    {
     "name": "stdout",
     "output_type": "stream",
     "text": [
      "Already defined cols: 3 \tCols to convert: 12\t Total col cnt: 15\n",
      "\n",
      "Column types to convert:\n",
      "   str_cnt  num_cnt  date_cnt  na_cnt  count\n",
      "0    False    False      True   False      1\n",
      "1    False     True     False    True     11\n",
      "\n",
      "Numeric types of columns:\n",
      "num_type\n",
      "unsigned    10\n",
      "na           1\n",
      "float        1\n",
      "Name: count, dtype: int64\n",
      "\n",
      "Largest number of unique strings: 0.0\n"
     ]
    },
    {
     "data": {
      "text/html": [
       "<div>\n",
       "<style scoped>\n",
       "    .dataframe tbody tr th:only-of-type {\n",
       "        vertical-align: middle;\n",
       "    }\n",
       "\n",
       "    .dataframe tbody tr th {\n",
       "        vertical-align: top;\n",
       "    }\n",
       "\n",
       "    .dataframe thead th {\n",
       "        text-align: right;\n",
       "    }\n",
       "</style>\n",
       "<table border=\"1\" class=\"dataframe\">\n",
       "  <thead>\n",
       "    <tr style=\"text-align: right;\">\n",
       "      <th></th>\n",
       "      <th>label</th>\n",
       "      <th>uniq_strs</th>\n",
       "      <th>str_list</th>\n",
       "      <th>missing_val_cnt</th>\n",
       "      <th>missing_val_list</th>\n",
       "      <th>numeric_str</th>\n",
       "      <th>num_type</th>\n",
       "      <th>uniq_num</th>\n",
       "      <th>max_num</th>\n",
       "      <th>min_num</th>\n",
       "      <th>str_cnt</th>\n",
       "      <th>num_cnt</th>\n",
       "      <th>date_cnt</th>\n",
       "      <th>na_cnt</th>\n",
       "    </tr>\n",
       "    <tr>\n",
       "      <th>col</th>\n",
       "      <th></th>\n",
       "      <th></th>\n",
       "      <th></th>\n",
       "      <th></th>\n",
       "      <th></th>\n",
       "      <th></th>\n",
       "      <th></th>\n",
       "      <th></th>\n",
       "      <th></th>\n",
       "      <th></th>\n",
       "      <th></th>\n",
       "      <th></th>\n",
       "      <th></th>\n",
       "      <th></th>\n",
       "    </tr>\n",
       "  </thead>\n",
       "  <tbody>\n",
       "    <tr>\n",
       "      <th>SAGEDATE</th>\n",
       "      <td>None</td>\n",
       "      <td>NaN</td>\n",
       "      <td>None</td>\n",
       "      <td>0</td>\n",
       "      <td>None</td>\n",
       "      <td>None</td>\n",
       "      <td>na</td>\n",
       "      <td>1</td>\n",
       "      <td>NaN</td>\n",
       "      <td>NaN</td>\n",
       "      <td>0</td>\n",
       "      <td>0</td>\n",
       "      <td>746</td>\n",
       "      <td>0</td>\n",
       "    </tr>\n",
       "    <tr>\n",
       "      <th>SAGEAGE</th>\n",
       "      <td>None</td>\n",
       "      <td>0.0</td>\n",
       "      <td>None</td>\n",
       "      <td>0</td>\n",
       "      <td>None</td>\n",
       "      <td>None</td>\n",
       "      <td>unsigned</td>\n",
       "      <td>37</td>\n",
       "      <td>83.0</td>\n",
       "      <td>48.0</td>\n",
       "      <td>0</td>\n",
       "      <td>746</td>\n",
       "      <td>0</td>\n",
       "      <td>746</td>\n",
       "    </tr>\n",
       "    <tr>\n",
       "      <th>SAGEGENDER</th>\n",
       "      <td>None</td>\n",
       "      <td>0.0</td>\n",
       "      <td>None</td>\n",
       "      <td>0</td>\n",
       "      <td>None</td>\n",
       "      <td>None</td>\n",
       "      <td>unsigned</td>\n",
       "      <td>3</td>\n",
       "      <td>1.0</td>\n",
       "      <td>0.0</td>\n",
       "      <td>0</td>\n",
       "      <td>746</td>\n",
       "      <td>0</td>\n",
       "      <td>746</td>\n",
       "    </tr>\n",
       "    <tr>\n",
       "      <th>SAGEDM</th>\n",
       "      <td>None</td>\n",
       "      <td>0.0</td>\n",
       "      <td>None</td>\n",
       "      <td>0</td>\n",
       "      <td>None</td>\n",
       "      <td>None</td>\n",
       "      <td>unsigned</td>\n",
       "      <td>3</td>\n",
       "      <td>1.0</td>\n",
       "      <td>0.0</td>\n",
       "      <td>0</td>\n",
       "      <td>746</td>\n",
       "      <td>0</td>\n",
       "      <td>746</td>\n",
       "    </tr>\n",
       "    <tr>\n",
       "      <th>SAGEDMMEDS</th>\n",
       "      <td>None</td>\n",
       "      <td>0.0</td>\n",
       "      <td>None</td>\n",
       "      <td>0</td>\n",
       "      <td>None</td>\n",
       "      <td>None</td>\n",
       "      <td>unsigned</td>\n",
       "      <td>4</td>\n",
       "      <td>2.0</td>\n",
       "      <td>0.0</td>\n",
       "      <td>0</td>\n",
       "      <td>746</td>\n",
       "      <td>0</td>\n",
       "      <td>746</td>\n",
       "    </tr>\n",
       "    <tr>\n",
       "      <th>SAGEDMMOUTH</th>\n",
       "      <td>None</td>\n",
       "      <td>0.0</td>\n",
       "      <td>None</td>\n",
       "      <td>0</td>\n",
       "      <td>None</td>\n",
       "      <td>None</td>\n",
       "      <td>unsigned</td>\n",
       "      <td>4</td>\n",
       "      <td>2.0</td>\n",
       "      <td>0.0</td>\n",
       "      <td>0</td>\n",
       "      <td>746</td>\n",
       "      <td>0</td>\n",
       "      <td>746</td>\n",
       "    </tr>\n",
       "    <tr>\n",
       "      <th>SAGEDMINJ</th>\n",
       "      <td>None</td>\n",
       "      <td>0.0</td>\n",
       "      <td>None</td>\n",
       "      <td>0</td>\n",
       "      <td>None</td>\n",
       "      <td>None</td>\n",
       "      <td>unsigned</td>\n",
       "      <td>4</td>\n",
       "      <td>2.0</td>\n",
       "      <td>0.0</td>\n",
       "      <td>0</td>\n",
       "      <td>746</td>\n",
       "      <td>0</td>\n",
       "      <td>746</td>\n",
       "    </tr>\n",
       "    <tr>\n",
       "      <th>SAGEARM</th>\n",
       "      <td>None</td>\n",
       "      <td>0.0</td>\n",
       "      <td>None</td>\n",
       "      <td>0</td>\n",
       "      <td>None</td>\n",
       "      <td>None</td>\n",
       "      <td>unsigned</td>\n",
       "      <td>3</td>\n",
       "      <td>2.0</td>\n",
       "      <td>0.0</td>\n",
       "      <td>0</td>\n",
       "      <td>746</td>\n",
       "      <td>0</td>\n",
       "      <td>746</td>\n",
       "    </tr>\n",
       "    <tr>\n",
       "      <th>SAGENOARM</th>\n",
       "      <td>None</td>\n",
       "      <td>0.0</td>\n",
       "      <td>None</td>\n",
       "      <td>0</td>\n",
       "      <td>None</td>\n",
       "      <td>None</td>\n",
       "      <td>unsigned</td>\n",
       "      <td>4</td>\n",
       "      <td>2.0</td>\n",
       "      <td>0.0</td>\n",
       "      <td>0</td>\n",
       "      <td>746</td>\n",
       "      <td>0</td>\n",
       "      <td>746</td>\n",
       "    </tr>\n",
       "    <tr>\n",
       "      <th>SAGEEQFAIL</th>\n",
       "      <td>None</td>\n",
       "      <td>0.0</td>\n",
       "      <td>None</td>\n",
       "      <td>0</td>\n",
       "      <td>None</td>\n",
       "      <td>None</td>\n",
       "      <td>unsigned</td>\n",
       "      <td>4</td>\n",
       "      <td>2.0</td>\n",
       "      <td>0.0</td>\n",
       "      <td>0</td>\n",
       "      <td>746</td>\n",
       "      <td>0</td>\n",
       "      <td>746</td>\n",
       "    </tr>\n",
       "    <tr>\n",
       "      <th>SAGECLOTH</th>\n",
       "      <td>None</td>\n",
       "      <td>0.0</td>\n",
       "      <td>None</td>\n",
       "      <td>0</td>\n",
       "      <td>None</td>\n",
       "      <td>None</td>\n",
       "      <td>unsigned</td>\n",
       "      <td>4</td>\n",
       "      <td>2.0</td>\n",
       "      <td>0.0</td>\n",
       "      <td>0</td>\n",
       "      <td>746</td>\n",
       "      <td>0</td>\n",
       "      <td>746</td>\n",
       "    </tr>\n",
       "    <tr>\n",
       "      <th>SAGE</th>\n",
       "      <td>None</td>\n",
       "      <td>0.0</td>\n",
       "      <td>None</td>\n",
       "      <td>0</td>\n",
       "      <td>None</td>\n",
       "      <td>None</td>\n",
       "      <td>float</td>\n",
       "      <td>237</td>\n",
       "      <td>999.0</td>\n",
       "      <td>15.7</td>\n",
       "      <td>0</td>\n",
       "      <td>746</td>\n",
       "      <td>0</td>\n",
       "      <td>746</td>\n",
       "    </tr>\n",
       "  </tbody>\n",
       "</table>\n",
       "</div>"
      ],
      "text/plain": [
       "            label  uniq_strs str_list  missing_val_cnt missing_val_list  \\\n",
       "col                                                                       \n",
       "SAGEDATE     None        NaN     None                0             None   \n",
       "SAGEAGE      None        0.0     None                0             None   \n",
       "SAGEGENDER   None        0.0     None                0             None   \n",
       "SAGEDM       None        0.0     None                0             None   \n",
       "SAGEDMMEDS   None        0.0     None                0             None   \n",
       "SAGEDMMOUTH  None        0.0     None                0             None   \n",
       "SAGEDMINJ    None        0.0     None                0             None   \n",
       "SAGEARM      None        0.0     None                0             None   \n",
       "SAGENOARM    None        0.0     None                0             None   \n",
       "SAGEEQFAIL   None        0.0     None                0             None   \n",
       "SAGECLOTH    None        0.0     None                0             None   \n",
       "SAGE         None        0.0     None                0             None   \n",
       "\n",
       "            numeric_str  num_type  uniq_num  max_num  min_num  str_cnt  \\\n",
       "col                                                                      \n",
       "SAGEDATE           None        na         1      NaN      NaN        0   \n",
       "SAGEAGE            None  unsigned        37     83.0     48.0        0   \n",
       "SAGEGENDER         None  unsigned         3      1.0      0.0        0   \n",
       "SAGEDM             None  unsigned         3      1.0      0.0        0   \n",
       "SAGEDMMEDS         None  unsigned         4      2.0      0.0        0   \n",
       "SAGEDMMOUTH        None  unsigned         4      2.0      0.0        0   \n",
       "SAGEDMINJ          None  unsigned         4      2.0      0.0        0   \n",
       "SAGEARM            None  unsigned         3      2.0      0.0        0   \n",
       "SAGENOARM          None  unsigned         4      2.0      0.0        0   \n",
       "SAGEEQFAIL         None  unsigned         4      2.0      0.0        0   \n",
       "SAGECLOTH          None  unsigned         4      2.0      0.0        0   \n",
       "SAGE               None     float       237    999.0     15.7        0   \n",
       "\n",
       "             num_cnt  date_cnt  na_cnt  \n",
       "col                                     \n",
       "SAGEDATE           0       746       0  \n",
       "SAGEAGE          746         0     746  \n",
       "SAGEGENDER       746         0     746  \n",
       "SAGEDM           746         0     746  \n",
       "SAGEDMMEDS       746         0     746  \n",
       "SAGEDMMOUTH      746         0     746  \n",
       "SAGEDMINJ        746         0     746  \n",
       "SAGEARM          746         0     746  \n",
       "SAGENOARM        746         0     746  \n",
       "SAGEEQFAIL       746         0     746  \n",
       "SAGECLOTH        746         0     746  \n",
       "SAGE             746         0     746  "
      ]
     },
     "execution_count": 444,
     "metadata": {},
     "output_type": "execute_result"
    }
   ],
   "source": [
    "data_stats_summary(tmp_df, data_stats_df)\n",
    "data_stats_df"
   ]
  },
  {
   "cell_type": "code",
   "execution_count": 445,
   "id": "23c11e4f",
   "metadata": {
    "execution": {
     "iopub.execute_input": "2023-12-22T01:20:38.163673Z",
     "iopub.status.busy": "2023-12-22T01:20:38.163309Z",
     "iopub.status.idle": "2023-12-22T01:20:38.174486Z",
     "shell.execute_reply": "2023-12-22T01:20:38.173869Z",
     "shell.execute_reply.started": "2023-12-22T01:20:38.163646Z"
    },
    "pycharm": {
     "name": "#%%\n"
    },
    "tags": []
   },
   "outputs": [
    {
     "name": "stdout",
     "output_type": "stream",
     "text": [
      "targets = {\n",
      "# Columns with only dates, missing, and NA values\n",
      "'date': ['SAGEDATE'],\n",
      "\n",
      "# Columns with only unsigned ints, missing, and NA values\n",
      "'unsigned': ['SAGEAGE', 'SAGEGENDER', 'SAGEDM', 'SAGEDMMEDS', 'SAGEDMMOUTH', 'SAGEDMINJ', 'SAGEARM', 'SAGENOARM', 'SAGEEQFAIL', 'SAGECLOTH'],\n",
      "\n",
      "# Columns with only floats, missing, and NA values\n",
      "'float': ['SAGE'],\n",
      "\n",
      "}\n",
      "\n",
      "\n",
      "Handled columns: 12\n"
     ]
    }
   ],
   "source": [
    "suggest_conversions(data_stats_df)"
   ]
  },
  {
   "cell_type": "code",
   "execution_count": 446,
   "id": "1f14cf4a",
   "metadata": {
    "execution": {
     "iopub.execute_input": "2023-12-22T01:20:38.175927Z",
     "iopub.status.busy": "2023-12-22T01:20:38.175627Z",
     "iopub.status.idle": "2023-12-22T01:20:38.207201Z",
     "shell.execute_reply": "2023-12-22T01:20:38.206681Z",
     "shell.execute_reply.started": "2023-12-22T01:20:38.175908Z"
    },
    "pycharm": {
     "name": "#%%\n"
    },
    "tags": []
   },
   "outputs": [],
   "source": [
    "targets = {\n",
    "# Columns with only dates, missing, and NA values\n",
    "'date': ['SAGEDATE'],\n",
    "\n",
    "# Columns with only unsigned ints, missing, and NA values\n",
    "'unsigned': ['SAGEAGE', 'SAGEGENDER', 'SAGEDM', 'SAGEDMMEDS', 'SAGEDMMOUTH', 'SAGEDMINJ', 'SAGEARM', 'SAGENOARM', 'SAGEEQFAIL', 'SAGECLOTH'],\n",
    "\n",
    "# Columns with only floats, missing, and NA values\n",
    "'float': ['SAGE'],\n",
    "\n",
    "}\n",
    "\n",
    "new_df, missing_df = convert_columns(targets, data_stats_df, tmp_df)"
   ]
  },
  {
   "cell_type": "code",
   "execution_count": 447,
   "id": "912a9562",
   "metadata": {
    "execution": {
     "iopub.execute_input": "2023-12-22T01:20:38.207964Z",
     "iopub.status.busy": "2023-12-22T01:20:38.207838Z",
     "iopub.status.idle": "2023-12-22T01:20:38.219328Z",
     "shell.execute_reply": "2023-12-22T01:20:38.218483Z",
     "shell.execute_reply.started": "2023-12-22T01:20:38.207947Z"
    },
    "pycharm": {
     "name": "#%%\n"
    },
    "tags": []
   },
   "outputs": [
    {
     "name": "stdout",
     "output_type": "stream",
     "text": [
      "Failure to make column categorical: SAGEGENDER\n",
      "Failure to make column categorical: SAGEDM\n",
      "Failure to make column categorical: SAGEDMMEDS\n",
      "Failure to make column categorical: SAGEDMMOUTH\n",
      "Failure to make column categorical: SAGEDMINJ\n",
      "Failure to make column categorical: SAGEARM\n",
      "Failure to make column categorical: SAGENOARM\n",
      "Failure to make column categorical: SAGEEQFAIL\n",
      "Failure to make column categorical: SAGECLOTH\n",
      "\n",
      "VERSION              category\n",
      "SAGEDATE       datetime64[ns]\n",
      "SAGEAGE                 UInt8\n",
      "SAGEGENDER              UInt8\n",
      "SAGEDM                  UInt8\n",
      "SAGEDMMEDS              UInt8\n",
      "SAGEDMMOUTH             UInt8\n",
      "SAGEDMINJ               UInt8\n",
      "SAGEARM                 UInt8\n",
      "SAGENOARM               UInt8\n",
      "SAGEEQFAIL              UInt8\n",
      "SAGECLOTH               UInt8\n",
      "SAGE                  float32\n",
      "dtype: object\n"
     ]
    }
   ],
   "source": [
    "sanity_check(new_df)\n",
    "print()\n",
    "print(new_df.dtypes)\n",
    "if not missing_df.empty:\n",
    "    print('\\nMissing values present, shadow dataframe created.')\n",
    "    print(missing_df)"
   ]
  },
  {
   "cell_type": "code",
   "execution_count": 448,
   "id": "1b9111d9",
   "metadata": {
    "execution": {
     "iopub.execute_input": "2023-12-22T01:20:38.221008Z",
     "iopub.status.busy": "2023-12-22T01:20:38.220636Z",
     "iopub.status.idle": "2023-12-22T01:20:38.226409Z",
     "shell.execute_reply": "2023-12-22T01:20:38.226018Z",
     "shell.execute_reply.started": "2023-12-22T01:20:38.220984Z"
    },
    "pycharm": {
     "name": "#%%\n"
    },
    "tags": []
   },
   "outputs": [
    {
     "name": "stdout",
     "output_type": "stream",
     "text": [
      "\n",
      "Final dataframe size: 0.07MB\n",
      "Shadow dataframe size: 0.01MB\n"
     ]
    }
   ],
   "source": [
    "print('\\nFinal dataframe size: {:.2f}MB'.format(new_df.memory_usage(deep=True).sum() / (1024**2)))\n",
    "print('Shadow dataframe size: {:.2f}MB'.format(missing_df.memory_usage(deep=True).sum() / (1024**2)))"
   ]
  },
  {
   "cell_type": "code",
   "execution_count": 449,
   "id": "5f5f5a5b-d063-4b94-b06f-5b233f475f37",
   "metadata": {
    "execution": {
     "iopub.execute_input": "2023-12-22T01:20:38.227944Z",
     "iopub.status.busy": "2023-12-22T01:20:38.227729Z",
     "iopub.status.idle": "2023-12-22T01:20:38.241520Z",
     "shell.execute_reply": "2023-12-22T01:20:38.240976Z",
     "shell.execute_reply.started": "2023-12-22T01:20:38.227927Z"
    },
    "tags": []
   },
   "outputs": [],
   "source": [
    "utils.write_parquet(new_df, 'data/' + prefix + '_values.parquet')\n",
    "if not missing_df.empty:\n",
    "    utils.write_parquet(new_df, 'data/' + prefix + '_missing_values.parquet', verbose=False)"
   ]
  },
  {
   "cell_type": "markdown",
   "id": "8290320f",
   "metadata": {
    "tags": []
   },
   "source": [
    "## subjectchar"
   ]
  },
  {
   "cell_type": "markdown",
   "id": "f1d51db5",
   "metadata": {},
   "source": [
    "The data that was held in SubjectChar files has been added to allclinical. Why subjectchar00 is still shipped is a mystery."
   ]
  },
  {
   "cell_type": "code",
   "execution_count": 450,
   "id": "6573cede",
   "metadata": {
    "execution": {
     "iopub.execute_input": "2023-12-22T01:20:38.242474Z",
     "iopub.status.busy": "2023-12-22T01:20:38.242310Z",
     "iopub.status.idle": "2023-12-22T01:20:41.725845Z",
     "shell.execute_reply": "2023-12-22T01:20:41.724840Z",
     "shell.execute_reply.started": "2023-12-22T01:20:38.242456Z"
    },
    "pycharm": {
     "name": "#%%\n"
    },
    "tags": []
   },
   "outputs": [
    {
     "name": "stdout",
     "output_type": "stream",
     "text": [
      "set()\n"
     ]
    }
   ],
   "source": [
    "# Grab the variable names from both subjectchar000 and allclinical00\n",
    "tmp_df, _ = pyreadstat.read_file_multiprocessing(pyreadstat.read_sas7bdat, data_dir + 'subjectchar00.sas7bdat',\n",
    "                                                            num_processes=6, user_missing=True)\n",
    "sc_vars = set(tmp_df.columns)\n",
    "tmp_df, _ = pyreadstat.read_file_multiprocessing(pyreadstat.read_sas7bdat, data_dir + 'allclinical00.sas7bdat',\n",
    "                                                            num_processes=6, user_missing=True)\n",
    "ac_vars = set(tmp_df.columns)\n",
    "\n",
    "# Display unique variables that are in subjectchar00 that aren't included in allclinical00\n",
    "print(sc_vars - ac_vars)"
   ]
  },
  {
   "cell_type": "markdown",
   "id": "2a4ae964",
   "metadata": {},
   "source": [
    "Nothing. Seems like SubjectChar00 is included for no reason."
   ]
  },
  {
   "cell_type": "markdown",
   "id": "f0bb6099",
   "metadata": {
    "tags": []
   },
   "source": [
    "## xray"
   ]
  },
  {
   "cell_type": "code",
   "execution_count": 451,
   "id": "a3b52b18",
   "metadata": {
    "execution": {
     "iopub.execute_input": "2023-12-22T01:20:41.728335Z",
     "iopub.status.busy": "2023-12-22T01:20:41.727871Z",
     "iopub.status.idle": "2023-12-22T01:20:49.969872Z",
     "shell.execute_reply": "2023-12-22T01:20:49.968892Z",
     "shell.execute_reply.started": "2023-12-22T01:20:41.728282Z"
    },
    "pycharm": {
     "name": "#%%\n"
    },
    "tags": []
   },
   "outputs": [
    {
     "name": "stdout",
     "output_type": "stream",
     "text": [
      "\n",
      "xray00.sas7bdat: (15164, 16)\n",
      "['ID', 'VERSION', 'ACCEPT', 'ALIGN', 'CENTER', 'DEPICT', 'EXAMTP', 'EXPOSE', 'MOTION', 'POSITN', 'XNDREAS', 'XRBARCD', 'XRCOMP', 'XRDATE', 'XRSIDE', 'XRTECID']\n",
      "\n",
      "xray01.sas7bdat: (9775, 16)\n",
      "\n",
      "xray03.sas7bdat: (8069, 16)\n",
      "\n",
      "xray05.sas7bdat: (7028, 16)\n",
      "\n",
      "xray06.sas7bdat: (15886, 16)\n",
      "\n",
      "xray08.sas7bdat: (4796, 16)\n",
      "\n",
      "xray10.sas7bdat: (7788, 16)\n",
      "\n",
      "Total rows: 68506\n"
     ]
    }
   ],
   "source": [
    "prefix = 'xray'\n",
    "column_uniformity_check(prefix)"
   ]
  },
  {
   "cell_type": "code",
   "execution_count": 452,
   "id": "04e74e1f",
   "metadata": {
    "execution": {
     "iopub.execute_input": "2023-12-22T01:20:49.972459Z",
     "iopub.status.busy": "2023-12-22T01:20:49.972024Z",
     "iopub.status.idle": "2023-12-22T01:20:58.689340Z",
     "shell.execute_reply": "2023-12-22T01:20:58.688450Z",
     "shell.execute_reply.started": "2023-12-22T01:20:49.972424Z"
    },
    "pycharm": {
     "name": "#%%\n"
    },
    "tags": []
   },
   "outputs": [
    {
     "name": "stdout",
     "output_type": "stream",
     "text": [
      "xray00.sas7bdat\tVar Cnt: 16\n",
      "Visits: ['V00']\n",
      "xray01.sas7bdat\tVar Cnt: 16\n",
      "Visits: ['V01']\n",
      "xray03.sas7bdat\tVar Cnt: 16\n",
      "Visits: ['V03']\n",
      "xray05.sas7bdat\tVar Cnt: 16\n",
      "Visits: ['V05']\n",
      "xray06.sas7bdat\tVar Cnt: 16\n",
      "Visits: ['V06']\n",
      "xray08.sas7bdat\tVar Cnt: 16\n",
      "Visits: ['V08']\n",
      "xray10.sas7bdat\tVar Cnt: 16\n",
      "Visits: ['V10']\n",
      "(68506, 17)\n",
      "\n",
      "Starting dataframe size: 17.76MB\n"
     ]
    }
   ],
   "source": [
    "tmp_df = create_df(prefix)\n",
    "print(tmp_df.shape)\n",
    "print('\\nStarting dataframe size: {:.2f}MB'.format(tmp_df.memory_usage(deep=True).sum() / (1024**2)))"
   ]
  },
  {
   "cell_type": "code",
   "execution_count": 453,
   "id": "2efa3962",
   "metadata": {
    "execution": {
     "iopub.execute_input": "2023-12-22T01:20:58.691137Z",
     "iopub.status.busy": "2023-12-22T01:20:58.690782Z",
     "iopub.status.idle": "2023-12-22T01:20:59.096139Z",
     "shell.execute_reply": "2023-12-22T01:20:59.095348Z",
     "shell.execute_reply.started": "2023-12-22T01:20:58.691109Z"
    },
    "pycharm": {
     "name": "#%%\n"
    },
    "tags": []
   },
   "outputs": [],
   "source": [
    "data_stats_df, done_df = gather_column_data_stats(tmp_df)"
   ]
  },
  {
   "cell_type": "code",
   "execution_count": 454,
   "id": "9ce0ef8d",
   "metadata": {
    "execution": {
     "iopub.execute_input": "2023-12-22T01:20:59.097944Z",
     "iopub.status.busy": "2023-12-22T01:20:59.097663Z",
     "iopub.status.idle": "2023-12-22T01:20:59.129989Z",
     "shell.execute_reply": "2023-12-22T01:20:59.129110Z",
     "shell.execute_reply.started": "2023-12-22T01:20:59.097916Z"
    },
    "pycharm": {
     "name": "#%%\n"
    },
    "tags": []
   },
   "outputs": [
    {
     "name": "stdout",
     "output_type": "stream",
     "text": [
      "Already defined cols: 13 \tCols to convert: 4\t Total col cnt: 17\n",
      "\n",
      "Column types to convert:\n",
      "   str_cnt  num_cnt  date_cnt  na_cnt  count\n",
      "0     True    False     False   False      3\n",
      "1     True    False      True   False      1\n",
      "\n",
      "Numeric types of columns:\n",
      "Series([], Name: count, dtype: int64)\n",
      "\n",
      "Largest number of unique strings: 51621\n"
     ]
    },
    {
     "data": {
      "text/html": [
       "<div>\n",
       "<style scoped>\n",
       "    .dataframe tbody tr th:only-of-type {\n",
       "        vertical-align: middle;\n",
       "    }\n",
       "\n",
       "    .dataframe tbody tr th {\n",
       "        vertical-align: top;\n",
       "    }\n",
       "\n",
       "    .dataframe thead th {\n",
       "        text-align: right;\n",
       "    }\n",
       "</style>\n",
       "<table border=\"1\" class=\"dataframe\">\n",
       "  <thead>\n",
       "    <tr style=\"text-align: right;\">\n",
       "      <th></th>\n",
       "      <th>label</th>\n",
       "      <th>uniq_strs</th>\n",
       "      <th>str_list</th>\n",
       "      <th>missing_val_cnt</th>\n",
       "      <th>missing_val_list</th>\n",
       "      <th>numeric_str</th>\n",
       "      <th>num_type</th>\n",
       "      <th>uniq_num</th>\n",
       "      <th>max_num</th>\n",
       "      <th>min_num</th>\n",
       "      <th>str_cnt</th>\n",
       "      <th>num_cnt</th>\n",
       "      <th>date_cnt</th>\n",
       "      <th>na_cnt</th>\n",
       "    </tr>\n",
       "    <tr>\n",
       "      <th>col</th>\n",
       "      <th></th>\n",
       "      <th></th>\n",
       "      <th></th>\n",
       "      <th></th>\n",
       "      <th></th>\n",
       "      <th></th>\n",
       "      <th></th>\n",
       "      <th></th>\n",
       "      <th></th>\n",
       "      <th></th>\n",
       "      <th></th>\n",
       "      <th></th>\n",
       "      <th></th>\n",
       "      <th></th>\n",
       "    </tr>\n",
       "  </thead>\n",
       "  <tbody>\n",
       "    <tr>\n",
       "      <th>EXAMTP</th>\n",
       "      <td>SV/EV XR:X-ray image type (calc)</td>\n",
       "      <td>11</td>\n",
       "      <td>{Full Limb, PA Bilateral Hand, Lateral Right K...</td>\n",
       "      <td>0</td>\n",
       "      <td>{}</td>\n",
       "      <td>False</td>\n",
       "      <td>None</td>\n",
       "      <td>None</td>\n",
       "      <td>None</td>\n",
       "      <td>None</td>\n",
       "      <td>68506</td>\n",
       "      <td>0</td>\n",
       "      <td>0</td>\n",
       "      <td>0</td>\n",
       "    </tr>\n",
       "    <tr>\n",
       "      <th>XRBARCD</th>\n",
       "      <td>SV/EV XR:X-ray image barcode (calc)</td>\n",
       "      <td>51621</td>\n",
       "      <td>{, 016600855104, 016603165904, 016603691001, 0...</td>\n",
       "      <td>0</td>\n",
       "      <td>{}</td>\n",
       "      <td>False</td>\n",
       "      <td>None</td>\n",
       "      <td>None</td>\n",
       "      <td>None</td>\n",
       "      <td>None</td>\n",
       "      <td>68506</td>\n",
       "      <td>0</td>\n",
       "      <td>0</td>\n",
       "      <td>0</td>\n",
       "    </tr>\n",
       "    <tr>\n",
       "      <th>XRDATE</th>\n",
       "      <td>SV/EV XR:Date x-ray completed (calc)</td>\n",
       "      <td>0</td>\n",
       "      <td>{}</td>\n",
       "      <td>1</td>\n",
       "      <td>{A}</td>\n",
       "      <td>False</td>\n",
       "      <td>None</td>\n",
       "      <td>None</td>\n",
       "      <td>None</td>\n",
       "      <td>None</td>\n",
       "      <td>16886</td>\n",
       "      <td>0</td>\n",
       "      <td>51620</td>\n",
       "      <td>0</td>\n",
       "    </tr>\n",
       "    <tr>\n",
       "      <th>XRTECID</th>\n",
       "      <td>SV/EV XR:Clinical center radiology tech ID (calc)</td>\n",
       "      <td>429</td>\n",
       "      <td>{, 4061, 3049, C062, 4068, 4096, A002, A005, 3...</td>\n",
       "      <td>0</td>\n",
       "      <td>{}</td>\n",
       "      <td>False</td>\n",
       "      <td>None</td>\n",
       "      <td>None</td>\n",
       "      <td>None</td>\n",
       "      <td>None</td>\n",
       "      <td>68506</td>\n",
       "      <td>0</td>\n",
       "      <td>0</td>\n",
       "      <td>0</td>\n",
       "    </tr>\n",
       "  </tbody>\n",
       "</table>\n",
       "</div>"
      ],
      "text/plain": [
       "                                                     label  uniq_strs  \\\n",
       "col                                                                     \n",
       "EXAMTP                    SV/EV XR:X-ray image type (calc)         11   \n",
       "XRBARCD                SV/EV XR:X-ray image barcode (calc)      51621   \n",
       "XRDATE                SV/EV XR:Date x-ray completed (calc)          0   \n",
       "XRTECID  SV/EV XR:Clinical center radiology tech ID (calc)        429   \n",
       "\n",
       "                                                  str_list  missing_val_cnt  \\\n",
       "col                                                                           \n",
       "EXAMTP   {Full Limb, PA Bilateral Hand, Lateral Right K...                0   \n",
       "XRBARCD  {, 016600855104, 016603165904, 016603691001, 0...                0   \n",
       "XRDATE                                                  {}                1   \n",
       "XRTECID  {, 4061, 3049, C062, 4068, 4096, A002, A005, 3...                0   \n",
       "\n",
       "        missing_val_list  numeric_str num_type uniq_num max_num min_num  \\\n",
       "col                                                                       \n",
       "EXAMTP                {}        False     None     None    None    None   \n",
       "XRBARCD               {}        False     None     None    None    None   \n",
       "XRDATE               {A}        False     None     None    None    None   \n",
       "XRTECID               {}        False     None     None    None    None   \n",
       "\n",
       "         str_cnt  num_cnt  date_cnt  na_cnt  \n",
       "col                                          \n",
       "EXAMTP     68506        0         0       0  \n",
       "XRBARCD    68506        0         0       0  \n",
       "XRDATE     16886        0     51620       0  \n",
       "XRTECID    68506        0         0       0  "
      ]
     },
     "execution_count": 454,
     "metadata": {},
     "output_type": "execute_result"
    }
   ],
   "source": [
    "data_stats_summary(tmp_df, data_stats_df)\n",
    "data_stats_df"
   ]
  },
  {
   "cell_type": "code",
   "execution_count": 455,
   "id": "23c10e4f",
   "metadata": {
    "execution": {
     "iopub.execute_input": "2023-12-22T01:20:59.131892Z",
     "iopub.status.busy": "2023-12-22T01:20:59.131555Z",
     "iopub.status.idle": "2023-12-22T01:20:59.144271Z",
     "shell.execute_reply": "2023-12-22T01:20:59.143609Z",
     "shell.execute_reply.started": "2023-12-22T01:20:59.131860Z"
    },
    "pycharm": {
     "name": "#%%\n"
    },
    "tags": []
   },
   "outputs": [
    {
     "name": "stdout",
     "output_type": "stream",
     "text": [
      "targets = {\n",
      "# Columns with only dates, missing, and NA values\n",
      "'date': ['XRDATE'],\n",
      "\n",
      "# Columns with only strings, missing, and NA values\n",
      "'cat': ['EXAMTP', 'XRBARCD', 'XRTECID'],\n",
      "\n",
      "}\n",
      "\n",
      "\n",
      "Handled columns: 4\n"
     ]
    }
   ],
   "source": [
    "suggest_conversions(data_stats_df)"
   ]
  },
  {
   "cell_type": "code",
   "execution_count": 456,
   "id": "1f04cf4a",
   "metadata": {
    "execution": {
     "iopub.execute_input": "2023-12-22T01:20:59.145813Z",
     "iopub.status.busy": "2023-12-22T01:20:59.145558Z",
     "iopub.status.idle": "2023-12-22T01:20:59.365883Z",
     "shell.execute_reply": "2023-12-22T01:20:59.364868Z",
     "shell.execute_reply.started": "2023-12-22T01:20:59.145789Z"
    },
    "pycharm": {
     "name": "#%%\n"
    },
    "tags": []
   },
   "outputs": [],
   "source": [
    "targets = {\n",
    "# Columns with only dates, missing, and NA values\n",
    "'date': ['XRDATE'],\n",
    "\n",
    "# Columns with only strings, missing, and NA values\n",
    "'cat': ['EXAMTP', 'XRBARCD', 'XRTECID'],\n",
    "\n",
    "}\n",
    "\n",
    "new_df, missing_df = convert_columns(targets, data_stats_df, tmp_df)"
   ]
  },
  {
   "cell_type": "code",
   "execution_count": 457,
   "id": "902a9562",
   "metadata": {
    "execution": {
     "iopub.execute_input": "2023-12-22T01:20:59.367944Z",
     "iopub.status.busy": "2023-12-22T01:20:59.367622Z",
     "iopub.status.idle": "2023-12-22T01:20:59.384934Z",
     "shell.execute_reply": "2023-12-22T01:20:59.383731Z",
     "shell.execute_reply.started": "2023-12-22T01:20:59.367909Z"
    },
    "pycharm": {
     "name": "#%%\n"
    },
    "tags": []
   },
   "outputs": [
    {
     "name": "stdout",
     "output_type": "stream",
     "text": [
      "\n",
      "VERSION          category\n",
      "ACCEPT           category\n",
      "ALIGN            category\n",
      "CENTER           category\n",
      "DEPICT           category\n",
      "EXAMTP           category\n",
      "EXPOSE           category\n",
      "MOTION           category\n",
      "POSITN           category\n",
      "XNDREAS          category\n",
      "XRBARCD          category\n",
      "XRCOMP           category\n",
      "XRDATE     datetime64[ns]\n",
      "XRSIDE           category\n",
      "XRTECID          category\n",
      "dtype: object\n",
      "\n",
      "Missing values present, shadow dataframe created.\n",
      "              XRDATE\n",
      "ID      Visit       \n",
      "9000099 V00      NaN\n",
      "        V00      NaN\n",
      "        V00      NaN\n",
      "9000296 V00      NaN\n",
      "        V00      NaN\n",
      "...              ...\n",
      "9999862 V10      NaN\n",
      "9999865 V10      NaN\n",
      "        V10      NaN\n",
      "9999878 V10      NaN\n",
      "        V10      NaN\n",
      "\n",
      "[68506 rows x 1 columns]\n"
     ]
    }
   ],
   "source": [
    "sanity_check(new_df)\n",
    "print()\n",
    "print(new_df.dtypes)\n",
    "if not missing_df.empty:\n",
    "    print('\\nMissing values present, shadow dataframe created.')\n",
    "    print(missing_df)"
   ]
  },
  {
   "cell_type": "code",
   "execution_count": 458,
   "id": "1b9101d9",
   "metadata": {
    "execution": {
     "iopub.execute_input": "2023-12-22T01:20:59.386799Z",
     "iopub.status.busy": "2023-12-22T01:20:59.386321Z",
     "iopub.status.idle": "2023-12-22T01:20:59.405816Z",
     "shell.execute_reply": "2023-12-22T01:20:59.405066Z",
     "shell.execute_reply.started": "2023-12-22T01:20:59.386765Z"
    },
    "pycharm": {
     "name": "#%%\n"
    },
    "tags": []
   },
   "outputs": [
    {
     "name": "stdout",
     "output_type": "stream",
     "text": [
      "\n",
      "Final dataframe size: 7.50MB\n",
      "Shadow dataframe size: 0.38MB\n"
     ]
    }
   ],
   "source": [
    "print('\\nFinal dataframe size: {:.2f}MB'.format(new_df.memory_usage(deep=True).sum() / (1024**2)))\n",
    "print('Shadow dataframe size: {:.2f}MB'.format(missing_df.memory_usage(deep=True).sum() / (1024**2)))"
   ]
  },
  {
   "cell_type": "code",
   "execution_count": 459,
   "id": "ebfffecd-6103-49ac-b934-e363bc19f80e",
   "metadata": {
    "execution": {
     "iopub.execute_input": "2023-12-22T01:20:59.407549Z",
     "iopub.status.busy": "2023-12-22T01:20:59.407256Z",
     "iopub.status.idle": "2023-12-22T01:20:59.608340Z",
     "shell.execute_reply": "2023-12-22T01:20:59.607567Z",
     "shell.execute_reply.started": "2023-12-22T01:20:59.407522Z"
    },
    "tags": []
   },
   "outputs": [],
   "source": [
    "utils.write_parquet(new_df, 'data/' + prefix + '_values.parquet')\n",
    "if not missing_df.empty:\n",
    "    utils.write_parquet(new_df, 'data/' + prefix + '_missing_values.parquet', verbose=False)"
   ]
  }
 ],
 "metadata": {
  "kernelspec": {
   "display_name": "Python 3 (ipykernel)",
   "language": "python",
   "name": "python3"
  },
  "language_info": {
   "codemirror_mode": {
    "name": "ipython",
    "version": 3
   },
   "file_extension": ".py",
   "mimetype": "text/x-python",
   "name": "python",
   "nbconvert_exporter": "python",
   "pygments_lexer": "ipython3",
   "version": "3.9.6"
  },
  "toc": {
   "base_numbering": 1,
   "nav_menu": {},
   "number_sections": true,
   "sideBar": true,
   "skip_h1_title": false,
   "title_cell": "Table of Contents",
   "title_sidebar": "Contents",
   "toc_cell": false,
   "toc_position": {},
   "toc_section_display": true,
   "toc_window_display": false
  },
  "varInspector": {
   "cols": {
    "lenName": 16,
    "lenType": 16,
    "lenVar": 40
   },
   "kernels_config": {
    "python": {
     "delete_cmd_postfix": "",
     "delete_cmd_prefix": "del ",
     "library": "var_list.py",
     "varRefreshCmd": "print(var_dic_list())"
    },
    "r": {
     "delete_cmd_postfix": ") ",
     "delete_cmd_prefix": "rm(",
     "library": "var_list.r",
     "varRefreshCmd": "cat(var_dic_list()) "
    }
   },
   "types_to_exclude": [
    "module",
    "function",
    "builtin_function_or_method",
    "instance",
    "_Feature"
   ],
   "window_display": false
  }
 },
 "nbformat": 4,
 "nbformat_minor": 5
}
