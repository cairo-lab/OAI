{
 "cells": [
  {
   "cell_type": "markdown",
   "id": "august-benjamin",
   "metadata": {},
   "source": [
    "# Variable groups\n",
    "\n",
    "Aside from the categories, the majority of labels start with a prefix that groups questions together. This breaks those out and counts them."
   ]
  },
  {
   "cell_type": "code",
   "execution_count": null,
   "id": "through-glucose",
   "metadata": {},
   "outputs": [],
   "source": [
    "import pickle\n",
    "import pandas as pd"
   ]
  },
  {
   "cell_type": "code",
   "execution_count": null,
   "id": "based-papua",
   "metadata": {},
   "outputs": [],
   "source": [
    "# Constants\n",
    "visits = {'P02':'IEI', 'P01':'SV', 'V00':'EV', 'V01':'12m', 'V02':'18m', 'V03':'24m', 'V04':'30m', 'V05':'36m', 'V06':'48m', 'V07':'60m', 'V08':'72m', 'V09':'84m', 'V10':'96m', 'V11':'108m', 'V99':\"Outcomes\"}"
   ]
  },
  {
   "cell_type": "code",
   "execution_count": null,
   "id": "worse-terrain",
   "metadata": {},
   "outputs": [],
   "source": [
    "# Created in 'Parse the VG_Form.pdf for OAI variable categories and sources' notebook\n",
    "vars_df = pickle.load(open('pkl/oai_vars_labels_sources.pkl', 'rb' ))"
   ]
  },
  {
   "cell_type": "markdown",
   "id": "circular-prize",
   "metadata": {},
   "source": [
    "## Variable collected per visit"
   ]
  },
  {
   "cell_type": "code",
   "execution_count": null,
   "id": "little-insurance",
   "metadata": {},
   "outputs": [],
   "source": [
    "for visit in visits.keys():\n",
    "    print(visits[visit] + ':\\t\\t' + str(vars_df[vars_df.Variable.str.startswith(visit)].shape[0]))"
   ]
  },
  {
   "cell_type": "markdown",
   "id": "utility-evanescence",
   "metadata": {},
   "source": [
    "## Variables per label prefix\n",
    "First, lets (approximately) see how many labels have prefixes."
   ]
  },
  {
   "cell_type": "code",
   "execution_count": null,
   "id": "motivated-button",
   "metadata": {},
   "outputs": [],
   "source": [
    "# Presuming all variable with a ':' have a prefix\n",
    "print('Variables w/ a prefix: ' + str(vars_df.Label.str.contains(\":\").sum()))"
   ]
  },
  {
   "cell_type": "code",
   "execution_count": null,
   "id": "tight-munich",
   "metadata": {},
   "outputs": [],
   "source": [
    "# Provide a count of the number of variables with a given group prefix\n",
    "def count_groups(df, groups, startswith=True):\n",
    "    total = 0\n",
    "    for group in groups:\n",
    "        if startswith:\n",
    "            count = df.Label.str.startswith(group + ':').sum()\n",
    "        else:\n",
    "            count = df.Label.str.contains(group+ ':').sum()\n",
    "        total += count\n",
    "        print(group + ':\\t' + str(count))\n",
    "    print('Total:\\t' + str(total) + '\\n')\n",
    "\n",
    "# Drop these prefixes to expose the next ones\n",
    "def trim_groups(df, groups):\n",
    "    for group in groups:\n",
    "        # Add escapes if needed for names with parens\n",
    "        if '(' in group:\n",
    "            group = group.replace('(', '\\(')\n",
    "            group = group.replace(')', '\\)')\n",
    "        df.Label = df.Label.str.replace(group + ':','')  "
   ]
  },
  {
   "cell_type": "code",
   "execution_count": null,
   "id": "operational-seating",
   "metadata": {},
   "outputs": [],
   "source": [
    "tmp_df = vars_df.copy()\n",
    "\n",
    "# Prefixes denoting named question set/scoring system\n",
    "question_groups = ['CAM', 'ICOAP', 'TMJ', 'SF-12', 'CSQ', 'Charlson Comorbidity', 'CES-D',\n",
    "                   'Block Brief 2000', 'IADL', 'ADL', 'LLDI', 'WORMS', 'BLOKS', 'MOAKS', 'MIF']\n",
    "\n",
    "count_groups(tmp_df, question_groups)"
   ]
  },
  {
   "cell_type": "code",
   "execution_count": null,
   "id": "attractive-piano",
   "metadata": {},
   "outputs": [],
   "source": [
    "# Some of these are also sub-prefixes to the prior groups, dropping those prefixes will change the counts\n",
    "#trim_groups(tmp_df, question_groups)\n",
    "\n",
    "# Prefixes for other question groups\n",
    "other_groups = ['Isometric strength',\n",
    "                'Phlebotomy', 'Exercise', 'Urine collection', 'Leisure activities', 'Household activities',\n",
    "                'Occupational activities', 'Quality of life', 'Laboratory processing',\n",
    "                'Blood pressure', 'Radial pulse', 'Weight loss',\n",
    "                'Repeated chair stands', '400-meter walk eligibility', 'Left knee', 'Right knee',\n",
    "                'Right knee symptoms', 'Left knee symptoms', 'Left hip', 'Right hip',\n",
    "                'Doctor said you broke or fractured bone(s), since last visit about 12 months ago',\n",
    "                'RA symptoms', 'How heard about OAI',\n",
    "                'Abdominal circumference', 'Height (standing)',\n",
    "                'Baseline knee x-ray', 'Right knee baseline x-ray', 'Left knee baseline x-ray',\n",
    "                'Cancer type', 'Cancer removed by surgery', 'Doctor said cancer spread to other parts of body']\n",
    "\n",
    "count_groups(tmp_df, other_groups)"
   ]
  },
  {
   "cell_type": "code",
   "execution_count": null,
   "id": "quarterly-suspect",
   "metadata": {},
   "outputs": [],
   "source": [
    "# These prefixes are part of phrase sets (e.g Left knee pain, Right knee pain, Left hip pain, etc.)\n",
    "descriptive_groups = ['pain', 'pain location', 'knee difficulty',\n",
    "                      'stiffness', 'stiffness location', '-meter walk',\n",
    "                      '[Kk]nee exam', '[Hh]and exam', '[Ww]eight', \n",
    "                      'attempted, unable to complete', 'chair stand', 'allux valgus']\n",
    "\n",
    "count_groups(tmp_df, descriptive_groups, startswith=False)\n",
    "\n",
    "#tmp[tmp['Label'].str.contains(':')]['Label'].unique()"
   ]
  },
  {
   "cell_type": "code",
   "execution_count": null,
   "id": "particular-party",
   "metadata": {},
   "outputs": [],
   "source": [
    "tmp = vars_df.copy()\n",
    "\n",
    "for group in question_groups + other_groups:\n",
    "    tmp = tmp.drop(tmp.loc[tmp.Label.str.startswith(group + ':')].index)\n",
    "for group in descriptive_groups:\n",
    "    tmp = tmp.drop(tmp.loc[tmp.Label.str.contains(group + ':')].index)\n",
    "\n",
    "print('Variables w/out prefix\\tUnique variables w/out prefix')\n",
    "print(str(tmp.shape[0]) + '\\t\\t\\t\\t' + str(tmp.Label.nunique()))"
   ]
  },
  {
   "cell_type": "code",
   "execution_count": null,
   "id": "powered-darwin",
   "metadata": {},
   "outputs": [],
   "source": [
    "len(set(vars_df.Variable))"
   ]
  }
 ],
 "metadata": {
  "kernelspec": {
   "display_name": "Python 3",
   "language": "python",
   "name": "python3"
  },
  "language_info": {
   "codemirror_mode": {
    "name": "ipython",
    "version": 3
   },
   "file_extension": ".py",
   "mimetype": "text/x-python",
   "name": "python",
   "nbconvert_exporter": "python",
   "pygments_lexer": "ipython3",
   "version": "3.7.8"
  }
 },
 "nbformat": 4,
 "nbformat_minor": 5
}
