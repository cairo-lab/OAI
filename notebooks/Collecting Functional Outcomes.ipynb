{
 "cells": [
  {
   "cell_type": "markdown",
   "id": "latter-tobago",
   "metadata": {},
   "source": [
    "# Creating Functional Measures Groups\n",
    "\n",
    "Large swaths of what was measured in OAI were functional measures.  This notebook will, piece by piece sort out each measure and tag the questions associate with that measure."
   ]
  },
  {
   "cell_type": "code",
   "execution_count": null,
   "id": "optimum-alabama",
   "metadata": {},
   "outputs": [],
   "source": [
    "import pickle\n",
    "import numpy as np\n",
    "import pandas as pd"
   ]
  },
  {
   "cell_type": "code",
   "execution_count": null,
   "id": "subtle-density",
   "metadata": {},
   "outputs": [],
   "source": [
    "# Created in 'Parse the VG_Form.pdf for OAI variable categories and sources' notebook\n",
    "vars_df = pickle.load(open('oai_vars_labels_sources.pkl', 'rb' ))\n",
    "vars_cat_df = pickle.load(open('oai_vars_categories_subcategories.pkl', 'rb' ))"
   ]
  },
  {
   "cell_type": "code",
   "execution_count": null,
   "id": "meaningful-rubber",
   "metadata": {},
   "outputs": [],
   "source": [
    "# Utility functions\n",
    "# Return the variable IDs of all variables with a given Category/Subcategory\n",
    "def get_variables_by_category(category, subcategory=None):\n",
    "    if not subcategory:\n",
    "        return vars_cat_df[vars_cat_df.Category == category]\n",
    "    return vars_cat_df[(vars_cat_df.Category == category) & (vars_cat_df.Subcategory == subcategory)]\n",
    "\n",
    "# Return the variable IDs of all variables with a given category list\n",
    "def get_variables_by_category_list(categories):\n",
    "    return pd.concat([get_variables_by_category(cat) for cat in categories])\n",
    "\n",
    "\n",
    "# Print the first occurance of each variable within a cat/subcat\n",
    "def print_variables(cat, subcat):\n",
    "    print('\\n' + cat + ': ' + subcat)\n",
    "    tmp = get_variables_by_category(cat, subcat).Variable.drop_duplicates().to_frame()\n",
    "    tmp = tmp.set_index('Variable').join(vars_df.set_index('Variable'))\n",
    "    tmp.Label = tmp.Label.str.replace('Left ', 'L/R ')\n",
    "    tmp.Label = tmp.Label.str.replace('Right ', 'L/R ')\n",
    "    tmp = tmp.drop_duplicates(subset=['Label'])\n",
    "    print(tmp['Label'])\n",
    "\n",
    "# Given a base variable name, create a numbered series with that base\n",
    "def metric_series(label, count):\n",
    "    return [label + str(i) for i in range(1,count+1)]\n",
    "\n",
    "# Given a base label swap out the identified character\n",
    "def swap_l2r(base, char_idx):\n",
    "    return base[0:char_idx] + 'R' + base[char_idx+1:]\n",
    "\n",
    "# Given a base variable name, create a series of left and right versions\n",
    "def left_right_series(char_idx, left_label, count):\n",
    "    left = metric_series(left_label, count)\n",
    "    right_label = swap_l2r(left_label, char_idx)\n",
    "    right = metric_series(right_label, count)\n",
    "    return left, right"
   ]
  },
  {
   "cell_type": "markdown",
   "id": "recovered-stock",
   "metadata": {},
   "source": [
    "# Collect WOMAC and KOOS questions"
   ]
  },
  {
   "cell_type": "markdown",
   "id": "prostate-accent",
   "metadata": {},
   "source": [
    "## Find variable names\n",
    "### WOMAC"
   ]
  },
  {
   "cell_type": "code",
   "execution_count": null,
   "id": "particular-mercury",
   "metadata": {},
   "outputs": [],
   "source": [
    "print_variables('WOMAC/KOOS', 'WOMAC total score')\n",
    "print_variables('WOMAC/KOOS', 'WOMAC pain')"
   ]
  },
  {
   "cell_type": "markdown",
   "id": "official-headquarters",
   "metadata": {},
   "source": [
    "This fits with the traditional 5 pain questions in WOMAC."
   ]
  },
  {
   "cell_type": "code",
   "execution_count": null,
   "id": "empty-employee",
   "metadata": {},
   "outputs": [],
   "source": [
    "print_variables('WOMAC/KOOS', 'WOMAC stiffness')"
   ]
  },
  {
   "cell_type": "markdown",
   "id": "modular-disco",
   "metadata": {},
   "source": [
    "This fits with the traditional 2 stiffness questions in WOMAC."
   ]
  },
  {
   "cell_type": "code",
   "execution_count": null,
   "id": "proud-gross",
   "metadata": {},
   "outputs": [],
   "source": [
    "print_variables('WOMAC/KOOS', 'WOMAC disability')"
   ]
  },
  {
   "cell_type": "markdown",
   "id": "deadly-envelope",
   "metadata": {},
   "source": [
    "This fits with the traditional 17 physical function questions in WOMAC."
   ]
  },
  {
   "cell_type": "code",
   "execution_count": null,
   "id": "normal-simulation",
   "metadata": {},
   "outputs": [],
   "source": [
    "# Create WOMAC dataframe\n",
    "womac_df = get_variables_by_category('WOMAC/KOOS')\n",
    "womac_df = womac_df[womac_df.Subcategory.str.contains('WOMAC')] # drop KOOS questions\n",
    "womac_df['Visit'] = womac_df.Variable.str[:3].astype('category')\n",
    "womac_df['VariableBase'] = womac_df.Variable.str[3:].astype('category')\n",
    "\n",
    "# Label all the scores\n",
    "womac_right_scores = ['WOMTSR', 'WOMKPR', 'WOMSTFR', 'WOMADLR']\n",
    "womac_left_scores = ['WOMTSL', 'WOMKPL', 'WOMSTFL', 'WOMADLL']\n",
    "womac_all_scores = womac_right_scores + womac_left_scores\n",
    "\n",
    "womac_df['ValueType'] = 'question'\n",
    "womac_df.loc[womac_df.VariableBase.isin(womac_all_scores), 'ValueType'] = 'score'\n",
    "womac_df.ValueType = womac_df.ValueType.astype('category')\n",
    "\n",
    "# Questions\n",
    "womac_pain_questions_left, womac_pain_questions_right = left_right_series(2, 'WPRKN', 5)\n",
    "womac_stiffness_questions_left, womac_stiffness_questions_right = left_right_series(2, 'WSRKN', 2)\n",
    "womac_disability_questions_left, womac_disability_questions_right = left_right_series(2, 'DIRKN', 17)\n",
    "\n",
    "# Label which knee\n",
    "womac_df['Side'] = 'left'\n",
    "right_knee_vars = womac_right_scores + womac_pain_questions_right + womac_stiffness_questions_right + womac_disability_questions_right\n",
    "womac_df.loc[womac_df.VariableBase.isin(right_knee_vars), 'Side'] = 'right'\n",
    "womac_df.Side = womac_df.Side.astype('category')\n",
    "# 12 collection dates X 56 questions = 672 variables\n",
    "womac_df"
   ]
  },
  {
   "cell_type": "markdown",
   "id": "general-soccer",
   "metadata": {},
   "source": [
    "### KOOS"
   ]
  },
  {
   "cell_type": "code",
   "execution_count": null,
   "id": "organic-sphere",
   "metadata": {},
   "outputs": [],
   "source": [
    "print_variables('WOMAC/KOOS', 'KOOS pain')"
   ]
  },
  {
   "cell_type": "markdown",
   "id": "aboriginal-waterproof",
   "metadata": {},
   "source": [
    "The 4 additional KOOS pain questions (beyond the WOMAC 5)."
   ]
  },
  {
   "cell_type": "code",
   "execution_count": null,
   "id": "respective-opportunity",
   "metadata": {},
   "outputs": [],
   "source": [
    "print_variables('WOMAC/KOOS', 'KOOS symptoms')"
   ]
  },
  {
   "cell_type": "markdown",
   "id": "committed-horizon",
   "metadata": {},
   "source": [
    "The 5 additional KOOS symptom questions (beyond the 2 WOMAC stiffness)."
   ]
  },
  {
   "cell_type": "code",
   "execution_count": null,
   "id": "radio-flash",
   "metadata": {},
   "outputs": [],
   "source": [
    "print_variables('WOMAC/KOOS', 'KOOS function')"
   ]
  },
  {
   "cell_type": "markdown",
   "id": "endangered-exercise",
   "metadata": {},
   "source": [
    "The standard 5 KOOS sports/recreational functional questions."
   ]
  },
  {
   "cell_type": "code",
   "execution_count": null,
   "id": "refined-funeral",
   "metadata": {},
   "outputs": [],
   "source": [
    "print_variables('WOMAC/KOOS', 'KOOS QOL')"
   ]
  },
  {
   "cell_type": "markdown",
   "id": "competent-duplicate",
   "metadata": {},
   "source": [
    "The standard 4 KOOS QOL questions."
   ]
  },
  {
   "cell_type": "code",
   "execution_count": null,
   "id": "meaning-nicholas",
   "metadata": {},
   "outputs": [],
   "source": [
    "# Create KOOS dataframe\n",
    "koos_df = get_variables_by_category('WOMAC/KOOS').copy()\n",
    "koos_df['Visit'] = koos_df.Variable.str[:3].astype('category')\n",
    "koos_df['VariableBase'] = koos_df.Variable.str[3:].astype('category')\n",
    "koos_df = koos_df[~koos_df.VariableBase.isin(womac_all_scores)]\n",
    "\n",
    "# Label all the scores\n",
    "koos_right_scores = ['KOOSKPR', 'KOOSYMR']\n",
    "koos_left_scores = ['KOOSKPL', 'KOOSYML']\n",
    "koos_function_score = ['KOOSFSR']\n",
    "koos_qol_score = ['KOOSQOL']\n",
    "# NOTE: OAI never seems to have calculated a ADL/disability score in the KOOS normalize form\n",
    "koos_all_scores = koos_right_scores + koos_left_scores + koos_function_score + koos_qol_score\n",
    "\n",
    "koos_df['ValueType'] = 'question'\n",
    "koos_df.loc[koos_df.VariableBase.isin(koos_all_scores), 'ValueType'] = 'score'\n",
    "koos_df.ValueType = koos_df.ValueType.astype('category')\n",
    "\n",
    "# Questions\n",
    "koos_pain_questions_left, koos_pain_questions_right = left_right_series(2, 'KPRKN', 3)\n",
    "koos_pain_questions_left += womac_pain_questions_left + ['P7LKFR']\n",
    "koos_pain_questions_right += womac_pain_questions_right + ['P7RKFR']\n",
    "\n",
    "koos_syptoms_questions_left, koos_syptoms_questions_right = left_right_series(3, 'KSXRKN', 5)\n",
    "koos_syptoms_questions_left += womac_stiffness_questions_left\n",
    "koos_syptoms_questions_right += womac_stiffness_questions_right\n",
    "\n",
    "koos_disability_questions_left = womac_disability_questions_left\n",
    "koos_disability_questions_right = womac_disability_questions_right\n",
    "\n",
    "koos_function_questions = metric_series('KOOSFX', 5)\n",
    "koos_qol_questions = metric_series('KQOL', 4)\n",
    "koos_all_questions = koos_qol_questions + koos_function_questions \\\n",
    "                    + koos_disability_questions_left + koos_syptoms_questions_left + koos_pain_questions_left \\\n",
    "                    + koos_disability_questions_right + koos_syptoms_questions_right + koos_pain_questions_right\n",
    "\n",
    "\n",
    "# Label which knee\n",
    "koos_df['Side'] = 'left'\n",
    "right_knee_vars = koos_right_scores + koos_pain_questions_right + koos_syptoms_questions_right + koos_disability_questions_right\n",
    "koos_df.loc[koos_df.VariableBase.isin(right_knee_vars), 'Side'] = 'right'\n",
    "either_knee_vars = koos_function_score + koos_function_questions\n",
    "koos_df.loc[koos_df.VariableBase.isin(either_knee_vars), 'Side'] = 'either'\n",
    "qol_vars = koos_qol_score + koos_qol_questions\n",
    "koos_df.loc[koos_df.VariableBase.isin(qol_vars), 'Side'] =  np.nan\n",
    "koos_df.Side = koos_df.Side.astype('category')\n",
    "\n",
    "# 12 collection dates X 81 questions = 972 variables\n",
    "koos_df"
   ]
  },
  {
   "cell_type": "code",
   "execution_count": null,
   "id": "bulgarian-vehicle",
   "metadata": {},
   "outputs": [],
   "source": [
    "# TODO: \n",
    "# Confirm WOMAC scores are as expected\n",
    "# Confirm KOOS scores are as expected"
   ]
  },
  {
   "cell_type": "markdown",
   "id": "another-lodge",
   "metadata": {},
   "source": [
    "## ICOAP\n",
    "Measure of Intermittent and Constant Osteoarthritis Pain:  ICOAP\n",
    "\n",
    "Constant pain subscale: To calculate the constant pain subscale, sum the scores for items 1 through 5. If subject did not report constant pain, assign a score of 0. This score can be transformed to a score out of 100 using the following formula:   (Total pain score / 20) x 100\n",
    "* how intense\n",
    "* affect sleep\n",
    "* affect QOL\n",
    "* how frustrated\n",
    "* how upset\n",
    "\n",
    "Intermittent pain subscale: To calculate the intermittent pain subscale, sum the scores for items 6 through 11. If subject did not report intermittent pain, assign a score of 0. This score can be transformed to a score out of 100 using the following formula:   (Total pain score / 24) x 100\n",
    "* severity most intense pain\n",
    "* frequency\n",
    "* affect sleep\n",
    "* affect QOL\n",
    "* how frustrated\n",
    "* how upset\n",
    "\n",
    "\n",
    "Total pain score: To calculate the total pain score, sum the constant and intermittent pain subscales.  Maximum total pain score ranges from 0-44.   This score can be transformed to a score out of 100 using the following formula:   (Total pain score / 44) x 100"
   ]
  },
  {
   "cell_type": "markdown",
   "id": "congressional-delaware",
   "metadata": {},
   "source": [
    "### Knee\n",
    "Only asked on V06-V10\n",
    "\n",
    "3 additional questions asking about pain in the past 7 days (each knee)\n",
    "* KPN[L/R]7 - any (wasn't asked on V10)\n",
    "* CKPN[L/R]7 - constant\n",
    "* IKPN[L/R]7 - intermittent\n",
    "\n",
    "Two questions were added to the intermittent list during V10:\n",
    "* IP[L/R]KN7 - how often come on without warning\n",
    "* IP[L/R]KN8 - how often occur after specific trigger"
   ]
  },
  {
   "cell_type": "code",
   "execution_count": null,
   "id": "floating-relay",
   "metadata": {},
   "outputs": [],
   "source": [
    "# Create Knee ICOAP dataframe\n",
    "icoap_df = vars_cat_df[vars_cat_df.Category.str.contains('Knee symptoms') & vars_cat_df.Subcategory.str.contains('ICOAP')]\n",
    "icoap_df = icoap_df.drop_duplicates(subset='Variable')\n",
    "icoap_df['Visit'] = icoap_df.Variable.str[:3].astype('category')\n",
    "icoap_df['VariableBase'] = icoap_df.Variable.str[3:].astype('category')\n",
    "\n",
    "# Label all the scores\n",
    "icoap_constant_score_left, icoap_constant_score_right = ['CPSKL'], ['CPSKR'] \n",
    "icoap_intermittent_score_left, icoap_intermittent_score_right = ['IPSKL'], ['IPSKR']\n",
    "icoap_total_score_left, icoap_total_score_right = ['ICPTSKL'], ['ICPTSKR']\n",
    "icoap_right_scores = icoap_constant_score_left + icoap_intermittent_score_left + icoap_total_score_left\n",
    "icoap_left_scores = icoap_constant_score_right + icoap_intermittent_score_right + icoap_total_score_right\n",
    "icoap_all_scores = icoap_left_scores + icoap_right_scores\n",
    "\n",
    "icoap_df['ValueType'] = 'question'\n",
    "icoap_df.loc[icoap_df.VariableBase.isin(icoap_all_scores), 'ValueType'] = 'score'\n",
    "icoap_df.ValueType = icoap_df.ValueType.astype('category')\n",
    "\n",
    "# Questions - any/const/intermittent past 7 days\n",
    "icoap_any_left, icoap_any_right = ['KPNL7'], ['KPNR7']   # any knee pain last 7 days - not asked V10\n",
    "icoap_constant_left, icoap_constant_right = ['CKPNL7'], ['CKPNR7'] # const knee pain last 7 days\n",
    "icoap_intermittent_left, icoap_intermittent_right = ['IKPNL7'], ['IKPNR7']  # intermittent knee pain last 7 days\n",
    "\n",
    "icoap_constant_questions_left, icoap_constant_questions_right = left_right_series(2, 'CPLKN', 5)\n",
    "icoap_intermittent_questions_left, icoap_intermittent_questions_right = left_right_series(2, 'IPLKN', 8) # Q7,8 only asked during V10\n",
    "\n",
    "# Label which knee\n",
    "icoap_df['Side'] = 'left'\n",
    "right_knee_vars = icoap_right_scores + icoap_any_right + icoap_constant_right + icoap_intermittent_right + icoap_constant_questions_right + icoap_intermittent_questions_right\n",
    "icoap_df.loc[icoap_df.VariableBase.isin(right_knee_vars), 'Side'] = 'right'\n",
    "icoap_df.Side = icoap_df.Side.astype('category')\n",
    "# (4 collection dates X 34 questions) + (1 collection dates X 36 questions) = 172 variables\n",
    "icoap_df"
   ]
  },
  {
   "cell_type": "markdown",
   "id": "postal-emission",
   "metadata": {},
   "source": [
    "### Hip\n",
    "Only asked on V08, V10\n",
    "\n",
    "3 additional questions asking about pain in the past 7 days (each knee)\n",
    "* HPN[L/R]7 - any (wasn't asked on V10)\n",
    "* CHPN[L/R]7 - constant\n",
    "* IHPN[L/R]7 - intermittent\n",
    "\n",
    "Two questions were added to the intermittent list during V10:\n",
    "* IP[L/R]HP7 - intermittent pain: how often come on without warning\n",
    "* IP[L/R]HP8 - intermittent pain: how often occur after specific trigger"
   ]
  },
  {
   "cell_type": "code",
   "execution_count": null,
   "id": "persistent-means",
   "metadata": {},
   "outputs": [],
   "source": [
    "# Create Hip ICOAP dataframe\n",
    "icoap_hip_df = vars_cat_df[vars_cat_df.Category.str.contains('Hip symptoms') & vars_cat_df.Subcategory.str.contains('ICOAP')]\n",
    "icoap_hip_df = icoap_hip_df.drop_duplicates(subset='Variable')\n",
    "icoap_hip_df['Visit'] = icoap_hip_df.Variable.str[:3].astype('category')\n",
    "icoap_hip_df['VariableBase'] = icoap_hip_df.Variable.str[3:].astype('category')\n",
    "\n",
    "# Label all the scores\n",
    "icoap_constant_score_left, icoap_constant_score_right = ['CPSHL'], ['CPSHR'] \n",
    "icoap_intermittent_score_left, icoap_intermittent_score_right = ['IPSHL'], ['IPSHR']\n",
    "icoap_total_score_left, icoap_total_score_right = ['ICPTSHL'], ['ICPTSHR']\n",
    "icoap_right_scores = icoap_constant_score_left + icoap_intermittent_score_left + icoap_total_score_left\n",
    "icoap_left_scores = icoap_constant_score_right + icoap_intermittent_score_right + icoap_total_score_right\n",
    "icoap_all_scores = icoap_left_scores + icoap_right_scores\n",
    "\n",
    "icoap_hip_df['ValueType'] = 'question'\n",
    "icoap_hip_df.loc[icoap_hip_df.VariableBase.isin(icoap_all_scores), 'ValueType'] = 'score'\n",
    "icoap_hip_df.ValueType = icoap_hip_df.ValueType.astype('category')\n",
    "\n",
    "# Questions - any/const/intermittent past 7 days\n",
    "icoap_any_left, icoap_any_right = ['HPNL7'], ['HPNR7']   # any knee pain last 7 days - not asked V10\n",
    "icoap_constant_left, icoap_constant_right = ['CHPNL7'], ['CHPNR7'] # const knee pain last 7 days\n",
    "icoap_intermittent_left, icoap_intermittent_right = ['IHPNL7'], ['IHPNR7']  # intermittent knee pain last 7 days\n",
    "\n",
    "icoap_constant_questions_left, icoap_constant_questions_right = left_right_series(2, 'CPLHP', 5)\n",
    "icoap_intermittent_questions_left, icoap_intermittent_questions_right = left_right_series(2, 'IPLHP', 8) # Q7,8 only asked during V10\n",
    "\n",
    "# Label which knee\n",
    "icoap_hip_df['Side'] = 'left'\n",
    "right_hip_vars = icoap_right_scores + icoap_any_right + icoap_constant_right + icoap_intermittent_right + icoap_constant_questions_right + icoap_intermittent_questions_right\n",
    "icoap_hip_df.loc[icoap_hip_df.VariableBase.isin(right_hip_vars), 'Side'] = 'right'\n",
    "icoap_hip_df.Side = icoap_hip_df.Side.astype('category')\n",
    "# (1 collection dates X 34 questions) + (1 collection dates X 36 questions) = 70 variables\n",
    "icoap_hip_df"
   ]
  },
  {
   "cell_type": "markdown",
   "id": "external-trailer",
   "metadata": {},
   "source": [
    "## Outcomes"
   ]
  },
  {
   "cell_type": "code",
   "execution_count": null,
   "id": "closed-momentum",
   "metadata": {},
   "outputs": [],
   "source": [
    "outcomes_df = get_variables_by_category('Outcomes').copy()\n",
    "# 89 variables, all V99\n",
    "len(outcomes_df)"
   ]
  },
  {
   "cell_type": "code",
   "execution_count": null,
   "id": "intended-lover",
   "metadata": {},
   "outputs": [],
   "source": [
    "knee_replacement_df = get_variables_by_category('Outcomes', 'Knee replacement').copy()\n",
    "print(len(knee_replacement_df))\n",
    "# V99RNTCNT                               Most recent OAI contact\n",
    "# 14 L/R knee questions\n",
    "# V99ERKVSRP    OAI visit follow-up knee replacement self-reported at\n",
    "# V99ERKRPCF    follow-up knee replacement adjudication/confirmation status\n",
    "# V99ERKRPSN    knee replacement seen on follow-up OAI x-ray\n",
    "# V99ERKDATE    date of follow-up knee replacement\n",
    "# V99ERKFLDT    date flag, date of follow-up knee replacement from self report or adjudicated from medical records\n",
    "# V99ERKTLPR    total or partial follow-up knee replacement (calc)\n",
    "# V99ERKTPPR    type of partial follow-up knee replacement\n",
    "# V99ERKPODX    primary pre-operative diagnosis\n",
    "# V99ERKBLRP    knee replacement seen on baseline OAI x-ray\n",
    "# V99ERKDAYS    days between enrollment visit and follow-up knee replacement\n",
    "# V99ERKVSPR    closest OAI contact prior to follow-up knee replacement\n",
    "# V99ERKVSAF    closest OAI contact after to follow-up knee replacement\n",
    "# V99ERKXRPR    closest OAI visit with knee x-ray prior to follow-up knee replacement\n",
    "# V99ERKXRAF    closest OAI visit with knee x-ray after follow-up knee replacement\n",
    "pd.set_option('display.max_colwidth', None)\n",
    "print_variables('Outcomes', 'Knee replacement')"
   ]
  },
  {
   "cell_type": "code",
   "execution_count": null,
   "id": "broken-revolution",
   "metadata": {},
   "outputs": [],
   "source": [
    "hip_replacement_df = get_variables_by_category('Outcomes', 'Hip replacement').copy()\n",
    "len(hip_replacement_df)"
   ]
  },
  {
   "cell_type": "code",
   "execution_count": null,
   "id": "extra-education",
   "metadata": {},
   "outputs": [],
   "source": [
    "death_df = get_variables_by_category('Outcomes', 'Death').copy()\n",
    "len(death_df)"
   ]
  },
  {
   "cell_type": "code",
   "execution_count": null,
   "id": "subsequent-shopper",
   "metadata": {},
   "outputs": [],
   "source": [
    "xray_df = get_variables_by_category('Outcomes', 'X-ray outcomes').copy()\n",
    "len(xray_df)"
   ]
  },
  {
   "cell_type": "code",
   "execution_count": null,
   "id": "heard-progress",
   "metadata": {},
   "outputs": [],
   "source": [
    "print_variables('Outcomes', 'Knee replacement')"
   ]
  },
  {
   "cell_type": "code",
   "execution_count": null,
   "id": "corresponding-recommendation",
   "metadata": {},
   "outputs": [],
   "source": [
    "# What about perf measures, strength measures, and knee exam?\n",
    "#Look into lifetime activity questions (swimming, ping pong"
   ]
  }
 ],
 "metadata": {
  "kernelspec": {
   "display_name": "Python 3",
   "language": "python",
   "name": "python3"
  },
  "language_info": {
   "codemirror_mode": {
    "name": "ipython",
    "version": 3
   },
   "file_extension": ".py",
   "mimetype": "text/x-python",
   "name": "python",
   "nbconvert_exporter": "python",
   "pygments_lexer": "ipython3",
   "version": "3.7.8"
  }
 },
 "nbformat": 4,
 "nbformat_minor": 5
}
