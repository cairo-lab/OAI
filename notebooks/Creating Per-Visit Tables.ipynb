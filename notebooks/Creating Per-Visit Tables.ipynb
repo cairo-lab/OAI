{
 "cells": [
  {
   "cell_type": "markdown",
   "id": "comprehensive-chrome",
   "metadata": {},
   "source": [
    "# Create Tables that Track Variables Per-Visit\n",
    "Given a category or source, how many variables were collected during each visit."
   ]
  },
  {
   "cell_type": "code",
   "execution_count": null,
   "id": "internal-evidence",
   "metadata": {},
   "outputs": [],
   "source": [
    "import pickle\n",
    "import numpy as np\n",
    "import pandas as pd"
   ]
  },
  {
   "cell_type": "code",
   "execution_count": null,
   "id": "arabic-flooring",
   "metadata": {},
   "outputs": [],
   "source": [
    "# Constants\n",
    "visits = {'P02':'IEI', 'P01':'SV', 'V00':'EV', 'V01':'12m', 'V02':'18m', 'V03':'24m', 'V04':'30m', 'V05':'36m', 'V06':'48m', 'V07':'60m', 'V08':'72m', 'V09':'84m', 'V10':'96m', 'V11':'108m', 'V99':\"Outcomes\"}"
   ]
  },
  {
   "cell_type": "markdown",
   "id": "baking-baltimore",
   "metadata": {},
   "source": [
    "# Grouping variables by category/subcategory and visit"
   ]
  },
  {
   "cell_type": "code",
   "execution_count": null,
   "id": "found-samuel",
   "metadata": {},
   "outputs": [],
   "source": [
    "# Created in 'Parse the VG_Form.pdf for OAI variable categories and sources' notebook\n",
    "vars_cat_df = pickle.load(open('oai_vars_categories_subcategories.pkl', 'rb' ))"
   ]
  },
  {
   "cell_type": "code",
   "execution_count": null,
   "id": "secure-detail",
   "metadata": {},
   "outputs": [],
   "source": [
    "# Use the visit prefix from the variable names to group data by cat/subcat/visit\n",
    "# This is just to get a sense of things\n",
    "tmp_df = vars_cat_df.copy()\n",
    "tmp_df['Visit'] = tmp_df.Variable.str[:3]\n",
    "for visit in visits.keys():\n",
    "    tmp_df[visit] = np.where(tmp_df.Visit == visit, True, False)\n",
    "tmp_df = tmp_df.drop(columns=['Variable', 'Visit'])\n",
    "tmp_df = tmp_df.groupby(['Category', 'Subcategory'], observed=True).sum()\n",
    "\n",
    "pd.set_option('display.max_rows', None)\n",
    "display(tmp_df)"
   ]
  },
  {
   "cell_type": "markdown",
   "id": "applicable-flour",
   "metadata": {},
   "source": [
    "## Dump variable count per cat/subcat and visit into a wiki table"
   ]
  },
  {
   "cell_type": "code",
   "execution_count": null,
   "id": "romance-mitchell",
   "metadata": {},
   "outputs": [],
   "source": [
    "# Dump categories and subcategories into a wiki table\n",
    "# Table lists categories and subcategories and which visits collected any data related to that subcategory\n",
    "\n",
    "table_str = '{| class=\"wikitable\"\\n ! Category !! Subcategory !! ' + ' !! '.join(visits.values())\n",
    "last_cat = ''\n",
    "for group, sub in tmp_df.index:\n",
    "    table_str += '\\n|-\\n'\n",
    "    if group != last_cat:\n",
    "         table_str += '|rowspan=' + str(len(tmp_df.loc[group].index)) + ' | ' + group + '\\n'\n",
    "    table_str += '| ' + sub\n",
    "    for col in visits:\n",
    "        table_str += ' || ' + str(tmp_df.loc[group].loc[sub][col])\n",
    "    last_cat = group\n",
    "table_str += '\\n|}'\n",
    "\n",
    "print(table_str)"
   ]
  },
  {
   "cell_type": "markdown",
   "id": "copyrighted-challenge",
   "metadata": {},
   "source": [
    "# Grouping variables by variable source and visit"
   ]
  },
  {
   "cell_type": "code",
   "execution_count": null,
   "id": "flush-scene",
   "metadata": {},
   "outputs": [],
   "source": [
    "# Created in 'Parse the VG_Form.pdf for OAI variable categories and sources' notebook\n",
    "vars_df = pickle.load(open('oai_vars_labels_sources.pkl', 'rb' ))"
   ]
  },
  {
   "cell_type": "code",
   "execution_count": null,
   "id": "departmental-shift",
   "metadata": {},
   "outputs": [],
   "source": [
    "tmp_df = vars_df.copy()\n",
    "tmp_df['Visit'] = tmp_df.Variable.str[:3]\n",
    "for visit in visits.keys():\n",
    "    tmp_df[visit] = np.where(tmp_df.Visit == visit, True, False)\n",
    "tmp_df = tmp_df.drop(columns=['Variable', 'Visit'])\n",
    "tmp_df = tmp_df.groupby(['Source'], observed=True).sum()\n",
    "\n",
    "pd.set_option('display.max_rows', None)\n",
    "display(tmp_df)"
   ]
  },
  {
   "cell_type": "markdown",
   "id": "international-blast",
   "metadata": {},
   "source": [
    "## Dump variable counts per source and visit into a wiki table"
   ]
  },
  {
   "cell_type": "code",
   "execution_count": null,
   "id": "eight-chance",
   "metadata": {},
   "outputs": [],
   "source": [
    "# Table lists sources and which visits collected any data related to that source\n",
    "table_str = '{| class=\"wikitable\"\\n! Source !! ' + ' !! '.join(visits.values())\n",
    "last_src = ''\n",
    "for src in tmp_df.index:\n",
    "    table_str += '\\n|-\\n'\n",
    "    if src != last_src:\n",
    "        table_str += '| ' + src\n",
    "    for col in visits:\n",
    "        table_str += ' || ' + str(tmp_df.loc[src].loc[col])\n",
    "    last_cat = src\n",
    "table_str += '\\n|}'\n",
    "\n",
    "print(table_str)"
   ]
  }
 ],
 "metadata": {
  "kernelspec": {
   "display_name": "Python 3",
   "language": "python",
   "name": "python3"
  },
  "language_info": {
   "codemirror_mode": {
    "name": "ipython",
    "version": 3
   },
   "file_extension": ".py",
   "mimetype": "text/x-python",
   "name": "python",
   "nbconvert_exporter": "python",
   "pygments_lexer": "ipython3",
   "version": "3.7.8"
  }
 },
 "nbformat": 4,
 "nbformat_minor": 5
}
