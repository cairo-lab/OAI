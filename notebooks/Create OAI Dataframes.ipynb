{
 "cells": [
  {
   "cell_type": "markdown",
   "id": "written-diameter",
   "metadata": {},
   "source": [
    "# Create OAI Dataframes\n",
    "\n",
    "This notebook creates dataframes from reading in all data, and then saves them as pickle files for faster ingestion in other notebooks."
   ]
  },
  {
   "cell_type": "code",
   "execution_count": null,
   "id": "serial-knife",
   "metadata": {},
   "outputs": [],
   "source": [
    "import os\n",
    "import pandas as pd\n",
    "import pickle\n",
    "import pyreadstat\n",
    "from tqdm import tqdm"
   ]
  },
  {
   "cell_type": "code",
   "execution_count": null,
   "id": "scheduled-mailing",
   "metadata": {},
   "outputs": [],
   "source": [
    "# Constants\n",
    "data_dir = '../data/structured_data/'\n",
    "visits = {'P02':'IEI', 'P01':'SV', 'V00':'EV', 'V01':'12m', 'V02':'18m', 'V03':'24m', 'V04':'30m', 'V05':'36m', 'V06':'48m', 'V07':'60m', 'V08':'72m', 'V09':'84m', 'V10':'96m', 'V11':'108m', 'V99':\"Outcomes\"}"
   ]
  },
  {
   "cell_type": "code",
   "execution_count": null,
   "id": "molecular-turtle",
   "metadata": {},
   "outputs": [],
   "source": [
    "# All SAS files\n",
    "all_files = os.listdir(data_dir)\n",
    "all_files = [x for x in all_files if '.sas7bdat' in x]"
   ]
  },
  {
   "cell_type": "code",
   "execution_count": null,
   "id": "detected-swedish",
   "metadata": {},
   "outputs": [],
   "source": [
    "# Given a list of files, read them all in and join them into a single dataframe\n",
    "def create_df(prefix, files, index=None):\n",
    "    fileset = [x for x in files if x.startswith(prefix)]\n",
    "    fileset.sort()\n",
    "\n",
    "    tmp_df_list = []\n",
    "    # for filename in tqdm(fileset):\n",
    "    for filename in fileset:\n",
    "        tmp_df, _ = pyreadstat.read_file_multiprocessing(pyreadstat.read_sas7bdat, data_dir + filename, catalog_file=data_dir + 'formats.sas7bcat', num_processes=6, user_missing=True)\n",
    "        if index:\n",
    "            tmp_df_list.append(tmp_df.set_index(index))\n",
    "        else:\n",
    "            tmp_df_list.append(tmp_df)\n",
    "    tmp_df = pd.concat(tmp_df_list, axis=1)\n",
    "    print(prefix + ' - ' + str(tmp_df.shape))\n",
    "    pickle.dump(tmp_df, open( 'pkl/' + prefix + '_values.pkl', 'wb'))"
   ]
  },
  {
   "cell_type": "markdown",
   "id": "reliable-equation",
   "metadata": {},
   "source": [
    "all_prefix_list = [\n",
    "'Biospec_fnih_joco_demographics',\n",
    "'Clinical_fnih',\n",
    "'acceldatabyday',\n",
    "'acceldatabymin',\n",
    "'accelerometry',\n",
    "'allclinical',\n",
    "'biomarkers',\n",
    "'biospec_fnih_joco_assays',\n",
    "'biospec_fnih_labcorp',\n",
    "'boneancillarystudy',\n",
    "'enrollees',\n",
    "'flxr_kneealign_cooke',\n",
    "'flxr_kneealign_duryea',\n",
    "'kmri_fnih_boneshape_imorphics',\n",
    "'kmri_fnih_qcart_Chondrometrics',\n",
    "'kmri_fnih_qcart_biomediq',\n",
    "'kmri_fnih_sbp_qmetrics',\n",
    "'kmri_fnih_sq_moaks_bicl',\n",
    "'kmri_poma_incoa_moaks_bicl',\n",
    "'kmri_poma_tkr_chondrometrics',\n",
    "'kmri_poma_tkr_moaks_bicl',\n",
    "'kmri_qcart_eckstein',\n",
    "'kmri_qcart_link',\n",
    "'kmri_qcart_vs',\n",
    "'kmri_sq_bicl',\n",
    "'kmri_sq_blksbml_bicl',\n",
    "'kmri_sq_moaks_bicl',\n",
    "'kmri_sq_worms_link',\n",
    "'kxr_fnih_bti_duke',\n",
    "'kxr_fta_duryea',\n",
    "'kxr_qjsw_duryea',\n",
    "'kxr_qjsw_rel_duryea',\n",
    "'kxr_sq_bu',\n",
    "'kxr_sq_rel_bu',\n",
    "'measinventory',\n",
    "'mif',\n",
    "'mri',\n",
    "'outcomes',\n",
    "'sageancillarystudy',\n",
    "'sageancillarystudy_formats',\n",
    "'subjectchar',\n",
    "'xray']"
   ]
  },
  {
   "cell_type": "markdown",
   "id": "organic-research",
   "metadata": {},
   "source": [
    "## Files indexed by 'ID'"
   ]
  },
  {
   "cell_type": "code",
   "execution_count": null,
   "id": "collected-certificate",
   "metadata": {},
   "outputs": [],
   "source": [
    "prefix_list = [\n",
    "'Clinical_fnih',\n",
    "'allclinical',\n",
    "'biomarkers',\n",
    "'biospec_fnih_labcorp',\n",
    "'boneancillarystudy',\n",
    "'enrollees',\n",
    "'kmri_fnih_boneshape_imorphics',\n",
    "'kmri_fnih_qcart_Chondrometrics',\n",
    "'kmri_fnih_qcart_biomediq',\n",
    "'kmri_fnih_sbp_qmetrics',\n",
    "'kmri_fnih_sq_moaks_bicl',\n",
    "'kmri_poma_incoa_moaks_bicl',\n",
    "'kmri_qcart_link',\n",
    "'kmri_qcart_vs',\n",
    "'kmri_sq_bicl',\n",
    "'kmri_sq_blksbml_bicl',\n",
    "'kmri_sq_worms_link',\n",
    "'kxr_fnih_bti_duke',\n",
    "'sageancillarystudy.sas7bdat',\n",
    "'subjectchar']\n",
    "\n",
    "for prefix in prefix_list:\n",
    "    create_df(prefix, all_files, 'ID')"
   ]
  },
  {
   "cell_type": "markdown",
   "id": "global-arrow",
   "metadata": {},
   "source": [
    "## Files indexed by 'id'"
   ]
  },
  {
   "cell_type": "code",
   "execution_count": null,
   "id": "asian-whole",
   "metadata": {},
   "outputs": [],
   "source": [
    "prefix_list = [\n",
    "'kmri_poma_tkr_chondrometrics',\n",
    "'kmri_poma_tkr_moaks_bicl',\n",
    "'measinventory',\n",
    "'outcomes'\n",
    "]\n",
    "\n",
    "for prefix in prefix_list:\n",
    "    create_df(prefix, all_files, 'id')"
   ]
  },
  {
   "cell_type": "markdown",
   "id": "deluxe-current",
   "metadata": {},
   "source": [
    "## Files with no index"
   ]
  },
  {
   "cell_type": "code",
   "execution_count": null,
   "id": "blessed-holocaust",
   "metadata": {},
   "outputs": [],
   "source": [
    "prefix_list = [\n",
    "'acceldatabyday',\n",
    "'acceldatabymin',\n",
    "'accelerometry',\n",
    "'flxr_kneealign_cooke',\n",
    "'flxr_kneealign_duryea',\n",
    "'kmri_qcart_eckstein',\n",
    "'kmri_sq_moaks_bicl',\n",
    "'kxr_fta_duryea',\n",
    "'kxr_qjsw_duryea',\n",
    "'kxr_qjsw_rel_duryea',\n",
    "'kxr_sq_bu',\n",
    "'kxr_sq_rel_bu',\n",
    "'mif',\n",
    "'mri',\n",
    "'xray']\n",
    "\n",
    "for prefix in prefix_list:\n",
    "    create_df(prefix, all_files)"
   ]
  },
  {
   "cell_type": "markdown",
   "id": "infinite-throw",
   "metadata": {},
   "source": [
    "## Files indexed by SpecID"
   ]
  },
  {
   "cell_type": "code",
   "execution_count": null,
   "id": "efficient-healthcare",
   "metadata": {},
   "outputs": [],
   "source": [
    "prefix_list = [\n",
    " 'Biospec_fnih_joco_demographics',\n",
    " 'biospec_fnih_joco_assays'\n",
    "]\n",
    "\n",
    "for prefix in prefix_list:\n",
    "    create_df(prefix, all_files, 'SpecID')"
   ]
  },
  {
   "cell_type": "markdown",
   "id": "circular-albert",
   "metadata": {},
   "source": [
    "## Unknown\n",
    "TODO: Figure out what 'sageancillarystudy_formats.sas7bdat' is. Is it a mis-named sas7bcat file? Doesn't seem to be a standard data file."
   ]
  }
 ],
 "metadata": {
  "kernelspec": {
   "display_name": "Python 3",
   "language": "python",
   "name": "python3"
  },
  "language_info": {
   "codemirror_mode": {
    "name": "ipython",
    "version": 3
   },
   "file_extension": ".py",
   "mimetype": "text/x-python",
   "name": "python",
   "nbconvert_exporter": "python",
   "pygments_lexer": "ipython3",
   "version": "3.7.8"
  }
 },
 "nbformat": 4,
 "nbformat_minor": 5
}
